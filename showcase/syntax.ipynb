{
 "cells": [
  {
   "cell_type": "raw",
   "id": "8f2647b4",
   "metadata": {},
   "source": [
    "---\n",
    "title: \"Vinyl Syntax\"\n",
    "format: \"mintlify-md\"\n",
    "icon: language\n",
    "---"
   ]
  },
  {
   "cell_type": "code",
   "execution_count": null,
   "id": "7c339fae",
   "metadata": {
    "lines_to_next_cell": 2
   },
   "outputs": [],
   "source": []
  },
  {
   "cell_type": "markdown",
   "id": "b44935dd",
   "metadata": {},
   "source": [
    "<AccordionGroup>"
   ]
  },
  {
   "cell_type": "markdown",
   "id": "b0f60c96",
   "metadata": {},
   "source": [
    "<Accordion title=\"Basic syntax\" defaultOpen=\"true\">"
   ]
  },
  {
   "cell_type": "code",
   "execution_count": 1,
   "id": "b8d1b03b",
   "metadata": {
    "execution": {
     "iopub.execute_input": "2024-03-08T17:20:19.960681Z",
     "iopub.status.busy": "2024-03-08T17:20:19.960208Z",
     "iopub.status.idle": "2024-03-08T17:20:20.616781Z",
     "shell.execute_reply": "2024-03-08T17:20:20.616315Z"
    }
   },
   "outputs": [],
   "source": [
    "# | echo: false\n",
    "from vinyl.examples import cars\n",
    "\n",
    "car = cars()"
   ]
  },
  {
   "cell_type": "code",
   "execution_count": 2,
   "id": "edd842e7",
   "metadata": {
    "execution": {
     "iopub.execute_input": "2024-03-08T17:20:20.619624Z",
     "iopub.status.busy": "2024-03-08T17:20:20.619370Z",
     "iopub.status.idle": "2024-03-08T17:20:20.623187Z",
     "shell.execute_reply": "2024-03-08T17:20:20.622906Z"
    }
   },
   "outputs": [],
   "source": [
    "with car as c:\n",
    "    c.select([c.Name, c.Horsepower], sort=c.Year)\n",
    "    c.limit(10)"
   ]
  },
  {
   "cell_type": "markdown",
   "id": "1fa9af2d",
   "metadata": {},
   "source": [
    "::: {.panel-tabset}"
   ]
  },
  {
   "cell_type": "markdown",
   "id": "b6bb7301",
   "metadata": {},
   "source": [
    "#### SQL\n"
   ]
  },
  {
   "cell_type": "code",
   "execution_count": 3,
   "id": "eeef5c6f",
   "metadata": {
    "execution": {
     "iopub.execute_input": "2024-03-08T17:20:20.624888Z",
     "iopub.status.busy": "2024-03-08T17:20:20.624814Z",
     "iopub.status.idle": "2024-03-08T17:20:20.632955Z",
     "shell.execute_reply": "2024-03-08T17:20:20.632170Z"
    }
   },
   "outputs": [
    {
     "data": {
      "text/html": [
       "<pre style=\"white-space:pre;overflow-x:auto;line-height:normal;font-family:Menlo,'DejaVu Sans Mono',consolas,'Courier New',monospace\">SELECT\n",
       "  <span style=\"color: #008000; text-decoration-color: #008000\">\"t0\"</span>.<span style=\"color: #008000; text-decoration-color: #008000\">\"Year\"</span>,\n",
       "  <span style=\"color: #008000; text-decoration-color: #008000\">\"t0\"</span>.<span style=\"color: #008000; text-decoration-color: #008000\">\"Name\"</span>,\n",
       "  <span style=\"color: #008000; text-decoration-color: #008000\">\"t0\"</span>.<span style=\"color: #008000; text-decoration-color: #008000\">\"Horsepower\"</span>\n",
       "FROM <span style=\"color: #008000; text-decoration-color: #008000\">\"cars\"</span> AS <span style=\"color: #008000; text-decoration-color: #008000\">\"t0\"</span>\n",
       "ORDER BY\n",
       "  <span style=\"color: #008000; text-decoration-color: #008000\">\"t0\"</span>.<span style=\"color: #008000; text-decoration-color: #008000\">\"Year\"</span> ASC\n",
       "LIMIT <span style=\"color: #008080; text-decoration-color: #008080; font-weight: bold\">10</span>\n",
       "</pre>\n"
      ],
      "text/plain": [
       "SELECT\n",
       "  \u001b[32m\"t0\"\u001b[0m.\u001b[32m\"Year\"\u001b[0m,\n",
       "  \u001b[32m\"t0\"\u001b[0m.\u001b[32m\"Name\"\u001b[0m,\n",
       "  \u001b[32m\"t0\"\u001b[0m.\u001b[32m\"Horsepower\"\u001b[0m\n",
       "FROM \u001b[32m\"cars\"\u001b[0m AS \u001b[32m\"t0\"\u001b[0m\n",
       "ORDER BY\n",
       "  \u001b[32m\"t0\"\u001b[0m.\u001b[32m\"Year\"\u001b[0m ASC\n",
       "LIMIT \u001b[1;36m10\u001b[0m\n"
      ]
     },
     "metadata": {},
     "output_type": "display_data"
    }
   ],
   "source": [
    "# | echo: false\n",
    "print(c.to_sql())"
   ]
  },
  {
   "cell_type": "markdown",
   "id": "78205894",
   "metadata": {},
   "source": [
    "#### Result"
   ]
  },
  {
   "cell_type": "code",
   "execution_count": 4,
   "id": "d51ff17b",
   "metadata": {
    "execution": {
     "iopub.execute_input": "2024-03-08T17:20:20.634679Z",
     "iopub.status.busy": "2024-03-08T17:20:20.634599Z",
     "iopub.status.idle": "2024-03-08T17:20:20.643728Z",
     "shell.execute_reply": "2024-03-08T17:20:20.643195Z"
    }
   },
   "outputs": [
    {
     "data": {
      "text/html": [
       "<pre style=\"white-space:pre;overflow-x:auto;line-height:normal;font-family:Menlo,'DejaVu Sans Mono',consolas,'Courier New',monospace\">┏━━━━━━━━━━━━━━━━━━━━━┳━━━━━━━━━━━━━━━━━━━━━━━━━━━┳━━━━━━━━━━━━┓\n",
       "┃<span style=\"font-weight: bold\"> Year                </span>┃<span style=\"font-weight: bold\"> Name                      </span>┃<span style=\"font-weight: bold\"> Horsepower </span>┃\n",
       "┡━━━━━━━━━━━━━━━━━━━━━╇━━━━━━━━━━━━━━━━━━━━━━━━━━━╇━━━━━━━━━━━━┩\n",
       "│ <span style=\"color: #7f7f7f; text-decoration-color: #7f7f7f\">timestamp(6)</span>        │ <span style=\"color: #7f7f7f; text-decoration-color: #7f7f7f\">string</span>                    │ <span style=\"color: #7f7f7f; text-decoration-color: #7f7f7f\">float64</span>    │\n",
       "├─────────────────────┼───────────────────────────┼────────────┤\n",
       "│ <span style=\"color: #800080; text-decoration-color: #800080\">1970-01-01 00:00:00</span> │ <span style=\"color: #008000; text-decoration-color: #008000\">chevrolet chevelle malibu</span> │      <span style=\"color: #008080; text-decoration-color: #008080; font-weight: bold\">130.0</span> │\n",
       "│ <span style=\"color: #800080; text-decoration-color: #800080\">1970-01-01 00:00:00</span> │ <span style=\"color: #008000; text-decoration-color: #008000\">buick skylark 320        </span> │      <span style=\"color: #008080; text-decoration-color: #008080; font-weight: bold\">165.0</span> │\n",
       "│ <span style=\"color: #800080; text-decoration-color: #800080\">1970-01-01 00:00:00</span> │ <span style=\"color: #008000; text-decoration-color: #008000\">plymouth satellite       </span> │      <span style=\"color: #008080; text-decoration-color: #008080; font-weight: bold\">150.0</span> │\n",
       "│ <span style=\"color: #800080; text-decoration-color: #800080\">1970-01-01 00:00:00</span> │ <span style=\"color: #008000; text-decoration-color: #008000\">amc rebel sst            </span> │      <span style=\"color: #008080; text-decoration-color: #008080; font-weight: bold\">150.0</span> │\n",
       "│ <span style=\"color: #800080; text-decoration-color: #800080\">1970-01-01 00:00:00</span> │ <span style=\"color: #008000; text-decoration-color: #008000\">ford torino              </span> │      <span style=\"color: #008080; text-decoration-color: #008080; font-weight: bold\">140.0</span> │\n",
       "│ <span style=\"color: #800080; text-decoration-color: #800080\">1970-01-01 00:00:00</span> │ <span style=\"color: #008000; text-decoration-color: #008000\">ford galaxie 500         </span> │      <span style=\"color: #008080; text-decoration-color: #008080; font-weight: bold\">198.0</span> │\n",
       "│ <span style=\"color: #800080; text-decoration-color: #800080\">1970-01-01 00:00:00</span> │ <span style=\"color: #008000; text-decoration-color: #008000\">chevrolet impala         </span> │      <span style=\"color: #008080; text-decoration-color: #008080; font-weight: bold\">220.0</span> │\n",
       "│ <span style=\"color: #800080; text-decoration-color: #800080\">1970-01-01 00:00:00</span> │ <span style=\"color: #008000; text-decoration-color: #008000\">plymouth fury iii        </span> │      <span style=\"color: #008080; text-decoration-color: #008080; font-weight: bold\">215.0</span> │\n",
       "│ <span style=\"color: #800080; text-decoration-color: #800080\">1970-01-01 00:00:00</span> │ <span style=\"color: #008000; text-decoration-color: #008000\">pontiac catalina         </span> │      <span style=\"color: #008080; text-decoration-color: #008080; font-weight: bold\">225.0</span> │\n",
       "│ <span style=\"color: #800080; text-decoration-color: #800080\">1970-01-01 00:00:00</span> │ <span style=\"color: #008000; text-decoration-color: #008000\">amc ambassador dpl       </span> │      <span style=\"color: #008080; text-decoration-color: #008080; font-weight: bold\">190.0</span> │\n",
       "└─────────────────────┴───────────────────────────┴────────────┘\n",
       "</pre>\n"
      ],
      "text/plain": [
       "┏━━━━━━━━━━━━━━━━━━━━━┳━━━━━━━━━━━━━━━━━━━━━━━━━━━┳━━━━━━━━━━━━┓\n",
       "┃\u001b[1m \u001b[0m\u001b[1mYear\u001b[0m\u001b[1m               \u001b[0m\u001b[1m \u001b[0m┃\u001b[1m \u001b[0m\u001b[1mName\u001b[0m\u001b[1m                     \u001b[0m\u001b[1m \u001b[0m┃\u001b[1m \u001b[0m\u001b[1mHorsepower\u001b[0m\u001b[1m \u001b[0m┃\n",
       "┡━━━━━━━━━━━━━━━━━━━━━╇━━━━━━━━━━━━━━━━━━━━━━━━━━━╇━━━━━━━━━━━━┩\n",
       "│ \u001b[2mtimestamp(6)\u001b[0m        │ \u001b[2mstring\u001b[0m                    │ \u001b[2mfloat64\u001b[0m    │\n",
       "├─────────────────────┼───────────────────────────┼────────────┤\n",
       "│ \u001b[35m1970-01-01 00:00:00\u001b[0m │ \u001b[32mchevrolet chevelle malibu\u001b[0m │      \u001b[1;36m130.0\u001b[0m │\n",
       "│ \u001b[35m1970-01-01 00:00:00\u001b[0m │ \u001b[32mbuick skylark 320        \u001b[0m │      \u001b[1;36m165.0\u001b[0m │\n",
       "│ \u001b[35m1970-01-01 00:00:00\u001b[0m │ \u001b[32mplymouth satellite       \u001b[0m │      \u001b[1;36m150.0\u001b[0m │\n",
       "│ \u001b[35m1970-01-01 00:00:00\u001b[0m │ \u001b[32mamc rebel sst            \u001b[0m │      \u001b[1;36m150.0\u001b[0m │\n",
       "│ \u001b[35m1970-01-01 00:00:00\u001b[0m │ \u001b[32mford torino              \u001b[0m │      \u001b[1;36m140.0\u001b[0m │\n",
       "│ \u001b[35m1970-01-01 00:00:00\u001b[0m │ \u001b[32mford galaxie 500         \u001b[0m │      \u001b[1;36m198.0\u001b[0m │\n",
       "│ \u001b[35m1970-01-01 00:00:00\u001b[0m │ \u001b[32mchevrolet impala         \u001b[0m │      \u001b[1;36m220.0\u001b[0m │\n",
       "│ \u001b[35m1970-01-01 00:00:00\u001b[0m │ \u001b[32mplymouth fury iii        \u001b[0m │      \u001b[1;36m215.0\u001b[0m │\n",
       "│ \u001b[35m1970-01-01 00:00:00\u001b[0m │ \u001b[32mpontiac catalina         \u001b[0m │      \u001b[1;36m225.0\u001b[0m │\n",
       "│ \u001b[35m1970-01-01 00:00:00\u001b[0m │ \u001b[32mamc ambassador dpl       \u001b[0m │      \u001b[1;36m190.0\u001b[0m │\n",
       "└─────────────────────┴───────────────────────────┴────────────┘\n"
      ]
     },
     "metadata": {},
     "output_type": "display_data"
    }
   ],
   "source": [
    "# | echo: false\n",
    "print(c.execute(\"text\"))"
   ]
  },
  {
   "cell_type": "markdown",
   "id": "60c403ce",
   "metadata": {},
   "source": [
    "#### AST"
   ]
  },
  {
   "cell_type": "code",
   "execution_count": 5,
   "id": "6c792ea2",
   "metadata": {
    "execution": {
     "iopub.execute_input": "2024-03-08T17:20:20.645810Z",
     "iopub.status.busy": "2024-03-08T17:20:20.645363Z",
     "iopub.status.idle": "2024-03-08T17:20:20.650999Z",
     "shell.execute_reply": "2024-03-08T17:20:20.650247Z"
    }
   },
   "outputs": [
    {
     "data": {
      "text/plain": [
       "r0 := DatabaseTable: cars\n",
       "  Name             string\n",
       "  Miles_per_Gallon float64\n",
       "  Cylinders        int64\n",
       "  Displacement     float64\n",
       "  Horsepower       float64\n",
       "  Weight_in_lbs    int64\n",
       "  Acceleration     float64\n",
       "  Year             timestamp(6)\n",
       "  Origin           string\n",
       "\n",
       "r1 := Project[r0]\n",
       "  Year:       r0.Year\n",
       "  Name:       r0.Name\n",
       "  Horsepower: r0.Horsepower\n",
       "\n",
       "r2 := Sort[r1]\n",
       "  asc r1.Year\n",
       "\n",
       "Limit[r2, n=10]"
      ]
     },
     "execution_count": 5,
     "metadata": {},
     "output_type": "execute_result"
    }
   ],
   "source": [
    "# | echo: false\n",
    "c"
   ]
  },
  {
   "cell_type": "markdown",
   "id": "7cc62d1f",
   "metadata": {},
   "source": [
    "#### AST graph\n"
   ]
  },
  {
   "cell_type": "code",
   "execution_count": 6,
   "id": "1accaf71",
   "metadata": {
    "execution": {
     "iopub.execute_input": "2024-03-08T17:20:20.653370Z",
     "iopub.status.busy": "2024-03-08T17:20:20.652973Z",
     "iopub.status.idle": "2024-03-08T17:20:21.064366Z",
     "shell.execute_reply": "2024-03-08T17:20:21.063941Z"
    }
   },
   "outputs": [
    {
     "data": {
      "text/html": [
       "<pre style=\"white-space:pre;overflow-x:auto;line-height:normal;font-family:Menlo,'DejaVu Sans Mono',consolas,'Courier New',monospace\">                                                   ╭────────────────────────╮             \n",
       "                                                   │ <span style=\"font-weight: bold\">Limit</span>                  │             \n",
       "                                                   │ <span style=\"font-weight: bold\">   </span><span style=\"font-weight: bold; font-style: italic\">Year: </span><span style=\"color: #008080; text-decoration-color: #008080; font-weight: bold; font-style: italic\">timestamp(6)</span>  │             \n",
       "                                                   │ <span style=\"font-weight: bold\">   </span><span style=\"font-weight: bold; font-style: italic\">Name: </span><span style=\"color: #ffaf00; text-decoration-color: #ffaf00; font-weight: bold; font-style: italic\">string</span>        │             \n",
       "                                                   │ <span style=\"font-weight: bold\">   </span><span style=\"font-weight: bold; font-style: italic\">Horsepower: </span><span style=\"color: #808000; text-decoration-color: #808000; font-weight: bold; font-style: italic\">float64</span> │             \n",
       "                                                   ╰────────────────────────╯             \n",
       "                                                                ▲                         \n",
       "                                                                │                         \n",
       "                                                                │                         \n",
       "                                                                │                         \n",
       "                                                   ╭────────────────────────╮             \n",
       "                                                   │ <span style=\"font-weight: bold\">Sort</span>                   │             \n",
       "                                                   │ <span style=\"font-weight: bold\">   </span><span style=\"font-weight: bold; font-style: italic\">Year: </span><span style=\"color: #008080; text-decoration-color: #008080; font-weight: bold; font-style: italic\">timestamp(6)</span>  │             \n",
       "                                             ╭────▶│ <span style=\"font-weight: bold\">   </span><span style=\"font-weight: bold; font-style: italic\">Name: </span><span style=\"color: #ffaf00; text-decoration-color: #ffaf00; font-weight: bold; font-style: italic\">string</span>        │             \n",
       "                                             │     │ <span style=\"font-weight: bold\">   </span><span style=\"font-weight: bold; font-style: italic\">Horsepower: </span><span style=\"color: #808000; text-decoration-color: #808000; font-weight: bold; font-style: italic\">float64</span> │             \n",
       "                                             │     ╰────────────────────────╯             \n",
       "                                             │                  ▲                         \n",
       "                                             │                  │                         \n",
       "                                             │                  │                         \n",
       "                                             │                  │                         \n",
       "                                  ╭────────────────────╮        │                         \n",
       "                                  │ <span style=\"font-weight: bold\">SortKey</span>            │        │                         \n",
       "                                  │ <span style=\"font-weight: bold\">   :: </span><span style=\"color: #008080; text-decoration-color: #008080; font-weight: bold\">timestamp(6)</span> │        │                         \n",
       "                                  ╰────────────────────╯        │                         \n",
       "                                             ▲                  │                         \n",
       "                                             │                  │                         \n",
       "                                             │                  │                         \n",
       "                                             │                  │                         \n",
       "                                  ╭────────────────────╮        │                         \n",
       "                                  │ <span style=\"font-style: italic\">Year: </span><span style=\"font-weight: bold; font-style: italic\">Field</span>        │        │                         \n",
       "                                  │ <span style=\"font-style: italic\">   :: </span><span style=\"color: #008080; text-decoration-color: #008080; font-style: italic\">timestamp(6)</span> │        │                         \n",
       "                                  ╰────────────────────╯        │                         \n",
       "                                             ▲                  │                         \n",
       "                                             │                  │                         \n",
       "                                             │                  │                         \n",
       "                                             ╰──────────────────│                         \n",
       "                                                   ╭────────────────────────╮             \n",
       "                                                   │ <span style=\"font-weight: bold\">Project</span>                │             \n",
       "                                                   │ <span style=\"font-weight: bold\">   </span><span style=\"font-weight: bold; font-style: italic\">Year: </span><span style=\"color: #008080; text-decoration-color: #008080; font-weight: bold; font-style: italic\">timestamp(6)</span>  │             \n",
       "           ╭──────────────────────────────────────▶│ <span style=\"font-weight: bold\">   </span><span style=\"font-weight: bold; font-style: italic\">Name: </span><span style=\"color: #ffaf00; text-decoration-color: #ffaf00; font-weight: bold; font-style: italic\">string</span>        │◀─╮          \n",
       "           │                                       │ <span style=\"font-weight: bold\">   </span><span style=\"font-weight: bold; font-style: italic\">Horsepower: </span><span style=\"color: #808000; text-decoration-color: #808000; font-weight: bold; font-style: italic\">float64</span> │  │          \n",
       "           │                                       ╰────────────────────────╯  │          \n",
       "           │                                                    ▲              │          \n",
       "           │                                           ╭────────│              │          \n",
       "           │                                           │        │              │          \n",
       "           │                                           │        │              │          \n",
       "╭────────────────────╮                ╭──────────────╮ │        │    ╭───────────────────╮\n",
       "│ <span style=\"font-style: italic\">Year: </span><span style=\"font-weight: bold; font-style: italic\">Field</span>        │                │ <span style=\"font-style: italic\">Name: </span><span style=\"font-weight: bold; font-style: italic\">Field</span>  │ │        │    │ <span style=\"font-style: italic\">Horsepower: </span><span style=\"font-weight: bold; font-style: italic\">Field</span> │\n",
       "│ <span style=\"font-style: italic\">   :: </span><span style=\"color: #008080; text-decoration-color: #008080; font-style: italic\">timestamp(6)</span> │                │ <span style=\"font-style: italic\">   :: </span><span style=\"color: #ffaf00; text-decoration-color: #ffaf00; font-style: italic\">string</span> │─╯        │    │ <span style=\"font-style: italic\">   :: </span><span style=\"color: #808000; text-decoration-color: #808000; font-style: italic\">float64</span>     │\n",
       "╰────────────────────╯                ╰──────────────╯          │    ╰───────────────────╯\n",
       "           ▲                                  ▲                 │              ▲          \n",
       "           │                                  │                 │              │          \n",
       "           │                                  │                 │              │          \n",
       "           │                                  │                 │              │          \n",
       "           │                                  │ ╭──────────────────────────────╮          \n",
       "           │                                  │ │ <span style=\"font-style: italic\">cars: </span><span style=\"font-weight: bold; font-style: italic\">DatabaseTable</span>          │          \n",
       "           │                                  │ │ <span style=\"font-style: italic\">   Name: </span><span style=\"color: #ffaf00; text-decoration-color: #ffaf00; font-style: italic\">string</span>              │          \n",
       "           │                                  │ │ <span style=\"font-style: italic\">   Miles_per_Gallon: </span><span style=\"color: #808000; text-decoration-color: #808000; font-style: italic\">float64</span> │          \n",
       "           │                                  │ │ <span style=\"font-style: italic\">   Cylinders: </span><span style=\"color: #808000; text-decoration-color: #808000; font-style: italic\">int64</span>          │          \n",
       "           │                                  │ │ <span style=\"font-style: italic\">   Displacement: </span><span style=\"color: #808000; text-decoration-color: #808000; font-style: italic\">float64</span>     │          \n",
       "           ╰────────────────────────────────────│ <span style=\"font-style: italic\">   Horsepower: </span><span style=\"color: #808000; text-decoration-color: #808000; font-style: italic\">float64</span>       │          \n",
       "                                                │ <span style=\"font-style: italic\">   Weight_in_lbs: </span><span style=\"color: #808000; text-decoration-color: #808000; font-style: italic\">int64</span>      │          \n",
       "                                                │ <span style=\"font-style: italic\">   Acceleration: </span><span style=\"color: #808000; text-decoration-color: #808000; font-style: italic\">float64</span>     │          \n",
       "                                                │ <span style=\"font-style: italic\">   Year: </span><span style=\"color: #008080; text-decoration-color: #008080; font-style: italic\">timestamp(6)</span>        │          \n",
       "                                                │ <span style=\"font-style: italic\">   Origin: </span><span style=\"color: #ffaf00; text-decoration-color: #ffaf00; font-style: italic\">string</span>            │          \n",
       "                                                ╰──────────────────────────────╯          \n",
       "</pre>\n"
      ],
      "text/plain": [
       "                                                   ╭────────────────────────╮             \n",
       "                                                   │ \u001b[1mLimit\u001b[0m                  │             \n",
       "                                                   │ \u001b[1m   \u001b[0m\u001b[1;3mYear: \u001b[0m\u001b[1;3;36mtimestamp(6)\u001b[0m  │             \n",
       "                                                   │ \u001b[1m   \u001b[0m\u001b[1;3mName: \u001b[0m\u001b[1;3;38;5;214mstring\u001b[0m        │             \n",
       "                                                   │ \u001b[1m   \u001b[0m\u001b[1;3mHorsepower: \u001b[0m\u001b[1;3;33mfloat64\u001b[0m │             \n",
       "                                                   ╰────────────────────────╯             \n",
       "                                                                ▲                         \n",
       "                                                                │                         \n",
       "                                                                │                         \n",
       "                                                                │                         \n",
       "                                                   ╭────────────────────────╮             \n",
       "                                                   │ \u001b[1mSort\u001b[0m                   │             \n",
       "                                                   │ \u001b[1m   \u001b[0m\u001b[1;3mYear: \u001b[0m\u001b[1;3;36mtimestamp(6)\u001b[0m  │             \n",
       "                                             ╭────▶│ \u001b[1m   \u001b[0m\u001b[1;3mName: \u001b[0m\u001b[1;3;38;5;214mstring\u001b[0m        │             \n",
       "                                             │     │ \u001b[1m   \u001b[0m\u001b[1;3mHorsepower: \u001b[0m\u001b[1;3;33mfloat64\u001b[0m │             \n",
       "                                             │     ╰────────────────────────╯             \n",
       "                                             │                  ▲                         \n",
       "                                             │                  │                         \n",
       "                                             │                  │                         \n",
       "                                             │                  │                         \n",
       "                                  ╭────────────────────╮        │                         \n",
       "                                  │ \u001b[1mSortKey\u001b[0m            │        │                         \n",
       "                                  │ \u001b[1m   :: \u001b[0m\u001b[1;36mtimestamp(6)\u001b[0m │        │                         \n",
       "                                  ╰────────────────────╯        │                         \n",
       "                                             ▲                  │                         \n",
       "                                             │                  │                         \n",
       "                                             │                  │                         \n",
       "                                             │                  │                         \n",
       "                                  ╭────────────────────╮        │                         \n",
       "                                  │ \u001b[3mYear: \u001b[0m\u001b[1;3mField\u001b[0m        │        │                         \n",
       "                                  │ \u001b[3m   :: \u001b[0m\u001b[3;36mtimestamp(6)\u001b[0m │        │                         \n",
       "                                  ╰────────────────────╯        │                         \n",
       "                                             ▲                  │                         \n",
       "                                             │                  │                         \n",
       "                                             │                  │                         \n",
       "                                             ╰──────────────────│                         \n",
       "                                                   ╭────────────────────────╮             \n",
       "                                                   │ \u001b[1mProject\u001b[0m                │             \n",
       "                                                   │ \u001b[1m   \u001b[0m\u001b[1;3mYear: \u001b[0m\u001b[1;3;36mtimestamp(6)\u001b[0m  │             \n",
       "           ╭──────────────────────────────────────▶│ \u001b[1m   \u001b[0m\u001b[1;3mName: \u001b[0m\u001b[1;3;38;5;214mstring\u001b[0m        │◀─╮          \n",
       "           │                                       │ \u001b[1m   \u001b[0m\u001b[1;3mHorsepower: \u001b[0m\u001b[1;3;33mfloat64\u001b[0m │  │          \n",
       "           │                                       ╰────────────────────────╯  │          \n",
       "           │                                                    ▲              │          \n",
       "           │                                           ╭────────│              │          \n",
       "           │                                           │        │              │          \n",
       "           │                                           │        │              │          \n",
       "╭────────────────────╮                ╭──────────────╮ │        │    ╭───────────────────╮\n",
       "│ \u001b[3mYear: \u001b[0m\u001b[1;3mField\u001b[0m        │                │ \u001b[3mName: \u001b[0m\u001b[1;3mField\u001b[0m  │ │        │    │ \u001b[3mHorsepower: \u001b[0m\u001b[1;3mField\u001b[0m │\n",
       "│ \u001b[3m   :: \u001b[0m\u001b[3;36mtimestamp(6)\u001b[0m │                │ \u001b[3m   :: \u001b[0m\u001b[3;38;5;214mstring\u001b[0m │─╯        │    │ \u001b[3m   :: \u001b[0m\u001b[3;33mfloat64\u001b[0m     │\n",
       "╰────────────────────╯                ╰──────────────╯          │    ╰───────────────────╯\n",
       "           ▲                                  ▲                 │              ▲          \n",
       "           │                                  │                 │              │          \n",
       "           │                                  │                 │              │          \n",
       "           │                                  │                 │              │          \n",
       "           │                                  │ ╭──────────────────────────────╮          \n",
       "           │                                  │ │ \u001b[3mcars: \u001b[0m\u001b[1;3mDatabaseTable\u001b[0m          │          \n",
       "           │                                  │ │ \u001b[3m   \u001b[0m\u001b[3mName: \u001b[0m\u001b[3;38;5;214mstring\u001b[0m              │          \n",
       "           │                                  │ │ \u001b[3m   \u001b[0m\u001b[3mMiles_per_Gallon: \u001b[0m\u001b[3;33mfloat64\u001b[0m │          \n",
       "           │                                  │ │ \u001b[3m   \u001b[0m\u001b[3mCylinders: \u001b[0m\u001b[3;33mint64\u001b[0m          │          \n",
       "           │                                  │ │ \u001b[3m   \u001b[0m\u001b[3mDisplacement: \u001b[0m\u001b[3;33mfloat64\u001b[0m     │          \n",
       "           ╰────────────────────────────────────│ \u001b[3m   \u001b[0m\u001b[3mHorsepower: \u001b[0m\u001b[3;33mfloat64\u001b[0m       │          \n",
       "                                                │ \u001b[3m   \u001b[0m\u001b[3mWeight_in_lbs: \u001b[0m\u001b[3;33mint64\u001b[0m      │          \n",
       "                                                │ \u001b[3m   \u001b[0m\u001b[3mAcceleration: \u001b[0m\u001b[3;33mfloat64\u001b[0m     │          \n",
       "                                                │ \u001b[3m   \u001b[0m\u001b[3mYear: \u001b[0m\u001b[3;36mtimestamp(6)\u001b[0m        │          \n",
       "                                                │ \u001b[3m   \u001b[0m\u001b[3mOrigin: \u001b[0m\u001b[3;38;5;214mstring\u001b[0m            │          \n",
       "                                                ╰──────────────────────────────╯          \n"
      ]
     },
     "metadata": {},
     "output_type": "display_data"
    }
   ],
   "source": [
    "# | echo: false\n",
    "c.visualize()"
   ]
  },
  {
   "cell_type": "markdown",
   "id": "6c488436",
   "metadata": {},
   "source": [
    ":::"
   ]
  },
  {
   "cell_type": "markdown",
   "id": "e2040ca2",
   "metadata": {},
   "source": [
    "</Accordion>"
   ]
  },
  {
   "cell_type": "markdown",
   "id": "a87b1205",
   "metadata": {},
   "source": [
    "<Accordion title=\"Null handling\">"
   ]
  },
  {
   "cell_type": "code",
   "execution_count": 7,
   "id": "0865fcc0",
   "metadata": {
    "execution": {
     "iopub.execute_input": "2024-03-08T17:20:21.066524Z",
     "iopub.status.busy": "2024-03-08T17:20:21.066329Z",
     "iopub.status.idle": "2024-03-08T17:20:21.090743Z",
     "shell.execute_reply": "2024-03-08T17:20:21.090442Z"
    }
   },
   "outputs": [],
   "source": [
    "# | echo: false\n",
    "from vinyl.constructors import if_else\n",
    "from vinyl.examples import birdstrikes\n",
    "\n",
    "birdstrikes = birdstrikes()\n",
    "\n",
    "birdstrikes = birdstrikes.define_all(\n",
    "    birdstrikes.Effect__Amount_of_damage,\n",
    "    f=[lambda x: if_else(x == \"None\", None, x)],\n",
    ")\n",
    "birdstrikes = birdstrikes._create_view(\"birdstrikes\")"
   ]
  },
  {
   "cell_type": "code",
   "execution_count": 8,
   "id": "79a3ebaa",
   "metadata": {
    "execution": {
     "iopub.execute_input": "2024-03-08T17:20:21.092756Z",
     "iopub.status.busy": "2024-03-08T17:20:21.092656Z",
     "iopub.status.idle": "2024-03-08T17:20:21.097168Z",
     "shell.execute_reply": "2024-03-08T17:20:21.096800Z"
    }
   },
   "outputs": [],
   "source": [
    "from vinyl.constructors import coalesce\n",
    "\n",
    "with birdstrikes as b:\n",
    "    b.filter(b.Effect__Amount_of_damage == None)\n",
    "    b.filter(b.Airport__Name != None)\n",
    "    b.select({\"airport_name\": coalesce(b.Airport__Name, \"Unknown\")})"
   ]
  },
  {
   "cell_type": "markdown",
   "id": "0a9d88eb",
   "metadata": {},
   "source": [
    "::: {.callout-warning}\n",
    "\n",
    "`column is None` and `column is not None` will not work as expected because Python requires `is` statements to evaluate to True or False.\n",
    "\n",
    ":::"
   ]
  },
  {
   "cell_type": "markdown",
   "id": "41b5641e",
   "metadata": {},
   "source": [
    "::: {.panel-tabset}"
   ]
  },
  {
   "cell_type": "markdown",
   "id": "6e162699",
   "metadata": {},
   "source": [
    "#### SQL\n"
   ]
  },
  {
   "cell_type": "code",
   "execution_count": 9,
   "id": "27c2b59f",
   "metadata": {
    "execution": {
     "iopub.execute_input": "2024-03-08T17:20:21.099195Z",
     "iopub.status.busy": "2024-03-08T17:20:21.099067Z",
     "iopub.status.idle": "2024-03-08T17:20:21.104983Z",
     "shell.execute_reply": "2024-03-08T17:20:21.104737Z"
    }
   },
   "outputs": [
    {
     "data": {
      "text/html": [
       "<pre style=\"white-space:pre;overflow-x:auto;line-height:normal;font-family:Menlo,'DejaVu Sans Mono',consolas,'Courier New',monospace\">SELECT\n",
       "  <span style=\"color: #800080; text-decoration-color: #800080; font-weight: bold\">COALESCE</span><span style=\"font-weight: bold\">(</span><span style=\"color: #008000; text-decoration-color: #008000\">\"t0\"</span>.<span style=\"color: #008000; text-decoration-color: #008000\">\"Airport__Name\"</span>, <span style=\"color: #008000; text-decoration-color: #008000\">'Unknown'</span><span style=\"font-weight: bold\">)</span> AS <span style=\"color: #008000; text-decoration-color: #008000\">\"airport_name\"</span>\n",
       "FROM <span style=\"color: #008000; text-decoration-color: #008000\">\"birdstrikes​\"</span> AS <span style=\"color: #008000; text-decoration-color: #008000\">\"t0\"</span>\n",
       "WHERE\n",
       "  <span style=\"color: #008000; text-decoration-color: #008000\">\"t0\"</span>.<span style=\"color: #008000; text-decoration-color: #008000\">\"Effect__Amount_of_damage\"</span> IS NULL AND NOT <span style=\"color: #008000; text-decoration-color: #008000\">\"t0\"</span>.<span style=\"color: #008000; text-decoration-color: #008000\">\"Airport__Name\"</span> IS NULL\n",
       "</pre>\n"
      ],
      "text/plain": [
       "SELECT\n",
       "  \u001b[1;35mCOALESCE\u001b[0m\u001b[1m(\u001b[0m\u001b[32m\"t0\"\u001b[0m.\u001b[32m\"Airport__Name\"\u001b[0m, \u001b[32m'Unknown'\u001b[0m\u001b[1m)\u001b[0m AS \u001b[32m\"airport_name\"\u001b[0m\n",
       "FROM \u001b[32m\"birdstrikes​\"\u001b[0m AS \u001b[32m\"t0\"\u001b[0m\n",
       "WHERE\n",
       "  \u001b[32m\"t0\"\u001b[0m.\u001b[32m\"Effect__Amount_of_damage\"\u001b[0m IS NULL AND NOT \u001b[32m\"t0\"\u001b[0m.\u001b[32m\"Airport__Name\"\u001b[0m IS NULL\n"
      ]
     },
     "metadata": {},
     "output_type": "display_data"
    }
   ],
   "source": [
    "# | echo: false\n",
    "print(b.to_sql())"
   ]
  },
  {
   "cell_type": "markdown",
   "id": "e0a7c696",
   "metadata": {},
   "source": [
    "#### Result"
   ]
  },
  {
   "cell_type": "code",
   "execution_count": 10,
   "id": "144e3aaa",
   "metadata": {
    "execution": {
     "iopub.execute_input": "2024-03-08T17:20:21.106465Z",
     "iopub.status.busy": "2024-03-08T17:20:21.106356Z",
     "iopub.status.idle": "2024-03-08T17:20:21.113712Z",
     "shell.execute_reply": "2024-03-08T17:20:21.113442Z"
    }
   },
   "outputs": [
    {
     "data": {
      "text/html": [
       "<pre style=\"white-space:pre;overflow-x:auto;line-height:normal;font-family:Menlo,'DejaVu Sans Mono',consolas,'Courier New',monospace\">┏━━━━━━━━━━━━━━━━━━━━━━━━━━━━━━━┓\n",
       "┃<span style=\"font-weight: bold\"> airport_name                  </span>┃\n",
       "┡━━━━━━━━━━━━━━━━━━━━━━━━━━━━━━━┩\n",
       "│ <span style=\"color: #7f7f7f; text-decoration-color: #7f7f7f\">string</span>                        │\n",
       "├───────────────────────────────┤\n",
       "│ <span style=\"color: #008000; text-decoration-color: #008000\">BARKSDALE AIR FORCE BASE ARPT</span> │\n",
       "│ <span style=\"color: #008000; text-decoration-color: #008000\">BARKSDALE AIR FORCE BASE ARPT</span> │\n",
       "│ <span style=\"color: #008000; text-decoration-color: #008000\">BARKSDALE AIR FORCE BASE ARPT</span> │\n",
       "│ <span style=\"color: #008000; text-decoration-color: #008000\">BARKSDALE AIR FORCE BASE ARPT</span> │\n",
       "│ <span style=\"color: #008000; text-decoration-color: #008000\">BARKSDALE AIR FORCE BASE ARPT</span> │\n",
       "│ <span style=\"color: #008000; text-decoration-color: #008000\">BARKSDALE AIR FORCE BASE ARPT</span> │\n",
       "│ <span style=\"color: #008000; text-decoration-color: #008000\">WASHINGTON DULLES INTL ARPT  </span> │\n",
       "│ <span style=\"color: #008000; text-decoration-color: #008000\">BARKSDALE AIR FORCE BASE ARPT</span> │\n",
       "│ <span style=\"color: #008000; text-decoration-color: #008000\">BARKSDALE AIR FORCE BASE ARPT</span> │\n",
       "│ <span style=\"color: #008000; text-decoration-color: #008000\">BARKSDALE AIR FORCE BASE ARPT</span> │\n",
       "│ <span style=\"color: #7f7f7f; text-decoration-color: #7f7f7f\">…</span>                             │\n",
       "└───────────────────────────────┘\n",
       "</pre>\n"
      ],
      "text/plain": [
       "┏━━━━━━━━━━━━━━━━━━━━━━━━━━━━━━━┓\n",
       "┃\u001b[1m \u001b[0m\u001b[1mairport_name\u001b[0m\u001b[1m                 \u001b[0m\u001b[1m \u001b[0m┃\n",
       "┡━━━━━━━━━━━━━━━━━━━━━━━━━━━━━━━┩\n",
       "│ \u001b[2mstring\u001b[0m                        │\n",
       "├───────────────────────────────┤\n",
       "│ \u001b[32mBARKSDALE AIR FORCE BASE ARPT\u001b[0m │\n",
       "│ \u001b[32mBARKSDALE AIR FORCE BASE ARPT\u001b[0m │\n",
       "│ \u001b[32mBARKSDALE AIR FORCE BASE ARPT\u001b[0m │\n",
       "│ \u001b[32mBARKSDALE AIR FORCE BASE ARPT\u001b[0m │\n",
       "│ \u001b[32mBARKSDALE AIR FORCE BASE ARPT\u001b[0m │\n",
       "│ \u001b[32mBARKSDALE AIR FORCE BASE ARPT\u001b[0m │\n",
       "│ \u001b[32mWASHINGTON DULLES INTL ARPT  \u001b[0m │\n",
       "│ \u001b[32mBARKSDALE AIR FORCE BASE ARPT\u001b[0m │\n",
       "│ \u001b[32mBARKSDALE AIR FORCE BASE ARPT\u001b[0m │\n",
       "│ \u001b[32mBARKSDALE AIR FORCE BASE ARPT\u001b[0m │\n",
       "│ \u001b[2m…\u001b[0m                             │\n",
       "└───────────────────────────────┘\n"
      ]
     },
     "metadata": {},
     "output_type": "display_data"
    }
   ],
   "source": [
    "# | echo: false\n",
    "print(b.execute(\"text\"))"
   ]
  },
  {
   "cell_type": "markdown",
   "id": "f9f5de1f",
   "metadata": {},
   "source": [
    "#### AST"
   ]
  },
  {
   "cell_type": "code",
   "execution_count": 11,
   "id": "3cb84449",
   "metadata": {
    "execution": {
     "iopub.execute_input": "2024-03-08T17:20:21.115282Z",
     "iopub.status.busy": "2024-03-08T17:20:21.115172Z",
     "iopub.status.idle": "2024-03-08T17:20:21.118130Z",
     "shell.execute_reply": "2024-03-08T17:20:21.117878Z"
    }
   },
   "outputs": [
    {
     "data": {
      "text/plain": [
       "r0 := DatabaseTable: birdstrikes​\n",
       "  Airport__Name              string\n",
       "  Aircraft__Make_Model       string\n",
       "  Flight_Date                string\n",
       "  Aircraft__Airline_Operator string\n",
       "  Origin_State               string\n",
       "  When__Phase_of_flight      string\n",
       "  Wildlife__Size             string\n",
       "  Wildlife__Species          string\n",
       "  When__Time_of_day          string\n",
       "  Cost__Other                int64\n",
       "  Cost__Repair               int64\n",
       "  Cost__Total_$              int64\n",
       "  Speed_IAS_in_knots         float64\n",
       "  Effect__Amount_of_damage   string\n",
       "\n",
       "r1 := Filter[r0]\n",
       "  IsNull(r0.Effect__Amount_of_damage)\n",
       "\n",
       "r2 := Filter[r1]\n",
       "  NotNull(r1.Airport__Name)\n",
       "\n",
       "Project[r2]\n",
       "  airport_name: Coalesce([r2.Airport__Name, 'Unknown'])"
      ]
     },
     "execution_count": 11,
     "metadata": {},
     "output_type": "execute_result"
    }
   ],
   "source": [
    "# | echo: false\n",
    "b"
   ]
  },
  {
   "cell_type": "markdown",
   "id": "d331e4c9",
   "metadata": {},
   "source": [
    "#### AST graph\n"
   ]
  },
  {
   "cell_type": "code",
   "execution_count": 12,
   "id": "4cc9d513",
   "metadata": {
    "execution": {
     "iopub.execute_input": "2024-03-08T17:20:21.119634Z",
     "iopub.status.busy": "2024-03-08T17:20:21.119539Z",
     "iopub.status.idle": "2024-03-08T17:20:21.512542Z",
     "shell.execute_reply": "2024-03-08T17:20:21.512208Z"
    }
   },
   "outputs": [
    {
     "data": {
      "text/html": [
       "<pre style=\"white-space:pre;overflow-x:auto;line-height:normal;font-family:Menlo,'DejaVu Sans Mono',consolas,'Courier New',monospace\">                                        ╭─────────────────────────╮       \n",
       "                                        │ <span style=\"font-weight: bold\">Project</span>                 │       \n",
       "                                ╭──────▶│ <span style=\"font-weight: bold\">   </span><span style=\"font-weight: bold; font-style: italic\">airport_name: </span><span style=\"color: #ffaf00; text-decoration-color: #ffaf00; font-weight: bold; font-style: italic\">string</span> │       \n",
       "                                │       ╰─────────────────────────╯       \n",
       "                                │                    ▲                    \n",
       "                                │                    │                    \n",
       "                                │                    │                    \n",
       "                                │                    │                    \n",
       "                        ╭──────────────╮             │                    \n",
       "                        │ <span style=\"font-weight: bold\">Coalesce</span>     │             │                    \n",
       "                        │ <span style=\"font-weight: bold\">   :: </span><span style=\"color: #ffaf00; text-decoration-color: #ffaf00; font-weight: bold\">string</span> │◀─╮          │                    \n",
       "                        ╰──────────────╯  │          │                    \n",
       "                                ▲         │          │                    \n",
       "                                │         │          │                    \n",
       "                                │         │          │                    \n",
       "                                │         │          │                    \n",
       "╭──────────────────────╮        │         ╭────────────────────╮          \n",
       "│ <span style=\"font-style: italic\">Airport__Name: </span><span style=\"font-weight: bold; font-style: italic\">Field</span> │        │         │ <span style=\"font-style: italic\">'Unknown': </span><span style=\"font-weight: bold; font-style: italic\">Literal</span> │          \n",
       "│ <span style=\"font-style: italic\">   :: </span><span style=\"color: #ffaf00; text-decoration-color: #ffaf00; font-style: italic\">string</span>         │────────╯         │ <span style=\"font-style: italic\">   :: </span><span style=\"color: #ffaf00; text-decoration-color: #ffaf00; font-style: italic\">string</span>       │          \n",
       "╰──────────────────────╯                  ╰────────────────────╯          \n",
       "            ▲                                        │                    \n",
       "            │                                        │                    \n",
       "            │                                        │                    \n",
       "            │                                        │                    \n",
       "            │                                        │                    \n",
       "            │                    ╭───────────────────────────────────────╮\n",
       "            │                    │ <span style=\"font-weight: bold\">Filter</span>                                │\n",
       "            │                    │ <span style=\"font-weight: bold\">   </span><span style=\"font-weight: bold; font-style: italic\">Airport__Name: </span><span style=\"color: #ffaf00; text-decoration-color: #ffaf00; font-weight: bold; font-style: italic\">string</span>              │\n",
       "            │                    │ <span style=\"font-weight: bold\">   </span><span style=\"font-weight: bold; font-style: italic\">Aircraft__Make_Model: </span><span style=\"color: #ffaf00; text-decoration-color: #ffaf00; font-weight: bold; font-style: italic\">string</span>       │\n",
       "            │                    │ <span style=\"font-weight: bold\">   </span><span style=\"font-weight: bold; font-style: italic\">Flight_Date: </span><span style=\"color: #ffaf00; text-decoration-color: #ffaf00; font-weight: bold; font-style: italic\">string</span>                │\n",
       "            │                    │ <span style=\"font-weight: bold\">   </span><span style=\"font-weight: bold; font-style: italic\">Aircraft__Airline_Operator: </span><span style=\"color: #ffaf00; text-decoration-color: #ffaf00; font-weight: bold; font-style: italic\">string</span> │\n",
       "            │                    │ <span style=\"font-weight: bold\">   </span><span style=\"font-weight: bold; font-style: italic\">Origin_State: </span><span style=\"color: #ffaf00; text-decoration-color: #ffaf00; font-weight: bold; font-style: italic\">string</span>               │\n",
       "            │                    │ <span style=\"font-weight: bold\">   </span><span style=\"font-weight: bold; font-style: italic\">When__Phase_of_flight: </span><span style=\"color: #ffaf00; text-decoration-color: #ffaf00; font-weight: bold; font-style: italic\">string</span>      │\n",
       "            ╰───────────────────▲│ <span style=\"font-weight: bold\">   </span><span style=\"font-weight: bold; font-style: italic\">Wildlife__Size: </span><span style=\"color: #ffaf00; text-decoration-color: #ffaf00; font-weight: bold; font-style: italic\">string</span>             │\n",
       "                                ││ <span style=\"font-weight: bold\">   </span><span style=\"font-weight: bold; font-style: italic\">Wildlife__Species: </span><span style=\"color: #ffaf00; text-decoration-color: #ffaf00; font-weight: bold; font-style: italic\">string</span>          │\n",
       "                                ││ <span style=\"font-weight: bold\">   </span><span style=\"font-weight: bold; font-style: italic\">When__Time_of_day: </span><span style=\"color: #ffaf00; text-decoration-color: #ffaf00; font-weight: bold; font-style: italic\">string</span>          │\n",
       "                                ││ <span style=\"font-weight: bold\">   </span><span style=\"font-weight: bold; font-style: italic\">Cost__Other: </span><span style=\"color: #808000; text-decoration-color: #808000; font-weight: bold; font-style: italic\">int64</span>                 │\n",
       "                                ││ <span style=\"font-weight: bold\">   </span><span style=\"font-weight: bold; font-style: italic\">Cost__Repair: </span><span style=\"color: #808000; text-decoration-color: #808000; font-weight: bold; font-style: italic\">int64</span>                │\n",
       "                                ││ <span style=\"font-weight: bold\">   </span><span style=\"font-weight: bold; font-style: italic\">Cost__Total_$: </span><span style=\"color: #808000; text-decoration-color: #808000; font-weight: bold; font-style: italic\">int64</span>               │\n",
       "                                ││ <span style=\"font-weight: bold\">   </span><span style=\"font-weight: bold; font-style: italic\">Speed_IAS_in_knots: </span><span style=\"color: #808000; text-decoration-color: #808000; font-weight: bold; font-style: italic\">float64</span>        │\n",
       "                                ││ <span style=\"font-weight: bold\">   </span><span style=\"font-weight: bold; font-style: italic\">Effect__Amount_of_damage: </span><span style=\"color: #ffaf00; text-decoration-color: #ffaf00; font-weight: bold; font-style: italic\">string</span>   │\n",
       "                                │╰───────────────────────────────────────╯\n",
       "                                │                    ▲                    \n",
       "                                │                    │                    \n",
       "                                │                    │                    \n",
       "                        ╭───────────────╮            │                    \n",
       "                        │ <span style=\"font-weight: bold\">NotNull</span>       │            │                    \n",
       "                        │ <span style=\"font-weight: bold\">   :: </span><span style=\"color: #af00ff; text-decoration-color: #af00ff; font-weight: bold\">boolean</span> │            │                    \n",
       "                        ╰───────────────╯            │                    \n",
       "                                ▲                    │                    \n",
       "                                │                    │                    \n",
       "                                │                    │                    \n",
       "                                │                    │                    \n",
       "                    ╭──────────────────────╮         │                    \n",
       "                    │ <span style=\"font-style: italic\">Airport__Name: </span><span style=\"font-weight: bold; font-style: italic\">Field</span> │         │                    \n",
       "                    │ <span style=\"font-style: italic\">   :: </span><span style=\"color: #ffaf00; text-decoration-color: #ffaf00; font-style: italic\">string</span>         │         │                    \n",
       "                    ╰──────────────────────╯         │                    \n",
       "                                ▲                    │                    \n",
       "                                │                    │                    \n",
       "                                │                    │                    \n",
       "                                │                    │                    \n",
       "                                │                    │                    \n",
       "                                │╭───────────────────────────────────────╮\n",
       "                                ││ <span style=\"font-weight: bold\">Filter</span>                                │\n",
       "                                ││ <span style=\"font-weight: bold\">   </span><span style=\"font-weight: bold; font-style: italic\">Airport__Name: </span><span style=\"color: #ffaf00; text-decoration-color: #ffaf00; font-weight: bold; font-style: italic\">string</span>              │\n",
       "                                ││ <span style=\"font-weight: bold\">   </span><span style=\"font-weight: bold; font-style: italic\">Aircraft__Make_Model: </span><span style=\"color: #ffaf00; text-decoration-color: #ffaf00; font-weight: bold; font-style: italic\">string</span>       │\n",
       "                                ││ <span style=\"font-weight: bold\">   </span><span style=\"font-weight: bold; font-style: italic\">Flight_Date: </span><span style=\"color: #ffaf00; text-decoration-color: #ffaf00; font-weight: bold; font-style: italic\">string</span>                │\n",
       "                                ││ <span style=\"font-weight: bold\">   </span><span style=\"font-weight: bold; font-style: italic\">Aircraft__Airline_Operator: </span><span style=\"color: #ffaf00; text-decoration-color: #ffaf00; font-weight: bold; font-style: italic\">string</span> │\n",
       "                                ││ <span style=\"font-weight: bold\">   </span><span style=\"font-weight: bold; font-style: italic\">Origin_State: </span><span style=\"color: #ffaf00; text-decoration-color: #ffaf00; font-weight: bold; font-style: italic\">string</span>               │\n",
       "                                ││ <span style=\"font-weight: bold\">   </span><span style=\"font-weight: bold; font-style: italic\">When__Phase_of_flight: </span><span style=\"color: #ffaf00; text-decoration-color: #ffaf00; font-weight: bold; font-style: italic\">string</span>      │\n",
       "                           ╭────▶│ <span style=\"font-weight: bold\">   </span><span style=\"font-weight: bold; font-style: italic\">Wildlife__Size: </span><span style=\"color: #ffaf00; text-decoration-color: #ffaf00; font-weight: bold; font-style: italic\">string</span>             │\n",
       "                           │     │ <span style=\"font-weight: bold\">   </span><span style=\"font-weight: bold; font-style: italic\">Wildlife__Species: </span><span style=\"color: #ffaf00; text-decoration-color: #ffaf00; font-weight: bold; font-style: italic\">string</span>          │\n",
       "                           │     │ <span style=\"font-weight: bold\">   </span><span style=\"font-weight: bold; font-style: italic\">When__Time_of_day: </span><span style=\"color: #ffaf00; text-decoration-color: #ffaf00; font-weight: bold; font-style: italic\">string</span>          │\n",
       "                           │     │ <span style=\"font-weight: bold\">   </span><span style=\"font-weight: bold; font-style: italic\">Cost__Other: </span><span style=\"color: #808000; text-decoration-color: #808000; font-weight: bold; font-style: italic\">int64</span>                 │\n",
       "                           │     │ <span style=\"font-weight: bold\">   </span><span style=\"font-weight: bold; font-style: italic\">Cost__Repair: </span><span style=\"color: #808000; text-decoration-color: #808000; font-weight: bold; font-style: italic\">int64</span>                │\n",
       "                           │     │ <span style=\"font-weight: bold\">   </span><span style=\"font-weight: bold; font-style: italic\">Cost__Total_$: </span><span style=\"color: #808000; text-decoration-color: #808000; font-weight: bold; font-style: italic\">int64</span>               │\n",
       "                           │     │ <span style=\"font-weight: bold\">   </span><span style=\"font-weight: bold; font-style: italic\">Speed_IAS_in_knots: </span><span style=\"color: #808000; text-decoration-color: #808000; font-weight: bold; font-style: italic\">float64</span>        │\n",
       "                           │     │ <span style=\"font-weight: bold\">   </span><span style=\"font-weight: bold; font-style: italic\">Effect__Amount_of_damage: </span><span style=\"color: #ffaf00; text-decoration-color: #ffaf00; font-weight: bold; font-style: italic\">string</span>   │\n",
       "                           │     ╰───────────────────────────────────────╯\n",
       "                           │                         ▲                    \n",
       "                           │                         │                    \n",
       "                           │                         │                    \n",
       "                   ╭───────────────╮                 │                    \n",
       "                   │ <span style=\"font-weight: bold\">IsNull</span>        │                 │                    \n",
       "                   │ <span style=\"font-weight: bold\">   :: </span><span style=\"color: #af00ff; text-decoration-color: #af00ff; font-weight: bold\">boolean</span> │                 │                    \n",
       "                   ╰───────────────╯                 │                    \n",
       "                           ▲                         │                    \n",
       "                           │                         │                    \n",
       "                           │                         │                    \n",
       "                           │                         │                    \n",
       "          ╭─────────────────────────────────╮        │                    \n",
       "          │ <span style=\"font-style: italic\">Effect__Amount_of_damage: </span><span style=\"font-weight: bold; font-style: italic\">Field</span> │        │                    \n",
       "          │ <span style=\"font-style: italic\">   :: </span><span style=\"color: #ffaf00; text-decoration-color: #ffaf00; font-style: italic\">string</span>                    │        │                    \n",
       "          ╰─────────────────────────────────╯        │                    \n",
       "                           ▲                         │                    \n",
       "                           │                         │                    \n",
       "                           │                         │                    \n",
       "                           │                         │                    \n",
       "                           │                         │                    \n",
       "                           │     ╭───────────────────────────────────────╮\n",
       "                           │     │ <span style=\"font-style: italic\">birdstrikes​: </span><span style=\"font-weight: bold; font-style: italic\">DatabaseTable</span>            │\n",
       "                           │     │ <span style=\"font-style: italic\">   Airport__Name: </span><span style=\"color: #ffaf00; text-decoration-color: #ffaf00; font-style: italic\">string</span>              │\n",
       "                           │     │ <span style=\"font-style: italic\">   Aircraft__Make_Model: </span><span style=\"color: #ffaf00; text-decoration-color: #ffaf00; font-style: italic\">string</span>       │\n",
       "                           │     │ <span style=\"font-style: italic\">   Flight_Date: </span><span style=\"color: #ffaf00; text-decoration-color: #ffaf00; font-style: italic\">string</span>                │\n",
       "                           │     │ <span style=\"font-style: italic\">   Aircraft__Airline_Operator: </span><span style=\"color: #ffaf00; text-decoration-color: #ffaf00; font-style: italic\">string</span> │\n",
       "                           │     │ <span style=\"font-style: italic\">   Origin_State: </span><span style=\"color: #ffaf00; text-decoration-color: #ffaf00; font-style: italic\">string</span>               │\n",
       "                           │     │ <span style=\"font-style: italic\">   When__Phase_of_flight: </span><span style=\"color: #ffaf00; text-decoration-color: #ffaf00; font-style: italic\">string</span>      │\n",
       "                           ╰─────│ <span style=\"font-style: italic\">   Wildlife__Size: </span><span style=\"color: #ffaf00; text-decoration-color: #ffaf00; font-style: italic\">string</span>             │\n",
       "                                 │ <span style=\"font-style: italic\">   Wildlife__Species: </span><span style=\"color: #ffaf00; text-decoration-color: #ffaf00; font-style: italic\">string</span>          │\n",
       "                                 │ <span style=\"font-style: italic\">   When__Time_of_day: </span><span style=\"color: #ffaf00; text-decoration-color: #ffaf00; font-style: italic\">string</span>          │\n",
       "                                 │ <span style=\"font-style: italic\">   Cost__Other: </span><span style=\"color: #808000; text-decoration-color: #808000; font-style: italic\">int64</span>                 │\n",
       "                                 │ <span style=\"font-style: italic\">   Cost__Repair: </span><span style=\"color: #808000; text-decoration-color: #808000; font-style: italic\">int64</span>                │\n",
       "                                 │ <span style=\"font-style: italic\">   Cost__Total_$: </span><span style=\"color: #808000; text-decoration-color: #808000; font-style: italic\">int64</span>               │\n",
       "                                 │ <span style=\"font-style: italic\">   Speed_IAS_in_knots: </span><span style=\"color: #808000; text-decoration-color: #808000; font-style: italic\">float64</span>        │\n",
       "                                 │ <span style=\"font-style: italic\">   Effect__Amount_of_damage: </span><span style=\"color: #ffaf00; text-decoration-color: #ffaf00; font-style: italic\">string</span>   │\n",
       "                                 ╰───────────────────────────────────────╯\n",
       "</pre>\n"
      ],
      "text/plain": [
       "                                        ╭─────────────────────────╮       \n",
       "                                        │ \u001b[1mProject\u001b[0m                 │       \n",
       "                                ╭──────▶│ \u001b[1m   \u001b[0m\u001b[1;3mairport_name: \u001b[0m\u001b[1;3;38;5;214mstring\u001b[0m │       \n",
       "                                │       ╰─────────────────────────╯       \n",
       "                                │                    ▲                    \n",
       "                                │                    │                    \n",
       "                                │                    │                    \n",
       "                                │                    │                    \n",
       "                        ╭──────────────╮             │                    \n",
       "                        │ \u001b[1mCoalesce\u001b[0m     │             │                    \n",
       "                        │ \u001b[1m   :: \u001b[0m\u001b[1;38;5;214mstring\u001b[0m │◀─╮          │                    \n",
       "                        ╰──────────────╯  │          │                    \n",
       "                                ▲         │          │                    \n",
       "                                │         │          │                    \n",
       "                                │         │          │                    \n",
       "                                │         │          │                    \n",
       "╭──────────────────────╮        │         ╭────────────────────╮          \n",
       "│ \u001b[3mAirport__Name: \u001b[0m\u001b[1;3mField\u001b[0m │        │         │ \u001b[3m'Unknown': \u001b[0m\u001b[1;3mLiteral\u001b[0m │          \n",
       "│ \u001b[3m   :: \u001b[0m\u001b[3;38;5;214mstring\u001b[0m         │────────╯         │ \u001b[3m   :: \u001b[0m\u001b[3;38;5;214mstring\u001b[0m       │          \n",
       "╰──────────────────────╯                  ╰────────────────────╯          \n",
       "            ▲                                        │                    \n",
       "            │                                        │                    \n",
       "            │                                        │                    \n",
       "            │                                        │                    \n",
       "            │                                        │                    \n",
       "            │                    ╭───────────────────────────────────────╮\n",
       "            │                    │ \u001b[1mFilter\u001b[0m                                │\n",
       "            │                    │ \u001b[1m   \u001b[0m\u001b[1;3mAirport__Name: \u001b[0m\u001b[1;3;38;5;214mstring\u001b[0m              │\n",
       "            │                    │ \u001b[1m   \u001b[0m\u001b[1;3mAircraft__Make_Model: \u001b[0m\u001b[1;3;38;5;214mstring\u001b[0m       │\n",
       "            │                    │ \u001b[1m   \u001b[0m\u001b[1;3mFlight_Date: \u001b[0m\u001b[1;3;38;5;214mstring\u001b[0m                │\n",
       "            │                    │ \u001b[1m   \u001b[0m\u001b[1;3mAircraft__Airline_Operator: \u001b[0m\u001b[1;3;38;5;214mstring\u001b[0m │\n",
       "            │                    │ \u001b[1m   \u001b[0m\u001b[1;3mOrigin_State: \u001b[0m\u001b[1;3;38;5;214mstring\u001b[0m               │\n",
       "            │                    │ \u001b[1m   \u001b[0m\u001b[1;3mWhen__Phase_of_flight: \u001b[0m\u001b[1;3;38;5;214mstring\u001b[0m      │\n",
       "            ╰───────────────────▲│ \u001b[1m   \u001b[0m\u001b[1;3mWildlife__Size: \u001b[0m\u001b[1;3;38;5;214mstring\u001b[0m             │\n",
       "                                ││ \u001b[1m   \u001b[0m\u001b[1;3mWildlife__Species: \u001b[0m\u001b[1;3;38;5;214mstring\u001b[0m          │\n",
       "                                ││ \u001b[1m   \u001b[0m\u001b[1;3mWhen__Time_of_day: \u001b[0m\u001b[1;3;38;5;214mstring\u001b[0m          │\n",
       "                                ││ \u001b[1m   \u001b[0m\u001b[1;3mCost__Other: \u001b[0m\u001b[1;3;33mint64\u001b[0m                 │\n",
       "                                ││ \u001b[1m   \u001b[0m\u001b[1;3mCost__Repair: \u001b[0m\u001b[1;3;33mint64\u001b[0m                │\n",
       "                                ││ \u001b[1m   \u001b[0m\u001b[1;3mCost__Total_$: \u001b[0m\u001b[1;3;33mint64\u001b[0m               │\n",
       "                                ││ \u001b[1m   \u001b[0m\u001b[1;3mSpeed_IAS_in_knots: \u001b[0m\u001b[1;3;33mfloat64\u001b[0m        │\n",
       "                                ││ \u001b[1m   \u001b[0m\u001b[1;3mEffect__Amount_of_damage: \u001b[0m\u001b[1;3;38;5;214mstring\u001b[0m   │\n",
       "                                │╰───────────────────────────────────────╯\n",
       "                                │                    ▲                    \n",
       "                                │                    │                    \n",
       "                                │                    │                    \n",
       "                        ╭───────────────╮            │                    \n",
       "                        │ \u001b[1mNotNull\u001b[0m       │            │                    \n",
       "                        │ \u001b[1m   :: \u001b[0m\u001b[1;38;5;129mboolean\u001b[0m │            │                    \n",
       "                        ╰───────────────╯            │                    \n",
       "                                ▲                    │                    \n",
       "                                │                    │                    \n",
       "                                │                    │                    \n",
       "                                │                    │                    \n",
       "                    ╭──────────────────────╮         │                    \n",
       "                    │ \u001b[3mAirport__Name: \u001b[0m\u001b[1;3mField\u001b[0m │         │                    \n",
       "                    │ \u001b[3m   :: \u001b[0m\u001b[3;38;5;214mstring\u001b[0m         │         │                    \n",
       "                    ╰──────────────────────╯         │                    \n",
       "                                ▲                    │                    \n",
       "                                │                    │                    \n",
       "                                │                    │                    \n",
       "                                │                    │                    \n",
       "                                │                    │                    \n",
       "                                │╭───────────────────────────────────────╮\n",
       "                                ││ \u001b[1mFilter\u001b[0m                                │\n",
       "                                ││ \u001b[1m   \u001b[0m\u001b[1;3mAirport__Name: \u001b[0m\u001b[1;3;38;5;214mstring\u001b[0m              │\n",
       "                                ││ \u001b[1m   \u001b[0m\u001b[1;3mAircraft__Make_Model: \u001b[0m\u001b[1;3;38;5;214mstring\u001b[0m       │\n",
       "                                ││ \u001b[1m   \u001b[0m\u001b[1;3mFlight_Date: \u001b[0m\u001b[1;3;38;5;214mstring\u001b[0m                │\n",
       "                                ││ \u001b[1m   \u001b[0m\u001b[1;3mAircraft__Airline_Operator: \u001b[0m\u001b[1;3;38;5;214mstring\u001b[0m │\n",
       "                                ││ \u001b[1m   \u001b[0m\u001b[1;3mOrigin_State: \u001b[0m\u001b[1;3;38;5;214mstring\u001b[0m               │\n",
       "                                ││ \u001b[1m   \u001b[0m\u001b[1;3mWhen__Phase_of_flight: \u001b[0m\u001b[1;3;38;5;214mstring\u001b[0m      │\n",
       "                           ╭────▶│ \u001b[1m   \u001b[0m\u001b[1;3mWildlife__Size: \u001b[0m\u001b[1;3;38;5;214mstring\u001b[0m             │\n",
       "                           │     │ \u001b[1m   \u001b[0m\u001b[1;3mWildlife__Species: \u001b[0m\u001b[1;3;38;5;214mstring\u001b[0m          │\n",
       "                           │     │ \u001b[1m   \u001b[0m\u001b[1;3mWhen__Time_of_day: \u001b[0m\u001b[1;3;38;5;214mstring\u001b[0m          │\n",
       "                           │     │ \u001b[1m   \u001b[0m\u001b[1;3mCost__Other: \u001b[0m\u001b[1;3;33mint64\u001b[0m                 │\n",
       "                           │     │ \u001b[1m   \u001b[0m\u001b[1;3mCost__Repair: \u001b[0m\u001b[1;3;33mint64\u001b[0m                │\n",
       "                           │     │ \u001b[1m   \u001b[0m\u001b[1;3mCost__Total_$: \u001b[0m\u001b[1;3;33mint64\u001b[0m               │\n",
       "                           │     │ \u001b[1m   \u001b[0m\u001b[1;3mSpeed_IAS_in_knots: \u001b[0m\u001b[1;3;33mfloat64\u001b[0m        │\n",
       "                           │     │ \u001b[1m   \u001b[0m\u001b[1;3mEffect__Amount_of_damage: \u001b[0m\u001b[1;3;38;5;214mstring\u001b[0m   │\n",
       "                           │     ╰───────────────────────────────────────╯\n",
       "                           │                         ▲                    \n",
       "                           │                         │                    \n",
       "                           │                         │                    \n",
       "                   ╭───────────────╮                 │                    \n",
       "                   │ \u001b[1mIsNull\u001b[0m        │                 │                    \n",
       "                   │ \u001b[1m   :: \u001b[0m\u001b[1;38;5;129mboolean\u001b[0m │                 │                    \n",
       "                   ╰───────────────╯                 │                    \n",
       "                           ▲                         │                    \n",
       "                           │                         │                    \n",
       "                           │                         │                    \n",
       "                           │                         │                    \n",
       "          ╭─────────────────────────────────╮        │                    \n",
       "          │ \u001b[3mEffect__Amount_of_damage: \u001b[0m\u001b[1;3mField\u001b[0m │        │                    \n",
       "          │ \u001b[3m   :: \u001b[0m\u001b[3;38;5;214mstring\u001b[0m                    │        │                    \n",
       "          ╰─────────────────────────────────╯        │                    \n",
       "                           ▲                         │                    \n",
       "                           │                         │                    \n",
       "                           │                         │                    \n",
       "                           │                         │                    \n",
       "                           │                         │                    \n",
       "                           │     ╭───────────────────────────────────────╮\n",
       "                           │     │ \u001b[3mbirdstrikes​: \u001b[0m\u001b[1;3mDatabaseTable\u001b[0m            │\n",
       "                           │     │ \u001b[3m   \u001b[0m\u001b[3mAirport__Name: \u001b[0m\u001b[3;38;5;214mstring\u001b[0m              │\n",
       "                           │     │ \u001b[3m   \u001b[0m\u001b[3mAircraft__Make_Model: \u001b[0m\u001b[3;38;5;214mstring\u001b[0m       │\n",
       "                           │     │ \u001b[3m   \u001b[0m\u001b[3mFlight_Date: \u001b[0m\u001b[3;38;5;214mstring\u001b[0m                │\n",
       "                           │     │ \u001b[3m   \u001b[0m\u001b[3mAircraft__Airline_Operator: \u001b[0m\u001b[3;38;5;214mstring\u001b[0m │\n",
       "                           │     │ \u001b[3m   \u001b[0m\u001b[3mOrigin_State: \u001b[0m\u001b[3;38;5;214mstring\u001b[0m               │\n",
       "                           │     │ \u001b[3m   \u001b[0m\u001b[3mWhen__Phase_of_flight: \u001b[0m\u001b[3;38;5;214mstring\u001b[0m      │\n",
       "                           ╰─────│ \u001b[3m   \u001b[0m\u001b[3mWildlife__Size: \u001b[0m\u001b[3;38;5;214mstring\u001b[0m             │\n",
       "                                 │ \u001b[3m   \u001b[0m\u001b[3mWildlife__Species: \u001b[0m\u001b[3;38;5;214mstring\u001b[0m          │\n",
       "                                 │ \u001b[3m   \u001b[0m\u001b[3mWhen__Time_of_day: \u001b[0m\u001b[3;38;5;214mstring\u001b[0m          │\n",
       "                                 │ \u001b[3m   \u001b[0m\u001b[3mCost__Other: \u001b[0m\u001b[3;33mint64\u001b[0m                 │\n",
       "                                 │ \u001b[3m   \u001b[0m\u001b[3mCost__Repair: \u001b[0m\u001b[3;33mint64\u001b[0m                │\n",
       "                                 │ \u001b[3m   \u001b[0m\u001b[3mCost__Total_$: \u001b[0m\u001b[3;33mint64\u001b[0m               │\n",
       "                                 │ \u001b[3m   \u001b[0m\u001b[3mSpeed_IAS_in_knots: \u001b[0m\u001b[3;33mfloat64\u001b[0m        │\n",
       "                                 │ \u001b[3m   \u001b[0m\u001b[3mEffect__Amount_of_damage: \u001b[0m\u001b[3;38;5;214mstring\u001b[0m   │\n",
       "                                 ╰───────────────────────────────────────╯\n"
      ]
     },
     "metadata": {},
     "output_type": "display_data"
    }
   ],
   "source": [
    "# | echo: false\n",
    "b.visualize()"
   ]
  },
  {
   "cell_type": "markdown",
   "id": "23131608",
   "metadata": {},
   "source": [
    ":::"
   ]
  },
  {
   "cell_type": "markdown",
   "id": "2b2987ec",
   "metadata": {},
   "source": [
    "</Accordion>"
   ]
  },
  {
   "cell_type": "markdown",
   "id": "b9fde85e",
   "metadata": {},
   "source": [
    "<Accordion title=\"Functions\">"
   ]
  },
  {
   "cell_type": "code",
   "execution_count": 13,
   "id": "6e5b7c98",
   "metadata": {
    "execution": {
     "iopub.execute_input": "2024-03-08T17:20:21.514717Z",
     "iopub.status.busy": "2024-03-08T17:20:21.514604Z",
     "iopub.status.idle": "2024-03-08T17:20:21.524986Z",
     "shell.execute_reply": "2024-03-08T17:20:21.524651Z"
    },
    "lines_to_next_cell": 1
   },
   "outputs": [],
   "source": [
    "# | echo: false\n",
    "from vinyl.examples import iris\n",
    "\n",
    "iris = iris()"
   ]
  },
  {
   "cell_type": "code",
   "execution_count": 14,
   "id": "b4fead86",
   "metadata": {
    "execution": {
     "iopub.execute_input": "2024-03-08T17:20:21.526582Z",
     "iopub.status.busy": "2024-03-08T17:20:21.526511Z",
     "iopub.status.idle": "2024-03-08T17:20:21.530142Z",
     "shell.execute_reply": "2024-03-08T17:20:21.529839Z"
    }
   },
   "outputs": [],
   "source": [
    "def perimeter(x, y):\n",
    "    return 2 * (x + y)\n",
    "\n",
    "\n",
    "with iris as i:\n",
    "    i.define({\"petalPerimeter\": perimeter(i.petalLength, i.petalWidth)})"
   ]
  },
  {
   "cell_type": "markdown",
   "id": "16a97617",
   "metadata": {},
   "source": [
    "::: {.panel-tabset}"
   ]
  },
  {
   "cell_type": "markdown",
   "id": "7205ed12",
   "metadata": {},
   "source": [
    "#### SQL\n"
   ]
  },
  {
   "cell_type": "code",
   "execution_count": 15,
   "id": "e5657d67",
   "metadata": {
    "execution": {
     "iopub.execute_input": "2024-03-08T17:20:21.531796Z",
     "iopub.status.busy": "2024-03-08T17:20:21.531728Z",
     "iopub.status.idle": "2024-03-08T17:20:21.536817Z",
     "shell.execute_reply": "2024-03-08T17:20:21.536513Z"
    }
   },
   "outputs": [
    {
     "data": {
      "text/html": [
       "<pre style=\"white-space:pre;overflow-x:auto;line-height:normal;font-family:Menlo,'DejaVu Sans Mono',consolas,'Courier New',monospace\">SELECT\n",
       "  <span style=\"color: #008000; text-decoration-color: #008000\">\"t0\"</span>.<span style=\"color: #008000; text-decoration-color: #008000\">\"sepalLength\"</span>,\n",
       "  <span style=\"color: #008000; text-decoration-color: #008000\">\"t0\"</span>.<span style=\"color: #008000; text-decoration-color: #008000\">\"sepalWidth\"</span>,\n",
       "  <span style=\"color: #008000; text-decoration-color: #008000\">\"t0\"</span>.<span style=\"color: #008000; text-decoration-color: #008000\">\"petalLength\"</span>,\n",
       "  <span style=\"color: #008000; text-decoration-color: #008000\">\"t0\"</span>.<span style=\"color: #008000; text-decoration-color: #008000\">\"petalWidth\"</span>,\n",
       "  <span style=\"color: #008000; text-decoration-color: #008000\">\"t0\"</span>.<span style=\"color: #008000; text-decoration-color: #008000\">\"species\"</span>,\n",
       "  <span style=\"font-weight: bold\">(</span>\n",
       "    <span style=\"color: #008000; text-decoration-color: #008000\">\"t0\"</span>.<span style=\"color: #008000; text-decoration-color: #008000\">\"petalLength\"</span> + <span style=\"color: #008000; text-decoration-color: #008000\">\"t0\"</span>.<span style=\"color: #008000; text-decoration-color: #008000\">\"petalWidth\"</span>\n",
       "  <span style=\"font-weight: bold\">)</span> * <span style=\"color: #800080; text-decoration-color: #800080; font-weight: bold\">CAST</span><span style=\"font-weight: bold\">(</span><span style=\"color: #008080; text-decoration-color: #008080; font-weight: bold\">2</span> AS TINYINT<span style=\"font-weight: bold\">)</span> AS <span style=\"color: #008000; text-decoration-color: #008000\">\"petalPerimeter\"</span>\n",
       "FROM <span style=\"color: #008000; text-decoration-color: #008000\">\"iris\"</span> AS <span style=\"color: #008000; text-decoration-color: #008000\">\"t0\"</span>\n",
       "</pre>\n"
      ],
      "text/plain": [
       "SELECT\n",
       "  \u001b[32m\"t0\"\u001b[0m.\u001b[32m\"sepalLength\"\u001b[0m,\n",
       "  \u001b[32m\"t0\"\u001b[0m.\u001b[32m\"sepalWidth\"\u001b[0m,\n",
       "  \u001b[32m\"t0\"\u001b[0m.\u001b[32m\"petalLength\"\u001b[0m,\n",
       "  \u001b[32m\"t0\"\u001b[0m.\u001b[32m\"petalWidth\"\u001b[0m,\n",
       "  \u001b[32m\"t0\"\u001b[0m.\u001b[32m\"species\"\u001b[0m,\n",
       "  \u001b[1m(\u001b[0m\n",
       "    \u001b[32m\"t0\"\u001b[0m.\u001b[32m\"petalLength\"\u001b[0m + \u001b[32m\"t0\"\u001b[0m.\u001b[32m\"petalWidth\"\u001b[0m\n",
       "  \u001b[1m)\u001b[0m * \u001b[1;35mCAST\u001b[0m\u001b[1m(\u001b[0m\u001b[1;36m2\u001b[0m AS TINYINT\u001b[1m)\u001b[0m AS \u001b[32m\"petalPerimeter\"\u001b[0m\n",
       "FROM \u001b[32m\"iris\"\u001b[0m AS \u001b[32m\"t0\"\u001b[0m\n"
      ]
     },
     "metadata": {},
     "output_type": "display_data"
    }
   ],
   "source": [
    "# | echo: false\n",
    "print(i.to_sql())"
   ]
  },
  {
   "cell_type": "markdown",
   "id": "fef3e850",
   "metadata": {},
   "source": [
    "#### Result"
   ]
  },
  {
   "cell_type": "code",
   "execution_count": 16,
   "id": "924c9c4b",
   "metadata": {
    "execution": {
     "iopub.execute_input": "2024-03-08T17:20:21.538702Z",
     "iopub.status.busy": "2024-03-08T17:20:21.538529Z",
     "iopub.status.idle": "2024-03-08T17:20:21.547659Z",
     "shell.execute_reply": "2024-03-08T17:20:21.547223Z"
    }
   },
   "outputs": [
    {
     "data": {
      "text/html": [
       "<pre style=\"white-space:pre;overflow-x:auto;line-height:normal;font-family:Menlo,'DejaVu Sans Mono',consolas,'Courier New',monospace\">┏━━━━━━━━━━━━━┳━━━━━━━━━━━━┳━━━━━━━━━━━━━┳━━━━━━━━━━━━┳━━━━━━━━━┳━━━━━━━━━━━━━━━━┓\n",
       "┃<span style=\"font-weight: bold\"> sepalLength </span>┃<span style=\"font-weight: bold\"> sepalWidth </span>┃<span style=\"font-weight: bold\"> petalLength </span>┃<span style=\"font-weight: bold\"> petalWidth </span>┃<span style=\"font-weight: bold\"> species </span>┃<span style=\"font-weight: bold\"> petalPerimeter </span>┃\n",
       "┡━━━━━━━━━━━━━╇━━━━━━━━━━━━╇━━━━━━━━━━━━━╇━━━━━━━━━━━━╇━━━━━━━━━╇━━━━━━━━━━━━━━━━┩\n",
       "│ <span style=\"color: #7f7f7f; text-decoration-color: #7f7f7f\">float64</span>     │ <span style=\"color: #7f7f7f; text-decoration-color: #7f7f7f\">float64</span>    │ <span style=\"color: #7f7f7f; text-decoration-color: #7f7f7f\">float64</span>     │ <span style=\"color: #7f7f7f; text-decoration-color: #7f7f7f\">float64</span>    │ <span style=\"color: #7f7f7f; text-decoration-color: #7f7f7f\">string</span>  │ <span style=\"color: #7f7f7f; text-decoration-color: #7f7f7f\">float64</span>        │\n",
       "├─────────────┼────────────┼─────────────┼────────────┼─────────┼────────────────┤\n",
       "│         <span style=\"color: #008080; text-decoration-color: #008080; font-weight: bold\">5.1</span> │        <span style=\"color: #008080; text-decoration-color: #008080; font-weight: bold\">3.5</span> │         <span style=\"color: #008080; text-decoration-color: #008080; font-weight: bold\">1.4</span> │        <span style=\"color: #008080; text-decoration-color: #008080; font-weight: bold\">0.2</span> │ <span style=\"color: #008000; text-decoration-color: #008000\">setosa </span> │            <span style=\"color: #008080; text-decoration-color: #008080; font-weight: bold\">3.2</span> │\n",
       "│         <span style=\"color: #008080; text-decoration-color: #008080; font-weight: bold\">4.9</span> │        <span style=\"color: #008080; text-decoration-color: #008080; font-weight: bold\">3.0</span> │         <span style=\"color: #008080; text-decoration-color: #008080; font-weight: bold\">1.4</span> │        <span style=\"color: #008080; text-decoration-color: #008080; font-weight: bold\">0.2</span> │ <span style=\"color: #008000; text-decoration-color: #008000\">setosa </span> │            <span style=\"color: #008080; text-decoration-color: #008080; font-weight: bold\">3.2</span> │\n",
       "│         <span style=\"color: #008080; text-decoration-color: #008080; font-weight: bold\">4.7</span> │        <span style=\"color: #008080; text-decoration-color: #008080; font-weight: bold\">3.2</span> │         <span style=\"color: #008080; text-decoration-color: #008080; font-weight: bold\">1.3</span> │        <span style=\"color: #008080; text-decoration-color: #008080; font-weight: bold\">0.2</span> │ <span style=\"color: #008000; text-decoration-color: #008000\">setosa </span> │            <span style=\"color: #008080; text-decoration-color: #008080; font-weight: bold\">3.0</span> │\n",
       "│         <span style=\"color: #008080; text-decoration-color: #008080; font-weight: bold\">4.6</span> │        <span style=\"color: #008080; text-decoration-color: #008080; font-weight: bold\">3.1</span> │         <span style=\"color: #008080; text-decoration-color: #008080; font-weight: bold\">1.5</span> │        <span style=\"color: #008080; text-decoration-color: #008080; font-weight: bold\">0.2</span> │ <span style=\"color: #008000; text-decoration-color: #008000\">setosa </span> │            <span style=\"color: #008080; text-decoration-color: #008080; font-weight: bold\">3.4</span> │\n",
       "│         <span style=\"color: #008080; text-decoration-color: #008080; font-weight: bold\">5.0</span> │        <span style=\"color: #008080; text-decoration-color: #008080; font-weight: bold\">3.6</span> │         <span style=\"color: #008080; text-decoration-color: #008080; font-weight: bold\">1.4</span> │        <span style=\"color: #008080; text-decoration-color: #008080; font-weight: bold\">0.2</span> │ <span style=\"color: #008000; text-decoration-color: #008000\">setosa </span> │            <span style=\"color: #008080; text-decoration-color: #008080; font-weight: bold\">3.2</span> │\n",
       "│         <span style=\"color: #008080; text-decoration-color: #008080; font-weight: bold\">5.4</span> │        <span style=\"color: #008080; text-decoration-color: #008080; font-weight: bold\">3.9</span> │         <span style=\"color: #008080; text-decoration-color: #008080; font-weight: bold\">1.7</span> │        <span style=\"color: #008080; text-decoration-color: #008080; font-weight: bold\">0.4</span> │ <span style=\"color: #008000; text-decoration-color: #008000\">setosa </span> │            <span style=\"color: #008080; text-decoration-color: #008080; font-weight: bold\">4.2</span> │\n",
       "│         <span style=\"color: #008080; text-decoration-color: #008080; font-weight: bold\">4.6</span> │        <span style=\"color: #008080; text-decoration-color: #008080; font-weight: bold\">3.4</span> │         <span style=\"color: #008080; text-decoration-color: #008080; font-weight: bold\">1.4</span> │        <span style=\"color: #008080; text-decoration-color: #008080; font-weight: bold\">0.3</span> │ <span style=\"color: #008000; text-decoration-color: #008000\">setosa </span> │            <span style=\"color: #008080; text-decoration-color: #008080; font-weight: bold\">3.4</span> │\n",
       "│         <span style=\"color: #008080; text-decoration-color: #008080; font-weight: bold\">5.0</span> │        <span style=\"color: #008080; text-decoration-color: #008080; font-weight: bold\">3.4</span> │         <span style=\"color: #008080; text-decoration-color: #008080; font-weight: bold\">1.5</span> │        <span style=\"color: #008080; text-decoration-color: #008080; font-weight: bold\">0.2</span> │ <span style=\"color: #008000; text-decoration-color: #008000\">setosa </span> │            <span style=\"color: #008080; text-decoration-color: #008080; font-weight: bold\">3.4</span> │\n",
       "│         <span style=\"color: #008080; text-decoration-color: #008080; font-weight: bold\">4.4</span> │        <span style=\"color: #008080; text-decoration-color: #008080; font-weight: bold\">2.9</span> │         <span style=\"color: #008080; text-decoration-color: #008080; font-weight: bold\">1.4</span> │        <span style=\"color: #008080; text-decoration-color: #008080; font-weight: bold\">0.2</span> │ <span style=\"color: #008000; text-decoration-color: #008000\">setosa </span> │            <span style=\"color: #008080; text-decoration-color: #008080; font-weight: bold\">3.2</span> │\n",
       "│         <span style=\"color: #008080; text-decoration-color: #008080; font-weight: bold\">4.9</span> │        <span style=\"color: #008080; text-decoration-color: #008080; font-weight: bold\">3.1</span> │         <span style=\"color: #008080; text-decoration-color: #008080; font-weight: bold\">1.5</span> │        <span style=\"color: #008080; text-decoration-color: #008080; font-weight: bold\">0.1</span> │ <span style=\"color: #008000; text-decoration-color: #008000\">setosa </span> │            <span style=\"color: #008080; text-decoration-color: #008080; font-weight: bold\">3.2</span> │\n",
       "│           <span style=\"color: #7f7f7f; text-decoration-color: #7f7f7f\">…</span> │          <span style=\"color: #7f7f7f; text-decoration-color: #7f7f7f\">…</span> │           <span style=\"color: #7f7f7f; text-decoration-color: #7f7f7f\">…</span> │          <span style=\"color: #7f7f7f; text-decoration-color: #7f7f7f\">…</span> │ <span style=\"color: #7f7f7f; text-decoration-color: #7f7f7f\">…</span>       │              <span style=\"color: #7f7f7f; text-decoration-color: #7f7f7f\">…</span> │\n",
       "└─────────────┴────────────┴─────────────┴────────────┴─────────┴────────────────┘\n",
       "</pre>\n"
      ],
      "text/plain": [
       "┏━━━━━━━━━━━━━┳━━━━━━━━━━━━┳━━━━━━━━━━━━━┳━━━━━━━━━━━━┳━━━━━━━━━┳━━━━━━━━━━━━━━━━┓\n",
       "┃\u001b[1m \u001b[0m\u001b[1msepalLength\u001b[0m\u001b[1m \u001b[0m┃\u001b[1m \u001b[0m\u001b[1msepalWidth\u001b[0m\u001b[1m \u001b[0m┃\u001b[1m \u001b[0m\u001b[1mpetalLength\u001b[0m\u001b[1m \u001b[0m┃\u001b[1m \u001b[0m\u001b[1mpetalWidth\u001b[0m\u001b[1m \u001b[0m┃\u001b[1m \u001b[0m\u001b[1mspecies\u001b[0m\u001b[1m \u001b[0m┃\u001b[1m \u001b[0m\u001b[1mpetalPerimeter\u001b[0m\u001b[1m \u001b[0m┃\n",
       "┡━━━━━━━━━━━━━╇━━━━━━━━━━━━╇━━━━━━━━━━━━━╇━━━━━━━━━━━━╇━━━━━━━━━╇━━━━━━━━━━━━━━━━┩\n",
       "│ \u001b[2mfloat64\u001b[0m     │ \u001b[2mfloat64\u001b[0m    │ \u001b[2mfloat64\u001b[0m     │ \u001b[2mfloat64\u001b[0m    │ \u001b[2mstring\u001b[0m  │ \u001b[2mfloat64\u001b[0m        │\n",
       "├─────────────┼────────────┼─────────────┼────────────┼─────────┼────────────────┤\n",
       "│         \u001b[1;36m5.1\u001b[0m │        \u001b[1;36m3.5\u001b[0m │         \u001b[1;36m1.4\u001b[0m │        \u001b[1;36m0.2\u001b[0m │ \u001b[32msetosa \u001b[0m │            \u001b[1;36m3.2\u001b[0m │\n",
       "│         \u001b[1;36m4.9\u001b[0m │        \u001b[1;36m3.0\u001b[0m │         \u001b[1;36m1.4\u001b[0m │        \u001b[1;36m0.2\u001b[0m │ \u001b[32msetosa \u001b[0m │            \u001b[1;36m3.2\u001b[0m │\n",
       "│         \u001b[1;36m4.7\u001b[0m │        \u001b[1;36m3.2\u001b[0m │         \u001b[1;36m1.3\u001b[0m │        \u001b[1;36m0.2\u001b[0m │ \u001b[32msetosa \u001b[0m │            \u001b[1;36m3.0\u001b[0m │\n",
       "│         \u001b[1;36m4.6\u001b[0m │        \u001b[1;36m3.1\u001b[0m │         \u001b[1;36m1.5\u001b[0m │        \u001b[1;36m0.2\u001b[0m │ \u001b[32msetosa \u001b[0m │            \u001b[1;36m3.4\u001b[0m │\n",
       "│         \u001b[1;36m5.0\u001b[0m │        \u001b[1;36m3.6\u001b[0m │         \u001b[1;36m1.4\u001b[0m │        \u001b[1;36m0.2\u001b[0m │ \u001b[32msetosa \u001b[0m │            \u001b[1;36m3.2\u001b[0m │\n",
       "│         \u001b[1;36m5.4\u001b[0m │        \u001b[1;36m3.9\u001b[0m │         \u001b[1;36m1.7\u001b[0m │        \u001b[1;36m0.4\u001b[0m │ \u001b[32msetosa \u001b[0m │            \u001b[1;36m4.2\u001b[0m │\n",
       "│         \u001b[1;36m4.6\u001b[0m │        \u001b[1;36m3.4\u001b[0m │         \u001b[1;36m1.4\u001b[0m │        \u001b[1;36m0.3\u001b[0m │ \u001b[32msetosa \u001b[0m │            \u001b[1;36m3.4\u001b[0m │\n",
       "│         \u001b[1;36m5.0\u001b[0m │        \u001b[1;36m3.4\u001b[0m │         \u001b[1;36m1.5\u001b[0m │        \u001b[1;36m0.2\u001b[0m │ \u001b[32msetosa \u001b[0m │            \u001b[1;36m3.4\u001b[0m │\n",
       "│         \u001b[1;36m4.4\u001b[0m │        \u001b[1;36m2.9\u001b[0m │         \u001b[1;36m1.4\u001b[0m │        \u001b[1;36m0.2\u001b[0m │ \u001b[32msetosa \u001b[0m │            \u001b[1;36m3.2\u001b[0m │\n",
       "│         \u001b[1;36m4.9\u001b[0m │        \u001b[1;36m3.1\u001b[0m │         \u001b[1;36m1.5\u001b[0m │        \u001b[1;36m0.1\u001b[0m │ \u001b[32msetosa \u001b[0m │            \u001b[1;36m3.2\u001b[0m │\n",
       "│           \u001b[2m…\u001b[0m │          \u001b[2m…\u001b[0m │           \u001b[2m…\u001b[0m │          \u001b[2m…\u001b[0m │ \u001b[2m…\u001b[0m       │              \u001b[2m…\u001b[0m │\n",
       "└─────────────┴────────────┴─────────────┴────────────┴─────────┴────────────────┘\n"
      ]
     },
     "metadata": {},
     "output_type": "display_data"
    }
   ],
   "source": [
    "# | echo: false\n",
    "print(i.execute(\"text\"))"
   ]
  },
  {
   "cell_type": "markdown",
   "id": "341936b1",
   "metadata": {},
   "source": [
    "#### AST"
   ]
  },
  {
   "cell_type": "code",
   "execution_count": 17,
   "id": "5a317ef5",
   "metadata": {
    "execution": {
     "iopub.execute_input": "2024-03-08T17:20:21.549492Z",
     "iopub.status.busy": "2024-03-08T17:20:21.549397Z",
     "iopub.status.idle": "2024-03-08T17:20:21.551870Z",
     "shell.execute_reply": "2024-03-08T17:20:21.551597Z"
    }
   },
   "outputs": [
    {
     "data": {
      "text/plain": [
       "r0 := DatabaseTable: iris\n",
       "  sepalLength float64\n",
       "  sepalWidth  float64\n",
       "  petalLength float64\n",
       "  petalWidth  float64\n",
       "  species     string\n",
       "\n",
       "Project[r0]\n",
       "  sepalLength:    r0.sepalLength\n",
       "  sepalWidth:     r0.sepalWidth\n",
       "  petalLength:    r0.petalLength\n",
       "  petalWidth:     r0.petalWidth\n",
       "  species:        r0.species\n",
       "  petalPerimeter: r0.petalLength + r0.petalWidth * 2"
      ]
     },
     "execution_count": 17,
     "metadata": {},
     "output_type": "execute_result"
    }
   ],
   "source": [
    "# | echo: false\n",
    "i"
   ]
  },
  {
   "cell_type": "markdown",
   "id": "7f7f8732",
   "metadata": {},
   "source": [
    "#### AST graph\n"
   ]
  },
  {
   "cell_type": "code",
   "execution_count": 18,
   "id": "ca76f8b2",
   "metadata": {
    "execution": {
     "iopub.execute_input": "2024-03-08T17:20:21.553593Z",
     "iopub.status.busy": "2024-03-08T17:20:21.553499Z",
     "iopub.status.idle": "2024-03-08T17:20:22.728445Z",
     "shell.execute_reply": "2024-03-08T17:20:22.728066Z"
    }
   },
   "outputs": [
    {
     "data": {
      "text/html": [
       "<pre style=\"white-space:pre;overflow-x:auto;line-height:normal;font-family:Menlo,'DejaVu Sans Mono',consolas,'Courier New',monospace\">                                                                                                                           ╭────────────────────────────╮                                                                   \n",
       "                                                                                                                           │ <span style=\"font-weight: bold\">Project</span>                    │                                                                   \n",
       "                                                                                                                           │ <span style=\"font-weight: bold\">   </span><span style=\"font-weight: bold; font-style: italic\">sepalLength: </span><span style=\"color: #808000; text-decoration-color: #808000; font-weight: bold; font-style: italic\">float64</span>    │                                                                   \n",
       "                                                                                                                           │ <span style=\"font-weight: bold\">   </span><span style=\"font-weight: bold; font-style: italic\">sepalWidth: </span><span style=\"color: #808000; text-decoration-color: #808000; font-weight: bold; font-style: italic\">float64</span>     │                                                                   \n",
       "           ╭──────────────────────────────────────────────────────────────────────────────────────────────────────────────▶│ <span style=\"font-weight: bold\">   </span><span style=\"font-weight: bold; font-style: italic\">petalLength: </span><span style=\"color: #808000; text-decoration-color: #808000; font-weight: bold; font-style: italic\">float64</span>    │◀───────────────────────────────────────────────────────╮          \n",
       "           │                                                                                                               │ <span style=\"font-weight: bold\">   </span><span style=\"font-weight: bold; font-style: italic\">petalWidth: </span><span style=\"color: #808000; text-decoration-color: #808000; font-weight: bold; font-style: italic\">float64</span>     │ │                                                      │          \n",
       "           │                                                                                                               │ <span style=\"font-weight: bold\">   </span><span style=\"font-weight: bold; font-style: italic\">species: </span><span style=\"color: #ffaf00; text-decoration-color: #ffaf00; font-weight: bold; font-style: italic\">string</span>         │ │                                                      │          \n",
       "           │                                                                                                    ╭─────────▶│ <span style=\"font-weight: bold\">   </span><span style=\"font-weight: bold; font-style: italic\">petalPerimeter: </span><span style=\"color: #808000; text-decoration-color: #808000; font-weight: bold; font-style: italic\">float64</span> │ │                                                      │          \n",
       "           │                                                                                                    │          ╰────────────────────────────╯ │                                                      │          \n",
       "           │                                                                                                    │               ▲         ▲               │                                                      │          \n",
       "           │                                      ╭───────────────────────────────────────────────────────────────────────────────────────│               │                                                      │          \n",
       "           │                                      │                                                             │               │         │               │                                                      │          \n",
       "           │                                      │                                                 ╭───────────╯               │         │               │                                                      │          \n",
       "╭────────────────────╮                  ╭───────────────────╮                 ╭────────────────╮    │          ╭───────────────╮│         │               │                                                      │          \n",
       "│ <span style=\"font-style: italic\">sepalLength: </span><span style=\"font-weight: bold; font-style: italic\">Field</span> │                  │ <span style=\"font-style: italic\">sepalWidth: </span><span style=\"font-weight: bold; font-style: italic\">Field</span> │                 │ <span style=\"font-style: italic\">species: </span><span style=\"font-weight: bold; font-style: italic\">Field</span> │    │          │ <span style=\"font-weight: bold\">Multiply</span>      ││         │               │                                                      │          \n",
       "│ <span style=\"font-style: italic\">   :: </span><span style=\"color: #808000; text-decoration-color: #808000; font-style: italic\">float64</span>      │                  │ <span style=\"font-style: italic\">   :: </span><span style=\"color: #808000; text-decoration-color: #808000; font-style: italic\">float64</span>     │                 │ <span style=\"font-style: italic\">   :: </span><span style=\"color: #ffaf00; text-decoration-color: #ffaf00; font-style: italic\">string</span>   │────╯          │ <span style=\"font-weight: bold\">   :: </span><span style=\"color: #808000; text-decoration-color: #808000; font-weight: bold\">float64</span> │◀─────────│───────────────│───────────────────────────────────╮                  │          \n",
       "╰────────────────────╯                  ╰───────────────────╯                 ╰────────────────╯               ╰───────────────╯          │               │                                   │                  │          \n",
       "           ▲                                      ▲                                    ▲                               ▲                  │               │                                   │                  │          \n",
       "           │                                      │                                    │                               │                  │               │                                   │                  │          \n",
       "           │                                      │                                    │                               │                  │               │                                   │                  │          \n",
       "           │                                      │                                    │                               │                  │               │                                   │                  │          \n",
       "           │                                      │                                    │                        ╭────────────╮            │               │                           ╭───────────────╮          │          \n",
       "           │                                      │                                    ╰────────────╮           │ <span style=\"font-style: italic\">2: </span><span style=\"font-weight: bold; font-style: italic\">Literal</span> │            │               │                           │ <span style=\"font-weight: bold\">Add</span>           │          │          \n",
       "           │                                      │                                                 │           │ <span style=\"font-style: italic\">   :: </span><span style=\"color: #808000; text-decoration-color: #808000; font-style: italic\">int8</span> │            │               │                ╭─────────▶│ <span style=\"font-weight: bold\">   :: </span><span style=\"color: #808000; text-decoration-color: #808000; font-weight: bold\">float64</span> │          │          \n",
       "           │                                      │                                                 │           ╰────────────╯            │               │                │          ╰───────────────╯          │          \n",
       "           │                                      │                                                 │                                     │               │                │                  ▲                  │          \n",
       "           │                                      │                                                 │                                     │               │                │                  │                  │          \n",
       "           │                                      │                                                 │                                     │               │                │                  │                  │          \n",
       "           │                                      ╰───────────────────────────────────────────╮     ╰────────────────────────╮            │               │                │                  │                  │          \n",
       "           │                                                                                  │                              │            │               │      ╭───────────────────╮        │       ╭────────────────────╮\n",
       "           │                                                                                  │                              │            │               │      │ <span style=\"font-style: italic\">petalWidth: </span><span style=\"font-weight: bold; font-style: italic\">Field</span> │        │       │ <span style=\"font-style: italic\">petalLength: </span><span style=\"font-weight: bold; font-style: italic\">Field</span> │\n",
       "           │                                                                                  │                              │            │               ╰──────│ <span style=\"font-style: italic\">   :: </span><span style=\"color: #808000; text-decoration-color: #808000; font-style: italic\">float64</span>     │        ╰───────│ <span style=\"font-style: italic\">   :: </span><span style=\"color: #808000; text-decoration-color: #808000; font-style: italic\">float64</span>      │\n",
       "           │                                                                                  │                              │            │                      ╰───────────────────╯                ╰────────────────────╯\n",
       "           │                                                                                  │                              │            │                                ▲                                     ▲          \n",
       "           │                                                                                  ╰─────────────────────╮        │            │                                │                                     │          \n",
       "           │                                                                                                        │        │            │                                │                                     │          \n",
       "           │                                                                                                        │        │            │────────────────────────────────╯                                     │          \n",
       "           │                                                                                                        │        ╭─────────────────────────╮                                                         │          \n",
       "           │                                                                                                        ╰────────│ <span style=\"font-style: italic\">iris: </span><span style=\"font-weight: bold; font-style: italic\">DatabaseTable</span>     │                                                         │          \n",
       "           │                                                                                                                 │ <span style=\"font-style: italic\">   sepalLength: </span><span style=\"color: #808000; text-decoration-color: #808000; font-style: italic\">float64</span> │                                                         │          \n",
       "           │                                                                                                                 │ <span style=\"font-style: italic\">   sepalWidth: </span><span style=\"color: #808000; text-decoration-color: #808000; font-style: italic\">float64</span>  │                                                         │          \n",
       "           ╰─────────────────────────────────────────────────────────────────────────────────────────────────────────────────│ <span style=\"font-style: italic\">   petalLength: </span><span style=\"color: #808000; text-decoration-color: #808000; font-style: italic\">float64</span> │─────────────────────────────────────────────────────────╯          \n",
       "                                                                                                                             │ <span style=\"font-style: italic\">   petalWidth: </span><span style=\"color: #808000; text-decoration-color: #808000; font-style: italic\">float64</span>  │                                                                    \n",
       "                                                                                                                             │ <span style=\"font-style: italic\">   species: </span><span style=\"color: #ffaf00; text-decoration-color: #ffaf00; font-style: italic\">string</span>      │                                                                    \n",
       "                                                                                                                             ╰─────────────────────────╯                                                                    \n",
       "</pre>\n"
      ],
      "text/plain": [
       "                                                                                                                           ╭────────────────────────────╮                                                                   \n",
       "                                                                                                                           │ \u001b[1mProject\u001b[0m                    │                                                                   \n",
       "                                                                                                                           │ \u001b[1m   \u001b[0m\u001b[1;3msepalLength: \u001b[0m\u001b[1;3;33mfloat64\u001b[0m    │                                                                   \n",
       "                                                                                                                           │ \u001b[1m   \u001b[0m\u001b[1;3msepalWidth: \u001b[0m\u001b[1;3;33mfloat64\u001b[0m     │                                                                   \n",
       "           ╭──────────────────────────────────────────────────────────────────────────────────────────────────────────────▶│ \u001b[1m   \u001b[0m\u001b[1;3mpetalLength: \u001b[0m\u001b[1;3;33mfloat64\u001b[0m    │◀───────────────────────────────────────────────────────╮          \n",
       "           │                                                                                                               │ \u001b[1m   \u001b[0m\u001b[1;3mpetalWidth: \u001b[0m\u001b[1;3;33mfloat64\u001b[0m     │ │                                                      │          \n",
       "           │                                                                                                               │ \u001b[1m   \u001b[0m\u001b[1;3mspecies: \u001b[0m\u001b[1;3;38;5;214mstring\u001b[0m         │ │                                                      │          \n",
       "           │                                                                                                    ╭─────────▶│ \u001b[1m   \u001b[0m\u001b[1;3mpetalPerimeter: \u001b[0m\u001b[1;3;33mfloat64\u001b[0m │ │                                                      │          \n",
       "           │                                                                                                    │          ╰────────────────────────────╯ │                                                      │          \n",
       "           │                                                                                                    │               ▲         ▲               │                                                      │          \n",
       "           │                                      ╭───────────────────────────────────────────────────────────────────────────────────────│               │                                                      │          \n",
       "           │                                      │                                                             │               │         │               │                                                      │          \n",
       "           │                                      │                                                 ╭───────────╯               │         │               │                                                      │          \n",
       "╭────────────────────╮                  ╭───────────────────╮                 ╭────────────────╮    │          ╭───────────────╮│         │               │                                                      │          \n",
       "│ \u001b[3msepalLength: \u001b[0m\u001b[1;3mField\u001b[0m │                  │ \u001b[3msepalWidth: \u001b[0m\u001b[1;3mField\u001b[0m │                 │ \u001b[3mspecies: \u001b[0m\u001b[1;3mField\u001b[0m │    │          │ \u001b[1mMultiply\u001b[0m      ││         │               │                                                      │          \n",
       "│ \u001b[3m   :: \u001b[0m\u001b[3;33mfloat64\u001b[0m      │                  │ \u001b[3m   :: \u001b[0m\u001b[3;33mfloat64\u001b[0m     │                 │ \u001b[3m   :: \u001b[0m\u001b[3;38;5;214mstring\u001b[0m   │────╯          │ \u001b[1m   :: \u001b[0m\u001b[1;33mfloat64\u001b[0m │◀─────────│───────────────│───────────────────────────────────╮                  │          \n",
       "╰────────────────────╯                  ╰───────────────────╯                 ╰────────────────╯               ╰───────────────╯          │               │                                   │                  │          \n",
       "           ▲                                      ▲                                    ▲                               ▲                  │               │                                   │                  │          \n",
       "           │                                      │                                    │                               │                  │               │                                   │                  │          \n",
       "           │                                      │                                    │                               │                  │               │                                   │                  │          \n",
       "           │                                      │                                    │                               │                  │               │                                   │                  │          \n",
       "           │                                      │                                    │                        ╭────────────╮            │               │                           ╭───────────────╮          │          \n",
       "           │                                      │                                    ╰────────────╮           │ \u001b[3m2: \u001b[0m\u001b[1;3mLiteral\u001b[0m │            │               │                           │ \u001b[1mAdd\u001b[0m           │          │          \n",
       "           │                                      │                                                 │           │ \u001b[3m   :: \u001b[0m\u001b[3;33mint8\u001b[0m │            │               │                ╭─────────▶│ \u001b[1m   :: \u001b[0m\u001b[1;33mfloat64\u001b[0m │          │          \n",
       "           │                                      │                                                 │           ╰────────────╯            │               │                │          ╰───────────────╯          │          \n",
       "           │                                      │                                                 │                                     │               │                │                  ▲                  │          \n",
       "           │                                      │                                                 │                                     │               │                │                  │                  │          \n",
       "           │                                      │                                                 │                                     │               │                │                  │                  │          \n",
       "           │                                      ╰───────────────────────────────────────────╮     ╰────────────────────────╮            │               │                │                  │                  │          \n",
       "           │                                                                                  │                              │            │               │      ╭───────────────────╮        │       ╭────────────────────╮\n",
       "           │                                                                                  │                              │            │               │      │ \u001b[3mpetalWidth: \u001b[0m\u001b[1;3mField\u001b[0m │        │       │ \u001b[3mpetalLength: \u001b[0m\u001b[1;3mField\u001b[0m │\n",
       "           │                                                                                  │                              │            │               ╰──────│ \u001b[3m   :: \u001b[0m\u001b[3;33mfloat64\u001b[0m     │        ╰───────│ \u001b[3m   :: \u001b[0m\u001b[3;33mfloat64\u001b[0m      │\n",
       "           │                                                                                  │                              │            │                      ╰───────────────────╯                ╰────────────────────╯\n",
       "           │                                                                                  │                              │            │                                ▲                                     ▲          \n",
       "           │                                                                                  ╰─────────────────────╮        │            │                                │                                     │          \n",
       "           │                                                                                                        │        │            │                                │                                     │          \n",
       "           │                                                                                                        │        │            │────────────────────────────────╯                                     │          \n",
       "           │                                                                                                        │        ╭─────────────────────────╮                                                         │          \n",
       "           │                                                                                                        ╰────────│ \u001b[3miris: \u001b[0m\u001b[1;3mDatabaseTable\u001b[0m     │                                                         │          \n",
       "           │                                                                                                                 │ \u001b[3m   \u001b[0m\u001b[3msepalLength: \u001b[0m\u001b[3;33mfloat64\u001b[0m │                                                         │          \n",
       "           │                                                                                                                 │ \u001b[3m   \u001b[0m\u001b[3msepalWidth: \u001b[0m\u001b[3;33mfloat64\u001b[0m  │                                                         │          \n",
       "           ╰─────────────────────────────────────────────────────────────────────────────────────────────────────────────────│ \u001b[3m   \u001b[0m\u001b[3mpetalLength: \u001b[0m\u001b[3;33mfloat64\u001b[0m │─────────────────────────────────────────────────────────╯          \n",
       "                                                                                                                             │ \u001b[3m   \u001b[0m\u001b[3mpetalWidth: \u001b[0m\u001b[3;33mfloat64\u001b[0m  │                                                                    \n",
       "                                                                                                                             │ \u001b[3m   \u001b[0m\u001b[3mspecies: \u001b[0m\u001b[3;38;5;214mstring\u001b[0m      │                                                                    \n",
       "                                                                                                                             ╰─────────────────────────╯                                                                    \n"
      ]
     },
     "metadata": {},
     "output_type": "display_data"
    }
   ],
   "source": [
    "# | echo: false\n",
    "i.visualize()"
   ]
  },
  {
   "cell_type": "markdown",
   "id": "9c816b68",
   "metadata": {},
   "source": [
    ":::"
   ]
  },
  {
   "cell_type": "markdown",
   "id": "6ba0a368",
   "metadata": {},
   "source": [
    "</Accordion>"
   ]
  },
  {
   "cell_type": "markdown",
   "id": "7842b775",
   "metadata": {},
   "source": [
    "<Accordion title=\"Window Automation\">"
   ]
  },
  {
   "cell_type": "code",
   "execution_count": 19,
   "id": "e3e65993",
   "metadata": {
    "execution": {
     "iopub.execute_input": "2024-03-08T17:20:22.730798Z",
     "iopub.status.busy": "2024-03-08T17:20:22.730716Z",
     "iopub.status.idle": "2024-03-08T17:20:22.750626Z",
     "shell.execute_reply": "2024-03-08T17:20:22.750340Z"
    }
   },
   "outputs": [],
   "source": [
    "# | echo: false\n",
    "from vinyl.examples import co2_concentration\n",
    "\n",
    "co2_concentration = co2_concentration()\n",
    "\n",
    "co2_concentration = co2_concentration.define(\n",
    "    {\"Date\": co2_concentration.Date.cast(\"date\")}\n",
    ")\n",
    "co2_concentration = co2_concentration._create_view(\"co2_concentration\")"
   ]
  },
  {
   "cell_type": "code",
   "execution_count": 20,
   "id": "5a863018",
   "metadata": {
    "execution": {
     "iopub.execute_input": "2024-03-08T17:20:22.752213Z",
     "iopub.status.busy": "2024-03-08T17:20:22.752103Z",
     "iopub.status.idle": "2024-03-08T17:20:22.756973Z",
     "shell.execute_reply": "2024-03-08T17:20:22.756593Z"
    }
   },
   "outputs": [],
   "source": [
    "with co2_concentration as c:\n",
    "    c.define(\n",
    "        {\"CO2_normalized\": c.CO2 - c.CO2.mean()},\n",
    "        by=[c.Date.dt.extract(\"month\")],\n",
    "    )\n",
    "    c.select([c.CO2_normalized], sort=c.Date)"
   ]
  },
  {
   "cell_type": "markdown",
   "id": "20270670",
   "metadata": {},
   "source": [
    "::: {.panel-tabset}"
   ]
  },
  {
   "cell_type": "markdown",
   "id": "a21644e9",
   "metadata": {},
   "source": [
    "#### SQL\n"
   ]
  },
  {
   "cell_type": "code",
   "execution_count": 21,
   "id": "842293f2",
   "metadata": {
    "execution": {
     "iopub.execute_input": "2024-03-08T17:20:22.758548Z",
     "iopub.status.busy": "2024-03-08T17:20:22.758462Z",
     "iopub.status.idle": "2024-03-08T17:20:22.764506Z",
     "shell.execute_reply": "2024-03-08T17:20:22.764248Z"
    }
   },
   "outputs": [
    {
     "data": {
      "text/html": [
       "<pre style=\"white-space:pre;overflow-x:auto;line-height:normal;font-family:Menlo,'DejaVu Sans Mono',consolas,'Courier New',monospace\">SELECT\n",
       "  <span style=\"color: #008000; text-decoration-color: #008000\">\"t1\"</span>.<span style=\"color: #008000; text-decoration-color: #008000\">\"Date\"</span>,\n",
       "  <span style=\"color: #008000; text-decoration-color: #008000\">\"t1\"</span>.<span style=\"color: #008000; text-decoration-color: #008000\">\"CO2_normalized\"</span>\n",
       "FROM <span style=\"font-weight: bold\">(</span>\n",
       "  SELECT\n",
       "    <span style=\"color: #800080; text-decoration-color: #800080; font-weight: bold\">EXTRACT</span><span style=\"font-weight: bold\">(</span>month FROM <span style=\"color: #008000; text-decoration-color: #008000\">\"t0\"</span>.<span style=\"color: #008000; text-decoration-color: #008000\">\"Date\"</span><span style=\"font-weight: bold\">)</span> AS <span style=\"color: #008000; text-decoration-color: #008000\">\"ExtractMonth(Date)\"</span>,\n",
       "    <span style=\"color: #008000; text-decoration-color: #008000\">\"t0\"</span>.<span style=\"color: #008000; text-decoration-color: #008000\">\"CO2\"</span>,\n",
       "    <span style=\"color: #008000; text-decoration-color: #008000\">\"t0\"</span>.<span style=\"color: #008000; text-decoration-color: #008000\">\"Date\"</span>,\n",
       "    <span style=\"color: #008000; text-decoration-color: #008000\">\"t0\"</span>.<span style=\"color: #008000; text-decoration-color: #008000\">\"CO2\"</span> - <span style=\"color: #800080; text-decoration-color: #800080; font-weight: bold\">AVG</span><span style=\"font-weight: bold\">(</span><span style=\"color: #008000; text-decoration-color: #008000\">\"t0\"</span>.<span style=\"color: #008000; text-decoration-color: #008000\">\"CO2\"</span><span style=\"font-weight: bold\">)</span> OVER <span style=\"font-weight: bold\">(</span>PARTITION BY <span style=\"color: #800080; text-decoration-color: #800080; font-weight: bold\">EXTRACT</span><span style=\"font-weight: bold\">(</span>month FROM <span style=\"color: #008000; text-decoration-color: #008000\">\"t0\"</span>.<span style=\"color: #008000; text-decoration-color: #008000\">\"Date\"</span><span style=\"font-weight: bold\">)</span> ROWS BETWEEN UNBOUNDED PRECEDING AND UNBOUNDED FOLLOWING<span style=\"font-weight: bold\">)</span> AS <span style=\"color: #008000; text-decoration-color: #008000\">\"CO2_normalized\"</span>\n",
       "  FROM <span style=\"color: #008000; text-decoration-color: #008000\">\"co2_concentration​\"</span> AS <span style=\"color: #008000; text-decoration-color: #008000\">\"t0\"</span>\n",
       "<span style=\"font-weight: bold\">)</span> AS <span style=\"color: #008000; text-decoration-color: #008000\">\"t1\"</span>\n",
       "ORDER BY\n",
       "  <span style=\"color: #008000; text-decoration-color: #008000\">\"t1\"</span>.<span style=\"color: #008000; text-decoration-color: #008000\">\"Date\"</span> ASC\n",
       "</pre>\n"
      ],
      "text/plain": [
       "SELECT\n",
       "  \u001b[32m\"t1\"\u001b[0m.\u001b[32m\"Date\"\u001b[0m,\n",
       "  \u001b[32m\"t1\"\u001b[0m.\u001b[32m\"CO2_normalized\"\u001b[0m\n",
       "FROM \u001b[1m(\u001b[0m\n",
       "  SELECT\n",
       "    \u001b[1;35mEXTRACT\u001b[0m\u001b[1m(\u001b[0mmonth FROM \u001b[32m\"t0\"\u001b[0m.\u001b[32m\"Date\"\u001b[0m\u001b[1m)\u001b[0m AS \u001b[32m\"ExtractMonth\u001b[0m\u001b[32m(\u001b[0m\u001b[32mDate\u001b[0m\u001b[32m)\u001b[0m\u001b[32m\"\u001b[0m,\n",
       "    \u001b[32m\"t0\"\u001b[0m.\u001b[32m\"CO2\"\u001b[0m,\n",
       "    \u001b[32m\"t0\"\u001b[0m.\u001b[32m\"Date\"\u001b[0m,\n",
       "    \u001b[32m\"t0\"\u001b[0m.\u001b[32m\"CO2\"\u001b[0m - \u001b[1;35mAVG\u001b[0m\u001b[1m(\u001b[0m\u001b[32m\"t0\"\u001b[0m.\u001b[32m\"CO2\"\u001b[0m\u001b[1m)\u001b[0m OVER \u001b[1m(\u001b[0mPARTITION BY \u001b[1;35mEXTRACT\u001b[0m\u001b[1m(\u001b[0mmonth FROM \u001b[32m\"t0\"\u001b[0m.\u001b[32m\"Date\"\u001b[0m\u001b[1m)\u001b[0m ROWS BETWEEN UNBOUNDED PRECEDING AND UNBOUNDED FOLLOWING\u001b[1m)\u001b[0m AS \u001b[32m\"CO2_normalized\"\u001b[0m\n",
       "  FROM \u001b[32m\"co2_concentration​\"\u001b[0m AS \u001b[32m\"t0\"\u001b[0m\n",
       "\u001b[1m)\u001b[0m AS \u001b[32m\"t1\"\u001b[0m\n",
       "ORDER BY\n",
       "  \u001b[32m\"t1\"\u001b[0m.\u001b[32m\"Date\"\u001b[0m ASC\n"
      ]
     },
     "metadata": {},
     "output_type": "display_data"
    }
   ],
   "source": [
    "# | echo: false\n",
    "print(c.to_sql())"
   ]
  },
  {
   "cell_type": "markdown",
   "id": "f22a358e",
   "metadata": {},
   "source": [
    "#### Result"
   ]
  },
  {
   "cell_type": "code",
   "execution_count": 22,
   "id": "ebe4b6d8",
   "metadata": {
    "execution": {
     "iopub.execute_input": "2024-03-08T17:20:22.766499Z",
     "iopub.status.busy": "2024-03-08T17:20:22.766401Z",
     "iopub.status.idle": "2024-03-08T17:20:22.777361Z",
     "shell.execute_reply": "2024-03-08T17:20:22.777107Z"
    }
   },
   "outputs": [
    {
     "data": {
      "text/html": [
       "<pre style=\"white-space:pre;overflow-x:auto;line-height:normal;font-family:Menlo,'DejaVu Sans Mono',consolas,'Courier New',monospace\">┏━━━━━━━━━━━━┳━━━━━━━━━━━━━━━━┓\n",
       "┃<span style=\"font-weight: bold\"> Date       </span>┃<span style=\"font-weight: bold\"> CO2_normalized </span>┃\n",
       "┡━━━━━━━━━━━━╇━━━━━━━━━━━━━━━━┩\n",
       "│ <span style=\"color: #7f7f7f; text-decoration-color: #7f7f7f\">date</span>       │ <span style=\"color: #7f7f7f; text-decoration-color: #7f7f7f\">float64</span>        │\n",
       "├────────────┼────────────────┤\n",
       "│ <span style=\"color: #800080; text-decoration-color: #800080\">1958-03-01</span> │     <span style=\"color: #008080; text-decoration-color: #008080; font-weight: bold\">-38.557288</span> │\n",
       "│ <span style=\"color: #800080; text-decoration-color: #800080\">1958-04-01</span> │     <span style=\"color: #008080; text-decoration-color: #008080; font-weight: bold\">-38.167797</span> │\n",
       "│ <span style=\"color: #800080; text-decoration-color: #800080\">1958-05-01</span> │     <span style=\"color: #008080; text-decoration-color: #008080; font-weight: bold\">-38.147167</span> │\n",
       "│ <span style=\"color: #800080; text-decoration-color: #800080\">1958-07-01</span> │     <span style=\"color: #008080; text-decoration-color: #008080; font-weight: bold\">-37.738333</span> │\n",
       "│ <span style=\"color: #800080; text-decoration-color: #800080\">1958-08-01</span> │     <span style=\"color: #008080; text-decoration-color: #008080; font-weight: bold\">-36.673667</span> │\n",
       "│ <span style=\"color: #800080; text-decoration-color: #800080\">1958-09-01</span> │     <span style=\"color: #008080; text-decoration-color: #008080; font-weight: bold\">-36.724833</span> │\n",
       "│ <span style=\"color: #800080; text-decoration-color: #800080\">1958-11-01</span> │     <span style=\"color: #008080; text-decoration-color: #008080; font-weight: bold\">-37.977833</span> │\n",
       "│ <span style=\"color: #800080; text-decoration-color: #800080\">1958-12-01</span> │     <span style=\"color: #008080; text-decoration-color: #008080; font-weight: bold\">-37.934667</span> │\n",
       "│ <span style=\"color: #800080; text-decoration-color: #800080\">1959-01-01</span> │     <span style=\"color: #008080; text-decoration-color: #008080; font-weight: bold\">-37.171695</span> │\n",
       "│ <span style=\"color: #800080; text-decoration-color: #800080\">1959-02-01</span> │     <span style=\"color: #008080; text-decoration-color: #008080; font-weight: bold\">-37.620862</span> │\n",
       "│ <span style=\"color: #7f7f7f; text-decoration-color: #7f7f7f\">…</span>          │              <span style=\"color: #7f7f7f; text-decoration-color: #7f7f7f\">…</span> │\n",
       "└────────────┴────────────────┘\n",
       "</pre>\n"
      ],
      "text/plain": [
       "┏━━━━━━━━━━━━┳━━━━━━━━━━━━━━━━┓\n",
       "┃\u001b[1m \u001b[0m\u001b[1mDate\u001b[0m\u001b[1m      \u001b[0m\u001b[1m \u001b[0m┃\u001b[1m \u001b[0m\u001b[1mCO2_normalized\u001b[0m\u001b[1m \u001b[0m┃\n",
       "┡━━━━━━━━━━━━╇━━━━━━━━━━━━━━━━┩\n",
       "│ \u001b[2mdate\u001b[0m       │ \u001b[2mfloat64\u001b[0m        │\n",
       "├────────────┼────────────────┤\n",
       "│ \u001b[35m1958-03-01\u001b[0m │     \u001b[1;36m-38.557288\u001b[0m │\n",
       "│ \u001b[35m1958-04-01\u001b[0m │     \u001b[1;36m-38.167797\u001b[0m │\n",
       "│ \u001b[35m1958-05-01\u001b[0m │     \u001b[1;36m-38.147167\u001b[0m │\n",
       "│ \u001b[35m1958-07-01\u001b[0m │     \u001b[1;36m-37.738333\u001b[0m │\n",
       "│ \u001b[35m1958-08-01\u001b[0m │     \u001b[1;36m-36.673667\u001b[0m │\n",
       "│ \u001b[35m1958-09-01\u001b[0m │     \u001b[1;36m-36.724833\u001b[0m │\n",
       "│ \u001b[35m1958-11-01\u001b[0m │     \u001b[1;36m-37.977833\u001b[0m │\n",
       "│ \u001b[35m1958-12-01\u001b[0m │     \u001b[1;36m-37.934667\u001b[0m │\n",
       "│ \u001b[35m1959-01-01\u001b[0m │     \u001b[1;36m-37.171695\u001b[0m │\n",
       "│ \u001b[35m1959-02-01\u001b[0m │     \u001b[1;36m-37.620862\u001b[0m │\n",
       "│ \u001b[2m…\u001b[0m          │              \u001b[2m…\u001b[0m │\n",
       "└────────────┴────────────────┘\n"
      ]
     },
     "metadata": {},
     "output_type": "display_data"
    }
   ],
   "source": [
    "# | echo: false\n",
    "print(c.execute(\"text\"))"
   ]
  },
  {
   "cell_type": "markdown",
   "id": "6f204653",
   "metadata": {},
   "source": [
    "#### AST"
   ]
  },
  {
   "cell_type": "code",
   "execution_count": 23,
   "id": "ad58cb81",
   "metadata": {
    "execution": {
     "iopub.execute_input": "2024-03-08T17:20:22.778710Z",
     "iopub.status.busy": "2024-03-08T17:20:22.778638Z",
     "iopub.status.idle": "2024-03-08T17:20:22.781477Z",
     "shell.execute_reply": "2024-03-08T17:20:22.781249Z"
    }
   },
   "outputs": [
    {
     "data": {
      "text/plain": [
       "r0 := DatabaseTable: co2_concentration​\n",
       "  CO2  float64\n",
       "  Date date\n",
       "\n",
       "r1 := Project[r0]\n",
       "  ExtractMonth(Date): ExtractMonth(r0.Date)\n",
       "  CO2:                r0.CO2\n",
       "  Date:               r0.Date\n",
       "  CO2_normalized:     r0.CO2 - WindowFunction(func=Mean(r0.CO2), frame=RowsWindowFrame(table=r0, group_by=[ExtractMonth(r0.Date)]))\n",
       "\n",
       "r2 := Project[r1]\n",
       "  Date:           r1.Date\n",
       "  CO2_normalized: r1.CO2_normalized\n",
       "\n",
       "Sort[r2]\n",
       "  asc r2.Date"
      ]
     },
     "execution_count": 23,
     "metadata": {},
     "output_type": "execute_result"
    }
   ],
   "source": [
    "# | echo: false\n",
    "c"
   ]
  },
  {
   "cell_type": "markdown",
   "id": "1398270e",
   "metadata": {},
   "source": [
    "#### AST graph\n"
   ]
  },
  {
   "cell_type": "code",
   "execution_count": 24,
   "id": "f7436649",
   "metadata": {
    "execution": {
     "iopub.execute_input": "2024-03-08T17:20:22.783261Z",
     "iopub.status.busy": "2024-03-08T17:20:22.783168Z",
     "iopub.status.idle": "2024-03-08T17:20:23.990395Z",
     "shell.execute_reply": "2024-03-08T17:20:23.990059Z"
    }
   },
   "outputs": [
    {
     "data": {
      "text/html": [
       "<pre style=\"white-space:pre;overflow-x:auto;line-height:normal;font-family:Menlo,'DejaVu Sans Mono',consolas,'Courier New',monospace\">                                                                         ╭────────────────────────────╮          \n",
       "                                                                         │ <span style=\"font-weight: bold\">Sort</span>                       │          \n",
       "                                                                         │ <span style=\"font-weight: bold\">   </span><span style=\"font-weight: bold; font-style: italic\">Date: </span><span style=\"color: #008080; text-decoration-color: #008080; font-weight: bold; font-style: italic\">date</span>              │          \n",
       "                                                                         │ <span style=\"font-weight: bold\">   </span><span style=\"font-weight: bold; font-style: italic\">CO2_normalized: </span><span style=\"color: #808000; text-decoration-color: #808000; font-weight: bold; font-style: italic\">float64</span> │          \n",
       "                                                                         ╰────────────────────────────╯          \n",
       "                                                                         ▲              ▲                        \n",
       "                                                                         │              │                        \n",
       "                                                                         │              │                        \n",
       "                                                                  ╭────────────╮        │                        \n",
       "                                                                  │ <span style=\"font-weight: bold\">SortKey</span>    │        │                        \n",
       "                                                                  │ <span style=\"font-weight: bold\">   :: </span><span style=\"color: #008080; text-decoration-color: #008080; font-weight: bold\">date</span> │        │                        \n",
       "                                                                  ╰────────────╯        │                        \n",
       "                                                                         ▲              │                        \n",
       "                                                                         │              │                        \n",
       "                                                                         │              │                        \n",
       "                                                                         │              │                        \n",
       "                                                                  ╭─────────────╮       │                        \n",
       "                                                                  │ <span style=\"font-style: italic\">Date: </span><span style=\"font-weight: bold; font-style: italic\">Field</span> │       │                        \n",
       "                                                                  │ <span style=\"font-style: italic\">   :: </span><span style=\"color: #008080; text-decoration-color: #008080; font-style: italic\">date</span>  │       │                        \n",
       "                                                                  ╰─────────────╯       │                        \n",
       "                                                                         ▲              │                        \n",
       "                                                                         │              │                        \n",
       "                                                                         ╰──────╮       │                        \n",
       "                                                                                │       │                        \n",
       "                                                                                ╰───────│                        \n",
       "                                                                         ╭────────────────────────────╮          \n",
       "                                                                         │ <span style=\"font-weight: bold\">Project</span>                    │          \n",
       "                                                   ╭────────────────────▶│ <span style=\"font-weight: bold\">   </span><span style=\"font-weight: bold; font-style: italic\">Date: </span><span style=\"color: #008080; text-decoration-color: #008080; font-weight: bold; font-style: italic\">date</span>              │          \n",
       "                                                   │                     │ <span style=\"font-weight: bold\">   </span><span style=\"font-weight: bold; font-style: italic\">CO2_normalized: </span><span style=\"color: #808000; text-decoration-color: #808000; font-weight: bold; font-style: italic\">float64</span> │          \n",
       "                                                   │                     ╰────────────────────────────╯          \n",
       "                                                   │                                   ▲▲                        \n",
       "                                                   │                                   ││                        \n",
       "                                                   │                                   ││                        \n",
       "                                            ╭─────────────╮                ╭───────────────────────╮             \n",
       "                                            │ <span style=\"font-style: italic\">Date: </span><span style=\"font-weight: bold; font-style: italic\">Field</span> │                │ <span style=\"font-style: italic\">CO2_normalized: </span><span style=\"font-weight: bold; font-style: italic\">Field</span> │             \n",
       "                                            │ <span style=\"font-style: italic\">   :: </span><span style=\"color: #008080; text-decoration-color: #008080; font-style: italic\">date</span>  │                │ <span style=\"font-style: italic\">   :: </span><span style=\"color: #808000; text-decoration-color: #808000; font-style: italic\">float64</span>         │             \n",
       "                                            ╰─────────────╯                ╰───────────────────────╯             \n",
       "                                                   ▲                                   ▲│                        \n",
       "                                                   │                                   ││                        \n",
       "                                                   │                                   ││                        \n",
       "                                                   ╰───────────────────────────────────╮│                        \n",
       "                                                                                       ││                        \n",
       "                                                                       ╭──────────────────────────────╮          \n",
       "                                                                       │ <span style=\"font-weight: bold\">Project</span>                      │          \n",
       "                                                                       │ <span style=\"font-weight: bold\">   </span><span style=\"font-weight: bold; font-style: italic\">ExtractMonth(Date): </span><span style=\"color: #808000; text-decoration-color: #808000; font-weight: bold; font-style: italic\">int32</span> │          \n",
       "                                                         ╭────────────▶│ <span style=\"font-weight: bold\">   </span><span style=\"font-weight: bold; font-style: italic\">CO2: </span><span style=\"color: #808000; text-decoration-color: #808000; font-weight: bold; font-style: italic\">float64</span>              │◀─╮       \n",
       "                                                         │             │ <span style=\"font-weight: bold\">   </span><span style=\"font-weight: bold; font-style: italic\">Date: </span><span style=\"color: #008080; text-decoration-color: #008080; font-weight: bold; font-style: italic\">date</span>                │  │       \n",
       "                                                         │             │ <span style=\"font-weight: bold\">   </span><span style=\"font-weight: bold; font-style: italic\">CO2_normalized: </span><span style=\"color: #808000; text-decoration-color: #808000; font-weight: bold; font-style: italic\">float64</span>   │  │       \n",
       "                                                         │             ╰──────────────────────────────╯  │       \n",
       "                                                         │                             ▲ ▲               │       \n",
       "                                                         │      ╭──────────────────────│ │               │       \n",
       "                                                         │      │                      │ │               │       \n",
       "                                 ╭───────────────╮       │      │                      │ │               │       \n",
       "                                 │ <span style=\"font-weight: bold\">Subtract</span>      │       │      │                      │ │               │       \n",
       "                        ╭───────▶│ <span style=\"font-weight: bold\">   :: </span><span style=\"color: #808000; text-decoration-color: #808000; font-weight: bold\">float64</span> │───────│──────╯                      │ │               │       \n",
       "                        │        ╰───────────────╯       │                             │ │               │       \n",
       "                        │                ▲               │                             │ │               │       \n",
       "                        │                │               │                             │ │               │       \n",
       "                        │                │               │                             │ │               │       \n",
       "                        │                │               │                             │ │               │       \n",
       "               ╭────────────────╮        │               │                             │ │               │       \n",
       "               │ <span style=\"font-weight: bold\">WindowFunction</span> │        │               │                             │ │               │       \n",
       "               │ <span style=\"font-weight: bold\">   :: </span><span style=\"color: #808000; text-decoration-color: #808000; font-weight: bold\">float64</span>  │        │               │                             │ │               │       \n",
       "               ╰────────────────╯        │               │                             │ │               │       \n",
       "                        ▲───╮            │               │                             │ │               │       \n",
       "                        │   │            │               │                             │ │               │       \n",
       "                        │   ╰────────────╰───────────╮   │                             │ │               │       \n",
       "                        │                │           │   │                             │ │               │       \n",
       "╭───────────────╮       │       ╭─────────────────╮  │   │                             │ │               │       \n",
       "│ <span style=\"font-weight: bold\">Mean</span>          │       │       │ <span style=\"font-weight: bold\">RowsWindowFrame</span> │  │   │                             │ │               │       \n",
       "│ <span style=\"font-weight: bold\">   :: </span><span style=\"color: #808000; text-decoration-color: #808000; font-weight: bold\">float64</span> │───────╯       │ <span style=\"font-weight: bold\">   :: ∅</span>         │◀─│───│───────╮                     ╰╮│               │       \n",
       "╰───────────────╯               ╰─────────────────╯  │   │       │                      ││               │       \n",
       "        ▲                                ▲           │   │       │                      ││               │       \n",
       "        │                                │           │   │       │                      ││               │       \n",
       "        │                                │           │   │       ╰───────────╮          ││               │       \n",
       "        │                                │           ╰───│                   │          ││               │       \n",
       "        │                                │       ╭───────────────╮           │   ╭──────────────╮        │       \n",
       "        │                                │       │ <span style=\"font-style: italic\">CO2: </span><span style=\"font-weight: bold; font-style: italic\">Field</span>    │           │   │ <span style=\"font-weight: bold\">ExtractMonth</span> │        │       \n",
       "        ╰────────────────────────────────────────│ <span style=\"font-style: italic\">   :: </span><span style=\"color: #808000; text-decoration-color: #808000; font-style: italic\">float64</span> │           ╰───│ <span style=\"font-weight: bold\">   :: </span><span style=\"color: #808000; text-decoration-color: #808000; font-weight: bold\">int32</span>  │        │       \n",
       "                                         │       ╰───────────────╯               ╰──────────────╯        │       \n",
       "                                         │               ▲                              │▲               │       \n",
       "                                         │               │                              ││               │       \n",
       "                                         ╰───────────────│──────╮                       ││               │       \n",
       "                                                         │      │                       ││               │       \n",
       "                                                         │      │                       ││        ╭─────────────╮\n",
       "                                                         │      │                       ││        │ <span style=\"font-style: italic\">Date: </span><span style=\"font-weight: bold; font-style: italic\">Field</span> │\n",
       "                                                         │      │                       │╰────────│ <span style=\"font-style: italic\">   :: </span><span style=\"color: #008080; text-decoration-color: #008080; font-style: italic\">date</span>  │\n",
       "                                                         │      │                       │         ╰─────────────╯\n",
       "                                                         │      ╰───────────╮           │                ▲       \n",
       "                                                         │                  │           │                │       \n",
       "                                                         │                  │           │       ╭────────╯       \n",
       "                                                         │                  │           │       │                \n",
       "                                                         │                  ╰───────────│───────╯                \n",
       "                                                         │            ╭──────────────────────────────────╮       \n",
       "                                                         │            │ <span style=\"font-style: italic\">co2_concentration​: </span><span style=\"font-weight: bold; font-style: italic\">DatabaseTable</span> │       \n",
       "                                                         ╰────────────│ <span style=\"font-style: italic\">   CO2: </span><span style=\"color: #808000; text-decoration-color: #808000; font-style: italic\">float64</span>                  │       \n",
       "                                                                      │ <span style=\"font-style: italic\">   Date: </span><span style=\"color: #008080; text-decoration-color: #008080; font-style: italic\">date</span>                    │       \n",
       "                                                                      ╰──────────────────────────────────╯       \n",
       "</pre>\n"
      ],
      "text/plain": [
       "                                                                         ╭────────────────────────────╮          \n",
       "                                                                         │ \u001b[1mSort\u001b[0m                       │          \n",
       "                                                                         │ \u001b[1m   \u001b[0m\u001b[1;3mDate: \u001b[0m\u001b[1;3;36mdate\u001b[0m              │          \n",
       "                                                                         │ \u001b[1m   \u001b[0m\u001b[1;3mCO2_normalized: \u001b[0m\u001b[1;3;33mfloat64\u001b[0m │          \n",
       "                                                                         ╰────────────────────────────╯          \n",
       "                                                                         ▲              ▲                        \n",
       "                                                                         │              │                        \n",
       "                                                                         │              │                        \n",
       "                                                                  ╭────────────╮        │                        \n",
       "                                                                  │ \u001b[1mSortKey\u001b[0m    │        │                        \n",
       "                                                                  │ \u001b[1m   :: \u001b[0m\u001b[1;36mdate\u001b[0m │        │                        \n",
       "                                                                  ╰────────────╯        │                        \n",
       "                                                                         ▲              │                        \n",
       "                                                                         │              │                        \n",
       "                                                                         │              │                        \n",
       "                                                                         │              │                        \n",
       "                                                                  ╭─────────────╮       │                        \n",
       "                                                                  │ \u001b[3mDate: \u001b[0m\u001b[1;3mField\u001b[0m │       │                        \n",
       "                                                                  │ \u001b[3m   :: \u001b[0m\u001b[3;36mdate\u001b[0m  │       │                        \n",
       "                                                                  ╰─────────────╯       │                        \n",
       "                                                                         ▲              │                        \n",
       "                                                                         │              │                        \n",
       "                                                                         ╰──────╮       │                        \n",
       "                                                                                │       │                        \n",
       "                                                                                ╰───────│                        \n",
       "                                                                         ╭────────────────────────────╮          \n",
       "                                                                         │ \u001b[1mProject\u001b[0m                    │          \n",
       "                                                   ╭────────────────────▶│ \u001b[1m   \u001b[0m\u001b[1;3mDate: \u001b[0m\u001b[1;3;36mdate\u001b[0m              │          \n",
       "                                                   │                     │ \u001b[1m   \u001b[0m\u001b[1;3mCO2_normalized: \u001b[0m\u001b[1;3;33mfloat64\u001b[0m │          \n",
       "                                                   │                     ╰────────────────────────────╯          \n",
       "                                                   │                                   ▲▲                        \n",
       "                                                   │                                   ││                        \n",
       "                                                   │                                   ││                        \n",
       "                                            ╭─────────────╮                ╭───────────────────────╮             \n",
       "                                            │ \u001b[3mDate: \u001b[0m\u001b[1;3mField\u001b[0m │                │ \u001b[3mCO2_normalized: \u001b[0m\u001b[1;3mField\u001b[0m │             \n",
       "                                            │ \u001b[3m   :: \u001b[0m\u001b[3;36mdate\u001b[0m  │                │ \u001b[3m   :: \u001b[0m\u001b[3;33mfloat64\u001b[0m         │             \n",
       "                                            ╰─────────────╯                ╰───────────────────────╯             \n",
       "                                                   ▲                                   ▲│                        \n",
       "                                                   │                                   ││                        \n",
       "                                                   │                                   ││                        \n",
       "                                                   ╰───────────────────────────────────╮│                        \n",
       "                                                                                       ││                        \n",
       "                                                                       ╭──────────────────────────────╮          \n",
       "                                                                       │ \u001b[1mProject\u001b[0m                      │          \n",
       "                                                                       │ \u001b[1m   \u001b[0m\u001b[1;3mExtractMonth(Date): \u001b[0m\u001b[1;3;33mint32\u001b[0m │          \n",
       "                                                         ╭────────────▶│ \u001b[1m   \u001b[0m\u001b[1;3mCO2: \u001b[0m\u001b[1;3;33mfloat64\u001b[0m              │◀─╮       \n",
       "                                                         │             │ \u001b[1m   \u001b[0m\u001b[1;3mDate: \u001b[0m\u001b[1;3;36mdate\u001b[0m                │  │       \n",
       "                                                         │             │ \u001b[1m   \u001b[0m\u001b[1;3mCO2_normalized: \u001b[0m\u001b[1;3;33mfloat64\u001b[0m   │  │       \n",
       "                                                         │             ╰──────────────────────────────╯  │       \n",
       "                                                         │                             ▲ ▲               │       \n",
       "                                                         │      ╭──────────────────────│ │               │       \n",
       "                                                         │      │                      │ │               │       \n",
       "                                 ╭───────────────╮       │      │                      │ │               │       \n",
       "                                 │ \u001b[1mSubtract\u001b[0m      │       │      │                      │ │               │       \n",
       "                        ╭───────▶│ \u001b[1m   :: \u001b[0m\u001b[1;33mfloat64\u001b[0m │───────│──────╯                      │ │               │       \n",
       "                        │        ╰───────────────╯       │                             │ │               │       \n",
       "                        │                ▲               │                             │ │               │       \n",
       "                        │                │               │                             │ │               │       \n",
       "                        │                │               │                             │ │               │       \n",
       "                        │                │               │                             │ │               │       \n",
       "               ╭────────────────╮        │               │                             │ │               │       \n",
       "               │ \u001b[1mWindowFunction\u001b[0m │        │               │                             │ │               │       \n",
       "               │ \u001b[1m   :: \u001b[0m\u001b[1;33mfloat64\u001b[0m  │        │               │                             │ │               │       \n",
       "               ╰────────────────╯        │               │                             │ │               │       \n",
       "                        ▲───╮            │               │                             │ │               │       \n",
       "                        │   │            │               │                             │ │               │       \n",
       "                        │   ╰────────────╰───────────╮   │                             │ │               │       \n",
       "                        │                │           │   │                             │ │               │       \n",
       "╭───────────────╮       │       ╭─────────────────╮  │   │                             │ │               │       \n",
       "│ \u001b[1mMean\u001b[0m          │       │       │ \u001b[1mRowsWindowFrame\u001b[0m │  │   │                             │ │               │       \n",
       "│ \u001b[1m   :: \u001b[0m\u001b[1;33mfloat64\u001b[0m │───────╯       │ \u001b[1m   :: ∅\u001b[0m         │◀─│───│───────╮                     ╰╮│               │       \n",
       "╰───────────────╯               ╰─────────────────╯  │   │       │                      ││               │       \n",
       "        ▲                                ▲           │   │       │                      ││               │       \n",
       "        │                                │           │   │       │                      ││               │       \n",
       "        │                                │           │   │       ╰───────────╮          ││               │       \n",
       "        │                                │           ╰───│                   │          ││               │       \n",
       "        │                                │       ╭───────────────╮           │   ╭──────────────╮        │       \n",
       "        │                                │       │ \u001b[3mCO2: \u001b[0m\u001b[1;3mField\u001b[0m    │           │   │ \u001b[1mExtractMonth\u001b[0m │        │       \n",
       "        ╰────────────────────────────────────────│ \u001b[3m   :: \u001b[0m\u001b[3;33mfloat64\u001b[0m │           ╰───│ \u001b[1m   :: \u001b[0m\u001b[1;33mint32\u001b[0m  │        │       \n",
       "                                         │       ╰───────────────╯               ╰──────────────╯        │       \n",
       "                                         │               ▲                              │▲               │       \n",
       "                                         │               │                              ││               │       \n",
       "                                         ╰───────────────│──────╮                       ││               │       \n",
       "                                                         │      │                       ││               │       \n",
       "                                                         │      │                       ││        ╭─────────────╮\n",
       "                                                         │      │                       ││        │ \u001b[3mDate: \u001b[0m\u001b[1;3mField\u001b[0m │\n",
       "                                                         │      │                       │╰────────│ \u001b[3m   :: \u001b[0m\u001b[3;36mdate\u001b[0m  │\n",
       "                                                         │      │                       │         ╰─────────────╯\n",
       "                                                         │      ╰───────────╮           │                ▲       \n",
       "                                                         │                  │           │                │       \n",
       "                                                         │                  │           │       ╭────────╯       \n",
       "                                                         │                  │           │       │                \n",
       "                                                         │                  ╰───────────│───────╯                \n",
       "                                                         │            ╭──────────────────────────────────╮       \n",
       "                                                         │            │ \u001b[3mco2_concentration​: \u001b[0m\u001b[1;3mDatabaseTable\u001b[0m │       \n",
       "                                                         ╰────────────│ \u001b[3m   \u001b[0m\u001b[3mCO2: \u001b[0m\u001b[3;33mfloat64\u001b[0m                  │       \n",
       "                                                                      │ \u001b[3m   \u001b[0m\u001b[3mDate: \u001b[0m\u001b[3;36mdate\u001b[0m                    │       \n",
       "                                                                      ╰──────────────────────────────────╯       \n"
      ]
     },
     "metadata": {},
     "output_type": "display_data"
    }
   ],
   "source": [
    "# | echo: false\n",
    "c.visualize()"
   ]
  },
  {
   "cell_type": "markdown",
   "id": "18006129",
   "metadata": {},
   "source": [
    ":::"
   ]
  },
  {
   "cell_type": "markdown",
   "id": "20a4e03c",
   "metadata": {},
   "source": [
    "</Accordion>"
   ]
  },
  {
   "cell_type": "markdown",
   "id": "f7815f56",
   "metadata": {
    "lines_to_next_cell": 2
   },
   "source": [
    "<Accordion title=\"Structs\">"
   ]
  },
  {
   "cell_type": "code",
   "execution_count": 25,
   "id": "5444d1a6",
   "metadata": {
    "execution": {
     "iopub.execute_input": "2024-03-08T17:20:23.992364Z",
     "iopub.status.busy": "2024-03-08T17:20:23.992224Z",
     "iopub.status.idle": "2024-03-08T17:20:24.013180Z",
     "shell.execute_reply": "2024-03-08T17:20:24.012795Z"
    }
   },
   "outputs": [],
   "source": [
    "#| echo: false\n",
    "from vinyl.examples import weather\n",
    "\n",
    "weather = weather()\n",
    "\n",
    "\n",
    "weather = weather.drop([weather.forecast, weather.record])\n",
    "weather = weather._create_view(\"weather\")"
   ]
  },
  {
   "cell_type": "code",
   "execution_count": 26,
   "id": "ffc8f26a",
   "metadata": {
    "execution": {
     "iopub.execute_input": "2024-03-08T17:20:24.014873Z",
     "iopub.status.busy": "2024-03-08T17:20:24.014792Z",
     "iopub.status.idle": "2024-03-08T17:20:24.018740Z",
     "shell.execute_reply": "2024-03-08T17:20:24.018357Z"
    },
    "lines_to_next_cell": 2
   },
   "outputs": [],
   "source": [
    "with weather as w:\n",
    "    w.define({\"high_vs_expected\": w.actual[\"high\"] - w.normal[\"high\"]})\n",
    "    w.dropna(w.high_vs_expected)"
   ]
  },
  {
   "cell_type": "markdown",
   "id": "c9420f26",
   "metadata": {},
   "source": [
    "::: {.panel-tabset}"
   ]
  },
  {
   "cell_type": "markdown",
   "id": "32473127",
   "metadata": {},
   "source": [
    "#### SQL\n"
   ]
  },
  {
   "cell_type": "code",
   "execution_count": 27,
   "id": "4d94251c",
   "metadata": {
    "execution": {
     "iopub.execute_input": "2024-03-08T17:20:24.020546Z",
     "iopub.status.busy": "2024-03-08T17:20:24.020437Z",
     "iopub.status.idle": "2024-03-08T17:20:24.025669Z",
     "shell.execute_reply": "2024-03-08T17:20:24.025342Z"
    }
   },
   "outputs": [
    {
     "data": {
      "text/html": [
       "<pre style=\"white-space:pre;overflow-x:auto;line-height:normal;font-family:Menlo,'DejaVu Sans Mono',consolas,'Courier New',monospace\">SELECT\n",
       "  *\n",
       "FROM <span style=\"font-weight: bold\">(</span>\n",
       "  SELECT\n",
       "    <span style=\"color: #008000; text-decoration-color: #008000\">\"t0\"</span>.<span style=\"color: #008000; text-decoration-color: #008000\">\"day\"</span>,\n",
       "    <span style=\"color: #008000; text-decoration-color: #008000\">\"t0\"</span>.<span style=\"color: #008000; text-decoration-color: #008000\">\"normal\"</span>,\n",
       "    <span style=\"color: #008000; text-decoration-color: #008000\">\"t0\"</span>.<span style=\"color: #008000; text-decoration-color: #008000\">\"actual\"</span>,\n",
       "    <span style=\"color: #008000; text-decoration-color: #008000\">\"t0\"</span>.<span style=\"color: #008000; text-decoration-color: #008000\">\"id\"</span>,\n",
       "    <span style=\"color: #008000; text-decoration-color: #008000\">\"t0\"</span>.<span style=\"color: #008000; text-decoration-color: #008000\">\"actual\"</span>.<span style=\"color: #008000; text-decoration-color: #008000\">\"high\"</span> - <span style=\"color: #008000; text-decoration-color: #008000\">\"t0\"</span>.<span style=\"color: #008000; text-decoration-color: #008000\">\"normal\"</span>.<span style=\"color: #008000; text-decoration-color: #008000\">\"high\"</span> AS <span style=\"color: #008000; text-decoration-color: #008000\">\"high_vs_expected\"</span>\n",
       "  FROM <span style=\"color: #008000; text-decoration-color: #008000\">\"weather​\"</span> AS <span style=\"color: #008000; text-decoration-color: #008000\">\"t0\"</span>\n",
       "<span style=\"font-weight: bold\">)</span> AS <span style=\"color: #008000; text-decoration-color: #008000\">\"t1\"</span>\n",
       "WHERE\n",
       "  NOT <span style=\"color: #008000; text-decoration-color: #008000\">\"t1\"</span>.<span style=\"color: #008000; text-decoration-color: #008000\">\"high_vs_expected\"</span> IS NULL\n",
       "</pre>\n"
      ],
      "text/plain": [
       "SELECT\n",
       "  *\n",
       "FROM \u001b[1m(\u001b[0m\n",
       "  SELECT\n",
       "    \u001b[32m\"t0\"\u001b[0m.\u001b[32m\"day\"\u001b[0m,\n",
       "    \u001b[32m\"t0\"\u001b[0m.\u001b[32m\"normal\"\u001b[0m,\n",
       "    \u001b[32m\"t0\"\u001b[0m.\u001b[32m\"actual\"\u001b[0m,\n",
       "    \u001b[32m\"t0\"\u001b[0m.\u001b[32m\"id\"\u001b[0m,\n",
       "    \u001b[32m\"t0\"\u001b[0m.\u001b[32m\"actual\"\u001b[0m.\u001b[32m\"high\"\u001b[0m - \u001b[32m\"t0\"\u001b[0m.\u001b[32m\"normal\"\u001b[0m.\u001b[32m\"high\"\u001b[0m AS \u001b[32m\"high_vs_expected\"\u001b[0m\n",
       "  FROM \u001b[32m\"weather​\"\u001b[0m AS \u001b[32m\"t0\"\u001b[0m\n",
       "\u001b[1m)\u001b[0m AS \u001b[32m\"t1\"\u001b[0m\n",
       "WHERE\n",
       "  NOT \u001b[32m\"t1\"\u001b[0m.\u001b[32m\"high_vs_expected\"\u001b[0m IS NULL\n"
      ]
     },
     "metadata": {},
     "output_type": "display_data"
    }
   ],
   "source": [
    "# | echo: false\n",
    "print(w.to_sql())"
   ]
  },
  {
   "cell_type": "markdown",
   "id": "4885faf6",
   "metadata": {},
   "source": [
    "#### Result"
   ]
  },
  {
   "cell_type": "code",
   "execution_count": 28,
   "id": "de35d181",
   "metadata": {
    "execution": {
     "iopub.execute_input": "2024-03-08T17:20:24.027438Z",
     "iopub.status.busy": "2024-03-08T17:20:24.027348Z",
     "iopub.status.idle": "2024-03-08T17:20:24.038581Z",
     "shell.execute_reply": "2024-03-08T17:20:24.038238Z"
    }
   },
   "outputs": [
    {
     "data": {
      "text/html": [
       "<pre style=\"white-space:pre;overflow-x:auto;line-height:normal;font-family:Menlo,'DejaVu Sans Mono',consolas,'Courier New',monospace\">┏━━━━━━━━┳━━━━━━━━━━━━━━━━━━━━━━━━━━━━━━━━━┳━━━━━━━━━━━━━━━━━━━━━━━━━━━━━━━━━┳━━━━━━━┳━━━━━━━━━━━━━━━━━━┓\n",
       "┃<span style=\"font-weight: bold\"> day    </span>┃<span style=\"font-weight: bold\"> normal                          </span>┃<span style=\"font-weight: bold\"> actual                          </span>┃<span style=\"font-weight: bold\"> id    </span>┃<span style=\"font-weight: bold\"> high_vs_expected </span>┃\n",
       "┡━━━━━━━━╇━━━━━━━━━━━━━━━━━━━━━━━━━━━━━━━━━╇━━━━━━━━━━━━━━━━━━━━━━━━━━━━━━━━━╇━━━━━━━╇━━━━━━━━━━━━━━━━━━┩\n",
       "│ <span style=\"color: #7f7f7f; text-decoration-color: #7f7f7f\">string</span> │ <span style=\"color: #7f7f7f; text-decoration-color: #7f7f7f\">struct&lt;high: int64, low: int64&gt;</span> │ <span style=\"color: #7f7f7f; text-decoration-color: #7f7f7f\">struct&lt;high: int64, low: int64&gt;</span> │ <span style=\"color: #7f7f7f; text-decoration-color: #7f7f7f\">int64</span> │ <span style=\"color: #7f7f7f; text-decoration-color: #7f7f7f\">int64</span>            │\n",
       "├────────┼─────────────────────────────────┼─────────────────────────────────┼───────┼──────────────────┤\n",
       "│ <span style=\"color: #008000; text-decoration-color: #008000\">M     </span> │ <span style=\"font-weight: bold\">{</span><span style=\"color: #008000; text-decoration-color: #008000\">'high'</span>: <span style=\"color: #008080; text-decoration-color: #008080; font-weight: bold\">50</span>, <span style=\"color: #008000; text-decoration-color: #008000\">'low'</span>: <span style=\"color: #008080; text-decoration-color: #008080; font-weight: bold\">38</span><span style=\"font-weight: bold\">}</span>         │ <span style=\"font-weight: bold\">{</span><span style=\"color: #008000; text-decoration-color: #008000\">'high'</span>: <span style=\"color: #008080; text-decoration-color: #008080; font-weight: bold\">48</span>, <span style=\"color: #008000; text-decoration-color: #008000\">'low'</span>: <span style=\"color: #008080; text-decoration-color: #008080; font-weight: bold\">36</span><span style=\"font-weight: bold\">}</span>         │     <span style=\"color: #008080; text-decoration-color: #008080; font-weight: bold\">0</span> │               <span style=\"color: #008080; text-decoration-color: #008080; font-weight: bold\">-2</span> │\n",
       "│ <span style=\"color: #008000; text-decoration-color: #008000\">T     </span> │ <span style=\"font-weight: bold\">{</span><span style=\"color: #008000; text-decoration-color: #008000\">'high'</span>: <span style=\"color: #008080; text-decoration-color: #008080; font-weight: bold\">50</span>, <span style=\"color: #008000; text-decoration-color: #008000\">'low'</span>: <span style=\"color: #008080; text-decoration-color: #008080; font-weight: bold\">38</span><span style=\"font-weight: bold\">}</span>         │ <span style=\"font-weight: bold\">{</span><span style=\"color: #008000; text-decoration-color: #008000\">'high'</span>: <span style=\"color: #008080; text-decoration-color: #008080; font-weight: bold\">50</span>, <span style=\"color: #008000; text-decoration-color: #008000\">'low'</span>: <span style=\"color: #008080; text-decoration-color: #008080; font-weight: bold\">40</span><span style=\"font-weight: bold\">}</span>         │     <span style=\"color: #008080; text-decoration-color: #008080; font-weight: bold\">1</span> │                <span style=\"color: #008080; text-decoration-color: #008080; font-weight: bold\">0</span> │\n",
       "│ <span style=\"color: #008000; text-decoration-color: #008000\">W     </span> │ <span style=\"font-weight: bold\">{</span><span style=\"color: #008000; text-decoration-color: #008000\">'high'</span>: <span style=\"color: #008080; text-decoration-color: #008080; font-weight: bold\">50</span>, <span style=\"color: #008000; text-decoration-color: #008000\">'low'</span>: <span style=\"color: #008080; text-decoration-color: #008080; font-weight: bold\">38</span><span style=\"font-weight: bold\">}</span>         │ <span style=\"font-weight: bold\">{</span><span style=\"color: #008000; text-decoration-color: #008000\">'high'</span>: <span style=\"color: #008080; text-decoration-color: #008080; font-weight: bold\">55</span>, <span style=\"color: #008000; text-decoration-color: #008000\">'low'</span>: <span style=\"color: #008080; text-decoration-color: #008080; font-weight: bold\">36</span><span style=\"font-weight: bold\">}</span>         │     <span style=\"color: #008080; text-decoration-color: #008080; font-weight: bold\">2</span> │                <span style=\"color: #008080; text-decoration-color: #008080; font-weight: bold\">5</span> │\n",
       "│ <span style=\"color: #008000; text-decoration-color: #008000\">T     </span> │ <span style=\"font-weight: bold\">{</span><span style=\"color: #008000; text-decoration-color: #008000\">'high'</span>: <span style=\"color: #008080; text-decoration-color: #008080; font-weight: bold\">50</span>, <span style=\"color: #008000; text-decoration-color: #008000\">'low'</span>: <span style=\"color: #008080; text-decoration-color: #008080; font-weight: bold\">38</span><span style=\"font-weight: bold\">}</span>         │ <span style=\"font-weight: bold\">{</span><span style=\"color: #008000; text-decoration-color: #008000\">'high'</span>: <span style=\"color: #008080; text-decoration-color: #008080; font-weight: bold\">51</span>, <span style=\"color: #008000; text-decoration-color: #008000\">'low'</span>: <span style=\"color: #008080; text-decoration-color: #008080; font-weight: bold\">33</span><span style=\"font-weight: bold\">}</span>         │     <span style=\"color: #008080; text-decoration-color: #008080; font-weight: bold\">3</span> │                <span style=\"color: #008080; text-decoration-color: #008080; font-weight: bold\">1</span> │\n",
       "│ <span style=\"color: #008000; text-decoration-color: #008000\">F     </span> │ <span style=\"font-weight: bold\">{</span><span style=\"color: #008000; text-decoration-color: #008000\">'high'</span>: <span style=\"color: #008080; text-decoration-color: #008080; font-weight: bold\">50</span>, <span style=\"color: #008000; text-decoration-color: #008000\">'low'</span>: <span style=\"color: #008080; text-decoration-color: #008080; font-weight: bold\">38</span><span style=\"font-weight: bold\">}</span>         │ <span style=\"font-weight: bold\">{</span><span style=\"color: #008000; text-decoration-color: #008000\">'high'</span>: <span style=\"color: #008080; text-decoration-color: #008080; font-weight: bold\">50</span>, <span style=\"color: #008000; text-decoration-color: #008000\">'low'</span>: <span style=\"color: #008080; text-decoration-color: #008080; font-weight: bold\">30</span><span style=\"font-weight: bold\">}</span>         │     <span style=\"color: #008080; text-decoration-color: #008080; font-weight: bold\">4</span> │                <span style=\"color: #008080; text-decoration-color: #008080; font-weight: bold\">0</span> │\n",
       "└────────┴─────────────────────────────────┴─────────────────────────────────┴───────┴──────────────────┘\n",
       "</pre>\n"
      ],
      "text/plain": [
       "┏━━━━━━━━┳━━━━━━━━━━━━━━━━━━━━━━━━━━━━━━━━━┳━━━━━━━━━━━━━━━━━━━━━━━━━━━━━━━━━┳━━━━━━━┳━━━━━━━━━━━━━━━━━━┓\n",
       "┃\u001b[1m \u001b[0m\u001b[1mday\u001b[0m\u001b[1m   \u001b[0m\u001b[1m \u001b[0m┃\u001b[1m \u001b[0m\u001b[1mnormal\u001b[0m\u001b[1m                         \u001b[0m\u001b[1m \u001b[0m┃\u001b[1m \u001b[0m\u001b[1mactual\u001b[0m\u001b[1m                         \u001b[0m\u001b[1m \u001b[0m┃\u001b[1m \u001b[0m\u001b[1mid\u001b[0m\u001b[1m   \u001b[0m\u001b[1m \u001b[0m┃\u001b[1m \u001b[0m\u001b[1mhigh_vs_expected\u001b[0m\u001b[1m \u001b[0m┃\n",
       "┡━━━━━━━━╇━━━━━━━━━━━━━━━━━━━━━━━━━━━━━━━━━╇━━━━━━━━━━━━━━━━━━━━━━━━━━━━━━━━━╇━━━━━━━╇━━━━━━━━━━━━━━━━━━┩\n",
       "│ \u001b[2mstring\u001b[0m │ \u001b[2mstruct<high: int64, low: int64>\u001b[0m │ \u001b[2mstruct<high: int64, low: int64>\u001b[0m │ \u001b[2mint64\u001b[0m │ \u001b[2mint64\u001b[0m            │\n",
       "├────────┼─────────────────────────────────┼─────────────────────────────────┼───────┼──────────────────┤\n",
       "│ \u001b[32mM     \u001b[0m │ \u001b[1m{\u001b[0m\u001b[32m'high'\u001b[0m: \u001b[1;36m50\u001b[0m, \u001b[32m'low'\u001b[0m: \u001b[1;36m38\u001b[0m\u001b[1m}\u001b[0m         │ \u001b[1m{\u001b[0m\u001b[32m'high'\u001b[0m: \u001b[1;36m48\u001b[0m, \u001b[32m'low'\u001b[0m: \u001b[1;36m36\u001b[0m\u001b[1m}\u001b[0m         │     \u001b[1;36m0\u001b[0m │               \u001b[1;36m-2\u001b[0m │\n",
       "│ \u001b[32mT     \u001b[0m │ \u001b[1m{\u001b[0m\u001b[32m'high'\u001b[0m: \u001b[1;36m50\u001b[0m, \u001b[32m'low'\u001b[0m: \u001b[1;36m38\u001b[0m\u001b[1m}\u001b[0m         │ \u001b[1m{\u001b[0m\u001b[32m'high'\u001b[0m: \u001b[1;36m50\u001b[0m, \u001b[32m'low'\u001b[0m: \u001b[1;36m40\u001b[0m\u001b[1m}\u001b[0m         │     \u001b[1;36m1\u001b[0m │                \u001b[1;36m0\u001b[0m │\n",
       "│ \u001b[32mW     \u001b[0m │ \u001b[1m{\u001b[0m\u001b[32m'high'\u001b[0m: \u001b[1;36m50\u001b[0m, \u001b[32m'low'\u001b[0m: \u001b[1;36m38\u001b[0m\u001b[1m}\u001b[0m         │ \u001b[1m{\u001b[0m\u001b[32m'high'\u001b[0m: \u001b[1;36m55\u001b[0m, \u001b[32m'low'\u001b[0m: \u001b[1;36m36\u001b[0m\u001b[1m}\u001b[0m         │     \u001b[1;36m2\u001b[0m │                \u001b[1;36m5\u001b[0m │\n",
       "│ \u001b[32mT     \u001b[0m │ \u001b[1m{\u001b[0m\u001b[32m'high'\u001b[0m: \u001b[1;36m50\u001b[0m, \u001b[32m'low'\u001b[0m: \u001b[1;36m38\u001b[0m\u001b[1m}\u001b[0m         │ \u001b[1m{\u001b[0m\u001b[32m'high'\u001b[0m: \u001b[1;36m51\u001b[0m, \u001b[32m'low'\u001b[0m: \u001b[1;36m33\u001b[0m\u001b[1m}\u001b[0m         │     \u001b[1;36m3\u001b[0m │                \u001b[1;36m1\u001b[0m │\n",
       "│ \u001b[32mF     \u001b[0m │ \u001b[1m{\u001b[0m\u001b[32m'high'\u001b[0m: \u001b[1;36m50\u001b[0m, \u001b[32m'low'\u001b[0m: \u001b[1;36m38\u001b[0m\u001b[1m}\u001b[0m         │ \u001b[1m{\u001b[0m\u001b[32m'high'\u001b[0m: \u001b[1;36m50\u001b[0m, \u001b[32m'low'\u001b[0m: \u001b[1;36m30\u001b[0m\u001b[1m}\u001b[0m         │     \u001b[1;36m4\u001b[0m │                \u001b[1;36m0\u001b[0m │\n",
       "└────────┴─────────────────────────────────┴─────────────────────────────────┴───────┴──────────────────┘\n"
      ]
     },
     "metadata": {},
     "output_type": "display_data"
    }
   ],
   "source": [
    "# | echo: false\n",
    "print(w.execute(\"text\"))"
   ]
  },
  {
   "cell_type": "markdown",
   "id": "08bbfc4d",
   "metadata": {},
   "source": [
    "#### AST"
   ]
  },
  {
   "cell_type": "code",
   "execution_count": 29,
   "id": "8dbf5022",
   "metadata": {
    "execution": {
     "iopub.execute_input": "2024-03-08T17:20:24.040671Z",
     "iopub.status.busy": "2024-03-08T17:20:24.040544Z",
     "iopub.status.idle": "2024-03-08T17:20:24.043489Z",
     "shell.execute_reply": "2024-03-08T17:20:24.043200Z"
    }
   },
   "outputs": [
    {
     "data": {
      "text/plain": [
       "r0 := DatabaseTable: weather​\n",
       "  day    string\n",
       "  normal high: int64\n",
       "  low:  int64\n",
       "  actual high: int64\n",
       "  low:  int64\n",
       "  id     int64\n",
       "\n",
       "r1 := Project[r0]\n",
       "  day:              r0.day\n",
       "  normal:           r0.normal\n",
       "  actual:           r0.actual\n",
       "  id:               r0.id\n",
       "  high_vs_expected: StructField(r0.actual, field='high') - StructField(r0.normal, field='high')\n",
       "\n",
       "DropNa[r1]\n",
       "  how:\n",
       "    any\n",
       "  subset:\n",
       "    r1.high_vs_expected"
      ]
     },
     "execution_count": 29,
     "metadata": {},
     "output_type": "execute_result"
    }
   ],
   "source": [
    "# | echo: false\n",
    "w"
   ]
  },
  {
   "cell_type": "markdown",
   "id": "8b76b42b",
   "metadata": {},
   "source": [
    "#### AST graph\n"
   ]
  },
  {
   "cell_type": "code",
   "execution_count": 30,
   "id": "63a309f1",
   "metadata": {
    "execution": {
     "iopub.execute_input": "2024-03-08T17:20:24.045685Z",
     "iopub.status.busy": "2024-03-08T17:20:24.045578Z",
     "iopub.status.idle": "2024-03-08T17:20:24.926406Z",
     "shell.execute_reply": "2024-03-08T17:20:24.926071Z"
    }
   },
   "outputs": [
    {
     "data": {
      "text/html": [
       "<pre style=\"white-space:pre;overflow-x:auto;line-height:normal;font-family:Menlo,'DejaVu Sans Mono',consolas,'Courier New',monospace\">                                                                                                               ╭────────────────────────────────────────────╮                                                           \n",
       "                                                                                                               │ <span style=\"font-weight: bold\">DropNa</span>                                     │                                                           \n",
       "                                                                                                               │ <span style=\"font-weight: bold\">   </span><span style=\"font-weight: bold; font-style: italic\">day: </span><span style=\"color: #ffaf00; text-decoration-color: #ffaf00; font-weight: bold; font-style: italic\">string</span>                             │                                                           \n",
       "                                                                                                               │ <span style=\"font-weight: bold\">   </span><span style=\"font-weight: bold; font-style: italic\">normal: </span><span style=\"color: #ff00ff; text-decoration-color: #ff00ff; font-weight: bold; font-style: italic\">struct&lt;high: int64, low: int64&gt;</span> │                                                           \n",
       "                                                                                                               │ <span style=\"font-weight: bold\">   </span><span style=\"font-weight: bold; font-style: italic\">actual: </span><span style=\"color: #ff00ff; text-decoration-color: #ff00ff; font-weight: bold; font-style: italic\">struct&lt;high: int64, low: int64&gt;</span> │                                                           \n",
       "                                                                                                               │ <span style=\"font-weight: bold\">   </span><span style=\"font-weight: bold; font-style: italic\">id: </span><span style=\"color: #808000; text-decoration-color: #808000; font-weight: bold; font-style: italic\">int64</span>                               │                                                           \n",
       "                                                                                                               │ <span style=\"font-weight: bold\">   </span><span style=\"font-weight: bold; font-style: italic\">high_vs_expected: </span><span style=\"color: #808000; text-decoration-color: #808000; font-weight: bold; font-style: italic\">int64</span>                 │                                                           \n",
       "                                                                                                               ╰────────────────────────────────────────────╯                                                           \n",
       "                                                                                                               ▲                      ▲                                                                                 \n",
       "                                                                                                               │                      │                                                                                 \n",
       "                                                                                                               │                      │                                                                                 \n",
       "                                                                                                               │                      │                                                                                 \n",
       "                                                                                                  ╭─────────────────────────╮         │                                                                                 \n",
       "                                                                                                  │ <span style=\"font-style: italic\">high_vs_expected: </span><span style=\"font-weight: bold; font-style: italic\">Field</span> │         │                                                                                 \n",
       "                                                                                                  │ <span style=\"font-style: italic\">   :: </span><span style=\"color: #808000; text-decoration-color: #808000; font-style: italic\">int64</span>             │         │                                                                                 \n",
       "                                                                                                  ╰─────────────────────────╯         │                                                                                 \n",
       "                                                                                                               ▲                      │                                                                                 \n",
       "                                                                                                               │                      │                                                                                 \n",
       "                                                                                                               │                      │                                                                                 \n",
       "                                                                                                               ╰──────────────────────│                                                                                 \n",
       "                                                                                                               ╭────────────────────────────────────────────╮                                                           \n",
       "                                                                                                               │ <span style=\"font-weight: bold\">Project</span>                                    │                                                           \n",
       "                                                                                                               │ <span style=\"font-weight: bold\">   </span><span style=\"font-weight: bold; font-style: italic\">day: </span><span style=\"color: #ffaf00; text-decoration-color: #ffaf00; font-weight: bold; font-style: italic\">string</span>                             │                                                           \n",
       "                                                                                                               │ <span style=\"font-weight: bold\">   </span><span style=\"font-weight: bold; font-style: italic\">normal: </span><span style=\"color: #ff00ff; text-decoration-color: #ff00ff; font-weight: bold; font-style: italic\">struct&lt;high: int64, low: int64&gt;</span> │                                                           \n",
       "        ╭─────────────────────────────────────────────────────────────────────────────────────────────────────▶│ <span style=\"font-weight: bold\">   </span><span style=\"font-weight: bold; font-style: italic\">actual: </span><span style=\"color: #ff00ff; text-decoration-color: #ff00ff; font-weight: bold; font-style: italic\">struct&lt;high: int64, low: int64&gt;</span> │◀─────────────────────────────────────╮                    \n",
       "        │                                                                                                      │ <span style=\"font-weight: bold\">   </span><span style=\"font-weight: bold; font-style: italic\">id: </span><span style=\"color: #808000; text-decoration-color: #808000; font-weight: bold; font-style: italic\">int64</span>                               │                                      │                    \n",
       "        │                                                                                                      │ <span style=\"font-weight: bold\">   </span><span style=\"font-weight: bold; font-style: italic\">high_vs_expected: </span><span style=\"color: #808000; text-decoration-color: #808000; font-weight: bold; font-style: italic\">int64</span>                 │                                      │                    \n",
       "        │                                                                                                      ╰────────────────────────────────────────────╯                                      │                    \n",
       "        │                                                                                                            ▲  ▲             ▲                                                            │                    \n",
       "        │                                             ╭─────────────────────────────────────────────────────────────────│─────────────│                                                            │                    \n",
       "        │                                             │                                                              │  │             │                                                            │                    \n",
       "        │                                             │                                                              │  │             │                                                            │                    \n",
       "╭──────────────╮                               ╭─────────────╮                                ╭─────────────╮        │  │             │                                                            │                    \n",
       "│ <span style=\"font-style: italic\">day: </span><span style=\"font-weight: bold; font-style: italic\">Field</span>   │                               │ <span style=\"font-style: italic\">id: </span><span style=\"font-weight: bold; font-style: italic\">Field</span>   │                                │ <span style=\"font-weight: bold\">Subtract</span>    │        │  │             │                                                            │                    \n",
       "│ <span style=\"font-style: italic\">   :: </span><span style=\"color: #ffaf00; text-decoration-color: #ffaf00; font-style: italic\">string</span> │                               │ <span style=\"font-style: italic\">   :: </span><span style=\"color: #808000; text-decoration-color: #808000; font-style: italic\">int64</span> │                                │ <span style=\"font-weight: bold\">   :: </span><span style=\"color: #808000; text-decoration-color: #808000; font-weight: bold\">int64</span> │────────╯  │             │                                                            │                    \n",
       "╰──────────────╯                               ╰─────────────╯                                ╰─────────────╯           │             │                                                            │                    \n",
       "        ▲                                             ▲                                              ▲──────────────────│─────────────│────╮                                                       │                    \n",
       "        │                                             │                                              │                  │             │    │                                                       │                    \n",
       "        │                                             │                                              │                  │             │    │                                                       │                    \n",
       "        │                                             │                                              │                  │             │    │                                                       │                    \n",
       "        │                                             │                                       ╭─────────────╮           │             │    │                             ╭─────────────╮           │                    \n",
       "        │                                             │                                       │ <span style=\"font-weight: bold\">StructField</span> │           │             │    │                             │ <span style=\"font-weight: bold\">StructField</span> │           │                    \n",
       "        │                                             │                                       │ <span style=\"font-weight: bold\">   :: </span><span style=\"color: #808000; text-decoration-color: #808000; font-weight: bold\">int64</span> │           │             │    ╰─────────────────────────────│ <span style=\"font-weight: bold\">   :: </span><span style=\"color: #808000; text-decoration-color: #808000; font-weight: bold\">int64</span> │           │                    \n",
       "        │                                             │                                       ╰─────────────╯           │             │                                  ╰─────────────╯           │                    \n",
       "        │                                             │                                              ▲                  │             │                                         ▲                  │                    \n",
       "        │                                             │                                              │                  │             │                                         │                  │                    \n",
       "        │                                             │                                              │                  │             │                                         │                  │                    \n",
       "        │                                             ╰───────────────────────────────────────╮      │                  │             │                                         │                  │                    \n",
       "        │                                                                                     │     ╭───────────────────────────────────────╮                                  ╭───────────────────────────────────────╮\n",
       "        │                                                                                     │     │ <span style=\"font-style: italic\">actual: </span><span style=\"font-weight: bold; font-style: italic\">Field</span>                         │                                  │ <span style=\"font-style: italic\">normal: </span><span style=\"font-weight: bold; font-style: italic\">Field</span>                         │\n",
       "        │                                                                                     │     │ <span style=\"font-style: italic\">   :: </span><span style=\"color: #ff00ff; text-decoration-color: #ff00ff; font-style: italic\">struct&lt;high: int64, low: int64&gt;</span> │                                  │ <span style=\"font-style: italic\">   :: </span><span style=\"color: #ff00ff; text-decoration-color: #ff00ff; font-style: italic\">struct&lt;high: int64, low: int64&gt;</span> │\n",
       "        │                                                                                     │     ╰───────────────────────────────────────╯                                  ╰───────────────────────────────────────╯\n",
       "        │                                                                                     │                         ▲             │                                                            ▲                    \n",
       "        │                                                                                     ╰───────────────────╮     │             │                                                            │                    \n",
       "        │                                                                                                         │     │             │                                                            │                    \n",
       "        │                                                                                                         │     ╰─────────────│                                                            │                    \n",
       "        │                                                                                                      ╭────────────────────────────────────────────╮                                      │                    \n",
       "        │                                                                                                      │ <span style=\"font-style: italic\">weather​: </span><span style=\"font-weight: bold; font-style: italic\">DatabaseTable</span>                     │                                      │                    \n",
       "        │                                                                                                      │ <span style=\"font-style: italic\">   day: </span><span style=\"color: #ffaf00; text-decoration-color: #ffaf00; font-style: italic\">string</span>                             │                                      │                    \n",
       "        ╰──────────────────────────────────────────────────────────────────────────────────────────────────────│ <span style=\"font-style: italic\">   normal: </span><span style=\"color: #ff00ff; text-decoration-color: #ff00ff; font-style: italic\">struct&lt;high: int64, low: int64&gt;</span> │──────────────────────────────────────╯                    \n",
       "                                                                                                               │ <span style=\"font-style: italic\">   actual: </span><span style=\"color: #ff00ff; text-decoration-color: #ff00ff; font-style: italic\">struct&lt;high: int64, low: int64&gt;</span> │                                                           \n",
       "                                                                                                               │ <span style=\"font-style: italic\">   id: </span><span style=\"color: #808000; text-decoration-color: #808000; font-style: italic\">int64</span>                               │                                                           \n",
       "                                                                                                               ╰────────────────────────────────────────────╯                                                           \n",
       "</pre>\n"
      ],
      "text/plain": [
       "                                                                                                               ╭────────────────────────────────────────────╮                                                           \n",
       "                                                                                                               │ \u001b[1mDropNa\u001b[0m                                     │                                                           \n",
       "                                                                                                               │ \u001b[1m   \u001b[0m\u001b[1;3mday: \u001b[0m\u001b[1;3;38;5;214mstring\u001b[0m                             │                                                           \n",
       "                                                                                                               │ \u001b[1m   \u001b[0m\u001b[1;3mnormal: \u001b[0m\u001b[1;3;95mstruct<high: int64, low: int64>\u001b[0m │                                                           \n",
       "                                                                                                               │ \u001b[1m   \u001b[0m\u001b[1;3mactual: \u001b[0m\u001b[1;3;95mstruct<high: int64, low: int64>\u001b[0m │                                                           \n",
       "                                                                                                               │ \u001b[1m   \u001b[0m\u001b[1;3mid: \u001b[0m\u001b[1;3;33mint64\u001b[0m                               │                                                           \n",
       "                                                                                                               │ \u001b[1m   \u001b[0m\u001b[1;3mhigh_vs_expected: \u001b[0m\u001b[1;3;33mint64\u001b[0m                 │                                                           \n",
       "                                                                                                               ╰────────────────────────────────────────────╯                                                           \n",
       "                                                                                                               ▲                      ▲                                                                                 \n",
       "                                                                                                               │                      │                                                                                 \n",
       "                                                                                                               │                      │                                                                                 \n",
       "                                                                                                               │                      │                                                                                 \n",
       "                                                                                                  ╭─────────────────────────╮         │                                                                                 \n",
       "                                                                                                  │ \u001b[3mhigh_vs_expected: \u001b[0m\u001b[1;3mField\u001b[0m │         │                                                                                 \n",
       "                                                                                                  │ \u001b[3m   :: \u001b[0m\u001b[3;33mint64\u001b[0m             │         │                                                                                 \n",
       "                                                                                                  ╰─────────────────────────╯         │                                                                                 \n",
       "                                                                                                               ▲                      │                                                                                 \n",
       "                                                                                                               │                      │                                                                                 \n",
       "                                                                                                               │                      │                                                                                 \n",
       "                                                                                                               ╰──────────────────────│                                                                                 \n",
       "                                                                                                               ╭────────────────────────────────────────────╮                                                           \n",
       "                                                                                                               │ \u001b[1mProject\u001b[0m                                    │                                                           \n",
       "                                                                                                               │ \u001b[1m   \u001b[0m\u001b[1;3mday: \u001b[0m\u001b[1;3;38;5;214mstring\u001b[0m                             │                                                           \n",
       "                                                                                                               │ \u001b[1m   \u001b[0m\u001b[1;3mnormal: \u001b[0m\u001b[1;3;95mstruct<high: int64, low: int64>\u001b[0m │                                                           \n",
       "        ╭─────────────────────────────────────────────────────────────────────────────────────────────────────▶│ \u001b[1m   \u001b[0m\u001b[1;3mactual: \u001b[0m\u001b[1;3;95mstruct<high: int64, low: int64>\u001b[0m │◀─────────────────────────────────────╮                    \n",
       "        │                                                                                                      │ \u001b[1m   \u001b[0m\u001b[1;3mid: \u001b[0m\u001b[1;3;33mint64\u001b[0m                               │                                      │                    \n",
       "        │                                                                                                      │ \u001b[1m   \u001b[0m\u001b[1;3mhigh_vs_expected: \u001b[0m\u001b[1;3;33mint64\u001b[0m                 │                                      │                    \n",
       "        │                                                                                                      ╰────────────────────────────────────────────╯                                      │                    \n",
       "        │                                                                                                            ▲  ▲             ▲                                                            │                    \n",
       "        │                                             ╭─────────────────────────────────────────────────────────────────│─────────────│                                                            │                    \n",
       "        │                                             │                                                              │  │             │                                                            │                    \n",
       "        │                                             │                                                              │  │             │                                                            │                    \n",
       "╭──────────────╮                               ╭─────────────╮                                ╭─────────────╮        │  │             │                                                            │                    \n",
       "│ \u001b[3mday: \u001b[0m\u001b[1;3mField\u001b[0m   │                               │ \u001b[3mid: \u001b[0m\u001b[1;3mField\u001b[0m   │                                │ \u001b[1mSubtract\u001b[0m    │        │  │             │                                                            │                    \n",
       "│ \u001b[3m   :: \u001b[0m\u001b[3;38;5;214mstring\u001b[0m │                               │ \u001b[3m   :: \u001b[0m\u001b[3;33mint64\u001b[0m │                                │ \u001b[1m   :: \u001b[0m\u001b[1;33mint64\u001b[0m │────────╯  │             │                                                            │                    \n",
       "╰──────────────╯                               ╰─────────────╯                                ╰─────────────╯           │             │                                                            │                    \n",
       "        ▲                                             ▲                                              ▲──────────────────│─────────────│────╮                                                       │                    \n",
       "        │                                             │                                              │                  │             │    │                                                       │                    \n",
       "        │                                             │                                              │                  │             │    │                                                       │                    \n",
       "        │                                             │                                              │                  │             │    │                                                       │                    \n",
       "        │                                             │                                       ╭─────────────╮           │             │    │                             ╭─────────────╮           │                    \n",
       "        │                                             │                                       │ \u001b[1mStructField\u001b[0m │           │             │    │                             │ \u001b[1mStructField\u001b[0m │           │                    \n",
       "        │                                             │                                       │ \u001b[1m   :: \u001b[0m\u001b[1;33mint64\u001b[0m │           │             │    ╰─────────────────────────────│ \u001b[1m   :: \u001b[0m\u001b[1;33mint64\u001b[0m │           │                    \n",
       "        │                                             │                                       ╰─────────────╯           │             │                                  ╰─────────────╯           │                    \n",
       "        │                                             │                                              ▲                  │             │                                         ▲                  │                    \n",
       "        │                                             │                                              │                  │             │                                         │                  │                    \n",
       "        │                                             │                                              │                  │             │                                         │                  │                    \n",
       "        │                                             ╰───────────────────────────────────────╮      │                  │             │                                         │                  │                    \n",
       "        │                                                                                     │     ╭───────────────────────────────────────╮                                  ╭───────────────────────────────────────╮\n",
       "        │                                                                                     │     │ \u001b[3mactual: \u001b[0m\u001b[1;3mField\u001b[0m                         │                                  │ \u001b[3mnormal: \u001b[0m\u001b[1;3mField\u001b[0m                         │\n",
       "        │                                                                                     │     │ \u001b[3m   :: \u001b[0m\u001b[3;95mstruct<high: int64, low: int64>\u001b[0m │                                  │ \u001b[3m   :: \u001b[0m\u001b[3;95mstruct<high: int64, low: int64>\u001b[0m │\n",
       "        │                                                                                     │     ╰───────────────────────────────────────╯                                  ╰───────────────────────────────────────╯\n",
       "        │                                                                                     │                         ▲             │                                                            ▲                    \n",
       "        │                                                                                     ╰───────────────────╮     │             │                                                            │                    \n",
       "        │                                                                                                         │     │             │                                                            │                    \n",
       "        │                                                                                                         │     ╰─────────────│                                                            │                    \n",
       "        │                                                                                                      ╭────────────────────────────────────────────╮                                      │                    \n",
       "        │                                                                                                      │ \u001b[3mweather​: \u001b[0m\u001b[1;3mDatabaseTable\u001b[0m                     │                                      │                    \n",
       "        │                                                                                                      │ \u001b[3m   \u001b[0m\u001b[3mday: \u001b[0m\u001b[3;38;5;214mstring\u001b[0m                             │                                      │                    \n",
       "        ╰──────────────────────────────────────────────────────────────────────────────────────────────────────│ \u001b[3m   \u001b[0m\u001b[3mnormal: \u001b[0m\u001b[3;95mstruct<high: int64, low: int64>\u001b[0m │──────────────────────────────────────╯                    \n",
       "                                                                                                               │ \u001b[3m   \u001b[0m\u001b[3mactual: \u001b[0m\u001b[3;95mstruct<high: int64, low: int64>\u001b[0m │                                                           \n",
       "                                                                                                               │ \u001b[3m   \u001b[0m\u001b[3mid: \u001b[0m\u001b[3;33mint64\u001b[0m                               │                                                           \n",
       "                                                                                                               ╰────────────────────────────────────────────╯                                                           \n"
      ]
     },
     "metadata": {},
     "output_type": "display_data"
    }
   ],
   "source": [
    "# | echo: false\n",
    "w.visualize()"
   ]
  },
  {
   "cell_type": "markdown",
   "id": "50c40e05",
   "metadata": {},
   "source": [
    ":::"
   ]
  },
  {
   "cell_type": "markdown",
   "id": "2a2cbc0a",
   "metadata": {},
   "source": [
    "</Accordion>"
   ]
  },
  {
   "cell_type": "markdown",
   "id": "7789038d",
   "metadata": {},
   "source": [
    "<Accordion title=\"Pivots\">"
   ]
  },
  {
   "cell_type": "code",
   "execution_count": 31,
   "id": "a43304b2",
   "metadata": {
    "execution": {
     "iopub.execute_input": "2024-03-08T17:20:24.928524Z",
     "iopub.status.busy": "2024-03-08T17:20:24.928183Z",
     "iopub.status.idle": "2024-03-08T17:20:24.970244Z",
     "shell.execute_reply": "2024-03-08T17:20:24.969912Z"
    }
   },
   "outputs": [],
   "source": [
    "# | echo: false\n",
    "from vinyl.examples import budget\n",
    "\n",
    "budget = budget()\n",
    "\n",
    "budget = budget.drop([col for col in budget.columns if \"name\" in col])\n",
    "budget = budget._create_view(\"budget\")"
   ]
  },
  {
   "cell_type": "code",
   "execution_count": 32,
   "id": "7409c4c3",
   "metadata": {
    "execution": {
     "iopub.execute_input": "2024-03-08T17:20:24.972827Z",
     "iopub.status.busy": "2024-03-08T17:20:24.972723Z",
     "iopub.status.idle": "2024-03-08T17:20:24.990414Z",
     "shell.execute_reply": "2024-03-08T17:20:24.990090Z"
    },
    "lines_to_next_cell": 2
   },
   "outputs": [],
   "source": [
    "import re\n",
    "\n",
    "with budget as b:\n",
    "    b.unpivot(\n",
    "        [col for col in b.columns if re.match(r\"\\d{4}\", col)], \n",
    "        names_to = \"year\", \n",
    "        names_transform = int, \n",
    "        values_to= \"budget\"\n",
    "    )"
   ]
  },
  {
   "cell_type": "markdown",
   "id": "7a2ab0e8",
   "metadata": {},
   "source": [
    "::: {.panel-tabset}"
   ]
  },
  {
   "cell_type": "markdown",
   "id": "d37f1e86",
   "metadata": {},
   "source": [
    "#### SQL\n"
   ]
  },
  {
   "cell_type": "code",
   "execution_count": 33,
   "id": "13f15bd5",
   "metadata": {
    "execution": {
     "iopub.execute_input": "2024-03-08T17:20:24.992380Z",
     "iopub.status.busy": "2024-03-08T17:20:24.992290Z",
     "iopub.status.idle": "2024-03-08T17:20:25.041573Z",
     "shell.execute_reply": "2024-03-08T17:20:25.041236Z"
    }
   },
   "outputs": [
    {
     "data": {
      "text/html": [
       "<pre style=\"white-space:pre;overflow-x:auto;line-height:normal;font-family:Menlo,'DejaVu Sans Mono',consolas,'Courier New',monospace\">SELECT\n",
       "  <span style=\"color: #008000; text-decoration-color: #008000\">\"t1\"</span>.<span style=\"color: #008000; text-decoration-color: #008000\">\"Source Category Code\"</span>,\n",
       "  <span style=\"color: #008000; text-decoration-color: #008000\">\"t1\"</span>.<span style=\"color: #008000; text-decoration-color: #008000\">\"Source subcategory\"</span>,\n",
       "  <span style=\"color: #008000; text-decoration-color: #008000\">\"t1\"</span>.<span style=\"color: #008000; text-decoration-color: #008000\">\"Agency code\"</span>,\n",
       "  <span style=\"color: #008000; text-decoration-color: #008000\">\"t1\"</span>.<span style=\"color: #008000; text-decoration-color: #008000\">\"Bureau code\"</span>,\n",
       "  <span style=\"color: #008000; text-decoration-color: #008000\">\"t1\"</span>.<span style=\"color: #008000; text-decoration-color: #008000\">\"Account code\"</span>,\n",
       "  <span style=\"color: #008000; text-decoration-color: #008000\">\"t1\"</span>.<span style=\"color: #008000; text-decoration-color: #008000\">\"Treasury Agency code\"</span>,\n",
       "  <span style=\"color: #008000; text-decoration-color: #008000\">\"t1\"</span>.<span style=\"color: #008000; text-decoration-color: #008000\">\"On- or off-budget\"</span>,\n",
       "  <span style=\"color: #008000; text-decoration-color: #008000\">\"t1\"</span>.<span style=\"color: #008000; text-decoration-color: #008000\">\"TQ\"</span>,\n",
       "  <span style=\"color: #008000; text-decoration-color: #008000\">\"t1\"</span>.<span style=\"color: #008000; text-decoration-color: #008000\">\"__pivoted__\"</span>.<span style=\"color: #008000; text-decoration-color: #008000\">\"year\"</span> AS <span style=\"color: #008000; text-decoration-color: #008000\">\"year\"</span>,\n",
       "  <span style=\"color: #008000; text-decoration-color: #008000\">\"t1\"</span>.<span style=\"color: #008000; text-decoration-color: #008000\">\"__pivoted__\"</span>.<span style=\"color: #008000; text-decoration-color: #008000\">\"budget\"</span> AS <span style=\"color: #008000; text-decoration-color: #008000\">\"budget\"</span>\n",
       "FROM <span style=\"font-weight: bold\">(</span>\n",
       "  SELECT\n",
       "    <span style=\"color: #008000; text-decoration-color: #008000\">\"t0\"</span>.<span style=\"color: #008000; text-decoration-color: #008000\">\"Source Category Code\"</span>,\n",
       "    <span style=\"color: #008000; text-decoration-color: #008000\">\"t0\"</span>.<span style=\"color: #008000; text-decoration-color: #008000\">\"Source subcategory\"</span>,\n",
       "    <span style=\"color: #008000; text-decoration-color: #008000\">\"t0\"</span>.<span style=\"color: #008000; text-decoration-color: #008000\">\"Agency code\"</span>,\n",
       "    <span style=\"color: #008000; text-decoration-color: #008000\">\"t0\"</span>.<span style=\"color: #008000; text-decoration-color: #008000\">\"Bureau code\"</span>,\n",
       "    <span style=\"color: #008000; text-decoration-color: #008000\">\"t0\"</span>.<span style=\"color: #008000; text-decoration-color: #008000\">\"Account code\"</span>,\n",
       "    <span style=\"color: #008000; text-decoration-color: #008000\">\"t0\"</span>.<span style=\"color: #008000; text-decoration-color: #008000\">\"Treasury Agency code\"</span>,\n",
       "    <span style=\"color: #008000; text-decoration-color: #008000\">\"t0\"</span>.<span style=\"color: #008000; text-decoration-color: #008000\">\"On- or off-budget\"</span>,\n",
       "    <span style=\"color: #008000; text-decoration-color: #008000\">\"t0\"</span>.<span style=\"color: #008000; text-decoration-color: #008000\">\"TQ\"</span>,\n",
       "    <span style=\"color: #800080; text-decoration-color: #800080; font-weight: bold\">UNNEST</span><span style=\"font-weight: bold\">(</span>\n",
       "      <span style=\"font-weight: bold\">[{</span><span style=\"color: #008000; text-decoration-color: #008000\">'year'</span>: <span style=\"color: #800080; text-decoration-color: #800080; font-weight: bold\">CAST</span><span style=\"font-weight: bold\">(</span><span style=\"color: #008080; text-decoration-color: #008080; font-weight: bold\">1962</span> AS SMALLINT<span style=\"font-weight: bold\">)</span>, <span style=\"color: #008000; text-decoration-color: #008000\">'budget'</span>: <span style=\"color: #008000; text-decoration-color: #008000\">\"t0\"</span>.<span style=\"color: #008000; text-decoration-color: #008000\">\"1962\"</span><span style=\"font-weight: bold\">}</span>, <span style=\"font-weight: bold\">{</span><span style=\"color: #008000; text-decoration-color: #008000\">'year'</span>: <span style=\"color: #800080; text-decoration-color: #800080; font-weight: bold\">CAST</span><span style=\"font-weight: bold\">(</span><span style=\"color: #008080; text-decoration-color: #008080; font-weight: bold\">1963</span> AS SMALLINT<span style=\"font-weight: bold\">)</span>, <span style=\"color: #008000; text-decoration-color: #008000\">'budget'</span>: <span style=\"color: #008000; text-decoration-color: #008000\">\"t0\"</span>.<span style=\"color: #008000; text-decoration-color: #008000\">\"1963\"</span><span style=\"font-weight: bold\">}</span>, <span style=\"font-weight: bold\">{</span><span style=\"color: #008000; text-decoration-color: #008000\">'year'</span>: <span style=\"color: #800080; text-decoration-color: #800080; font-weight: bold\">CAST</span><span style=\"font-weight: bold\">(</span><span style=\"color: #008080; text-decoration-color: #008080; font-weight: bold\">1964</span> AS SMALLINT<span style=\"font-weight: bold\">)</span>, <span style=\"color: #008000; text-decoration-color: #008000\">'budget'</span>: <span style=\"color: #008000; text-decoration-color: #008000\">\"t0\"</span>.<span style=\"color: #008000; text-decoration-color: #008000\">\"1964\"</span><span style=\"font-weight: bold\">}</span>, <span style=\"font-weight: bold\">{</span><span style=\"color: #008000; text-decoration-color: #008000\">'year'</span>: <span style=\"color: #800080; text-decoration-color: #800080; font-weight: bold\">CAST</span><span style=\"font-weight: bold\">(</span><span style=\"color: #008080; text-decoration-color: #008080; font-weight: bold\">1965</span> AS SMALLINT<span style=\"font-weight: bold\">)</span>, <span style=\"color: #008000; text-decoration-color: #008000\">'budget'</span>: <span style=\"color: #008000; text-decoration-color: #008000\">\"t0\"</span>.<span style=\"color: #008000; text-decoration-color: #008000\">\"1965\"</span><span style=\"font-weight: bold\">}</span>, <span style=\"font-weight: bold\">{</span><span style=\"color: #008000; text-decoration-color: #008000\">'year'</span>: <span style=\"color: #800080; text-decoration-color: #800080; font-weight: bold\">CAST</span><span style=\"font-weight: bold\">(</span><span style=\"color: #008080; text-decoration-color: #008080; font-weight: bold\">1966</span> AS SMALLINT<span style=\"font-weight: bold\">)</span>, <span style=\"color: #008000; text-decoration-color: #008000\">'budget'</span>: <span style=\"color: #008000; text-decoration-color: #008000\">\"t0\"</span>.<span style=\"color: #008000; text-decoration-color: #008000\">\"1966\"</span><span style=\"font-weight: bold\">}</span>, <span style=\"font-weight: bold\">{</span><span style=\"color: #008000; text-decoration-color: #008000\">'year'</span>: <span style=\"color: #800080; text-decoration-color: #800080; font-weight: bold\">CAST</span><span style=\"font-weight: bold\">(</span><span style=\"color: #008080; text-decoration-color: #008080; font-weight: bold\">1967</span> AS SMALLINT<span style=\"font-weight: bold\">)</span>, <span style=\"color: #008000; text-decoration-color: #008000\">'budget'</span>: <span style=\"color: #008000; text-decoration-color: #008000\">\"t0\"</span>.<span style=\"color: #008000; text-decoration-color: #008000\">\"1967\"</span><span style=\"font-weight: bold\">}</span>, <span style=\"font-weight: bold\">{</span><span style=\"color: #008000; text-decoration-color: #008000\">'year'</span>: <span style=\"color: #800080; text-decoration-color: #800080; font-weight: bold\">CAST</span><span style=\"font-weight: bold\">(</span><span style=\"color: #008080; text-decoration-color: #008080; font-weight: bold\">1968</span> AS SMALLINT<span style=\"font-weight: bold\">)</span>, <span style=\"color: #008000; text-decoration-color: #008000\">'budget'</span>: <span style=\"color: #008000; text-decoration-color: #008000\">\"t0\"</span>.<span style=\"color: #008000; text-decoration-color: #008000\">\"1968\"</span><span style=\"font-weight: bold\">}</span>, <span style=\"font-weight: bold\">{</span><span style=\"color: #008000; text-decoration-color: #008000\">'year'</span>: <span style=\"color: #800080; text-decoration-color: #800080; font-weight: bold\">CAST</span><span style=\"font-weight: bold\">(</span><span style=\"color: #008080; text-decoration-color: #008080; font-weight: bold\">1969</span> AS SMALLINT<span style=\"font-weight: bold\">)</span>, <span style=\"color: #008000; text-decoration-color: #008000\">'budget'</span>: <span style=\"color: #008000; text-decoration-color: #008000\">\"t0\"</span>.<span style=\"color: #008000; text-decoration-color: #008000\">\"1969\"</span><span style=\"font-weight: bold\">}</span>, <span style=\"font-weight: bold\">{</span><span style=\"color: #008000; text-decoration-color: #008000\">'year'</span>: <span style=\"color: #800080; text-decoration-color: #800080; font-weight: bold\">CAST</span><span style=\"font-weight: bold\">(</span><span style=\"color: #008080; text-decoration-color: #008080; font-weight: bold\">1970</span> AS SMALLINT<span style=\"font-weight: bold\">)</span>, <span style=\"color: #008000; text-decoration-color: #008000\">'budget'</span>: <span style=\"color: #008000; text-decoration-color: #008000\">\"t0\"</span>.<span style=\"color: #008000; text-decoration-color: #008000\">\"1970\"</span><span style=\"font-weight: bold\">}</span>, <span style=\"font-weight: bold\">{</span><span style=\"color: #008000; text-decoration-color: #008000\">'year'</span>: <span style=\"color: #800080; text-decoration-color: #800080; font-weight: bold\">CAST</span><span style=\"font-weight: bold\">(</span><span style=\"color: #008080; text-decoration-color: #008080; font-weight: bold\">1971</span> AS SMALLINT<span style=\"font-weight: bold\">)</span>, <span style=\"color: #008000; text-decoration-color: #008000\">'budget'</span>: <span style=\"color: #008000; text-decoration-color: #008000\">\"t0\"</span>.<span style=\"color: #008000; text-decoration-color: #008000\">\"1971\"</span><span style=\"font-weight: bold\">}</span>, <span style=\"font-weight: bold\">{</span><span style=\"color: #008000; text-decoration-color: #008000\">'year'</span>: <span style=\"color: #800080; text-decoration-color: #800080; font-weight: bold\">CAST</span><span style=\"font-weight: bold\">(</span><span style=\"color: #008080; text-decoration-color: #008080; font-weight: bold\">1972</span> AS SMALLINT<span style=\"font-weight: bold\">)</span>, <span style=\"color: #008000; text-decoration-color: #008000\">'budget'</span>: <span style=\"color: #008000; text-decoration-color: #008000\">\"t0\"</span>.<span style=\"color: #008000; text-decoration-color: #008000\">\"1972\"</span><span style=\"font-weight: bold\">}</span>, <span style=\"font-weight: bold\">{</span><span style=\"color: #008000; text-decoration-color: #008000\">'year'</span>: <span style=\"color: #800080; text-decoration-color: #800080; font-weight: bold\">CAST</span><span style=\"font-weight: bold\">(</span><span style=\"color: #008080; text-decoration-color: #008080; font-weight: bold\">1973</span> AS SMALLINT<span style=\"font-weight: bold\">)</span>, <span style=\"color: #008000; text-decoration-color: #008000\">'budget'</span>: <span style=\"color: #008000; text-decoration-color: #008000\">\"t0\"</span>.<span style=\"color: #008000; text-decoration-color: #008000\">\"1973\"</span><span style=\"font-weight: bold\">}</span>, <span style=\"font-weight: bold\">{</span><span style=\"color: #008000; text-decoration-color: #008000\">'year'</span>: <span style=\"color: #800080; text-decoration-color: #800080; font-weight: bold\">CAST</span><span style=\"font-weight: bold\">(</span><span style=\"color: #008080; text-decoration-color: #008080; font-weight: bold\">1974</span> AS SMALLINT<span style=\"font-weight: bold\">)</span>, <span style=\"color: #008000; text-decoration-color: #008000\">'budget'</span>: <span style=\"color: #008000; text-decoration-color: #008000\">\"t0\"</span>.<span style=\"color: #008000; text-decoration-color: #008000\">\"1974\"</span><span style=\"font-weight: bold\">}</span>, <span style=\"font-weight: bold\">{</span><span style=\"color: #008000; text-decoration-color: #008000\">'year'</span>: <span style=\"color: #800080; text-decoration-color: #800080; font-weight: bold\">CAST</span><span style=\"font-weight: bold\">(</span><span style=\"color: #008080; text-decoration-color: #008080; font-weight: bold\">1975</span> AS SMALLINT<span style=\"font-weight: bold\">)</span>, <span style=\"color: #008000; text-decoration-color: #008000\">'budget'</span>: <span style=\"color: #008000; text-decoration-color: #008000\">\"t0\"</span>.<span style=\"color: #008000; text-decoration-color: #008000\">\"1975\"</span><span style=\"font-weight: bold\">}</span>, <span style=\"font-weight: bold\">{</span><span style=\"color: #008000; text-decoration-color: #008000\">'year'</span>: <span style=\"color: #800080; text-decoration-color: #800080; font-weight: bold\">CAST</span><span style=\"font-weight: bold\">(</span><span style=\"color: #008080; text-decoration-color: #008080; font-weight: bold\">1976</span> AS SMALLINT<span style=\"font-weight: bold\">)</span>, <span style=\"color: #008000; text-decoration-color: #008000\">'budget'</span>: <span style=\"color: #008000; text-decoration-color: #008000\">\"t0\"</span>.<span style=\"color: #008000; text-decoration-color: #008000\">\"1976\"</span><span style=\"font-weight: bold\">}</span>, <span style=\"font-weight: bold\">{</span><span style=\"color: #008000; text-decoration-color: #008000\">'year'</span>: <span style=\"color: #800080; text-decoration-color: #800080; font-weight: bold\">CAST</span><span style=\"font-weight: bold\">(</span><span style=\"color: #008080; text-decoration-color: #008080; font-weight: bold\">1977</span> AS SMALLINT<span style=\"font-weight: bold\">)</span>, <span style=\"color: #008000; text-decoration-color: #008000\">'budget'</span>: <span style=\"color: #008000; text-decoration-color: #008000\">\"t0\"</span>.<span style=\"color: #008000; text-decoration-color: #008000\">\"1977\"</span><span style=\"font-weight: bold\">}</span>, <span style=\"font-weight: bold\">{</span><span style=\"color: #008000; text-decoration-color: #008000\">'year'</span>: <span style=\"color: #800080; text-decoration-color: #800080; font-weight: bold\">CAST</span><span style=\"font-weight: bold\">(</span><span style=\"color: #008080; text-decoration-color: #008080; font-weight: bold\">1978</span> AS SMALLINT<span style=\"font-weight: bold\">)</span>, <span style=\"color: #008000; text-decoration-color: #008000\">'budget'</span>: <span style=\"color: #008000; text-decoration-color: #008000\">\"t0\"</span>.<span style=\"color: #008000; text-decoration-color: #008000\">\"1978\"</span><span style=\"font-weight: bold\">}</span>, <span style=\"font-weight: bold\">{</span><span style=\"color: #008000; text-decoration-color: #008000\">'year'</span>: <span style=\"color: #800080; text-decoration-color: #800080; font-weight: bold\">CAST</span><span style=\"font-weight: bold\">(</span><span style=\"color: #008080; text-decoration-color: #008080; font-weight: bold\">1979</span> AS SMALLINT<span style=\"font-weight: bold\">)</span>, <span style=\"color: #008000; text-decoration-color: #008000\">'budget'</span>: <span style=\"color: #008000; text-decoration-color: #008000\">\"t0\"</span>.<span style=\"color: #008000; text-decoration-color: #008000\">\"1979\"</span><span style=\"font-weight: bold\">}</span>, <span style=\"font-weight: bold\">{</span><span style=\"color: #008000; text-decoration-color: #008000\">'year'</span>: <span style=\"color: #800080; text-decoration-color: #800080; font-weight: bold\">CAST</span><span style=\"font-weight: bold\">(</span><span style=\"color: #008080; text-decoration-color: #008080; font-weight: bold\">1980</span> AS SMALLINT<span style=\"font-weight: bold\">)</span>, <span style=\"color: #008000; text-decoration-color: #008000\">'budget'</span>: <span style=\"color: #008000; text-decoration-color: #008000\">\"t0\"</span>.<span style=\"color: #008000; text-decoration-color: #008000\">\"1980\"</span><span style=\"font-weight: bold\">}</span>, <span style=\"font-weight: bold\">{</span><span style=\"color: #008000; text-decoration-color: #008000\">'year'</span>: <span style=\"color: #800080; text-decoration-color: #800080; font-weight: bold\">CAST</span><span style=\"font-weight: bold\">(</span><span style=\"color: #008080; text-decoration-color: #008080; font-weight: bold\">1981</span> AS SMALLINT<span style=\"font-weight: bold\">)</span>, <span style=\"color: #008000; text-decoration-color: #008000\">'budget'</span>: <span style=\"color: #008000; text-decoration-color: #008000\">\"t0\"</span>.<span style=\"color: #008000; text-decoration-color: #008000\">\"1981\"</span><span style=\"font-weight: bold\">}</span>, <span style=\"font-weight: bold\">{</span><span style=\"color: #008000; text-decoration-color: #008000\">'year'</span>: <span style=\"color: #800080; text-decoration-color: #800080; font-weight: bold\">CAST</span><span style=\"font-weight: bold\">(</span><span style=\"color: #008080; text-decoration-color: #008080; font-weight: bold\">1982</span> AS SMALLINT<span style=\"font-weight: bold\">)</span>, <span style=\"color: #008000; text-decoration-color: #008000\">'budget'</span>: <span style=\"color: #008000; text-decoration-color: #008000\">\"t0\"</span>.<span style=\"color: #008000; text-decoration-color: #008000\">\"1982\"</span><span style=\"font-weight: bold\">}</span>, <span style=\"font-weight: bold\">{</span><span style=\"color: #008000; text-decoration-color: #008000\">'year'</span>: <span style=\"color: #800080; text-decoration-color: #800080; font-weight: bold\">CAST</span><span style=\"font-weight: bold\">(</span><span style=\"color: #008080; text-decoration-color: #008080; font-weight: bold\">1983</span> AS SMALLINT<span style=\"font-weight: bold\">)</span>, <span style=\"color: #008000; text-decoration-color: #008000\">'budget'</span>: <span style=\"color: #008000; text-decoration-color: #008000\">\"t0\"</span>.<span style=\"color: #008000; text-decoration-color: #008000\">\"1983\"</span><span style=\"font-weight: bold\">}</span>, <span style=\"font-weight: bold\">{</span><span style=\"color: #008000; text-decoration-color: #008000\">'year'</span>: <span style=\"color: #800080; text-decoration-color: #800080; font-weight: bold\">CAST</span><span style=\"font-weight: bold\">(</span><span style=\"color: #008080; text-decoration-color: #008080; font-weight: bold\">1984</span> AS SMALLINT<span style=\"font-weight: bold\">)</span>, <span style=\"color: #008000; text-decoration-color: #008000\">'budget'</span>: <span style=\"color: #008000; text-decoration-color: #008000\">\"t0\"</span>.<span style=\"color: #008000; text-decoration-color: #008000\">\"1984\"</span><span style=\"font-weight: bold\">}</span>, <span style=\"font-weight: bold\">{</span><span style=\"color: #008000; text-decoration-color: #008000\">'year'</span>: <span style=\"color: #800080; text-decoration-color: #800080; font-weight: bold\">CAST</span><span style=\"font-weight: bold\">(</span><span style=\"color: #008080; text-decoration-color: #008080; font-weight: bold\">1985</span> AS SMALLINT<span style=\"font-weight: bold\">)</span>, <span style=\"color: #008000; text-decoration-color: #008000\">'budget'</span>: <span style=\"color: #008000; text-decoration-color: #008000\">\"t0\"</span>.<span style=\"color: #008000; text-decoration-color: #008000\">\"1985\"</span><span style=\"font-weight: bold\">}</span>, <span style=\"font-weight: bold\">{</span><span style=\"color: #008000; text-decoration-color: #008000\">'year'</span>: <span style=\"color: #800080; text-decoration-color: #800080; font-weight: bold\">CAST</span><span style=\"font-weight: bold\">(</span><span style=\"color: #008080; text-decoration-color: #008080; font-weight: bold\">1986</span> AS SMALLINT<span style=\"font-weight: bold\">)</span>, <span style=\"color: #008000; text-decoration-color: #008000\">'budget'</span>: <span style=\"color: #008000; text-decoration-color: #008000\">\"t0\"</span>.<span style=\"color: #008000; text-decoration-color: #008000\">\"1986\"</span><span style=\"font-weight: bold\">}</span>, <span style=\"font-weight: bold\">{</span><span style=\"color: #008000; text-decoration-color: #008000\">'year'</span>: <span style=\"color: #800080; text-decoration-color: #800080; font-weight: bold\">CAST</span><span style=\"font-weight: bold\">(</span><span style=\"color: #008080; text-decoration-color: #008080; font-weight: bold\">1987</span> AS SMALLINT<span style=\"font-weight: bold\">)</span>, <span style=\"color: #008000; text-decoration-color: #008000\">'budget'</span>: <span style=\"color: #008000; text-decoration-color: #008000\">\"t0\"</span>.<span style=\"color: #008000; text-decoration-color: #008000\">\"1987\"</span><span style=\"font-weight: bold\">}</span>, <span style=\"font-weight: bold\">{</span><span style=\"color: #008000; text-decoration-color: #008000\">'year'</span>: <span style=\"color: #800080; text-decoration-color: #800080; font-weight: bold\">CAST</span><span style=\"font-weight: bold\">(</span><span style=\"color: #008080; text-decoration-color: #008080; font-weight: bold\">1988</span> AS SMALLINT<span style=\"font-weight: bold\">)</span>, <span style=\"color: #008000; text-decoration-color: #008000\">'budget'</span>: <span style=\"color: #008000; text-decoration-color: #008000\">\"t0\"</span>.<span style=\"color: #008000; text-decoration-color: #008000\">\"1988\"</span><span style=\"font-weight: bold\">}</span>, <span style=\"font-weight: bold\">{</span><span style=\"color: #008000; text-decoration-color: #008000\">'year'</span>: <span style=\"color: #800080; text-decoration-color: #800080; font-weight: bold\">CAST</span><span style=\"font-weight: bold\">(</span><span style=\"color: #008080; text-decoration-color: #008080; font-weight: bold\">1989</span> AS SMALLINT<span style=\"font-weight: bold\">)</span>, <span style=\"color: #008000; text-decoration-color: #008000\">'budget'</span>: <span style=\"color: #008000; text-decoration-color: #008000\">\"t0\"</span>.<span style=\"color: #008000; text-decoration-color: #008000\">\"1989\"</span><span style=\"font-weight: bold\">}</span>, <span style=\"font-weight: bold\">{</span><span style=\"color: #008000; text-decoration-color: #008000\">'year'</span>: <span style=\"color: #800080; text-decoration-color: #800080; font-weight: bold\">CAST</span><span style=\"font-weight: bold\">(</span><span style=\"color: #008080; text-decoration-color: #008080; font-weight: bold\">1990</span> AS SMALLINT<span style=\"font-weight: bold\">)</span>, <span style=\"color: #008000; text-decoration-color: #008000\">'budget'</span>: <span style=\"color: #008000; text-decoration-color: #008000\">\"t0\"</span>.<span style=\"color: #008000; text-decoration-color: #008000\">\"1990\"</span><span style=\"font-weight: bold\">}</span>, <span style=\"font-weight: bold\">{</span><span style=\"color: #008000; text-decoration-color: #008000\">'year'</span>: <span style=\"color: #800080; text-decoration-color: #800080; font-weight: bold\">CAST</span><span style=\"font-weight: bold\">(</span><span style=\"color: #008080; text-decoration-color: #008080; font-weight: bold\">1991</span> AS SMALLINT<span style=\"font-weight: bold\">)</span>, <span style=\"color: #008000; text-decoration-color: #008000\">'budget'</span>: <span style=\"color: #008000; text-decoration-color: #008000\">\"t0\"</span>.<span style=\"color: #008000; text-decoration-color: #008000\">\"1991\"</span><span style=\"font-weight: bold\">}</span>, <span style=\"font-weight: bold\">{</span><span style=\"color: #008000; text-decoration-color: #008000\">'year'</span>: <span style=\"color: #800080; text-decoration-color: #800080; font-weight: bold\">CAST</span><span style=\"font-weight: bold\">(</span><span style=\"color: #008080; text-decoration-color: #008080; font-weight: bold\">1992</span> AS SMALLINT<span style=\"font-weight: bold\">)</span>, <span style=\"color: #008000; text-decoration-color: #008000\">'budget'</span>: <span style=\"color: #008000; text-decoration-color: #008000\">\"t0\"</span>.<span style=\"color: #008000; text-decoration-color: #008000\">\"1992\"</span><span style=\"font-weight: bold\">}</span>, <span style=\"font-weight: bold\">{</span><span style=\"color: #008000; text-decoration-color: #008000\">'year'</span>: <span style=\"color: #800080; text-decoration-color: #800080; font-weight: bold\">CAST</span><span style=\"font-weight: bold\">(</span><span style=\"color: #008080; text-decoration-color: #008080; font-weight: bold\">1993</span> AS SMALLINT<span style=\"font-weight: bold\">)</span>, <span style=\"color: #008000; text-decoration-color: #008000\">'budget'</span>: <span style=\"color: #008000; text-decoration-color: #008000\">\"t0\"</span>.<span style=\"color: #008000; text-decoration-color: #008000\">\"1993\"</span><span style=\"font-weight: bold\">}</span>, <span style=\"font-weight: bold\">{</span><span style=\"color: #008000; text-decoration-color: #008000\">'year'</span>: <span style=\"color: #800080; text-decoration-color: #800080; font-weight: bold\">CAST</span><span style=\"font-weight: bold\">(</span><span style=\"color: #008080; text-decoration-color: #008080; font-weight: bold\">1994</span> AS SMALLINT<span style=\"font-weight: bold\">)</span>, <span style=\"color: #008000; text-decoration-color: #008000\">'budget'</span>: <span style=\"color: #008000; text-decoration-color: #008000\">\"t0\"</span>.<span style=\"color: #008000; text-decoration-color: #008000\">\"1994\"</span><span style=\"font-weight: bold\">}</span>, <span style=\"font-weight: bold\">{</span><span style=\"color: #008000; text-decoration-color: #008000\">'year'</span>: <span style=\"color: #800080; text-decoration-color: #800080; font-weight: bold\">CAST</span><span style=\"font-weight: bold\">(</span><span style=\"color: #008080; text-decoration-color: #008080; font-weight: bold\">1995</span> AS SMALLINT<span style=\"font-weight: bold\">)</span>, <span style=\"color: #008000; text-decoration-color: #008000\">'budget'</span>: <span style=\"color: #008000; text-decoration-color: #008000\">\"t0\"</span>.<span style=\"color: #008000; text-decoration-color: #008000\">\"1995\"</span><span style=\"font-weight: bold\">}</span>, <span style=\"font-weight: bold\">{</span><span style=\"color: #008000; text-decoration-color: #008000\">'year'</span>: <span style=\"color: #800080; text-decoration-color: #800080; font-weight: bold\">CAST</span><span style=\"font-weight: bold\">(</span><span style=\"color: #008080; text-decoration-color: #008080; font-weight: bold\">1996</span> AS SMALLINT<span style=\"font-weight: bold\">)</span>, <span style=\"color: #008000; text-decoration-color: #008000\">'budget'</span>: <span style=\"color: #008000; text-decoration-color: #008000\">\"t0\"</span>.<span style=\"color: #008000; text-decoration-color: #008000\">\"1996\"</span><span style=\"font-weight: bold\">}</span>, <span style=\"font-weight: bold\">{</span><span style=\"color: #008000; text-decoration-color: #008000\">'year'</span>: <span style=\"color: #800080; text-decoration-color: #800080; font-weight: bold\">CAST</span><span style=\"font-weight: bold\">(</span><span style=\"color: #008080; text-decoration-color: #008080; font-weight: bold\">1997</span> AS SMALLINT<span style=\"font-weight: bold\">)</span>, <span style=\"color: #008000; text-decoration-color: #008000\">'budget'</span>: <span style=\"color: #008000; text-decoration-color: #008000\">\"t0\"</span>.<span style=\"color: #008000; text-decoration-color: #008000\">\"1997\"</span><span style=\"font-weight: bold\">}</span>, <span style=\"font-weight: bold\">{</span><span style=\"color: #008000; text-decoration-color: #008000\">'year'</span>: <span style=\"color: #800080; text-decoration-color: #800080; font-weight: bold\">CAST</span><span style=\"font-weight: bold\">(</span><span style=\"color: #008080; text-decoration-color: #008080; font-weight: bold\">1998</span> AS SMALLINT<span style=\"font-weight: bold\">)</span>, <span style=\"color: #008000; text-decoration-color: #008000\">'budget'</span>: <span style=\"color: #008000; text-decoration-color: #008000\">\"t0\"</span>.<span style=\"color: #008000; text-decoration-color: #008000\">\"1998\"</span><span style=\"font-weight: bold\">}</span>, <span style=\"font-weight: bold\">{</span><span style=\"color: #008000; text-decoration-color: #008000\">'year'</span>: <span style=\"color: #800080; text-decoration-color: #800080; font-weight: bold\">CAST</span><span style=\"font-weight: bold\">(</span><span style=\"color: #008080; text-decoration-color: #008080; font-weight: bold\">1999</span> AS SMALLINT<span style=\"font-weight: bold\">)</span>, <span style=\"color: #008000; text-decoration-color: #008000\">'budget'</span>: <span style=\"color: #008000; text-decoration-color: #008000\">\"t0\"</span>.<span style=\"color: #008000; text-decoration-color: #008000\">\"1999\"</span><span style=\"font-weight: bold\">}</span>, <span style=\"font-weight: bold\">{</span><span style=\"color: #008000; text-decoration-color: #008000\">'year'</span>: <span style=\"color: #800080; text-decoration-color: #800080; font-weight: bold\">CAST</span><span style=\"font-weight: bold\">(</span><span style=\"color: #008080; text-decoration-color: #008080; font-weight: bold\">2000</span> AS SMALLINT<span style=\"font-weight: bold\">)</span>, <span style=\"color: #008000; text-decoration-color: #008000\">'budget'</span>: <span style=\"color: #008000; text-decoration-color: #008000\">\"t0\"</span>.<span style=\"color: #008000; text-decoration-color: #008000\">\"2000\"</span><span style=\"font-weight: bold\">}</span>, <span style=\"font-weight: bold\">{</span><span style=\"color: #008000; text-decoration-color: #008000\">'year'</span>: <span style=\"color: #800080; text-decoration-color: #800080; font-weight: bold\">CAST</span><span style=\"font-weight: bold\">(</span><span style=\"color: #008080; text-decoration-color: #008080; font-weight: bold\">2001</span> AS SMALLINT<span style=\"font-weight: bold\">)</span>, <span style=\"color: #008000; text-decoration-color: #008000\">'budget'</span>: <span style=\"color: #008000; text-decoration-color: #008000\">\"t0\"</span>.<span style=\"color: #008000; text-decoration-color: #008000\">\"2001\"</span><span style=\"font-weight: bold\">}</span>, <span style=\"font-weight: bold\">{</span><span style=\"color: #008000; text-decoration-color: #008000\">'year'</span>: <span style=\"color: #800080; text-decoration-color: #800080; font-weight: bold\">CAST</span><span style=\"font-weight: bold\">(</span><span style=\"color: #008080; text-decoration-color: #008080; font-weight: bold\">2002</span> AS SMALLINT<span style=\"font-weight: bold\">)</span>, <span style=\"color: #008000; text-decoration-color: #008000\">'budget'</span>: <span style=\"color: #008000; text-decoration-color: #008000\">\"t0\"</span>.<span style=\"color: #008000; text-decoration-color: #008000\">\"2002\"</span><span style=\"font-weight: bold\">}</span>, <span style=\"font-weight: bold\">{</span><span style=\"color: #008000; text-decoration-color: #008000\">'year'</span>: <span style=\"color: #800080; text-decoration-color: #800080; font-weight: bold\">CAST</span><span style=\"font-weight: bold\">(</span><span style=\"color: #008080; text-decoration-color: #008080; font-weight: bold\">2003</span> AS SMALLINT<span style=\"font-weight: bold\">)</span>, <span style=\"color: #008000; text-decoration-color: #008000\">'budget'</span>: <span style=\"color: #008000; text-decoration-color: #008000\">\"t0\"</span>.<span style=\"color: #008000; text-decoration-color: #008000\">\"2003\"</span><span style=\"font-weight: bold\">}</span>, <span style=\"font-weight: bold\">{</span><span style=\"color: #008000; text-decoration-color: #008000\">'year'</span>: <span style=\"color: #800080; text-decoration-color: #800080; font-weight: bold\">CAST</span><span style=\"font-weight: bold\">(</span><span style=\"color: #008080; text-decoration-color: #008080; font-weight: bold\">2004</span> AS SMALLINT<span style=\"font-weight: bold\">)</span>, <span style=\"color: #008000; text-decoration-color: #008000\">'budget'</span>: <span style=\"color: #008000; text-decoration-color: #008000\">\"t0\"</span>.<span style=\"color: #008000; text-decoration-color: #008000\">\"2004\"</span><span style=\"font-weight: bold\">}</span>, <span style=\"font-weight: bold\">{</span><span style=\"color: #008000; text-decoration-color: #008000\">'year'</span>: <span style=\"color: #800080; text-decoration-color: #800080; font-weight: bold\">CAST</span><span style=\"font-weight: bold\">(</span><span style=\"color: #008080; text-decoration-color: #008080; font-weight: bold\">2005</span> AS SMALLINT<span style=\"font-weight: bold\">)</span>, <span style=\"color: #008000; text-decoration-color: #008000\">'budget'</span>: <span style=\"color: #008000; text-decoration-color: #008000\">\"t0\"</span>.<span style=\"color: #008000; text-decoration-color: #008000\">\"2005\"</span><span style=\"font-weight: bold\">}</span>, <span style=\"font-weight: bold\">{</span><span style=\"color: #008000; text-decoration-color: #008000\">'year'</span>: <span style=\"color: #800080; text-decoration-color: #800080; font-weight: bold\">CAST</span><span style=\"font-weight: bold\">(</span><span style=\"color: #008080; text-decoration-color: #008080; font-weight: bold\">2006</span> AS SMALLINT<span style=\"font-weight: bold\">)</span>, <span style=\"color: #008000; text-decoration-color: #008000\">'budget'</span>: <span style=\"color: #008000; text-decoration-color: #008000\">\"t0\"</span>.<span style=\"color: #008000; text-decoration-color: #008000\">\"2006\"</span><span style=\"font-weight: bold\">}</span>, <span style=\"font-weight: bold\">{</span><span style=\"color: #008000; text-decoration-color: #008000\">'year'</span>: <span style=\"color: #800080; text-decoration-color: #800080; font-weight: bold\">CAST</span><span style=\"font-weight: bold\">(</span><span style=\"color: #008080; text-decoration-color: #008080; font-weight: bold\">2007</span> AS SMALLINT<span style=\"font-weight: bold\">)</span>, <span style=\"color: #008000; text-decoration-color: #008000\">'budget'</span>: <span style=\"color: #008000; text-decoration-color: #008000\">\"t0\"</span>.<span style=\"color: #008000; text-decoration-color: #008000\">\"2007\"</span><span style=\"font-weight: bold\">}</span>, <span style=\"font-weight: bold\">{</span><span style=\"color: #008000; text-decoration-color: #008000\">'year'</span>: <span style=\"color: #800080; text-decoration-color: #800080; font-weight: bold\">CAST</span><span style=\"font-weight: bold\">(</span><span style=\"color: #008080; text-decoration-color: #008080; font-weight: bold\">2008</span> AS SMALLINT<span style=\"font-weight: bold\">)</span>, <span style=\"color: #008000; text-decoration-color: #008000\">'budget'</span>: <span style=\"color: #008000; text-decoration-color: #008000\">\"t0\"</span>.<span style=\"color: #008000; text-decoration-color: #008000\">\"2008\"</span><span style=\"font-weight: bold\">}</span>, <span style=\"font-weight: bold\">{</span><span style=\"color: #008000; text-decoration-color: #008000\">'year'</span>: <span style=\"color: #800080; text-decoration-color: #800080; font-weight: bold\">CAST</span><span style=\"font-weight: bold\">(</span><span style=\"color: #008080; text-decoration-color: #008080; font-weight: bold\">2009</span> AS SMALLINT<span style=\"font-weight: bold\">)</span>, <span style=\"color: #008000; text-decoration-color: #008000\">'budget'</span>: <span style=\"color: #008000; text-decoration-color: #008000\">\"t0\"</span>.<span style=\"color: #008000; text-decoration-color: #008000\">\"2009\"</span><span style=\"font-weight: bold\">}</span>, <span style=\"font-weight: bold\">{</span><span style=\"color: #008000; text-decoration-color: #008000\">'year'</span>: <span style=\"color: #800080; text-decoration-color: #800080; font-weight: bold\">CAST</span><span style=\"font-weight: bold\">(</span><span style=\"color: #008080; text-decoration-color: #008080; font-weight: bold\">2010</span> AS SMALLINT<span style=\"font-weight: bold\">)</span>, <span style=\"color: #008000; text-decoration-color: #008000\">'budget'</span>: <span style=\"color: #008000; text-decoration-color: #008000\">\"t0\"</span>.<span style=\"color: #008000; text-decoration-color: #008000\">\"2010\"</span><span style=\"font-weight: bold\">}</span>, <span style=\"font-weight: bold\">{</span><span style=\"color: #008000; text-decoration-color: #008000\">'year'</span>: <span style=\"color: #800080; text-decoration-color: #800080; font-weight: bold\">CAST</span><span style=\"font-weight: bold\">(</span><span style=\"color: #008080; text-decoration-color: #008080; font-weight: bold\">2011</span> AS SMALLINT<span style=\"font-weight: bold\">)</span>, <span style=\"color: #008000; text-decoration-color: #008000\">'budget'</span>: <span style=\"color: #008000; text-decoration-color: #008000\">\"t0\"</span>.<span style=\"color: #008000; text-decoration-color: #008000\">\"2011\"</span><span style=\"font-weight: bold\">}</span>, <span style=\"font-weight: bold\">{</span><span style=\"color: #008000; text-decoration-color: #008000\">'year'</span>: <span style=\"color: #800080; text-decoration-color: #800080; font-weight: bold\">CAST</span><span style=\"font-weight: bold\">(</span><span style=\"color: #008080; text-decoration-color: #008080; font-weight: bold\">2012</span> AS SMALLINT<span style=\"font-weight: bold\">)</span>, <span style=\"color: #008000; text-decoration-color: #008000\">'budget'</span>: <span style=\"color: #008000; text-decoration-color: #008000\">\"t0\"</span>.<span style=\"color: #008000; text-decoration-color: #008000\">\"2012\"</span><span style=\"font-weight: bold\">}</span>, <span style=\"font-weight: bold\">{</span><span style=\"color: #008000; text-decoration-color: #008000\">'year'</span>: <span style=\"color: #800080; text-decoration-color: #800080; font-weight: bold\">CAST</span><span style=\"font-weight: bold\">(</span><span style=\"color: #008080; text-decoration-color: #008080; font-weight: bold\">2013</span> AS SMALLINT<span style=\"font-weight: bold\">)</span>, <span style=\"color: #008000; text-decoration-color: #008000\">'budget'</span>: <span style=\"color: #008000; text-decoration-color: #008000\">\"t0\"</span>.<span style=\"color: #008000; text-decoration-color: #008000\">\"2013\"</span><span style=\"font-weight: bold\">}</span>, <span style=\"font-weight: bold\">{</span><span style=\"color: #008000; text-decoration-color: #008000\">'year'</span>: <span style=\"color: #800080; text-decoration-color: #800080; font-weight: bold\">CAST</span><span style=\"font-weight: bold\">(</span><span style=\"color: #008080; text-decoration-color: #008080; font-weight: bold\">2014</span> AS SMALLINT<span style=\"font-weight: bold\">)</span>, <span style=\"color: #008000; text-decoration-color: #008000\">'budget'</span>: <span style=\"color: #008000; text-decoration-color: #008000\">\"t0\"</span>.<span style=\"color: #008000; text-decoration-color: #008000\">\"2014\"</span><span style=\"font-weight: bold\">}</span>, <span style=\"font-weight: bold\">{</span><span style=\"color: #008000; text-decoration-color: #008000\">'year'</span>: <span style=\"color: #800080; text-decoration-color: #800080; font-weight: bold\">CAST</span><span style=\"font-weight: bold\">(</span><span style=\"color: #008080; text-decoration-color: #008080; font-weight: bold\">2015</span> AS SMALLINT<span style=\"font-weight: bold\">)</span>, <span style=\"color: #008000; text-decoration-color: #008000\">'budget'</span>: <span style=\"color: #008000; text-decoration-color: #008000\">\"t0\"</span>.<span style=\"color: #008000; text-decoration-color: #008000\">\"2015\"</span><span style=\"font-weight: bold\">}</span>, <span style=\"font-weight: bold\">{</span><span style=\"color: #008000; text-decoration-color: #008000\">'year'</span>: <span style=\"color: #800080; text-decoration-color: #800080; font-weight: bold\">CAST</span><span style=\"font-weight: bold\">(</span><span style=\"color: #008080; text-decoration-color: #008080; font-weight: bold\">2016</span> AS SMALLINT<span style=\"font-weight: bold\">)</span>, <span style=\"color: #008000; text-decoration-color: #008000\">'budget'</span>: <span style=\"color: #008000; text-decoration-color: #008000\">\"t0\"</span>.<span style=\"color: #008000; text-decoration-color: #008000\">\"2016\"</span><span style=\"font-weight: bold\">}</span>, <span style=\"font-weight: bold\">{</span><span style=\"color: #008000; text-decoration-color: #008000\">'year'</span>: <span style=\"color: #800080; text-decoration-color: #800080; font-weight: bold\">CAST</span><span style=\"font-weight: bold\">(</span><span style=\"color: #008080; text-decoration-color: #008080; font-weight: bold\">2017</span> AS SMALLINT<span style=\"font-weight: bold\">)</span>, <span style=\"color: #008000; text-decoration-color: #008000\">'budget'</span>: <span style=\"color: #008000; text-decoration-color: #008000\">\"t0\"</span>.<span style=\"color: #008000; text-decoration-color: #008000\">\"2017\"</span><span style=\"font-weight: bold\">}</span>, <span style=\"font-weight: bold\">{</span><span style=\"color: #008000; text-decoration-color: #008000\">'year'</span>: <span style=\"color: #800080; text-decoration-color: #800080; font-weight: bold\">CAST</span><span style=\"font-weight: bold\">(</span><span style=\"color: #008080; text-decoration-color: #008080; font-weight: bold\">2018</span> AS SMALLINT<span style=\"font-weight: bold\">)</span>, <span style=\"color: #008000; text-decoration-color: #008000\">'budget'</span>: <span style=\"color: #008000; text-decoration-color: #008000\">\"t0\"</span>.<span style=\"color: #008000; text-decoration-color: #008000\">\"2018\"</span><span style=\"font-weight: bold\">}</span>, <span style=\"font-weight: bold\">{</span><span style=\"color: #008000; text-decoration-color: #008000\">'year'</span>: <span style=\"color: #800080; text-decoration-color: #800080; font-weight: bold\">CAST</span><span style=\"font-weight: bold\">(</span><span style=\"color: #008080; text-decoration-color: #008080; font-weight: bold\">2019</span> AS SMALLINT<span style=\"font-weight: bold\">)</span>, <span style=\"color: #008000; text-decoration-color: #008000\">'budget'</span>: <span style=\"color: #008000; text-decoration-color: #008000\">\"t0\"</span>.<span style=\"color: #008000; text-decoration-color: #008000\">\"2019\"</span><span style=\"font-weight: bold\">}</span>, <span style=\"font-weight: bold\">{</span><span style=\"color: #008000; text-decoration-color: #008000\">'year'</span>: <span style=\"color: #800080; text-decoration-color: #800080; font-weight: bold\">CAST</span><span style=\"font-weight: bold\">(</span><span style=\"color: #008080; text-decoration-color: #008080; font-weight: bold\">2020</span> AS SMALLINT<span style=\"font-weight: bold\">)</span>, <span style=\"color: #008000; text-decoration-color: #008000\">'budget'</span>: <span style=\"color: #008000; text-decoration-color: #008000\">\"t0\"</span>.<span style=\"color: #008000; text-decoration-color: #008000\">\"2020\"</span><span style=\"font-weight: bold\">}]</span>\n",
       "    <span style=\"font-weight: bold\">)</span> AS <span style=\"color: #008000; text-decoration-color: #008000\">\"__pivoted__\"</span>\n",
       "  FROM <span style=\"color: #008000; text-decoration-color: #008000\">\"budget​\"</span> AS <span style=\"color: #008000; text-decoration-color: #008000\">\"t0\"</span>\n",
       "<span style=\"font-weight: bold\">)</span> AS <span style=\"color: #008000; text-decoration-color: #008000\">\"t1\"</span>\n",
       "</pre>\n"
      ],
      "text/plain": [
       "SELECT\n",
       "  \u001b[32m\"t1\"\u001b[0m.\u001b[32m\"Source Category Code\"\u001b[0m,\n",
       "  \u001b[32m\"t1\"\u001b[0m.\u001b[32m\"Source subcategory\"\u001b[0m,\n",
       "  \u001b[32m\"t1\"\u001b[0m.\u001b[32m\"Agency code\"\u001b[0m,\n",
       "  \u001b[32m\"t1\"\u001b[0m.\u001b[32m\"Bureau code\"\u001b[0m,\n",
       "  \u001b[32m\"t1\"\u001b[0m.\u001b[32m\"Account code\"\u001b[0m,\n",
       "  \u001b[32m\"t1\"\u001b[0m.\u001b[32m\"Treasury Agency code\"\u001b[0m,\n",
       "  \u001b[32m\"t1\"\u001b[0m.\u001b[32m\"On- or off-budget\"\u001b[0m,\n",
       "  \u001b[32m\"t1\"\u001b[0m.\u001b[32m\"TQ\"\u001b[0m,\n",
       "  \u001b[32m\"t1\"\u001b[0m.\u001b[32m\"__pivoted__\"\u001b[0m.\u001b[32m\"year\"\u001b[0m AS \u001b[32m\"year\"\u001b[0m,\n",
       "  \u001b[32m\"t1\"\u001b[0m.\u001b[32m\"__pivoted__\"\u001b[0m.\u001b[32m\"budget\"\u001b[0m AS \u001b[32m\"budget\"\u001b[0m\n",
       "FROM \u001b[1m(\u001b[0m\n",
       "  SELECT\n",
       "    \u001b[32m\"t0\"\u001b[0m.\u001b[32m\"Source Category Code\"\u001b[0m,\n",
       "    \u001b[32m\"t0\"\u001b[0m.\u001b[32m\"Source subcategory\"\u001b[0m,\n",
       "    \u001b[32m\"t0\"\u001b[0m.\u001b[32m\"Agency code\"\u001b[0m,\n",
       "    \u001b[32m\"t0\"\u001b[0m.\u001b[32m\"Bureau code\"\u001b[0m,\n",
       "    \u001b[32m\"t0\"\u001b[0m.\u001b[32m\"Account code\"\u001b[0m,\n",
       "    \u001b[32m\"t0\"\u001b[0m.\u001b[32m\"Treasury Agency code\"\u001b[0m,\n",
       "    \u001b[32m\"t0\"\u001b[0m.\u001b[32m\"On- or off-budget\"\u001b[0m,\n",
       "    \u001b[32m\"t0\"\u001b[0m.\u001b[32m\"TQ\"\u001b[0m,\n",
       "    \u001b[1;35mUNNEST\u001b[0m\u001b[1m(\u001b[0m\n",
       "      \u001b[1m[\u001b[0m\u001b[1m{\u001b[0m\u001b[32m'year'\u001b[0m: \u001b[1;35mCAST\u001b[0m\u001b[1m(\u001b[0m\u001b[1;36m1962\u001b[0m AS SMALLINT\u001b[1m)\u001b[0m, \u001b[32m'budget'\u001b[0m: \u001b[32m\"t0\"\u001b[0m.\u001b[32m\"1962\"\u001b[0m\u001b[1m}\u001b[0m, \u001b[1m{\u001b[0m\u001b[32m'year'\u001b[0m: \u001b[1;35mCAST\u001b[0m\u001b[1m(\u001b[0m\u001b[1;36m1963\u001b[0m AS SMALLINT\u001b[1m)\u001b[0m, \u001b[32m'budget'\u001b[0m: \u001b[32m\"t0\"\u001b[0m.\u001b[32m\"1963\"\u001b[0m\u001b[1m}\u001b[0m, \u001b[1m{\u001b[0m\u001b[32m'year'\u001b[0m: \u001b[1;35mCAST\u001b[0m\u001b[1m(\u001b[0m\u001b[1;36m1964\u001b[0m AS SMALLINT\u001b[1m)\u001b[0m, \u001b[32m'budget'\u001b[0m: \u001b[32m\"t0\"\u001b[0m.\u001b[32m\"1964\"\u001b[0m\u001b[1m}\u001b[0m, \u001b[1m{\u001b[0m\u001b[32m'year'\u001b[0m: \u001b[1;35mCAST\u001b[0m\u001b[1m(\u001b[0m\u001b[1;36m1965\u001b[0m AS SMALLINT\u001b[1m)\u001b[0m, \u001b[32m'budget'\u001b[0m: \u001b[32m\"t0\"\u001b[0m.\u001b[32m\"1965\"\u001b[0m\u001b[1m}\u001b[0m, \u001b[1m{\u001b[0m\u001b[32m'year'\u001b[0m: \u001b[1;35mCAST\u001b[0m\u001b[1m(\u001b[0m\u001b[1;36m1966\u001b[0m AS SMALLINT\u001b[1m)\u001b[0m, \u001b[32m'budget'\u001b[0m: \u001b[32m\"t0\"\u001b[0m.\u001b[32m\"1966\"\u001b[0m\u001b[1m}\u001b[0m, \u001b[1m{\u001b[0m\u001b[32m'year'\u001b[0m: \u001b[1;35mCAST\u001b[0m\u001b[1m(\u001b[0m\u001b[1;36m1967\u001b[0m AS SMALLINT\u001b[1m)\u001b[0m, \u001b[32m'budget'\u001b[0m: \u001b[32m\"t0\"\u001b[0m.\u001b[32m\"1967\"\u001b[0m\u001b[1m}\u001b[0m, \u001b[1m{\u001b[0m\u001b[32m'year'\u001b[0m: \u001b[1;35mCAST\u001b[0m\u001b[1m(\u001b[0m\u001b[1;36m1968\u001b[0m AS SMALLINT\u001b[1m)\u001b[0m, \u001b[32m'budget'\u001b[0m: \u001b[32m\"t0\"\u001b[0m.\u001b[32m\"1968\"\u001b[0m\u001b[1m}\u001b[0m, \u001b[1m{\u001b[0m\u001b[32m'year'\u001b[0m: \u001b[1;35mCAST\u001b[0m\u001b[1m(\u001b[0m\u001b[1;36m1969\u001b[0m AS SMALLINT\u001b[1m)\u001b[0m, \u001b[32m'budget'\u001b[0m: \u001b[32m\"t0\"\u001b[0m.\u001b[32m\"1969\"\u001b[0m\u001b[1m}\u001b[0m, \u001b[1m{\u001b[0m\u001b[32m'year'\u001b[0m: \u001b[1;35mCAST\u001b[0m\u001b[1m(\u001b[0m\u001b[1;36m1970\u001b[0m AS SMALLINT\u001b[1m)\u001b[0m, \u001b[32m'budget'\u001b[0m: \u001b[32m\"t0\"\u001b[0m.\u001b[32m\"1970\"\u001b[0m\u001b[1m}\u001b[0m, \u001b[1m{\u001b[0m\u001b[32m'year'\u001b[0m: \u001b[1;35mCAST\u001b[0m\u001b[1m(\u001b[0m\u001b[1;36m1971\u001b[0m AS SMALLINT\u001b[1m)\u001b[0m, \u001b[32m'budget'\u001b[0m: \u001b[32m\"t0\"\u001b[0m.\u001b[32m\"1971\"\u001b[0m\u001b[1m}\u001b[0m, \u001b[1m{\u001b[0m\u001b[32m'year'\u001b[0m: \u001b[1;35mCAST\u001b[0m\u001b[1m(\u001b[0m\u001b[1;36m1972\u001b[0m AS SMALLINT\u001b[1m)\u001b[0m, \u001b[32m'budget'\u001b[0m: \u001b[32m\"t0\"\u001b[0m.\u001b[32m\"1972\"\u001b[0m\u001b[1m}\u001b[0m, \u001b[1m{\u001b[0m\u001b[32m'year'\u001b[0m: \u001b[1;35mCAST\u001b[0m\u001b[1m(\u001b[0m\u001b[1;36m1973\u001b[0m AS SMALLINT\u001b[1m)\u001b[0m, \u001b[32m'budget'\u001b[0m: \u001b[32m\"t0\"\u001b[0m.\u001b[32m\"1973\"\u001b[0m\u001b[1m}\u001b[0m, \u001b[1m{\u001b[0m\u001b[32m'year'\u001b[0m: \u001b[1;35mCAST\u001b[0m\u001b[1m(\u001b[0m\u001b[1;36m1974\u001b[0m AS SMALLINT\u001b[1m)\u001b[0m, \u001b[32m'budget'\u001b[0m: \u001b[32m\"t0\"\u001b[0m.\u001b[32m\"1974\"\u001b[0m\u001b[1m}\u001b[0m, \u001b[1m{\u001b[0m\u001b[32m'year'\u001b[0m: \u001b[1;35mCAST\u001b[0m\u001b[1m(\u001b[0m\u001b[1;36m1975\u001b[0m AS SMALLINT\u001b[1m)\u001b[0m, \u001b[32m'budget'\u001b[0m: \u001b[32m\"t0\"\u001b[0m.\u001b[32m\"1975\"\u001b[0m\u001b[1m}\u001b[0m, \u001b[1m{\u001b[0m\u001b[32m'year'\u001b[0m: \u001b[1;35mCAST\u001b[0m\u001b[1m(\u001b[0m\u001b[1;36m1976\u001b[0m AS SMALLINT\u001b[1m)\u001b[0m, \u001b[32m'budget'\u001b[0m: \u001b[32m\"t0\"\u001b[0m.\u001b[32m\"1976\"\u001b[0m\u001b[1m}\u001b[0m, \u001b[1m{\u001b[0m\u001b[32m'year'\u001b[0m: \u001b[1;35mCAST\u001b[0m\u001b[1m(\u001b[0m\u001b[1;36m1977\u001b[0m AS SMALLINT\u001b[1m)\u001b[0m, \u001b[32m'budget'\u001b[0m: \u001b[32m\"t0\"\u001b[0m.\u001b[32m\"1977\"\u001b[0m\u001b[1m}\u001b[0m, \u001b[1m{\u001b[0m\u001b[32m'year'\u001b[0m: \u001b[1;35mCAST\u001b[0m\u001b[1m(\u001b[0m\u001b[1;36m1978\u001b[0m AS SMALLINT\u001b[1m)\u001b[0m, \u001b[32m'budget'\u001b[0m: \u001b[32m\"t0\"\u001b[0m.\u001b[32m\"1978\"\u001b[0m\u001b[1m}\u001b[0m, \u001b[1m{\u001b[0m\u001b[32m'year'\u001b[0m: \u001b[1;35mCAST\u001b[0m\u001b[1m(\u001b[0m\u001b[1;36m1979\u001b[0m AS SMALLINT\u001b[1m)\u001b[0m, \u001b[32m'budget'\u001b[0m: \u001b[32m\"t0\"\u001b[0m.\u001b[32m\"1979\"\u001b[0m\u001b[1m}\u001b[0m, \u001b[1m{\u001b[0m\u001b[32m'year'\u001b[0m: \u001b[1;35mCAST\u001b[0m\u001b[1m(\u001b[0m\u001b[1;36m1980\u001b[0m AS SMALLINT\u001b[1m)\u001b[0m, \u001b[32m'budget'\u001b[0m: \u001b[32m\"t0\"\u001b[0m.\u001b[32m\"1980\"\u001b[0m\u001b[1m}\u001b[0m, \u001b[1m{\u001b[0m\u001b[32m'year'\u001b[0m: \u001b[1;35mCAST\u001b[0m\u001b[1m(\u001b[0m\u001b[1;36m1981\u001b[0m AS SMALLINT\u001b[1m)\u001b[0m, \u001b[32m'budget'\u001b[0m: \u001b[32m\"t0\"\u001b[0m.\u001b[32m\"1981\"\u001b[0m\u001b[1m}\u001b[0m, \u001b[1m{\u001b[0m\u001b[32m'year'\u001b[0m: \u001b[1;35mCAST\u001b[0m\u001b[1m(\u001b[0m\u001b[1;36m1982\u001b[0m AS SMALLINT\u001b[1m)\u001b[0m, \u001b[32m'budget'\u001b[0m: \u001b[32m\"t0\"\u001b[0m.\u001b[32m\"1982\"\u001b[0m\u001b[1m}\u001b[0m, \u001b[1m{\u001b[0m\u001b[32m'year'\u001b[0m: \u001b[1;35mCAST\u001b[0m\u001b[1m(\u001b[0m\u001b[1;36m1983\u001b[0m AS SMALLINT\u001b[1m)\u001b[0m, \u001b[32m'budget'\u001b[0m: \u001b[32m\"t0\"\u001b[0m.\u001b[32m\"1983\"\u001b[0m\u001b[1m}\u001b[0m, \u001b[1m{\u001b[0m\u001b[32m'year'\u001b[0m: \u001b[1;35mCAST\u001b[0m\u001b[1m(\u001b[0m\u001b[1;36m1984\u001b[0m AS SMALLINT\u001b[1m)\u001b[0m, \u001b[32m'budget'\u001b[0m: \u001b[32m\"t0\"\u001b[0m.\u001b[32m\"1984\"\u001b[0m\u001b[1m}\u001b[0m, \u001b[1m{\u001b[0m\u001b[32m'year'\u001b[0m: \u001b[1;35mCAST\u001b[0m\u001b[1m(\u001b[0m\u001b[1;36m1985\u001b[0m AS SMALLINT\u001b[1m)\u001b[0m, \u001b[32m'budget'\u001b[0m: \u001b[32m\"t0\"\u001b[0m.\u001b[32m\"1985\"\u001b[0m\u001b[1m}\u001b[0m, \u001b[1m{\u001b[0m\u001b[32m'year'\u001b[0m: \u001b[1;35mCAST\u001b[0m\u001b[1m(\u001b[0m\u001b[1;36m1986\u001b[0m AS SMALLINT\u001b[1m)\u001b[0m, \u001b[32m'budget'\u001b[0m: \u001b[32m\"t0\"\u001b[0m.\u001b[32m\"1986\"\u001b[0m\u001b[1m}\u001b[0m, \u001b[1m{\u001b[0m\u001b[32m'year'\u001b[0m: \u001b[1;35mCAST\u001b[0m\u001b[1m(\u001b[0m\u001b[1;36m1987\u001b[0m AS SMALLINT\u001b[1m)\u001b[0m, \u001b[32m'budget'\u001b[0m: \u001b[32m\"t0\"\u001b[0m.\u001b[32m\"1987\"\u001b[0m\u001b[1m}\u001b[0m, \u001b[1m{\u001b[0m\u001b[32m'year'\u001b[0m: \u001b[1;35mCAST\u001b[0m\u001b[1m(\u001b[0m\u001b[1;36m1988\u001b[0m AS SMALLINT\u001b[1m)\u001b[0m, \u001b[32m'budget'\u001b[0m: \u001b[32m\"t0\"\u001b[0m.\u001b[32m\"1988\"\u001b[0m\u001b[1m}\u001b[0m, \u001b[1m{\u001b[0m\u001b[32m'year'\u001b[0m: \u001b[1;35mCAST\u001b[0m\u001b[1m(\u001b[0m\u001b[1;36m1989\u001b[0m AS SMALLINT\u001b[1m)\u001b[0m, \u001b[32m'budget'\u001b[0m: \u001b[32m\"t0\"\u001b[0m.\u001b[32m\"1989\"\u001b[0m\u001b[1m}\u001b[0m, \u001b[1m{\u001b[0m\u001b[32m'year'\u001b[0m: \u001b[1;35mCAST\u001b[0m\u001b[1m(\u001b[0m\u001b[1;36m1990\u001b[0m AS SMALLINT\u001b[1m)\u001b[0m, \u001b[32m'budget'\u001b[0m: \u001b[32m\"t0\"\u001b[0m.\u001b[32m\"1990\"\u001b[0m\u001b[1m}\u001b[0m, \u001b[1m{\u001b[0m\u001b[32m'year'\u001b[0m: \u001b[1;35mCAST\u001b[0m\u001b[1m(\u001b[0m\u001b[1;36m1991\u001b[0m AS SMALLINT\u001b[1m)\u001b[0m, \u001b[32m'budget'\u001b[0m: \u001b[32m\"t0\"\u001b[0m.\u001b[32m\"1991\"\u001b[0m\u001b[1m}\u001b[0m, \u001b[1m{\u001b[0m\u001b[32m'year'\u001b[0m: \u001b[1;35mCAST\u001b[0m\u001b[1m(\u001b[0m\u001b[1;36m1992\u001b[0m AS SMALLINT\u001b[1m)\u001b[0m, \u001b[32m'budget'\u001b[0m: \u001b[32m\"t0\"\u001b[0m.\u001b[32m\"1992\"\u001b[0m\u001b[1m}\u001b[0m, \u001b[1m{\u001b[0m\u001b[32m'year'\u001b[0m: \u001b[1;35mCAST\u001b[0m\u001b[1m(\u001b[0m\u001b[1;36m1993\u001b[0m AS SMALLINT\u001b[1m)\u001b[0m, \u001b[32m'budget'\u001b[0m: \u001b[32m\"t0\"\u001b[0m.\u001b[32m\"1993\"\u001b[0m\u001b[1m}\u001b[0m, \u001b[1m{\u001b[0m\u001b[32m'year'\u001b[0m: \u001b[1;35mCAST\u001b[0m\u001b[1m(\u001b[0m\u001b[1;36m1994\u001b[0m AS SMALLINT\u001b[1m)\u001b[0m, \u001b[32m'budget'\u001b[0m: \u001b[32m\"t0\"\u001b[0m.\u001b[32m\"1994\"\u001b[0m\u001b[1m}\u001b[0m, \u001b[1m{\u001b[0m\u001b[32m'year'\u001b[0m: \u001b[1;35mCAST\u001b[0m\u001b[1m(\u001b[0m\u001b[1;36m1995\u001b[0m AS SMALLINT\u001b[1m)\u001b[0m, \u001b[32m'budget'\u001b[0m: \u001b[32m\"t0\"\u001b[0m.\u001b[32m\"1995\"\u001b[0m\u001b[1m}\u001b[0m, \u001b[1m{\u001b[0m\u001b[32m'year'\u001b[0m: \u001b[1;35mCAST\u001b[0m\u001b[1m(\u001b[0m\u001b[1;36m1996\u001b[0m AS SMALLINT\u001b[1m)\u001b[0m, \u001b[32m'budget'\u001b[0m: \u001b[32m\"t0\"\u001b[0m.\u001b[32m\"1996\"\u001b[0m\u001b[1m}\u001b[0m, \u001b[1m{\u001b[0m\u001b[32m'year'\u001b[0m: \u001b[1;35mCAST\u001b[0m\u001b[1m(\u001b[0m\u001b[1;36m1997\u001b[0m AS SMALLINT\u001b[1m)\u001b[0m, \u001b[32m'budget'\u001b[0m: \u001b[32m\"t0\"\u001b[0m.\u001b[32m\"1997\"\u001b[0m\u001b[1m}\u001b[0m, \u001b[1m{\u001b[0m\u001b[32m'year'\u001b[0m: \u001b[1;35mCAST\u001b[0m\u001b[1m(\u001b[0m\u001b[1;36m1998\u001b[0m AS SMALLINT\u001b[1m)\u001b[0m, \u001b[32m'budget'\u001b[0m: \u001b[32m\"t0\"\u001b[0m.\u001b[32m\"1998\"\u001b[0m\u001b[1m}\u001b[0m, \u001b[1m{\u001b[0m\u001b[32m'year'\u001b[0m: \u001b[1;35mCAST\u001b[0m\u001b[1m(\u001b[0m\u001b[1;36m1999\u001b[0m AS SMALLINT\u001b[1m)\u001b[0m, \u001b[32m'budget'\u001b[0m: \u001b[32m\"t0\"\u001b[0m.\u001b[32m\"1999\"\u001b[0m\u001b[1m}\u001b[0m, \u001b[1m{\u001b[0m\u001b[32m'year'\u001b[0m: \u001b[1;35mCAST\u001b[0m\u001b[1m(\u001b[0m\u001b[1;36m2000\u001b[0m AS SMALLINT\u001b[1m)\u001b[0m, \u001b[32m'budget'\u001b[0m: \u001b[32m\"t0\"\u001b[0m.\u001b[32m\"2000\"\u001b[0m\u001b[1m}\u001b[0m, \u001b[1m{\u001b[0m\u001b[32m'year'\u001b[0m: \u001b[1;35mCAST\u001b[0m\u001b[1m(\u001b[0m\u001b[1;36m2001\u001b[0m AS SMALLINT\u001b[1m)\u001b[0m, \u001b[32m'budget'\u001b[0m: \u001b[32m\"t0\"\u001b[0m.\u001b[32m\"2001\"\u001b[0m\u001b[1m}\u001b[0m, \u001b[1m{\u001b[0m\u001b[32m'year'\u001b[0m: \u001b[1;35mCAST\u001b[0m\u001b[1m(\u001b[0m\u001b[1;36m2002\u001b[0m AS SMALLINT\u001b[1m)\u001b[0m, \u001b[32m'budget'\u001b[0m: \u001b[32m\"t0\"\u001b[0m.\u001b[32m\"2002\"\u001b[0m\u001b[1m}\u001b[0m, \u001b[1m{\u001b[0m\u001b[32m'year'\u001b[0m: \u001b[1;35mCAST\u001b[0m\u001b[1m(\u001b[0m\u001b[1;36m2003\u001b[0m AS SMALLINT\u001b[1m)\u001b[0m, \u001b[32m'budget'\u001b[0m: \u001b[32m\"t0\"\u001b[0m.\u001b[32m\"2003\"\u001b[0m\u001b[1m}\u001b[0m, \u001b[1m{\u001b[0m\u001b[32m'year'\u001b[0m: \u001b[1;35mCAST\u001b[0m\u001b[1m(\u001b[0m\u001b[1;36m2004\u001b[0m AS SMALLINT\u001b[1m)\u001b[0m, \u001b[32m'budget'\u001b[0m: \u001b[32m\"t0\"\u001b[0m.\u001b[32m\"2004\"\u001b[0m\u001b[1m}\u001b[0m, \u001b[1m{\u001b[0m\u001b[32m'year'\u001b[0m: \u001b[1;35mCAST\u001b[0m\u001b[1m(\u001b[0m\u001b[1;36m2005\u001b[0m AS SMALLINT\u001b[1m)\u001b[0m, \u001b[32m'budget'\u001b[0m: \u001b[32m\"t0\"\u001b[0m.\u001b[32m\"2005\"\u001b[0m\u001b[1m}\u001b[0m, \u001b[1m{\u001b[0m\u001b[32m'year'\u001b[0m: \u001b[1;35mCAST\u001b[0m\u001b[1m(\u001b[0m\u001b[1;36m2006\u001b[0m AS SMALLINT\u001b[1m)\u001b[0m, \u001b[32m'budget'\u001b[0m: \u001b[32m\"t0\"\u001b[0m.\u001b[32m\"2006\"\u001b[0m\u001b[1m}\u001b[0m, \u001b[1m{\u001b[0m\u001b[32m'year'\u001b[0m: \u001b[1;35mCAST\u001b[0m\u001b[1m(\u001b[0m\u001b[1;36m2007\u001b[0m AS SMALLINT\u001b[1m)\u001b[0m, \u001b[32m'budget'\u001b[0m: \u001b[32m\"t0\"\u001b[0m.\u001b[32m\"2007\"\u001b[0m\u001b[1m}\u001b[0m, \u001b[1m{\u001b[0m\u001b[32m'year'\u001b[0m: \u001b[1;35mCAST\u001b[0m\u001b[1m(\u001b[0m\u001b[1;36m2008\u001b[0m AS SMALLINT\u001b[1m)\u001b[0m, \u001b[32m'budget'\u001b[0m: \u001b[32m\"t0\"\u001b[0m.\u001b[32m\"2008\"\u001b[0m\u001b[1m}\u001b[0m, \u001b[1m{\u001b[0m\u001b[32m'year'\u001b[0m: \u001b[1;35mCAST\u001b[0m\u001b[1m(\u001b[0m\u001b[1;36m2009\u001b[0m AS SMALLINT\u001b[1m)\u001b[0m, \u001b[32m'budget'\u001b[0m: \u001b[32m\"t0\"\u001b[0m.\u001b[32m\"2009\"\u001b[0m\u001b[1m}\u001b[0m, \u001b[1m{\u001b[0m\u001b[32m'year'\u001b[0m: \u001b[1;35mCAST\u001b[0m\u001b[1m(\u001b[0m\u001b[1;36m2010\u001b[0m AS SMALLINT\u001b[1m)\u001b[0m, \u001b[32m'budget'\u001b[0m: \u001b[32m\"t0\"\u001b[0m.\u001b[32m\"2010\"\u001b[0m\u001b[1m}\u001b[0m, \u001b[1m{\u001b[0m\u001b[32m'year'\u001b[0m: \u001b[1;35mCAST\u001b[0m\u001b[1m(\u001b[0m\u001b[1;36m2011\u001b[0m AS SMALLINT\u001b[1m)\u001b[0m, \u001b[32m'budget'\u001b[0m: \u001b[32m\"t0\"\u001b[0m.\u001b[32m\"2011\"\u001b[0m\u001b[1m}\u001b[0m, \u001b[1m{\u001b[0m\u001b[32m'year'\u001b[0m: \u001b[1;35mCAST\u001b[0m\u001b[1m(\u001b[0m\u001b[1;36m2012\u001b[0m AS SMALLINT\u001b[1m)\u001b[0m, \u001b[32m'budget'\u001b[0m: \u001b[32m\"t0\"\u001b[0m.\u001b[32m\"2012\"\u001b[0m\u001b[1m}\u001b[0m, \u001b[1m{\u001b[0m\u001b[32m'year'\u001b[0m: \u001b[1;35mCAST\u001b[0m\u001b[1m(\u001b[0m\u001b[1;36m2013\u001b[0m AS SMALLINT\u001b[1m)\u001b[0m, \u001b[32m'budget'\u001b[0m: \u001b[32m\"t0\"\u001b[0m.\u001b[32m\"2013\"\u001b[0m\u001b[1m}\u001b[0m, \u001b[1m{\u001b[0m\u001b[32m'year'\u001b[0m: \u001b[1;35mCAST\u001b[0m\u001b[1m(\u001b[0m\u001b[1;36m2014\u001b[0m AS SMALLINT\u001b[1m)\u001b[0m, \u001b[32m'budget'\u001b[0m: \u001b[32m\"t0\"\u001b[0m.\u001b[32m\"2014\"\u001b[0m\u001b[1m}\u001b[0m, \u001b[1m{\u001b[0m\u001b[32m'year'\u001b[0m: \u001b[1;35mCAST\u001b[0m\u001b[1m(\u001b[0m\u001b[1;36m2015\u001b[0m AS SMALLINT\u001b[1m)\u001b[0m, \u001b[32m'budget'\u001b[0m: \u001b[32m\"t0\"\u001b[0m.\u001b[32m\"2015\"\u001b[0m\u001b[1m}\u001b[0m, \u001b[1m{\u001b[0m\u001b[32m'year'\u001b[0m: \u001b[1;35mCAST\u001b[0m\u001b[1m(\u001b[0m\u001b[1;36m2016\u001b[0m AS SMALLINT\u001b[1m)\u001b[0m, \u001b[32m'budget'\u001b[0m: \u001b[32m\"t0\"\u001b[0m.\u001b[32m\"2016\"\u001b[0m\u001b[1m}\u001b[0m, \u001b[1m{\u001b[0m\u001b[32m'year'\u001b[0m: \u001b[1;35mCAST\u001b[0m\u001b[1m(\u001b[0m\u001b[1;36m2017\u001b[0m AS SMALLINT\u001b[1m)\u001b[0m, \u001b[32m'budget'\u001b[0m: \u001b[32m\"t0\"\u001b[0m.\u001b[32m\"2017\"\u001b[0m\u001b[1m}\u001b[0m, \u001b[1m{\u001b[0m\u001b[32m'year'\u001b[0m: \u001b[1;35mCAST\u001b[0m\u001b[1m(\u001b[0m\u001b[1;36m2018\u001b[0m AS SMALLINT\u001b[1m)\u001b[0m, \u001b[32m'budget'\u001b[0m: \u001b[32m\"t0\"\u001b[0m.\u001b[32m\"2018\"\u001b[0m\u001b[1m}\u001b[0m, \u001b[1m{\u001b[0m\u001b[32m'year'\u001b[0m: \u001b[1;35mCAST\u001b[0m\u001b[1m(\u001b[0m\u001b[1;36m2019\u001b[0m AS SMALLINT\u001b[1m)\u001b[0m, \u001b[32m'budget'\u001b[0m: \u001b[32m\"t0\"\u001b[0m.\u001b[32m\"2019\"\u001b[0m\u001b[1m}\u001b[0m, \u001b[1m{\u001b[0m\u001b[32m'year'\u001b[0m: \u001b[1;35mCAST\u001b[0m\u001b[1m(\u001b[0m\u001b[1;36m2020\u001b[0m AS SMALLINT\u001b[1m)\u001b[0m, \u001b[32m'budget'\u001b[0m: \u001b[32m\"t0\"\u001b[0m.\u001b[32m\"2020\"\u001b[0m\u001b[1m}\u001b[0m\u001b[1m]\u001b[0m\n",
       "    \u001b[1m)\u001b[0m AS \u001b[32m\"__pivoted__\"\u001b[0m\n",
       "  FROM \u001b[32m\"budget​\"\u001b[0m AS \u001b[32m\"t0\"\u001b[0m\n",
       "\u001b[1m)\u001b[0m AS \u001b[32m\"t1\"\u001b[0m\n"
      ]
     },
     "metadata": {},
     "output_type": "display_data"
    }
   ],
   "source": [
    "# | echo: false\n",
    "print(b.to_sql())"
   ]
  },
  {
   "cell_type": "markdown",
   "id": "1f53bf7e",
   "metadata": {},
   "source": [
    "#### Result"
   ]
  },
  {
   "cell_type": "code",
   "execution_count": 34,
   "id": "c9183030",
   "metadata": {
    "execution": {
     "iopub.execute_input": "2024-03-08T17:20:25.043389Z",
     "iopub.status.busy": "2024-03-08T17:20:25.043094Z",
     "iopub.status.idle": "2024-03-08T17:20:25.103530Z",
     "shell.execute_reply": "2024-03-08T17:20:25.103154Z"
    }
   },
   "outputs": [
    {
     "data": {
      "text/html": [
       "<pre style=\"white-space:pre;overflow-x:auto;line-height:normal;font-family:Menlo,'DejaVu Sans Mono',consolas,'Courier New',monospace\">┏━━━━━━━━━━━━━━━━━━━━━━┳━━━━━━━━━━━━━━━━━━━━┳━━━━━━━━━━━━━┳━━━━━━━━━━━━━┳━━━━━━━━━━━━━━┳━━━━━━━━━━━━━━━━━━━━━━┳━━━━━━━━━━━━━━━━━━━┳━━━━━━━━┳━━━━━━━┳━━━━━━━━┓\n",
       "┃<span style=\"font-weight: bold\"> Source Category Code </span>┃<span style=\"font-weight: bold\"> Source subcategory </span>┃<span style=\"font-weight: bold\"> Agency code </span>┃<span style=\"font-weight: bold\"> Bureau code </span>┃<span style=\"font-weight: bold\"> Account code </span>┃<span style=\"font-weight: bold\"> Treasury Agency code </span>┃<span style=\"font-weight: bold\"> On- or off-budget </span>┃<span style=\"font-weight: bold\"> TQ     </span>┃<span style=\"font-weight: bold\"> year  </span>┃<span style=\"font-weight: bold\"> budget </span>┃\n",
       "┡━━━━━━━━━━━━━━━━━━━━━━╇━━━━━━━━━━━━━━━━━━━━╇━━━━━━━━━━━━━╇━━━━━━━━━━━━━╇━━━━━━━━━━━━━━╇━━━━━━━━━━━━━━━━━━━━━━╇━━━━━━━━━━━━━━━━━━━╇━━━━━━━━╇━━━━━━━╇━━━━━━━━┩\n",
       "│ <span style=\"color: #7f7f7f; text-decoration-color: #7f7f7f\">int64</span>                │ <span style=\"color: #7f7f7f; text-decoration-color: #7f7f7f\">int64</span>              │ <span style=\"color: #7f7f7f; text-decoration-color: #7f7f7f\">int64</span>       │ <span style=\"color: #7f7f7f; text-decoration-color: #7f7f7f\">int64</span>       │ <span style=\"color: #7f7f7f; text-decoration-color: #7f7f7f\">int64</span>        │ <span style=\"color: #7f7f7f; text-decoration-color: #7f7f7f\">int64</span>                │ <span style=\"color: #7f7f7f; text-decoration-color: #7f7f7f\">string</span>            │ <span style=\"color: #7f7f7f; text-decoration-color: #7f7f7f\">string</span> │ <span style=\"color: #7f7f7f; text-decoration-color: #7f7f7f\">int16</span> │ <span style=\"color: #7f7f7f; text-decoration-color: #7f7f7f\">string</span> │\n",
       "├──────────────────────┼────────────────────┼─────────────┼─────────────┼──────────────┼──────────────────────┼───────────────────┼────────┼───────┼────────┤\n",
       "│                  <span style=\"color: #008080; text-decoration-color: #008080; font-weight: bold\">931</span> │                  <span style=\"color: #008080; text-decoration-color: #008080; font-weight: bold\">0</span> │           <span style=\"color: #008080; text-decoration-color: #008080; font-weight: bold\">9</span> │           <span style=\"color: #008080; text-decoration-color: #008080; font-weight: bold\">0</span> │       <span style=\"color: #008080; text-decoration-color: #008080; font-weight: bold\">800415</span> │                   <span style=\"color: #008080; text-decoration-color: #008080; font-weight: bold\">20</span> │ <span style=\"color: #008000; text-decoration-color: #008000\">On-budget        </span> │ <span style=\"color: #008000; text-decoration-color: #008000\">0     </span> │  <span style=\"color: #008080; text-decoration-color: #008080; font-weight: bold\">1962</span> │ <span style=\"color: #008000; text-decoration-color: #008000\">0     </span> │\n",
       "│                  <span style=\"color: #008080; text-decoration-color: #008080; font-weight: bold\">931</span> │                  <span style=\"color: #008080; text-decoration-color: #008080; font-weight: bold\">0</span> │           <span style=\"color: #008080; text-decoration-color: #008080; font-weight: bold\">9</span> │           <span style=\"color: #008080; text-decoration-color: #008080; font-weight: bold\">0</span> │       <span style=\"color: #008080; text-decoration-color: #008080; font-weight: bold\">800415</span> │                   <span style=\"color: #008080; text-decoration-color: #008080; font-weight: bold\">20</span> │ <span style=\"color: #008000; text-decoration-color: #008000\">On-budget        </span> │ <span style=\"color: #008000; text-decoration-color: #008000\">0     </span> │  <span style=\"color: #008080; text-decoration-color: #008080; font-weight: bold\">1963</span> │ <span style=\"color: #008000; text-decoration-color: #008000\">0     </span> │\n",
       "│                  <span style=\"color: #008080; text-decoration-color: #008080; font-weight: bold\">931</span> │                  <span style=\"color: #008080; text-decoration-color: #008080; font-weight: bold\">0</span> │           <span style=\"color: #008080; text-decoration-color: #008080; font-weight: bold\">9</span> │           <span style=\"color: #008080; text-decoration-color: #008080; font-weight: bold\">0</span> │       <span style=\"color: #008080; text-decoration-color: #008080; font-weight: bold\">800415</span> │                   <span style=\"color: #008080; text-decoration-color: #008080; font-weight: bold\">20</span> │ <span style=\"color: #008000; text-decoration-color: #008000\">On-budget        </span> │ <span style=\"color: #008000; text-decoration-color: #008000\">0     </span> │  <span style=\"color: #008080; text-decoration-color: #008080; font-weight: bold\">1964</span> │ <span style=\"color: #008000; text-decoration-color: #008000\">0     </span> │\n",
       "│                  <span style=\"color: #008080; text-decoration-color: #008080; font-weight: bold\">931</span> │                  <span style=\"color: #008080; text-decoration-color: #008080; font-weight: bold\">0</span> │           <span style=\"color: #008080; text-decoration-color: #008080; font-weight: bold\">9</span> │           <span style=\"color: #008080; text-decoration-color: #008080; font-weight: bold\">0</span> │       <span style=\"color: #008080; text-decoration-color: #008080; font-weight: bold\">800415</span> │                   <span style=\"color: #008080; text-decoration-color: #008080; font-weight: bold\">20</span> │ <span style=\"color: #008000; text-decoration-color: #008000\">On-budget        </span> │ <span style=\"color: #008000; text-decoration-color: #008000\">0     </span> │  <span style=\"color: #008080; text-decoration-color: #008080; font-weight: bold\">1965</span> │ <span style=\"color: #008000; text-decoration-color: #008000\">0     </span> │\n",
       "│                  <span style=\"color: #008080; text-decoration-color: #008080; font-weight: bold\">931</span> │                  <span style=\"color: #008080; text-decoration-color: #008080; font-weight: bold\">0</span> │           <span style=\"color: #008080; text-decoration-color: #008080; font-weight: bold\">9</span> │           <span style=\"color: #008080; text-decoration-color: #008080; font-weight: bold\">0</span> │       <span style=\"color: #008080; text-decoration-color: #008080; font-weight: bold\">800415</span> │                   <span style=\"color: #008080; text-decoration-color: #008080; font-weight: bold\">20</span> │ <span style=\"color: #008000; text-decoration-color: #008000\">On-budget        </span> │ <span style=\"color: #008000; text-decoration-color: #008000\">0     </span> │  <span style=\"color: #008080; text-decoration-color: #008080; font-weight: bold\">1966</span> │ <span style=\"color: #008000; text-decoration-color: #008000\">0     </span> │\n",
       "│                  <span style=\"color: #008080; text-decoration-color: #008080; font-weight: bold\">931</span> │                  <span style=\"color: #008080; text-decoration-color: #008080; font-weight: bold\">0</span> │           <span style=\"color: #008080; text-decoration-color: #008080; font-weight: bold\">9</span> │           <span style=\"color: #008080; text-decoration-color: #008080; font-weight: bold\">0</span> │       <span style=\"color: #008080; text-decoration-color: #008080; font-weight: bold\">800415</span> │                   <span style=\"color: #008080; text-decoration-color: #008080; font-weight: bold\">20</span> │ <span style=\"color: #008000; text-decoration-color: #008000\">On-budget        </span> │ <span style=\"color: #008000; text-decoration-color: #008000\">0     </span> │  <span style=\"color: #008080; text-decoration-color: #008080; font-weight: bold\">1967</span> │ <span style=\"color: #008000; text-decoration-color: #008000\">0     </span> │\n",
       "│                  <span style=\"color: #008080; text-decoration-color: #008080; font-weight: bold\">931</span> │                  <span style=\"color: #008080; text-decoration-color: #008080; font-weight: bold\">0</span> │           <span style=\"color: #008080; text-decoration-color: #008080; font-weight: bold\">9</span> │           <span style=\"color: #008080; text-decoration-color: #008080; font-weight: bold\">0</span> │       <span style=\"color: #008080; text-decoration-color: #008080; font-weight: bold\">800415</span> │                   <span style=\"color: #008080; text-decoration-color: #008080; font-weight: bold\">20</span> │ <span style=\"color: #008000; text-decoration-color: #008000\">On-budget        </span> │ <span style=\"color: #008000; text-decoration-color: #008000\">0     </span> │  <span style=\"color: #008080; text-decoration-color: #008080; font-weight: bold\">1968</span> │ <span style=\"color: #008000; text-decoration-color: #008000\">0     </span> │\n",
       "│                  <span style=\"color: #008080; text-decoration-color: #008080; font-weight: bold\">931</span> │                  <span style=\"color: #008080; text-decoration-color: #008080; font-weight: bold\">0</span> │           <span style=\"color: #008080; text-decoration-color: #008080; font-weight: bold\">9</span> │           <span style=\"color: #008080; text-decoration-color: #008080; font-weight: bold\">0</span> │       <span style=\"color: #008080; text-decoration-color: #008080; font-weight: bold\">800415</span> │                   <span style=\"color: #008080; text-decoration-color: #008080; font-weight: bold\">20</span> │ <span style=\"color: #008000; text-decoration-color: #008000\">On-budget        </span> │ <span style=\"color: #008000; text-decoration-color: #008000\">0     </span> │  <span style=\"color: #008080; text-decoration-color: #008080; font-weight: bold\">1969</span> │ <span style=\"color: #008000; text-decoration-color: #008000\">0     </span> │\n",
       "│                  <span style=\"color: #008080; text-decoration-color: #008080; font-weight: bold\">931</span> │                  <span style=\"color: #008080; text-decoration-color: #008080; font-weight: bold\">0</span> │           <span style=\"color: #008080; text-decoration-color: #008080; font-weight: bold\">9</span> │           <span style=\"color: #008080; text-decoration-color: #008080; font-weight: bold\">0</span> │       <span style=\"color: #008080; text-decoration-color: #008080; font-weight: bold\">800415</span> │                   <span style=\"color: #008080; text-decoration-color: #008080; font-weight: bold\">20</span> │ <span style=\"color: #008000; text-decoration-color: #008000\">On-budget        </span> │ <span style=\"color: #008000; text-decoration-color: #008000\">0     </span> │  <span style=\"color: #008080; text-decoration-color: #008080; font-weight: bold\">1970</span> │ <span style=\"color: #008000; text-decoration-color: #008000\">0     </span> │\n",
       "│                  <span style=\"color: #008080; text-decoration-color: #008080; font-weight: bold\">931</span> │                  <span style=\"color: #008080; text-decoration-color: #008080; font-weight: bold\">0</span> │           <span style=\"color: #008080; text-decoration-color: #008080; font-weight: bold\">9</span> │           <span style=\"color: #008080; text-decoration-color: #008080; font-weight: bold\">0</span> │       <span style=\"color: #008080; text-decoration-color: #008080; font-weight: bold\">800415</span> │                   <span style=\"color: #008080; text-decoration-color: #008080; font-weight: bold\">20</span> │ <span style=\"color: #008000; text-decoration-color: #008000\">On-budget        </span> │ <span style=\"color: #008000; text-decoration-color: #008000\">0     </span> │  <span style=\"color: #008080; text-decoration-color: #008080; font-weight: bold\">1971</span> │ <span style=\"color: #008000; text-decoration-color: #008000\">0     </span> │\n",
       "│                    <span style=\"color: #7f7f7f; text-decoration-color: #7f7f7f\">…</span> │                  <span style=\"color: #7f7f7f; text-decoration-color: #7f7f7f\">…</span> │           <span style=\"color: #7f7f7f; text-decoration-color: #7f7f7f\">…</span> │           <span style=\"color: #7f7f7f; text-decoration-color: #7f7f7f\">…</span> │            <span style=\"color: #7f7f7f; text-decoration-color: #7f7f7f\">…</span> │                    <span style=\"color: #7f7f7f; text-decoration-color: #7f7f7f\">…</span> │ <span style=\"color: #7f7f7f; text-decoration-color: #7f7f7f\">…</span>                 │ <span style=\"color: #7f7f7f; text-decoration-color: #7f7f7f\">…</span>      │     <span style=\"color: #7f7f7f; text-decoration-color: #7f7f7f\">…</span> │ <span style=\"color: #7f7f7f; text-decoration-color: #7f7f7f\">…</span>      │\n",
       "└──────────────────────┴────────────────────┴─────────────┴─────────────┴──────────────┴──────────────────────┴───────────────────┴────────┴───────┴────────┘\n",
       "</pre>\n"
      ],
      "text/plain": [
       "┏━━━━━━━━━━━━━━━━━━━━━━┳━━━━━━━━━━━━━━━━━━━━┳━━━━━━━━━━━━━┳━━━━━━━━━━━━━┳━━━━━━━━━━━━━━┳━━━━━━━━━━━━━━━━━━━━━━┳━━━━━━━━━━━━━━━━━━━┳━━━━━━━━┳━━━━━━━┳━━━━━━━━┓\n",
       "┃\u001b[1m \u001b[0m\u001b[1mSource Category Code\u001b[0m\u001b[1m \u001b[0m┃\u001b[1m \u001b[0m\u001b[1mSource subcategory\u001b[0m\u001b[1m \u001b[0m┃\u001b[1m \u001b[0m\u001b[1mAgency code\u001b[0m\u001b[1m \u001b[0m┃\u001b[1m \u001b[0m\u001b[1mBureau code\u001b[0m\u001b[1m \u001b[0m┃\u001b[1m \u001b[0m\u001b[1mAccount code\u001b[0m\u001b[1m \u001b[0m┃\u001b[1m \u001b[0m\u001b[1mTreasury Agency code\u001b[0m\u001b[1m \u001b[0m┃\u001b[1m \u001b[0m\u001b[1mOn- or off-budget\u001b[0m\u001b[1m \u001b[0m┃\u001b[1m \u001b[0m\u001b[1mTQ\u001b[0m\u001b[1m    \u001b[0m\u001b[1m \u001b[0m┃\u001b[1m \u001b[0m\u001b[1myear\u001b[0m\u001b[1m \u001b[0m\u001b[1m \u001b[0m┃\u001b[1m \u001b[0m\u001b[1mbudget\u001b[0m\u001b[1m \u001b[0m┃\n",
       "┡━━━━━━━━━━━━━━━━━━━━━━╇━━━━━━━━━━━━━━━━━━━━╇━━━━━━━━━━━━━╇━━━━━━━━━━━━━╇━━━━━━━━━━━━━━╇━━━━━━━━━━━━━━━━━━━━━━╇━━━━━━━━━━━━━━━━━━━╇━━━━━━━━╇━━━━━━━╇━━━━━━━━┩\n",
       "│ \u001b[2mint64\u001b[0m                │ \u001b[2mint64\u001b[0m              │ \u001b[2mint64\u001b[0m       │ \u001b[2mint64\u001b[0m       │ \u001b[2mint64\u001b[0m        │ \u001b[2mint64\u001b[0m                │ \u001b[2mstring\u001b[0m            │ \u001b[2mstring\u001b[0m │ \u001b[2mint16\u001b[0m │ \u001b[2mstring\u001b[0m │\n",
       "├──────────────────────┼────────────────────┼─────────────┼─────────────┼──────────────┼──────────────────────┼───────────────────┼────────┼───────┼────────┤\n",
       "│                  \u001b[1;36m931\u001b[0m │                  \u001b[1;36m0\u001b[0m │           \u001b[1;36m9\u001b[0m │           \u001b[1;36m0\u001b[0m │       \u001b[1;36m800415\u001b[0m │                   \u001b[1;36m20\u001b[0m │ \u001b[32mOn-budget        \u001b[0m │ \u001b[32m0     \u001b[0m │  \u001b[1;36m1962\u001b[0m │ \u001b[32m0     \u001b[0m │\n",
       "│                  \u001b[1;36m931\u001b[0m │                  \u001b[1;36m0\u001b[0m │           \u001b[1;36m9\u001b[0m │           \u001b[1;36m0\u001b[0m │       \u001b[1;36m800415\u001b[0m │                   \u001b[1;36m20\u001b[0m │ \u001b[32mOn-budget        \u001b[0m │ \u001b[32m0     \u001b[0m │  \u001b[1;36m1963\u001b[0m │ \u001b[32m0     \u001b[0m │\n",
       "│                  \u001b[1;36m931\u001b[0m │                  \u001b[1;36m0\u001b[0m │           \u001b[1;36m9\u001b[0m │           \u001b[1;36m0\u001b[0m │       \u001b[1;36m800415\u001b[0m │                   \u001b[1;36m20\u001b[0m │ \u001b[32mOn-budget        \u001b[0m │ \u001b[32m0     \u001b[0m │  \u001b[1;36m1964\u001b[0m │ \u001b[32m0     \u001b[0m │\n",
       "│                  \u001b[1;36m931\u001b[0m │                  \u001b[1;36m0\u001b[0m │           \u001b[1;36m9\u001b[0m │           \u001b[1;36m0\u001b[0m │       \u001b[1;36m800415\u001b[0m │                   \u001b[1;36m20\u001b[0m │ \u001b[32mOn-budget        \u001b[0m │ \u001b[32m0     \u001b[0m │  \u001b[1;36m1965\u001b[0m │ \u001b[32m0     \u001b[0m │\n",
       "│                  \u001b[1;36m931\u001b[0m │                  \u001b[1;36m0\u001b[0m │           \u001b[1;36m9\u001b[0m │           \u001b[1;36m0\u001b[0m │       \u001b[1;36m800415\u001b[0m │                   \u001b[1;36m20\u001b[0m │ \u001b[32mOn-budget        \u001b[0m │ \u001b[32m0     \u001b[0m │  \u001b[1;36m1966\u001b[0m │ \u001b[32m0     \u001b[0m │\n",
       "│                  \u001b[1;36m931\u001b[0m │                  \u001b[1;36m0\u001b[0m │           \u001b[1;36m9\u001b[0m │           \u001b[1;36m0\u001b[0m │       \u001b[1;36m800415\u001b[0m │                   \u001b[1;36m20\u001b[0m │ \u001b[32mOn-budget        \u001b[0m │ \u001b[32m0     \u001b[0m │  \u001b[1;36m1967\u001b[0m │ \u001b[32m0     \u001b[0m │\n",
       "│                  \u001b[1;36m931\u001b[0m │                  \u001b[1;36m0\u001b[0m │           \u001b[1;36m9\u001b[0m │           \u001b[1;36m0\u001b[0m │       \u001b[1;36m800415\u001b[0m │                   \u001b[1;36m20\u001b[0m │ \u001b[32mOn-budget        \u001b[0m │ \u001b[32m0     \u001b[0m │  \u001b[1;36m1968\u001b[0m │ \u001b[32m0     \u001b[0m │\n",
       "│                  \u001b[1;36m931\u001b[0m │                  \u001b[1;36m0\u001b[0m │           \u001b[1;36m9\u001b[0m │           \u001b[1;36m0\u001b[0m │       \u001b[1;36m800415\u001b[0m │                   \u001b[1;36m20\u001b[0m │ \u001b[32mOn-budget        \u001b[0m │ \u001b[32m0     \u001b[0m │  \u001b[1;36m1969\u001b[0m │ \u001b[32m0     \u001b[0m │\n",
       "│                  \u001b[1;36m931\u001b[0m │                  \u001b[1;36m0\u001b[0m │           \u001b[1;36m9\u001b[0m │           \u001b[1;36m0\u001b[0m │       \u001b[1;36m800415\u001b[0m │                   \u001b[1;36m20\u001b[0m │ \u001b[32mOn-budget        \u001b[0m │ \u001b[32m0     \u001b[0m │  \u001b[1;36m1970\u001b[0m │ \u001b[32m0     \u001b[0m │\n",
       "│                  \u001b[1;36m931\u001b[0m │                  \u001b[1;36m0\u001b[0m │           \u001b[1;36m9\u001b[0m │           \u001b[1;36m0\u001b[0m │       \u001b[1;36m800415\u001b[0m │                   \u001b[1;36m20\u001b[0m │ \u001b[32mOn-budget        \u001b[0m │ \u001b[32m0     \u001b[0m │  \u001b[1;36m1971\u001b[0m │ \u001b[32m0     \u001b[0m │\n",
       "│                    \u001b[2m…\u001b[0m │                  \u001b[2m…\u001b[0m │           \u001b[2m…\u001b[0m │           \u001b[2m…\u001b[0m │            \u001b[2m…\u001b[0m │                    \u001b[2m…\u001b[0m │ \u001b[2m…\u001b[0m                 │ \u001b[2m…\u001b[0m      │     \u001b[2m…\u001b[0m │ \u001b[2m…\u001b[0m      │\n",
       "└──────────────────────┴────────────────────┴─────────────┴─────────────┴──────────────┴──────────────────────┴───────────────────┴────────┴───────┴────────┘\n"
      ]
     },
     "metadata": {},
     "output_type": "display_data"
    }
   ],
   "source": [
    "# | echo: false\n",
    "print(b.execute(\"text\"))"
   ]
  },
  {
   "cell_type": "markdown",
   "id": "27bb3e03",
   "metadata": {},
   "source": [
    "#### AST"
   ]
  },
  {
   "cell_type": "code",
   "execution_count": 35,
   "id": "e765da10",
   "metadata": {
    "execution": {
     "iopub.execute_input": "2024-03-08T17:20:25.105142Z",
     "iopub.status.busy": "2024-03-08T17:20:25.105043Z",
     "iopub.status.idle": "2024-03-08T17:20:25.109029Z",
     "shell.execute_reply": "2024-03-08T17:20:25.108733Z"
    }
   },
   "outputs": [
    {
     "data": {
      "text/plain": [
       "r0 := DatabaseTable: budget​\n",
       "  Source Category Code int64\n",
       "  Source subcategory   int64\n",
       "  Agency code          int64\n",
       "  Bureau code          int64\n",
       "  Account code         int64\n",
       "  Treasury Agency code int64\n",
       "  On- or off-budget    string\n",
       "  1962                 string\n",
       "  1963                 string\n",
       "  1964                 string\n",
       "  1965                 string\n",
       "  1966                 string\n",
       "  1967                 string\n",
       "  1968                 string\n",
       "  1969                 string\n",
       "  1970                 string\n",
       "  1971                 string\n",
       "  1972                 string\n",
       "  1973                 string\n",
       "  1974                 string\n",
       "  1975                 string\n",
       "  1976                 string\n",
       "  TQ                   string\n",
       "  1977                 string\n",
       "  1978                 string\n",
       "  1979                 string\n",
       "  1980                 string\n",
       "  1981                 string\n",
       "  1982                 string\n",
       "  1983                 string\n",
       "  1984                 string\n",
       "  1985                 string\n",
       "  1986                 string\n",
       "  1987                 string\n",
       "  1988                 string\n",
       "  1989                 string\n",
       "  1990                 string\n",
       "  1991                 string\n",
       "  1992                 string\n",
       "  1993                 string\n",
       "  1994                 string\n",
       "  1995                 string\n",
       "  1996                 string\n",
       "  1997                 string\n",
       "  1998                 string\n",
       "  1999                 string\n",
       "  2000                 string\n",
       "  2001                 string\n",
       "  2002                 string\n",
       "  2003                 string\n",
       "  2004                 string\n",
       "  2005                 string\n",
       "  2006                 string\n",
       "  2007                 string\n",
       "  2008                 string\n",
       "  2009                 string\n",
       "  2010                 string\n",
       "  2011                 string\n",
       "  2012                 string\n",
       "  2013                 string\n",
       "  2014                 string\n",
       "  2015                 string\n",
       "  2016                 string\n",
       "  2017                 string\n",
       "  2018                 string\n",
       "  2019                 string\n",
       "  2020                 string\n",
       "\n",
       "r1 := Project[r0]\n",
       "  Source Category Code: r0['Source Category Code']\n",
       "  Source subcategory:   r0['Source subcategory']\n",
       "  Agency code:          r0['Agency code']\n",
       "  Bureau code:          r0['Bureau code']\n",
       "  Account code:         r0['Account code']\n",
       "  Treasury Agency code: r0['Treasury Agency code']\n",
       "  On- or off-budget:    r0['On- or off-budget']\n",
       "  TQ:                   r0.TQ\n",
       "  __pivoted__:          Unnest(Array([StructColumn(names=['year', 'budget'], values=[1962, r0['1962']]), StructColumn(names=['year', 'budget'], values=[1963, r0['1963']]), StructColumn(names=['year', 'budget'], values=[1964, r0['1964']]), StructColumn(names=['year', 'budget'], values=[1965, r0['1965']]), StructColumn(names=['year', 'budget'], values=[1966, r0['1966']]), StructColumn(names=['year', 'budget'], values=[1967, r0['1967']]), StructColumn(names=['year', 'budget'], values=[1968, r0['1968']]), StructColumn(names=['year', 'budget'], values=[1969, r0['1969']]), StructColumn(names=['year', 'budget'], values=[1970, r0['1970']]), StructColumn(names=['year', 'budget'], values=[1971, r0['1971']]), StructColumn(names=['year', 'budget'], values=[1972, r0['1972']]), StructColumn(names=['year', 'budget'], values=[1973, r0['1973']]), StructColumn(names=['year', 'budget'], values=[1974, r0['1974']]), StructColumn(names=['year', 'budget'], values=[1975, r0['1975']]), StructColumn(names=['year', 'budget'], values=[1976, r0['1976']]), StructColumn(names=['year', 'budget'], values=[1977, r0['1977']]), StructColumn(names=['year', 'budget'], values=[1978, r0['1978']]), StructColumn(names=['year', 'budget'], values=[1979, r0['1979']]), StructColumn(names=['year', 'budget'], values=[1980, r0['1980']]), StructColumn(names=['year', 'budget'], values=[1981, r0['1981']]), StructColumn(names=['year', 'budget'], values=[1982, r0['1982']]), StructColumn(names=['year', 'budget'], values=[1983, r0['1983']]), StructColumn(names=['year', 'budget'], values=[1984, r0['1984']]), StructColumn(names=['year', 'budget'], values=[1985, r0['1985']]), StructColumn(names=['year', 'budget'], values=[1986, r0['1986']]), StructColumn(names=['year', 'budget'], values=[1987, r0['1987']]), StructColumn(names=['year', 'budget'], values=[1988, r0['1988']]), StructColumn(names=['year', 'budget'], values=[1989, r0['1989']]), StructColumn(names=['year', 'budget'], values=[1990, r0['1990']]), StructColumn(names=['year', 'budget'], values=[1991, r0['1991']]), StructColumn(names=['year', 'budget'], values=[1992, r0['1992']]), StructColumn(names=['year', 'budget'], values=[1993, r0['1993']]), StructColumn(names=['year', 'budget'], values=[1994, r0['1994']]), StructColumn(names=['year', 'budget'], values=[1995, r0['1995']]), StructColumn(names=['year', 'budget'], values=[1996, r0['1996']]), StructColumn(names=['year', 'budget'], values=[1997, r0['1997']]), StructColumn(names=['year', 'budget'], values=[1998, r0['1998']]), StructColumn(names=['year', 'budget'], values=[1999, r0['1999']]), StructColumn(names=['year', 'budget'], values=[2000, r0['2000']]), StructColumn(names=['year', 'budget'], values=[2001, r0['2001']]), StructColumn(names=['year', 'budget'], values=[2002, r0['2002']]), StructColumn(names=['year', 'budget'], values=[2003, r0['2003']]), StructColumn(names=['year', 'budget'], values=[2004, r0['2004']]), StructColumn(names=['year', 'budget'], values=[2005, r0['2005']]), StructColumn(names=['year', 'budget'], values=[2006, r0['2006']]), StructColumn(names=['year', 'budget'], values=[2007, r0['2007']]), StructColumn(names=['year', 'budget'], values=[2008, r0['2008']]), StructColumn(names=['year', 'budget'], values=[2009, r0['2009']]), StructColumn(names=['year', 'budget'], values=[2010, r0['2010']]), StructColumn(names=['year', 'budget'], values=[2011, r0['2011']]), StructColumn(names=['year', 'budget'], values=[2012, r0['2012']]), StructColumn(names=['year', 'budget'], values=[2013, r0['2013']]), StructColumn(names=['year', 'budget'], values=[2014, r0['2014']]), StructColumn(names=['year', 'budget'], values=[2015, r0['2015']]), StructColumn(names=['year', 'budget'], values=[2016, r0['2016']]), StructColumn(names=['year', 'budget'], values=[2017, r0['2017']]), StructColumn(names=['year', 'budget'], values=[2018, r0['2018']]), StructColumn(names=['year', 'budget'], values=[2019, r0['2019']]), StructColumn(names=['year', 'budget'], values=[2020, r0['2020']])]))\n",
       "\n",
       "Project[r1]\n",
       "  Source Category Code: r1['Source Category Code']\n",
       "  Source subcategory:   r1['Source subcategory']\n",
       "  Agency code:          r1['Agency code']\n",
       "  Bureau code:          r1['Bureau code']\n",
       "  Account code:         r1['Account code']\n",
       "  Treasury Agency code: r1['Treasury Agency code']\n",
       "  On- or off-budget:    r1['On- or off-budget']\n",
       "  TQ:                   r1.TQ\n",
       "  year:                 StructField(r1.__pivoted__, field='year')\n",
       "  budget:               StructField(r1.__pivoted__, field='budget')"
      ]
     },
     "execution_count": 35,
     "metadata": {},
     "output_type": "execute_result"
    }
   ],
   "source": [
    "# | echo: false\n",
    "b"
   ]
  },
  {
   "cell_type": "markdown",
   "id": "63aadfb9",
   "metadata": {},
   "source": [
    "#### AST graph\n"
   ]
  },
  {
   "cell_type": "markdown",
   "id": "19adaedf",
   "metadata": {},
   "source": [
    "Too large to show"
   ]
  },
  {
   "cell_type": "markdown",
   "id": "01b7b696",
   "metadata": {},
   "source": [
    ":::"
   ]
  },
  {
   "cell_type": "markdown",
   "id": "5b1b3fe0",
   "metadata": {
    "lines_to_next_cell": 2
   },
   "source": [
    "</Accordion>"
   ]
  },
  {
   "cell_type": "markdown",
   "id": "5d6c24c6",
   "metadata": {
    "lines_to_next_cell": 3
   },
   "source": [
    "</AccordionGroup>"
   ]
  }
 ],
 "metadata": {
  "jupytext": {
   "cell_metadata_filter": "-all",
   "main_language": "python",
   "notebook_metadata_filter": "-all"
  },
  "kernelspec": {
   "display_name": "vinyl-docs-ApXC1gI--py3.11",
   "language": "python",
   "name": "python3"
  },
  "language_info": {
   "codemirror_mode": {
    "name": "ipython",
    "version": 3
   },
   "file_extension": ".py",
   "mimetype": "text/x-python",
   "name": "python",
   "nbconvert_exporter": "python",
   "pygments_lexer": "ipython3",
   "version": "3.11.8"
  }
 },
 "nbformat": 4,
 "nbformat_minor": 5
}
