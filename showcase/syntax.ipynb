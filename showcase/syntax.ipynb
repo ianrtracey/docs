{
 "cells": [
  {
   "cell_type": "raw",
   "id": "394e0cc5",
   "metadata": {},
   "source": [
    "---\n",
    "title: \"Vinyl Syntax\"\n",
    "format: \"mintlify-md\"\n",
    "icon: language\n",
    "---"
   ]
  },
  {
   "cell_type": "code",
   "execution_count": null,
   "id": "069146e3",
   "metadata": {},
   "outputs": [],
   "source": []
  },
  {
   "cell_type": "markdown",
   "id": "9aa97f63",
   "metadata": {},
   "source": [
    "<AccordionGroup>"
   ]
  },
  {
   "cell_type": "markdown",
   "id": "29f734e1",
   "metadata": {},
   "source": [
    "<Accordion title=\"Basic syntax\" defaultOpen=\"true\">"
   ]
  },
  {
   "cell_type": "code",
   "execution_count": 1,
   "id": "1dae96ab",
   "metadata": {
    "execution": {
     "iopub.execute_input": "2024-03-07T00:36:40.063701Z",
     "iopub.status.busy": "2024-03-07T00:36:40.063513Z",
     "iopub.status.idle": "2024-03-07T00:36:40.914975Z",
     "shell.execute_reply": "2024-03-07T00:36:40.914633Z"
    }
   },
   "outputs": [],
   "source": [
    "# | echo: false\n",
    "from vinyl.examples import cars\n",
    "\n",
    "car = cars()"
   ]
  },
  {
   "cell_type": "code",
   "execution_count": 2,
   "id": "0128f790",
   "metadata": {
    "execution": {
     "iopub.execute_input": "2024-03-07T00:36:40.916631Z",
     "iopub.status.busy": "2024-03-07T00:36:40.916549Z",
     "iopub.status.idle": "2024-03-07T00:36:40.919910Z",
     "shell.execute_reply": "2024-03-07T00:36:40.919658Z"
    }
   },
   "outputs": [],
   "source": [
    "with car as c:\n",
    "    c.select([c.Name, c.Horsepower], sort=c.Year)\n",
    "    c.limit(10)"
   ]
  },
  {
   "cell_type": "markdown",
   "id": "f9e2c7db",
   "metadata": {},
   "source": [
    "::: {.panel-tabset}"
   ]
  },
  {
   "cell_type": "markdown",
   "id": "710868b9",
   "metadata": {},
   "source": [
    "#### SQL\n"
   ]
  },
  {
   "cell_type": "code",
   "execution_count": 3,
   "id": "7a6d2474",
   "metadata": {
    "execution": {
     "iopub.execute_input": "2024-03-07T00:36:40.921207Z",
     "iopub.status.busy": "2024-03-07T00:36:40.921129Z",
     "iopub.status.idle": "2024-03-07T00:36:40.927087Z",
     "shell.execute_reply": "2024-03-07T00:36:40.926878Z"
    }
   },
   "outputs": [
    {
     "data": {
      "text/html": [
       "<pre style=\"white-space:pre;overflow-x:auto;line-height:normal;font-family:Menlo,'DejaVu Sans Mono',consolas,'Courier New',monospace\">SELECT\n",
       "  <span style=\"color: #008000; text-decoration-color: #008000\">\"t0\"</span>.<span style=\"color: #008000; text-decoration-color: #008000\">\"Year\"</span>,\n",
       "  <span style=\"color: #008000; text-decoration-color: #008000\">\"t0\"</span>.<span style=\"color: #008000; text-decoration-color: #008000\">\"Name\"</span>,\n",
       "  <span style=\"color: #008000; text-decoration-color: #008000\">\"t0\"</span>.<span style=\"color: #008000; text-decoration-color: #008000\">\"Horsepower\"</span>\n",
       "FROM <span style=\"color: #008000; text-decoration-color: #008000\">\"cars\"</span> AS <span style=\"color: #008000; text-decoration-color: #008000\">\"t0\"</span>\n",
       "ORDER BY\n",
       "  <span style=\"color: #008000; text-decoration-color: #008000\">\"t0\"</span>.<span style=\"color: #008000; text-decoration-color: #008000\">\"Year\"</span> ASC\n",
       "LIMIT <span style=\"color: #008080; text-decoration-color: #008080; font-weight: bold\">10</span>\n",
       "</pre>\n"
      ],
      "text/plain": [
       "SELECT\n",
       "  \u001b[32m\"t0\"\u001b[0m.\u001b[32m\"Year\"\u001b[0m,\n",
       "  \u001b[32m\"t0\"\u001b[0m.\u001b[32m\"Name\"\u001b[0m,\n",
       "  \u001b[32m\"t0\"\u001b[0m.\u001b[32m\"Horsepower\"\u001b[0m\n",
       "FROM \u001b[32m\"cars\"\u001b[0m AS \u001b[32m\"t0\"\u001b[0m\n",
       "ORDER BY\n",
       "  \u001b[32m\"t0\"\u001b[0m.\u001b[32m\"Year\"\u001b[0m ASC\n",
       "LIMIT \u001b[1;36m10\u001b[0m\n"
      ]
     },
     "metadata": {},
     "output_type": "display_data"
    }
   ],
   "source": [
    "# | echo: false\n",
    "print(c.to_sql(optimized=True))"
   ]
  },
  {
   "cell_type": "markdown",
   "id": "9b9ef8b1",
   "metadata": {},
   "source": [
    "#### Result"
   ]
  },
  {
   "cell_type": "code",
   "execution_count": 4,
   "id": "9ec6e42b",
   "metadata": {
    "execution": {
     "iopub.execute_input": "2024-03-07T00:36:40.928302Z",
     "iopub.status.busy": "2024-03-07T00:36:40.928223Z",
     "iopub.status.idle": "2024-03-07T00:36:40.935270Z",
     "shell.execute_reply": "2024-03-07T00:36:40.935050Z"
    }
   },
   "outputs": [
    {
     "data": {
      "text/html": [
       "<pre style=\"white-space:pre;overflow-x:auto;line-height:normal;font-family:Menlo,'DejaVu Sans Mono',consolas,'Courier New',monospace\">┏━━━━━━━━━━━━━━━━━━━━━┳━━━━━━━━━━━━━━━━━━━━━━━━━━━┳━━━━━━━━━━━━┓\n",
       "┃<span style=\"font-weight: bold\"> Year                </span>┃<span style=\"font-weight: bold\"> Name                      </span>┃<span style=\"font-weight: bold\"> Horsepower </span>┃\n",
       "┡━━━━━━━━━━━━━━━━━━━━━╇━━━━━━━━━━━━━━━━━━━━━━━━━━━╇━━━━━━━━━━━━┩\n",
       "│ <span style=\"color: #7f7f7f; text-decoration-color: #7f7f7f\">timestamp(6)</span>        │ <span style=\"color: #7f7f7f; text-decoration-color: #7f7f7f\">string</span>                    │ <span style=\"color: #7f7f7f; text-decoration-color: #7f7f7f\">float64</span>    │\n",
       "├─────────────────────┼───────────────────────────┼────────────┤\n",
       "│ <span style=\"color: #800080; text-decoration-color: #800080\">1970-01-01 00:00:00</span> │ <span style=\"color: #008000; text-decoration-color: #008000\">chevrolet chevelle malibu</span> │      <span style=\"color: #008080; text-decoration-color: #008080; font-weight: bold\">130.0</span> │\n",
       "│ <span style=\"color: #800080; text-decoration-color: #800080\">1970-01-01 00:00:00</span> │ <span style=\"color: #008000; text-decoration-color: #008000\">buick skylark 320        </span> │      <span style=\"color: #008080; text-decoration-color: #008080; font-weight: bold\">165.0</span> │\n",
       "│ <span style=\"color: #800080; text-decoration-color: #800080\">1970-01-01 00:00:00</span> │ <span style=\"color: #008000; text-decoration-color: #008000\">plymouth satellite       </span> │      <span style=\"color: #008080; text-decoration-color: #008080; font-weight: bold\">150.0</span> │\n",
       "│ <span style=\"color: #800080; text-decoration-color: #800080\">1970-01-01 00:00:00</span> │ <span style=\"color: #008000; text-decoration-color: #008000\">amc rebel sst            </span> │      <span style=\"color: #008080; text-decoration-color: #008080; font-weight: bold\">150.0</span> │\n",
       "│ <span style=\"color: #800080; text-decoration-color: #800080\">1970-01-01 00:00:00</span> │ <span style=\"color: #008000; text-decoration-color: #008000\">ford torino              </span> │      <span style=\"color: #008080; text-decoration-color: #008080; font-weight: bold\">140.0</span> │\n",
       "│ <span style=\"color: #800080; text-decoration-color: #800080\">1970-01-01 00:00:00</span> │ <span style=\"color: #008000; text-decoration-color: #008000\">ford galaxie 500         </span> │      <span style=\"color: #008080; text-decoration-color: #008080; font-weight: bold\">198.0</span> │\n",
       "│ <span style=\"color: #800080; text-decoration-color: #800080\">1970-01-01 00:00:00</span> │ <span style=\"color: #008000; text-decoration-color: #008000\">chevrolet impala         </span> │      <span style=\"color: #008080; text-decoration-color: #008080; font-weight: bold\">220.0</span> │\n",
       "│ <span style=\"color: #800080; text-decoration-color: #800080\">1970-01-01 00:00:00</span> │ <span style=\"color: #008000; text-decoration-color: #008000\">plymouth fury iii        </span> │      <span style=\"color: #008080; text-decoration-color: #008080; font-weight: bold\">215.0</span> │\n",
       "│ <span style=\"color: #800080; text-decoration-color: #800080\">1970-01-01 00:00:00</span> │ <span style=\"color: #008000; text-decoration-color: #008000\">pontiac catalina         </span> │      <span style=\"color: #008080; text-decoration-color: #008080; font-weight: bold\">225.0</span> │\n",
       "│ <span style=\"color: #800080; text-decoration-color: #800080\">1970-01-01 00:00:00</span> │ <span style=\"color: #008000; text-decoration-color: #008000\">amc ambassador dpl       </span> │      <span style=\"color: #008080; text-decoration-color: #008080; font-weight: bold\">190.0</span> │\n",
       "└─────────────────────┴───────────────────────────┴────────────┘\n",
       "</pre>\n"
      ],
      "text/plain": [
       "┏━━━━━━━━━━━━━━━━━━━━━┳━━━━━━━━━━━━━━━━━━━━━━━━━━━┳━━━━━━━━━━━━┓\n",
       "┃\u001b[1m \u001b[0m\u001b[1mYear\u001b[0m\u001b[1m               \u001b[0m\u001b[1m \u001b[0m┃\u001b[1m \u001b[0m\u001b[1mName\u001b[0m\u001b[1m                     \u001b[0m\u001b[1m \u001b[0m┃\u001b[1m \u001b[0m\u001b[1mHorsepower\u001b[0m\u001b[1m \u001b[0m┃\n",
       "┡━━━━━━━━━━━━━━━━━━━━━╇━━━━━━━━━━━━━━━━━━━━━━━━━━━╇━━━━━━━━━━━━┩\n",
       "│ \u001b[2mtimestamp(6)\u001b[0m        │ \u001b[2mstring\u001b[0m                    │ \u001b[2mfloat64\u001b[0m    │\n",
       "├─────────────────────┼───────────────────────────┼────────────┤\n",
       "│ \u001b[35m1970-01-01 00:00:00\u001b[0m │ \u001b[32mchevrolet chevelle malibu\u001b[0m │      \u001b[1;36m130.0\u001b[0m │\n",
       "│ \u001b[35m1970-01-01 00:00:00\u001b[0m │ \u001b[32mbuick skylark 320        \u001b[0m │      \u001b[1;36m165.0\u001b[0m │\n",
       "│ \u001b[35m1970-01-01 00:00:00\u001b[0m │ \u001b[32mplymouth satellite       \u001b[0m │      \u001b[1;36m150.0\u001b[0m │\n",
       "│ \u001b[35m1970-01-01 00:00:00\u001b[0m │ \u001b[32mamc rebel sst            \u001b[0m │      \u001b[1;36m150.0\u001b[0m │\n",
       "│ \u001b[35m1970-01-01 00:00:00\u001b[0m │ \u001b[32mford torino              \u001b[0m │      \u001b[1;36m140.0\u001b[0m │\n",
       "│ \u001b[35m1970-01-01 00:00:00\u001b[0m │ \u001b[32mford galaxie 500         \u001b[0m │      \u001b[1;36m198.0\u001b[0m │\n",
       "│ \u001b[35m1970-01-01 00:00:00\u001b[0m │ \u001b[32mchevrolet impala         \u001b[0m │      \u001b[1;36m220.0\u001b[0m │\n",
       "│ \u001b[35m1970-01-01 00:00:00\u001b[0m │ \u001b[32mplymouth fury iii        \u001b[0m │      \u001b[1;36m215.0\u001b[0m │\n",
       "│ \u001b[35m1970-01-01 00:00:00\u001b[0m │ \u001b[32mpontiac catalina         \u001b[0m │      \u001b[1;36m225.0\u001b[0m │\n",
       "│ \u001b[35m1970-01-01 00:00:00\u001b[0m │ \u001b[32mamc ambassador dpl       \u001b[0m │      \u001b[1;36m190.0\u001b[0m │\n",
       "└─────────────────────┴───────────────────────────┴────────────┘\n"
      ]
     },
     "metadata": {},
     "output_type": "display_data"
    }
   ],
   "source": [
    "# | echo: false\n",
    "print(c.execute(\"text\"))"
   ]
  },
  {
   "cell_type": "markdown",
   "id": "70e14b48",
   "metadata": {},
   "source": [
    "#### AST"
   ]
  },
  {
   "cell_type": "code",
   "execution_count": 5,
   "id": "41678737",
   "metadata": {
    "execution": {
     "iopub.execute_input": "2024-03-07T00:36:40.936497Z",
     "iopub.status.busy": "2024-03-07T00:36:40.936423Z",
     "iopub.status.idle": "2024-03-07T00:36:40.939047Z",
     "shell.execute_reply": "2024-03-07T00:36:40.938826Z"
    }
   },
   "outputs": [
    {
     "data": {
      "text/plain": [
       "r0 := DatabaseTable: cars\n",
       "  Name             string\n",
       "  Miles_per_Gallon float64\n",
       "  Cylinders        int64\n",
       "  Displacement     float64\n",
       "  Horsepower       float64\n",
       "  Weight_in_lbs    int64\n",
       "  Acceleration     float64\n",
       "  Year             timestamp(6)\n",
       "  Origin           string\n",
       "\n",
       "r1 := Project[r0]\n",
       "  Year:       r0.Year\n",
       "  Name:       r0.Name\n",
       "  Horsepower: r0.Horsepower\n",
       "\n",
       "r2 := Sort[r1]\n",
       "  asc r1.Year\n",
       "\n",
       "Limit[r2, n=10]"
      ]
     },
     "execution_count": 5,
     "metadata": {},
     "output_type": "execute_result"
    }
   ],
   "source": [
    "# | echo: false\n",
    "c"
   ]
  },
  {
   "cell_type": "markdown",
   "id": "2f9fbdab",
   "metadata": {},
   "source": [
    "#### AST graph\n"
   ]
  },
  {
   "cell_type": "code",
   "execution_count": 6,
   "id": "53471883",
   "metadata": {
    "execution": {
     "iopub.execute_input": "2024-03-07T00:36:40.940316Z",
     "iopub.status.busy": "2024-03-07T00:36:40.940238Z",
     "iopub.status.idle": "2024-03-07T00:36:41.267014Z",
     "shell.execute_reply": "2024-03-07T00:36:41.266758Z"
    }
   },
   "outputs": [
    {
     "data": {
      "text/html": [
       "<pre style=\"white-space:pre;overflow-x:auto;line-height:normal;font-family:Menlo,'DejaVu Sans Mono',consolas,'Courier New',monospace\">                                                   ╭────────────────────────╮             \n",
       "                                                   │ <span style=\"font-weight: bold\">Limit</span>                  │             \n",
       "                                                   │ <span style=\"font-weight: bold\">   </span><span style=\"font-weight: bold; font-style: italic\">Year: </span><span style=\"color: #008080; text-decoration-color: #008080; font-weight: bold; font-style: italic\">timestamp(6)</span>  │             \n",
       "                                                   │ <span style=\"font-weight: bold\">   </span><span style=\"font-weight: bold; font-style: italic\">Name: </span><span style=\"color: #ffaf00; text-decoration-color: #ffaf00; font-weight: bold; font-style: italic\">string</span>        │             \n",
       "                                                   │ <span style=\"font-weight: bold\">   </span><span style=\"font-weight: bold; font-style: italic\">Horsepower: </span><span style=\"color: #808000; text-decoration-color: #808000; font-weight: bold; font-style: italic\">float64</span> │             \n",
       "                                                   ╰────────────────────────╯             \n",
       "                                                                ▲                         \n",
       "                                                                │                         \n",
       "                                                                │                         \n",
       "                                                                │                         \n",
       "                                                   ╭────────────────────────╮             \n",
       "                                                   │ <span style=\"font-weight: bold\">Sort</span>                   │             \n",
       "                                                   │ <span style=\"font-weight: bold\">   </span><span style=\"font-weight: bold; font-style: italic\">Year: </span><span style=\"color: #008080; text-decoration-color: #008080; font-weight: bold; font-style: italic\">timestamp(6)</span>  │             \n",
       "                                             ╭────▶│ <span style=\"font-weight: bold\">   </span><span style=\"font-weight: bold; font-style: italic\">Name: </span><span style=\"color: #ffaf00; text-decoration-color: #ffaf00; font-weight: bold; font-style: italic\">string</span>        │             \n",
       "                                             │     │ <span style=\"font-weight: bold\">   </span><span style=\"font-weight: bold; font-style: italic\">Horsepower: </span><span style=\"color: #808000; text-decoration-color: #808000; font-weight: bold; font-style: italic\">float64</span> │             \n",
       "                                             │     ╰────────────────────────╯             \n",
       "                                             │                  ▲                         \n",
       "                                             │                  │                         \n",
       "                                             │                  │                         \n",
       "                                             │                  │                         \n",
       "                                  ╭────────────────────╮        │                         \n",
       "                                  │ <span style=\"font-weight: bold\">SortKey</span>            │        │                         \n",
       "                                  │ <span style=\"font-weight: bold\">   :: </span><span style=\"color: #008080; text-decoration-color: #008080; font-weight: bold\">timestamp(6)</span> │        │                         \n",
       "                                  ╰────────────────────╯        │                         \n",
       "                                             ▲                  │                         \n",
       "                                             │                  │                         \n",
       "                                             │                  │                         \n",
       "                                             │                  │                         \n",
       "                                  ╭────────────────────╮        │                         \n",
       "                                  │ <span style=\"font-style: italic\">Year: </span><span style=\"font-weight: bold; font-style: italic\">Field</span>        │        │                         \n",
       "                                  │ <span style=\"font-style: italic\">   :: </span><span style=\"color: #008080; text-decoration-color: #008080; font-style: italic\">timestamp(6)</span> │        │                         \n",
       "                                  ╰────────────────────╯        │                         \n",
       "                                             ▲                  │                         \n",
       "                                             │                  │                         \n",
       "                                             │                  │                         \n",
       "                                             ╰──────────────────│                         \n",
       "                                                   ╭────────────────────────╮             \n",
       "                                                   │ <span style=\"font-weight: bold\">Project</span>                │             \n",
       "                                                   │ <span style=\"font-weight: bold\">   </span><span style=\"font-weight: bold; font-style: italic\">Year: </span><span style=\"color: #008080; text-decoration-color: #008080; font-weight: bold; font-style: italic\">timestamp(6)</span>  │             \n",
       "           ╭──────────────────────────────────────▶│ <span style=\"font-weight: bold\">   </span><span style=\"font-weight: bold; font-style: italic\">Name: </span><span style=\"color: #ffaf00; text-decoration-color: #ffaf00; font-weight: bold; font-style: italic\">string</span>        │◀─╮          \n",
       "           │                                       │ <span style=\"font-weight: bold\">   </span><span style=\"font-weight: bold; font-style: italic\">Horsepower: </span><span style=\"color: #808000; text-decoration-color: #808000; font-weight: bold; font-style: italic\">float64</span> │  │          \n",
       "           │                                       ╰────────────────────────╯  │          \n",
       "           │                                                    ▲              │          \n",
       "           │                                           ╭────────│              │          \n",
       "           │                                           │        │              │          \n",
       "           │                                           │        │              │          \n",
       "╭────────────────────╮                ╭──────────────╮ │        │    ╭───────────────────╮\n",
       "│ <span style=\"font-style: italic\">Year: </span><span style=\"font-weight: bold; font-style: italic\">Field</span>        │                │ <span style=\"font-style: italic\">Name: </span><span style=\"font-weight: bold; font-style: italic\">Field</span>  │ │        │    │ <span style=\"font-style: italic\">Horsepower: </span><span style=\"font-weight: bold; font-style: italic\">Field</span> │\n",
       "│ <span style=\"font-style: italic\">   :: </span><span style=\"color: #008080; text-decoration-color: #008080; font-style: italic\">timestamp(6)</span> │                │ <span style=\"font-style: italic\">   :: </span><span style=\"color: #ffaf00; text-decoration-color: #ffaf00; font-style: italic\">string</span> │─╯        │    │ <span style=\"font-style: italic\">   :: </span><span style=\"color: #808000; text-decoration-color: #808000; font-style: italic\">float64</span>     │\n",
       "╰────────────────────╯                ╰──────────────╯          │    ╰───────────────────╯\n",
       "           ▲                                  ▲                 │              ▲          \n",
       "           │                                  │                 │              │          \n",
       "           │                                  │                 │              │          \n",
       "           │                                  │                 │              │          \n",
       "           │                                  │ ╭──────────────────────────────╮          \n",
       "           │                                  │ │ <span style=\"font-style: italic\">cars: </span><span style=\"font-weight: bold; font-style: italic\">DatabaseTable</span>          │          \n",
       "           │                                  │ │ <span style=\"font-style: italic\">   Name: </span><span style=\"color: #ffaf00; text-decoration-color: #ffaf00; font-style: italic\">string</span>              │          \n",
       "           │                                  │ │ <span style=\"font-style: italic\">   Miles_per_Gallon: </span><span style=\"color: #808000; text-decoration-color: #808000; font-style: italic\">float64</span> │          \n",
       "           │                                  │ │ <span style=\"font-style: italic\">   Cylinders: </span><span style=\"color: #808000; text-decoration-color: #808000; font-style: italic\">int64</span>          │          \n",
       "           │                                  │ │ <span style=\"font-style: italic\">   Displacement: </span><span style=\"color: #808000; text-decoration-color: #808000; font-style: italic\">float64</span>     │          \n",
       "           ╰────────────────────────────────────│ <span style=\"font-style: italic\">   Horsepower: </span><span style=\"color: #808000; text-decoration-color: #808000; font-style: italic\">float64</span>       │          \n",
       "                                                │ <span style=\"font-style: italic\">   Weight_in_lbs: </span><span style=\"color: #808000; text-decoration-color: #808000; font-style: italic\">int64</span>      │          \n",
       "                                                │ <span style=\"font-style: italic\">   Acceleration: </span><span style=\"color: #808000; text-decoration-color: #808000; font-style: italic\">float64</span>     │          \n",
       "                                                │ <span style=\"font-style: italic\">   Year: </span><span style=\"color: #008080; text-decoration-color: #008080; font-style: italic\">timestamp(6)</span>        │          \n",
       "                                                │ <span style=\"font-style: italic\">   Origin: </span><span style=\"color: #ffaf00; text-decoration-color: #ffaf00; font-style: italic\">string</span>            │          \n",
       "                                                ╰──────────────────────────────╯          \n",
       "</pre>\n"
      ],
      "text/plain": [
       "                                                   ╭────────────────────────╮             \n",
       "                                                   │ \u001b[1mLimit\u001b[0m                  │             \n",
       "                                                   │ \u001b[1m   \u001b[0m\u001b[1;3mYear: \u001b[0m\u001b[1;3;36mtimestamp(6)\u001b[0m  │             \n",
       "                                                   │ \u001b[1m   \u001b[0m\u001b[1;3mName: \u001b[0m\u001b[1;3;38;5;214mstring\u001b[0m        │             \n",
       "                                                   │ \u001b[1m   \u001b[0m\u001b[1;3mHorsepower: \u001b[0m\u001b[1;3;33mfloat64\u001b[0m │             \n",
       "                                                   ╰────────────────────────╯             \n",
       "                                                                ▲                         \n",
       "                                                                │                         \n",
       "                                                                │                         \n",
       "                                                                │                         \n",
       "                                                   ╭────────────────────────╮             \n",
       "                                                   │ \u001b[1mSort\u001b[0m                   │             \n",
       "                                                   │ \u001b[1m   \u001b[0m\u001b[1;3mYear: \u001b[0m\u001b[1;3;36mtimestamp(6)\u001b[0m  │             \n",
       "                                             ╭────▶│ \u001b[1m   \u001b[0m\u001b[1;3mName: \u001b[0m\u001b[1;3;38;5;214mstring\u001b[0m        │             \n",
       "                                             │     │ \u001b[1m   \u001b[0m\u001b[1;3mHorsepower: \u001b[0m\u001b[1;3;33mfloat64\u001b[0m │             \n",
       "                                             │     ╰────────────────────────╯             \n",
       "                                             │                  ▲                         \n",
       "                                             │                  │                         \n",
       "                                             │                  │                         \n",
       "                                             │                  │                         \n",
       "                                  ╭────────────────────╮        │                         \n",
       "                                  │ \u001b[1mSortKey\u001b[0m            │        │                         \n",
       "                                  │ \u001b[1m   :: \u001b[0m\u001b[1;36mtimestamp(6)\u001b[0m │        │                         \n",
       "                                  ╰────────────────────╯        │                         \n",
       "                                             ▲                  │                         \n",
       "                                             │                  │                         \n",
       "                                             │                  │                         \n",
       "                                             │                  │                         \n",
       "                                  ╭────────────────────╮        │                         \n",
       "                                  │ \u001b[3mYear: \u001b[0m\u001b[1;3mField\u001b[0m        │        │                         \n",
       "                                  │ \u001b[3m   :: \u001b[0m\u001b[3;36mtimestamp(6)\u001b[0m │        │                         \n",
       "                                  ╰────────────────────╯        │                         \n",
       "                                             ▲                  │                         \n",
       "                                             │                  │                         \n",
       "                                             │                  │                         \n",
       "                                             ╰──────────────────│                         \n",
       "                                                   ╭────────────────────────╮             \n",
       "                                                   │ \u001b[1mProject\u001b[0m                │             \n",
       "                                                   │ \u001b[1m   \u001b[0m\u001b[1;3mYear: \u001b[0m\u001b[1;3;36mtimestamp(6)\u001b[0m  │             \n",
       "           ╭──────────────────────────────────────▶│ \u001b[1m   \u001b[0m\u001b[1;3mName: \u001b[0m\u001b[1;3;38;5;214mstring\u001b[0m        │◀─╮          \n",
       "           │                                       │ \u001b[1m   \u001b[0m\u001b[1;3mHorsepower: \u001b[0m\u001b[1;3;33mfloat64\u001b[0m │  │          \n",
       "           │                                       ╰────────────────────────╯  │          \n",
       "           │                                                    ▲              │          \n",
       "           │                                           ╭────────│              │          \n",
       "           │                                           │        │              │          \n",
       "           │                                           │        │              │          \n",
       "╭────────────────────╮                ╭──────────────╮ │        │    ╭───────────────────╮\n",
       "│ \u001b[3mYear: \u001b[0m\u001b[1;3mField\u001b[0m        │                │ \u001b[3mName: \u001b[0m\u001b[1;3mField\u001b[0m  │ │        │    │ \u001b[3mHorsepower: \u001b[0m\u001b[1;3mField\u001b[0m │\n",
       "│ \u001b[3m   :: \u001b[0m\u001b[3;36mtimestamp(6)\u001b[0m │                │ \u001b[3m   :: \u001b[0m\u001b[3;38;5;214mstring\u001b[0m │─╯        │    │ \u001b[3m   :: \u001b[0m\u001b[3;33mfloat64\u001b[0m     │\n",
       "╰────────────────────╯                ╰──────────────╯          │    ╰───────────────────╯\n",
       "           ▲                                  ▲                 │              ▲          \n",
       "           │                                  │                 │              │          \n",
       "           │                                  │                 │              │          \n",
       "           │                                  │                 │              │          \n",
       "           │                                  │ ╭──────────────────────────────╮          \n",
       "           │                                  │ │ \u001b[3mcars: \u001b[0m\u001b[1;3mDatabaseTable\u001b[0m          │          \n",
       "           │                                  │ │ \u001b[3m   \u001b[0m\u001b[3mName: \u001b[0m\u001b[3;38;5;214mstring\u001b[0m              │          \n",
       "           │                                  │ │ \u001b[3m   \u001b[0m\u001b[3mMiles_per_Gallon: \u001b[0m\u001b[3;33mfloat64\u001b[0m │          \n",
       "           │                                  │ │ \u001b[3m   \u001b[0m\u001b[3mCylinders: \u001b[0m\u001b[3;33mint64\u001b[0m          │          \n",
       "           │                                  │ │ \u001b[3m   \u001b[0m\u001b[3mDisplacement: \u001b[0m\u001b[3;33mfloat64\u001b[0m     │          \n",
       "           ╰────────────────────────────────────│ \u001b[3m   \u001b[0m\u001b[3mHorsepower: \u001b[0m\u001b[3;33mfloat64\u001b[0m       │          \n",
       "                                                │ \u001b[3m   \u001b[0m\u001b[3mWeight_in_lbs: \u001b[0m\u001b[3;33mint64\u001b[0m      │          \n",
       "                                                │ \u001b[3m   \u001b[0m\u001b[3mAcceleration: \u001b[0m\u001b[3;33mfloat64\u001b[0m     │          \n",
       "                                                │ \u001b[3m   \u001b[0m\u001b[3mYear: \u001b[0m\u001b[3;36mtimestamp(6)\u001b[0m        │          \n",
       "                                                │ \u001b[3m   \u001b[0m\u001b[3mOrigin: \u001b[0m\u001b[3;38;5;214mstring\u001b[0m            │          \n",
       "                                                ╰──────────────────────────────╯          \n"
      ]
     },
     "metadata": {},
     "output_type": "display_data"
    }
   ],
   "source": [
    "# | echo: false\n",
    "c.visualize()"
   ]
  },
  {
   "cell_type": "markdown",
   "id": "1f705ac7",
   "metadata": {},
   "source": [
    ":::"
   ]
  },
  {
   "cell_type": "markdown",
   "id": "0f9c6705",
   "metadata": {},
   "source": [
    "</Accordion>"
   ]
  },
  {
   "cell_type": "markdown",
   "id": "e7af5075",
   "metadata": {},
   "source": [
    "<Accordion title=\"Null handling\">"
   ]
  },
  {
   "cell_type": "code",
   "execution_count": 7,
   "id": "f4759733",
   "metadata": {
    "execution": {
     "iopub.execute_input": "2024-03-07T00:36:41.268557Z",
     "iopub.status.busy": "2024-03-07T00:36:41.268465Z",
     "iopub.status.idle": "2024-03-07T00:36:41.434582Z",
     "shell.execute_reply": "2024-03-07T00:36:41.434317Z"
    }
   },
   "outputs": [],
   "source": [
    "# | echo: false\n",
    "from vinyl.examples import birdstrikes\n",
    "\n",
    "birdstrikes = birdstrikes()\n",
    "from vinyl.constructors import if_else\n",
    "from vinyl.examples import birdstrikes\n",
    "\n",
    "birdstrikes = birdstrikes()\n",
    "\n",
    "birdstrikes = birdstrikes.define_all(\n",
    "    birdstrikes.Effect__Amount_of_damage,\n",
    "    f=[lambda x: if_else(x == \"None\", None, x)],\n",
    ")\n",
    "birdstrikes = birdstrikes._create_table(\"birdstrikes\")"
   ]
  },
  {
   "cell_type": "code",
   "execution_count": 8,
   "id": "f7e487cf",
   "metadata": {
    "execution": {
     "iopub.execute_input": "2024-03-07T00:36:41.436074Z",
     "iopub.status.busy": "2024-03-07T00:36:41.435989Z",
     "iopub.status.idle": "2024-03-07T00:36:41.439868Z",
     "shell.execute_reply": "2024-03-07T00:36:41.439671Z"
    }
   },
   "outputs": [],
   "source": [
    "from vinyl.constructors import coalesce\n",
    "\n",
    "with birdstrikes as b:\n",
    "    b.filter(b.Effect__Amount_of_damage == None)\n",
    "    b.filter(b.Airport__Name != None)\n",
    "    b.select({\"airport_name\": coalesce(b.Airport__Name, \"Unknown\")})"
   ]
  },
  {
   "cell_type": "markdown",
   "id": "b1e113e5",
   "metadata": {},
   "source": [
    "::: {.callout-warning}\n",
    "\n",
    "`column is None` and `column is not None` will not work as expected because Python requires `is` statements to evaluate to True or False.\n",
    "\n",
    ":::"
   ]
  },
  {
   "cell_type": "markdown",
   "id": "253d6cba",
   "metadata": {},
   "source": [
    "::: {.panel-tabset}"
   ]
  },
  {
   "cell_type": "markdown",
   "id": "0c27287e",
   "metadata": {},
   "source": [
    "#### SQL\n"
   ]
  },
  {
   "cell_type": "code",
   "execution_count": 9,
   "id": "9c3c06ef",
   "metadata": {
    "execution": {
     "iopub.execute_input": "2024-03-07T00:36:41.441198Z",
     "iopub.status.busy": "2024-03-07T00:36:41.441127Z",
     "iopub.status.idle": "2024-03-07T00:36:41.446876Z",
     "shell.execute_reply": "2024-03-07T00:36:41.446647Z"
    }
   },
   "outputs": [
    {
     "data": {
      "text/html": [
       "<pre style=\"white-space:pre;overflow-x:auto;line-height:normal;font-family:Menlo,'DejaVu Sans Mono',consolas,'Courier New',monospace\">SELECT\n",
       "  <span style=\"color: #800080; text-decoration-color: #800080; font-weight: bold\">COALESCE</span><span style=\"font-weight: bold\">(</span><span style=\"color: #008000; text-decoration-color: #008000\">\"t0\"</span>.<span style=\"color: #008000; text-decoration-color: #008000\">\"Airport__Name\"</span>, <span style=\"color: #008000; text-decoration-color: #008000\">'Unknown'</span><span style=\"font-weight: bold\">)</span> AS <span style=\"color: #008000; text-decoration-color: #008000\">\"airport_name\"</span>\n",
       "FROM <span style=\"color: #008000; text-decoration-color: #008000\">\"birdstrikes \"</span> AS <span style=\"color: #008000; text-decoration-color: #008000\">\"t0\"</span>\n",
       "WHERE\n",
       "  <span style=\"color: #008000; text-decoration-color: #008000\">\"t0\"</span>.<span style=\"color: #008000; text-decoration-color: #008000\">\"Effect__Amount_of_damage\"</span> IS NULL AND NOT <span style=\"color: #008000; text-decoration-color: #008000\">\"t0\"</span>.<span style=\"color: #008000; text-decoration-color: #008000\">\"Airport__Name\"</span> IS NULL\n",
       "</pre>\n"
      ],
      "text/plain": [
       "SELECT\n",
       "  \u001b[1;35mCOALESCE\u001b[0m\u001b[1m(\u001b[0m\u001b[32m\"t0\"\u001b[0m.\u001b[32m\"Airport__Name\"\u001b[0m, \u001b[32m'Unknown'\u001b[0m\u001b[1m)\u001b[0m AS \u001b[32m\"airport_name\"\u001b[0m\n",
       "FROM \u001b[32m\"birdstrikes \"\u001b[0m AS \u001b[32m\"t0\"\u001b[0m\n",
       "WHERE\n",
       "  \u001b[32m\"t0\"\u001b[0m.\u001b[32m\"Effect__Amount_of_damage\"\u001b[0m IS NULL AND NOT \u001b[32m\"t0\"\u001b[0m.\u001b[32m\"Airport__Name\"\u001b[0m IS NULL\n"
      ]
     },
     "metadata": {},
     "output_type": "display_data"
    }
   ],
   "source": [
    "# | echo: false\n",
    "print(b.to_sql(optimized=True))"
   ]
  },
  {
   "cell_type": "markdown",
   "id": "f7f69827",
   "metadata": {},
   "source": [
    "#### Result"
   ]
  },
  {
   "cell_type": "code",
   "execution_count": 10,
   "id": "0c995f86",
   "metadata": {
    "execution": {
     "iopub.execute_input": "2024-03-07T00:36:41.448129Z",
     "iopub.status.busy": "2024-03-07T00:36:41.448058Z",
     "iopub.status.idle": "2024-03-07T00:36:41.453701Z",
     "shell.execute_reply": "2024-03-07T00:36:41.453493Z"
    }
   },
   "outputs": [
    {
     "data": {
      "text/html": [
       "<pre style=\"white-space:pre;overflow-x:auto;line-height:normal;font-family:Menlo,'DejaVu Sans Mono',consolas,'Courier New',monospace\">┏━━━━━━━━━━━━━━━━━━━━━━━━━━━━━━━┓\n",
       "┃<span style=\"font-weight: bold\"> airport_name                  </span>┃\n",
       "┡━━━━━━━━━━━━━━━━━━━━━━━━━━━━━━━┩\n",
       "│ <span style=\"color: #7f7f7f; text-decoration-color: #7f7f7f\">string</span>                        │\n",
       "├───────────────────────────────┤\n",
       "│ <span style=\"color: #008000; text-decoration-color: #008000\">BARKSDALE AIR FORCE BASE ARPT</span> │\n",
       "│ <span style=\"color: #008000; text-decoration-color: #008000\">BARKSDALE AIR FORCE BASE ARPT</span> │\n",
       "│ <span style=\"color: #008000; text-decoration-color: #008000\">BARKSDALE AIR FORCE BASE ARPT</span> │\n",
       "│ <span style=\"color: #008000; text-decoration-color: #008000\">BARKSDALE AIR FORCE BASE ARPT</span> │\n",
       "│ <span style=\"color: #008000; text-decoration-color: #008000\">BARKSDALE AIR FORCE BASE ARPT</span> │\n",
       "│ <span style=\"color: #008000; text-decoration-color: #008000\">BARKSDALE AIR FORCE BASE ARPT</span> │\n",
       "│ <span style=\"color: #008000; text-decoration-color: #008000\">WASHINGTON DULLES INTL ARPT  </span> │\n",
       "│ <span style=\"color: #008000; text-decoration-color: #008000\">BARKSDALE AIR FORCE BASE ARPT</span> │\n",
       "│ <span style=\"color: #008000; text-decoration-color: #008000\">BARKSDALE AIR FORCE BASE ARPT</span> │\n",
       "│ <span style=\"color: #008000; text-decoration-color: #008000\">BARKSDALE AIR FORCE BASE ARPT</span> │\n",
       "│ <span style=\"color: #7f7f7f; text-decoration-color: #7f7f7f\">…</span>                             │\n",
       "└───────────────────────────────┘\n",
       "</pre>\n"
      ],
      "text/plain": [
       "┏━━━━━━━━━━━━━━━━━━━━━━━━━━━━━━━┓\n",
       "┃\u001b[1m \u001b[0m\u001b[1mairport_name\u001b[0m\u001b[1m                 \u001b[0m\u001b[1m \u001b[0m┃\n",
       "┡━━━━━━━━━━━━━━━━━━━━━━━━━━━━━━━┩\n",
       "│ \u001b[2mstring\u001b[0m                        │\n",
       "├───────────────────────────────┤\n",
       "│ \u001b[32mBARKSDALE AIR FORCE BASE ARPT\u001b[0m │\n",
       "│ \u001b[32mBARKSDALE AIR FORCE BASE ARPT\u001b[0m │\n",
       "│ \u001b[32mBARKSDALE AIR FORCE BASE ARPT\u001b[0m │\n",
       "│ \u001b[32mBARKSDALE AIR FORCE BASE ARPT\u001b[0m │\n",
       "│ \u001b[32mBARKSDALE AIR FORCE BASE ARPT\u001b[0m │\n",
       "│ \u001b[32mBARKSDALE AIR FORCE BASE ARPT\u001b[0m │\n",
       "│ \u001b[32mWASHINGTON DULLES INTL ARPT  \u001b[0m │\n",
       "│ \u001b[32mBARKSDALE AIR FORCE BASE ARPT\u001b[0m │\n",
       "│ \u001b[32mBARKSDALE AIR FORCE BASE ARPT\u001b[0m │\n",
       "│ \u001b[32mBARKSDALE AIR FORCE BASE ARPT\u001b[0m │\n",
       "│ \u001b[2m…\u001b[0m                             │\n",
       "└───────────────────────────────┘\n"
      ]
     },
     "metadata": {},
     "output_type": "display_data"
    }
   ],
   "source": [
    "# | echo: false\n",
    "print(b.execute(\"text\"))"
   ]
  },
  {
   "cell_type": "markdown",
   "id": "36c78254",
   "metadata": {},
   "source": [
    "#### AST"
   ]
  },
  {
   "cell_type": "code",
   "execution_count": 11,
   "id": "6f4bfe5a",
   "metadata": {
    "execution": {
     "iopub.execute_input": "2024-03-07T00:36:41.454923Z",
     "iopub.status.busy": "2024-03-07T00:36:41.454853Z",
     "iopub.status.idle": "2024-03-07T00:36:41.457046Z",
     "shell.execute_reply": "2024-03-07T00:36:41.456854Z"
    }
   },
   "outputs": [
    {
     "data": {
      "text/plain": [
       "r0 := DatabaseTable: birdstrikes \n",
       "  Airport__Name              string\n",
       "  Aircraft__Make_Model       string\n",
       "  Flight_Date                string\n",
       "  Aircraft__Airline_Operator string\n",
       "  Origin_State               string\n",
       "  When__Phase_of_flight      string\n",
       "  Wildlife__Size             string\n",
       "  Wildlife__Species          string\n",
       "  When__Time_of_day          string\n",
       "  Cost__Other                int64\n",
       "  Cost__Repair               int64\n",
       "  Cost__Total_$              int64\n",
       "  Speed_IAS_in_knots         float64\n",
       "  Effect__Amount_of_damage   string\n",
       "\n",
       "r1 := Filter[r0]\n",
       "  IsNull(r0.Effect__Amount_of_damage)\n",
       "\n",
       "r2 := Filter[r1]\n",
       "  NotNull(r1.Airport__Name)\n",
       "\n",
       "Project[r2]\n",
       "  airport_name: Coalesce([r2.Airport__Name, 'Unknown'])"
      ]
     },
     "execution_count": 11,
     "metadata": {},
     "output_type": "execute_result"
    }
   ],
   "source": [
    "# | echo: false\n",
    "b"
   ]
  },
  {
   "cell_type": "markdown",
   "id": "80f79f7c",
   "metadata": {},
   "source": [
    "#### AST graph\n"
   ]
  },
  {
   "cell_type": "code",
   "execution_count": 12,
   "id": "62781ef9",
   "metadata": {
    "execution": {
     "iopub.execute_input": "2024-03-07T00:36:41.458220Z",
     "iopub.status.busy": "2024-03-07T00:36:41.458157Z",
     "iopub.status.idle": "2024-03-07T00:36:41.807240Z",
     "shell.execute_reply": "2024-03-07T00:36:41.807027Z"
    }
   },
   "outputs": [
    {
     "data": {
      "text/html": [
       "<pre style=\"white-space:pre;overflow-x:auto;line-height:normal;font-family:Menlo,'DejaVu Sans Mono',consolas,'Courier New',monospace\">                                        ╭─────────────────────────╮       \n",
       "                                        │ <span style=\"font-weight: bold\">Project</span>                 │       \n",
       "                                ╭──────▶│ <span style=\"font-weight: bold\">   </span><span style=\"font-weight: bold; font-style: italic\">airport_name: </span><span style=\"color: #ffaf00; text-decoration-color: #ffaf00; font-weight: bold; font-style: italic\">string</span> │       \n",
       "                                │       ╰─────────────────────────╯       \n",
       "                                │                    ▲                    \n",
       "                                │                    │                    \n",
       "                                │                    │                    \n",
       "                                │                    │                    \n",
       "                        ╭──────────────╮             │                    \n",
       "                        │ <span style=\"font-weight: bold\">Coalesce</span>     │             │                    \n",
       "                        │ <span style=\"font-weight: bold\">   :: </span><span style=\"color: #ffaf00; text-decoration-color: #ffaf00; font-weight: bold\">string</span> │◀─╮          │                    \n",
       "                        ╰──────────────╯  │          │                    \n",
       "                                ▲         │          │                    \n",
       "                                │         │          │                    \n",
       "                                │         │          │                    \n",
       "                                │         │          │                    \n",
       "╭──────────────────────╮        │         ╭────────────────────╮          \n",
       "│ <span style=\"font-style: italic\">Airport__Name: </span><span style=\"font-weight: bold; font-style: italic\">Field</span> │        │         │ <span style=\"font-style: italic\">'Unknown': </span><span style=\"font-weight: bold; font-style: italic\">Literal</span> │          \n",
       "│ <span style=\"font-style: italic\">   :: </span><span style=\"color: #ffaf00; text-decoration-color: #ffaf00; font-style: italic\">string</span>         │────────╯         │ <span style=\"font-style: italic\">   :: </span><span style=\"color: #ffaf00; text-decoration-color: #ffaf00; font-style: italic\">string</span>       │          \n",
       "╰──────────────────────╯                  ╰────────────────────╯          \n",
       "            ▲                                        │                    \n",
       "            │                                        │                    \n",
       "            │                                        │                    \n",
       "            │                                        │                    \n",
       "            │                                        │                    \n",
       "            │                    ╭───────────────────────────────────────╮\n",
       "            │                    │ <span style=\"font-weight: bold\">Filter</span>                                │\n",
       "            │                    │ <span style=\"font-weight: bold\">   </span><span style=\"font-weight: bold; font-style: italic\">Airport__Name: </span><span style=\"color: #ffaf00; text-decoration-color: #ffaf00; font-weight: bold; font-style: italic\">string</span>              │\n",
       "            │                    │ <span style=\"font-weight: bold\">   </span><span style=\"font-weight: bold; font-style: italic\">Aircraft__Make_Model: </span><span style=\"color: #ffaf00; text-decoration-color: #ffaf00; font-weight: bold; font-style: italic\">string</span>       │\n",
       "            │                    │ <span style=\"font-weight: bold\">   </span><span style=\"font-weight: bold; font-style: italic\">Flight_Date: </span><span style=\"color: #ffaf00; text-decoration-color: #ffaf00; font-weight: bold; font-style: italic\">string</span>                │\n",
       "            │                    │ <span style=\"font-weight: bold\">   </span><span style=\"font-weight: bold; font-style: italic\">Aircraft__Airline_Operator: </span><span style=\"color: #ffaf00; text-decoration-color: #ffaf00; font-weight: bold; font-style: italic\">string</span> │\n",
       "            │                    │ <span style=\"font-weight: bold\">   </span><span style=\"font-weight: bold; font-style: italic\">Origin_State: </span><span style=\"color: #ffaf00; text-decoration-color: #ffaf00; font-weight: bold; font-style: italic\">string</span>               │\n",
       "            │                    │ <span style=\"font-weight: bold\">   </span><span style=\"font-weight: bold; font-style: italic\">When__Phase_of_flight: </span><span style=\"color: #ffaf00; text-decoration-color: #ffaf00; font-weight: bold; font-style: italic\">string</span>      │\n",
       "            ╰───────────────────▲│ <span style=\"font-weight: bold\">   </span><span style=\"font-weight: bold; font-style: italic\">Wildlife__Size: </span><span style=\"color: #ffaf00; text-decoration-color: #ffaf00; font-weight: bold; font-style: italic\">string</span>             │\n",
       "                                ││ <span style=\"font-weight: bold\">   </span><span style=\"font-weight: bold; font-style: italic\">Wildlife__Species: </span><span style=\"color: #ffaf00; text-decoration-color: #ffaf00; font-weight: bold; font-style: italic\">string</span>          │\n",
       "                                ││ <span style=\"font-weight: bold\">   </span><span style=\"font-weight: bold; font-style: italic\">When__Time_of_day: </span><span style=\"color: #ffaf00; text-decoration-color: #ffaf00; font-weight: bold; font-style: italic\">string</span>          │\n",
       "                                ││ <span style=\"font-weight: bold\">   </span><span style=\"font-weight: bold; font-style: italic\">Cost__Other: </span><span style=\"color: #808000; text-decoration-color: #808000; font-weight: bold; font-style: italic\">int64</span>                 │\n",
       "                                ││ <span style=\"font-weight: bold\">   </span><span style=\"font-weight: bold; font-style: italic\">Cost__Repair: </span><span style=\"color: #808000; text-decoration-color: #808000; font-weight: bold; font-style: italic\">int64</span>                │\n",
       "                                ││ <span style=\"font-weight: bold\">   </span><span style=\"font-weight: bold; font-style: italic\">Cost__Total_$: </span><span style=\"color: #808000; text-decoration-color: #808000; font-weight: bold; font-style: italic\">int64</span>               │\n",
       "                                ││ <span style=\"font-weight: bold\">   </span><span style=\"font-weight: bold; font-style: italic\">Speed_IAS_in_knots: </span><span style=\"color: #808000; text-decoration-color: #808000; font-weight: bold; font-style: italic\">float64</span>        │\n",
       "                                ││ <span style=\"font-weight: bold\">   </span><span style=\"font-weight: bold; font-style: italic\">Effect__Amount_of_damage: </span><span style=\"color: #ffaf00; text-decoration-color: #ffaf00; font-weight: bold; font-style: italic\">string</span>   │\n",
       "                                │╰───────────────────────────────────────╯\n",
       "                                │                    ▲                    \n",
       "                                │                    │                    \n",
       "                                │                    │                    \n",
       "                        ╭───────────────╮            │                    \n",
       "                        │ <span style=\"font-weight: bold\">NotNull</span>       │            │                    \n",
       "                        │ <span style=\"font-weight: bold\">   :: </span><span style=\"color: #af00ff; text-decoration-color: #af00ff; font-weight: bold\">boolean</span> │            │                    \n",
       "                        ╰───────────────╯            │                    \n",
       "                                ▲                    │                    \n",
       "                                │                    │                    \n",
       "                                │                    │                    \n",
       "                                │                    │                    \n",
       "                    ╭──────────────────────╮         │                    \n",
       "                    │ <span style=\"font-style: italic\">Airport__Name: </span><span style=\"font-weight: bold; font-style: italic\">Field</span> │         │                    \n",
       "                    │ <span style=\"font-style: italic\">   :: </span><span style=\"color: #ffaf00; text-decoration-color: #ffaf00; font-style: italic\">string</span>         │         │                    \n",
       "                    ╰──────────────────────╯         │                    \n",
       "                                ▲                    │                    \n",
       "                                │                    │                    \n",
       "                                │                    │                    \n",
       "                                │                    │                    \n",
       "                                │                    │                    \n",
       "                                │╭───────────────────────────────────────╮\n",
       "                                ││ <span style=\"font-weight: bold\">Filter</span>                                │\n",
       "                                ││ <span style=\"font-weight: bold\">   </span><span style=\"font-weight: bold; font-style: italic\">Airport__Name: </span><span style=\"color: #ffaf00; text-decoration-color: #ffaf00; font-weight: bold; font-style: italic\">string</span>              │\n",
       "                                ││ <span style=\"font-weight: bold\">   </span><span style=\"font-weight: bold; font-style: italic\">Aircraft__Make_Model: </span><span style=\"color: #ffaf00; text-decoration-color: #ffaf00; font-weight: bold; font-style: italic\">string</span>       │\n",
       "                                ││ <span style=\"font-weight: bold\">   </span><span style=\"font-weight: bold; font-style: italic\">Flight_Date: </span><span style=\"color: #ffaf00; text-decoration-color: #ffaf00; font-weight: bold; font-style: italic\">string</span>                │\n",
       "                                ││ <span style=\"font-weight: bold\">   </span><span style=\"font-weight: bold; font-style: italic\">Aircraft__Airline_Operator: </span><span style=\"color: #ffaf00; text-decoration-color: #ffaf00; font-weight: bold; font-style: italic\">string</span> │\n",
       "                                ││ <span style=\"font-weight: bold\">   </span><span style=\"font-weight: bold; font-style: italic\">Origin_State: </span><span style=\"color: #ffaf00; text-decoration-color: #ffaf00; font-weight: bold; font-style: italic\">string</span>               │\n",
       "                                ││ <span style=\"font-weight: bold\">   </span><span style=\"font-weight: bold; font-style: italic\">When__Phase_of_flight: </span><span style=\"color: #ffaf00; text-decoration-color: #ffaf00; font-weight: bold; font-style: italic\">string</span>      │\n",
       "                           ╭────▶│ <span style=\"font-weight: bold\">   </span><span style=\"font-weight: bold; font-style: italic\">Wildlife__Size: </span><span style=\"color: #ffaf00; text-decoration-color: #ffaf00; font-weight: bold; font-style: italic\">string</span>             │\n",
       "                           │     │ <span style=\"font-weight: bold\">   </span><span style=\"font-weight: bold; font-style: italic\">Wildlife__Species: </span><span style=\"color: #ffaf00; text-decoration-color: #ffaf00; font-weight: bold; font-style: italic\">string</span>          │\n",
       "                           │     │ <span style=\"font-weight: bold\">   </span><span style=\"font-weight: bold; font-style: italic\">When__Time_of_day: </span><span style=\"color: #ffaf00; text-decoration-color: #ffaf00; font-weight: bold; font-style: italic\">string</span>          │\n",
       "                           │     │ <span style=\"font-weight: bold\">   </span><span style=\"font-weight: bold; font-style: italic\">Cost__Other: </span><span style=\"color: #808000; text-decoration-color: #808000; font-weight: bold; font-style: italic\">int64</span>                 │\n",
       "                           │     │ <span style=\"font-weight: bold\">   </span><span style=\"font-weight: bold; font-style: italic\">Cost__Repair: </span><span style=\"color: #808000; text-decoration-color: #808000; font-weight: bold; font-style: italic\">int64</span>                │\n",
       "                           │     │ <span style=\"font-weight: bold\">   </span><span style=\"font-weight: bold; font-style: italic\">Cost__Total_$: </span><span style=\"color: #808000; text-decoration-color: #808000; font-weight: bold; font-style: italic\">int64</span>               │\n",
       "                           │     │ <span style=\"font-weight: bold\">   </span><span style=\"font-weight: bold; font-style: italic\">Speed_IAS_in_knots: </span><span style=\"color: #808000; text-decoration-color: #808000; font-weight: bold; font-style: italic\">float64</span>        │\n",
       "                           │     │ <span style=\"font-weight: bold\">   </span><span style=\"font-weight: bold; font-style: italic\">Effect__Amount_of_damage: </span><span style=\"color: #ffaf00; text-decoration-color: #ffaf00; font-weight: bold; font-style: italic\">string</span>   │\n",
       "                           │     ╰───────────────────────────────────────╯\n",
       "                           │                         ▲                    \n",
       "                           │                         │                    \n",
       "                           │                         │                    \n",
       "                   ╭───────────────╮                 │                    \n",
       "                   │ <span style=\"font-weight: bold\">IsNull</span>        │                 │                    \n",
       "                   │ <span style=\"font-weight: bold\">   :: </span><span style=\"color: #af00ff; text-decoration-color: #af00ff; font-weight: bold\">boolean</span> │                 │                    \n",
       "                   ╰───────────────╯                 │                    \n",
       "                           ▲                         │                    \n",
       "                           │                         │                    \n",
       "                           │                         │                    \n",
       "                           │                         │                    \n",
       "          ╭─────────────────────────────────╮        │                    \n",
       "          │ <span style=\"font-style: italic\">Effect__Amount_of_damage: </span><span style=\"font-weight: bold; font-style: italic\">Field</span> │        │                    \n",
       "          │ <span style=\"font-style: italic\">   :: </span><span style=\"color: #ffaf00; text-decoration-color: #ffaf00; font-style: italic\">string</span>                    │        │                    \n",
       "          ╰─────────────────────────────────╯        │                    \n",
       "                           ▲                         │                    \n",
       "                           │                         │                    \n",
       "                           │                         │                    \n",
       "                           │                         │                    \n",
       "                           │                         │                    \n",
       "                           │     ╭───────────────────────────────────────╮\n",
       "                           │     │ <span style=\"font-style: italic\">birdstrikes : </span><span style=\"font-weight: bold; font-style: italic\">DatabaseTable</span>           │\n",
       "                           │     │ <span style=\"font-style: italic\">   Airport__Name: </span><span style=\"color: #ffaf00; text-decoration-color: #ffaf00; font-style: italic\">string</span>              │\n",
       "                           │     │ <span style=\"font-style: italic\">   Aircraft__Make_Model: </span><span style=\"color: #ffaf00; text-decoration-color: #ffaf00; font-style: italic\">string</span>       │\n",
       "                           │     │ <span style=\"font-style: italic\">   Flight_Date: </span><span style=\"color: #ffaf00; text-decoration-color: #ffaf00; font-style: italic\">string</span>                │\n",
       "                           │     │ <span style=\"font-style: italic\">   Aircraft__Airline_Operator: </span><span style=\"color: #ffaf00; text-decoration-color: #ffaf00; font-style: italic\">string</span> │\n",
       "                           │     │ <span style=\"font-style: italic\">   Origin_State: </span><span style=\"color: #ffaf00; text-decoration-color: #ffaf00; font-style: italic\">string</span>               │\n",
       "                           │     │ <span style=\"font-style: italic\">   When__Phase_of_flight: </span><span style=\"color: #ffaf00; text-decoration-color: #ffaf00; font-style: italic\">string</span>      │\n",
       "                           ╰─────│ <span style=\"font-style: italic\">   Wildlife__Size: </span><span style=\"color: #ffaf00; text-decoration-color: #ffaf00; font-style: italic\">string</span>             │\n",
       "                                 │ <span style=\"font-style: italic\">   Wildlife__Species: </span><span style=\"color: #ffaf00; text-decoration-color: #ffaf00; font-style: italic\">string</span>          │\n",
       "                                 │ <span style=\"font-style: italic\">   When__Time_of_day: </span><span style=\"color: #ffaf00; text-decoration-color: #ffaf00; font-style: italic\">string</span>          │\n",
       "                                 │ <span style=\"font-style: italic\">   Cost__Other: </span><span style=\"color: #808000; text-decoration-color: #808000; font-style: italic\">int64</span>                 │\n",
       "                                 │ <span style=\"font-style: italic\">   Cost__Repair: </span><span style=\"color: #808000; text-decoration-color: #808000; font-style: italic\">int64</span>                │\n",
       "                                 │ <span style=\"font-style: italic\">   Cost__Total_$: </span><span style=\"color: #808000; text-decoration-color: #808000; font-style: italic\">int64</span>               │\n",
       "                                 │ <span style=\"font-style: italic\">   Speed_IAS_in_knots: </span><span style=\"color: #808000; text-decoration-color: #808000; font-style: italic\">float64</span>        │\n",
       "                                 │ <span style=\"font-style: italic\">   Effect__Amount_of_damage: </span><span style=\"color: #ffaf00; text-decoration-color: #ffaf00; font-style: italic\">string</span>   │\n",
       "                                 ╰───────────────────────────────────────╯\n",
       "</pre>\n"
      ],
      "text/plain": [
       "                                        ╭─────────────────────────╮       \n",
       "                                        │ \u001b[1mProject\u001b[0m                 │       \n",
       "                                ╭──────▶│ \u001b[1m   \u001b[0m\u001b[1;3mairport_name: \u001b[0m\u001b[1;3;38;5;214mstring\u001b[0m │       \n",
       "                                │       ╰─────────────────────────╯       \n",
       "                                │                    ▲                    \n",
       "                                │                    │                    \n",
       "                                │                    │                    \n",
       "                                │                    │                    \n",
       "                        ╭──────────────╮             │                    \n",
       "                        │ \u001b[1mCoalesce\u001b[0m     │             │                    \n",
       "                        │ \u001b[1m   :: \u001b[0m\u001b[1;38;5;214mstring\u001b[0m │◀─╮          │                    \n",
       "                        ╰──────────────╯  │          │                    \n",
       "                                ▲         │          │                    \n",
       "                                │         │          │                    \n",
       "                                │         │          │                    \n",
       "                                │         │          │                    \n",
       "╭──────────────────────╮        │         ╭────────────────────╮          \n",
       "│ \u001b[3mAirport__Name: \u001b[0m\u001b[1;3mField\u001b[0m │        │         │ \u001b[3m'Unknown': \u001b[0m\u001b[1;3mLiteral\u001b[0m │          \n",
       "│ \u001b[3m   :: \u001b[0m\u001b[3;38;5;214mstring\u001b[0m         │────────╯         │ \u001b[3m   :: \u001b[0m\u001b[3;38;5;214mstring\u001b[0m       │          \n",
       "╰──────────────────────╯                  ╰────────────────────╯          \n",
       "            ▲                                        │                    \n",
       "            │                                        │                    \n",
       "            │                                        │                    \n",
       "            │                                        │                    \n",
       "            │                                        │                    \n",
       "            │                    ╭───────────────────────────────────────╮\n",
       "            │                    │ \u001b[1mFilter\u001b[0m                                │\n",
       "            │                    │ \u001b[1m   \u001b[0m\u001b[1;3mAirport__Name: \u001b[0m\u001b[1;3;38;5;214mstring\u001b[0m              │\n",
       "            │                    │ \u001b[1m   \u001b[0m\u001b[1;3mAircraft__Make_Model: \u001b[0m\u001b[1;3;38;5;214mstring\u001b[0m       │\n",
       "            │                    │ \u001b[1m   \u001b[0m\u001b[1;3mFlight_Date: \u001b[0m\u001b[1;3;38;5;214mstring\u001b[0m                │\n",
       "            │                    │ \u001b[1m   \u001b[0m\u001b[1;3mAircraft__Airline_Operator: \u001b[0m\u001b[1;3;38;5;214mstring\u001b[0m │\n",
       "            │                    │ \u001b[1m   \u001b[0m\u001b[1;3mOrigin_State: \u001b[0m\u001b[1;3;38;5;214mstring\u001b[0m               │\n",
       "            │                    │ \u001b[1m   \u001b[0m\u001b[1;3mWhen__Phase_of_flight: \u001b[0m\u001b[1;3;38;5;214mstring\u001b[0m      │\n",
       "            ╰───────────────────▲│ \u001b[1m   \u001b[0m\u001b[1;3mWildlife__Size: \u001b[0m\u001b[1;3;38;5;214mstring\u001b[0m             │\n",
       "                                ││ \u001b[1m   \u001b[0m\u001b[1;3mWildlife__Species: \u001b[0m\u001b[1;3;38;5;214mstring\u001b[0m          │\n",
       "                                ││ \u001b[1m   \u001b[0m\u001b[1;3mWhen__Time_of_day: \u001b[0m\u001b[1;3;38;5;214mstring\u001b[0m          │\n",
       "                                ││ \u001b[1m   \u001b[0m\u001b[1;3mCost__Other: \u001b[0m\u001b[1;3;33mint64\u001b[0m                 │\n",
       "                                ││ \u001b[1m   \u001b[0m\u001b[1;3mCost__Repair: \u001b[0m\u001b[1;3;33mint64\u001b[0m                │\n",
       "                                ││ \u001b[1m   \u001b[0m\u001b[1;3mCost__Total_$: \u001b[0m\u001b[1;3;33mint64\u001b[0m               │\n",
       "                                ││ \u001b[1m   \u001b[0m\u001b[1;3mSpeed_IAS_in_knots: \u001b[0m\u001b[1;3;33mfloat64\u001b[0m        │\n",
       "                                ││ \u001b[1m   \u001b[0m\u001b[1;3mEffect__Amount_of_damage: \u001b[0m\u001b[1;3;38;5;214mstring\u001b[0m   │\n",
       "                                │╰───────────────────────────────────────╯\n",
       "                                │                    ▲                    \n",
       "                                │                    │                    \n",
       "                                │                    │                    \n",
       "                        ╭───────────────╮            │                    \n",
       "                        │ \u001b[1mNotNull\u001b[0m       │            │                    \n",
       "                        │ \u001b[1m   :: \u001b[0m\u001b[1;38;5;129mboolean\u001b[0m │            │                    \n",
       "                        ╰───────────────╯            │                    \n",
       "                                ▲                    │                    \n",
       "                                │                    │                    \n",
       "                                │                    │                    \n",
       "                                │                    │                    \n",
       "                    ╭──────────────────────╮         │                    \n",
       "                    │ \u001b[3mAirport__Name: \u001b[0m\u001b[1;3mField\u001b[0m │         │                    \n",
       "                    │ \u001b[3m   :: \u001b[0m\u001b[3;38;5;214mstring\u001b[0m         │         │                    \n",
       "                    ╰──────────────────────╯         │                    \n",
       "                                ▲                    │                    \n",
       "                                │                    │                    \n",
       "                                │                    │                    \n",
       "                                │                    │                    \n",
       "                                │                    │                    \n",
       "                                │╭───────────────────────────────────────╮\n",
       "                                ││ \u001b[1mFilter\u001b[0m                                │\n",
       "                                ││ \u001b[1m   \u001b[0m\u001b[1;3mAirport__Name: \u001b[0m\u001b[1;3;38;5;214mstring\u001b[0m              │\n",
       "                                ││ \u001b[1m   \u001b[0m\u001b[1;3mAircraft__Make_Model: \u001b[0m\u001b[1;3;38;5;214mstring\u001b[0m       │\n",
       "                                ││ \u001b[1m   \u001b[0m\u001b[1;3mFlight_Date: \u001b[0m\u001b[1;3;38;5;214mstring\u001b[0m                │\n",
       "                                ││ \u001b[1m   \u001b[0m\u001b[1;3mAircraft__Airline_Operator: \u001b[0m\u001b[1;3;38;5;214mstring\u001b[0m │\n",
       "                                ││ \u001b[1m   \u001b[0m\u001b[1;3mOrigin_State: \u001b[0m\u001b[1;3;38;5;214mstring\u001b[0m               │\n",
       "                                ││ \u001b[1m   \u001b[0m\u001b[1;3mWhen__Phase_of_flight: \u001b[0m\u001b[1;3;38;5;214mstring\u001b[0m      │\n",
       "                           ╭────▶│ \u001b[1m   \u001b[0m\u001b[1;3mWildlife__Size: \u001b[0m\u001b[1;3;38;5;214mstring\u001b[0m             │\n",
       "                           │     │ \u001b[1m   \u001b[0m\u001b[1;3mWildlife__Species: \u001b[0m\u001b[1;3;38;5;214mstring\u001b[0m          │\n",
       "                           │     │ \u001b[1m   \u001b[0m\u001b[1;3mWhen__Time_of_day: \u001b[0m\u001b[1;3;38;5;214mstring\u001b[0m          │\n",
       "                           │     │ \u001b[1m   \u001b[0m\u001b[1;3mCost__Other: \u001b[0m\u001b[1;3;33mint64\u001b[0m                 │\n",
       "                           │     │ \u001b[1m   \u001b[0m\u001b[1;3mCost__Repair: \u001b[0m\u001b[1;3;33mint64\u001b[0m                │\n",
       "                           │     │ \u001b[1m   \u001b[0m\u001b[1;3mCost__Total_$: \u001b[0m\u001b[1;3;33mint64\u001b[0m               │\n",
       "                           │     │ \u001b[1m   \u001b[0m\u001b[1;3mSpeed_IAS_in_knots: \u001b[0m\u001b[1;3;33mfloat64\u001b[0m        │\n",
       "                           │     │ \u001b[1m   \u001b[0m\u001b[1;3mEffect__Amount_of_damage: \u001b[0m\u001b[1;3;38;5;214mstring\u001b[0m   │\n",
       "                           │     ╰───────────────────────────────────────╯\n",
       "                           │                         ▲                    \n",
       "                           │                         │                    \n",
       "                           │                         │                    \n",
       "                   ╭───────────────╮                 │                    \n",
       "                   │ \u001b[1mIsNull\u001b[0m        │                 │                    \n",
       "                   │ \u001b[1m   :: \u001b[0m\u001b[1;38;5;129mboolean\u001b[0m │                 │                    \n",
       "                   ╰───────────────╯                 │                    \n",
       "                           ▲                         │                    \n",
       "                           │                         │                    \n",
       "                           │                         │                    \n",
       "                           │                         │                    \n",
       "          ╭─────────────────────────────────╮        │                    \n",
       "          │ \u001b[3mEffect__Amount_of_damage: \u001b[0m\u001b[1;3mField\u001b[0m │        │                    \n",
       "          │ \u001b[3m   :: \u001b[0m\u001b[3;38;5;214mstring\u001b[0m                    │        │                    \n",
       "          ╰─────────────────────────────────╯        │                    \n",
       "                           ▲                         │                    \n",
       "                           │                         │                    \n",
       "                           │                         │                    \n",
       "                           │                         │                    \n",
       "                           │                         │                    \n",
       "                           │     ╭───────────────────────────────────────╮\n",
       "                           │     │ \u001b[3mbirdstrikes : \u001b[0m\u001b[1;3mDatabaseTable\u001b[0m           │\n",
       "                           │     │ \u001b[3m   \u001b[0m\u001b[3mAirport__Name: \u001b[0m\u001b[3;38;5;214mstring\u001b[0m              │\n",
       "                           │     │ \u001b[3m   \u001b[0m\u001b[3mAircraft__Make_Model: \u001b[0m\u001b[3;38;5;214mstring\u001b[0m       │\n",
       "                           │     │ \u001b[3m   \u001b[0m\u001b[3mFlight_Date: \u001b[0m\u001b[3;38;5;214mstring\u001b[0m                │\n",
       "                           │     │ \u001b[3m   \u001b[0m\u001b[3mAircraft__Airline_Operator: \u001b[0m\u001b[3;38;5;214mstring\u001b[0m │\n",
       "                           │     │ \u001b[3m   \u001b[0m\u001b[3mOrigin_State: \u001b[0m\u001b[3;38;5;214mstring\u001b[0m               │\n",
       "                           │     │ \u001b[3m   \u001b[0m\u001b[3mWhen__Phase_of_flight: \u001b[0m\u001b[3;38;5;214mstring\u001b[0m      │\n",
       "                           ╰─────│ \u001b[3m   \u001b[0m\u001b[3mWildlife__Size: \u001b[0m\u001b[3;38;5;214mstring\u001b[0m             │\n",
       "                                 │ \u001b[3m   \u001b[0m\u001b[3mWildlife__Species: \u001b[0m\u001b[3;38;5;214mstring\u001b[0m          │\n",
       "                                 │ \u001b[3m   \u001b[0m\u001b[3mWhen__Time_of_day: \u001b[0m\u001b[3;38;5;214mstring\u001b[0m          │\n",
       "                                 │ \u001b[3m   \u001b[0m\u001b[3mCost__Other: \u001b[0m\u001b[3;33mint64\u001b[0m                 │\n",
       "                                 │ \u001b[3m   \u001b[0m\u001b[3mCost__Repair: \u001b[0m\u001b[3;33mint64\u001b[0m                │\n",
       "                                 │ \u001b[3m   \u001b[0m\u001b[3mCost__Total_$: \u001b[0m\u001b[3;33mint64\u001b[0m               │\n",
       "                                 │ \u001b[3m   \u001b[0m\u001b[3mSpeed_IAS_in_knots: \u001b[0m\u001b[3;33mfloat64\u001b[0m        │\n",
       "                                 │ \u001b[3m   \u001b[0m\u001b[3mEffect__Amount_of_damage: \u001b[0m\u001b[3;38;5;214mstring\u001b[0m   │\n",
       "                                 ╰───────────────────────────────────────╯\n"
      ]
     },
     "metadata": {},
     "output_type": "display_data"
    }
   ],
   "source": [
    "# | echo: false\n",
    "b.visualize()"
   ]
  },
  {
   "cell_type": "markdown",
   "id": "fa1d3096",
   "metadata": {},
   "source": [
    ":::"
   ]
  },
  {
   "cell_type": "markdown",
   "id": "ff3430de",
   "metadata": {
    "lines_to_next_cell": 2
   },
   "source": [
    "</Accordion>"
   ]
  },
  {
   "cell_type": "markdown",
   "id": "2adef336",
   "metadata": {},
   "source": [
    "<Accordion title=\"Functions\">"
   ]
  },
  {
   "cell_type": "code",
   "execution_count": 13,
   "id": "c0a5f858",
   "metadata": {
    "execution": {
     "iopub.execute_input": "2024-03-07T00:36:41.808613Z",
     "iopub.status.busy": "2024-03-07T00:36:41.808540Z",
     "iopub.status.idle": "2024-03-07T00:36:41.817787Z",
     "shell.execute_reply": "2024-03-07T00:36:41.817588Z"
    }
   },
   "outputs": [],
   "source": [
    "# | echo: false\n",
    "from vinyl.examples import iris\n",
    "\n",
    "iris = iris()"
   ]
  },
  {
   "cell_type": "code",
   "execution_count": 14,
   "id": "5f1a82fa",
   "metadata": {
    "execution": {
     "iopub.execute_input": "2024-03-07T00:36:41.819008Z",
     "iopub.status.busy": "2024-03-07T00:36:41.818941Z",
     "iopub.status.idle": "2024-03-07T00:36:41.822159Z",
     "shell.execute_reply": "2024-03-07T00:36:41.821956Z"
    }
   },
   "outputs": [],
   "source": [
    "def perimeter(x, y):\n",
    "    return 2 * (x + y)\n",
    "\n",
    "\n",
    "with iris as i:\n",
    "    i.define({\"petalPerimeter\": perimeter(i.petalLength, i.petalWidth)})"
   ]
  },
  {
   "cell_type": "markdown",
   "id": "93814597",
   "metadata": {},
   "source": [
    "::: {.panel-tabset}"
   ]
  },
  {
   "cell_type": "markdown",
   "id": "b51052fd",
   "metadata": {},
   "source": [
    "#### SQL\n"
   ]
  },
  {
   "cell_type": "code",
   "execution_count": 15,
   "id": "04a43b77",
   "metadata": {
    "execution": {
     "iopub.execute_input": "2024-03-07T00:36:41.823376Z",
     "iopub.status.busy": "2024-03-07T00:36:41.823310Z",
     "iopub.status.idle": "2024-03-07T00:36:41.827604Z",
     "shell.execute_reply": "2024-03-07T00:36:41.827404Z"
    }
   },
   "outputs": [
    {
     "data": {
      "text/html": [
       "<pre style=\"white-space:pre;overflow-x:auto;line-height:normal;font-family:Menlo,'DejaVu Sans Mono',consolas,'Courier New',monospace\">SELECT\n",
       "  <span style=\"color: #008000; text-decoration-color: #008000\">\"t0\"</span>.<span style=\"color: #008000; text-decoration-color: #008000\">\"sepalLength\"</span>,\n",
       "  <span style=\"color: #008000; text-decoration-color: #008000\">\"t0\"</span>.<span style=\"color: #008000; text-decoration-color: #008000\">\"sepalWidth\"</span>,\n",
       "  <span style=\"color: #008000; text-decoration-color: #008000\">\"t0\"</span>.<span style=\"color: #008000; text-decoration-color: #008000\">\"petalLength\"</span>,\n",
       "  <span style=\"color: #008000; text-decoration-color: #008000\">\"t0\"</span>.<span style=\"color: #008000; text-decoration-color: #008000\">\"petalWidth\"</span>,\n",
       "  <span style=\"color: #008000; text-decoration-color: #008000\">\"t0\"</span>.<span style=\"color: #008000; text-decoration-color: #008000\">\"species\"</span>,\n",
       "  <span style=\"font-weight: bold\">(</span>\n",
       "    <span style=\"color: #008000; text-decoration-color: #008000\">\"t0\"</span>.<span style=\"color: #008000; text-decoration-color: #008000\">\"petalLength\"</span> + <span style=\"color: #008000; text-decoration-color: #008000\">\"t0\"</span>.<span style=\"color: #008000; text-decoration-color: #008000\">\"petalWidth\"</span>\n",
       "  <span style=\"font-weight: bold\">)</span> * <span style=\"color: #800080; text-decoration-color: #800080; font-weight: bold\">CAST</span><span style=\"font-weight: bold\">(</span><span style=\"color: #008080; text-decoration-color: #008080; font-weight: bold\">2</span> AS TINYINT<span style=\"font-weight: bold\">)</span> AS <span style=\"color: #008000; text-decoration-color: #008000\">\"petalPerimeter\"</span>\n",
       "FROM <span style=\"color: #008000; text-decoration-color: #008000\">\"iris\"</span> AS <span style=\"color: #008000; text-decoration-color: #008000\">\"t0\"</span>\n",
       "</pre>\n"
      ],
      "text/plain": [
       "SELECT\n",
       "  \u001b[32m\"t0\"\u001b[0m.\u001b[32m\"sepalLength\"\u001b[0m,\n",
       "  \u001b[32m\"t0\"\u001b[0m.\u001b[32m\"sepalWidth\"\u001b[0m,\n",
       "  \u001b[32m\"t0\"\u001b[0m.\u001b[32m\"petalLength\"\u001b[0m,\n",
       "  \u001b[32m\"t0\"\u001b[0m.\u001b[32m\"petalWidth\"\u001b[0m,\n",
       "  \u001b[32m\"t0\"\u001b[0m.\u001b[32m\"species\"\u001b[0m,\n",
       "  \u001b[1m(\u001b[0m\n",
       "    \u001b[32m\"t0\"\u001b[0m.\u001b[32m\"petalLength\"\u001b[0m + \u001b[32m\"t0\"\u001b[0m.\u001b[32m\"petalWidth\"\u001b[0m\n",
       "  \u001b[1m)\u001b[0m * \u001b[1;35mCAST\u001b[0m\u001b[1m(\u001b[0m\u001b[1;36m2\u001b[0m AS TINYINT\u001b[1m)\u001b[0m AS \u001b[32m\"petalPerimeter\"\u001b[0m\n",
       "FROM \u001b[32m\"iris\"\u001b[0m AS \u001b[32m\"t0\"\u001b[0m\n"
      ]
     },
     "metadata": {},
     "output_type": "display_data"
    }
   ],
   "source": [
    "# | echo: false\n",
    "print(i.to_sql(optimized=True))"
   ]
  },
  {
   "cell_type": "markdown",
   "id": "ffc25472",
   "metadata": {},
   "source": [
    "#### Result"
   ]
  },
  {
   "cell_type": "code",
   "execution_count": 16,
   "id": "c03d064a",
   "metadata": {
    "execution": {
     "iopub.execute_input": "2024-03-07T00:36:41.828862Z",
     "iopub.status.busy": "2024-03-07T00:36:41.828791Z",
     "iopub.status.idle": "2024-03-07T00:36:41.836520Z",
     "shell.execute_reply": "2024-03-07T00:36:41.836311Z"
    }
   },
   "outputs": [
    {
     "data": {
      "text/html": [
       "<pre style=\"white-space:pre;overflow-x:auto;line-height:normal;font-family:Menlo,'DejaVu Sans Mono',consolas,'Courier New',monospace\">┏━━━━━━━━━━━━━┳━━━━━━━━━━━━┳━━━━━━━━━━━━━┳━━━━━━━━━━━━┳━━━━━━━━━┳━━━━━━━━━━━━━━━━┓\n",
       "┃<span style=\"font-weight: bold\"> sepalLength </span>┃<span style=\"font-weight: bold\"> sepalWidth </span>┃<span style=\"font-weight: bold\"> petalLength </span>┃<span style=\"font-weight: bold\"> petalWidth </span>┃<span style=\"font-weight: bold\"> species </span>┃<span style=\"font-weight: bold\"> petalPerimeter </span>┃\n",
       "┡━━━━━━━━━━━━━╇━━━━━━━━━━━━╇━━━━━━━━━━━━━╇━━━━━━━━━━━━╇━━━━━━━━━╇━━━━━━━━━━━━━━━━┩\n",
       "│ <span style=\"color: #7f7f7f; text-decoration-color: #7f7f7f\">float64</span>     │ <span style=\"color: #7f7f7f; text-decoration-color: #7f7f7f\">float64</span>    │ <span style=\"color: #7f7f7f; text-decoration-color: #7f7f7f\">float64</span>     │ <span style=\"color: #7f7f7f; text-decoration-color: #7f7f7f\">float64</span>    │ <span style=\"color: #7f7f7f; text-decoration-color: #7f7f7f\">string</span>  │ <span style=\"color: #7f7f7f; text-decoration-color: #7f7f7f\">float64</span>        │\n",
       "├─────────────┼────────────┼─────────────┼────────────┼─────────┼────────────────┤\n",
       "│         <span style=\"color: #008080; text-decoration-color: #008080; font-weight: bold\">5.1</span> │        <span style=\"color: #008080; text-decoration-color: #008080; font-weight: bold\">3.5</span> │         <span style=\"color: #008080; text-decoration-color: #008080; font-weight: bold\">1.4</span> │        <span style=\"color: #008080; text-decoration-color: #008080; font-weight: bold\">0.2</span> │ <span style=\"color: #008000; text-decoration-color: #008000\">setosa </span> │            <span style=\"color: #008080; text-decoration-color: #008080; font-weight: bold\">3.2</span> │\n",
       "│         <span style=\"color: #008080; text-decoration-color: #008080; font-weight: bold\">4.9</span> │        <span style=\"color: #008080; text-decoration-color: #008080; font-weight: bold\">3.0</span> │         <span style=\"color: #008080; text-decoration-color: #008080; font-weight: bold\">1.4</span> │        <span style=\"color: #008080; text-decoration-color: #008080; font-weight: bold\">0.2</span> │ <span style=\"color: #008000; text-decoration-color: #008000\">setosa </span> │            <span style=\"color: #008080; text-decoration-color: #008080; font-weight: bold\">3.2</span> │\n",
       "│         <span style=\"color: #008080; text-decoration-color: #008080; font-weight: bold\">4.7</span> │        <span style=\"color: #008080; text-decoration-color: #008080; font-weight: bold\">3.2</span> │         <span style=\"color: #008080; text-decoration-color: #008080; font-weight: bold\">1.3</span> │        <span style=\"color: #008080; text-decoration-color: #008080; font-weight: bold\">0.2</span> │ <span style=\"color: #008000; text-decoration-color: #008000\">setosa </span> │            <span style=\"color: #008080; text-decoration-color: #008080; font-weight: bold\">3.0</span> │\n",
       "│         <span style=\"color: #008080; text-decoration-color: #008080; font-weight: bold\">4.6</span> │        <span style=\"color: #008080; text-decoration-color: #008080; font-weight: bold\">3.1</span> │         <span style=\"color: #008080; text-decoration-color: #008080; font-weight: bold\">1.5</span> │        <span style=\"color: #008080; text-decoration-color: #008080; font-weight: bold\">0.2</span> │ <span style=\"color: #008000; text-decoration-color: #008000\">setosa </span> │            <span style=\"color: #008080; text-decoration-color: #008080; font-weight: bold\">3.4</span> │\n",
       "│         <span style=\"color: #008080; text-decoration-color: #008080; font-weight: bold\">5.0</span> │        <span style=\"color: #008080; text-decoration-color: #008080; font-weight: bold\">3.6</span> │         <span style=\"color: #008080; text-decoration-color: #008080; font-weight: bold\">1.4</span> │        <span style=\"color: #008080; text-decoration-color: #008080; font-weight: bold\">0.2</span> │ <span style=\"color: #008000; text-decoration-color: #008000\">setosa </span> │            <span style=\"color: #008080; text-decoration-color: #008080; font-weight: bold\">3.2</span> │\n",
       "│         <span style=\"color: #008080; text-decoration-color: #008080; font-weight: bold\">5.4</span> │        <span style=\"color: #008080; text-decoration-color: #008080; font-weight: bold\">3.9</span> │         <span style=\"color: #008080; text-decoration-color: #008080; font-weight: bold\">1.7</span> │        <span style=\"color: #008080; text-decoration-color: #008080; font-weight: bold\">0.4</span> │ <span style=\"color: #008000; text-decoration-color: #008000\">setosa </span> │            <span style=\"color: #008080; text-decoration-color: #008080; font-weight: bold\">4.2</span> │\n",
       "│         <span style=\"color: #008080; text-decoration-color: #008080; font-weight: bold\">4.6</span> │        <span style=\"color: #008080; text-decoration-color: #008080; font-weight: bold\">3.4</span> │         <span style=\"color: #008080; text-decoration-color: #008080; font-weight: bold\">1.4</span> │        <span style=\"color: #008080; text-decoration-color: #008080; font-weight: bold\">0.3</span> │ <span style=\"color: #008000; text-decoration-color: #008000\">setosa </span> │            <span style=\"color: #008080; text-decoration-color: #008080; font-weight: bold\">3.4</span> │\n",
       "│         <span style=\"color: #008080; text-decoration-color: #008080; font-weight: bold\">5.0</span> │        <span style=\"color: #008080; text-decoration-color: #008080; font-weight: bold\">3.4</span> │         <span style=\"color: #008080; text-decoration-color: #008080; font-weight: bold\">1.5</span> │        <span style=\"color: #008080; text-decoration-color: #008080; font-weight: bold\">0.2</span> │ <span style=\"color: #008000; text-decoration-color: #008000\">setosa </span> │            <span style=\"color: #008080; text-decoration-color: #008080; font-weight: bold\">3.4</span> │\n",
       "│         <span style=\"color: #008080; text-decoration-color: #008080; font-weight: bold\">4.4</span> │        <span style=\"color: #008080; text-decoration-color: #008080; font-weight: bold\">2.9</span> │         <span style=\"color: #008080; text-decoration-color: #008080; font-weight: bold\">1.4</span> │        <span style=\"color: #008080; text-decoration-color: #008080; font-weight: bold\">0.2</span> │ <span style=\"color: #008000; text-decoration-color: #008000\">setosa </span> │            <span style=\"color: #008080; text-decoration-color: #008080; font-weight: bold\">3.2</span> │\n",
       "│         <span style=\"color: #008080; text-decoration-color: #008080; font-weight: bold\">4.9</span> │        <span style=\"color: #008080; text-decoration-color: #008080; font-weight: bold\">3.1</span> │         <span style=\"color: #008080; text-decoration-color: #008080; font-weight: bold\">1.5</span> │        <span style=\"color: #008080; text-decoration-color: #008080; font-weight: bold\">0.1</span> │ <span style=\"color: #008000; text-decoration-color: #008000\">setosa </span> │            <span style=\"color: #008080; text-decoration-color: #008080; font-weight: bold\">3.2</span> │\n",
       "│           <span style=\"color: #7f7f7f; text-decoration-color: #7f7f7f\">…</span> │          <span style=\"color: #7f7f7f; text-decoration-color: #7f7f7f\">…</span> │           <span style=\"color: #7f7f7f; text-decoration-color: #7f7f7f\">…</span> │          <span style=\"color: #7f7f7f; text-decoration-color: #7f7f7f\">…</span> │ <span style=\"color: #7f7f7f; text-decoration-color: #7f7f7f\">…</span>       │              <span style=\"color: #7f7f7f; text-decoration-color: #7f7f7f\">…</span> │\n",
       "└─────────────┴────────────┴─────────────┴────────────┴─────────┴────────────────┘\n",
       "</pre>\n"
      ],
      "text/plain": [
       "┏━━━━━━━━━━━━━┳━━━━━━━━━━━━┳━━━━━━━━━━━━━┳━━━━━━━━━━━━┳━━━━━━━━━┳━━━━━━━━━━━━━━━━┓\n",
       "┃\u001b[1m \u001b[0m\u001b[1msepalLength\u001b[0m\u001b[1m \u001b[0m┃\u001b[1m \u001b[0m\u001b[1msepalWidth\u001b[0m\u001b[1m \u001b[0m┃\u001b[1m \u001b[0m\u001b[1mpetalLength\u001b[0m\u001b[1m \u001b[0m┃\u001b[1m \u001b[0m\u001b[1mpetalWidth\u001b[0m\u001b[1m \u001b[0m┃\u001b[1m \u001b[0m\u001b[1mspecies\u001b[0m\u001b[1m \u001b[0m┃\u001b[1m \u001b[0m\u001b[1mpetalPerimeter\u001b[0m\u001b[1m \u001b[0m┃\n",
       "┡━━━━━━━━━━━━━╇━━━━━━━━━━━━╇━━━━━━━━━━━━━╇━━━━━━━━━━━━╇━━━━━━━━━╇━━━━━━━━━━━━━━━━┩\n",
       "│ \u001b[2mfloat64\u001b[0m     │ \u001b[2mfloat64\u001b[0m    │ \u001b[2mfloat64\u001b[0m     │ \u001b[2mfloat64\u001b[0m    │ \u001b[2mstring\u001b[0m  │ \u001b[2mfloat64\u001b[0m        │\n",
       "├─────────────┼────────────┼─────────────┼────────────┼─────────┼────────────────┤\n",
       "│         \u001b[1;36m5.1\u001b[0m │        \u001b[1;36m3.5\u001b[0m │         \u001b[1;36m1.4\u001b[0m │        \u001b[1;36m0.2\u001b[0m │ \u001b[32msetosa \u001b[0m │            \u001b[1;36m3.2\u001b[0m │\n",
       "│         \u001b[1;36m4.9\u001b[0m │        \u001b[1;36m3.0\u001b[0m │         \u001b[1;36m1.4\u001b[0m │        \u001b[1;36m0.2\u001b[0m │ \u001b[32msetosa \u001b[0m │            \u001b[1;36m3.2\u001b[0m │\n",
       "│         \u001b[1;36m4.7\u001b[0m │        \u001b[1;36m3.2\u001b[0m │         \u001b[1;36m1.3\u001b[0m │        \u001b[1;36m0.2\u001b[0m │ \u001b[32msetosa \u001b[0m │            \u001b[1;36m3.0\u001b[0m │\n",
       "│         \u001b[1;36m4.6\u001b[0m │        \u001b[1;36m3.1\u001b[0m │         \u001b[1;36m1.5\u001b[0m │        \u001b[1;36m0.2\u001b[0m │ \u001b[32msetosa \u001b[0m │            \u001b[1;36m3.4\u001b[0m │\n",
       "│         \u001b[1;36m5.0\u001b[0m │        \u001b[1;36m3.6\u001b[0m │         \u001b[1;36m1.4\u001b[0m │        \u001b[1;36m0.2\u001b[0m │ \u001b[32msetosa \u001b[0m │            \u001b[1;36m3.2\u001b[0m │\n",
       "│         \u001b[1;36m5.4\u001b[0m │        \u001b[1;36m3.9\u001b[0m │         \u001b[1;36m1.7\u001b[0m │        \u001b[1;36m0.4\u001b[0m │ \u001b[32msetosa \u001b[0m │            \u001b[1;36m4.2\u001b[0m │\n",
       "│         \u001b[1;36m4.6\u001b[0m │        \u001b[1;36m3.4\u001b[0m │         \u001b[1;36m1.4\u001b[0m │        \u001b[1;36m0.3\u001b[0m │ \u001b[32msetosa \u001b[0m │            \u001b[1;36m3.4\u001b[0m │\n",
       "│         \u001b[1;36m5.0\u001b[0m │        \u001b[1;36m3.4\u001b[0m │         \u001b[1;36m1.5\u001b[0m │        \u001b[1;36m0.2\u001b[0m │ \u001b[32msetosa \u001b[0m │            \u001b[1;36m3.4\u001b[0m │\n",
       "│         \u001b[1;36m4.4\u001b[0m │        \u001b[1;36m2.9\u001b[0m │         \u001b[1;36m1.4\u001b[0m │        \u001b[1;36m0.2\u001b[0m │ \u001b[32msetosa \u001b[0m │            \u001b[1;36m3.2\u001b[0m │\n",
       "│         \u001b[1;36m4.9\u001b[0m │        \u001b[1;36m3.1\u001b[0m │         \u001b[1;36m1.5\u001b[0m │        \u001b[1;36m0.1\u001b[0m │ \u001b[32msetosa \u001b[0m │            \u001b[1;36m3.2\u001b[0m │\n",
       "│           \u001b[2m…\u001b[0m │          \u001b[2m…\u001b[0m │           \u001b[2m…\u001b[0m │          \u001b[2m…\u001b[0m │ \u001b[2m…\u001b[0m       │              \u001b[2m…\u001b[0m │\n",
       "└─────────────┴────────────┴─────────────┴────────────┴─────────┴────────────────┘\n"
      ]
     },
     "metadata": {},
     "output_type": "display_data"
    }
   ],
   "source": [
    "# | echo: false\n",
    "print(i.execute(\"text\"))"
   ]
  },
  {
   "cell_type": "markdown",
   "id": "f282d566",
   "metadata": {},
   "source": [
    "#### AST"
   ]
  },
  {
   "cell_type": "code",
   "execution_count": 17,
   "id": "5a6a5fd8",
   "metadata": {
    "execution": {
     "iopub.execute_input": "2024-03-07T00:36:41.837663Z",
     "iopub.status.busy": "2024-03-07T00:36:41.837597Z",
     "iopub.status.idle": "2024-03-07T00:36:41.839696Z",
     "shell.execute_reply": "2024-03-07T00:36:41.839472Z"
    }
   },
   "outputs": [
    {
     "data": {
      "text/plain": [
       "r0 := DatabaseTable: iris\n",
       "  sepalLength float64\n",
       "  sepalWidth  float64\n",
       "  petalLength float64\n",
       "  petalWidth  float64\n",
       "  species     string\n",
       "\n",
       "Project[r0]\n",
       "  sepalLength:    r0.sepalLength\n",
       "  sepalWidth:     r0.sepalWidth\n",
       "  petalLength:    r0.petalLength\n",
       "  petalWidth:     r0.petalWidth\n",
       "  species:        r0.species\n",
       "  petalPerimeter: r0.petalLength + r0.petalWidth * 2"
      ]
     },
     "execution_count": 17,
     "metadata": {},
     "output_type": "execute_result"
    }
   ],
   "source": [
    "# | echo: false\n",
    "i"
   ]
  },
  {
   "cell_type": "markdown",
   "id": "bcc07abb",
   "metadata": {},
   "source": [
    "#### AST graph\n"
   ]
  },
  {
   "cell_type": "code",
   "execution_count": 18,
   "id": "54afa791",
   "metadata": {
    "execution": {
     "iopub.execute_input": "2024-03-07T00:36:41.840940Z",
     "iopub.status.busy": "2024-03-07T00:36:41.840877Z",
     "iopub.status.idle": "2024-03-07T00:36:41.842765Z",
     "shell.execute_reply": "2024-03-07T00:36:41.842568Z"
    }
   },
   "outputs": [
    {
     "data": {
      "text/html": [
       "<style>.container { width:100% !important; }</style>"
      ],
      "text/plain": [
       "<IPython.core.display.HTML object>"
      ]
     },
     "execution_count": 18,
     "metadata": {},
     "output_type": "execute_result"
    }
   ],
   "source": [
    "from IPython.display import HTML\n",
    "\n",
    "HTML(\"<style>.container { width:100% !important; }</style>\")"
   ]
  },
  {
   "cell_type": "code",
   "execution_count": 19,
   "id": "c50f0229",
   "metadata": {
    "execution": {
     "iopub.execute_input": "2024-03-07T00:36:41.844029Z",
     "iopub.status.busy": "2024-03-07T00:36:41.843964Z",
     "iopub.status.idle": "2024-03-07T00:36:42.954246Z",
     "shell.execute_reply": "2024-03-07T00:36:42.953930Z"
    }
   },
   "outputs": [
    {
     "data": {
      "text/html": [
       "<pre style=\"white-space:pre;overflow-x:auto;line-height:normal;font-family:Menlo,'DejaVu Sans Mono',consolas,'Courier New',monospace\">                                                                                                                           ╭────────────────────────────╮                                                                   \n",
       "                                                                                                                           │ <span style=\"font-weight: bold\">Project</span>                    │                                                                   \n",
       "                                                                                                                           │ <span style=\"font-weight: bold\">   </span><span style=\"font-weight: bold; font-style: italic\">sepalLength: </span><span style=\"color: #808000; text-decoration-color: #808000; font-weight: bold; font-style: italic\">float64</span>    │                                                                   \n",
       "                                                                                                                           │ <span style=\"font-weight: bold\">   </span><span style=\"font-weight: bold; font-style: italic\">sepalWidth: </span><span style=\"color: #808000; text-decoration-color: #808000; font-weight: bold; font-style: italic\">float64</span>     │                                                                   \n",
       "           ╭──────────────────────────────────────────────────────────────────────────────────────────────────────────────▶│ <span style=\"font-weight: bold\">   </span><span style=\"font-weight: bold; font-style: italic\">petalLength: </span><span style=\"color: #808000; text-decoration-color: #808000; font-weight: bold; font-style: italic\">float64</span>    │◀───────────────────────────────────────────────────────╮          \n",
       "           │                                                                                                               │ <span style=\"font-weight: bold\">   </span><span style=\"font-weight: bold; font-style: italic\">petalWidth: </span><span style=\"color: #808000; text-decoration-color: #808000; font-weight: bold; font-style: italic\">float64</span>     │ │                                                      │          \n",
       "           │                                                                                                               │ <span style=\"font-weight: bold\">   </span><span style=\"font-weight: bold; font-style: italic\">species: </span><span style=\"color: #ffaf00; text-decoration-color: #ffaf00; font-weight: bold; font-style: italic\">string</span>         │ │                                                      │          \n",
       "           │                                                                                                    ╭─────────▶│ <span style=\"font-weight: bold\">   </span><span style=\"font-weight: bold; font-style: italic\">petalPerimeter: </span><span style=\"color: #808000; text-decoration-color: #808000; font-weight: bold; font-style: italic\">float64</span> │ │                                                      │          \n",
       "           │                                                                                                    │          ╰────────────────────────────╯ │                                                      │          \n",
       "           │                                                                                                    │               ▲         ▲               │                                                      │          \n",
       "           │                                      ╭───────────────────────────────────────────────────────────────────────────────────────│               │                                                      │          \n",
       "           │                                      │                                                             │               │         │               │                                                      │          \n",
       "           │                                      │                                                 ╭───────────╯               │         │               │                                                      │          \n",
       "╭────────────────────╮                  ╭───────────────────╮                 ╭────────────────╮    │          ╭───────────────╮│         │               │                                                      │          \n",
       "│ <span style=\"font-style: italic\">sepalLength: </span><span style=\"font-weight: bold; font-style: italic\">Field</span> │                  │ <span style=\"font-style: italic\">sepalWidth: </span><span style=\"font-weight: bold; font-style: italic\">Field</span> │                 │ <span style=\"font-style: italic\">species: </span><span style=\"font-weight: bold; font-style: italic\">Field</span> │    │          │ <span style=\"font-weight: bold\">Multiply</span>      ││         │               │                                                      │          \n",
       "│ <span style=\"font-style: italic\">   :: </span><span style=\"color: #808000; text-decoration-color: #808000; font-style: italic\">float64</span>      │                  │ <span style=\"font-style: italic\">   :: </span><span style=\"color: #808000; text-decoration-color: #808000; font-style: italic\">float64</span>     │                 │ <span style=\"font-style: italic\">   :: </span><span style=\"color: #ffaf00; text-decoration-color: #ffaf00; font-style: italic\">string</span>   │────╯          │ <span style=\"font-weight: bold\">   :: </span><span style=\"color: #808000; text-decoration-color: #808000; font-weight: bold\">float64</span> │◀─────────│───────────────│───────────────────────────────────╮                  │          \n",
       "╰────────────────────╯                  ╰───────────────────╯                 ╰────────────────╯               ╰───────────────╯          │               │                                   │                  │          \n",
       "           ▲                                      ▲                                    ▲                               ▲                  │               │                                   │                  │          \n",
       "           │                                      │                                    │                               │                  │               │                                   │                  │          \n",
       "           │                                      │                                    │                               │                  │               │                                   │                  │          \n",
       "           │                                      │                                    │                               │                  │               │                                   │                  │          \n",
       "           │                                      │                                    │                        ╭────────────╮            │               │                           ╭───────────────╮          │          \n",
       "           │                                      │                                    ╰────────────╮           │ <span style=\"font-style: italic\">2: </span><span style=\"font-weight: bold; font-style: italic\">Literal</span> │            │               │                           │ <span style=\"font-weight: bold\">Add</span>           │          │          \n",
       "           │                                      │                                                 │           │ <span style=\"font-style: italic\">   :: </span><span style=\"color: #808000; text-decoration-color: #808000; font-style: italic\">int8</span> │            │               │                ╭─────────▶│ <span style=\"font-weight: bold\">   :: </span><span style=\"color: #808000; text-decoration-color: #808000; font-weight: bold\">float64</span> │          │          \n",
       "           │                                      │                                                 │           ╰────────────╯            │               │                │          ╰───────────────╯          │          \n",
       "           │                                      │                                                 │                                     │               │                │                  ▲                  │          \n",
       "           │                                      │                                                 │                                     │               │                │                  │                  │          \n",
       "           │                                      │                                                 │                                     │               │                │                  │                  │          \n",
       "           │                                      ╰───────────────────────────────────────────╮     ╰────────────────────────╮            │               │                │                  │                  │          \n",
       "           │                                                                                  │                              │            │               │      ╭───────────────────╮        │       ╭────────────────────╮\n",
       "           │                                                                                  │                              │            │               │      │ <span style=\"font-style: italic\">petalWidth: </span><span style=\"font-weight: bold; font-style: italic\">Field</span> │        │       │ <span style=\"font-style: italic\">petalLength: </span><span style=\"font-weight: bold; font-style: italic\">Field</span> │\n",
       "           │                                                                                  │                              │            │               ╰──────│ <span style=\"font-style: italic\">   :: </span><span style=\"color: #808000; text-decoration-color: #808000; font-style: italic\">float64</span>     │        ╰───────│ <span style=\"font-style: italic\">   :: </span><span style=\"color: #808000; text-decoration-color: #808000; font-style: italic\">float64</span>      │\n",
       "           │                                                                                  │                              │            │                      ╰───────────────────╯                ╰────────────────────╯\n",
       "           │                                                                                  │                              │            │                                ▲                                     ▲          \n",
       "           │                                                                                  ╰─────────────────────╮        │            │                                │                                     │          \n",
       "           │                                                                                                        │        │            │                                │                                     │          \n",
       "           │                                                                                                        │        │            │────────────────────────────────╯                                     │          \n",
       "           │                                                                                                        │        ╭─────────────────────────╮                                                         │          \n",
       "           │                                                                                                        ╰────────│ <span style=\"font-style: italic\">iris: </span><span style=\"font-weight: bold; font-style: italic\">DatabaseTable</span>     │                                                         │          \n",
       "           │                                                                                                                 │ <span style=\"font-style: italic\">   sepalLength: </span><span style=\"color: #808000; text-decoration-color: #808000; font-style: italic\">float64</span> │                                                         │          \n",
       "           │                                                                                                                 │ <span style=\"font-style: italic\">   sepalWidth: </span><span style=\"color: #808000; text-decoration-color: #808000; font-style: italic\">float64</span>  │                                                         │          \n",
       "           ╰─────────────────────────────────────────────────────────────────────────────────────────────────────────────────│ <span style=\"font-style: italic\">   petalLength: </span><span style=\"color: #808000; text-decoration-color: #808000; font-style: italic\">float64</span> │─────────────────────────────────────────────────────────╯          \n",
       "                                                                                                                             │ <span style=\"font-style: italic\">   petalWidth: </span><span style=\"color: #808000; text-decoration-color: #808000; font-style: italic\">float64</span>  │                                                                    \n",
       "                                                                                                                             │ <span style=\"font-style: italic\">   species: </span><span style=\"color: #ffaf00; text-decoration-color: #ffaf00; font-style: italic\">string</span>      │                                                                    \n",
       "                                                                                                                             ╰─────────────────────────╯                                                                    \n",
       "</pre>\n"
      ],
      "text/plain": [
       "                                                                                                                           ╭────────────────────────────╮                                                                   \n",
       "                                                                                                                           │ \u001b[1mProject\u001b[0m                    │                                                                   \n",
       "                                                                                                                           │ \u001b[1m   \u001b[0m\u001b[1;3msepalLength: \u001b[0m\u001b[1;3;33mfloat64\u001b[0m    │                                                                   \n",
       "                                                                                                                           │ \u001b[1m   \u001b[0m\u001b[1;3msepalWidth: \u001b[0m\u001b[1;3;33mfloat64\u001b[0m     │                                                                   \n",
       "           ╭──────────────────────────────────────────────────────────────────────────────────────────────────────────────▶│ \u001b[1m   \u001b[0m\u001b[1;3mpetalLength: \u001b[0m\u001b[1;3;33mfloat64\u001b[0m    │◀───────────────────────────────────────────────────────╮          \n",
       "           │                                                                                                               │ \u001b[1m   \u001b[0m\u001b[1;3mpetalWidth: \u001b[0m\u001b[1;3;33mfloat64\u001b[0m     │ │                                                      │          \n",
       "           │                                                                                                               │ \u001b[1m   \u001b[0m\u001b[1;3mspecies: \u001b[0m\u001b[1;3;38;5;214mstring\u001b[0m         │ │                                                      │          \n",
       "           │                                                                                                    ╭─────────▶│ \u001b[1m   \u001b[0m\u001b[1;3mpetalPerimeter: \u001b[0m\u001b[1;3;33mfloat64\u001b[0m │ │                                                      │          \n",
       "           │                                                                                                    │          ╰────────────────────────────╯ │                                                      │          \n",
       "           │                                                                                                    │               ▲         ▲               │                                                      │          \n",
       "           │                                      ╭───────────────────────────────────────────────────────────────────────────────────────│               │                                                      │          \n",
       "           │                                      │                                                             │               │         │               │                                                      │          \n",
       "           │                                      │                                                 ╭───────────╯               │         │               │                                                      │          \n",
       "╭────────────────────╮                  ╭───────────────────╮                 ╭────────────────╮    │          ╭───────────────╮│         │               │                                                      │          \n",
       "│ \u001b[3msepalLength: \u001b[0m\u001b[1;3mField\u001b[0m │                  │ \u001b[3msepalWidth: \u001b[0m\u001b[1;3mField\u001b[0m │                 │ \u001b[3mspecies: \u001b[0m\u001b[1;3mField\u001b[0m │    │          │ \u001b[1mMultiply\u001b[0m      ││         │               │                                                      │          \n",
       "│ \u001b[3m   :: \u001b[0m\u001b[3;33mfloat64\u001b[0m      │                  │ \u001b[3m   :: \u001b[0m\u001b[3;33mfloat64\u001b[0m     │                 │ \u001b[3m   :: \u001b[0m\u001b[3;38;5;214mstring\u001b[0m   │────╯          │ \u001b[1m   :: \u001b[0m\u001b[1;33mfloat64\u001b[0m │◀─────────│───────────────│───────────────────────────────────╮                  │          \n",
       "╰────────────────────╯                  ╰───────────────────╯                 ╰────────────────╯               ╰───────────────╯          │               │                                   │                  │          \n",
       "           ▲                                      ▲                                    ▲                               ▲                  │               │                                   │                  │          \n",
       "           │                                      │                                    │                               │                  │               │                                   │                  │          \n",
       "           │                                      │                                    │                               │                  │               │                                   │                  │          \n",
       "           │                                      │                                    │                               │                  │               │                                   │                  │          \n",
       "           │                                      │                                    │                        ╭────────────╮            │               │                           ╭───────────────╮          │          \n",
       "           │                                      │                                    ╰────────────╮           │ \u001b[3m2: \u001b[0m\u001b[1;3mLiteral\u001b[0m │            │               │                           │ \u001b[1mAdd\u001b[0m           │          │          \n",
       "           │                                      │                                                 │           │ \u001b[3m   :: \u001b[0m\u001b[3;33mint8\u001b[0m │            │               │                ╭─────────▶│ \u001b[1m   :: \u001b[0m\u001b[1;33mfloat64\u001b[0m │          │          \n",
       "           │                                      │                                                 │           ╰────────────╯            │               │                │          ╰───────────────╯          │          \n",
       "           │                                      │                                                 │                                     │               │                │                  ▲                  │          \n",
       "           │                                      │                                                 │                                     │               │                │                  │                  │          \n",
       "           │                                      │                                                 │                                     │               │                │                  │                  │          \n",
       "           │                                      ╰───────────────────────────────────────────╮     ╰────────────────────────╮            │               │                │                  │                  │          \n",
       "           │                                                                                  │                              │            │               │      ╭───────────────────╮        │       ╭────────────────────╮\n",
       "           │                                                                                  │                              │            │               │      │ \u001b[3mpetalWidth: \u001b[0m\u001b[1;3mField\u001b[0m │        │       │ \u001b[3mpetalLength: \u001b[0m\u001b[1;3mField\u001b[0m │\n",
       "           │                                                                                  │                              │            │               ╰──────│ \u001b[3m   :: \u001b[0m\u001b[3;33mfloat64\u001b[0m     │        ╰───────│ \u001b[3m   :: \u001b[0m\u001b[3;33mfloat64\u001b[0m      │\n",
       "           │                                                                                  │                              │            │                      ╰───────────────────╯                ╰────────────────────╯\n",
       "           │                                                                                  │                              │            │                                ▲                                     ▲          \n",
       "           │                                                                                  ╰─────────────────────╮        │            │                                │                                     │          \n",
       "           │                                                                                                        │        │            │                                │                                     │          \n",
       "           │                                                                                                        │        │            │────────────────────────────────╯                                     │          \n",
       "           │                                                                                                        │        ╭─────────────────────────╮                                                         │          \n",
       "           │                                                                                                        ╰────────│ \u001b[3miris: \u001b[0m\u001b[1;3mDatabaseTable\u001b[0m     │                                                         │          \n",
       "           │                                                                                                                 │ \u001b[3m   \u001b[0m\u001b[3msepalLength: \u001b[0m\u001b[3;33mfloat64\u001b[0m │                                                         │          \n",
       "           │                                                                                                                 │ \u001b[3m   \u001b[0m\u001b[3msepalWidth: \u001b[0m\u001b[3;33mfloat64\u001b[0m  │                                                         │          \n",
       "           ╰─────────────────────────────────────────────────────────────────────────────────────────────────────────────────│ \u001b[3m   \u001b[0m\u001b[3mpetalLength: \u001b[0m\u001b[3;33mfloat64\u001b[0m │─────────────────────────────────────────────────────────╯          \n",
       "                                                                                                                             │ \u001b[3m   \u001b[0m\u001b[3mpetalWidth: \u001b[0m\u001b[3;33mfloat64\u001b[0m  │                                                                    \n",
       "                                                                                                                             │ \u001b[3m   \u001b[0m\u001b[3mspecies: \u001b[0m\u001b[3;38;5;214mstring\u001b[0m      │                                                                    \n",
       "                                                                                                                             ╰─────────────────────────╯                                                                    \n"
      ]
     },
     "metadata": {},
     "output_type": "display_data"
    }
   ],
   "source": [
    "# | echo: false\n",
    "i.visualize()"
   ]
  },
  {
   "cell_type": "markdown",
   "id": "0b03fd1f",
   "metadata": {},
   "source": [
    ":::"
   ]
  },
  {
   "cell_type": "markdown",
   "id": "06dbb828",
   "metadata": {
    "lines_to_next_cell": 2
   },
   "source": [
    "</Accordion>"
   ]
  },
  {
   "cell_type": "markdown",
   "id": "79cc461e",
   "metadata": {},
   "source": [
    "<Accordion title=\"Window Automation\">"
   ]
  },
  {
   "cell_type": "code",
   "execution_count": 20,
   "id": "3e5cd1cc",
   "metadata": {
    "execution": {
     "iopub.execute_input": "2024-03-07T00:36:42.955781Z",
     "iopub.status.busy": "2024-03-07T00:36:42.955681Z",
     "iopub.status.idle": "2024-03-07T00:36:42.976322Z",
     "shell.execute_reply": "2024-03-07T00:36:42.976082Z"
    },
    "lines_to_next_cell": 2
   },
   "outputs": [],
   "source": [
    "# | echo: false\n",
    "from vinyl.examples import co2_concentration\n",
    "\n",
    "co2_concentration = co2_concentration()\n",
    "\n",
    "co2_concentration = co2_concentration.define(\n",
    "    {\"Date\": co2_concentration.Date.cast(\"date\")}\n",
    ")\n",
    "co2_concentration = co2_concentration._create_table(\"co2_concentration\")"
   ]
  },
  {
   "cell_type": "code",
   "execution_count": 21,
   "id": "086a9738",
   "metadata": {
    "execution": {
     "iopub.execute_input": "2024-03-07T00:36:42.977623Z",
     "iopub.status.busy": "2024-03-07T00:36:42.977549Z",
     "iopub.status.idle": "2024-03-07T00:36:42.981794Z",
     "shell.execute_reply": "2024-03-07T00:36:42.981567Z"
    }
   },
   "outputs": [],
   "source": [
    "with co2_concentration as c:\n",
    "    c.define(\n",
    "        {\"CO2_normalized\": c.CO2 - c.CO2.mean()},\n",
    "        by=[c.Date.dt.extract(\"month\")],\n",
    "    )\n",
    "    c.select([c.CO2_normalized], sort=c.Date)"
   ]
  },
  {
   "cell_type": "markdown",
   "id": "7a624e90",
   "metadata": {},
   "source": [
    "::: {.panel-tabset}"
   ]
  },
  {
   "cell_type": "markdown",
   "id": "1e429df2",
   "metadata": {},
   "source": [
    "#### SQL\n"
   ]
  },
  {
   "cell_type": "code",
   "execution_count": 22,
   "id": "434d79f8",
   "metadata": {
    "execution": {
     "iopub.execute_input": "2024-03-07T00:36:42.983154Z",
     "iopub.status.busy": "2024-03-07T00:36:42.983081Z",
     "iopub.status.idle": "2024-03-07T00:36:42.989135Z",
     "shell.execute_reply": "2024-03-07T00:36:42.988932Z"
    }
   },
   "outputs": [
    {
     "data": {
      "text/html": [
       "<pre style=\"white-space:pre;overflow-x:auto;line-height:normal;font-family:Menlo,'DejaVu Sans Mono',consolas,'Courier New',monospace\">WITH t1 AS <span style=\"font-weight: bold\">(</span>\n",
       "  SELECT\n",
       "    <span style=\"color: #008000; text-decoration-color: #008000\">\"t0\"</span>.<span style=\"color: #008000; text-decoration-color: #008000\">\"Date\"</span>,\n",
       "    <span style=\"color: #008000; text-decoration-color: #008000\">\"t0\"</span>.<span style=\"color: #008000; text-decoration-color: #008000\">\"CO2\"</span> - <span style=\"color: #800080; text-decoration-color: #800080; font-weight: bold\">AVG</span><span style=\"font-weight: bold\">(</span><span style=\"color: #008000; text-decoration-color: #008000\">\"t0\"</span>.<span style=\"color: #008000; text-decoration-color: #008000\">\"CO2\"</span><span style=\"font-weight: bold\">)</span> OVER <span style=\"font-weight: bold\">(</span>PARTITION BY <span style=\"color: #800080; text-decoration-color: #800080; font-weight: bold\">EXTRACT</span><span style=\"font-weight: bold\">(</span>month FROM <span style=\"color: #008000; text-decoration-color: #008000\">\"t0\"</span>.<span style=\"color: #008000; text-decoration-color: #008000\">\"Date\"</span><span style=\"font-weight: bold\">)</span> ROWS BETWEEN UNBOUNDED \n",
       "PRECEDING AND UNBOUNDED FOLLOWING<span style=\"font-weight: bold\">)</span> AS <span style=\"color: #008000; text-decoration-color: #008000\">\"CO2_normalized\"</span>\n",
       "  FROM <span style=\"color: #008000; text-decoration-color: #008000\">\"co2_concentration \"</span> AS <span style=\"color: #008000; text-decoration-color: #008000\">\"t0\"</span>\n",
       "<span style=\"font-weight: bold\">)</span>\n",
       "SELECT\n",
       "  <span style=\"color: #008000; text-decoration-color: #008000\">\"t1\"</span>.<span style=\"color: #008000; text-decoration-color: #008000\">\"Date\"</span>,\n",
       "  <span style=\"color: #008000; text-decoration-color: #008000\">\"t1\"</span>.<span style=\"color: #008000; text-decoration-color: #008000\">\"CO2_normalized\"</span>\n",
       "FROM t1 AS t1\n",
       "ORDER BY\n",
       "  <span style=\"color: #008000; text-decoration-color: #008000\">\"t1\"</span>.<span style=\"color: #008000; text-decoration-color: #008000\">\"Date\"</span> ASC\n",
       "</pre>\n"
      ],
      "text/plain": [
       "WITH t1 AS \u001b[1m(\u001b[0m\n",
       "  SELECT\n",
       "    \u001b[32m\"t0\"\u001b[0m.\u001b[32m\"Date\"\u001b[0m,\n",
       "    \u001b[32m\"t0\"\u001b[0m.\u001b[32m\"CO2\"\u001b[0m - \u001b[1;35mAVG\u001b[0m\u001b[1m(\u001b[0m\u001b[32m\"t0\"\u001b[0m.\u001b[32m\"CO2\"\u001b[0m\u001b[1m)\u001b[0m OVER \u001b[1m(\u001b[0mPARTITION BY \u001b[1;35mEXTRACT\u001b[0m\u001b[1m(\u001b[0mmonth FROM \u001b[32m\"t0\"\u001b[0m.\u001b[32m\"Date\"\u001b[0m\u001b[1m)\u001b[0m ROWS BETWEEN UNBOUNDED \n",
       "PRECEDING AND UNBOUNDED FOLLOWING\u001b[1m)\u001b[0m AS \u001b[32m\"CO2_normalized\"\u001b[0m\n",
       "  FROM \u001b[32m\"co2_concentration \"\u001b[0m AS \u001b[32m\"t0\"\u001b[0m\n",
       "\u001b[1m)\u001b[0m\n",
       "SELECT\n",
       "  \u001b[32m\"t1\"\u001b[0m.\u001b[32m\"Date\"\u001b[0m,\n",
       "  \u001b[32m\"t1\"\u001b[0m.\u001b[32m\"CO2_normalized\"\u001b[0m\n",
       "FROM t1 AS t1\n",
       "ORDER BY\n",
       "  \u001b[32m\"t1\"\u001b[0m.\u001b[32m\"Date\"\u001b[0m ASC\n"
      ]
     },
     "metadata": {},
     "output_type": "display_data"
    }
   ],
   "source": [
    "# | echo: false\n",
    "print(c.to_sql(optimized=True))"
   ]
  },
  {
   "cell_type": "markdown",
   "id": "dbf25be0",
   "metadata": {},
   "source": [
    "#### Result"
   ]
  },
  {
   "cell_type": "code",
   "execution_count": 23,
   "id": "36d9a0ff",
   "metadata": {
    "execution": {
     "iopub.execute_input": "2024-03-07T00:36:42.990454Z",
     "iopub.status.busy": "2024-03-07T00:36:42.990360Z",
     "iopub.status.idle": "2024-03-07T00:36:42.998214Z",
     "shell.execute_reply": "2024-03-07T00:36:42.997987Z"
    }
   },
   "outputs": [
    {
     "data": {
      "text/html": [
       "<pre style=\"white-space:pre;overflow-x:auto;line-height:normal;font-family:Menlo,'DejaVu Sans Mono',consolas,'Courier New',monospace\">┏━━━━━━━━━━━━┳━━━━━━━━━━━━━━━━┓\n",
       "┃<span style=\"font-weight: bold\"> Date       </span>┃<span style=\"font-weight: bold\"> CO2_normalized </span>┃\n",
       "┡━━━━━━━━━━━━╇━━━━━━━━━━━━━━━━┩\n",
       "│ <span style=\"color: #7f7f7f; text-decoration-color: #7f7f7f\">date</span>       │ <span style=\"color: #7f7f7f; text-decoration-color: #7f7f7f\">float64</span>        │\n",
       "├────────────┼────────────────┤\n",
       "│ <span style=\"color: #800080; text-decoration-color: #800080\">1958-03-01</span> │     <span style=\"color: #008080; text-decoration-color: #008080; font-weight: bold\">-38.557288</span> │\n",
       "│ <span style=\"color: #800080; text-decoration-color: #800080\">1958-04-01</span> │     <span style=\"color: #008080; text-decoration-color: #008080; font-weight: bold\">-38.167797</span> │\n",
       "│ <span style=\"color: #800080; text-decoration-color: #800080\">1958-05-01</span> │     <span style=\"color: #008080; text-decoration-color: #008080; font-weight: bold\">-38.147167</span> │\n",
       "│ <span style=\"color: #800080; text-decoration-color: #800080\">1958-07-01</span> │     <span style=\"color: #008080; text-decoration-color: #008080; font-weight: bold\">-37.738333</span> │\n",
       "│ <span style=\"color: #800080; text-decoration-color: #800080\">1958-08-01</span> │     <span style=\"color: #008080; text-decoration-color: #008080; font-weight: bold\">-36.673667</span> │\n",
       "│ <span style=\"color: #800080; text-decoration-color: #800080\">1958-09-01</span> │     <span style=\"color: #008080; text-decoration-color: #008080; font-weight: bold\">-36.724833</span> │\n",
       "│ <span style=\"color: #800080; text-decoration-color: #800080\">1958-11-01</span> │     <span style=\"color: #008080; text-decoration-color: #008080; font-weight: bold\">-37.977833</span> │\n",
       "│ <span style=\"color: #800080; text-decoration-color: #800080\">1958-12-01</span> │     <span style=\"color: #008080; text-decoration-color: #008080; font-weight: bold\">-37.934667</span> │\n",
       "│ <span style=\"color: #800080; text-decoration-color: #800080\">1959-01-01</span> │     <span style=\"color: #008080; text-decoration-color: #008080; font-weight: bold\">-37.171695</span> │\n",
       "│ <span style=\"color: #800080; text-decoration-color: #800080\">1959-02-01</span> │     <span style=\"color: #008080; text-decoration-color: #008080; font-weight: bold\">-37.620862</span> │\n",
       "│ <span style=\"color: #7f7f7f; text-decoration-color: #7f7f7f\">…</span>          │              <span style=\"color: #7f7f7f; text-decoration-color: #7f7f7f\">…</span> │\n",
       "└────────────┴────────────────┘\n",
       "</pre>\n"
      ],
      "text/plain": [
       "┏━━━━━━━━━━━━┳━━━━━━━━━━━━━━━━┓\n",
       "┃\u001b[1m \u001b[0m\u001b[1mDate\u001b[0m\u001b[1m      \u001b[0m\u001b[1m \u001b[0m┃\u001b[1m \u001b[0m\u001b[1mCO2_normalized\u001b[0m\u001b[1m \u001b[0m┃\n",
       "┡━━━━━━━━━━━━╇━━━━━━━━━━━━━━━━┩\n",
       "│ \u001b[2mdate\u001b[0m       │ \u001b[2mfloat64\u001b[0m        │\n",
       "├────────────┼────────────────┤\n",
       "│ \u001b[35m1958-03-01\u001b[0m │     \u001b[1;36m-38.557288\u001b[0m │\n",
       "│ \u001b[35m1958-04-01\u001b[0m │     \u001b[1;36m-38.167797\u001b[0m │\n",
       "│ \u001b[35m1958-05-01\u001b[0m │     \u001b[1;36m-38.147167\u001b[0m │\n",
       "│ \u001b[35m1958-07-01\u001b[0m │     \u001b[1;36m-37.738333\u001b[0m │\n",
       "│ \u001b[35m1958-08-01\u001b[0m │     \u001b[1;36m-36.673667\u001b[0m │\n",
       "│ \u001b[35m1958-09-01\u001b[0m │     \u001b[1;36m-36.724833\u001b[0m │\n",
       "│ \u001b[35m1958-11-01\u001b[0m │     \u001b[1;36m-37.977833\u001b[0m │\n",
       "│ \u001b[35m1958-12-01\u001b[0m │     \u001b[1;36m-37.934667\u001b[0m │\n",
       "│ \u001b[35m1959-01-01\u001b[0m │     \u001b[1;36m-37.171695\u001b[0m │\n",
       "│ \u001b[35m1959-02-01\u001b[0m │     \u001b[1;36m-37.620862\u001b[0m │\n",
       "│ \u001b[2m…\u001b[0m          │              \u001b[2m…\u001b[0m │\n",
       "└────────────┴────────────────┘\n"
      ]
     },
     "metadata": {},
     "output_type": "display_data"
    }
   ],
   "source": [
    "# | echo: false\n",
    "print(c.execute(\"text\"))"
   ]
  },
  {
   "cell_type": "markdown",
   "id": "a976eebf",
   "metadata": {},
   "source": [
    "#### AST"
   ]
  },
  {
   "cell_type": "code",
   "execution_count": 24,
   "id": "534d3d72",
   "metadata": {
    "execution": {
     "iopub.execute_input": "2024-03-07T00:36:42.999534Z",
     "iopub.status.busy": "2024-03-07T00:36:42.999444Z",
     "iopub.status.idle": "2024-03-07T00:36:43.002061Z",
     "shell.execute_reply": "2024-03-07T00:36:43.001849Z"
    }
   },
   "outputs": [
    {
     "data": {
      "text/plain": [
       "r0 := DatabaseTable: co2_concentration \n",
       "  CO2  float64\n",
       "  Date date\n",
       "\n",
       "r1 := Project[r0]\n",
       "  ExtractMonth(Date): ExtractMonth(r0.Date)\n",
       "  CO2:                r0.CO2\n",
       "  Date:               r0.Date\n",
       "  CO2_normalized:     r0.CO2 - WindowFunction(func=Mean(r0.CO2), frame=RowsWindowFrame(table=r0, group_by=[ExtractMonth(r0.Date)]))\n",
       "\n",
       "r2 := Project[r1]\n",
       "  Date:           r1.Date\n",
       "  CO2_normalized: r1.CO2_normalized\n",
       "\n",
       "Sort[r2]\n",
       "  asc r2.Date"
      ]
     },
     "execution_count": 24,
     "metadata": {},
     "output_type": "execute_result"
    }
   ],
   "source": [
    "# | echo: false\n",
    "c"
   ]
  },
  {
   "cell_type": "markdown",
   "id": "f5fe6821",
   "metadata": {},
   "source": [
    "#### AST graph\n"
   ]
  },
  {
   "cell_type": "code",
   "execution_count": 25,
   "id": "7847b5f1",
   "metadata": {
    "execution": {
     "iopub.execute_input": "2024-03-07T00:36:43.003468Z",
     "iopub.status.busy": "2024-03-07T00:36:43.003384Z",
     "iopub.status.idle": "2024-03-07T00:36:44.134287Z",
     "shell.execute_reply": "2024-03-07T00:36:44.133988Z"
    }
   },
   "outputs": [
    {
     "data": {
      "text/html": [
       "<pre style=\"white-space:pre;overflow-x:auto;line-height:normal;font-family:Menlo,'DejaVu Sans Mono',consolas,'Courier New',monospace\">                                                                         ╭────────────────────────────╮          \n",
       "                                                                         │ <span style=\"font-weight: bold\">Sort</span>                       │          \n",
       "                                                                         │ <span style=\"font-weight: bold\">   </span><span style=\"font-weight: bold; font-style: italic\">Date: </span><span style=\"color: #008080; text-decoration-color: #008080; font-weight: bold; font-style: italic\">date</span>              │          \n",
       "                                                                         │ <span style=\"font-weight: bold\">   </span><span style=\"font-weight: bold; font-style: italic\">CO2_normalized: </span><span style=\"color: #808000; text-decoration-color: #808000; font-weight: bold; font-style: italic\">float64</span> │          \n",
       "                                                                         ╰────────────────────────────╯          \n",
       "                                                                         ▲              ▲                        \n",
       "                                                                         │              │                        \n",
       "                                                                         │              │                        \n",
       "                                                                  ╭────────────╮        │                        \n",
       "                                                                  │ <span style=\"font-weight: bold\">SortKey</span>    │        │                        \n",
       "                                                                  │ <span style=\"font-weight: bold\">   :: </span><span style=\"color: #008080; text-decoration-color: #008080; font-weight: bold\">date</span> │        │                        \n",
       "                                                                  ╰────────────╯        │                        \n",
       "                                                                         ▲              │                        \n",
       "                                                                         │              │                        \n",
       "                                                                         │              │                        \n",
       "                                                                         │              │                        \n",
       "                                                                  ╭─────────────╮       │                        \n",
       "                                                                  │ <span style=\"font-style: italic\">Date: </span><span style=\"font-weight: bold; font-style: italic\">Field</span> │       │                        \n",
       "                                                                  │ <span style=\"font-style: italic\">   :: </span><span style=\"color: #008080; text-decoration-color: #008080; font-style: italic\">date</span>  │       │                        \n",
       "                                                                  ╰─────────────╯       │                        \n",
       "                                                                         ▲              │                        \n",
       "                                                                         │              │                        \n",
       "                                                                         ╰──────╮       │                        \n",
       "                                                                                │       │                        \n",
       "                                                                                ╰───────│                        \n",
       "                                                                         ╭────────────────────────────╮          \n",
       "                                                                         │ <span style=\"font-weight: bold\">Project</span>                    │          \n",
       "                                                   ╭────────────────────▶│ <span style=\"font-weight: bold\">   </span><span style=\"font-weight: bold; font-style: italic\">Date: </span><span style=\"color: #008080; text-decoration-color: #008080; font-weight: bold; font-style: italic\">date</span>              │          \n",
       "                                                   │                     │ <span style=\"font-weight: bold\">   </span><span style=\"font-weight: bold; font-style: italic\">CO2_normalized: </span><span style=\"color: #808000; text-decoration-color: #808000; font-weight: bold; font-style: italic\">float64</span> │          \n",
       "                                                   │                     ╰────────────────────────────╯          \n",
       "                                                   │                                   ▲▲                        \n",
       "                                                   │                                   ││                        \n",
       "                                                   │                                   ││                        \n",
       "                                            ╭─────────────╮                ╭───────────────────────╮             \n",
       "                                            │ <span style=\"font-style: italic\">Date: </span><span style=\"font-weight: bold; font-style: italic\">Field</span> │                │ <span style=\"font-style: italic\">CO2_normalized: </span><span style=\"font-weight: bold; font-style: italic\">Field</span> │             \n",
       "                                            │ <span style=\"font-style: italic\">   :: </span><span style=\"color: #008080; text-decoration-color: #008080; font-style: italic\">date</span>  │                │ <span style=\"font-style: italic\">   :: </span><span style=\"color: #808000; text-decoration-color: #808000; font-style: italic\">float64</span>         │             \n",
       "                                            ╰─────────────╯                ╰───────────────────────╯             \n",
       "                                                   ▲                                   ▲│                        \n",
       "                                                   │                                   ││                        \n",
       "                                                   │                                   ││                        \n",
       "                                                   ╰───────────────────────────────────╮│                        \n",
       "                                                                                       ││                        \n",
       "                                                                       ╭──────────────────────────────╮          \n",
       "                                                                       │ <span style=\"font-weight: bold\">Project</span>                      │          \n",
       "                                                                       │ <span style=\"font-weight: bold\">   </span><span style=\"font-weight: bold; font-style: italic\">ExtractMonth(Date): </span><span style=\"color: #808000; text-decoration-color: #808000; font-weight: bold; font-style: italic\">int32</span> │          \n",
       "                                                         ╭────────────▶│ <span style=\"font-weight: bold\">   </span><span style=\"font-weight: bold; font-style: italic\">CO2: </span><span style=\"color: #808000; text-decoration-color: #808000; font-weight: bold; font-style: italic\">float64</span>              │◀─╮       \n",
       "                                                         │             │ <span style=\"font-weight: bold\">   </span><span style=\"font-weight: bold; font-style: italic\">Date: </span><span style=\"color: #008080; text-decoration-color: #008080; font-weight: bold; font-style: italic\">date</span>                │  │       \n",
       "                                                         │             │ <span style=\"font-weight: bold\">   </span><span style=\"font-weight: bold; font-style: italic\">CO2_normalized: </span><span style=\"color: #808000; text-decoration-color: #808000; font-weight: bold; font-style: italic\">float64</span>   │  │       \n",
       "                                                         │             ╰──────────────────────────────╯  │       \n",
       "                                                         │                             ▲ ▲               │       \n",
       "                                                         │      ╭──────────────────────│ │               │       \n",
       "                                                         │      │                      │ │               │       \n",
       "                                 ╭───────────────╮       │      │                      │ │               │       \n",
       "                                 │ <span style=\"font-weight: bold\">Subtract</span>      │       │      │                      │ │               │       \n",
       "                        ╭───────▶│ <span style=\"font-weight: bold\">   :: </span><span style=\"color: #808000; text-decoration-color: #808000; font-weight: bold\">float64</span> │───────│──────╯                      │ │               │       \n",
       "                        │        ╰───────────────╯       │                             │ │               │       \n",
       "                        │                ▲               │                             │ │               │       \n",
       "                        │                │               │                             │ │               │       \n",
       "                        │                │               │                             │ │               │       \n",
       "                        │                │               │                             │ │               │       \n",
       "               ╭────────────────╮        │               │                             │ │               │       \n",
       "               │ <span style=\"font-weight: bold\">WindowFunction</span> │        │               │                             │ │               │       \n",
       "               │ <span style=\"font-weight: bold\">   :: </span><span style=\"color: #808000; text-decoration-color: #808000; font-weight: bold\">float64</span>  │        │               │                             │ │               │       \n",
       "               ╰────────────────╯        │               │                             │ │               │       \n",
       "                        ▲───╮            │               │                             │ │               │       \n",
       "                        │   │            │               │                             │ │               │       \n",
       "                        │   ╰────────────╰───────────╮   │                             │ │               │       \n",
       "                        │                │           │   │                             │ │               │       \n",
       "╭───────────────╮       │       ╭─────────────────╮  │   │                             │ │               │       \n",
       "│ <span style=\"font-weight: bold\">Mean</span>          │       │       │ <span style=\"font-weight: bold\">RowsWindowFrame</span> │  │   │                             │ │               │       \n",
       "│ <span style=\"font-weight: bold\">   :: </span><span style=\"color: #808000; text-decoration-color: #808000; font-weight: bold\">float64</span> │───────╯       │ <span style=\"font-weight: bold\">   :: ∅</span>         │◀─│───│───────╮                     ╰╮│               │       \n",
       "╰───────────────╯               ╰─────────────────╯  │   │       │                      ││               │       \n",
       "        ▲                                ▲           │   │       │                      ││               │       \n",
       "        │                                │           │   │       │                      ││               │       \n",
       "        │                                │           │   │       ╰───────────╮          ││               │       \n",
       "        │                                │           ╰───│                   │          ││               │       \n",
       "        │                                │       ╭───────────────╮           │   ╭──────────────╮        │       \n",
       "        │                                │       │ <span style=\"font-style: italic\">CO2: </span><span style=\"font-weight: bold; font-style: italic\">Field</span>    │           │   │ <span style=\"font-weight: bold\">ExtractMonth</span> │        │       \n",
       "        ╰────────────────────────────────────────│ <span style=\"font-style: italic\">   :: </span><span style=\"color: #808000; text-decoration-color: #808000; font-style: italic\">float64</span> │           ╰───│ <span style=\"font-weight: bold\">   :: </span><span style=\"color: #808000; text-decoration-color: #808000; font-weight: bold\">int32</span>  │        │       \n",
       "                                         │       ╰───────────────╯               ╰──────────────╯        │       \n",
       "                                         │               ▲                              │▲               │       \n",
       "                                         │               │                              ││               │       \n",
       "                                         ╰───────────────│──────╮                       ││               │       \n",
       "                                                         │      │                       ││               │       \n",
       "                                                         │      │                       ││        ╭─────────────╮\n",
       "                                                         │      │                       ││        │ <span style=\"font-style: italic\">Date: </span><span style=\"font-weight: bold; font-style: italic\">Field</span> │\n",
       "                                                         │      │                       │╰────────│ <span style=\"font-style: italic\">   :: </span><span style=\"color: #008080; text-decoration-color: #008080; font-style: italic\">date</span>  │\n",
       "                                                         │      │                       │         ╰─────────────╯\n",
       "                                                         │      ╰───────────╮           │                ▲       \n",
       "                                                         │                  │           │                │       \n",
       "                                                         │                  │           │       ╭────────╯       \n",
       "                                                         │                  │           │       │                \n",
       "                                                         │                  ╰───────────│───────╯                \n",
       "                                                         │            ╭───────────────────────────────────╮      \n",
       "                                                         │            │ <span style=\"font-style: italic\">co2_concentration : </span><span style=\"font-weight: bold; font-style: italic\">DatabaseTable</span> │      \n",
       "                                                         ╰────────────│ <span style=\"font-style: italic\">   CO2: </span><span style=\"color: #808000; text-decoration-color: #808000; font-style: italic\">float64</span>                   │      \n",
       "                                                                      │ <span style=\"font-style: italic\">   Date: </span><span style=\"color: #008080; text-decoration-color: #008080; font-style: italic\">date</span>                     │      \n",
       "                                                                      ╰───────────────────────────────────╯      \n",
       "</pre>\n"
      ],
      "text/plain": [
       "                                                                         ╭────────────────────────────╮          \n",
       "                                                                         │ \u001b[1mSort\u001b[0m                       │          \n",
       "                                                                         │ \u001b[1m   \u001b[0m\u001b[1;3mDate: \u001b[0m\u001b[1;3;36mdate\u001b[0m              │          \n",
       "                                                                         │ \u001b[1m   \u001b[0m\u001b[1;3mCO2_normalized: \u001b[0m\u001b[1;3;33mfloat64\u001b[0m │          \n",
       "                                                                         ╰────────────────────────────╯          \n",
       "                                                                         ▲              ▲                        \n",
       "                                                                         │              │                        \n",
       "                                                                         │              │                        \n",
       "                                                                  ╭────────────╮        │                        \n",
       "                                                                  │ \u001b[1mSortKey\u001b[0m    │        │                        \n",
       "                                                                  │ \u001b[1m   :: \u001b[0m\u001b[1;36mdate\u001b[0m │        │                        \n",
       "                                                                  ╰────────────╯        │                        \n",
       "                                                                         ▲              │                        \n",
       "                                                                         │              │                        \n",
       "                                                                         │              │                        \n",
       "                                                                         │              │                        \n",
       "                                                                  ╭─────────────╮       │                        \n",
       "                                                                  │ \u001b[3mDate: \u001b[0m\u001b[1;3mField\u001b[0m │       │                        \n",
       "                                                                  │ \u001b[3m   :: \u001b[0m\u001b[3;36mdate\u001b[0m  │       │                        \n",
       "                                                                  ╰─────────────╯       │                        \n",
       "                                                                         ▲              │                        \n",
       "                                                                         │              │                        \n",
       "                                                                         ╰──────╮       │                        \n",
       "                                                                                │       │                        \n",
       "                                                                                ╰───────│                        \n",
       "                                                                         ╭────────────────────────────╮          \n",
       "                                                                         │ \u001b[1mProject\u001b[0m                    │          \n",
       "                                                   ╭────────────────────▶│ \u001b[1m   \u001b[0m\u001b[1;3mDate: \u001b[0m\u001b[1;3;36mdate\u001b[0m              │          \n",
       "                                                   │                     │ \u001b[1m   \u001b[0m\u001b[1;3mCO2_normalized: \u001b[0m\u001b[1;3;33mfloat64\u001b[0m │          \n",
       "                                                   │                     ╰────────────────────────────╯          \n",
       "                                                   │                                   ▲▲                        \n",
       "                                                   │                                   ││                        \n",
       "                                                   │                                   ││                        \n",
       "                                            ╭─────────────╮                ╭───────────────────────╮             \n",
       "                                            │ \u001b[3mDate: \u001b[0m\u001b[1;3mField\u001b[0m │                │ \u001b[3mCO2_normalized: \u001b[0m\u001b[1;3mField\u001b[0m │             \n",
       "                                            │ \u001b[3m   :: \u001b[0m\u001b[3;36mdate\u001b[0m  │                │ \u001b[3m   :: \u001b[0m\u001b[3;33mfloat64\u001b[0m         │             \n",
       "                                            ╰─────────────╯                ╰───────────────────────╯             \n",
       "                                                   ▲                                   ▲│                        \n",
       "                                                   │                                   ││                        \n",
       "                                                   │                                   ││                        \n",
       "                                                   ╰───────────────────────────────────╮│                        \n",
       "                                                                                       ││                        \n",
       "                                                                       ╭──────────────────────────────╮          \n",
       "                                                                       │ \u001b[1mProject\u001b[0m                      │          \n",
       "                                                                       │ \u001b[1m   \u001b[0m\u001b[1;3mExtractMonth(Date): \u001b[0m\u001b[1;3;33mint32\u001b[0m │          \n",
       "                                                         ╭────────────▶│ \u001b[1m   \u001b[0m\u001b[1;3mCO2: \u001b[0m\u001b[1;3;33mfloat64\u001b[0m              │◀─╮       \n",
       "                                                         │             │ \u001b[1m   \u001b[0m\u001b[1;3mDate: \u001b[0m\u001b[1;3;36mdate\u001b[0m                │  │       \n",
       "                                                         │             │ \u001b[1m   \u001b[0m\u001b[1;3mCO2_normalized: \u001b[0m\u001b[1;3;33mfloat64\u001b[0m   │  │       \n",
       "                                                         │             ╰──────────────────────────────╯  │       \n",
       "                                                         │                             ▲ ▲               │       \n",
       "                                                         │      ╭──────────────────────│ │               │       \n",
       "                                                         │      │                      │ │               │       \n",
       "                                 ╭───────────────╮       │      │                      │ │               │       \n",
       "                                 │ \u001b[1mSubtract\u001b[0m      │       │      │                      │ │               │       \n",
       "                        ╭───────▶│ \u001b[1m   :: \u001b[0m\u001b[1;33mfloat64\u001b[0m │───────│──────╯                      │ │               │       \n",
       "                        │        ╰───────────────╯       │                             │ │               │       \n",
       "                        │                ▲               │                             │ │               │       \n",
       "                        │                │               │                             │ │               │       \n",
       "                        │                │               │                             │ │               │       \n",
       "                        │                │               │                             │ │               │       \n",
       "               ╭────────────────╮        │               │                             │ │               │       \n",
       "               │ \u001b[1mWindowFunction\u001b[0m │        │               │                             │ │               │       \n",
       "               │ \u001b[1m   :: \u001b[0m\u001b[1;33mfloat64\u001b[0m  │        │               │                             │ │               │       \n",
       "               ╰────────────────╯        │               │                             │ │               │       \n",
       "                        ▲───╮            │               │                             │ │               │       \n",
       "                        │   │            │               │                             │ │               │       \n",
       "                        │   ╰────────────╰───────────╮   │                             │ │               │       \n",
       "                        │                │           │   │                             │ │               │       \n",
       "╭───────────────╮       │       ╭─────────────────╮  │   │                             │ │               │       \n",
       "│ \u001b[1mMean\u001b[0m          │       │       │ \u001b[1mRowsWindowFrame\u001b[0m │  │   │                             │ │               │       \n",
       "│ \u001b[1m   :: \u001b[0m\u001b[1;33mfloat64\u001b[0m │───────╯       │ \u001b[1m   :: ∅\u001b[0m         │◀─│───│───────╮                     ╰╮│               │       \n",
       "╰───────────────╯               ╰─────────────────╯  │   │       │                      ││               │       \n",
       "        ▲                                ▲           │   │       │                      ││               │       \n",
       "        │                                │           │   │       │                      ││               │       \n",
       "        │                                │           │   │       ╰───────────╮          ││               │       \n",
       "        │                                │           ╰───│                   │          ││               │       \n",
       "        │                                │       ╭───────────────╮           │   ╭──────────────╮        │       \n",
       "        │                                │       │ \u001b[3mCO2: \u001b[0m\u001b[1;3mField\u001b[0m    │           │   │ \u001b[1mExtractMonth\u001b[0m │        │       \n",
       "        ╰────────────────────────────────────────│ \u001b[3m   :: \u001b[0m\u001b[3;33mfloat64\u001b[0m │           ╰───│ \u001b[1m   :: \u001b[0m\u001b[1;33mint32\u001b[0m  │        │       \n",
       "                                         │       ╰───────────────╯               ╰──────────────╯        │       \n",
       "                                         │               ▲                              │▲               │       \n",
       "                                         │               │                              ││               │       \n",
       "                                         ╰───────────────│──────╮                       ││               │       \n",
       "                                                         │      │                       ││               │       \n",
       "                                                         │      │                       ││        ╭─────────────╮\n",
       "                                                         │      │                       ││        │ \u001b[3mDate: \u001b[0m\u001b[1;3mField\u001b[0m │\n",
       "                                                         │      │                       │╰────────│ \u001b[3m   :: \u001b[0m\u001b[3;36mdate\u001b[0m  │\n",
       "                                                         │      │                       │         ╰─────────────╯\n",
       "                                                         │      ╰───────────╮           │                ▲       \n",
       "                                                         │                  │           │                │       \n",
       "                                                         │                  │           │       ╭────────╯       \n",
       "                                                         │                  │           │       │                \n",
       "                                                         │                  ╰───────────│───────╯                \n",
       "                                                         │            ╭───────────────────────────────────╮      \n",
       "                                                         │            │ \u001b[3mco2_concentration : \u001b[0m\u001b[1;3mDatabaseTable\u001b[0m │      \n",
       "                                                         ╰────────────│ \u001b[3m   \u001b[0m\u001b[3mCO2: \u001b[0m\u001b[3;33mfloat64\u001b[0m                   │      \n",
       "                                                                      │ \u001b[3m   \u001b[0m\u001b[3mDate: \u001b[0m\u001b[3;36mdate\u001b[0m                     │      \n",
       "                                                                      ╰───────────────────────────────────╯      \n"
      ]
     },
     "metadata": {},
     "output_type": "display_data"
    }
   ],
   "source": [
    "# | echo: false\n",
    "c.visualize()"
   ]
  },
  {
   "cell_type": "markdown",
   "id": "9382aa8c",
   "metadata": {},
   "source": [
    ":::"
   ]
  },
  {
   "cell_type": "markdown",
   "id": "d3a73798",
   "metadata": {
    "lines_to_next_cell": 2
   },
   "source": [
    "</Accordion>"
   ]
  },
  {
   "cell_type": "markdown",
   "id": "cecf472b",
   "metadata": {},
   "source": [
    "</AccordionGroup>"
   ]
  }
 ],
 "metadata": {
  "jupytext": {
   "cell_metadata_filter": "-all",
   "main_language": "python",
   "notebook_metadata_filter": "-all"
  },
  "kernelspec": {
   "display_name": "vinyl-docs-ApXC1gI--py3.11",
   "language": "python",
   "name": "python3"
  },
  "language_info": {
   "codemirror_mode": {
    "name": "ipython",
    "version": 3
   },
   "file_extension": ".py",
   "mimetype": "text/x-python",
   "name": "python",
   "nbconvert_exporter": "python",
   "pygments_lexer": "ipython3",
   "version": "3.11.8"
  }
 },
 "nbformat": 4,
 "nbformat_minor": 5
}
