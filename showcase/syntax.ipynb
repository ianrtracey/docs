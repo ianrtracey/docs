{
 "cells": [
  {
   "cell_type": "markdown",
   "id": "710b8e8e",
   "metadata": {},
   "source": [
    "---\n",
    "title: \"Vinyl Syntax\"\n",
    "format: \"mintlify-md\"\n",
    "icon: language\n",
    "---"
   ]
  },
  {
   "cell_type": "code",
   "execution_count": null,
   "id": "58d0166e",
   "metadata": {
    "lines_to_next_cell": 2
   },
   "outputs": [],
   "source": []
  },
  {
   "cell_type": "markdown",
   "id": "8c215ab8",
   "metadata": {},
   "source": [
    "<AccordionGroup>"
   ]
  },
  {
   "cell_type": "markdown",
   "id": "8f08df34",
   "metadata": {},
   "source": [
    "<Accordion title=\"Basic syntax\" defaultOpen=\"true\">"
   ]
  },
  {
   "cell_type": "code",
   "execution_count": 1,
   "id": "976f3d64",
   "metadata": {
    "execution": {
     "iopub.execute_input": "2024-03-12T19:52:25.090465Z",
     "iopub.status.busy": "2024-03-12T19:52:25.089490Z",
     "iopub.status.idle": "2024-03-12T19:52:25.713811Z",
     "shell.execute_reply": "2024-03-12T19:52:25.707095Z"
    }
   },
   "outputs": [],
   "source": [
    "# | echo: false\n",
    "from vinyl.examples import cars\n",
    "\n",
    "car = cars()"
   ]
  },
  {
   "cell_type": "code",
   "execution_count": 2,
   "id": "3f8e1f3f",
   "metadata": {
    "execution": {
     "iopub.execute_input": "2024-03-12T19:52:25.732839Z",
     "iopub.status.busy": "2024-03-12T19:52:25.731691Z",
     "iopub.status.idle": "2024-03-12T19:52:25.742779Z",
     "shell.execute_reply": "2024-03-12T19:52:25.742442Z"
    }
   },
   "outputs": [],
   "source": [
    "with car as c:\n",
    "    c.select([c.Name, c.Horsepower], sort=c.Year)\n",
    "    c.limit(10)"
   ]
  },
  {
   "cell_type": "markdown",
   "id": "e7b3dbb8",
   "metadata": {},
   "source": [
    "::: {.panel-tabset}"
   ]
  },
  {
   "cell_type": "markdown",
   "id": "962368d3",
   "metadata": {},
   "source": [
    "#### SQL\n"
   ]
  },
  {
   "cell_type": "code",
   "execution_count": 3,
   "id": "e21afe80",
   "metadata": {
    "execution": {
     "iopub.execute_input": "2024-03-12T19:52:25.744226Z",
     "iopub.status.busy": "2024-03-12T19:52:25.744149Z",
     "iopub.status.idle": "2024-03-12T19:52:25.750378Z",
     "shell.execute_reply": "2024-03-12T19:52:25.750152Z"
    }
   },
   "outputs": [
    {
     "data": {
      "text/html": [
       "<pre style=\"white-space:pre;overflow-x:auto;line-height:normal;font-family:Menlo,'DejaVu Sans Mono',consolas,'Courier New',monospace\">SELECT\n",
       "  <span style=\"color: #008000; text-decoration-color: #008000\">\"t0\"</span>.<span style=\"color: #008000; text-decoration-color: #008000\">\"Year\"</span>,\n",
       "  <span style=\"color: #008000; text-decoration-color: #008000\">\"t0\"</span>.<span style=\"color: #008000; text-decoration-color: #008000\">\"Name\"</span>,\n",
       "  <span style=\"color: #008000; text-decoration-color: #008000\">\"t0\"</span>.<span style=\"color: #008000; text-decoration-color: #008000\">\"Horsepower\"</span>\n",
       "FROM <span style=\"color: #008000; text-decoration-color: #008000\">\"cars\"</span> AS <span style=\"color: #008000; text-decoration-color: #008000\">\"t0\"</span>\n",
       "ORDER BY\n",
       "  <span style=\"color: #008000; text-decoration-color: #008000\">\"t0\"</span>.<span style=\"color: #008000; text-decoration-color: #008000\">\"Year\"</span> ASC\n",
       "LIMIT <span style=\"color: #008080; text-decoration-color: #008080; font-weight: bold\">10</span>\n",
       "</pre>\n"
      ],
      "text/plain": [
       "SELECT\n",
       "  \u001b[32m\"t0\"\u001b[0m.\u001b[32m\"Year\"\u001b[0m,\n",
       "  \u001b[32m\"t0\"\u001b[0m.\u001b[32m\"Name\"\u001b[0m,\n",
       "  \u001b[32m\"t0\"\u001b[0m.\u001b[32m\"Horsepower\"\u001b[0m\n",
       "FROM \u001b[32m\"cars\"\u001b[0m AS \u001b[32m\"t0\"\u001b[0m\n",
       "ORDER BY\n",
       "  \u001b[32m\"t0\"\u001b[0m.\u001b[32m\"Year\"\u001b[0m ASC\n",
       "LIMIT \u001b[1;36m10\u001b[0m\n"
      ]
     },
     "metadata": {},
     "output_type": "display_data"
    }
   ],
   "source": [
    "# | echo: false\n",
    "print(c.to_sql())"
   ]
  },
  {
   "cell_type": "markdown",
   "id": "80c5fabb",
   "metadata": {},
   "source": [
    "#### Result"
   ]
  },
  {
   "cell_type": "code",
   "execution_count": 4,
   "id": "f47bc769",
   "metadata": {
    "execution": {
     "iopub.execute_input": "2024-03-12T19:52:25.751689Z",
     "iopub.status.busy": "2024-03-12T19:52:25.751614Z",
     "iopub.status.idle": "2024-03-12T19:52:25.758664Z",
     "shell.execute_reply": "2024-03-12T19:52:25.758449Z"
    }
   },
   "outputs": [
    {
     "data": {
      "text/html": [
       "<pre style=\"white-space:pre;overflow-x:auto;line-height:normal;font-family:Menlo,'DejaVu Sans Mono',consolas,'Courier New',monospace\">┏━━━━━━━━━━━━━━━━━━━━━┳━━━━━━━━━━━━━━━━━━━━━━━━━━━┳━━━━━━━━━━━━┓\n",
       "┃<span style=\"font-weight: bold\"> Year                </span>┃<span style=\"font-weight: bold\"> Name                      </span>┃<span style=\"font-weight: bold\"> Horsepower </span>┃\n",
       "┡━━━━━━━━━━━━━━━━━━━━━╇━━━━━━━━━━━━━━━━━━━━━━━━━━━╇━━━━━━━━━━━━┩\n",
       "│ <span style=\"color: #7f7f7f; text-decoration-color: #7f7f7f\">timestamp(6)</span>        │ <span style=\"color: #7f7f7f; text-decoration-color: #7f7f7f\">string</span>                    │ <span style=\"color: #7f7f7f; text-decoration-color: #7f7f7f\">float64</span>    │\n",
       "├─────────────────────┼───────────────────────────┼────────────┤\n",
       "│ <span style=\"color: #800080; text-decoration-color: #800080\">1970-01-01 00:00:00</span> │ <span style=\"color: #008000; text-decoration-color: #008000\">chevrolet chevelle malibu</span> │      <span style=\"color: #008080; text-decoration-color: #008080; font-weight: bold\">130.0</span> │\n",
       "│ <span style=\"color: #800080; text-decoration-color: #800080\">1970-01-01 00:00:00</span> │ <span style=\"color: #008000; text-decoration-color: #008000\">buick skylark 320        </span> │      <span style=\"color: #008080; text-decoration-color: #008080; font-weight: bold\">165.0</span> │\n",
       "│ <span style=\"color: #800080; text-decoration-color: #800080\">1970-01-01 00:00:00</span> │ <span style=\"color: #008000; text-decoration-color: #008000\">plymouth satellite       </span> │      <span style=\"color: #008080; text-decoration-color: #008080; font-weight: bold\">150.0</span> │\n",
       "│ <span style=\"color: #800080; text-decoration-color: #800080\">1970-01-01 00:00:00</span> │ <span style=\"color: #008000; text-decoration-color: #008000\">amc rebel sst            </span> │      <span style=\"color: #008080; text-decoration-color: #008080; font-weight: bold\">150.0</span> │\n",
       "│ <span style=\"color: #800080; text-decoration-color: #800080\">1970-01-01 00:00:00</span> │ <span style=\"color: #008000; text-decoration-color: #008000\">ford torino              </span> │      <span style=\"color: #008080; text-decoration-color: #008080; font-weight: bold\">140.0</span> │\n",
       "│ <span style=\"color: #800080; text-decoration-color: #800080\">1970-01-01 00:00:00</span> │ <span style=\"color: #008000; text-decoration-color: #008000\">ford galaxie 500         </span> │      <span style=\"color: #008080; text-decoration-color: #008080; font-weight: bold\">198.0</span> │\n",
       "│ <span style=\"color: #800080; text-decoration-color: #800080\">1970-01-01 00:00:00</span> │ <span style=\"color: #008000; text-decoration-color: #008000\">chevrolet impala         </span> │      <span style=\"color: #008080; text-decoration-color: #008080; font-weight: bold\">220.0</span> │\n",
       "│ <span style=\"color: #800080; text-decoration-color: #800080\">1970-01-01 00:00:00</span> │ <span style=\"color: #008000; text-decoration-color: #008000\">plymouth fury iii        </span> │      <span style=\"color: #008080; text-decoration-color: #008080; font-weight: bold\">215.0</span> │\n",
       "│ <span style=\"color: #800080; text-decoration-color: #800080\">1970-01-01 00:00:00</span> │ <span style=\"color: #008000; text-decoration-color: #008000\">pontiac catalina         </span> │      <span style=\"color: #008080; text-decoration-color: #008080; font-weight: bold\">225.0</span> │\n",
       "│ <span style=\"color: #800080; text-decoration-color: #800080\">1970-01-01 00:00:00</span> │ <span style=\"color: #008000; text-decoration-color: #008000\">amc ambassador dpl       </span> │      <span style=\"color: #008080; text-decoration-color: #008080; font-weight: bold\">190.0</span> │\n",
       "└─────────────────────┴───────────────────────────┴────────────┘\n",
       "</pre>\n"
      ],
      "text/plain": [
       "┏━━━━━━━━━━━━━━━━━━━━━┳━━━━━━━━━━━━━━━━━━━━━━━━━━━┳━━━━━━━━━━━━┓\n",
       "┃\u001b[1m \u001b[0m\u001b[1mYear\u001b[0m\u001b[1m               \u001b[0m\u001b[1m \u001b[0m┃\u001b[1m \u001b[0m\u001b[1mName\u001b[0m\u001b[1m                     \u001b[0m\u001b[1m \u001b[0m┃\u001b[1m \u001b[0m\u001b[1mHorsepower\u001b[0m\u001b[1m \u001b[0m┃\n",
       "┡━━━━━━━━━━━━━━━━━━━━━╇━━━━━━━━━━━━━━━━━━━━━━━━━━━╇━━━━━━━━━━━━┩\n",
       "│ \u001b[2mtimestamp(6)\u001b[0m        │ \u001b[2mstring\u001b[0m                    │ \u001b[2mfloat64\u001b[0m    │\n",
       "├─────────────────────┼───────────────────────────┼────────────┤\n",
       "│ \u001b[35m1970-01-01 00:00:00\u001b[0m │ \u001b[32mchevrolet chevelle malibu\u001b[0m │      \u001b[1;36m130.0\u001b[0m │\n",
       "│ \u001b[35m1970-01-01 00:00:00\u001b[0m │ \u001b[32mbuick skylark 320        \u001b[0m │      \u001b[1;36m165.0\u001b[0m │\n",
       "│ \u001b[35m1970-01-01 00:00:00\u001b[0m │ \u001b[32mplymouth satellite       \u001b[0m │      \u001b[1;36m150.0\u001b[0m │\n",
       "│ \u001b[35m1970-01-01 00:00:00\u001b[0m │ \u001b[32mamc rebel sst            \u001b[0m │      \u001b[1;36m150.0\u001b[0m │\n",
       "│ \u001b[35m1970-01-01 00:00:00\u001b[0m │ \u001b[32mford torino              \u001b[0m │      \u001b[1;36m140.0\u001b[0m │\n",
       "│ \u001b[35m1970-01-01 00:00:00\u001b[0m │ \u001b[32mford galaxie 500         \u001b[0m │      \u001b[1;36m198.0\u001b[0m │\n",
       "│ \u001b[35m1970-01-01 00:00:00\u001b[0m │ \u001b[32mchevrolet impala         \u001b[0m │      \u001b[1;36m220.0\u001b[0m │\n",
       "│ \u001b[35m1970-01-01 00:00:00\u001b[0m │ \u001b[32mplymouth fury iii        \u001b[0m │      \u001b[1;36m215.0\u001b[0m │\n",
       "│ \u001b[35m1970-01-01 00:00:00\u001b[0m │ \u001b[32mpontiac catalina         \u001b[0m │      \u001b[1;36m225.0\u001b[0m │\n",
       "│ \u001b[35m1970-01-01 00:00:00\u001b[0m │ \u001b[32mamc ambassador dpl       \u001b[0m │      \u001b[1;36m190.0\u001b[0m │\n",
       "└─────────────────────┴───────────────────────────┴────────────┘\n"
      ]
     },
     "metadata": {},
     "output_type": "display_data"
    }
   ],
   "source": [
    "# | echo: false\n",
    "print(c.execute(\"text\"))"
   ]
  },
  {
   "cell_type": "markdown",
   "id": "12a8c527",
   "metadata": {},
   "source": [
    "#### AST"
   ]
  },
  {
   "cell_type": "code",
   "execution_count": 5,
   "id": "3c5a2ca0",
   "metadata": {
    "execution": {
     "iopub.execute_input": "2024-03-12T19:52:25.760063Z",
     "iopub.status.busy": "2024-03-12T19:52:25.759990Z",
     "iopub.status.idle": "2024-03-12T19:52:25.762922Z",
     "shell.execute_reply": "2024-03-12T19:52:25.762639Z"
    }
   },
   "outputs": [
    {
     "data": {
      "text/plain": [
       "r0 := DatabaseTable: cars\n",
       "  Name             string\n",
       "  Miles_per_Gallon float64\n",
       "  Cylinders        int64\n",
       "  Displacement     float64\n",
       "  Horsepower       float64\n",
       "  Weight_in_lbs    int64\n",
       "  Acceleration     float64\n",
       "  Year             timestamp(6)\n",
       "  Origin           string\n",
       "\n",
       "r1 := Project[r0]\n",
       "  Year:       r0.Year\n",
       "  Name:       r0.Name\n",
       "  Horsepower: r0.Horsepower\n",
       "\n",
       "r2 := Sort[r1]\n",
       "  asc r1.Year\n",
       "\n",
       "Limit[r2, n=10]"
      ]
     },
     "execution_count": 5,
     "metadata": {},
     "output_type": "execute_result"
    }
   ],
   "source": [
    "# | echo: false\n",
    "c"
   ]
  },
  {
   "cell_type": "markdown",
   "id": "a13a0ed3",
   "metadata": {},
   "source": [
    "#### AST graph\n"
   ]
  },
  {
   "cell_type": "code",
   "execution_count": 6,
   "id": "0974f9ee",
   "metadata": {
    "execution": {
     "iopub.execute_input": "2024-03-12T19:52:25.764154Z",
     "iopub.status.busy": "2024-03-12T19:52:25.764091Z",
     "iopub.status.idle": "2024-03-12T19:52:26.150333Z",
     "shell.execute_reply": "2024-03-12T19:52:26.150063Z"
    }
   },
   "outputs": [
    {
     "data": {
      "text/html": [
       "<pre style=\"white-space:pre;overflow-x:auto;line-height:normal;font-family:Menlo,'DejaVu Sans Mono',consolas,'Courier New',monospace\">                                                   ╭────────────────────────╮             \n",
       "                                                   │ <span style=\"font-weight: bold\">Limit</span>                  │             \n",
       "                                                   │ <span style=\"font-weight: bold\">   </span><span style=\"font-weight: bold; font-style: italic\">Year: </span><span style=\"color: #008080; text-decoration-color: #008080; font-weight: bold; font-style: italic\">timestamp(6)</span>  │             \n",
       "                                                   │ <span style=\"font-weight: bold\">   </span><span style=\"font-weight: bold; font-style: italic\">Name: </span><span style=\"color: #ffaf00; text-decoration-color: #ffaf00; font-weight: bold; font-style: italic\">string</span>        │             \n",
       "                                                   │ <span style=\"font-weight: bold\">   </span><span style=\"font-weight: bold; font-style: italic\">Horsepower: </span><span style=\"color: #808000; text-decoration-color: #808000; font-weight: bold; font-style: italic\">float64</span> │             \n",
       "                                                   ╰────────────────────────╯             \n",
       "                                                                ▲                         \n",
       "                                                                │                         \n",
       "                                                                │                         \n",
       "                                                                │                         \n",
       "                                                   ╭────────────────────────╮             \n",
       "                                                   │ <span style=\"font-weight: bold\">Sort</span>                   │             \n",
       "                                                   │ <span style=\"font-weight: bold\">   </span><span style=\"font-weight: bold; font-style: italic\">Year: </span><span style=\"color: #008080; text-decoration-color: #008080; font-weight: bold; font-style: italic\">timestamp(6)</span>  │             \n",
       "                                             ╭────▶│ <span style=\"font-weight: bold\">   </span><span style=\"font-weight: bold; font-style: italic\">Name: </span><span style=\"color: #ffaf00; text-decoration-color: #ffaf00; font-weight: bold; font-style: italic\">string</span>        │             \n",
       "                                             │     │ <span style=\"font-weight: bold\">   </span><span style=\"font-weight: bold; font-style: italic\">Horsepower: </span><span style=\"color: #808000; text-decoration-color: #808000; font-weight: bold; font-style: italic\">float64</span> │             \n",
       "                                             │     ╰────────────────────────╯             \n",
       "                                             │                  ▲                         \n",
       "                                             │                  │                         \n",
       "                                             │                  │                         \n",
       "                                             │                  │                         \n",
       "                                  ╭────────────────────╮        │                         \n",
       "                                  │ <span style=\"font-weight: bold\">SortKey</span>            │        │                         \n",
       "                                  │ <span style=\"font-weight: bold\">   :: </span><span style=\"color: #008080; text-decoration-color: #008080; font-weight: bold\">timestamp(6)</span> │        │                         \n",
       "                                  ╰────────────────────╯        │                         \n",
       "                                             ▲                  │                         \n",
       "                                             │                  │                         \n",
       "                                             │                  │                         \n",
       "                                             │                  │                         \n",
       "                                  ╭────────────────────╮        │                         \n",
       "                                  │ <span style=\"font-style: italic\">Year: </span><span style=\"font-weight: bold; font-style: italic\">Field</span>        │        │                         \n",
       "                                  │ <span style=\"font-style: italic\">   :: </span><span style=\"color: #008080; text-decoration-color: #008080; font-style: italic\">timestamp(6)</span> │        │                         \n",
       "                                  ╰────────────────────╯        │                         \n",
       "                                             ▲                  │                         \n",
       "                                             │                  │                         \n",
       "                                             │                  │                         \n",
       "                                             ╰──────────────────│                         \n",
       "                                                   ╭────────────────────────╮             \n",
       "                                                   │ <span style=\"font-weight: bold\">Project</span>                │             \n",
       "                                                   │ <span style=\"font-weight: bold\">   </span><span style=\"font-weight: bold; font-style: italic\">Year: </span><span style=\"color: #008080; text-decoration-color: #008080; font-weight: bold; font-style: italic\">timestamp(6)</span>  │             \n",
       "           ╭──────────────────────────────────────▶│ <span style=\"font-weight: bold\">   </span><span style=\"font-weight: bold; font-style: italic\">Name: </span><span style=\"color: #ffaf00; text-decoration-color: #ffaf00; font-weight: bold; font-style: italic\">string</span>        │◀─╮          \n",
       "           │                                       │ <span style=\"font-weight: bold\">   </span><span style=\"font-weight: bold; font-style: italic\">Horsepower: </span><span style=\"color: #808000; text-decoration-color: #808000; font-weight: bold; font-style: italic\">float64</span> │  │          \n",
       "           │                                       ╰────────────────────────╯  │          \n",
       "           │                                                    ▲              │          \n",
       "           │                                           ╭────────│              │          \n",
       "           │                                           │        │              │          \n",
       "           │                                           │        │              │          \n",
       "╭────────────────────╮                ╭──────────────╮ │        │    ╭───────────────────╮\n",
       "│ <span style=\"font-style: italic\">Year: </span><span style=\"font-weight: bold; font-style: italic\">Field</span>        │                │ <span style=\"font-style: italic\">Name: </span><span style=\"font-weight: bold; font-style: italic\">Field</span>  │ │        │    │ <span style=\"font-style: italic\">Horsepower: </span><span style=\"font-weight: bold; font-style: italic\">Field</span> │\n",
       "│ <span style=\"font-style: italic\">   :: </span><span style=\"color: #008080; text-decoration-color: #008080; font-style: italic\">timestamp(6)</span> │                │ <span style=\"font-style: italic\">   :: </span><span style=\"color: #ffaf00; text-decoration-color: #ffaf00; font-style: italic\">string</span> │─╯        │    │ <span style=\"font-style: italic\">   :: </span><span style=\"color: #808000; text-decoration-color: #808000; font-style: italic\">float64</span>     │\n",
       "╰────────────────────╯                ╰──────────────╯          │    ╰───────────────────╯\n",
       "           ▲                                  ▲                 │              ▲          \n",
       "           │                                  │                 │              │          \n",
       "           │                                  │                 │              │          \n",
       "           │                                  │                 │              │          \n",
       "           │                                  │ ╭──────────────────────────────╮          \n",
       "           │                                  │ │ <span style=\"font-style: italic\">cars: </span><span style=\"font-weight: bold; font-style: italic\">DatabaseTable</span>          │          \n",
       "           │                                  │ │ <span style=\"font-style: italic\">   Name: </span><span style=\"color: #ffaf00; text-decoration-color: #ffaf00; font-style: italic\">string</span>              │          \n",
       "           │                                  │ │ <span style=\"font-style: italic\">   Miles_per_Gallon: </span><span style=\"color: #808000; text-decoration-color: #808000; font-style: italic\">float64</span> │          \n",
       "           │                                  │ │ <span style=\"font-style: italic\">   Cylinders: </span><span style=\"color: #808000; text-decoration-color: #808000; font-style: italic\">int64</span>          │          \n",
       "           │                                  │ │ <span style=\"font-style: italic\">   Displacement: </span><span style=\"color: #808000; text-decoration-color: #808000; font-style: italic\">float64</span>     │          \n",
       "           ╰────────────────────────────────────│ <span style=\"font-style: italic\">   Horsepower: </span><span style=\"color: #808000; text-decoration-color: #808000; font-style: italic\">float64</span>       │          \n",
       "                                                │ <span style=\"font-style: italic\">   Weight_in_lbs: </span><span style=\"color: #808000; text-decoration-color: #808000; font-style: italic\">int64</span>      │          \n",
       "                                                │ <span style=\"font-style: italic\">   Acceleration: </span><span style=\"color: #808000; text-decoration-color: #808000; font-style: italic\">float64</span>     │          \n",
       "                                                │ <span style=\"font-style: italic\">   Year: </span><span style=\"color: #008080; text-decoration-color: #008080; font-style: italic\">timestamp(6)</span>        │          \n",
       "                                                │ <span style=\"font-style: italic\">   Origin: </span><span style=\"color: #ffaf00; text-decoration-color: #ffaf00; font-style: italic\">string</span>            │          \n",
       "                                                ╰──────────────────────────────╯          \n",
       "</pre>\n"
      ],
      "text/plain": [
       "                                                   ╭────────────────────────╮             \n",
       "                                                   │ \u001b[1mLimit\u001b[0m                  │             \n",
       "                                                   │ \u001b[1m   \u001b[0m\u001b[1;3mYear: \u001b[0m\u001b[1;3;36mtimestamp(6)\u001b[0m  │             \n",
       "                                                   │ \u001b[1m   \u001b[0m\u001b[1;3mName: \u001b[0m\u001b[1;3;38;5;214mstring\u001b[0m        │             \n",
       "                                                   │ \u001b[1m   \u001b[0m\u001b[1;3mHorsepower: \u001b[0m\u001b[1;3;33mfloat64\u001b[0m │             \n",
       "                                                   ╰────────────────────────╯             \n",
       "                                                                ▲                         \n",
       "                                                                │                         \n",
       "                                                                │                         \n",
       "                                                                │                         \n",
       "                                                   ╭────────────────────────╮             \n",
       "                                                   │ \u001b[1mSort\u001b[0m                   │             \n",
       "                                                   │ \u001b[1m   \u001b[0m\u001b[1;3mYear: \u001b[0m\u001b[1;3;36mtimestamp(6)\u001b[0m  │             \n",
       "                                             ╭────▶│ \u001b[1m   \u001b[0m\u001b[1;3mName: \u001b[0m\u001b[1;3;38;5;214mstring\u001b[0m        │             \n",
       "                                             │     │ \u001b[1m   \u001b[0m\u001b[1;3mHorsepower: \u001b[0m\u001b[1;3;33mfloat64\u001b[0m │             \n",
       "                                             │     ╰────────────────────────╯             \n",
       "                                             │                  ▲                         \n",
       "                                             │                  │                         \n",
       "                                             │                  │                         \n",
       "                                             │                  │                         \n",
       "                                  ╭────────────────────╮        │                         \n",
       "                                  │ \u001b[1mSortKey\u001b[0m            │        │                         \n",
       "                                  │ \u001b[1m   :: \u001b[0m\u001b[1;36mtimestamp(6)\u001b[0m │        │                         \n",
       "                                  ╰────────────────────╯        │                         \n",
       "                                             ▲                  │                         \n",
       "                                             │                  │                         \n",
       "                                             │                  │                         \n",
       "                                             │                  │                         \n",
       "                                  ╭────────────────────╮        │                         \n",
       "                                  │ \u001b[3mYear: \u001b[0m\u001b[1;3mField\u001b[0m        │        │                         \n",
       "                                  │ \u001b[3m   :: \u001b[0m\u001b[3;36mtimestamp(6)\u001b[0m │        │                         \n",
       "                                  ╰────────────────────╯        │                         \n",
       "                                             ▲                  │                         \n",
       "                                             │                  │                         \n",
       "                                             │                  │                         \n",
       "                                             ╰──────────────────│                         \n",
       "                                                   ╭────────────────────────╮             \n",
       "                                                   │ \u001b[1mProject\u001b[0m                │             \n",
       "                                                   │ \u001b[1m   \u001b[0m\u001b[1;3mYear: \u001b[0m\u001b[1;3;36mtimestamp(6)\u001b[0m  │             \n",
       "           ╭──────────────────────────────────────▶│ \u001b[1m   \u001b[0m\u001b[1;3mName: \u001b[0m\u001b[1;3;38;5;214mstring\u001b[0m        │◀─╮          \n",
       "           │                                       │ \u001b[1m   \u001b[0m\u001b[1;3mHorsepower: \u001b[0m\u001b[1;3;33mfloat64\u001b[0m │  │          \n",
       "           │                                       ╰────────────────────────╯  │          \n",
       "           │                                                    ▲              │          \n",
       "           │                                           ╭────────│              │          \n",
       "           │                                           │        │              │          \n",
       "           │                                           │        │              │          \n",
       "╭────────────────────╮                ╭──────────────╮ │        │    ╭───────────────────╮\n",
       "│ \u001b[3mYear: \u001b[0m\u001b[1;3mField\u001b[0m        │                │ \u001b[3mName: \u001b[0m\u001b[1;3mField\u001b[0m  │ │        │    │ \u001b[3mHorsepower: \u001b[0m\u001b[1;3mField\u001b[0m │\n",
       "│ \u001b[3m   :: \u001b[0m\u001b[3;36mtimestamp(6)\u001b[0m │                │ \u001b[3m   :: \u001b[0m\u001b[3;38;5;214mstring\u001b[0m │─╯        │    │ \u001b[3m   :: \u001b[0m\u001b[3;33mfloat64\u001b[0m     │\n",
       "╰────────────────────╯                ╰──────────────╯          │    ╰───────────────────╯\n",
       "           ▲                                  ▲                 │              ▲          \n",
       "           │                                  │                 │              │          \n",
       "           │                                  │                 │              │          \n",
       "           │                                  │                 │              │          \n",
       "           │                                  │ ╭──────────────────────────────╮          \n",
       "           │                                  │ │ \u001b[3mcars: \u001b[0m\u001b[1;3mDatabaseTable\u001b[0m          │          \n",
       "           │                                  │ │ \u001b[3m   \u001b[0m\u001b[3mName: \u001b[0m\u001b[3;38;5;214mstring\u001b[0m              │          \n",
       "           │                                  │ │ \u001b[3m   \u001b[0m\u001b[3mMiles_per_Gallon: \u001b[0m\u001b[3;33mfloat64\u001b[0m │          \n",
       "           │                                  │ │ \u001b[3m   \u001b[0m\u001b[3mCylinders: \u001b[0m\u001b[3;33mint64\u001b[0m          │          \n",
       "           │                                  │ │ \u001b[3m   \u001b[0m\u001b[3mDisplacement: \u001b[0m\u001b[3;33mfloat64\u001b[0m     │          \n",
       "           ╰────────────────────────────────────│ \u001b[3m   \u001b[0m\u001b[3mHorsepower: \u001b[0m\u001b[3;33mfloat64\u001b[0m       │          \n",
       "                                                │ \u001b[3m   \u001b[0m\u001b[3mWeight_in_lbs: \u001b[0m\u001b[3;33mint64\u001b[0m      │          \n",
       "                                                │ \u001b[3m   \u001b[0m\u001b[3mAcceleration: \u001b[0m\u001b[3;33mfloat64\u001b[0m     │          \n",
       "                                                │ \u001b[3m   \u001b[0m\u001b[3mYear: \u001b[0m\u001b[3;36mtimestamp(6)\u001b[0m        │          \n",
       "                                                │ \u001b[3m   \u001b[0m\u001b[3mOrigin: \u001b[0m\u001b[3;38;5;214mstring\u001b[0m            │          \n",
       "                                                ╰──────────────────────────────╯          \n"
      ]
     },
     "metadata": {},
     "output_type": "display_data"
    }
   ],
   "source": [
    "# | echo: false\n",
    "c.visualize()"
   ]
  },
  {
   "cell_type": "markdown",
   "id": "3186bfd4",
   "metadata": {},
   "source": [
    ":::"
   ]
  },
  {
   "cell_type": "markdown",
   "id": "c021ba41",
   "metadata": {},
   "source": [
    "</Accordion>"
   ]
  },
  {
   "cell_type": "markdown",
   "id": "ec0965fe",
   "metadata": {},
   "source": [
    "<Accordion title=\"Null handling\">"
   ]
  },
  {
   "cell_type": "code",
   "execution_count": 7,
   "id": "5d915715",
   "metadata": {
    "execution": {
     "iopub.execute_input": "2024-03-12T19:52:26.151984Z",
     "iopub.status.busy": "2024-03-12T19:52:26.151795Z",
     "iopub.status.idle": "2024-03-12T19:52:26.177358Z",
     "shell.execute_reply": "2024-03-12T19:52:26.177112Z"
    }
   },
   "outputs": [],
   "source": [
    "# | echo: false\n",
    "from vinyl.operations import if_else\n",
    "from vinyl.examples import birdstrikes\n",
    "\n",
    "birdstrikes = birdstrikes()\n",
    "\n",
    "birdstrikes = birdstrikes.define_all(\n",
    "    birdstrikes.Effect__Amount_of_damage,\n",
    "    f=[lambda x: if_else(x == \"None\", None, x)],\n",
    ")\n",
    "birdstrikes = birdstrikes._create_view(\"birdstrikes\")"
   ]
  },
  {
   "cell_type": "code",
   "execution_count": 8,
   "id": "fb28f140",
   "metadata": {
    "execution": {
     "iopub.execute_input": "2024-03-12T19:52:26.178759Z",
     "iopub.status.busy": "2024-03-12T19:52:26.178678Z",
     "iopub.status.idle": "2024-03-12T19:52:26.182766Z",
     "shell.execute_reply": "2024-03-12T19:52:26.182539Z"
    }
   },
   "outputs": [],
   "source": [
    "from vinyl.operations import coalesce\n",
    "\n",
    "with birdstrikes as b:\n",
    "    b.filter(b.Effect__Amount_of_damage == None)\n",
    "    b.filter(b.Airport__Name != None)\n",
    "    b.select({\"airport_name\": coalesce(b.Airport__Name, \"Unknown\")})"
   ]
  },
  {
   "cell_type": "markdown",
   "id": "57446294",
   "metadata": {},
   "source": [
    "::: {.callout-warning}\n",
    "\n",
    "`column is None` and `column is not None` will not work as expected because Python requires `is` statements to evaluate to True or False.\n",
    "\n",
    ":::"
   ]
  },
  {
   "cell_type": "markdown",
   "id": "0503b21e",
   "metadata": {},
   "source": [
    "::: {.panel-tabset}"
   ]
  },
  {
   "cell_type": "markdown",
   "id": "30620ec1",
   "metadata": {},
   "source": [
    "#### SQL\n"
   ]
  },
  {
   "cell_type": "code",
   "execution_count": 9,
   "id": "4f0d32ef",
   "metadata": {
    "execution": {
     "iopub.execute_input": "2024-03-12T19:52:26.184260Z",
     "iopub.status.busy": "2024-03-12T19:52:26.184191Z",
     "iopub.status.idle": "2024-03-12T19:52:26.189130Z",
     "shell.execute_reply": "2024-03-12T19:52:26.188908Z"
    }
   },
   "outputs": [
    {
     "data": {
      "text/html": [
       "<pre style=\"white-space:pre;overflow-x:auto;line-height:normal;font-family:Menlo,'DejaVu Sans Mono',consolas,'Courier New',monospace\">SELECT\n",
       "  <span style=\"color: #800080; text-decoration-color: #800080; font-weight: bold\">COALESCE</span><span style=\"font-weight: bold\">(</span><span style=\"color: #008000; text-decoration-color: #008000\">\"t0\"</span>.<span style=\"color: #008000; text-decoration-color: #008000\">\"Airport__Name\"</span>, <span style=\"color: #008000; text-decoration-color: #008000\">'Unknown'</span><span style=\"font-weight: bold\">)</span> AS <span style=\"color: #008000; text-decoration-color: #008000\">\"airport_name\"</span>\n",
       "FROM <span style=\"color: #008000; text-decoration-color: #008000\">\"birdstrikes​\"</span> AS <span style=\"color: #008000; text-decoration-color: #008000\">\"t0\"</span>\n",
       "WHERE\n",
       "  <span style=\"color: #008000; text-decoration-color: #008000\">\"t0\"</span>.<span style=\"color: #008000; text-decoration-color: #008000\">\"Effect__Amount_of_damage\"</span> IS NULL AND NOT <span style=\"color: #008000; text-decoration-color: #008000\">\"t0\"</span>.<span style=\"color: #008000; text-decoration-color: #008000\">\"Airport__Name\"</span> IS NULL\n",
       "</pre>\n"
      ],
      "text/plain": [
       "SELECT\n",
       "  \u001b[1;35mCOALESCE\u001b[0m\u001b[1m(\u001b[0m\u001b[32m\"t0\"\u001b[0m.\u001b[32m\"Airport__Name\"\u001b[0m, \u001b[32m'Unknown'\u001b[0m\u001b[1m)\u001b[0m AS \u001b[32m\"airport_name\"\u001b[0m\n",
       "FROM \u001b[32m\"birdstrikes​\"\u001b[0m AS \u001b[32m\"t0\"\u001b[0m\n",
       "WHERE\n",
       "  \u001b[32m\"t0\"\u001b[0m.\u001b[32m\"Effect__Amount_of_damage\"\u001b[0m IS NULL AND NOT \u001b[32m\"t0\"\u001b[0m.\u001b[32m\"Airport__Name\"\u001b[0m IS NULL\n"
      ]
     },
     "metadata": {},
     "output_type": "display_data"
    }
   ],
   "source": [
    "# | echo: false\n",
    "print(b.to_sql())"
   ]
  },
  {
   "cell_type": "markdown",
   "id": "50510657",
   "metadata": {},
   "source": [
    "#### Result"
   ]
  },
  {
   "cell_type": "code",
   "execution_count": 10,
   "id": "fd272815",
   "metadata": {
    "execution": {
     "iopub.execute_input": "2024-03-12T19:52:26.190437Z",
     "iopub.status.busy": "2024-03-12T19:52:26.190372Z",
     "iopub.status.idle": "2024-03-12T19:52:26.196941Z",
     "shell.execute_reply": "2024-03-12T19:52:26.196726Z"
    }
   },
   "outputs": [
    {
     "data": {
      "text/html": [
       "<pre style=\"white-space:pre;overflow-x:auto;line-height:normal;font-family:Menlo,'DejaVu Sans Mono',consolas,'Courier New',monospace\">┏━━━━━━━━━━━━━━━━━━━━━━━━━━━━━━━┓\n",
       "┃<span style=\"font-weight: bold\"> airport_name                  </span>┃\n",
       "┡━━━━━━━━━━━━━━━━━━━━━━━━━━━━━━━┩\n",
       "│ <span style=\"color: #7f7f7f; text-decoration-color: #7f7f7f\">string</span>                        │\n",
       "├───────────────────────────────┤\n",
       "│ <span style=\"color: #008000; text-decoration-color: #008000\">BARKSDALE AIR FORCE BASE ARPT</span> │\n",
       "│ <span style=\"color: #008000; text-decoration-color: #008000\">BARKSDALE AIR FORCE BASE ARPT</span> │\n",
       "│ <span style=\"color: #008000; text-decoration-color: #008000\">BARKSDALE AIR FORCE BASE ARPT</span> │\n",
       "│ <span style=\"color: #008000; text-decoration-color: #008000\">BARKSDALE AIR FORCE BASE ARPT</span> │\n",
       "│ <span style=\"color: #008000; text-decoration-color: #008000\">BARKSDALE AIR FORCE BASE ARPT</span> │\n",
       "│ <span style=\"color: #008000; text-decoration-color: #008000\">BARKSDALE AIR FORCE BASE ARPT</span> │\n",
       "│ <span style=\"color: #008000; text-decoration-color: #008000\">WASHINGTON DULLES INTL ARPT  </span> │\n",
       "│ <span style=\"color: #008000; text-decoration-color: #008000\">BARKSDALE AIR FORCE BASE ARPT</span> │\n",
       "│ <span style=\"color: #008000; text-decoration-color: #008000\">BARKSDALE AIR FORCE BASE ARPT</span> │\n",
       "│ <span style=\"color: #008000; text-decoration-color: #008000\">BARKSDALE AIR FORCE BASE ARPT</span> │\n",
       "│ <span style=\"color: #7f7f7f; text-decoration-color: #7f7f7f\">…</span>                             │\n",
       "└───────────────────────────────┘\n",
       "</pre>\n"
      ],
      "text/plain": [
       "┏━━━━━━━━━━━━━━━━━━━━━━━━━━━━━━━┓\n",
       "┃\u001b[1m \u001b[0m\u001b[1mairport_name\u001b[0m\u001b[1m                 \u001b[0m\u001b[1m \u001b[0m┃\n",
       "┡━━━━━━━━━━━━━━━━━━━━━━━━━━━━━━━┩\n",
       "│ \u001b[2mstring\u001b[0m                        │\n",
       "├───────────────────────────────┤\n",
       "│ \u001b[32mBARKSDALE AIR FORCE BASE ARPT\u001b[0m │\n",
       "│ \u001b[32mBARKSDALE AIR FORCE BASE ARPT\u001b[0m │\n",
       "│ \u001b[32mBARKSDALE AIR FORCE BASE ARPT\u001b[0m │\n",
       "│ \u001b[32mBARKSDALE AIR FORCE BASE ARPT\u001b[0m │\n",
       "│ \u001b[32mBARKSDALE AIR FORCE BASE ARPT\u001b[0m │\n",
       "│ \u001b[32mBARKSDALE AIR FORCE BASE ARPT\u001b[0m │\n",
       "│ \u001b[32mWASHINGTON DULLES INTL ARPT  \u001b[0m │\n",
       "│ \u001b[32mBARKSDALE AIR FORCE BASE ARPT\u001b[0m │\n",
       "│ \u001b[32mBARKSDALE AIR FORCE BASE ARPT\u001b[0m │\n",
       "│ \u001b[32mBARKSDALE AIR FORCE BASE ARPT\u001b[0m │\n",
       "│ \u001b[2m…\u001b[0m                             │\n",
       "└───────────────────────────────┘\n"
      ]
     },
     "metadata": {},
     "output_type": "display_data"
    }
   ],
   "source": [
    "# | echo: false\n",
    "print(b.execute(\"text\"))"
   ]
  },
  {
   "cell_type": "markdown",
   "id": "196359ca",
   "metadata": {},
   "source": [
    "#### AST"
   ]
  },
  {
   "cell_type": "code",
   "execution_count": 11,
   "id": "ddb7e628",
   "metadata": {
    "execution": {
     "iopub.execute_input": "2024-03-12T19:52:26.198211Z",
     "iopub.status.busy": "2024-03-12T19:52:26.198144Z",
     "iopub.status.idle": "2024-03-12T19:52:26.200645Z",
     "shell.execute_reply": "2024-03-12T19:52:26.200432Z"
    }
   },
   "outputs": [
    {
     "data": {
      "text/plain": [
       "r0 := DatabaseTable: birdstrikes​\n",
       "  Airport__Name              string\n",
       "  Aircraft__Make_Model       string\n",
       "  Flight_Date                string\n",
       "  Aircraft__Airline_Operator string\n",
       "  Origin_State               string\n",
       "  When__Phase_of_flight      string\n",
       "  Wildlife__Size             string\n",
       "  Wildlife__Species          string\n",
       "  When__Time_of_day          string\n",
       "  Cost__Other                int64\n",
       "  Cost__Repair               int64\n",
       "  Cost__Total_$              int64\n",
       "  Speed_IAS_in_knots         float64\n",
       "  Effect__Amount_of_damage   string\n",
       "\n",
       "r1 := Filter[r0]\n",
       "  IsNull(r0.Effect__Amount_of_damage)\n",
       "\n",
       "r2 := Filter[r1]\n",
       "  NotNull(r1.Airport__Name)\n",
       "\n",
       "Project[r2]\n",
       "  airport_name: Coalesce([r2.Airport__Name, 'Unknown'])"
      ]
     },
     "execution_count": 11,
     "metadata": {},
     "output_type": "execute_result"
    }
   ],
   "source": [
    "# | echo: false\n",
    "b"
   ]
  },
  {
   "cell_type": "markdown",
   "id": "64d1be30",
   "metadata": {},
   "source": [
    "#### AST graph\n"
   ]
  },
  {
   "cell_type": "code",
   "execution_count": 12,
   "id": "ed25d322",
   "metadata": {
    "execution": {
     "iopub.execute_input": "2024-03-12T19:52:26.201820Z",
     "iopub.status.busy": "2024-03-12T19:52:26.201751Z",
     "iopub.status.idle": "2024-03-12T19:52:26.566124Z",
     "shell.execute_reply": "2024-03-12T19:52:26.565866Z"
    }
   },
   "outputs": [
    {
     "data": {
      "text/html": [
       "<pre style=\"white-space:pre;overflow-x:auto;line-height:normal;font-family:Menlo,'DejaVu Sans Mono',consolas,'Courier New',monospace\">                                        ╭─────────────────────────╮       \n",
       "                                        │ <span style=\"font-weight: bold\">Project</span>                 │       \n",
       "                                ╭──────▶│ <span style=\"font-weight: bold\">   </span><span style=\"font-weight: bold; font-style: italic\">airport_name: </span><span style=\"color: #ffaf00; text-decoration-color: #ffaf00; font-weight: bold; font-style: italic\">string</span> │       \n",
       "                                │       ╰─────────────────────────╯       \n",
       "                                │                    ▲                    \n",
       "                                │                    │                    \n",
       "                                │                    │                    \n",
       "                                │                    │                    \n",
       "                        ╭──────────────╮             │                    \n",
       "                        │ <span style=\"font-weight: bold\">Coalesce</span>     │             │                    \n",
       "                        │ <span style=\"font-weight: bold\">   :: </span><span style=\"color: #ffaf00; text-decoration-color: #ffaf00; font-weight: bold\">string</span> │◀─╮          │                    \n",
       "                        ╰──────────────╯  │          │                    \n",
       "                                ▲         │          │                    \n",
       "                                │         │          │                    \n",
       "                                │         │          │                    \n",
       "                                │         │          │                    \n",
       "╭──────────────────────╮        │         ╭────────────────────╮          \n",
       "│ <span style=\"font-style: italic\">Airport__Name: </span><span style=\"font-weight: bold; font-style: italic\">Field</span> │        │         │ <span style=\"font-style: italic\">'Unknown': </span><span style=\"font-weight: bold; font-style: italic\">Literal</span> │          \n",
       "│ <span style=\"font-style: italic\">   :: </span><span style=\"color: #ffaf00; text-decoration-color: #ffaf00; font-style: italic\">string</span>         │────────╯         │ <span style=\"font-style: italic\">   :: </span><span style=\"color: #ffaf00; text-decoration-color: #ffaf00; font-style: italic\">string</span>       │          \n",
       "╰──────────────────────╯                  ╰────────────────────╯          \n",
       "            ▲                                        │                    \n",
       "            │                                        │                    \n",
       "            │                                        │                    \n",
       "            │                                        │                    \n",
       "            │                                        │                    \n",
       "            │                    ╭───────────────────────────────────────╮\n",
       "            │                    │ <span style=\"font-weight: bold\">Filter</span>                                │\n",
       "            │                    │ <span style=\"font-weight: bold\">   </span><span style=\"font-weight: bold; font-style: italic\">Airport__Name: </span><span style=\"color: #ffaf00; text-decoration-color: #ffaf00; font-weight: bold; font-style: italic\">string</span>              │\n",
       "            │                    │ <span style=\"font-weight: bold\">   </span><span style=\"font-weight: bold; font-style: italic\">Aircraft__Make_Model: </span><span style=\"color: #ffaf00; text-decoration-color: #ffaf00; font-weight: bold; font-style: italic\">string</span>       │\n",
       "            │                    │ <span style=\"font-weight: bold\">   </span><span style=\"font-weight: bold; font-style: italic\">Flight_Date: </span><span style=\"color: #ffaf00; text-decoration-color: #ffaf00; font-weight: bold; font-style: italic\">string</span>                │\n",
       "            │                    │ <span style=\"font-weight: bold\">   </span><span style=\"font-weight: bold; font-style: italic\">Aircraft__Airline_Operator: </span><span style=\"color: #ffaf00; text-decoration-color: #ffaf00; font-weight: bold; font-style: italic\">string</span> │\n",
       "            │                    │ <span style=\"font-weight: bold\">   </span><span style=\"font-weight: bold; font-style: italic\">Origin_State: </span><span style=\"color: #ffaf00; text-decoration-color: #ffaf00; font-weight: bold; font-style: italic\">string</span>               │\n",
       "            │                    │ <span style=\"font-weight: bold\">   </span><span style=\"font-weight: bold; font-style: italic\">When__Phase_of_flight: </span><span style=\"color: #ffaf00; text-decoration-color: #ffaf00; font-weight: bold; font-style: italic\">string</span>      │\n",
       "            ╰───────────────────▲│ <span style=\"font-weight: bold\">   </span><span style=\"font-weight: bold; font-style: italic\">Wildlife__Size: </span><span style=\"color: #ffaf00; text-decoration-color: #ffaf00; font-weight: bold; font-style: italic\">string</span>             │\n",
       "                                ││ <span style=\"font-weight: bold\">   </span><span style=\"font-weight: bold; font-style: italic\">Wildlife__Species: </span><span style=\"color: #ffaf00; text-decoration-color: #ffaf00; font-weight: bold; font-style: italic\">string</span>          │\n",
       "                                ││ <span style=\"font-weight: bold\">   </span><span style=\"font-weight: bold; font-style: italic\">When__Time_of_day: </span><span style=\"color: #ffaf00; text-decoration-color: #ffaf00; font-weight: bold; font-style: italic\">string</span>          │\n",
       "                                ││ <span style=\"font-weight: bold\">   </span><span style=\"font-weight: bold; font-style: italic\">Cost__Other: </span><span style=\"color: #808000; text-decoration-color: #808000; font-weight: bold; font-style: italic\">int64</span>                 │\n",
       "                                ││ <span style=\"font-weight: bold\">   </span><span style=\"font-weight: bold; font-style: italic\">Cost__Repair: </span><span style=\"color: #808000; text-decoration-color: #808000; font-weight: bold; font-style: italic\">int64</span>                │\n",
       "                                ││ <span style=\"font-weight: bold\">   </span><span style=\"font-weight: bold; font-style: italic\">Cost__Total_$: </span><span style=\"color: #808000; text-decoration-color: #808000; font-weight: bold; font-style: italic\">int64</span>               │\n",
       "                                ││ <span style=\"font-weight: bold\">   </span><span style=\"font-weight: bold; font-style: italic\">Speed_IAS_in_knots: </span><span style=\"color: #808000; text-decoration-color: #808000; font-weight: bold; font-style: italic\">float64</span>        │\n",
       "                                ││ <span style=\"font-weight: bold\">   </span><span style=\"font-weight: bold; font-style: italic\">Effect__Amount_of_damage: </span><span style=\"color: #ffaf00; text-decoration-color: #ffaf00; font-weight: bold; font-style: italic\">string</span>   │\n",
       "                                │╰───────────────────────────────────────╯\n",
       "                                │                    ▲                    \n",
       "                                │                    │                    \n",
       "                                │                    │                    \n",
       "                        ╭───────────────╮            │                    \n",
       "                        │ <span style=\"font-weight: bold\">NotNull</span>       │            │                    \n",
       "                        │ <span style=\"font-weight: bold\">   :: </span><span style=\"color: #af00ff; text-decoration-color: #af00ff; font-weight: bold\">boolean</span> │            │                    \n",
       "                        ╰───────────────╯            │                    \n",
       "                                ▲                    │                    \n",
       "                                │                    │                    \n",
       "                                │                    │                    \n",
       "                                │                    │                    \n",
       "                    ╭──────────────────────╮         │                    \n",
       "                    │ <span style=\"font-style: italic\">Airport__Name: </span><span style=\"font-weight: bold; font-style: italic\">Field</span> │         │                    \n",
       "                    │ <span style=\"font-style: italic\">   :: </span><span style=\"color: #ffaf00; text-decoration-color: #ffaf00; font-style: italic\">string</span>         │         │                    \n",
       "                    ╰──────────────────────╯         │                    \n",
       "                                ▲                    │                    \n",
       "                                │                    │                    \n",
       "                                │                    │                    \n",
       "                                │                    │                    \n",
       "                                │                    │                    \n",
       "                                │╭───────────────────────────────────────╮\n",
       "                                ││ <span style=\"font-weight: bold\">Filter</span>                                │\n",
       "                                ││ <span style=\"font-weight: bold\">   </span><span style=\"font-weight: bold; font-style: italic\">Airport__Name: </span><span style=\"color: #ffaf00; text-decoration-color: #ffaf00; font-weight: bold; font-style: italic\">string</span>              │\n",
       "                                ││ <span style=\"font-weight: bold\">   </span><span style=\"font-weight: bold; font-style: italic\">Aircraft__Make_Model: </span><span style=\"color: #ffaf00; text-decoration-color: #ffaf00; font-weight: bold; font-style: italic\">string</span>       │\n",
       "                                ││ <span style=\"font-weight: bold\">   </span><span style=\"font-weight: bold; font-style: italic\">Flight_Date: </span><span style=\"color: #ffaf00; text-decoration-color: #ffaf00; font-weight: bold; font-style: italic\">string</span>                │\n",
       "                                ││ <span style=\"font-weight: bold\">   </span><span style=\"font-weight: bold; font-style: italic\">Aircraft__Airline_Operator: </span><span style=\"color: #ffaf00; text-decoration-color: #ffaf00; font-weight: bold; font-style: italic\">string</span> │\n",
       "                                ││ <span style=\"font-weight: bold\">   </span><span style=\"font-weight: bold; font-style: italic\">Origin_State: </span><span style=\"color: #ffaf00; text-decoration-color: #ffaf00; font-weight: bold; font-style: italic\">string</span>               │\n",
       "                                ││ <span style=\"font-weight: bold\">   </span><span style=\"font-weight: bold; font-style: italic\">When__Phase_of_flight: </span><span style=\"color: #ffaf00; text-decoration-color: #ffaf00; font-weight: bold; font-style: italic\">string</span>      │\n",
       "                           ╭────▶│ <span style=\"font-weight: bold\">   </span><span style=\"font-weight: bold; font-style: italic\">Wildlife__Size: </span><span style=\"color: #ffaf00; text-decoration-color: #ffaf00; font-weight: bold; font-style: italic\">string</span>             │\n",
       "                           │     │ <span style=\"font-weight: bold\">   </span><span style=\"font-weight: bold; font-style: italic\">Wildlife__Species: </span><span style=\"color: #ffaf00; text-decoration-color: #ffaf00; font-weight: bold; font-style: italic\">string</span>          │\n",
       "                           │     │ <span style=\"font-weight: bold\">   </span><span style=\"font-weight: bold; font-style: italic\">When__Time_of_day: </span><span style=\"color: #ffaf00; text-decoration-color: #ffaf00; font-weight: bold; font-style: italic\">string</span>          │\n",
       "                           │     │ <span style=\"font-weight: bold\">   </span><span style=\"font-weight: bold; font-style: italic\">Cost__Other: </span><span style=\"color: #808000; text-decoration-color: #808000; font-weight: bold; font-style: italic\">int64</span>                 │\n",
       "                           │     │ <span style=\"font-weight: bold\">   </span><span style=\"font-weight: bold; font-style: italic\">Cost__Repair: </span><span style=\"color: #808000; text-decoration-color: #808000; font-weight: bold; font-style: italic\">int64</span>                │\n",
       "                           │     │ <span style=\"font-weight: bold\">   </span><span style=\"font-weight: bold; font-style: italic\">Cost__Total_$: </span><span style=\"color: #808000; text-decoration-color: #808000; font-weight: bold; font-style: italic\">int64</span>               │\n",
       "                           │     │ <span style=\"font-weight: bold\">   </span><span style=\"font-weight: bold; font-style: italic\">Speed_IAS_in_knots: </span><span style=\"color: #808000; text-decoration-color: #808000; font-weight: bold; font-style: italic\">float64</span>        │\n",
       "                           │     │ <span style=\"font-weight: bold\">   </span><span style=\"font-weight: bold; font-style: italic\">Effect__Amount_of_damage: </span><span style=\"color: #ffaf00; text-decoration-color: #ffaf00; font-weight: bold; font-style: italic\">string</span>   │\n",
       "                           │     ╰───────────────────────────────────────╯\n",
       "                           │                         ▲                    \n",
       "                           │                         │                    \n",
       "                           │                         │                    \n",
       "                   ╭───────────────╮                 │                    \n",
       "                   │ <span style=\"font-weight: bold\">IsNull</span>        │                 │                    \n",
       "                   │ <span style=\"font-weight: bold\">   :: </span><span style=\"color: #af00ff; text-decoration-color: #af00ff; font-weight: bold\">boolean</span> │                 │                    \n",
       "                   ╰───────────────╯                 │                    \n",
       "                           ▲                         │                    \n",
       "                           │                         │                    \n",
       "                           │                         │                    \n",
       "                           │                         │                    \n",
       "          ╭─────────────────────────────────╮        │                    \n",
       "          │ <span style=\"font-style: italic\">Effect__Amount_of_damage: </span><span style=\"font-weight: bold; font-style: italic\">Field</span> │        │                    \n",
       "          │ <span style=\"font-style: italic\">   :: </span><span style=\"color: #ffaf00; text-decoration-color: #ffaf00; font-style: italic\">string</span>                    │        │                    \n",
       "          ╰─────────────────────────────────╯        │                    \n",
       "                           ▲                         │                    \n",
       "                           │                         │                    \n",
       "                           │                         │                    \n",
       "                           │                         │                    \n",
       "                           │                         │                    \n",
       "                           │     ╭───────────────────────────────────────╮\n",
       "                           │     │ <span style=\"font-style: italic\">birdstrikes​: </span><span style=\"font-weight: bold; font-style: italic\">DatabaseTable</span>            │\n",
       "                           │     │ <span style=\"font-style: italic\">   Airport__Name: </span><span style=\"color: #ffaf00; text-decoration-color: #ffaf00; font-style: italic\">string</span>              │\n",
       "                           │     │ <span style=\"font-style: italic\">   Aircraft__Make_Model: </span><span style=\"color: #ffaf00; text-decoration-color: #ffaf00; font-style: italic\">string</span>       │\n",
       "                           │     │ <span style=\"font-style: italic\">   Flight_Date: </span><span style=\"color: #ffaf00; text-decoration-color: #ffaf00; font-style: italic\">string</span>                │\n",
       "                           │     │ <span style=\"font-style: italic\">   Aircraft__Airline_Operator: </span><span style=\"color: #ffaf00; text-decoration-color: #ffaf00; font-style: italic\">string</span> │\n",
       "                           │     │ <span style=\"font-style: italic\">   Origin_State: </span><span style=\"color: #ffaf00; text-decoration-color: #ffaf00; font-style: italic\">string</span>               │\n",
       "                           │     │ <span style=\"font-style: italic\">   When__Phase_of_flight: </span><span style=\"color: #ffaf00; text-decoration-color: #ffaf00; font-style: italic\">string</span>      │\n",
       "                           ╰─────│ <span style=\"font-style: italic\">   Wildlife__Size: </span><span style=\"color: #ffaf00; text-decoration-color: #ffaf00; font-style: italic\">string</span>             │\n",
       "                                 │ <span style=\"font-style: italic\">   Wildlife__Species: </span><span style=\"color: #ffaf00; text-decoration-color: #ffaf00; font-style: italic\">string</span>          │\n",
       "                                 │ <span style=\"font-style: italic\">   When__Time_of_day: </span><span style=\"color: #ffaf00; text-decoration-color: #ffaf00; font-style: italic\">string</span>          │\n",
       "                                 │ <span style=\"font-style: italic\">   Cost__Other: </span><span style=\"color: #808000; text-decoration-color: #808000; font-style: italic\">int64</span>                 │\n",
       "                                 │ <span style=\"font-style: italic\">   Cost__Repair: </span><span style=\"color: #808000; text-decoration-color: #808000; font-style: italic\">int64</span>                │\n",
       "                                 │ <span style=\"font-style: italic\">   Cost__Total_$: </span><span style=\"color: #808000; text-decoration-color: #808000; font-style: italic\">int64</span>               │\n",
       "                                 │ <span style=\"font-style: italic\">   Speed_IAS_in_knots: </span><span style=\"color: #808000; text-decoration-color: #808000; font-style: italic\">float64</span>        │\n",
       "                                 │ <span style=\"font-style: italic\">   Effect__Amount_of_damage: </span><span style=\"color: #ffaf00; text-decoration-color: #ffaf00; font-style: italic\">string</span>   │\n",
       "                                 ╰───────────────────────────────────────╯\n",
       "</pre>\n"
      ],
      "text/plain": [
       "                                        ╭─────────────────────────╮       \n",
       "                                        │ \u001b[1mProject\u001b[0m                 │       \n",
       "                                ╭──────▶│ \u001b[1m   \u001b[0m\u001b[1;3mairport_name: \u001b[0m\u001b[1;3;38;5;214mstring\u001b[0m │       \n",
       "                                │       ╰─────────────────────────╯       \n",
       "                                │                    ▲                    \n",
       "                                │                    │                    \n",
       "                                │                    │                    \n",
       "                                │                    │                    \n",
       "                        ╭──────────────╮             │                    \n",
       "                        │ \u001b[1mCoalesce\u001b[0m     │             │                    \n",
       "                        │ \u001b[1m   :: \u001b[0m\u001b[1;38;5;214mstring\u001b[0m │◀─╮          │                    \n",
       "                        ╰──────────────╯  │          │                    \n",
       "                                ▲         │          │                    \n",
       "                                │         │          │                    \n",
       "                                │         │          │                    \n",
       "                                │         │          │                    \n",
       "╭──────────────────────╮        │         ╭────────────────────╮          \n",
       "│ \u001b[3mAirport__Name: \u001b[0m\u001b[1;3mField\u001b[0m │        │         │ \u001b[3m'Unknown': \u001b[0m\u001b[1;3mLiteral\u001b[0m │          \n",
       "│ \u001b[3m   :: \u001b[0m\u001b[3;38;5;214mstring\u001b[0m         │────────╯         │ \u001b[3m   :: \u001b[0m\u001b[3;38;5;214mstring\u001b[0m       │          \n",
       "╰──────────────────────╯                  ╰────────────────────╯          \n",
       "            ▲                                        │                    \n",
       "            │                                        │                    \n",
       "            │                                        │                    \n",
       "            │                                        │                    \n",
       "            │                                        │                    \n",
       "            │                    ╭───────────────────────────────────────╮\n",
       "            │                    │ \u001b[1mFilter\u001b[0m                                │\n",
       "            │                    │ \u001b[1m   \u001b[0m\u001b[1;3mAirport__Name: \u001b[0m\u001b[1;3;38;5;214mstring\u001b[0m              │\n",
       "            │                    │ \u001b[1m   \u001b[0m\u001b[1;3mAircraft__Make_Model: \u001b[0m\u001b[1;3;38;5;214mstring\u001b[0m       │\n",
       "            │                    │ \u001b[1m   \u001b[0m\u001b[1;3mFlight_Date: \u001b[0m\u001b[1;3;38;5;214mstring\u001b[0m                │\n",
       "            │                    │ \u001b[1m   \u001b[0m\u001b[1;3mAircraft__Airline_Operator: \u001b[0m\u001b[1;3;38;5;214mstring\u001b[0m │\n",
       "            │                    │ \u001b[1m   \u001b[0m\u001b[1;3mOrigin_State: \u001b[0m\u001b[1;3;38;5;214mstring\u001b[0m               │\n",
       "            │                    │ \u001b[1m   \u001b[0m\u001b[1;3mWhen__Phase_of_flight: \u001b[0m\u001b[1;3;38;5;214mstring\u001b[0m      │\n",
       "            ╰───────────────────▲│ \u001b[1m   \u001b[0m\u001b[1;3mWildlife__Size: \u001b[0m\u001b[1;3;38;5;214mstring\u001b[0m             │\n",
       "                                ││ \u001b[1m   \u001b[0m\u001b[1;3mWildlife__Species: \u001b[0m\u001b[1;3;38;5;214mstring\u001b[0m          │\n",
       "                                ││ \u001b[1m   \u001b[0m\u001b[1;3mWhen__Time_of_day: \u001b[0m\u001b[1;3;38;5;214mstring\u001b[0m          │\n",
       "                                ││ \u001b[1m   \u001b[0m\u001b[1;3mCost__Other: \u001b[0m\u001b[1;3;33mint64\u001b[0m                 │\n",
       "                                ││ \u001b[1m   \u001b[0m\u001b[1;3mCost__Repair: \u001b[0m\u001b[1;3;33mint64\u001b[0m                │\n",
       "                                ││ \u001b[1m   \u001b[0m\u001b[1;3mCost__Total_$: \u001b[0m\u001b[1;3;33mint64\u001b[0m               │\n",
       "                                ││ \u001b[1m   \u001b[0m\u001b[1;3mSpeed_IAS_in_knots: \u001b[0m\u001b[1;3;33mfloat64\u001b[0m        │\n",
       "                                ││ \u001b[1m   \u001b[0m\u001b[1;3mEffect__Amount_of_damage: \u001b[0m\u001b[1;3;38;5;214mstring\u001b[0m   │\n",
       "                                │╰───────────────────────────────────────╯\n",
       "                                │                    ▲                    \n",
       "                                │                    │                    \n",
       "                                │                    │                    \n",
       "                        ╭───────────────╮            │                    \n",
       "                        │ \u001b[1mNotNull\u001b[0m       │            │                    \n",
       "                        │ \u001b[1m   :: \u001b[0m\u001b[1;38;5;129mboolean\u001b[0m │            │                    \n",
       "                        ╰───────────────╯            │                    \n",
       "                                ▲                    │                    \n",
       "                                │                    │                    \n",
       "                                │                    │                    \n",
       "                                │                    │                    \n",
       "                    ╭──────────────────────╮         │                    \n",
       "                    │ \u001b[3mAirport__Name: \u001b[0m\u001b[1;3mField\u001b[0m │         │                    \n",
       "                    │ \u001b[3m   :: \u001b[0m\u001b[3;38;5;214mstring\u001b[0m         │         │                    \n",
       "                    ╰──────────────────────╯         │                    \n",
       "                                ▲                    │                    \n",
       "                                │                    │                    \n",
       "                                │                    │                    \n",
       "                                │                    │                    \n",
       "                                │                    │                    \n",
       "                                │╭───────────────────────────────────────╮\n",
       "                                ││ \u001b[1mFilter\u001b[0m                                │\n",
       "                                ││ \u001b[1m   \u001b[0m\u001b[1;3mAirport__Name: \u001b[0m\u001b[1;3;38;5;214mstring\u001b[0m              │\n",
       "                                ││ \u001b[1m   \u001b[0m\u001b[1;3mAircraft__Make_Model: \u001b[0m\u001b[1;3;38;5;214mstring\u001b[0m       │\n",
       "                                ││ \u001b[1m   \u001b[0m\u001b[1;3mFlight_Date: \u001b[0m\u001b[1;3;38;5;214mstring\u001b[0m                │\n",
       "                                ││ \u001b[1m   \u001b[0m\u001b[1;3mAircraft__Airline_Operator: \u001b[0m\u001b[1;3;38;5;214mstring\u001b[0m │\n",
       "                                ││ \u001b[1m   \u001b[0m\u001b[1;3mOrigin_State: \u001b[0m\u001b[1;3;38;5;214mstring\u001b[0m               │\n",
       "                                ││ \u001b[1m   \u001b[0m\u001b[1;3mWhen__Phase_of_flight: \u001b[0m\u001b[1;3;38;5;214mstring\u001b[0m      │\n",
       "                           ╭────▶│ \u001b[1m   \u001b[0m\u001b[1;3mWildlife__Size: \u001b[0m\u001b[1;3;38;5;214mstring\u001b[0m             │\n",
       "                           │     │ \u001b[1m   \u001b[0m\u001b[1;3mWildlife__Species: \u001b[0m\u001b[1;3;38;5;214mstring\u001b[0m          │\n",
       "                           │     │ \u001b[1m   \u001b[0m\u001b[1;3mWhen__Time_of_day: \u001b[0m\u001b[1;3;38;5;214mstring\u001b[0m          │\n",
       "                           │     │ \u001b[1m   \u001b[0m\u001b[1;3mCost__Other: \u001b[0m\u001b[1;3;33mint64\u001b[0m                 │\n",
       "                           │     │ \u001b[1m   \u001b[0m\u001b[1;3mCost__Repair: \u001b[0m\u001b[1;3;33mint64\u001b[0m                │\n",
       "                           │     │ \u001b[1m   \u001b[0m\u001b[1;3mCost__Total_$: \u001b[0m\u001b[1;3;33mint64\u001b[0m               │\n",
       "                           │     │ \u001b[1m   \u001b[0m\u001b[1;3mSpeed_IAS_in_knots: \u001b[0m\u001b[1;3;33mfloat64\u001b[0m        │\n",
       "                           │     │ \u001b[1m   \u001b[0m\u001b[1;3mEffect__Amount_of_damage: \u001b[0m\u001b[1;3;38;5;214mstring\u001b[0m   │\n",
       "                           │     ╰───────────────────────────────────────╯\n",
       "                           │                         ▲                    \n",
       "                           │                         │                    \n",
       "                           │                         │                    \n",
       "                   ╭───────────────╮                 │                    \n",
       "                   │ \u001b[1mIsNull\u001b[0m        │                 │                    \n",
       "                   │ \u001b[1m   :: \u001b[0m\u001b[1;38;5;129mboolean\u001b[0m │                 │                    \n",
       "                   ╰───────────────╯                 │                    \n",
       "                           ▲                         │                    \n",
       "                           │                         │                    \n",
       "                           │                         │                    \n",
       "                           │                         │                    \n",
       "          ╭─────────────────────────────────╮        │                    \n",
       "          │ \u001b[3mEffect__Amount_of_damage: \u001b[0m\u001b[1;3mField\u001b[0m │        │                    \n",
       "          │ \u001b[3m   :: \u001b[0m\u001b[3;38;5;214mstring\u001b[0m                    │        │                    \n",
       "          ╰─────────────────────────────────╯        │                    \n",
       "                           ▲                         │                    \n",
       "                           │                         │                    \n",
       "                           │                         │                    \n",
       "                           │                         │                    \n",
       "                           │                         │                    \n",
       "                           │     ╭───────────────────────────────────────╮\n",
       "                           │     │ \u001b[3mbirdstrikes​: \u001b[0m\u001b[1;3mDatabaseTable\u001b[0m            │\n",
       "                           │     │ \u001b[3m   \u001b[0m\u001b[3mAirport__Name: \u001b[0m\u001b[3;38;5;214mstring\u001b[0m              │\n",
       "                           │     │ \u001b[3m   \u001b[0m\u001b[3mAircraft__Make_Model: \u001b[0m\u001b[3;38;5;214mstring\u001b[0m       │\n",
       "                           │     │ \u001b[3m   \u001b[0m\u001b[3mFlight_Date: \u001b[0m\u001b[3;38;5;214mstring\u001b[0m                │\n",
       "                           │     │ \u001b[3m   \u001b[0m\u001b[3mAircraft__Airline_Operator: \u001b[0m\u001b[3;38;5;214mstring\u001b[0m │\n",
       "                           │     │ \u001b[3m   \u001b[0m\u001b[3mOrigin_State: \u001b[0m\u001b[3;38;5;214mstring\u001b[0m               │\n",
       "                           │     │ \u001b[3m   \u001b[0m\u001b[3mWhen__Phase_of_flight: \u001b[0m\u001b[3;38;5;214mstring\u001b[0m      │\n",
       "                           ╰─────│ \u001b[3m   \u001b[0m\u001b[3mWildlife__Size: \u001b[0m\u001b[3;38;5;214mstring\u001b[0m             │\n",
       "                                 │ \u001b[3m   \u001b[0m\u001b[3mWildlife__Species: \u001b[0m\u001b[3;38;5;214mstring\u001b[0m          │\n",
       "                                 │ \u001b[3m   \u001b[0m\u001b[3mWhen__Time_of_day: \u001b[0m\u001b[3;38;5;214mstring\u001b[0m          │\n",
       "                                 │ \u001b[3m   \u001b[0m\u001b[3mCost__Other: \u001b[0m\u001b[3;33mint64\u001b[0m                 │\n",
       "                                 │ \u001b[3m   \u001b[0m\u001b[3mCost__Repair: \u001b[0m\u001b[3;33mint64\u001b[0m                │\n",
       "                                 │ \u001b[3m   \u001b[0m\u001b[3mCost__Total_$: \u001b[0m\u001b[3;33mint64\u001b[0m               │\n",
       "                                 │ \u001b[3m   \u001b[0m\u001b[3mSpeed_IAS_in_knots: \u001b[0m\u001b[3;33mfloat64\u001b[0m        │\n",
       "                                 │ \u001b[3m   \u001b[0m\u001b[3mEffect__Amount_of_damage: \u001b[0m\u001b[3;38;5;214mstring\u001b[0m   │\n",
       "                                 ╰───────────────────────────────────────╯\n"
      ]
     },
     "metadata": {},
     "output_type": "display_data"
    }
   ],
   "source": [
    "# | echo: false\n",
    "b.visualize()"
   ]
  },
  {
   "cell_type": "markdown",
   "id": "11af7f0b",
   "metadata": {},
   "source": [
    ":::"
   ]
  },
  {
   "cell_type": "markdown",
   "id": "c11db93c",
   "metadata": {},
   "source": [
    "</Accordion>"
   ]
  },
  {
   "cell_type": "markdown",
   "id": "1efd64f5",
   "metadata": {},
   "source": [
    "<Accordion title=\"Functions\">"
   ]
  },
  {
   "cell_type": "code",
   "execution_count": 13,
   "id": "7d725b00",
   "metadata": {
    "execution": {
     "iopub.execute_input": "2024-03-12T19:52:26.567677Z",
     "iopub.status.busy": "2024-03-12T19:52:26.567572Z",
     "iopub.status.idle": "2024-03-12T19:52:26.578127Z",
     "shell.execute_reply": "2024-03-12T19:52:26.577873Z"
    },
    "lines_to_next_cell": 1
   },
   "outputs": [],
   "source": [
    "# | echo: false\n",
    "from vinyl.examples import iris\n",
    "\n",
    "iris = iris()"
   ]
  },
  {
   "cell_type": "code",
   "execution_count": 14,
   "id": "68244a14",
   "metadata": {
    "execution": {
     "iopub.execute_input": "2024-03-12T19:52:26.579563Z",
     "iopub.status.busy": "2024-03-12T19:52:26.579447Z",
     "iopub.status.idle": "2024-03-12T19:52:26.583008Z",
     "shell.execute_reply": "2024-03-12T19:52:26.582777Z"
    }
   },
   "outputs": [],
   "source": [
    "def perimeter(x, y):\n",
    "    return 2 * (x + y)\n",
    "\n",
    "\n",
    "with iris as i:\n",
    "    i.define({\"petalPerimeter\": perimeter(i.petalLength, i.petalWidth)})"
   ]
  },
  {
   "cell_type": "markdown",
   "id": "423cfdf0",
   "metadata": {},
   "source": [
    "::: {.panel-tabset}"
   ]
  },
  {
   "cell_type": "markdown",
   "id": "a5a9e1f3",
   "metadata": {},
   "source": [
    "#### SQL\n"
   ]
  },
  {
   "cell_type": "code",
   "execution_count": 15,
   "id": "797d26ab",
   "metadata": {
    "execution": {
     "iopub.execute_input": "2024-03-12T19:52:26.584326Z",
     "iopub.status.busy": "2024-03-12T19:52:26.584258Z",
     "iopub.status.idle": "2024-03-12T19:52:26.588423Z",
     "shell.execute_reply": "2024-03-12T19:52:26.588186Z"
    }
   },
   "outputs": [
    {
     "data": {
      "text/html": [
       "<pre style=\"white-space:pre;overflow-x:auto;line-height:normal;font-family:Menlo,'DejaVu Sans Mono',consolas,'Courier New',monospace\">SELECT\n",
       "  <span style=\"color: #008000; text-decoration-color: #008000\">\"t0\"</span>.<span style=\"color: #008000; text-decoration-color: #008000\">\"sepalLength\"</span>,\n",
       "  <span style=\"color: #008000; text-decoration-color: #008000\">\"t0\"</span>.<span style=\"color: #008000; text-decoration-color: #008000\">\"sepalWidth\"</span>,\n",
       "  <span style=\"color: #008000; text-decoration-color: #008000\">\"t0\"</span>.<span style=\"color: #008000; text-decoration-color: #008000\">\"petalLength\"</span>,\n",
       "  <span style=\"color: #008000; text-decoration-color: #008000\">\"t0\"</span>.<span style=\"color: #008000; text-decoration-color: #008000\">\"petalWidth\"</span>,\n",
       "  <span style=\"color: #008000; text-decoration-color: #008000\">\"t0\"</span>.<span style=\"color: #008000; text-decoration-color: #008000\">\"species\"</span>,\n",
       "  <span style=\"font-weight: bold\">(</span>\n",
       "    <span style=\"color: #008000; text-decoration-color: #008000\">\"t0\"</span>.<span style=\"color: #008000; text-decoration-color: #008000\">\"petalLength\"</span> + <span style=\"color: #008000; text-decoration-color: #008000\">\"t0\"</span>.<span style=\"color: #008000; text-decoration-color: #008000\">\"petalWidth\"</span>\n",
       "  <span style=\"font-weight: bold\">)</span> * <span style=\"color: #800080; text-decoration-color: #800080; font-weight: bold\">CAST</span><span style=\"font-weight: bold\">(</span><span style=\"color: #008080; text-decoration-color: #008080; font-weight: bold\">2</span> AS TINYINT<span style=\"font-weight: bold\">)</span> AS <span style=\"color: #008000; text-decoration-color: #008000\">\"petalPerimeter\"</span>\n",
       "FROM <span style=\"color: #008000; text-decoration-color: #008000\">\"iris\"</span> AS <span style=\"color: #008000; text-decoration-color: #008000\">\"t0\"</span>\n",
       "</pre>\n"
      ],
      "text/plain": [
       "SELECT\n",
       "  \u001b[32m\"t0\"\u001b[0m.\u001b[32m\"sepalLength\"\u001b[0m,\n",
       "  \u001b[32m\"t0\"\u001b[0m.\u001b[32m\"sepalWidth\"\u001b[0m,\n",
       "  \u001b[32m\"t0\"\u001b[0m.\u001b[32m\"petalLength\"\u001b[0m,\n",
       "  \u001b[32m\"t0\"\u001b[0m.\u001b[32m\"petalWidth\"\u001b[0m,\n",
       "  \u001b[32m\"t0\"\u001b[0m.\u001b[32m\"species\"\u001b[0m,\n",
       "  \u001b[1m(\u001b[0m\n",
       "    \u001b[32m\"t0\"\u001b[0m.\u001b[32m\"petalLength\"\u001b[0m + \u001b[32m\"t0\"\u001b[0m.\u001b[32m\"petalWidth\"\u001b[0m\n",
       "  \u001b[1m)\u001b[0m * \u001b[1;35mCAST\u001b[0m\u001b[1m(\u001b[0m\u001b[1;36m2\u001b[0m AS TINYINT\u001b[1m)\u001b[0m AS \u001b[32m\"petalPerimeter\"\u001b[0m\n",
       "FROM \u001b[32m\"iris\"\u001b[0m AS \u001b[32m\"t0\"\u001b[0m\n"
      ]
     },
     "metadata": {},
     "output_type": "display_data"
    }
   ],
   "source": [
    "# | echo: false\n",
    "print(i.to_sql())"
   ]
  },
  {
   "cell_type": "markdown",
   "id": "3d5c7815",
   "metadata": {},
   "source": [
    "#### Result"
   ]
  },
  {
   "cell_type": "code",
   "execution_count": 16,
   "id": "d3350de1",
   "metadata": {
    "execution": {
     "iopub.execute_input": "2024-03-12T19:52:26.589662Z",
     "iopub.status.busy": "2024-03-12T19:52:26.589594Z",
     "iopub.status.idle": "2024-03-12T19:52:26.598647Z",
     "shell.execute_reply": "2024-03-12T19:52:26.598408Z"
    }
   },
   "outputs": [
    {
     "data": {
      "text/html": [
       "<pre style=\"white-space:pre;overflow-x:auto;line-height:normal;font-family:Menlo,'DejaVu Sans Mono',consolas,'Courier New',monospace\">┏━━━━━━━━━━━━━┳━━━━━━━━━━━━┳━━━━━━━━━━━━━┳━━━━━━━━━━━━┳━━━━━━━━━┳━━━━━━━━━━━━━━━━┓\n",
       "┃<span style=\"font-weight: bold\"> sepalLength </span>┃<span style=\"font-weight: bold\"> sepalWidth </span>┃<span style=\"font-weight: bold\"> petalLength </span>┃<span style=\"font-weight: bold\"> petalWidth </span>┃<span style=\"font-weight: bold\"> species </span>┃<span style=\"font-weight: bold\"> petalPerimeter </span>┃\n",
       "┡━━━━━━━━━━━━━╇━━━━━━━━━━━━╇━━━━━━━━━━━━━╇━━━━━━━━━━━━╇━━━━━━━━━╇━━━━━━━━━━━━━━━━┩\n",
       "│ <span style=\"color: #7f7f7f; text-decoration-color: #7f7f7f\">float64</span>     │ <span style=\"color: #7f7f7f; text-decoration-color: #7f7f7f\">float64</span>    │ <span style=\"color: #7f7f7f; text-decoration-color: #7f7f7f\">float64</span>     │ <span style=\"color: #7f7f7f; text-decoration-color: #7f7f7f\">float64</span>    │ <span style=\"color: #7f7f7f; text-decoration-color: #7f7f7f\">string</span>  │ <span style=\"color: #7f7f7f; text-decoration-color: #7f7f7f\">float64</span>        │\n",
       "├─────────────┼────────────┼─────────────┼────────────┼─────────┼────────────────┤\n",
       "│         <span style=\"color: #008080; text-decoration-color: #008080; font-weight: bold\">5.1</span> │        <span style=\"color: #008080; text-decoration-color: #008080; font-weight: bold\">3.5</span> │         <span style=\"color: #008080; text-decoration-color: #008080; font-weight: bold\">1.4</span> │        <span style=\"color: #008080; text-decoration-color: #008080; font-weight: bold\">0.2</span> │ <span style=\"color: #008000; text-decoration-color: #008000\">setosa </span> │            <span style=\"color: #008080; text-decoration-color: #008080; font-weight: bold\">3.2</span> │\n",
       "│         <span style=\"color: #008080; text-decoration-color: #008080; font-weight: bold\">4.9</span> │        <span style=\"color: #008080; text-decoration-color: #008080; font-weight: bold\">3.0</span> │         <span style=\"color: #008080; text-decoration-color: #008080; font-weight: bold\">1.4</span> │        <span style=\"color: #008080; text-decoration-color: #008080; font-weight: bold\">0.2</span> │ <span style=\"color: #008000; text-decoration-color: #008000\">setosa </span> │            <span style=\"color: #008080; text-decoration-color: #008080; font-weight: bold\">3.2</span> │\n",
       "│         <span style=\"color: #008080; text-decoration-color: #008080; font-weight: bold\">4.7</span> │        <span style=\"color: #008080; text-decoration-color: #008080; font-weight: bold\">3.2</span> │         <span style=\"color: #008080; text-decoration-color: #008080; font-weight: bold\">1.3</span> │        <span style=\"color: #008080; text-decoration-color: #008080; font-weight: bold\">0.2</span> │ <span style=\"color: #008000; text-decoration-color: #008000\">setosa </span> │            <span style=\"color: #008080; text-decoration-color: #008080; font-weight: bold\">3.0</span> │\n",
       "│         <span style=\"color: #008080; text-decoration-color: #008080; font-weight: bold\">4.6</span> │        <span style=\"color: #008080; text-decoration-color: #008080; font-weight: bold\">3.1</span> │         <span style=\"color: #008080; text-decoration-color: #008080; font-weight: bold\">1.5</span> │        <span style=\"color: #008080; text-decoration-color: #008080; font-weight: bold\">0.2</span> │ <span style=\"color: #008000; text-decoration-color: #008000\">setosa </span> │            <span style=\"color: #008080; text-decoration-color: #008080; font-weight: bold\">3.4</span> │\n",
       "│         <span style=\"color: #008080; text-decoration-color: #008080; font-weight: bold\">5.0</span> │        <span style=\"color: #008080; text-decoration-color: #008080; font-weight: bold\">3.6</span> │         <span style=\"color: #008080; text-decoration-color: #008080; font-weight: bold\">1.4</span> │        <span style=\"color: #008080; text-decoration-color: #008080; font-weight: bold\">0.2</span> │ <span style=\"color: #008000; text-decoration-color: #008000\">setosa </span> │            <span style=\"color: #008080; text-decoration-color: #008080; font-weight: bold\">3.2</span> │\n",
       "│         <span style=\"color: #008080; text-decoration-color: #008080; font-weight: bold\">5.4</span> │        <span style=\"color: #008080; text-decoration-color: #008080; font-weight: bold\">3.9</span> │         <span style=\"color: #008080; text-decoration-color: #008080; font-weight: bold\">1.7</span> │        <span style=\"color: #008080; text-decoration-color: #008080; font-weight: bold\">0.4</span> │ <span style=\"color: #008000; text-decoration-color: #008000\">setosa </span> │            <span style=\"color: #008080; text-decoration-color: #008080; font-weight: bold\">4.2</span> │\n",
       "│         <span style=\"color: #008080; text-decoration-color: #008080; font-weight: bold\">4.6</span> │        <span style=\"color: #008080; text-decoration-color: #008080; font-weight: bold\">3.4</span> │         <span style=\"color: #008080; text-decoration-color: #008080; font-weight: bold\">1.4</span> │        <span style=\"color: #008080; text-decoration-color: #008080; font-weight: bold\">0.3</span> │ <span style=\"color: #008000; text-decoration-color: #008000\">setosa </span> │            <span style=\"color: #008080; text-decoration-color: #008080; font-weight: bold\">3.4</span> │\n",
       "│         <span style=\"color: #008080; text-decoration-color: #008080; font-weight: bold\">5.0</span> │        <span style=\"color: #008080; text-decoration-color: #008080; font-weight: bold\">3.4</span> │         <span style=\"color: #008080; text-decoration-color: #008080; font-weight: bold\">1.5</span> │        <span style=\"color: #008080; text-decoration-color: #008080; font-weight: bold\">0.2</span> │ <span style=\"color: #008000; text-decoration-color: #008000\">setosa </span> │            <span style=\"color: #008080; text-decoration-color: #008080; font-weight: bold\">3.4</span> │\n",
       "│         <span style=\"color: #008080; text-decoration-color: #008080; font-weight: bold\">4.4</span> │        <span style=\"color: #008080; text-decoration-color: #008080; font-weight: bold\">2.9</span> │         <span style=\"color: #008080; text-decoration-color: #008080; font-weight: bold\">1.4</span> │        <span style=\"color: #008080; text-decoration-color: #008080; font-weight: bold\">0.2</span> │ <span style=\"color: #008000; text-decoration-color: #008000\">setosa </span> │            <span style=\"color: #008080; text-decoration-color: #008080; font-weight: bold\">3.2</span> │\n",
       "│         <span style=\"color: #008080; text-decoration-color: #008080; font-weight: bold\">4.9</span> │        <span style=\"color: #008080; text-decoration-color: #008080; font-weight: bold\">3.1</span> │         <span style=\"color: #008080; text-decoration-color: #008080; font-weight: bold\">1.5</span> │        <span style=\"color: #008080; text-decoration-color: #008080; font-weight: bold\">0.1</span> │ <span style=\"color: #008000; text-decoration-color: #008000\">setosa </span> │            <span style=\"color: #008080; text-decoration-color: #008080; font-weight: bold\">3.2</span> │\n",
       "│           <span style=\"color: #7f7f7f; text-decoration-color: #7f7f7f\">…</span> │          <span style=\"color: #7f7f7f; text-decoration-color: #7f7f7f\">…</span> │           <span style=\"color: #7f7f7f; text-decoration-color: #7f7f7f\">…</span> │          <span style=\"color: #7f7f7f; text-decoration-color: #7f7f7f\">…</span> │ <span style=\"color: #7f7f7f; text-decoration-color: #7f7f7f\">…</span>       │              <span style=\"color: #7f7f7f; text-decoration-color: #7f7f7f\">…</span> │\n",
       "└─────────────┴────────────┴─────────────┴────────────┴─────────┴────────────────┘\n",
       "</pre>\n"
      ],
      "text/plain": [
       "┏━━━━━━━━━━━━━┳━━━━━━━━━━━━┳━━━━━━━━━━━━━┳━━━━━━━━━━━━┳━━━━━━━━━┳━━━━━━━━━━━━━━━━┓\n",
       "┃\u001b[1m \u001b[0m\u001b[1msepalLength\u001b[0m\u001b[1m \u001b[0m┃\u001b[1m \u001b[0m\u001b[1msepalWidth\u001b[0m\u001b[1m \u001b[0m┃\u001b[1m \u001b[0m\u001b[1mpetalLength\u001b[0m\u001b[1m \u001b[0m┃\u001b[1m \u001b[0m\u001b[1mpetalWidth\u001b[0m\u001b[1m \u001b[0m┃\u001b[1m \u001b[0m\u001b[1mspecies\u001b[0m\u001b[1m \u001b[0m┃\u001b[1m \u001b[0m\u001b[1mpetalPerimeter\u001b[0m\u001b[1m \u001b[0m┃\n",
       "┡━━━━━━━━━━━━━╇━━━━━━━━━━━━╇━━━━━━━━━━━━━╇━━━━━━━━━━━━╇━━━━━━━━━╇━━━━━━━━━━━━━━━━┩\n",
       "│ \u001b[2mfloat64\u001b[0m     │ \u001b[2mfloat64\u001b[0m    │ \u001b[2mfloat64\u001b[0m     │ \u001b[2mfloat64\u001b[0m    │ \u001b[2mstring\u001b[0m  │ \u001b[2mfloat64\u001b[0m        │\n",
       "├─────────────┼────────────┼─────────────┼────────────┼─────────┼────────────────┤\n",
       "│         \u001b[1;36m5.1\u001b[0m │        \u001b[1;36m3.5\u001b[0m │         \u001b[1;36m1.4\u001b[0m │        \u001b[1;36m0.2\u001b[0m │ \u001b[32msetosa \u001b[0m │            \u001b[1;36m3.2\u001b[0m │\n",
       "│         \u001b[1;36m4.9\u001b[0m │        \u001b[1;36m3.0\u001b[0m │         \u001b[1;36m1.4\u001b[0m │        \u001b[1;36m0.2\u001b[0m │ \u001b[32msetosa \u001b[0m │            \u001b[1;36m3.2\u001b[0m │\n",
       "│         \u001b[1;36m4.7\u001b[0m │        \u001b[1;36m3.2\u001b[0m │         \u001b[1;36m1.3\u001b[0m │        \u001b[1;36m0.2\u001b[0m │ \u001b[32msetosa \u001b[0m │            \u001b[1;36m3.0\u001b[0m │\n",
       "│         \u001b[1;36m4.6\u001b[0m │        \u001b[1;36m3.1\u001b[0m │         \u001b[1;36m1.5\u001b[0m │        \u001b[1;36m0.2\u001b[0m │ \u001b[32msetosa \u001b[0m │            \u001b[1;36m3.4\u001b[0m │\n",
       "│         \u001b[1;36m5.0\u001b[0m │        \u001b[1;36m3.6\u001b[0m │         \u001b[1;36m1.4\u001b[0m │        \u001b[1;36m0.2\u001b[0m │ \u001b[32msetosa \u001b[0m │            \u001b[1;36m3.2\u001b[0m │\n",
       "│         \u001b[1;36m5.4\u001b[0m │        \u001b[1;36m3.9\u001b[0m │         \u001b[1;36m1.7\u001b[0m │        \u001b[1;36m0.4\u001b[0m │ \u001b[32msetosa \u001b[0m │            \u001b[1;36m4.2\u001b[0m │\n",
       "│         \u001b[1;36m4.6\u001b[0m │        \u001b[1;36m3.4\u001b[0m │         \u001b[1;36m1.4\u001b[0m │        \u001b[1;36m0.3\u001b[0m │ \u001b[32msetosa \u001b[0m │            \u001b[1;36m3.4\u001b[0m │\n",
       "│         \u001b[1;36m5.0\u001b[0m │        \u001b[1;36m3.4\u001b[0m │         \u001b[1;36m1.5\u001b[0m │        \u001b[1;36m0.2\u001b[0m │ \u001b[32msetosa \u001b[0m │            \u001b[1;36m3.4\u001b[0m │\n",
       "│         \u001b[1;36m4.4\u001b[0m │        \u001b[1;36m2.9\u001b[0m │         \u001b[1;36m1.4\u001b[0m │        \u001b[1;36m0.2\u001b[0m │ \u001b[32msetosa \u001b[0m │            \u001b[1;36m3.2\u001b[0m │\n",
       "│         \u001b[1;36m4.9\u001b[0m │        \u001b[1;36m3.1\u001b[0m │         \u001b[1;36m1.5\u001b[0m │        \u001b[1;36m0.1\u001b[0m │ \u001b[32msetosa \u001b[0m │            \u001b[1;36m3.2\u001b[0m │\n",
       "│           \u001b[2m…\u001b[0m │          \u001b[2m…\u001b[0m │           \u001b[2m…\u001b[0m │          \u001b[2m…\u001b[0m │ \u001b[2m…\u001b[0m       │              \u001b[2m…\u001b[0m │\n",
       "└─────────────┴────────────┴─────────────┴────────────┴─────────┴────────────────┘\n"
      ]
     },
     "metadata": {},
     "output_type": "display_data"
    }
   ],
   "source": [
    "# | echo: false\n",
    "print(i.execute(\"text\"))"
   ]
  },
  {
   "cell_type": "markdown",
   "id": "9bec9e19",
   "metadata": {},
   "source": [
    "#### AST"
   ]
  },
  {
   "cell_type": "code",
   "execution_count": 17,
   "id": "015ea715",
   "metadata": {
    "execution": {
     "iopub.execute_input": "2024-03-12T19:52:26.599872Z",
     "iopub.status.busy": "2024-03-12T19:52:26.599796Z",
     "iopub.status.idle": "2024-03-12T19:52:26.602001Z",
     "shell.execute_reply": "2024-03-12T19:52:26.601765Z"
    }
   },
   "outputs": [
    {
     "data": {
      "text/plain": [
       "r0 := DatabaseTable: iris\n",
       "  sepalLength float64\n",
       "  sepalWidth  float64\n",
       "  petalLength float64\n",
       "  petalWidth  float64\n",
       "  species     string\n",
       "\n",
       "Project[r0]\n",
       "  sepalLength:    r0.sepalLength\n",
       "  sepalWidth:     r0.sepalWidth\n",
       "  petalLength:    r0.petalLength\n",
       "  petalWidth:     r0.petalWidth\n",
       "  species:        r0.species\n",
       "  petalPerimeter: r0.petalLength + r0.petalWidth * 2"
      ]
     },
     "execution_count": 17,
     "metadata": {},
     "output_type": "execute_result"
    }
   ],
   "source": [
    "# | echo: false\n",
    "i"
   ]
  },
  {
   "cell_type": "markdown",
   "id": "43e4af27",
   "metadata": {},
   "source": [
    "#### AST graph\n"
   ]
  },
  {
   "cell_type": "code",
   "execution_count": 18,
   "id": "2423881f",
   "metadata": {
    "execution": {
     "iopub.execute_input": "2024-03-12T19:52:26.603206Z",
     "iopub.status.busy": "2024-03-12T19:52:26.603136Z",
     "iopub.status.idle": "2024-03-12T19:52:27.842243Z",
     "shell.execute_reply": "2024-03-12T19:52:27.841955Z"
    }
   },
   "outputs": [
    {
     "data": {
      "text/html": [
       "<pre style=\"white-space:pre;overflow-x:auto;line-height:normal;font-family:Menlo,'DejaVu Sans Mono',consolas,'Courier New',monospace\">                                                                                                                           ╭────────────────────────────╮                                                                   \n",
       "                                                                                                                           │ <span style=\"font-weight: bold\">Project</span>                    │                                                                   \n",
       "                                                                                                                           │ <span style=\"font-weight: bold\">   </span><span style=\"font-weight: bold; font-style: italic\">sepalLength: </span><span style=\"color: #808000; text-decoration-color: #808000; font-weight: bold; font-style: italic\">float64</span>    │                                                                   \n",
       "                                                                                                                           │ <span style=\"font-weight: bold\">   </span><span style=\"font-weight: bold; font-style: italic\">sepalWidth: </span><span style=\"color: #808000; text-decoration-color: #808000; font-weight: bold; font-style: italic\">float64</span>     │                                                                   \n",
       "           ╭──────────────────────────────────────────────────────────────────────────────────────────────────────────────▶│ <span style=\"font-weight: bold\">   </span><span style=\"font-weight: bold; font-style: italic\">petalLength: </span><span style=\"color: #808000; text-decoration-color: #808000; font-weight: bold; font-style: italic\">float64</span>    │◀─────────────────╮                                                \n",
       "           │                                                                                                               │ <span style=\"font-weight: bold\">   </span><span style=\"font-weight: bold; font-style: italic\">petalWidth: </span><span style=\"color: #808000; text-decoration-color: #808000; font-weight: bold; font-style: italic\">float64</span>     │                  │                                                \n",
       "           │                                                                                                               │ <span style=\"font-weight: bold\">   </span><span style=\"font-weight: bold; font-style: italic\">species: </span><span style=\"color: #ffaf00; text-decoration-color: #ffaf00; font-weight: bold; font-style: italic\">string</span>         │                  │                                                \n",
       "           │                                                                                                    ╭─────────▶│ <span style=\"font-weight: bold\">   </span><span style=\"font-weight: bold; font-style: italic\">petalPerimeter: </span><span style=\"color: #808000; text-decoration-color: #808000; font-weight: bold; font-style: italic\">float64</span> │                  │                                                \n",
       "           │                                                                                                    │          ╰────────────────────────────╯◀──╮              │                                                \n",
       "           │                                                                                                    │               ▲         ▲                 │              │                                                \n",
       "           │                                      ╭───────────────────────────────────────────────────────────────────────────────────────│                 │              │                                                \n",
       "           │                                      │                                                             │               │         │                 │              │                                                \n",
       "           │                                      │                                                 ╭───────────╯               │         │                 │              │                                                \n",
       "╭────────────────────╮                  ╭───────────────────╮                 ╭────────────────╮    │          ╭───────────────╮│         │                 │              │                                                \n",
       "│ <span style=\"font-style: italic\">sepalLength: </span><span style=\"font-weight: bold; font-style: italic\">Field</span> │                  │ <span style=\"font-style: italic\">sepalWidth: </span><span style=\"font-weight: bold; font-style: italic\">Field</span> │                 │ <span style=\"font-style: italic\">species: </span><span style=\"font-weight: bold; font-style: italic\">Field</span> │    │          │ <span style=\"font-weight: bold\">Multiply</span>      ││         │                 │              │                                                \n",
       "│ <span style=\"font-style: italic\">   :: </span><span style=\"color: #808000; text-decoration-color: #808000; font-style: italic\">float64</span>      │                  │ <span style=\"font-style: italic\">   :: </span><span style=\"color: #808000; text-decoration-color: #808000; font-style: italic\">float64</span>     │                 │ <span style=\"font-style: italic\">   :: </span><span style=\"color: #ffaf00; text-decoration-color: #ffaf00; font-style: italic\">string</span>   │────╯          │ <span style=\"font-weight: bold\">   :: </span><span style=\"color: #808000; text-decoration-color: #808000; font-weight: bold\">float64</span> │◀─────────│─────────────────│──────────────│──────────────────╮                             \n",
       "╰────────────────────╯                  ╰───────────────────╯                 ╰────────────────╯               ╰───────────────╯          │                 │              │                  │                             \n",
       "           ▲                                      ▲                                    ▲                               ▲                  │                 │              │                  │                             \n",
       "           │                                      │                                    │                               │                  │                 ╰──────────────│─────────────────────────────────────╮          \n",
       "           │                                      │                                    │                               │                  │                                │                  │                  │          \n",
       "           │                                      │                                    │                               │                  │                                │                  │                  │          \n",
       "           │                                      │                                    │                        ╭────────────╮            │                                │          ╭───────────────╮          │          \n",
       "           │                                      │                                    ╰────────────╮           │ <span style=\"font-style: italic\">2: </span><span style=\"font-weight: bold; font-style: italic\">Literal</span> │            │                                │          │ <span style=\"font-weight: bold\">Add</span>           │          │          \n",
       "           │                                      │                                                 │           │ <span style=\"font-style: italic\">   :: </span><span style=\"color: #808000; text-decoration-color: #808000; font-style: italic\">int8</span> │            │                                │          │ <span style=\"font-weight: bold\">   :: </span><span style=\"color: #808000; text-decoration-color: #808000; font-weight: bold\">float64</span> │◀╮        │          \n",
       "           │                                      │                                                 │           ╰────────────╯            │                                │          ╰───────────────╯ │        │          \n",
       "           │                                      │                                                 │                                     │                                │                  ▲         │        │          \n",
       "           │                                      │                                                 │                                     │                                │                  │         │        │          \n",
       "           │                                      │                                                 │                                     │                                │                  │         │        │          \n",
       "           │                                      ╰───────────────────────────────────────────╮     ╰────────────────────────╮            │                                │                  │         │        │          \n",
       "           │                                                                                  │                              │            │                     ╭────────────────────╮        │        ╭───────────────────╮\n",
       "           │                                                                                  │                              │            │                     │ <span style=\"font-style: italic\">petalLength: </span><span style=\"font-weight: bold; font-style: italic\">Field</span> │        │        │ <span style=\"font-style: italic\">petalWidth: </span><span style=\"font-weight: bold; font-style: italic\">Field</span> │\n",
       "           │                                                                                  │                              │            │                     │ <span style=\"font-style: italic\">   :: </span><span style=\"color: #808000; text-decoration-color: #808000; font-style: italic\">float64</span>      │────────╯        │ <span style=\"font-style: italic\">   :: </span><span style=\"color: #808000; text-decoration-color: #808000; font-style: italic\">float64</span>     │\n",
       "           │                                                                                  │                              │            │                     ╰────────────────────╯                 ╰───────────────────╯\n",
       "           │                                                                                  │                              │            │                                ▲                                     ▲          \n",
       "           │                                                                                  ╰─────────────────────╮        │            │                                │                                     │          \n",
       "           │                                                                                                        │        │            │                                │                                     │          \n",
       "           │                                                                                                        │        │            │────────────────────────────────│─────────────────────────────────────╯          \n",
       "           │                                                                                                        │        ╭─────────────────────────╮                   │                                                \n",
       "           │                                                                                                        ╰────────│ <span style=\"font-style: italic\">iris: </span><span style=\"font-weight: bold; font-style: italic\">DatabaseTable</span>     │                   │                                                \n",
       "           │                                                                                                                 │ <span style=\"font-style: italic\">   sepalLength: </span><span style=\"color: #808000; text-decoration-color: #808000; font-style: italic\">float64</span> │                   │                                                \n",
       "           │                                                                                                                 │ <span style=\"font-style: italic\">   sepalWidth: </span><span style=\"color: #808000; text-decoration-color: #808000; font-style: italic\">float64</span>  │                   │                                                \n",
       "           ╰─────────────────────────────────────────────────────────────────────────────────────────────────────────────────│ <span style=\"font-style: italic\">   petalLength: </span><span style=\"color: #808000; text-decoration-color: #808000; font-style: italic\">float64</span> │───────────────────╯                                                \n",
       "                                                                                                                             │ <span style=\"font-style: italic\">   petalWidth: </span><span style=\"color: #808000; text-decoration-color: #808000; font-style: italic\">float64</span>  │                                                                    \n",
       "                                                                                                                             │ <span style=\"font-style: italic\">   species: </span><span style=\"color: #ffaf00; text-decoration-color: #ffaf00; font-style: italic\">string</span>      │                                                                    \n",
       "                                                                                                                             ╰─────────────────────────╯                                                                    \n",
       "</pre>\n"
      ],
      "text/plain": [
       "                                                                                                                           ╭────────────────────────────╮                                                                   \n",
       "                                                                                                                           │ \u001b[1mProject\u001b[0m                    │                                                                   \n",
       "                                                                                                                           │ \u001b[1m   \u001b[0m\u001b[1;3msepalLength: \u001b[0m\u001b[1;3;33mfloat64\u001b[0m    │                                                                   \n",
       "                                                                                                                           │ \u001b[1m   \u001b[0m\u001b[1;3msepalWidth: \u001b[0m\u001b[1;3;33mfloat64\u001b[0m     │                                                                   \n",
       "           ╭──────────────────────────────────────────────────────────────────────────────────────────────────────────────▶│ \u001b[1m   \u001b[0m\u001b[1;3mpetalLength: \u001b[0m\u001b[1;3;33mfloat64\u001b[0m    │◀─────────────────╮                                                \n",
       "           │                                                                                                               │ \u001b[1m   \u001b[0m\u001b[1;3mpetalWidth: \u001b[0m\u001b[1;3;33mfloat64\u001b[0m     │                  │                                                \n",
       "           │                                                                                                               │ \u001b[1m   \u001b[0m\u001b[1;3mspecies: \u001b[0m\u001b[1;3;38;5;214mstring\u001b[0m         │                  │                                                \n",
       "           │                                                                                                    ╭─────────▶│ \u001b[1m   \u001b[0m\u001b[1;3mpetalPerimeter: \u001b[0m\u001b[1;3;33mfloat64\u001b[0m │                  │                                                \n",
       "           │                                                                                                    │          ╰────────────────────────────╯◀──╮              │                                                \n",
       "           │                                                                                                    │               ▲         ▲                 │              │                                                \n",
       "           │                                      ╭───────────────────────────────────────────────────────────────────────────────────────│                 │              │                                                \n",
       "           │                                      │                                                             │               │         │                 │              │                                                \n",
       "           │                                      │                                                 ╭───────────╯               │         │                 │              │                                                \n",
       "╭────────────────────╮                  ╭───────────────────╮                 ╭────────────────╮    │          ╭───────────────╮│         │                 │              │                                                \n",
       "│ \u001b[3msepalLength: \u001b[0m\u001b[1;3mField\u001b[0m │                  │ \u001b[3msepalWidth: \u001b[0m\u001b[1;3mField\u001b[0m │                 │ \u001b[3mspecies: \u001b[0m\u001b[1;3mField\u001b[0m │    │          │ \u001b[1mMultiply\u001b[0m      ││         │                 │              │                                                \n",
       "│ \u001b[3m   :: \u001b[0m\u001b[3;33mfloat64\u001b[0m      │                  │ \u001b[3m   :: \u001b[0m\u001b[3;33mfloat64\u001b[0m     │                 │ \u001b[3m   :: \u001b[0m\u001b[3;38;5;214mstring\u001b[0m   │────╯          │ \u001b[1m   :: \u001b[0m\u001b[1;33mfloat64\u001b[0m │◀─────────│─────────────────│──────────────│──────────────────╮                             \n",
       "╰────────────────────╯                  ╰───────────────────╯                 ╰────────────────╯               ╰───────────────╯          │                 │              │                  │                             \n",
       "           ▲                                      ▲                                    ▲                               ▲                  │                 │              │                  │                             \n",
       "           │                                      │                                    │                               │                  │                 ╰──────────────│─────────────────────────────────────╮          \n",
       "           │                                      │                                    │                               │                  │                                │                  │                  │          \n",
       "           │                                      │                                    │                               │                  │                                │                  │                  │          \n",
       "           │                                      │                                    │                        ╭────────────╮            │                                │          ╭───────────────╮          │          \n",
       "           │                                      │                                    ╰────────────╮           │ \u001b[3m2: \u001b[0m\u001b[1;3mLiteral\u001b[0m │            │                                │          │ \u001b[1mAdd\u001b[0m           │          │          \n",
       "           │                                      │                                                 │           │ \u001b[3m   :: \u001b[0m\u001b[3;33mint8\u001b[0m │            │                                │          │ \u001b[1m   :: \u001b[0m\u001b[1;33mfloat64\u001b[0m │◀╮        │          \n",
       "           │                                      │                                                 │           ╰────────────╯            │                                │          ╰───────────────╯ │        │          \n",
       "           │                                      │                                                 │                                     │                                │                  ▲         │        │          \n",
       "           │                                      │                                                 │                                     │                                │                  │         │        │          \n",
       "           │                                      │                                                 │                                     │                                │                  │         │        │          \n",
       "           │                                      ╰───────────────────────────────────────────╮     ╰────────────────────────╮            │                                │                  │         │        │          \n",
       "           │                                                                                  │                              │            │                     ╭────────────────────╮        │        ╭───────────────────╮\n",
       "           │                                                                                  │                              │            │                     │ \u001b[3mpetalLength: \u001b[0m\u001b[1;3mField\u001b[0m │        │        │ \u001b[3mpetalWidth: \u001b[0m\u001b[1;3mField\u001b[0m │\n",
       "           │                                                                                  │                              │            │                     │ \u001b[3m   :: \u001b[0m\u001b[3;33mfloat64\u001b[0m      │────────╯        │ \u001b[3m   :: \u001b[0m\u001b[3;33mfloat64\u001b[0m     │\n",
       "           │                                                                                  │                              │            │                     ╰────────────────────╯                 ╰───────────────────╯\n",
       "           │                                                                                  │                              │            │                                ▲                                     ▲          \n",
       "           │                                                                                  ╰─────────────────────╮        │            │                                │                                     │          \n",
       "           │                                                                                                        │        │            │                                │                                     │          \n",
       "           │                                                                                                        │        │            │────────────────────────────────│─────────────────────────────────────╯          \n",
       "           │                                                                                                        │        ╭─────────────────────────╮                   │                                                \n",
       "           │                                                                                                        ╰────────│ \u001b[3miris: \u001b[0m\u001b[1;3mDatabaseTable\u001b[0m     │                   │                                                \n",
       "           │                                                                                                                 │ \u001b[3m   \u001b[0m\u001b[3msepalLength: \u001b[0m\u001b[3;33mfloat64\u001b[0m │                   │                                                \n",
       "           │                                                                                                                 │ \u001b[3m   \u001b[0m\u001b[3msepalWidth: \u001b[0m\u001b[3;33mfloat64\u001b[0m  │                   │                                                \n",
       "           ╰─────────────────────────────────────────────────────────────────────────────────────────────────────────────────│ \u001b[3m   \u001b[0m\u001b[3mpetalLength: \u001b[0m\u001b[3;33mfloat64\u001b[0m │───────────────────╯                                                \n",
       "                                                                                                                             │ \u001b[3m   \u001b[0m\u001b[3mpetalWidth: \u001b[0m\u001b[3;33mfloat64\u001b[0m  │                                                                    \n",
       "                                                                                                                             │ \u001b[3m   \u001b[0m\u001b[3mspecies: \u001b[0m\u001b[3;38;5;214mstring\u001b[0m      │                                                                    \n",
       "                                                                                                                             ╰─────────────────────────╯                                                                    \n"
      ]
     },
     "metadata": {},
     "output_type": "display_data"
    }
   ],
   "source": [
    "# | echo: false\n",
    "i.visualize()"
   ]
  },
  {
   "cell_type": "markdown",
   "id": "e085b849",
   "metadata": {},
   "source": [
    ":::"
   ]
  },
  {
   "cell_type": "markdown",
   "id": "cd183d9c",
   "metadata": {},
   "source": [
    "</Accordion>"
   ]
  },
  {
   "cell_type": "markdown",
   "id": "a187f519",
   "metadata": {},
   "source": [
    "<Accordion title=\"Window Automation\">"
   ]
  },
  {
   "cell_type": "code",
   "execution_count": 19,
   "id": "7f7dfede",
   "metadata": {
    "execution": {
     "iopub.execute_input": "2024-03-12T19:52:27.843734Z",
     "iopub.status.busy": "2024-03-12T19:52:27.843635Z",
     "iopub.status.idle": "2024-03-12T19:52:27.863306Z",
     "shell.execute_reply": "2024-03-12T19:52:27.863032Z"
    }
   },
   "outputs": [],
   "source": [
    "# | echo: false\n",
    "from vinyl.examples import co2_concentration\n",
    "\n",
    "co2_concentration = co2_concentration()\n",
    "\n",
    "co2_concentration = co2_concentration.define(\n",
    "    {\"Date\": co2_concentration.Date.cast(\"date\")}\n",
    ")\n",
    "co2_concentration = co2_concentration._create_view(\"co2_concentration\")"
   ]
  },
  {
   "cell_type": "code",
   "execution_count": 20,
   "id": "ea27f3a4",
   "metadata": {
    "execution": {
     "iopub.execute_input": "2024-03-12T19:52:27.864628Z",
     "iopub.status.busy": "2024-03-12T19:52:27.864552Z",
     "iopub.status.idle": "2024-03-12T19:52:27.869075Z",
     "shell.execute_reply": "2024-03-12T19:52:27.868851Z"
    }
   },
   "outputs": [],
   "source": [
    "with co2_concentration as c:\n",
    "    c.define(\n",
    "        {\"CO2_normalized\": c.CO2 - c.CO2.mean()},\n",
    "        by=[c.Date.dt.extract(\"month\")],\n",
    "    )\n",
    "    c.select([c.CO2_normalized], sort=c.Date)"
   ]
  },
  {
   "cell_type": "markdown",
   "id": "17347be0",
   "metadata": {},
   "source": [
    "::: {.panel-tabset}"
   ]
  },
  {
   "cell_type": "markdown",
   "id": "7880e7d3",
   "metadata": {},
   "source": [
    "#### SQL\n"
   ]
  },
  {
   "cell_type": "code",
   "execution_count": 21,
   "id": "bd1ab1eb",
   "metadata": {
    "execution": {
     "iopub.execute_input": "2024-03-12T19:52:27.870524Z",
     "iopub.status.busy": "2024-03-12T19:52:27.870446Z",
     "iopub.status.idle": "2024-03-12T19:52:27.876022Z",
     "shell.execute_reply": "2024-03-12T19:52:27.875798Z"
    }
   },
   "outputs": [
    {
     "data": {
      "text/html": [
       "<pre style=\"white-space:pre;overflow-x:auto;line-height:normal;font-family:Menlo,'DejaVu Sans Mono',consolas,'Courier New',monospace\">SELECT\n",
       "  <span style=\"color: #008000; text-decoration-color: #008000\">\"t1\"</span>.<span style=\"color: #008000; text-decoration-color: #008000\">\"Date\"</span>,\n",
       "  <span style=\"color: #008000; text-decoration-color: #008000\">\"t1\"</span>.<span style=\"color: #008000; text-decoration-color: #008000\">\"CO2_normalized\"</span>\n",
       "FROM <span style=\"font-weight: bold\">(</span>\n",
       "  SELECT\n",
       "    <span style=\"color: #800080; text-decoration-color: #800080; font-weight: bold\">EXTRACT</span><span style=\"font-weight: bold\">(</span>month FROM <span style=\"color: #008000; text-decoration-color: #008000\">\"t0\"</span>.<span style=\"color: #008000; text-decoration-color: #008000\">\"Date\"</span><span style=\"font-weight: bold\">)</span> AS <span style=\"color: #008000; text-decoration-color: #008000\">\"ExtractMonth(Date)\"</span>,\n",
       "    <span style=\"color: #008000; text-decoration-color: #008000\">\"t0\"</span>.<span style=\"color: #008000; text-decoration-color: #008000\">\"CO2\"</span>,\n",
       "    <span style=\"color: #008000; text-decoration-color: #008000\">\"t0\"</span>.<span style=\"color: #008000; text-decoration-color: #008000\">\"Date\"</span>,\n",
       "    <span style=\"color: #008000; text-decoration-color: #008000\">\"t0\"</span>.<span style=\"color: #008000; text-decoration-color: #008000\">\"CO2\"</span> - <span style=\"color: #800080; text-decoration-color: #800080; font-weight: bold\">AVG</span><span style=\"font-weight: bold\">(</span><span style=\"color: #008000; text-decoration-color: #008000\">\"t0\"</span>.<span style=\"color: #008000; text-decoration-color: #008000\">\"CO2\"</span><span style=\"font-weight: bold\">)</span> OVER <span style=\"font-weight: bold\">(</span>PARTITION BY <span style=\"color: #800080; text-decoration-color: #800080; font-weight: bold\">EXTRACT</span><span style=\"font-weight: bold\">(</span>month FROM <span style=\"color: #008000; text-decoration-color: #008000\">\"t0\"</span>.<span style=\"color: #008000; text-decoration-color: #008000\">\"Date\"</span><span style=\"font-weight: bold\">)</span> ROWS BETWEEN UNBOUNDED PRECEDING AND UNBOUNDED FOLLOWING<span style=\"font-weight: bold\">)</span> AS <span style=\"color: #008000; text-decoration-color: #008000\">\"CO2_normalized\"</span>\n",
       "  FROM <span style=\"color: #008000; text-decoration-color: #008000\">\"co2_concentration​\"</span> AS <span style=\"color: #008000; text-decoration-color: #008000\">\"t0\"</span>\n",
       "<span style=\"font-weight: bold\">)</span> AS <span style=\"color: #008000; text-decoration-color: #008000\">\"t1\"</span>\n",
       "ORDER BY\n",
       "  <span style=\"color: #008000; text-decoration-color: #008000\">\"t1\"</span>.<span style=\"color: #008000; text-decoration-color: #008000\">\"Date\"</span> ASC\n",
       "</pre>\n"
      ],
      "text/plain": [
       "SELECT\n",
       "  \u001b[32m\"t1\"\u001b[0m.\u001b[32m\"Date\"\u001b[0m,\n",
       "  \u001b[32m\"t1\"\u001b[0m.\u001b[32m\"CO2_normalized\"\u001b[0m\n",
       "FROM \u001b[1m(\u001b[0m\n",
       "  SELECT\n",
       "    \u001b[1;35mEXTRACT\u001b[0m\u001b[1m(\u001b[0mmonth FROM \u001b[32m\"t0\"\u001b[0m.\u001b[32m\"Date\"\u001b[0m\u001b[1m)\u001b[0m AS \u001b[32m\"ExtractMonth\u001b[0m\u001b[32m(\u001b[0m\u001b[32mDate\u001b[0m\u001b[32m)\u001b[0m\u001b[32m\"\u001b[0m,\n",
       "    \u001b[32m\"t0\"\u001b[0m.\u001b[32m\"CO2\"\u001b[0m,\n",
       "    \u001b[32m\"t0\"\u001b[0m.\u001b[32m\"Date\"\u001b[0m,\n",
       "    \u001b[32m\"t0\"\u001b[0m.\u001b[32m\"CO2\"\u001b[0m - \u001b[1;35mAVG\u001b[0m\u001b[1m(\u001b[0m\u001b[32m\"t0\"\u001b[0m.\u001b[32m\"CO2\"\u001b[0m\u001b[1m)\u001b[0m OVER \u001b[1m(\u001b[0mPARTITION BY \u001b[1;35mEXTRACT\u001b[0m\u001b[1m(\u001b[0mmonth FROM \u001b[32m\"t0\"\u001b[0m.\u001b[32m\"Date\"\u001b[0m\u001b[1m)\u001b[0m ROWS BETWEEN UNBOUNDED PRECEDING AND UNBOUNDED FOLLOWING\u001b[1m)\u001b[0m AS \u001b[32m\"CO2_normalized\"\u001b[0m\n",
       "  FROM \u001b[32m\"co2_concentration​\"\u001b[0m AS \u001b[32m\"t0\"\u001b[0m\n",
       "\u001b[1m)\u001b[0m AS \u001b[32m\"t1\"\u001b[0m\n",
       "ORDER BY\n",
       "  \u001b[32m\"t1\"\u001b[0m.\u001b[32m\"Date\"\u001b[0m ASC\n"
      ]
     },
     "metadata": {},
     "output_type": "display_data"
    }
   ],
   "source": [
    "# | echo: false\n",
    "print(c.to_sql())"
   ]
  },
  {
   "cell_type": "markdown",
   "id": "9b4d55c5",
   "metadata": {},
   "source": [
    "#### Result"
   ]
  },
  {
   "cell_type": "code",
   "execution_count": 22,
   "id": "8c06d3d0",
   "metadata": {
    "execution": {
     "iopub.execute_input": "2024-03-12T19:52:27.877292Z",
     "iopub.status.busy": "2024-03-12T19:52:27.877218Z",
     "iopub.status.idle": "2024-03-12T19:52:27.886008Z",
     "shell.execute_reply": "2024-03-12T19:52:27.885817Z"
    }
   },
   "outputs": [
    {
     "data": {
      "text/html": [
       "<pre style=\"white-space:pre;overflow-x:auto;line-height:normal;font-family:Menlo,'DejaVu Sans Mono',consolas,'Courier New',monospace\">┏━━━━━━━━━━━━┳━━━━━━━━━━━━━━━━┓\n",
       "┃<span style=\"font-weight: bold\"> Date       </span>┃<span style=\"font-weight: bold\"> CO2_normalized </span>┃\n",
       "┡━━━━━━━━━━━━╇━━━━━━━━━━━━━━━━┩\n",
       "│ <span style=\"color: #7f7f7f; text-decoration-color: #7f7f7f\">date</span>       │ <span style=\"color: #7f7f7f; text-decoration-color: #7f7f7f\">float64</span>        │\n",
       "├────────────┼────────────────┤\n",
       "│ <span style=\"color: #800080; text-decoration-color: #800080\">1958-03-01</span> │     <span style=\"color: #008080; text-decoration-color: #008080; font-weight: bold\">-38.557288</span> │\n",
       "│ <span style=\"color: #800080; text-decoration-color: #800080\">1958-04-01</span> │     <span style=\"color: #008080; text-decoration-color: #008080; font-weight: bold\">-38.167797</span> │\n",
       "│ <span style=\"color: #800080; text-decoration-color: #800080\">1958-05-01</span> │     <span style=\"color: #008080; text-decoration-color: #008080; font-weight: bold\">-38.147167</span> │\n",
       "│ <span style=\"color: #800080; text-decoration-color: #800080\">1958-07-01</span> │     <span style=\"color: #008080; text-decoration-color: #008080; font-weight: bold\">-37.738333</span> │\n",
       "│ <span style=\"color: #800080; text-decoration-color: #800080\">1958-08-01</span> │     <span style=\"color: #008080; text-decoration-color: #008080; font-weight: bold\">-36.673667</span> │\n",
       "│ <span style=\"color: #800080; text-decoration-color: #800080\">1958-09-01</span> │     <span style=\"color: #008080; text-decoration-color: #008080; font-weight: bold\">-36.724833</span> │\n",
       "│ <span style=\"color: #800080; text-decoration-color: #800080\">1958-11-01</span> │     <span style=\"color: #008080; text-decoration-color: #008080; font-weight: bold\">-37.977833</span> │\n",
       "│ <span style=\"color: #800080; text-decoration-color: #800080\">1958-12-01</span> │     <span style=\"color: #008080; text-decoration-color: #008080; font-weight: bold\">-37.934667</span> │\n",
       "│ <span style=\"color: #800080; text-decoration-color: #800080\">1959-01-01</span> │     <span style=\"color: #008080; text-decoration-color: #008080; font-weight: bold\">-37.171695</span> │\n",
       "│ <span style=\"color: #800080; text-decoration-color: #800080\">1959-02-01</span> │     <span style=\"color: #008080; text-decoration-color: #008080; font-weight: bold\">-37.620862</span> │\n",
       "│ <span style=\"color: #7f7f7f; text-decoration-color: #7f7f7f\">…</span>          │              <span style=\"color: #7f7f7f; text-decoration-color: #7f7f7f\">…</span> │\n",
       "└────────────┴────────────────┘\n",
       "</pre>\n"
      ],
      "text/plain": [
       "┏━━━━━━━━━━━━┳━━━━━━━━━━━━━━━━┓\n",
       "┃\u001b[1m \u001b[0m\u001b[1mDate\u001b[0m\u001b[1m      \u001b[0m\u001b[1m \u001b[0m┃\u001b[1m \u001b[0m\u001b[1mCO2_normalized\u001b[0m\u001b[1m \u001b[0m┃\n",
       "┡━━━━━━━━━━━━╇━━━━━━━━━━━━━━━━┩\n",
       "│ \u001b[2mdate\u001b[0m       │ \u001b[2mfloat64\u001b[0m        │\n",
       "├────────────┼────────────────┤\n",
       "│ \u001b[35m1958-03-01\u001b[0m │     \u001b[1;36m-38.557288\u001b[0m │\n",
       "│ \u001b[35m1958-04-01\u001b[0m │     \u001b[1;36m-38.167797\u001b[0m │\n",
       "│ \u001b[35m1958-05-01\u001b[0m │     \u001b[1;36m-38.147167\u001b[0m │\n",
       "│ \u001b[35m1958-07-01\u001b[0m │     \u001b[1;36m-37.738333\u001b[0m │\n",
       "│ \u001b[35m1958-08-01\u001b[0m │     \u001b[1;36m-36.673667\u001b[0m │\n",
       "│ \u001b[35m1958-09-01\u001b[0m │     \u001b[1;36m-36.724833\u001b[0m │\n",
       "│ \u001b[35m1958-11-01\u001b[0m │     \u001b[1;36m-37.977833\u001b[0m │\n",
       "│ \u001b[35m1958-12-01\u001b[0m │     \u001b[1;36m-37.934667\u001b[0m │\n",
       "│ \u001b[35m1959-01-01\u001b[0m │     \u001b[1;36m-37.171695\u001b[0m │\n",
       "│ \u001b[35m1959-02-01\u001b[0m │     \u001b[1;36m-37.620862\u001b[0m │\n",
       "│ \u001b[2m…\u001b[0m          │              \u001b[2m…\u001b[0m │\n",
       "└────────────┴────────────────┘\n"
      ]
     },
     "metadata": {},
     "output_type": "display_data"
    }
   ],
   "source": [
    "# | echo: false\n",
    "print(c.execute(\"text\"))"
   ]
  },
  {
   "cell_type": "markdown",
   "id": "2734db61",
   "metadata": {},
   "source": [
    "#### AST"
   ]
  },
  {
   "cell_type": "code",
   "execution_count": 23,
   "id": "bf1f9f47",
   "metadata": {
    "execution": {
     "iopub.execute_input": "2024-03-12T19:52:27.887183Z",
     "iopub.status.busy": "2024-03-12T19:52:27.887100Z",
     "iopub.status.idle": "2024-03-12T19:52:27.889806Z",
     "shell.execute_reply": "2024-03-12T19:52:27.889580Z"
    }
   },
   "outputs": [
    {
     "data": {
      "text/plain": [
       "r0 := DatabaseTable: co2_concentration​\n",
       "  CO2  float64\n",
       "  Date date\n",
       "\n",
       "r1 := Project[r0]\n",
       "  ExtractMonth(Date): ExtractMonth(r0.Date)\n",
       "  CO2:                r0.CO2\n",
       "  Date:               r0.Date\n",
       "  CO2_normalized:     r0.CO2 - WindowFunction(func=Mean(r0.CO2), frame=RowsWindowFrame(table=r0, group_by=[ExtractMonth(r0.Date)]))\n",
       "\n",
       "r2 := Project[r1]\n",
       "  Date:           r1.Date\n",
       "  CO2_normalized: r1.CO2_normalized\n",
       "\n",
       "Sort[r2]\n",
       "  asc r2.Date"
      ]
     },
     "execution_count": 23,
     "metadata": {},
     "output_type": "execute_result"
    }
   ],
   "source": [
    "# | echo: false\n",
    "c"
   ]
  },
  {
   "cell_type": "markdown",
   "id": "9fd5ac8b",
   "metadata": {},
   "source": [
    "#### AST graph\n"
   ]
  },
  {
   "cell_type": "code",
   "execution_count": 24,
   "id": "e44f22bd",
   "metadata": {
    "execution": {
     "iopub.execute_input": "2024-03-12T19:52:27.891062Z",
     "iopub.status.busy": "2024-03-12T19:52:27.890993Z",
     "iopub.status.idle": "2024-03-12T19:52:29.064426Z",
     "shell.execute_reply": "2024-03-12T19:52:29.064160Z"
    }
   },
   "outputs": [
    {
     "data": {
      "text/html": [
       "<pre style=\"white-space:pre;overflow-x:auto;line-height:normal;font-family:Menlo,'DejaVu Sans Mono',consolas,'Courier New',monospace\">                                                                         ╭────────────────────────────╮          \n",
       "                                                                         │ <span style=\"font-weight: bold\">Sort</span>                       │          \n",
       "                                                                         │ <span style=\"font-weight: bold\">   </span><span style=\"font-weight: bold; font-style: italic\">Date: </span><span style=\"color: #008080; text-decoration-color: #008080; font-weight: bold; font-style: italic\">date</span>              │          \n",
       "                                                                         │ <span style=\"font-weight: bold\">   </span><span style=\"font-weight: bold; font-style: italic\">CO2_normalized: </span><span style=\"color: #808000; text-decoration-color: #808000; font-weight: bold; font-style: italic\">float64</span> │          \n",
       "                                                                         ╰────────────────────────────╯          \n",
       "                                                                         ▲              ▲                        \n",
       "                                                                         │              │                        \n",
       "                                                                         │              │                        \n",
       "                                                                  ╭────────────╮        │                        \n",
       "                                                                  │ <span style=\"font-weight: bold\">SortKey</span>    │        │                        \n",
       "                                                                  │ <span style=\"font-weight: bold\">   :: </span><span style=\"color: #008080; text-decoration-color: #008080; font-weight: bold\">date</span> │        │                        \n",
       "                                                                  ╰────────────╯        │                        \n",
       "                                                                         ▲              │                        \n",
       "                                                                         │              │                        \n",
       "                                                                         │              │                        \n",
       "                                                                         │              │                        \n",
       "                                                                  ╭─────────────╮       │                        \n",
       "                                                                  │ <span style=\"font-style: italic\">Date: </span><span style=\"font-weight: bold; font-style: italic\">Field</span> │       │                        \n",
       "                                                                  │ <span style=\"font-style: italic\">   :: </span><span style=\"color: #008080; text-decoration-color: #008080; font-style: italic\">date</span>  │       │                        \n",
       "                                                                  ╰─────────────╯       │                        \n",
       "                                                                         ▲              │                        \n",
       "                                                                         │              │                        \n",
       "                                                                         ╰──────╮       │                        \n",
       "                                                                                │       │                        \n",
       "                                                                                ╰───────│                        \n",
       "                                                                         ╭────────────────────────────╮          \n",
       "                                                                         │ <span style=\"font-weight: bold\">Project</span>                    │          \n",
       "                                                   ╭────────────────────▶│ <span style=\"font-weight: bold\">   </span><span style=\"font-weight: bold; font-style: italic\">Date: </span><span style=\"color: #008080; text-decoration-color: #008080; font-weight: bold; font-style: italic\">date</span>              │          \n",
       "                                                   │                     │ <span style=\"font-weight: bold\">   </span><span style=\"font-weight: bold; font-style: italic\">CO2_normalized: </span><span style=\"color: #808000; text-decoration-color: #808000; font-weight: bold; font-style: italic\">float64</span> │          \n",
       "                                                   │                     ╰────────────────────────────╯          \n",
       "                                                   │                                   ▲▲                        \n",
       "                                                   │                                   ││                        \n",
       "                                                   │                                   ││                        \n",
       "                                            ╭─────────────╮                ╭───────────────────────╮             \n",
       "                                            │ <span style=\"font-style: italic\">Date: </span><span style=\"font-weight: bold; font-style: italic\">Field</span> │                │ <span style=\"font-style: italic\">CO2_normalized: </span><span style=\"font-weight: bold; font-style: italic\">Field</span> │             \n",
       "                                            │ <span style=\"font-style: italic\">   :: </span><span style=\"color: #008080; text-decoration-color: #008080; font-style: italic\">date</span>  │                │ <span style=\"font-style: italic\">   :: </span><span style=\"color: #808000; text-decoration-color: #808000; font-style: italic\">float64</span>         │             \n",
       "                                            ╰─────────────╯                ╰───────────────────────╯             \n",
       "                                                   ▲                                   ▲│                        \n",
       "                                                   │                                   ││                        \n",
       "                                                   │                                   ││                        \n",
       "                                                   ╰───────────────────────────────────╮│                        \n",
       "                                                                                       ││                        \n",
       "                                                                       ╭──────────────────────────────╮          \n",
       "                                                                       │ <span style=\"font-weight: bold\">Project</span>                      │          \n",
       "                                                                       │ <span style=\"font-weight: bold\">   </span><span style=\"font-weight: bold; font-style: italic\">ExtractMonth(Date): </span><span style=\"color: #808000; text-decoration-color: #808000; font-weight: bold; font-style: italic\">int32</span> │          \n",
       "                                                         ╭────────────▶│ <span style=\"font-weight: bold\">   </span><span style=\"font-weight: bold; font-style: italic\">CO2: </span><span style=\"color: #808000; text-decoration-color: #808000; font-weight: bold; font-style: italic\">float64</span>              │◀─╮       \n",
       "                                                         │             │ <span style=\"font-weight: bold\">   </span><span style=\"font-weight: bold; font-style: italic\">Date: </span><span style=\"color: #008080; text-decoration-color: #008080; font-weight: bold; font-style: italic\">date</span>                │  │       \n",
       "                                                         │             │ <span style=\"font-weight: bold\">   </span><span style=\"font-weight: bold; font-style: italic\">CO2_normalized: </span><span style=\"color: #808000; text-decoration-color: #808000; font-weight: bold; font-style: italic\">float64</span>   │  │       \n",
       "                                                         │             ╰──────────────────────────────╯  │       \n",
       "                                                         │                             ▲ ▲               │       \n",
       "                                                         │      ╭──────────────────────│ │               │       \n",
       "                                                         │      │                      │ │               │       \n",
       "                                 ╭───────────────╮       │      │                      │ │               │       \n",
       "                                 │ <span style=\"font-weight: bold\">Subtract</span>      │       │      │                      │ │               │       \n",
       "                        ╭───────▶│ <span style=\"font-weight: bold\">   :: </span><span style=\"color: #808000; text-decoration-color: #808000; font-weight: bold\">float64</span> │───────│──────╯                      │ │               │       \n",
       "                        │        ╰───────────────╯       │                             │ │               │       \n",
       "                        │                ▲               │                             │ │               │       \n",
       "                        │                │               │                             │ │               │       \n",
       "                        │                │               │                             │ │               │       \n",
       "                        │                │               │                             │ │               │       \n",
       "               ╭────────────────╮        │               │                             │ │               │       \n",
       "               │ <span style=\"font-weight: bold\">WindowFunction</span> │        │               │                             │ │               │       \n",
       "               │ <span style=\"font-weight: bold\">   :: </span><span style=\"color: #808000; text-decoration-color: #808000; font-weight: bold\">float64</span>  │        │               │                             │ │               │       \n",
       "               ╰────────────────╯        │               │                             │ │               │       \n",
       "                        ▲───╮            │               │                             │ │               │       \n",
       "                        │   │            │               │                             │ │               │       \n",
       "                        │   ╰────────────╰───────────╮   │                             │ │               │       \n",
       "                        │                │           │   │                             │ │               │       \n",
       "╭───────────────╮       │       ╭─────────────────╮  │   │                             │ │               │       \n",
       "│ <span style=\"font-weight: bold\">Mean</span>          │       │       │ <span style=\"font-weight: bold\">RowsWindowFrame</span> │  │   │                             │ │               │       \n",
       "│ <span style=\"font-weight: bold\">   :: </span><span style=\"color: #808000; text-decoration-color: #808000; font-weight: bold\">float64</span> │───────╯       │ <span style=\"font-weight: bold\">   :: ∅</span>         │◀─│───│───────╮                     ╰╮│               │       \n",
       "╰───────────────╯               ╰─────────────────╯  │   │       │                      ││               │       \n",
       "        ▲                                ▲           │   │       │                      ││               │       \n",
       "        │                                │           │   │       │                      ││               │       \n",
       "        │                                │           │   │       ╰───────────╮          ││               │       \n",
       "        │                                │           ╰───│                   │          ││               │       \n",
       "        │                                │       ╭───────────────╮           │   ╭──────────────╮        │       \n",
       "        │                                │       │ <span style=\"font-style: italic\">CO2: </span><span style=\"font-weight: bold; font-style: italic\">Field</span>    │           │   │ <span style=\"font-weight: bold\">ExtractMonth</span> │        │       \n",
       "        ╰────────────────────────────────────────│ <span style=\"font-style: italic\">   :: </span><span style=\"color: #808000; text-decoration-color: #808000; font-style: italic\">float64</span> │           ╰───│ <span style=\"font-weight: bold\">   :: </span><span style=\"color: #808000; text-decoration-color: #808000; font-weight: bold\">int32</span>  │        │       \n",
       "                                         │       ╰───────────────╯               ╰──────────────╯        │       \n",
       "                                         │               ▲                              │▲               │       \n",
       "                                         │               │                              ││               │       \n",
       "                                         ╰───────────────│──────╮                       ││               │       \n",
       "                                                         │      │                       ││               │       \n",
       "                                                         │      │                       ││        ╭─────────────╮\n",
       "                                                         │      │                       ││        │ <span style=\"font-style: italic\">Date: </span><span style=\"font-weight: bold; font-style: italic\">Field</span> │\n",
       "                                                         │      │                       │╰────────│ <span style=\"font-style: italic\">   :: </span><span style=\"color: #008080; text-decoration-color: #008080; font-style: italic\">date</span>  │\n",
       "                                                         │      │                       │         ╰─────────────╯\n",
       "                                                         │      ╰───────────╮           │                ▲       \n",
       "                                                         │                  │           │                │       \n",
       "                                                         │                  │           │       ╭────────╯       \n",
       "                                                         │                  │           │       │                \n",
       "                                                         │                  ╰───────────│───────╯                \n",
       "                                                         │            ╭──────────────────────────────────╮       \n",
       "                                                         │            │ <span style=\"font-style: italic\">co2_concentration​: </span><span style=\"font-weight: bold; font-style: italic\">DatabaseTable</span> │       \n",
       "                                                         ╰────────────│ <span style=\"font-style: italic\">   CO2: </span><span style=\"color: #808000; text-decoration-color: #808000; font-style: italic\">float64</span>                  │       \n",
       "                                                                      │ <span style=\"font-style: italic\">   Date: </span><span style=\"color: #008080; text-decoration-color: #008080; font-style: italic\">date</span>                    │       \n",
       "                                                                      ╰──────────────────────────────────╯       \n",
       "</pre>\n"
      ],
      "text/plain": [
       "                                                                         ╭────────────────────────────╮          \n",
       "                                                                         │ \u001b[1mSort\u001b[0m                       │          \n",
       "                                                                         │ \u001b[1m   \u001b[0m\u001b[1;3mDate: \u001b[0m\u001b[1;3;36mdate\u001b[0m              │          \n",
       "                                                                         │ \u001b[1m   \u001b[0m\u001b[1;3mCO2_normalized: \u001b[0m\u001b[1;3;33mfloat64\u001b[0m │          \n",
       "                                                                         ╰────────────────────────────╯          \n",
       "                                                                         ▲              ▲                        \n",
       "                                                                         │              │                        \n",
       "                                                                         │              │                        \n",
       "                                                                  ╭────────────╮        │                        \n",
       "                                                                  │ \u001b[1mSortKey\u001b[0m    │        │                        \n",
       "                                                                  │ \u001b[1m   :: \u001b[0m\u001b[1;36mdate\u001b[0m │        │                        \n",
       "                                                                  ╰────────────╯        │                        \n",
       "                                                                         ▲              │                        \n",
       "                                                                         │              │                        \n",
       "                                                                         │              │                        \n",
       "                                                                         │              │                        \n",
       "                                                                  ╭─────────────╮       │                        \n",
       "                                                                  │ \u001b[3mDate: \u001b[0m\u001b[1;3mField\u001b[0m │       │                        \n",
       "                                                                  │ \u001b[3m   :: \u001b[0m\u001b[3;36mdate\u001b[0m  │       │                        \n",
       "                                                                  ╰─────────────╯       │                        \n",
       "                                                                         ▲              │                        \n",
       "                                                                         │              │                        \n",
       "                                                                         ╰──────╮       │                        \n",
       "                                                                                │       │                        \n",
       "                                                                                ╰───────│                        \n",
       "                                                                         ╭────────────────────────────╮          \n",
       "                                                                         │ \u001b[1mProject\u001b[0m                    │          \n",
       "                                                   ╭────────────────────▶│ \u001b[1m   \u001b[0m\u001b[1;3mDate: \u001b[0m\u001b[1;3;36mdate\u001b[0m              │          \n",
       "                                                   │                     │ \u001b[1m   \u001b[0m\u001b[1;3mCO2_normalized: \u001b[0m\u001b[1;3;33mfloat64\u001b[0m │          \n",
       "                                                   │                     ╰────────────────────────────╯          \n",
       "                                                   │                                   ▲▲                        \n",
       "                                                   │                                   ││                        \n",
       "                                                   │                                   ││                        \n",
       "                                            ╭─────────────╮                ╭───────────────────────╮             \n",
       "                                            │ \u001b[3mDate: \u001b[0m\u001b[1;3mField\u001b[0m │                │ \u001b[3mCO2_normalized: \u001b[0m\u001b[1;3mField\u001b[0m │             \n",
       "                                            │ \u001b[3m   :: \u001b[0m\u001b[3;36mdate\u001b[0m  │                │ \u001b[3m   :: \u001b[0m\u001b[3;33mfloat64\u001b[0m         │             \n",
       "                                            ╰─────────────╯                ╰───────────────────────╯             \n",
       "                                                   ▲                                   ▲│                        \n",
       "                                                   │                                   ││                        \n",
       "                                                   │                                   ││                        \n",
       "                                                   ╰───────────────────────────────────╮│                        \n",
       "                                                                                       ││                        \n",
       "                                                                       ╭──────────────────────────────╮          \n",
       "                                                                       │ \u001b[1mProject\u001b[0m                      │          \n",
       "                                                                       │ \u001b[1m   \u001b[0m\u001b[1;3mExtractMonth(Date): \u001b[0m\u001b[1;3;33mint32\u001b[0m │          \n",
       "                                                         ╭────────────▶│ \u001b[1m   \u001b[0m\u001b[1;3mCO2: \u001b[0m\u001b[1;3;33mfloat64\u001b[0m              │◀─╮       \n",
       "                                                         │             │ \u001b[1m   \u001b[0m\u001b[1;3mDate: \u001b[0m\u001b[1;3;36mdate\u001b[0m                │  │       \n",
       "                                                         │             │ \u001b[1m   \u001b[0m\u001b[1;3mCO2_normalized: \u001b[0m\u001b[1;3;33mfloat64\u001b[0m   │  │       \n",
       "                                                         │             ╰──────────────────────────────╯  │       \n",
       "                                                         │                             ▲ ▲               │       \n",
       "                                                         │      ╭──────────────────────│ │               │       \n",
       "                                                         │      │                      │ │               │       \n",
       "                                 ╭───────────────╮       │      │                      │ │               │       \n",
       "                                 │ \u001b[1mSubtract\u001b[0m      │       │      │                      │ │               │       \n",
       "                        ╭───────▶│ \u001b[1m   :: \u001b[0m\u001b[1;33mfloat64\u001b[0m │───────│──────╯                      │ │               │       \n",
       "                        │        ╰───────────────╯       │                             │ │               │       \n",
       "                        │                ▲               │                             │ │               │       \n",
       "                        │                │               │                             │ │               │       \n",
       "                        │                │               │                             │ │               │       \n",
       "                        │                │               │                             │ │               │       \n",
       "               ╭────────────────╮        │               │                             │ │               │       \n",
       "               │ \u001b[1mWindowFunction\u001b[0m │        │               │                             │ │               │       \n",
       "               │ \u001b[1m   :: \u001b[0m\u001b[1;33mfloat64\u001b[0m  │        │               │                             │ │               │       \n",
       "               ╰────────────────╯        │               │                             │ │               │       \n",
       "                        ▲───╮            │               │                             │ │               │       \n",
       "                        │   │            │               │                             │ │               │       \n",
       "                        │   ╰────────────╰───────────╮   │                             │ │               │       \n",
       "                        │                │           │   │                             │ │               │       \n",
       "╭───────────────╮       │       ╭─────────────────╮  │   │                             │ │               │       \n",
       "│ \u001b[1mMean\u001b[0m          │       │       │ \u001b[1mRowsWindowFrame\u001b[0m │  │   │                             │ │               │       \n",
       "│ \u001b[1m   :: \u001b[0m\u001b[1;33mfloat64\u001b[0m │───────╯       │ \u001b[1m   :: ∅\u001b[0m         │◀─│───│───────╮                     ╰╮│               │       \n",
       "╰───────────────╯               ╰─────────────────╯  │   │       │                      ││               │       \n",
       "        ▲                                ▲           │   │       │                      ││               │       \n",
       "        │                                │           │   │       │                      ││               │       \n",
       "        │                                │           │   │       ╰───────────╮          ││               │       \n",
       "        │                                │           ╰───│                   │          ││               │       \n",
       "        │                                │       ╭───────────────╮           │   ╭──────────────╮        │       \n",
       "        │                                │       │ \u001b[3mCO2: \u001b[0m\u001b[1;3mField\u001b[0m    │           │   │ \u001b[1mExtractMonth\u001b[0m │        │       \n",
       "        ╰────────────────────────────────────────│ \u001b[3m   :: \u001b[0m\u001b[3;33mfloat64\u001b[0m │           ╰───│ \u001b[1m   :: \u001b[0m\u001b[1;33mint32\u001b[0m  │        │       \n",
       "                                         │       ╰───────────────╯               ╰──────────────╯        │       \n",
       "                                         │               ▲                              │▲               │       \n",
       "                                         │               │                              ││               │       \n",
       "                                         ╰───────────────│──────╮                       ││               │       \n",
       "                                                         │      │                       ││               │       \n",
       "                                                         │      │                       ││        ╭─────────────╮\n",
       "                                                         │      │                       ││        │ \u001b[3mDate: \u001b[0m\u001b[1;3mField\u001b[0m │\n",
       "                                                         │      │                       │╰────────│ \u001b[3m   :: \u001b[0m\u001b[3;36mdate\u001b[0m  │\n",
       "                                                         │      │                       │         ╰─────────────╯\n",
       "                                                         │      ╰───────────╮           │                ▲       \n",
       "                                                         │                  │           │                │       \n",
       "                                                         │                  │           │       ╭────────╯       \n",
       "                                                         │                  │           │       │                \n",
       "                                                         │                  ╰───────────│───────╯                \n",
       "                                                         │            ╭──────────────────────────────────╮       \n",
       "                                                         │            │ \u001b[3mco2_concentration​: \u001b[0m\u001b[1;3mDatabaseTable\u001b[0m │       \n",
       "                                                         ╰────────────│ \u001b[3m   \u001b[0m\u001b[3mCO2: \u001b[0m\u001b[3;33mfloat64\u001b[0m                  │       \n",
       "                                                                      │ \u001b[3m   \u001b[0m\u001b[3mDate: \u001b[0m\u001b[3;36mdate\u001b[0m                    │       \n",
       "                                                                      ╰──────────────────────────────────╯       \n"
      ]
     },
     "metadata": {},
     "output_type": "display_data"
    }
   ],
   "source": [
    "# | echo: false\n",
    "c.visualize()"
   ]
  },
  {
   "cell_type": "markdown",
   "id": "71549a06",
   "metadata": {},
   "source": [
    ":::"
   ]
  },
  {
   "cell_type": "markdown",
   "id": "a16824ee",
   "metadata": {},
   "source": [
    "</Accordion>"
   ]
  },
  {
   "cell_type": "markdown",
   "id": "99e3e13e",
   "metadata": {},
   "source": [
    "<Accordion title=\"Structs\">"
   ]
  },
  {
   "cell_type": "code",
   "execution_count": 25,
   "id": "25a3dbc9",
   "metadata": {
    "execution": {
     "iopub.execute_input": "2024-03-12T19:52:29.065902Z",
     "iopub.status.busy": "2024-03-12T19:52:29.065803Z",
     "iopub.status.idle": "2024-03-12T19:52:29.086023Z",
     "shell.execute_reply": "2024-03-12T19:52:29.085775Z"
    }
   },
   "outputs": [],
   "source": [
    "#| echo: false\n",
    "from vinyl.examples import weather\n",
    "\n",
    "weather = weather()\n",
    "\n",
    "\n",
    "weather = weather.drop([weather.forecast, weather.record])\n",
    "weather = weather._create_view(\"weather\")"
   ]
  },
  {
   "cell_type": "code",
   "execution_count": 26,
   "id": "442f5570",
   "metadata": {
    "execution": {
     "iopub.execute_input": "2024-03-12T19:52:29.087329Z",
     "iopub.status.busy": "2024-03-12T19:52:29.087255Z",
     "iopub.status.idle": "2024-03-12T19:52:29.090687Z",
     "shell.execute_reply": "2024-03-12T19:52:29.090452Z"
    }
   },
   "outputs": [],
   "source": [
    "with weather as w:\n",
    "    w.define({\"high_vs_expected\": w.actual[\"high\"] - w.normal[\"high\"]})\n",
    "    w.dropna(w.high_vs_expected)"
   ]
  },
  {
   "cell_type": "markdown",
   "id": "f95155a7",
   "metadata": {},
   "source": [
    "::: {.panel-tabset}"
   ]
  },
  {
   "cell_type": "markdown",
   "id": "52f53bb8",
   "metadata": {},
   "source": [
    "#### SQL\n"
   ]
  },
  {
   "cell_type": "code",
   "execution_count": 27,
   "id": "8b434a69",
   "metadata": {
    "execution": {
     "iopub.execute_input": "2024-03-12T19:52:29.091956Z",
     "iopub.status.busy": "2024-03-12T19:52:29.091883Z",
     "iopub.status.idle": "2024-03-12T19:52:29.096402Z",
     "shell.execute_reply": "2024-03-12T19:52:29.096156Z"
    }
   },
   "outputs": [
    {
     "data": {
      "text/html": [
       "<pre style=\"white-space:pre;overflow-x:auto;line-height:normal;font-family:Menlo,'DejaVu Sans Mono',consolas,'Courier New',monospace\">SELECT\n",
       "  *\n",
       "FROM <span style=\"font-weight: bold\">(</span>\n",
       "  SELECT\n",
       "    <span style=\"color: #008000; text-decoration-color: #008000\">\"t0\"</span>.<span style=\"color: #008000; text-decoration-color: #008000\">\"day\"</span>,\n",
       "    <span style=\"color: #008000; text-decoration-color: #008000\">\"t0\"</span>.<span style=\"color: #008000; text-decoration-color: #008000\">\"normal\"</span>,\n",
       "    <span style=\"color: #008000; text-decoration-color: #008000\">\"t0\"</span>.<span style=\"color: #008000; text-decoration-color: #008000\">\"actual\"</span>,\n",
       "    <span style=\"color: #008000; text-decoration-color: #008000\">\"t0\"</span>.<span style=\"color: #008000; text-decoration-color: #008000\">\"id\"</span>,\n",
       "    <span style=\"color: #008000; text-decoration-color: #008000\">\"t0\"</span>.<span style=\"color: #008000; text-decoration-color: #008000\">\"actual\"</span>.<span style=\"color: #008000; text-decoration-color: #008000\">\"high\"</span> - <span style=\"color: #008000; text-decoration-color: #008000\">\"t0\"</span>.<span style=\"color: #008000; text-decoration-color: #008000\">\"normal\"</span>.<span style=\"color: #008000; text-decoration-color: #008000\">\"high\"</span> AS <span style=\"color: #008000; text-decoration-color: #008000\">\"high_vs_expected\"</span>\n",
       "  FROM <span style=\"color: #008000; text-decoration-color: #008000\">\"weather​\"</span> AS <span style=\"color: #008000; text-decoration-color: #008000\">\"t0\"</span>\n",
       "<span style=\"font-weight: bold\">)</span> AS <span style=\"color: #008000; text-decoration-color: #008000\">\"t1\"</span>\n",
       "WHERE\n",
       "  NOT <span style=\"color: #008000; text-decoration-color: #008000\">\"t1\"</span>.<span style=\"color: #008000; text-decoration-color: #008000\">\"high_vs_expected\"</span> IS NULL\n",
       "</pre>\n"
      ],
      "text/plain": [
       "SELECT\n",
       "  *\n",
       "FROM \u001b[1m(\u001b[0m\n",
       "  SELECT\n",
       "    \u001b[32m\"t0\"\u001b[0m.\u001b[32m\"day\"\u001b[0m,\n",
       "    \u001b[32m\"t0\"\u001b[0m.\u001b[32m\"normal\"\u001b[0m,\n",
       "    \u001b[32m\"t0\"\u001b[0m.\u001b[32m\"actual\"\u001b[0m,\n",
       "    \u001b[32m\"t0\"\u001b[0m.\u001b[32m\"id\"\u001b[0m,\n",
       "    \u001b[32m\"t0\"\u001b[0m.\u001b[32m\"actual\"\u001b[0m.\u001b[32m\"high\"\u001b[0m - \u001b[32m\"t0\"\u001b[0m.\u001b[32m\"normal\"\u001b[0m.\u001b[32m\"high\"\u001b[0m AS \u001b[32m\"high_vs_expected\"\u001b[0m\n",
       "  FROM \u001b[32m\"weather​\"\u001b[0m AS \u001b[32m\"t0\"\u001b[0m\n",
       "\u001b[1m)\u001b[0m AS \u001b[32m\"t1\"\u001b[0m\n",
       "WHERE\n",
       "  NOT \u001b[32m\"t1\"\u001b[0m.\u001b[32m\"high_vs_expected\"\u001b[0m IS NULL\n"
      ]
     },
     "metadata": {},
     "output_type": "display_data"
    }
   ],
   "source": [
    "# | echo: false\n",
    "print(w.to_sql())"
   ]
  },
  {
   "cell_type": "markdown",
   "id": "b11e5fb5",
   "metadata": {},
   "source": [
    "#### Result"
   ]
  },
  {
   "cell_type": "code",
   "execution_count": 28,
   "id": "7425f0b1",
   "metadata": {
    "execution": {
     "iopub.execute_input": "2024-03-12T19:52:29.097655Z",
     "iopub.status.busy": "2024-03-12T19:52:29.097586Z",
     "iopub.status.idle": "2024-03-12T19:52:29.108496Z",
     "shell.execute_reply": "2024-03-12T19:52:29.108285Z"
    }
   },
   "outputs": [
    {
     "data": {
      "text/html": [
       "<pre style=\"white-space:pre;overflow-x:auto;line-height:normal;font-family:Menlo,'DejaVu Sans Mono',consolas,'Courier New',monospace\">┏━━━━━━━━┳━━━━━━━━━━━━━━━━━━━━━━━━━━━━━━━━━┳━━━━━━━━━━━━━━━━━━━━━━━━━━━━━━━━━┳━━━━━━━┳━━━━━━━━━━━━━━━━━━┓\n",
       "┃<span style=\"font-weight: bold\"> day    </span>┃<span style=\"font-weight: bold\"> normal                          </span>┃<span style=\"font-weight: bold\"> actual                          </span>┃<span style=\"font-weight: bold\"> id    </span>┃<span style=\"font-weight: bold\"> high_vs_expected </span>┃\n",
       "┡━━━━━━━━╇━━━━━━━━━━━━━━━━━━━━━━━━━━━━━━━━━╇━━━━━━━━━━━━━━━━━━━━━━━━━━━━━━━━━╇━━━━━━━╇━━━━━━━━━━━━━━━━━━┩\n",
       "│ <span style=\"color: #7f7f7f; text-decoration-color: #7f7f7f\">string</span> │ <span style=\"color: #7f7f7f; text-decoration-color: #7f7f7f\">struct&lt;high: int64, low: int64&gt;</span> │ <span style=\"color: #7f7f7f; text-decoration-color: #7f7f7f\">struct&lt;high: int64, low: int64&gt;</span> │ <span style=\"color: #7f7f7f; text-decoration-color: #7f7f7f\">int64</span> │ <span style=\"color: #7f7f7f; text-decoration-color: #7f7f7f\">int64</span>            │\n",
       "├────────┼─────────────────────────────────┼─────────────────────────────────┼───────┼──────────────────┤\n",
       "│ <span style=\"color: #008000; text-decoration-color: #008000\">M     </span> │ <span style=\"font-weight: bold\">{</span><span style=\"color: #008000; text-decoration-color: #008000\">'high'</span>: <span style=\"color: #008080; text-decoration-color: #008080; font-weight: bold\">50</span>, <span style=\"color: #008000; text-decoration-color: #008000\">'low'</span>: <span style=\"color: #008080; text-decoration-color: #008080; font-weight: bold\">38</span><span style=\"font-weight: bold\">}</span>         │ <span style=\"font-weight: bold\">{</span><span style=\"color: #008000; text-decoration-color: #008000\">'high'</span>: <span style=\"color: #008080; text-decoration-color: #008080; font-weight: bold\">48</span>, <span style=\"color: #008000; text-decoration-color: #008000\">'low'</span>: <span style=\"color: #008080; text-decoration-color: #008080; font-weight: bold\">36</span><span style=\"font-weight: bold\">}</span>         │     <span style=\"color: #008080; text-decoration-color: #008080; font-weight: bold\">0</span> │               <span style=\"color: #008080; text-decoration-color: #008080; font-weight: bold\">-2</span> │\n",
       "│ <span style=\"color: #008000; text-decoration-color: #008000\">T     </span> │ <span style=\"font-weight: bold\">{</span><span style=\"color: #008000; text-decoration-color: #008000\">'high'</span>: <span style=\"color: #008080; text-decoration-color: #008080; font-weight: bold\">50</span>, <span style=\"color: #008000; text-decoration-color: #008000\">'low'</span>: <span style=\"color: #008080; text-decoration-color: #008080; font-weight: bold\">38</span><span style=\"font-weight: bold\">}</span>         │ <span style=\"font-weight: bold\">{</span><span style=\"color: #008000; text-decoration-color: #008000\">'high'</span>: <span style=\"color: #008080; text-decoration-color: #008080; font-weight: bold\">50</span>, <span style=\"color: #008000; text-decoration-color: #008000\">'low'</span>: <span style=\"color: #008080; text-decoration-color: #008080; font-weight: bold\">40</span><span style=\"font-weight: bold\">}</span>         │     <span style=\"color: #008080; text-decoration-color: #008080; font-weight: bold\">1</span> │                <span style=\"color: #008080; text-decoration-color: #008080; font-weight: bold\">0</span> │\n",
       "│ <span style=\"color: #008000; text-decoration-color: #008000\">W     </span> │ <span style=\"font-weight: bold\">{</span><span style=\"color: #008000; text-decoration-color: #008000\">'high'</span>: <span style=\"color: #008080; text-decoration-color: #008080; font-weight: bold\">50</span>, <span style=\"color: #008000; text-decoration-color: #008000\">'low'</span>: <span style=\"color: #008080; text-decoration-color: #008080; font-weight: bold\">38</span><span style=\"font-weight: bold\">}</span>         │ <span style=\"font-weight: bold\">{</span><span style=\"color: #008000; text-decoration-color: #008000\">'high'</span>: <span style=\"color: #008080; text-decoration-color: #008080; font-weight: bold\">55</span>, <span style=\"color: #008000; text-decoration-color: #008000\">'low'</span>: <span style=\"color: #008080; text-decoration-color: #008080; font-weight: bold\">36</span><span style=\"font-weight: bold\">}</span>         │     <span style=\"color: #008080; text-decoration-color: #008080; font-weight: bold\">2</span> │                <span style=\"color: #008080; text-decoration-color: #008080; font-weight: bold\">5</span> │\n",
       "│ <span style=\"color: #008000; text-decoration-color: #008000\">T     </span> │ <span style=\"font-weight: bold\">{</span><span style=\"color: #008000; text-decoration-color: #008000\">'high'</span>: <span style=\"color: #008080; text-decoration-color: #008080; font-weight: bold\">50</span>, <span style=\"color: #008000; text-decoration-color: #008000\">'low'</span>: <span style=\"color: #008080; text-decoration-color: #008080; font-weight: bold\">38</span><span style=\"font-weight: bold\">}</span>         │ <span style=\"font-weight: bold\">{</span><span style=\"color: #008000; text-decoration-color: #008000\">'high'</span>: <span style=\"color: #008080; text-decoration-color: #008080; font-weight: bold\">51</span>, <span style=\"color: #008000; text-decoration-color: #008000\">'low'</span>: <span style=\"color: #008080; text-decoration-color: #008080; font-weight: bold\">33</span><span style=\"font-weight: bold\">}</span>         │     <span style=\"color: #008080; text-decoration-color: #008080; font-weight: bold\">3</span> │                <span style=\"color: #008080; text-decoration-color: #008080; font-weight: bold\">1</span> │\n",
       "│ <span style=\"color: #008000; text-decoration-color: #008000\">F     </span> │ <span style=\"font-weight: bold\">{</span><span style=\"color: #008000; text-decoration-color: #008000\">'high'</span>: <span style=\"color: #008080; text-decoration-color: #008080; font-weight: bold\">50</span>, <span style=\"color: #008000; text-decoration-color: #008000\">'low'</span>: <span style=\"color: #008080; text-decoration-color: #008080; font-weight: bold\">38</span><span style=\"font-weight: bold\">}</span>         │ <span style=\"font-weight: bold\">{</span><span style=\"color: #008000; text-decoration-color: #008000\">'high'</span>: <span style=\"color: #008080; text-decoration-color: #008080; font-weight: bold\">50</span>, <span style=\"color: #008000; text-decoration-color: #008000\">'low'</span>: <span style=\"color: #008080; text-decoration-color: #008080; font-weight: bold\">30</span><span style=\"font-weight: bold\">}</span>         │     <span style=\"color: #008080; text-decoration-color: #008080; font-weight: bold\">4</span> │                <span style=\"color: #008080; text-decoration-color: #008080; font-weight: bold\">0</span> │\n",
       "└────────┴─────────────────────────────────┴─────────────────────────────────┴───────┴──────────────────┘\n",
       "</pre>\n"
      ],
      "text/plain": [
       "┏━━━━━━━━┳━━━━━━━━━━━━━━━━━━━━━━━━━━━━━━━━━┳━━━━━━━━━━━━━━━━━━━━━━━━━━━━━━━━━┳━━━━━━━┳━━━━━━━━━━━━━━━━━━┓\n",
       "┃\u001b[1m \u001b[0m\u001b[1mday\u001b[0m\u001b[1m   \u001b[0m\u001b[1m \u001b[0m┃\u001b[1m \u001b[0m\u001b[1mnormal\u001b[0m\u001b[1m                         \u001b[0m\u001b[1m \u001b[0m┃\u001b[1m \u001b[0m\u001b[1mactual\u001b[0m\u001b[1m                         \u001b[0m\u001b[1m \u001b[0m┃\u001b[1m \u001b[0m\u001b[1mid\u001b[0m\u001b[1m   \u001b[0m\u001b[1m \u001b[0m┃\u001b[1m \u001b[0m\u001b[1mhigh_vs_expected\u001b[0m\u001b[1m \u001b[0m┃\n",
       "┡━━━━━━━━╇━━━━━━━━━━━━━━━━━━━━━━━━━━━━━━━━━╇━━━━━━━━━━━━━━━━━━━━━━━━━━━━━━━━━╇━━━━━━━╇━━━━━━━━━━━━━━━━━━┩\n",
       "│ \u001b[2mstring\u001b[0m │ \u001b[2mstruct<high: int64, low: int64>\u001b[0m │ \u001b[2mstruct<high: int64, low: int64>\u001b[0m │ \u001b[2mint64\u001b[0m │ \u001b[2mint64\u001b[0m            │\n",
       "├────────┼─────────────────────────────────┼─────────────────────────────────┼───────┼──────────────────┤\n",
       "│ \u001b[32mM     \u001b[0m │ \u001b[1m{\u001b[0m\u001b[32m'high'\u001b[0m: \u001b[1;36m50\u001b[0m, \u001b[32m'low'\u001b[0m: \u001b[1;36m38\u001b[0m\u001b[1m}\u001b[0m         │ \u001b[1m{\u001b[0m\u001b[32m'high'\u001b[0m: \u001b[1;36m48\u001b[0m, \u001b[32m'low'\u001b[0m: \u001b[1;36m36\u001b[0m\u001b[1m}\u001b[0m         │     \u001b[1;36m0\u001b[0m │               \u001b[1;36m-2\u001b[0m │\n",
       "│ \u001b[32mT     \u001b[0m │ \u001b[1m{\u001b[0m\u001b[32m'high'\u001b[0m: \u001b[1;36m50\u001b[0m, \u001b[32m'low'\u001b[0m: \u001b[1;36m38\u001b[0m\u001b[1m}\u001b[0m         │ \u001b[1m{\u001b[0m\u001b[32m'high'\u001b[0m: \u001b[1;36m50\u001b[0m, \u001b[32m'low'\u001b[0m: \u001b[1;36m40\u001b[0m\u001b[1m}\u001b[0m         │     \u001b[1;36m1\u001b[0m │                \u001b[1;36m0\u001b[0m │\n",
       "│ \u001b[32mW     \u001b[0m │ \u001b[1m{\u001b[0m\u001b[32m'high'\u001b[0m: \u001b[1;36m50\u001b[0m, \u001b[32m'low'\u001b[0m: \u001b[1;36m38\u001b[0m\u001b[1m}\u001b[0m         │ \u001b[1m{\u001b[0m\u001b[32m'high'\u001b[0m: \u001b[1;36m55\u001b[0m, \u001b[32m'low'\u001b[0m: \u001b[1;36m36\u001b[0m\u001b[1m}\u001b[0m         │     \u001b[1;36m2\u001b[0m │                \u001b[1;36m5\u001b[0m │\n",
       "│ \u001b[32mT     \u001b[0m │ \u001b[1m{\u001b[0m\u001b[32m'high'\u001b[0m: \u001b[1;36m50\u001b[0m, \u001b[32m'low'\u001b[0m: \u001b[1;36m38\u001b[0m\u001b[1m}\u001b[0m         │ \u001b[1m{\u001b[0m\u001b[32m'high'\u001b[0m: \u001b[1;36m51\u001b[0m, \u001b[32m'low'\u001b[0m: \u001b[1;36m33\u001b[0m\u001b[1m}\u001b[0m         │     \u001b[1;36m3\u001b[0m │                \u001b[1;36m1\u001b[0m │\n",
       "│ \u001b[32mF     \u001b[0m │ \u001b[1m{\u001b[0m\u001b[32m'high'\u001b[0m: \u001b[1;36m50\u001b[0m, \u001b[32m'low'\u001b[0m: \u001b[1;36m38\u001b[0m\u001b[1m}\u001b[0m         │ \u001b[1m{\u001b[0m\u001b[32m'high'\u001b[0m: \u001b[1;36m50\u001b[0m, \u001b[32m'low'\u001b[0m: \u001b[1;36m30\u001b[0m\u001b[1m}\u001b[0m         │     \u001b[1;36m4\u001b[0m │                \u001b[1;36m0\u001b[0m │\n",
       "└────────┴─────────────────────────────────┴─────────────────────────────────┴───────┴──────────────────┘\n"
      ]
     },
     "metadata": {},
     "output_type": "display_data"
    }
   ],
   "source": [
    "# | echo: false\n",
    "print(w.execute(\"text\"))"
   ]
  },
  {
   "cell_type": "markdown",
   "id": "a2ff314a",
   "metadata": {},
   "source": [
    "#### AST"
   ]
  },
  {
   "cell_type": "code",
   "execution_count": 29,
   "id": "cdf17700",
   "metadata": {
    "execution": {
     "iopub.execute_input": "2024-03-12T19:52:29.109762Z",
     "iopub.status.busy": "2024-03-12T19:52:29.109684Z",
     "iopub.status.idle": "2024-03-12T19:52:29.111701Z",
     "shell.execute_reply": "2024-03-12T19:52:29.111522Z"
    }
   },
   "outputs": [
    {
     "data": {
      "text/plain": [
       "r0 := DatabaseTable: weather​\n",
       "  day    string\n",
       "  normal high: int64\n",
       "  low:  int64\n",
       "  actual high: int64\n",
       "  low:  int64\n",
       "  id     int64\n",
       "\n",
       "r1 := Project[r0]\n",
       "  day:              r0.day\n",
       "  normal:           r0.normal\n",
       "  actual:           r0.actual\n",
       "  id:               r0.id\n",
       "  high_vs_expected: StructField(r0.actual, field='high') - StructField(r0.normal, field='high')\n",
       "\n",
       "DropNa[r1]\n",
       "  how:\n",
       "    any\n",
       "  subset:\n",
       "    r1.high_vs_expected"
      ]
     },
     "execution_count": 29,
     "metadata": {},
     "output_type": "execute_result"
    }
   ],
   "source": [
    "# | echo: false\n",
    "w"
   ]
  },
  {
   "cell_type": "markdown",
   "id": "60a08aa8",
   "metadata": {},
   "source": [
    "#### AST graph\n"
   ]
  },
  {
   "cell_type": "code",
   "execution_count": 30,
   "id": "a9bb5eb7",
   "metadata": {
    "execution": {
     "iopub.execute_input": "2024-03-12T19:52:29.112812Z",
     "iopub.status.busy": "2024-03-12T19:52:29.112730Z",
     "iopub.status.idle": "2024-03-12T19:52:29.965417Z",
     "shell.execute_reply": "2024-03-12T19:52:29.965135Z"
    }
   },
   "outputs": [
    {
     "data": {
      "text/html": [
       "<pre style=\"white-space:pre;overflow-x:auto;line-height:normal;font-family:Menlo,'DejaVu Sans Mono',consolas,'Courier New',monospace\">                                                                                                               ╭────────────────────────────────────────────╮                                                           \n",
       "                                                                                                               │ <span style=\"font-weight: bold\">DropNa</span>                                     │                                                           \n",
       "                                                                                                               │ <span style=\"font-weight: bold\">   </span><span style=\"font-weight: bold; font-style: italic\">day: </span><span style=\"color: #ffaf00; text-decoration-color: #ffaf00; font-weight: bold; font-style: italic\">string</span>                             │                                                           \n",
       "                                                                                                               │ <span style=\"font-weight: bold\">   </span><span style=\"font-weight: bold; font-style: italic\">normal: </span><span style=\"color: #ff00ff; text-decoration-color: #ff00ff; font-weight: bold; font-style: italic\">struct&lt;high: int64, low: int64&gt;</span> │                                                           \n",
       "                                                                                                               │ <span style=\"font-weight: bold\">   </span><span style=\"font-weight: bold; font-style: italic\">actual: </span><span style=\"color: #ff00ff; text-decoration-color: #ff00ff; font-weight: bold; font-style: italic\">struct&lt;high: int64, low: int64&gt;</span> │                                                           \n",
       "                                                                                                               │ <span style=\"font-weight: bold\">   </span><span style=\"font-weight: bold; font-style: italic\">id: </span><span style=\"color: #808000; text-decoration-color: #808000; font-weight: bold; font-style: italic\">int64</span>                               │                                                           \n",
       "                                                                                                               │ <span style=\"font-weight: bold\">   </span><span style=\"font-weight: bold; font-style: italic\">high_vs_expected: </span><span style=\"color: #808000; text-decoration-color: #808000; font-weight: bold; font-style: italic\">int64</span>                 │                                                           \n",
       "                                                                                                               ╰────────────────────────────────────────────╯                                                           \n",
       "                                                                                                               ▲                      ▲                                                                                 \n",
       "                                                                                                               │                      │                                                                                 \n",
       "                                                                                                               │                      │                                                                                 \n",
       "                                                                                                               │                      │                                                                                 \n",
       "                                                                                                  ╭─────────────────────────╮         │                                                                                 \n",
       "                                                                                                  │ <span style=\"font-style: italic\">high_vs_expected: </span><span style=\"font-weight: bold; font-style: italic\">Field</span> │         │                                                                                 \n",
       "                                                                                                  │ <span style=\"font-style: italic\">   :: </span><span style=\"color: #808000; text-decoration-color: #808000; font-style: italic\">int64</span>             │         │                                                                                 \n",
       "                                                                                                  ╰─────────────────────────╯         │                                                                                 \n",
       "                                                                                                               ▲                      │                                                                                 \n",
       "                                                                                                               │                      │                                                                                 \n",
       "                                                                                                               │                      │                                                                                 \n",
       "                                                                                                               ╰──────────────────────│                                                                                 \n",
       "                                                                                                               ╭────────────────────────────────────────────╮                                                           \n",
       "                                                                                                               │ <span style=\"font-weight: bold\">Project</span>                                    │                                                           \n",
       "                                                                                                               │ <span style=\"font-weight: bold\">   </span><span style=\"font-weight: bold; font-style: italic\">day: </span><span style=\"color: #ffaf00; text-decoration-color: #ffaf00; font-weight: bold; font-style: italic\">string</span>                             │                                                           \n",
       "                                                                                                               │ <span style=\"font-weight: bold\">   </span><span style=\"font-weight: bold; font-style: italic\">normal: </span><span style=\"color: #ff00ff; text-decoration-color: #ff00ff; font-weight: bold; font-style: italic\">struct&lt;high: int64, low: int64&gt;</span> │                                                           \n",
       "        ╭─────────────────────────────────────────────────────────────────────────────────────────────────────▶│ <span style=\"font-weight: bold\">   </span><span style=\"font-weight: bold; font-style: italic\">actual: </span><span style=\"color: #ff00ff; text-decoration-color: #ff00ff; font-weight: bold; font-style: italic\">struct&lt;high: int64, low: int64&gt;</span> │◀─────────────────────────────────────╮                    \n",
       "        │                                                                                                      │ <span style=\"font-weight: bold\">   </span><span style=\"font-weight: bold; font-style: italic\">id: </span><span style=\"color: #808000; text-decoration-color: #808000; font-weight: bold; font-style: italic\">int64</span>                               │                                      │                    \n",
       "        │                                                                                                      │ <span style=\"font-weight: bold\">   </span><span style=\"font-weight: bold; font-style: italic\">high_vs_expected: </span><span style=\"color: #808000; text-decoration-color: #808000; font-weight: bold; font-style: italic\">int64</span>                 │                                      │                    \n",
       "        │                                                                                                      ╰────────────────────────────────────────────╯                                      │                    \n",
       "        │                                                                                                            ▲  ▲             ▲                                                            │                    \n",
       "        │                                             ╭─────────────────────────────────────────────────────────────────│─────────────│                                                            │                    \n",
       "        │                                             │                                                              │  │             │                                                            │                    \n",
       "        │                                             │                                                              │  │             │                                                            │                    \n",
       "╭──────────────╮                               ╭─────────────╮                                ╭─────────────╮        │  │             │                                                            │                    \n",
       "│ <span style=\"font-style: italic\">day: </span><span style=\"font-weight: bold; font-style: italic\">Field</span>   │                               │ <span style=\"font-style: italic\">id: </span><span style=\"font-weight: bold; font-style: italic\">Field</span>   │                                │ <span style=\"font-weight: bold\">Subtract</span>    │        │  │             │                                                            │                    \n",
       "│ <span style=\"font-style: italic\">   :: </span><span style=\"color: #ffaf00; text-decoration-color: #ffaf00; font-style: italic\">string</span> │                               │ <span style=\"font-style: italic\">   :: </span><span style=\"color: #808000; text-decoration-color: #808000; font-style: italic\">int64</span> │                                │ <span style=\"font-weight: bold\">   :: </span><span style=\"color: #808000; text-decoration-color: #808000; font-weight: bold\">int64</span> │────────╯  │             │                                                            │                    \n",
       "╰──────────────╯                               ╰─────────────╯                                ╰─────────────╯           │             │                                                            │                    \n",
       "        ▲                                             ▲                                              ▲──────────────────│─────────────│────╮                                                       │                    \n",
       "        │                                             │                                              │                  │             │    │                                                       │                    \n",
       "        │                                             │                                              │                  │             │    │                                                       │                    \n",
       "        │                                             │                                              │                  │             │    │                                                       │                    \n",
       "        │                                             │                                       ╭─────────────╮           │             │    │                             ╭─────────────╮           │                    \n",
       "        │                                             │                                       │ <span style=\"font-weight: bold\">StructField</span> │           │             │    │                             │ <span style=\"font-weight: bold\">StructField</span> │           │                    \n",
       "        │                                             │                                       │ <span style=\"font-weight: bold\">   :: </span><span style=\"color: #808000; text-decoration-color: #808000; font-weight: bold\">int64</span> │           │             │    ╰─────────────────────────────│ <span style=\"font-weight: bold\">   :: </span><span style=\"color: #808000; text-decoration-color: #808000; font-weight: bold\">int64</span> │           │                    \n",
       "        │                                             │                                       ╰─────────────╯           │             │                                  ╰─────────────╯           │                    \n",
       "        │                                             │                                              ▲                  │             │                                         ▲                  │                    \n",
       "        │                                             │                                              │                  │             │                                         │                  │                    \n",
       "        │                                             │                                              │                  │             │                                         │                  │                    \n",
       "        │                                             ╰───────────────────────────────────────╮      │                  │             │                                         │                  │                    \n",
       "        │                                                                                     │     ╭───────────────────────────────────────╮                                  ╭───────────────────────────────────────╮\n",
       "        │                                                                                     │     │ <span style=\"font-style: italic\">actual: </span><span style=\"font-weight: bold; font-style: italic\">Field</span>                         │                                  │ <span style=\"font-style: italic\">normal: </span><span style=\"font-weight: bold; font-style: italic\">Field</span>                         │\n",
       "        │                                                                                     │     │ <span style=\"font-style: italic\">   :: </span><span style=\"color: #ff00ff; text-decoration-color: #ff00ff; font-style: italic\">struct&lt;high: int64, low: int64&gt;</span> │                                  │ <span style=\"font-style: italic\">   :: </span><span style=\"color: #ff00ff; text-decoration-color: #ff00ff; font-style: italic\">struct&lt;high: int64, low: int64&gt;</span> │\n",
       "        │                                                                                     │     ╰───────────────────────────────────────╯                                  ╰───────────────────────────────────────╯\n",
       "        │                                                                                     │                         ▲             │                                                            ▲                    \n",
       "        │                                                                                     ╰───────────────────╮     │             │                                                            │                    \n",
       "        │                                                                                                         │     │             │                                                            │                    \n",
       "        │                                                                                                         │     ╰─────────────│                                                            │                    \n",
       "        │                                                                                                      ╭────────────────────────────────────────────╮                                      │                    \n",
       "        │                                                                                                      │ <span style=\"font-style: italic\">weather​: </span><span style=\"font-weight: bold; font-style: italic\">DatabaseTable</span>                     │                                      │                    \n",
       "        │                                                                                                      │ <span style=\"font-style: italic\">   day: </span><span style=\"color: #ffaf00; text-decoration-color: #ffaf00; font-style: italic\">string</span>                             │                                      │                    \n",
       "        ╰──────────────────────────────────────────────────────────────────────────────────────────────────────│ <span style=\"font-style: italic\">   normal: </span><span style=\"color: #ff00ff; text-decoration-color: #ff00ff; font-style: italic\">struct&lt;high: int64, low: int64&gt;</span> │──────────────────────────────────────╯                    \n",
       "                                                                                                               │ <span style=\"font-style: italic\">   actual: </span><span style=\"color: #ff00ff; text-decoration-color: #ff00ff; font-style: italic\">struct&lt;high: int64, low: int64&gt;</span> │                                                           \n",
       "                                                                                                               │ <span style=\"font-style: italic\">   id: </span><span style=\"color: #808000; text-decoration-color: #808000; font-style: italic\">int64</span>                               │                                                           \n",
       "                                                                                                               ╰────────────────────────────────────────────╯                                                           \n",
       "</pre>\n"
      ],
      "text/plain": [
       "                                                                                                               ╭────────────────────────────────────────────╮                                                           \n",
       "                                                                                                               │ \u001b[1mDropNa\u001b[0m                                     │                                                           \n",
       "                                                                                                               │ \u001b[1m   \u001b[0m\u001b[1;3mday: \u001b[0m\u001b[1;3;38;5;214mstring\u001b[0m                             │                                                           \n",
       "                                                                                                               │ \u001b[1m   \u001b[0m\u001b[1;3mnormal: \u001b[0m\u001b[1;3;95mstruct<high: int64, low: int64>\u001b[0m │                                                           \n",
       "                                                                                                               │ \u001b[1m   \u001b[0m\u001b[1;3mactual: \u001b[0m\u001b[1;3;95mstruct<high: int64, low: int64>\u001b[0m │                                                           \n",
       "                                                                                                               │ \u001b[1m   \u001b[0m\u001b[1;3mid: \u001b[0m\u001b[1;3;33mint64\u001b[0m                               │                                                           \n",
       "                                                                                                               │ \u001b[1m   \u001b[0m\u001b[1;3mhigh_vs_expected: \u001b[0m\u001b[1;3;33mint64\u001b[0m                 │                                                           \n",
       "                                                                                                               ╰────────────────────────────────────────────╯                                                           \n",
       "                                                                                                               ▲                      ▲                                                                                 \n",
       "                                                                                                               │                      │                                                                                 \n",
       "                                                                                                               │                      │                                                                                 \n",
       "                                                                                                               │                      │                                                                                 \n",
       "                                                                                                  ╭─────────────────────────╮         │                                                                                 \n",
       "                                                                                                  │ \u001b[3mhigh_vs_expected: \u001b[0m\u001b[1;3mField\u001b[0m │         │                                                                                 \n",
       "                                                                                                  │ \u001b[3m   :: \u001b[0m\u001b[3;33mint64\u001b[0m             │         │                                                                                 \n",
       "                                                                                                  ╰─────────────────────────╯         │                                                                                 \n",
       "                                                                                                               ▲                      │                                                                                 \n",
       "                                                                                                               │                      │                                                                                 \n",
       "                                                                                                               │                      │                                                                                 \n",
       "                                                                                                               ╰──────────────────────│                                                                                 \n",
       "                                                                                                               ╭────────────────────────────────────────────╮                                                           \n",
       "                                                                                                               │ \u001b[1mProject\u001b[0m                                    │                                                           \n",
       "                                                                                                               │ \u001b[1m   \u001b[0m\u001b[1;3mday: \u001b[0m\u001b[1;3;38;5;214mstring\u001b[0m                             │                                                           \n",
       "                                                                                                               │ \u001b[1m   \u001b[0m\u001b[1;3mnormal: \u001b[0m\u001b[1;3;95mstruct<high: int64, low: int64>\u001b[0m │                                                           \n",
       "        ╭─────────────────────────────────────────────────────────────────────────────────────────────────────▶│ \u001b[1m   \u001b[0m\u001b[1;3mactual: \u001b[0m\u001b[1;3;95mstruct<high: int64, low: int64>\u001b[0m │◀─────────────────────────────────────╮                    \n",
       "        │                                                                                                      │ \u001b[1m   \u001b[0m\u001b[1;3mid: \u001b[0m\u001b[1;3;33mint64\u001b[0m                               │                                      │                    \n",
       "        │                                                                                                      │ \u001b[1m   \u001b[0m\u001b[1;3mhigh_vs_expected: \u001b[0m\u001b[1;3;33mint64\u001b[0m                 │                                      │                    \n",
       "        │                                                                                                      ╰────────────────────────────────────────────╯                                      │                    \n",
       "        │                                                                                                            ▲  ▲             ▲                                                            │                    \n",
       "        │                                             ╭─────────────────────────────────────────────────────────────────│─────────────│                                                            │                    \n",
       "        │                                             │                                                              │  │             │                                                            │                    \n",
       "        │                                             │                                                              │  │             │                                                            │                    \n",
       "╭──────────────╮                               ╭─────────────╮                                ╭─────────────╮        │  │             │                                                            │                    \n",
       "│ \u001b[3mday: \u001b[0m\u001b[1;3mField\u001b[0m   │                               │ \u001b[3mid: \u001b[0m\u001b[1;3mField\u001b[0m   │                                │ \u001b[1mSubtract\u001b[0m    │        │  │             │                                                            │                    \n",
       "│ \u001b[3m   :: \u001b[0m\u001b[3;38;5;214mstring\u001b[0m │                               │ \u001b[3m   :: \u001b[0m\u001b[3;33mint64\u001b[0m │                                │ \u001b[1m   :: \u001b[0m\u001b[1;33mint64\u001b[0m │────────╯  │             │                                                            │                    \n",
       "╰──────────────╯                               ╰─────────────╯                                ╰─────────────╯           │             │                                                            │                    \n",
       "        ▲                                             ▲                                              ▲──────────────────│─────────────│────╮                                                       │                    \n",
       "        │                                             │                                              │                  │             │    │                                                       │                    \n",
       "        │                                             │                                              │                  │             │    │                                                       │                    \n",
       "        │                                             │                                              │                  │             │    │                                                       │                    \n",
       "        │                                             │                                       ╭─────────────╮           │             │    │                             ╭─────────────╮           │                    \n",
       "        │                                             │                                       │ \u001b[1mStructField\u001b[0m │           │             │    │                             │ \u001b[1mStructField\u001b[0m │           │                    \n",
       "        │                                             │                                       │ \u001b[1m   :: \u001b[0m\u001b[1;33mint64\u001b[0m │           │             │    ╰─────────────────────────────│ \u001b[1m   :: \u001b[0m\u001b[1;33mint64\u001b[0m │           │                    \n",
       "        │                                             │                                       ╰─────────────╯           │             │                                  ╰─────────────╯           │                    \n",
       "        │                                             │                                              ▲                  │             │                                         ▲                  │                    \n",
       "        │                                             │                                              │                  │             │                                         │                  │                    \n",
       "        │                                             │                                              │                  │             │                                         │                  │                    \n",
       "        │                                             ╰───────────────────────────────────────╮      │                  │             │                                         │                  │                    \n",
       "        │                                                                                     │     ╭───────────────────────────────────────╮                                  ╭───────────────────────────────────────╮\n",
       "        │                                                                                     │     │ \u001b[3mactual: \u001b[0m\u001b[1;3mField\u001b[0m                         │                                  │ \u001b[3mnormal: \u001b[0m\u001b[1;3mField\u001b[0m                         │\n",
       "        │                                                                                     │     │ \u001b[3m   :: \u001b[0m\u001b[3;95mstruct<high: int64, low: int64>\u001b[0m │                                  │ \u001b[3m   :: \u001b[0m\u001b[3;95mstruct<high: int64, low: int64>\u001b[0m │\n",
       "        │                                                                                     │     ╰───────────────────────────────────────╯                                  ╰───────────────────────────────────────╯\n",
       "        │                                                                                     │                         ▲             │                                                            ▲                    \n",
       "        │                                                                                     ╰───────────────────╮     │             │                                                            │                    \n",
       "        │                                                                                                         │     │             │                                                            │                    \n",
       "        │                                                                                                         │     ╰─────────────│                                                            │                    \n",
       "        │                                                                                                      ╭────────────────────────────────────────────╮                                      │                    \n",
       "        │                                                                                                      │ \u001b[3mweather​: \u001b[0m\u001b[1;3mDatabaseTable\u001b[0m                     │                                      │                    \n",
       "        │                                                                                                      │ \u001b[3m   \u001b[0m\u001b[3mday: \u001b[0m\u001b[3;38;5;214mstring\u001b[0m                             │                                      │                    \n",
       "        ╰──────────────────────────────────────────────────────────────────────────────────────────────────────│ \u001b[3m   \u001b[0m\u001b[3mnormal: \u001b[0m\u001b[3;95mstruct<high: int64, low: int64>\u001b[0m │──────────────────────────────────────╯                    \n",
       "                                                                                                               │ \u001b[3m   \u001b[0m\u001b[3mactual: \u001b[0m\u001b[3;95mstruct<high: int64, low: int64>\u001b[0m │                                                           \n",
       "                                                                                                               │ \u001b[3m   \u001b[0m\u001b[3mid: \u001b[0m\u001b[3;33mint64\u001b[0m                               │                                                           \n",
       "                                                                                                               ╰────────────────────────────────────────────╯                                                           \n"
      ]
     },
     "metadata": {},
     "output_type": "display_data"
    }
   ],
   "source": [
    "# | echo: false\n",
    "w.visualize()"
   ]
  },
  {
   "cell_type": "markdown",
   "id": "3beb247b",
   "metadata": {},
   "source": [
    ":::"
   ]
  },
  {
   "cell_type": "markdown",
   "id": "61f76ada",
   "metadata": {},
   "source": [
    "</Accordion>"
   ]
  },
  {
   "cell_type": "markdown",
   "id": "ca9f4522",
   "metadata": {},
   "source": [
    "<Accordion title=\"Pivots\">"
   ]
  },
  {
   "cell_type": "code",
   "execution_count": 31,
   "id": "d8fed681",
   "metadata": {
    "execution": {
     "iopub.execute_input": "2024-03-12T19:52:29.966929Z",
     "iopub.status.busy": "2024-03-12T19:52:29.966837Z",
     "iopub.status.idle": "2024-03-12T19:52:30.038710Z",
     "shell.execute_reply": "2024-03-12T19:52:30.038431Z"
    }
   },
   "outputs": [],
   "source": [
    "# | echo: false\n",
    "from vinyl.examples import budget\n",
    "\n",
    "budget = budget()\n",
    "\n",
    "budget = budget.drop([col for col in budget.columns if \"name\" in col])\n",
    "budget = budget._create_view(\"budget\")"
   ]
  },
  {
   "cell_type": "code",
   "execution_count": 32,
   "id": "f7334e3d",
   "metadata": {
    "execution": {
     "iopub.execute_input": "2024-03-12T19:52:30.040258Z",
     "iopub.status.busy": "2024-03-12T19:52:30.040182Z",
     "iopub.status.idle": "2024-03-12T19:52:30.056987Z",
     "shell.execute_reply": "2024-03-12T19:52:30.056742Z"
    }
   },
   "outputs": [],
   "source": [
    "import re\n",
    "\n",
    "with budget as b:\n",
    "    b.unpivot(\n",
    "        [col for col in b.columns if re.match(r\"\\d{4}\", col)], \n",
    "        colnames_to = \"year\", \n",
    "        colnames_transform = int, \n",
    "        values_to= \"budget\"\n",
    "    )"
   ]
  },
  {
   "cell_type": "markdown",
   "id": "c9ba4a96",
   "metadata": {},
   "source": [
    "::: {.panel-tabset}"
   ]
  },
  {
   "cell_type": "markdown",
   "id": "736d3dba",
   "metadata": {},
   "source": [
    "#### SQL\n"
   ]
  },
  {
   "cell_type": "code",
   "execution_count": 33,
   "id": "59460cbf",
   "metadata": {
    "execution": {
     "iopub.execute_input": "2024-03-12T19:52:30.058418Z",
     "iopub.status.busy": "2024-03-12T19:52:30.058335Z",
     "iopub.status.idle": "2024-03-12T19:52:30.105769Z",
     "shell.execute_reply": "2024-03-12T19:52:30.105533Z"
    }
   },
   "outputs": [
    {
     "data": {
      "text/html": [
       "<pre style=\"white-space:pre;overflow-x:auto;line-height:normal;font-family:Menlo,'DejaVu Sans Mono',consolas,'Courier New',monospace\">SELECT\n",
       "  <span style=\"color: #008000; text-decoration-color: #008000\">\"t1\"</span>.<span style=\"color: #008000; text-decoration-color: #008000\">\"Source Category Code\"</span>,\n",
       "  <span style=\"color: #008000; text-decoration-color: #008000\">\"t1\"</span>.<span style=\"color: #008000; text-decoration-color: #008000\">\"Source subcategory\"</span>,\n",
       "  <span style=\"color: #008000; text-decoration-color: #008000\">\"t1\"</span>.<span style=\"color: #008000; text-decoration-color: #008000\">\"Agency code\"</span>,\n",
       "  <span style=\"color: #008000; text-decoration-color: #008000\">\"t1\"</span>.<span style=\"color: #008000; text-decoration-color: #008000\">\"Bureau code\"</span>,\n",
       "  <span style=\"color: #008000; text-decoration-color: #008000\">\"t1\"</span>.<span style=\"color: #008000; text-decoration-color: #008000\">\"Account code\"</span>,\n",
       "  <span style=\"color: #008000; text-decoration-color: #008000\">\"t1\"</span>.<span style=\"color: #008000; text-decoration-color: #008000\">\"Treasury Agency code\"</span>,\n",
       "  <span style=\"color: #008000; text-decoration-color: #008000\">\"t1\"</span>.<span style=\"color: #008000; text-decoration-color: #008000\">\"On- or off-budget\"</span>,\n",
       "  <span style=\"color: #008000; text-decoration-color: #008000\">\"t1\"</span>.<span style=\"color: #008000; text-decoration-color: #008000\">\"TQ\"</span>,\n",
       "  <span style=\"color: #008000; text-decoration-color: #008000\">\"t1\"</span>.<span style=\"color: #008000; text-decoration-color: #008000\">\"__pivoted__\"</span>.<span style=\"color: #008000; text-decoration-color: #008000\">\"year\"</span> AS <span style=\"color: #008000; text-decoration-color: #008000\">\"year\"</span>,\n",
       "  <span style=\"color: #008000; text-decoration-color: #008000\">\"t1\"</span>.<span style=\"color: #008000; text-decoration-color: #008000\">\"__pivoted__\"</span>.<span style=\"color: #008000; text-decoration-color: #008000\">\"budget\"</span> AS <span style=\"color: #008000; text-decoration-color: #008000\">\"budget\"</span>\n",
       "FROM <span style=\"font-weight: bold\">(</span>\n",
       "  SELECT\n",
       "    <span style=\"color: #008000; text-decoration-color: #008000\">\"t0\"</span>.<span style=\"color: #008000; text-decoration-color: #008000\">\"Source Category Code\"</span>,\n",
       "    <span style=\"color: #008000; text-decoration-color: #008000\">\"t0\"</span>.<span style=\"color: #008000; text-decoration-color: #008000\">\"Source subcategory\"</span>,\n",
       "    <span style=\"color: #008000; text-decoration-color: #008000\">\"t0\"</span>.<span style=\"color: #008000; text-decoration-color: #008000\">\"Agency code\"</span>,\n",
       "    <span style=\"color: #008000; text-decoration-color: #008000\">\"t0\"</span>.<span style=\"color: #008000; text-decoration-color: #008000\">\"Bureau code\"</span>,\n",
       "    <span style=\"color: #008000; text-decoration-color: #008000\">\"t0\"</span>.<span style=\"color: #008000; text-decoration-color: #008000\">\"Account code\"</span>,\n",
       "    <span style=\"color: #008000; text-decoration-color: #008000\">\"t0\"</span>.<span style=\"color: #008000; text-decoration-color: #008000\">\"Treasury Agency code\"</span>,\n",
       "    <span style=\"color: #008000; text-decoration-color: #008000\">\"t0\"</span>.<span style=\"color: #008000; text-decoration-color: #008000\">\"On- or off-budget\"</span>,\n",
       "    <span style=\"color: #008000; text-decoration-color: #008000\">\"t0\"</span>.<span style=\"color: #008000; text-decoration-color: #008000\">\"TQ\"</span>,\n",
       "    <span style=\"color: #800080; text-decoration-color: #800080; font-weight: bold\">UNNEST</span><span style=\"font-weight: bold\">(</span>\n",
       "      <span style=\"font-weight: bold\">[{</span><span style=\"color: #008000; text-decoration-color: #008000\">'year'</span>: <span style=\"color: #800080; text-decoration-color: #800080; font-weight: bold\">CAST</span><span style=\"font-weight: bold\">(</span><span style=\"color: #008080; text-decoration-color: #008080; font-weight: bold\">1962</span> AS SMALLINT<span style=\"font-weight: bold\">)</span>, <span style=\"color: #008000; text-decoration-color: #008000\">'budget'</span>: <span style=\"color: #008000; text-decoration-color: #008000\">\"t0\"</span>.<span style=\"color: #008000; text-decoration-color: #008000\">\"1962\"</span><span style=\"font-weight: bold\">}</span>, <span style=\"font-weight: bold\">{</span><span style=\"color: #008000; text-decoration-color: #008000\">'year'</span>: <span style=\"color: #800080; text-decoration-color: #800080; font-weight: bold\">CAST</span><span style=\"font-weight: bold\">(</span><span style=\"color: #008080; text-decoration-color: #008080; font-weight: bold\">1963</span> AS SMALLINT<span style=\"font-weight: bold\">)</span>, <span style=\"color: #008000; text-decoration-color: #008000\">'budget'</span>: <span style=\"color: #008000; text-decoration-color: #008000\">\"t0\"</span>.<span style=\"color: #008000; text-decoration-color: #008000\">\"1963\"</span><span style=\"font-weight: bold\">}</span>, <span style=\"font-weight: bold\">{</span><span style=\"color: #008000; text-decoration-color: #008000\">'year'</span>: <span style=\"color: #800080; text-decoration-color: #800080; font-weight: bold\">CAST</span><span style=\"font-weight: bold\">(</span><span style=\"color: #008080; text-decoration-color: #008080; font-weight: bold\">1964</span> AS SMALLINT<span style=\"font-weight: bold\">)</span>, <span style=\"color: #008000; text-decoration-color: #008000\">'budget'</span>: <span style=\"color: #008000; text-decoration-color: #008000\">\"t0\"</span>.<span style=\"color: #008000; text-decoration-color: #008000\">\"1964\"</span><span style=\"font-weight: bold\">}</span>, <span style=\"font-weight: bold\">{</span><span style=\"color: #008000; text-decoration-color: #008000\">'year'</span>: <span style=\"color: #800080; text-decoration-color: #800080; font-weight: bold\">CAST</span><span style=\"font-weight: bold\">(</span><span style=\"color: #008080; text-decoration-color: #008080; font-weight: bold\">1965</span> AS SMALLINT<span style=\"font-weight: bold\">)</span>, <span style=\"color: #008000; text-decoration-color: #008000\">'budget'</span>: <span style=\"color: #008000; text-decoration-color: #008000\">\"t0\"</span>.<span style=\"color: #008000; text-decoration-color: #008000\">\"1965\"</span><span style=\"font-weight: bold\">}</span>, <span style=\"font-weight: bold\">{</span><span style=\"color: #008000; text-decoration-color: #008000\">'year'</span>: <span style=\"color: #800080; text-decoration-color: #800080; font-weight: bold\">CAST</span><span style=\"font-weight: bold\">(</span><span style=\"color: #008080; text-decoration-color: #008080; font-weight: bold\">1966</span> AS SMALLINT<span style=\"font-weight: bold\">)</span>, <span style=\"color: #008000; text-decoration-color: #008000\">'budget'</span>: <span style=\"color: #008000; text-decoration-color: #008000\">\"t0\"</span>.<span style=\"color: #008000; text-decoration-color: #008000\">\"1966\"</span><span style=\"font-weight: bold\">}</span>, <span style=\"font-weight: bold\">{</span><span style=\"color: #008000; text-decoration-color: #008000\">'year'</span>: <span style=\"color: #800080; text-decoration-color: #800080; font-weight: bold\">CAST</span><span style=\"font-weight: bold\">(</span><span style=\"color: #008080; text-decoration-color: #008080; font-weight: bold\">1967</span> AS SMALLINT<span style=\"font-weight: bold\">)</span>, <span style=\"color: #008000; text-decoration-color: #008000\">'budget'</span>: <span style=\"color: #008000; text-decoration-color: #008000\">\"t0\"</span>.<span style=\"color: #008000; text-decoration-color: #008000\">\"1967\"</span><span style=\"font-weight: bold\">}</span>, <span style=\"font-weight: bold\">{</span><span style=\"color: #008000; text-decoration-color: #008000\">'year'</span>: <span style=\"color: #800080; text-decoration-color: #800080; font-weight: bold\">CAST</span><span style=\"font-weight: bold\">(</span><span style=\"color: #008080; text-decoration-color: #008080; font-weight: bold\">1968</span> AS SMALLINT<span style=\"font-weight: bold\">)</span>, <span style=\"color: #008000; text-decoration-color: #008000\">'budget'</span>: <span style=\"color: #008000; text-decoration-color: #008000\">\"t0\"</span>.<span style=\"color: #008000; text-decoration-color: #008000\">\"1968\"</span><span style=\"font-weight: bold\">}</span>, <span style=\"font-weight: bold\">{</span><span style=\"color: #008000; text-decoration-color: #008000\">'year'</span>: <span style=\"color: #800080; text-decoration-color: #800080; font-weight: bold\">CAST</span><span style=\"font-weight: bold\">(</span><span style=\"color: #008080; text-decoration-color: #008080; font-weight: bold\">1969</span> AS SMALLINT<span style=\"font-weight: bold\">)</span>, <span style=\"color: #008000; text-decoration-color: #008000\">'budget'</span>: <span style=\"color: #008000; text-decoration-color: #008000\">\"t0\"</span>.<span style=\"color: #008000; text-decoration-color: #008000\">\"1969\"</span><span style=\"font-weight: bold\">}</span>, <span style=\"font-weight: bold\">{</span><span style=\"color: #008000; text-decoration-color: #008000\">'year'</span>: <span style=\"color: #800080; text-decoration-color: #800080; font-weight: bold\">CAST</span><span style=\"font-weight: bold\">(</span><span style=\"color: #008080; text-decoration-color: #008080; font-weight: bold\">1970</span> AS SMALLINT<span style=\"font-weight: bold\">)</span>, <span style=\"color: #008000; text-decoration-color: #008000\">'budget'</span>: <span style=\"color: #008000; text-decoration-color: #008000\">\"t0\"</span>.<span style=\"color: #008000; text-decoration-color: #008000\">\"1970\"</span><span style=\"font-weight: bold\">}</span>, <span style=\"font-weight: bold\">{</span><span style=\"color: #008000; text-decoration-color: #008000\">'year'</span>: <span style=\"color: #800080; text-decoration-color: #800080; font-weight: bold\">CAST</span><span style=\"font-weight: bold\">(</span><span style=\"color: #008080; text-decoration-color: #008080; font-weight: bold\">1971</span> AS SMALLINT<span style=\"font-weight: bold\">)</span>, <span style=\"color: #008000; text-decoration-color: #008000\">'budget'</span>: <span style=\"color: #008000; text-decoration-color: #008000\">\"t0\"</span>.<span style=\"color: #008000; text-decoration-color: #008000\">\"1971\"</span><span style=\"font-weight: bold\">}</span>, <span style=\"font-weight: bold\">{</span><span style=\"color: #008000; text-decoration-color: #008000\">'year'</span>: <span style=\"color: #800080; text-decoration-color: #800080; font-weight: bold\">CAST</span><span style=\"font-weight: bold\">(</span><span style=\"color: #008080; text-decoration-color: #008080; font-weight: bold\">1972</span> AS SMALLINT<span style=\"font-weight: bold\">)</span>, <span style=\"color: #008000; text-decoration-color: #008000\">'budget'</span>: <span style=\"color: #008000; text-decoration-color: #008000\">\"t0\"</span>.<span style=\"color: #008000; text-decoration-color: #008000\">\"1972\"</span><span style=\"font-weight: bold\">}</span>, <span style=\"font-weight: bold\">{</span><span style=\"color: #008000; text-decoration-color: #008000\">'year'</span>: <span style=\"color: #800080; text-decoration-color: #800080; font-weight: bold\">CAST</span><span style=\"font-weight: bold\">(</span><span style=\"color: #008080; text-decoration-color: #008080; font-weight: bold\">1973</span> AS SMALLINT<span style=\"font-weight: bold\">)</span>, <span style=\"color: #008000; text-decoration-color: #008000\">'budget'</span>: <span style=\"color: #008000; text-decoration-color: #008000\">\"t0\"</span>.<span style=\"color: #008000; text-decoration-color: #008000\">\"1973\"</span><span style=\"font-weight: bold\">}</span>, <span style=\"font-weight: bold\">{</span><span style=\"color: #008000; text-decoration-color: #008000\">'year'</span>: <span style=\"color: #800080; text-decoration-color: #800080; font-weight: bold\">CAST</span><span style=\"font-weight: bold\">(</span><span style=\"color: #008080; text-decoration-color: #008080; font-weight: bold\">1974</span> AS SMALLINT<span style=\"font-weight: bold\">)</span>, <span style=\"color: #008000; text-decoration-color: #008000\">'budget'</span>: <span style=\"color: #008000; text-decoration-color: #008000\">\"t0\"</span>.<span style=\"color: #008000; text-decoration-color: #008000\">\"1974\"</span><span style=\"font-weight: bold\">}</span>, <span style=\"font-weight: bold\">{</span><span style=\"color: #008000; text-decoration-color: #008000\">'year'</span>: <span style=\"color: #800080; text-decoration-color: #800080; font-weight: bold\">CAST</span><span style=\"font-weight: bold\">(</span><span style=\"color: #008080; text-decoration-color: #008080; font-weight: bold\">1975</span> AS SMALLINT<span style=\"font-weight: bold\">)</span>, <span style=\"color: #008000; text-decoration-color: #008000\">'budget'</span>: <span style=\"color: #008000; text-decoration-color: #008000\">\"t0\"</span>.<span style=\"color: #008000; text-decoration-color: #008000\">\"1975\"</span><span style=\"font-weight: bold\">}</span>, <span style=\"font-weight: bold\">{</span><span style=\"color: #008000; text-decoration-color: #008000\">'year'</span>: <span style=\"color: #800080; text-decoration-color: #800080; font-weight: bold\">CAST</span><span style=\"font-weight: bold\">(</span><span style=\"color: #008080; text-decoration-color: #008080; font-weight: bold\">1976</span> AS SMALLINT<span style=\"font-weight: bold\">)</span>, <span style=\"color: #008000; text-decoration-color: #008000\">'budget'</span>: <span style=\"color: #008000; text-decoration-color: #008000\">\"t0\"</span>.<span style=\"color: #008000; text-decoration-color: #008000\">\"1976\"</span><span style=\"font-weight: bold\">}</span>, <span style=\"font-weight: bold\">{</span><span style=\"color: #008000; text-decoration-color: #008000\">'year'</span>: <span style=\"color: #800080; text-decoration-color: #800080; font-weight: bold\">CAST</span><span style=\"font-weight: bold\">(</span><span style=\"color: #008080; text-decoration-color: #008080; font-weight: bold\">1977</span> AS SMALLINT<span style=\"font-weight: bold\">)</span>, <span style=\"color: #008000; text-decoration-color: #008000\">'budget'</span>: <span style=\"color: #008000; text-decoration-color: #008000\">\"t0\"</span>.<span style=\"color: #008000; text-decoration-color: #008000\">\"1977\"</span><span style=\"font-weight: bold\">}</span>, <span style=\"font-weight: bold\">{</span><span style=\"color: #008000; text-decoration-color: #008000\">'year'</span>: <span style=\"color: #800080; text-decoration-color: #800080; font-weight: bold\">CAST</span><span style=\"font-weight: bold\">(</span><span style=\"color: #008080; text-decoration-color: #008080; font-weight: bold\">1978</span> AS SMALLINT<span style=\"font-weight: bold\">)</span>, <span style=\"color: #008000; text-decoration-color: #008000\">'budget'</span>: <span style=\"color: #008000; text-decoration-color: #008000\">\"t0\"</span>.<span style=\"color: #008000; text-decoration-color: #008000\">\"1978\"</span><span style=\"font-weight: bold\">}</span>, <span style=\"font-weight: bold\">{</span><span style=\"color: #008000; text-decoration-color: #008000\">'year'</span>: <span style=\"color: #800080; text-decoration-color: #800080; font-weight: bold\">CAST</span><span style=\"font-weight: bold\">(</span><span style=\"color: #008080; text-decoration-color: #008080; font-weight: bold\">1979</span> AS SMALLINT<span style=\"font-weight: bold\">)</span>, <span style=\"color: #008000; text-decoration-color: #008000\">'budget'</span>: <span style=\"color: #008000; text-decoration-color: #008000\">\"t0\"</span>.<span style=\"color: #008000; text-decoration-color: #008000\">\"1979\"</span><span style=\"font-weight: bold\">}</span>, <span style=\"font-weight: bold\">{</span><span style=\"color: #008000; text-decoration-color: #008000\">'year'</span>: <span style=\"color: #800080; text-decoration-color: #800080; font-weight: bold\">CAST</span><span style=\"font-weight: bold\">(</span><span style=\"color: #008080; text-decoration-color: #008080; font-weight: bold\">1980</span> AS SMALLINT<span style=\"font-weight: bold\">)</span>, <span style=\"color: #008000; text-decoration-color: #008000\">'budget'</span>: <span style=\"color: #008000; text-decoration-color: #008000\">\"t0\"</span>.<span style=\"color: #008000; text-decoration-color: #008000\">\"1980\"</span><span style=\"font-weight: bold\">}</span>, <span style=\"font-weight: bold\">{</span><span style=\"color: #008000; text-decoration-color: #008000\">'year'</span>: <span style=\"color: #800080; text-decoration-color: #800080; font-weight: bold\">CAST</span><span style=\"font-weight: bold\">(</span><span style=\"color: #008080; text-decoration-color: #008080; font-weight: bold\">1981</span> AS SMALLINT<span style=\"font-weight: bold\">)</span>, <span style=\"color: #008000; text-decoration-color: #008000\">'budget'</span>: <span style=\"color: #008000; text-decoration-color: #008000\">\"t0\"</span>.<span style=\"color: #008000; text-decoration-color: #008000\">\"1981\"</span><span style=\"font-weight: bold\">}</span>, <span style=\"font-weight: bold\">{</span><span style=\"color: #008000; text-decoration-color: #008000\">'year'</span>: <span style=\"color: #800080; text-decoration-color: #800080; font-weight: bold\">CAST</span><span style=\"font-weight: bold\">(</span><span style=\"color: #008080; text-decoration-color: #008080; font-weight: bold\">1982</span> AS SMALLINT<span style=\"font-weight: bold\">)</span>, <span style=\"color: #008000; text-decoration-color: #008000\">'budget'</span>: <span style=\"color: #008000; text-decoration-color: #008000\">\"t0\"</span>.<span style=\"color: #008000; text-decoration-color: #008000\">\"1982\"</span><span style=\"font-weight: bold\">}</span>, <span style=\"font-weight: bold\">{</span><span style=\"color: #008000; text-decoration-color: #008000\">'year'</span>: <span style=\"color: #800080; text-decoration-color: #800080; font-weight: bold\">CAST</span><span style=\"font-weight: bold\">(</span><span style=\"color: #008080; text-decoration-color: #008080; font-weight: bold\">1983</span> AS SMALLINT<span style=\"font-weight: bold\">)</span>, <span style=\"color: #008000; text-decoration-color: #008000\">'budget'</span>: <span style=\"color: #008000; text-decoration-color: #008000\">\"t0\"</span>.<span style=\"color: #008000; text-decoration-color: #008000\">\"1983\"</span><span style=\"font-weight: bold\">}</span>, <span style=\"font-weight: bold\">{</span><span style=\"color: #008000; text-decoration-color: #008000\">'year'</span>: <span style=\"color: #800080; text-decoration-color: #800080; font-weight: bold\">CAST</span><span style=\"font-weight: bold\">(</span><span style=\"color: #008080; text-decoration-color: #008080; font-weight: bold\">1984</span> AS SMALLINT<span style=\"font-weight: bold\">)</span>, <span style=\"color: #008000; text-decoration-color: #008000\">'budget'</span>: <span style=\"color: #008000; text-decoration-color: #008000\">\"t0\"</span>.<span style=\"color: #008000; text-decoration-color: #008000\">\"1984\"</span><span style=\"font-weight: bold\">}</span>, <span style=\"font-weight: bold\">{</span><span style=\"color: #008000; text-decoration-color: #008000\">'year'</span>: <span style=\"color: #800080; text-decoration-color: #800080; font-weight: bold\">CAST</span><span style=\"font-weight: bold\">(</span><span style=\"color: #008080; text-decoration-color: #008080; font-weight: bold\">1985</span> AS SMALLINT<span style=\"font-weight: bold\">)</span>, <span style=\"color: #008000; text-decoration-color: #008000\">'budget'</span>: <span style=\"color: #008000; text-decoration-color: #008000\">\"t0\"</span>.<span style=\"color: #008000; text-decoration-color: #008000\">\"1985\"</span><span style=\"font-weight: bold\">}</span>, <span style=\"font-weight: bold\">{</span><span style=\"color: #008000; text-decoration-color: #008000\">'year'</span>: <span style=\"color: #800080; text-decoration-color: #800080; font-weight: bold\">CAST</span><span style=\"font-weight: bold\">(</span><span style=\"color: #008080; text-decoration-color: #008080; font-weight: bold\">1986</span> AS SMALLINT<span style=\"font-weight: bold\">)</span>, <span style=\"color: #008000; text-decoration-color: #008000\">'budget'</span>: <span style=\"color: #008000; text-decoration-color: #008000\">\"t0\"</span>.<span style=\"color: #008000; text-decoration-color: #008000\">\"1986\"</span><span style=\"font-weight: bold\">}</span>, <span style=\"font-weight: bold\">{</span><span style=\"color: #008000; text-decoration-color: #008000\">'year'</span>: <span style=\"color: #800080; text-decoration-color: #800080; font-weight: bold\">CAST</span><span style=\"font-weight: bold\">(</span><span style=\"color: #008080; text-decoration-color: #008080; font-weight: bold\">1987</span> AS SMALLINT<span style=\"font-weight: bold\">)</span>, <span style=\"color: #008000; text-decoration-color: #008000\">'budget'</span>: <span style=\"color: #008000; text-decoration-color: #008000\">\"t0\"</span>.<span style=\"color: #008000; text-decoration-color: #008000\">\"1987\"</span><span style=\"font-weight: bold\">}</span>, <span style=\"font-weight: bold\">{</span><span style=\"color: #008000; text-decoration-color: #008000\">'year'</span>: <span style=\"color: #800080; text-decoration-color: #800080; font-weight: bold\">CAST</span><span style=\"font-weight: bold\">(</span><span style=\"color: #008080; text-decoration-color: #008080; font-weight: bold\">1988</span> AS SMALLINT<span style=\"font-weight: bold\">)</span>, <span style=\"color: #008000; text-decoration-color: #008000\">'budget'</span>: <span style=\"color: #008000; text-decoration-color: #008000\">\"t0\"</span>.<span style=\"color: #008000; text-decoration-color: #008000\">\"1988\"</span><span style=\"font-weight: bold\">}</span>, <span style=\"font-weight: bold\">{</span><span style=\"color: #008000; text-decoration-color: #008000\">'year'</span>: <span style=\"color: #800080; text-decoration-color: #800080; font-weight: bold\">CAST</span><span style=\"font-weight: bold\">(</span><span style=\"color: #008080; text-decoration-color: #008080; font-weight: bold\">1989</span> AS SMALLINT<span style=\"font-weight: bold\">)</span>, <span style=\"color: #008000; text-decoration-color: #008000\">'budget'</span>: <span style=\"color: #008000; text-decoration-color: #008000\">\"t0\"</span>.<span style=\"color: #008000; text-decoration-color: #008000\">\"1989\"</span><span style=\"font-weight: bold\">}</span>, <span style=\"font-weight: bold\">{</span><span style=\"color: #008000; text-decoration-color: #008000\">'year'</span>: <span style=\"color: #800080; text-decoration-color: #800080; font-weight: bold\">CAST</span><span style=\"font-weight: bold\">(</span><span style=\"color: #008080; text-decoration-color: #008080; font-weight: bold\">1990</span> AS SMALLINT<span style=\"font-weight: bold\">)</span>, <span style=\"color: #008000; text-decoration-color: #008000\">'budget'</span>: <span style=\"color: #008000; text-decoration-color: #008000\">\"t0\"</span>.<span style=\"color: #008000; text-decoration-color: #008000\">\"1990\"</span><span style=\"font-weight: bold\">}</span>, <span style=\"font-weight: bold\">{</span><span style=\"color: #008000; text-decoration-color: #008000\">'year'</span>: <span style=\"color: #800080; text-decoration-color: #800080; font-weight: bold\">CAST</span><span style=\"font-weight: bold\">(</span><span style=\"color: #008080; text-decoration-color: #008080; font-weight: bold\">1991</span> AS SMALLINT<span style=\"font-weight: bold\">)</span>, <span style=\"color: #008000; text-decoration-color: #008000\">'budget'</span>: <span style=\"color: #008000; text-decoration-color: #008000\">\"t0\"</span>.<span style=\"color: #008000; text-decoration-color: #008000\">\"1991\"</span><span style=\"font-weight: bold\">}</span>, <span style=\"font-weight: bold\">{</span><span style=\"color: #008000; text-decoration-color: #008000\">'year'</span>: <span style=\"color: #800080; text-decoration-color: #800080; font-weight: bold\">CAST</span><span style=\"font-weight: bold\">(</span><span style=\"color: #008080; text-decoration-color: #008080; font-weight: bold\">1992</span> AS SMALLINT<span style=\"font-weight: bold\">)</span>, <span style=\"color: #008000; text-decoration-color: #008000\">'budget'</span>: <span style=\"color: #008000; text-decoration-color: #008000\">\"t0\"</span>.<span style=\"color: #008000; text-decoration-color: #008000\">\"1992\"</span><span style=\"font-weight: bold\">}</span>, <span style=\"font-weight: bold\">{</span><span style=\"color: #008000; text-decoration-color: #008000\">'year'</span>: <span style=\"color: #800080; text-decoration-color: #800080; font-weight: bold\">CAST</span><span style=\"font-weight: bold\">(</span><span style=\"color: #008080; text-decoration-color: #008080; font-weight: bold\">1993</span> AS SMALLINT<span style=\"font-weight: bold\">)</span>, <span style=\"color: #008000; text-decoration-color: #008000\">'budget'</span>: <span style=\"color: #008000; text-decoration-color: #008000\">\"t0\"</span>.<span style=\"color: #008000; text-decoration-color: #008000\">\"1993\"</span><span style=\"font-weight: bold\">}</span>, <span style=\"font-weight: bold\">{</span><span style=\"color: #008000; text-decoration-color: #008000\">'year'</span>: <span style=\"color: #800080; text-decoration-color: #800080; font-weight: bold\">CAST</span><span style=\"font-weight: bold\">(</span><span style=\"color: #008080; text-decoration-color: #008080; font-weight: bold\">1994</span> AS SMALLINT<span style=\"font-weight: bold\">)</span>, <span style=\"color: #008000; text-decoration-color: #008000\">'budget'</span>: <span style=\"color: #008000; text-decoration-color: #008000\">\"t0\"</span>.<span style=\"color: #008000; text-decoration-color: #008000\">\"1994\"</span><span style=\"font-weight: bold\">}</span>, <span style=\"font-weight: bold\">{</span><span style=\"color: #008000; text-decoration-color: #008000\">'year'</span>: <span style=\"color: #800080; text-decoration-color: #800080; font-weight: bold\">CAST</span><span style=\"font-weight: bold\">(</span><span style=\"color: #008080; text-decoration-color: #008080; font-weight: bold\">1995</span> AS SMALLINT<span style=\"font-weight: bold\">)</span>, <span style=\"color: #008000; text-decoration-color: #008000\">'budget'</span>: <span style=\"color: #008000; text-decoration-color: #008000\">\"t0\"</span>.<span style=\"color: #008000; text-decoration-color: #008000\">\"1995\"</span><span style=\"font-weight: bold\">}</span>, <span style=\"font-weight: bold\">{</span><span style=\"color: #008000; text-decoration-color: #008000\">'year'</span>: <span style=\"color: #800080; text-decoration-color: #800080; font-weight: bold\">CAST</span><span style=\"font-weight: bold\">(</span><span style=\"color: #008080; text-decoration-color: #008080; font-weight: bold\">1996</span> AS SMALLINT<span style=\"font-weight: bold\">)</span>, <span style=\"color: #008000; text-decoration-color: #008000\">'budget'</span>: <span style=\"color: #008000; text-decoration-color: #008000\">\"t0\"</span>.<span style=\"color: #008000; text-decoration-color: #008000\">\"1996\"</span><span style=\"font-weight: bold\">}</span>, <span style=\"font-weight: bold\">{</span><span style=\"color: #008000; text-decoration-color: #008000\">'year'</span>: <span style=\"color: #800080; text-decoration-color: #800080; font-weight: bold\">CAST</span><span style=\"font-weight: bold\">(</span><span style=\"color: #008080; text-decoration-color: #008080; font-weight: bold\">1997</span> AS SMALLINT<span style=\"font-weight: bold\">)</span>, <span style=\"color: #008000; text-decoration-color: #008000\">'budget'</span>: <span style=\"color: #008000; text-decoration-color: #008000\">\"t0\"</span>.<span style=\"color: #008000; text-decoration-color: #008000\">\"1997\"</span><span style=\"font-weight: bold\">}</span>, <span style=\"font-weight: bold\">{</span><span style=\"color: #008000; text-decoration-color: #008000\">'year'</span>: <span style=\"color: #800080; text-decoration-color: #800080; font-weight: bold\">CAST</span><span style=\"font-weight: bold\">(</span><span style=\"color: #008080; text-decoration-color: #008080; font-weight: bold\">1998</span> AS SMALLINT<span style=\"font-weight: bold\">)</span>, <span style=\"color: #008000; text-decoration-color: #008000\">'budget'</span>: <span style=\"color: #008000; text-decoration-color: #008000\">\"t0\"</span>.<span style=\"color: #008000; text-decoration-color: #008000\">\"1998\"</span><span style=\"font-weight: bold\">}</span>, <span style=\"font-weight: bold\">{</span><span style=\"color: #008000; text-decoration-color: #008000\">'year'</span>: <span style=\"color: #800080; text-decoration-color: #800080; font-weight: bold\">CAST</span><span style=\"font-weight: bold\">(</span><span style=\"color: #008080; text-decoration-color: #008080; font-weight: bold\">1999</span> AS SMALLINT<span style=\"font-weight: bold\">)</span>, <span style=\"color: #008000; text-decoration-color: #008000\">'budget'</span>: <span style=\"color: #008000; text-decoration-color: #008000\">\"t0\"</span>.<span style=\"color: #008000; text-decoration-color: #008000\">\"1999\"</span><span style=\"font-weight: bold\">}</span>, <span style=\"font-weight: bold\">{</span><span style=\"color: #008000; text-decoration-color: #008000\">'year'</span>: <span style=\"color: #800080; text-decoration-color: #800080; font-weight: bold\">CAST</span><span style=\"font-weight: bold\">(</span><span style=\"color: #008080; text-decoration-color: #008080; font-weight: bold\">2000</span> AS SMALLINT<span style=\"font-weight: bold\">)</span>, <span style=\"color: #008000; text-decoration-color: #008000\">'budget'</span>: <span style=\"color: #008000; text-decoration-color: #008000\">\"t0\"</span>.<span style=\"color: #008000; text-decoration-color: #008000\">\"2000\"</span><span style=\"font-weight: bold\">}</span>, <span style=\"font-weight: bold\">{</span><span style=\"color: #008000; text-decoration-color: #008000\">'year'</span>: <span style=\"color: #800080; text-decoration-color: #800080; font-weight: bold\">CAST</span><span style=\"font-weight: bold\">(</span><span style=\"color: #008080; text-decoration-color: #008080; font-weight: bold\">2001</span> AS SMALLINT<span style=\"font-weight: bold\">)</span>, <span style=\"color: #008000; text-decoration-color: #008000\">'budget'</span>: <span style=\"color: #008000; text-decoration-color: #008000\">\"t0\"</span>.<span style=\"color: #008000; text-decoration-color: #008000\">\"2001\"</span><span style=\"font-weight: bold\">}</span>, <span style=\"font-weight: bold\">{</span><span style=\"color: #008000; text-decoration-color: #008000\">'year'</span>: <span style=\"color: #800080; text-decoration-color: #800080; font-weight: bold\">CAST</span><span style=\"font-weight: bold\">(</span><span style=\"color: #008080; text-decoration-color: #008080; font-weight: bold\">2002</span> AS SMALLINT<span style=\"font-weight: bold\">)</span>, <span style=\"color: #008000; text-decoration-color: #008000\">'budget'</span>: <span style=\"color: #008000; text-decoration-color: #008000\">\"t0\"</span>.<span style=\"color: #008000; text-decoration-color: #008000\">\"2002\"</span><span style=\"font-weight: bold\">}</span>, <span style=\"font-weight: bold\">{</span><span style=\"color: #008000; text-decoration-color: #008000\">'year'</span>: <span style=\"color: #800080; text-decoration-color: #800080; font-weight: bold\">CAST</span><span style=\"font-weight: bold\">(</span><span style=\"color: #008080; text-decoration-color: #008080; font-weight: bold\">2003</span> AS SMALLINT<span style=\"font-weight: bold\">)</span>, <span style=\"color: #008000; text-decoration-color: #008000\">'budget'</span>: <span style=\"color: #008000; text-decoration-color: #008000\">\"t0\"</span>.<span style=\"color: #008000; text-decoration-color: #008000\">\"2003\"</span><span style=\"font-weight: bold\">}</span>, <span style=\"font-weight: bold\">{</span><span style=\"color: #008000; text-decoration-color: #008000\">'year'</span>: <span style=\"color: #800080; text-decoration-color: #800080; font-weight: bold\">CAST</span><span style=\"font-weight: bold\">(</span><span style=\"color: #008080; text-decoration-color: #008080; font-weight: bold\">2004</span> AS SMALLINT<span style=\"font-weight: bold\">)</span>, <span style=\"color: #008000; text-decoration-color: #008000\">'budget'</span>: <span style=\"color: #008000; text-decoration-color: #008000\">\"t0\"</span>.<span style=\"color: #008000; text-decoration-color: #008000\">\"2004\"</span><span style=\"font-weight: bold\">}</span>, <span style=\"font-weight: bold\">{</span><span style=\"color: #008000; text-decoration-color: #008000\">'year'</span>: <span style=\"color: #800080; text-decoration-color: #800080; font-weight: bold\">CAST</span><span style=\"font-weight: bold\">(</span><span style=\"color: #008080; text-decoration-color: #008080; font-weight: bold\">2005</span> AS SMALLINT<span style=\"font-weight: bold\">)</span>, <span style=\"color: #008000; text-decoration-color: #008000\">'budget'</span>: <span style=\"color: #008000; text-decoration-color: #008000\">\"t0\"</span>.<span style=\"color: #008000; text-decoration-color: #008000\">\"2005\"</span><span style=\"font-weight: bold\">}</span>, <span style=\"font-weight: bold\">{</span><span style=\"color: #008000; text-decoration-color: #008000\">'year'</span>: <span style=\"color: #800080; text-decoration-color: #800080; font-weight: bold\">CAST</span><span style=\"font-weight: bold\">(</span><span style=\"color: #008080; text-decoration-color: #008080; font-weight: bold\">2006</span> AS SMALLINT<span style=\"font-weight: bold\">)</span>, <span style=\"color: #008000; text-decoration-color: #008000\">'budget'</span>: <span style=\"color: #008000; text-decoration-color: #008000\">\"t0\"</span>.<span style=\"color: #008000; text-decoration-color: #008000\">\"2006\"</span><span style=\"font-weight: bold\">}</span>, <span style=\"font-weight: bold\">{</span><span style=\"color: #008000; text-decoration-color: #008000\">'year'</span>: <span style=\"color: #800080; text-decoration-color: #800080; font-weight: bold\">CAST</span><span style=\"font-weight: bold\">(</span><span style=\"color: #008080; text-decoration-color: #008080; font-weight: bold\">2007</span> AS SMALLINT<span style=\"font-weight: bold\">)</span>, <span style=\"color: #008000; text-decoration-color: #008000\">'budget'</span>: <span style=\"color: #008000; text-decoration-color: #008000\">\"t0\"</span>.<span style=\"color: #008000; text-decoration-color: #008000\">\"2007\"</span><span style=\"font-weight: bold\">}</span>, <span style=\"font-weight: bold\">{</span><span style=\"color: #008000; text-decoration-color: #008000\">'year'</span>: <span style=\"color: #800080; text-decoration-color: #800080; font-weight: bold\">CAST</span><span style=\"font-weight: bold\">(</span><span style=\"color: #008080; text-decoration-color: #008080; font-weight: bold\">2008</span> AS SMALLINT<span style=\"font-weight: bold\">)</span>, <span style=\"color: #008000; text-decoration-color: #008000\">'budget'</span>: <span style=\"color: #008000; text-decoration-color: #008000\">\"t0\"</span>.<span style=\"color: #008000; text-decoration-color: #008000\">\"2008\"</span><span style=\"font-weight: bold\">}</span>, <span style=\"font-weight: bold\">{</span><span style=\"color: #008000; text-decoration-color: #008000\">'year'</span>: <span style=\"color: #800080; text-decoration-color: #800080; font-weight: bold\">CAST</span><span style=\"font-weight: bold\">(</span><span style=\"color: #008080; text-decoration-color: #008080; font-weight: bold\">2009</span> AS SMALLINT<span style=\"font-weight: bold\">)</span>, <span style=\"color: #008000; text-decoration-color: #008000\">'budget'</span>: <span style=\"color: #008000; text-decoration-color: #008000\">\"t0\"</span>.<span style=\"color: #008000; text-decoration-color: #008000\">\"2009\"</span><span style=\"font-weight: bold\">}</span>, <span style=\"font-weight: bold\">{</span><span style=\"color: #008000; text-decoration-color: #008000\">'year'</span>: <span style=\"color: #800080; text-decoration-color: #800080; font-weight: bold\">CAST</span><span style=\"font-weight: bold\">(</span><span style=\"color: #008080; text-decoration-color: #008080; font-weight: bold\">2010</span> AS SMALLINT<span style=\"font-weight: bold\">)</span>, <span style=\"color: #008000; text-decoration-color: #008000\">'budget'</span>: <span style=\"color: #008000; text-decoration-color: #008000\">\"t0\"</span>.<span style=\"color: #008000; text-decoration-color: #008000\">\"2010\"</span><span style=\"font-weight: bold\">}</span>, <span style=\"font-weight: bold\">{</span><span style=\"color: #008000; text-decoration-color: #008000\">'year'</span>: <span style=\"color: #800080; text-decoration-color: #800080; font-weight: bold\">CAST</span><span style=\"font-weight: bold\">(</span><span style=\"color: #008080; text-decoration-color: #008080; font-weight: bold\">2011</span> AS SMALLINT<span style=\"font-weight: bold\">)</span>, <span style=\"color: #008000; text-decoration-color: #008000\">'budget'</span>: <span style=\"color: #008000; text-decoration-color: #008000\">\"t0\"</span>.<span style=\"color: #008000; text-decoration-color: #008000\">\"2011\"</span><span style=\"font-weight: bold\">}</span>, <span style=\"font-weight: bold\">{</span><span style=\"color: #008000; text-decoration-color: #008000\">'year'</span>: <span style=\"color: #800080; text-decoration-color: #800080; font-weight: bold\">CAST</span><span style=\"font-weight: bold\">(</span><span style=\"color: #008080; text-decoration-color: #008080; font-weight: bold\">2012</span> AS SMALLINT<span style=\"font-weight: bold\">)</span>, <span style=\"color: #008000; text-decoration-color: #008000\">'budget'</span>: <span style=\"color: #008000; text-decoration-color: #008000\">\"t0\"</span>.<span style=\"color: #008000; text-decoration-color: #008000\">\"2012\"</span><span style=\"font-weight: bold\">}</span>, <span style=\"font-weight: bold\">{</span><span style=\"color: #008000; text-decoration-color: #008000\">'year'</span>: <span style=\"color: #800080; text-decoration-color: #800080; font-weight: bold\">CAST</span><span style=\"font-weight: bold\">(</span><span style=\"color: #008080; text-decoration-color: #008080; font-weight: bold\">2013</span> AS SMALLINT<span style=\"font-weight: bold\">)</span>, <span style=\"color: #008000; text-decoration-color: #008000\">'budget'</span>: <span style=\"color: #008000; text-decoration-color: #008000\">\"t0\"</span>.<span style=\"color: #008000; text-decoration-color: #008000\">\"2013\"</span><span style=\"font-weight: bold\">}</span>, <span style=\"font-weight: bold\">{</span><span style=\"color: #008000; text-decoration-color: #008000\">'year'</span>: <span style=\"color: #800080; text-decoration-color: #800080; font-weight: bold\">CAST</span><span style=\"font-weight: bold\">(</span><span style=\"color: #008080; text-decoration-color: #008080; font-weight: bold\">2014</span> AS SMALLINT<span style=\"font-weight: bold\">)</span>, <span style=\"color: #008000; text-decoration-color: #008000\">'budget'</span>: <span style=\"color: #008000; text-decoration-color: #008000\">\"t0\"</span>.<span style=\"color: #008000; text-decoration-color: #008000\">\"2014\"</span><span style=\"font-weight: bold\">}</span>, <span style=\"font-weight: bold\">{</span><span style=\"color: #008000; text-decoration-color: #008000\">'year'</span>: <span style=\"color: #800080; text-decoration-color: #800080; font-weight: bold\">CAST</span><span style=\"font-weight: bold\">(</span><span style=\"color: #008080; text-decoration-color: #008080; font-weight: bold\">2015</span> AS SMALLINT<span style=\"font-weight: bold\">)</span>, <span style=\"color: #008000; text-decoration-color: #008000\">'budget'</span>: <span style=\"color: #008000; text-decoration-color: #008000\">\"t0\"</span>.<span style=\"color: #008000; text-decoration-color: #008000\">\"2015\"</span><span style=\"font-weight: bold\">}</span>, <span style=\"font-weight: bold\">{</span><span style=\"color: #008000; text-decoration-color: #008000\">'year'</span>: <span style=\"color: #800080; text-decoration-color: #800080; font-weight: bold\">CAST</span><span style=\"font-weight: bold\">(</span><span style=\"color: #008080; text-decoration-color: #008080; font-weight: bold\">2016</span> AS SMALLINT<span style=\"font-weight: bold\">)</span>, <span style=\"color: #008000; text-decoration-color: #008000\">'budget'</span>: <span style=\"color: #008000; text-decoration-color: #008000\">\"t0\"</span>.<span style=\"color: #008000; text-decoration-color: #008000\">\"2016\"</span><span style=\"font-weight: bold\">}</span>, <span style=\"font-weight: bold\">{</span><span style=\"color: #008000; text-decoration-color: #008000\">'year'</span>: <span style=\"color: #800080; text-decoration-color: #800080; font-weight: bold\">CAST</span><span style=\"font-weight: bold\">(</span><span style=\"color: #008080; text-decoration-color: #008080; font-weight: bold\">2017</span> AS SMALLINT<span style=\"font-weight: bold\">)</span>, <span style=\"color: #008000; text-decoration-color: #008000\">'budget'</span>: <span style=\"color: #008000; text-decoration-color: #008000\">\"t0\"</span>.<span style=\"color: #008000; text-decoration-color: #008000\">\"2017\"</span><span style=\"font-weight: bold\">}</span>, <span style=\"font-weight: bold\">{</span><span style=\"color: #008000; text-decoration-color: #008000\">'year'</span>: <span style=\"color: #800080; text-decoration-color: #800080; font-weight: bold\">CAST</span><span style=\"font-weight: bold\">(</span><span style=\"color: #008080; text-decoration-color: #008080; font-weight: bold\">2018</span> AS SMALLINT<span style=\"font-weight: bold\">)</span>, <span style=\"color: #008000; text-decoration-color: #008000\">'budget'</span>: <span style=\"color: #008000; text-decoration-color: #008000\">\"t0\"</span>.<span style=\"color: #008000; text-decoration-color: #008000\">\"2018\"</span><span style=\"font-weight: bold\">}</span>, <span style=\"font-weight: bold\">{</span><span style=\"color: #008000; text-decoration-color: #008000\">'year'</span>: <span style=\"color: #800080; text-decoration-color: #800080; font-weight: bold\">CAST</span><span style=\"font-weight: bold\">(</span><span style=\"color: #008080; text-decoration-color: #008080; font-weight: bold\">2019</span> AS SMALLINT<span style=\"font-weight: bold\">)</span>, <span style=\"color: #008000; text-decoration-color: #008000\">'budget'</span>: <span style=\"color: #008000; text-decoration-color: #008000\">\"t0\"</span>.<span style=\"color: #008000; text-decoration-color: #008000\">\"2019\"</span><span style=\"font-weight: bold\">}</span>, <span style=\"font-weight: bold\">{</span><span style=\"color: #008000; text-decoration-color: #008000\">'year'</span>: <span style=\"color: #800080; text-decoration-color: #800080; font-weight: bold\">CAST</span><span style=\"font-weight: bold\">(</span><span style=\"color: #008080; text-decoration-color: #008080; font-weight: bold\">2020</span> AS SMALLINT<span style=\"font-weight: bold\">)</span>, <span style=\"color: #008000; text-decoration-color: #008000\">'budget'</span>: <span style=\"color: #008000; text-decoration-color: #008000\">\"t0\"</span>.<span style=\"color: #008000; text-decoration-color: #008000\">\"2020\"</span><span style=\"font-weight: bold\">}]</span>\n",
       "    <span style=\"font-weight: bold\">)</span> AS <span style=\"color: #008000; text-decoration-color: #008000\">\"__pivoted__\"</span>\n",
       "  FROM <span style=\"color: #008000; text-decoration-color: #008000\">\"budget​\"</span> AS <span style=\"color: #008000; text-decoration-color: #008000\">\"t0\"</span>\n",
       "<span style=\"font-weight: bold\">)</span> AS <span style=\"color: #008000; text-decoration-color: #008000\">\"t1\"</span>\n",
       "</pre>\n"
      ],
      "text/plain": [
       "SELECT\n",
       "  \u001b[32m\"t1\"\u001b[0m.\u001b[32m\"Source Category Code\"\u001b[0m,\n",
       "  \u001b[32m\"t1\"\u001b[0m.\u001b[32m\"Source subcategory\"\u001b[0m,\n",
       "  \u001b[32m\"t1\"\u001b[0m.\u001b[32m\"Agency code\"\u001b[0m,\n",
       "  \u001b[32m\"t1\"\u001b[0m.\u001b[32m\"Bureau code\"\u001b[0m,\n",
       "  \u001b[32m\"t1\"\u001b[0m.\u001b[32m\"Account code\"\u001b[0m,\n",
       "  \u001b[32m\"t1\"\u001b[0m.\u001b[32m\"Treasury Agency code\"\u001b[0m,\n",
       "  \u001b[32m\"t1\"\u001b[0m.\u001b[32m\"On- or off-budget\"\u001b[0m,\n",
       "  \u001b[32m\"t1\"\u001b[0m.\u001b[32m\"TQ\"\u001b[0m,\n",
       "  \u001b[32m\"t1\"\u001b[0m.\u001b[32m\"__pivoted__\"\u001b[0m.\u001b[32m\"year\"\u001b[0m AS \u001b[32m\"year\"\u001b[0m,\n",
       "  \u001b[32m\"t1\"\u001b[0m.\u001b[32m\"__pivoted__\"\u001b[0m.\u001b[32m\"budget\"\u001b[0m AS \u001b[32m\"budget\"\u001b[0m\n",
       "FROM \u001b[1m(\u001b[0m\n",
       "  SELECT\n",
       "    \u001b[32m\"t0\"\u001b[0m.\u001b[32m\"Source Category Code\"\u001b[0m,\n",
       "    \u001b[32m\"t0\"\u001b[0m.\u001b[32m\"Source subcategory\"\u001b[0m,\n",
       "    \u001b[32m\"t0\"\u001b[0m.\u001b[32m\"Agency code\"\u001b[0m,\n",
       "    \u001b[32m\"t0\"\u001b[0m.\u001b[32m\"Bureau code\"\u001b[0m,\n",
       "    \u001b[32m\"t0\"\u001b[0m.\u001b[32m\"Account code\"\u001b[0m,\n",
       "    \u001b[32m\"t0\"\u001b[0m.\u001b[32m\"Treasury Agency code\"\u001b[0m,\n",
       "    \u001b[32m\"t0\"\u001b[0m.\u001b[32m\"On- or off-budget\"\u001b[0m,\n",
       "    \u001b[32m\"t0\"\u001b[0m.\u001b[32m\"TQ\"\u001b[0m,\n",
       "    \u001b[1;35mUNNEST\u001b[0m\u001b[1m(\u001b[0m\n",
       "      \u001b[1m[\u001b[0m\u001b[1m{\u001b[0m\u001b[32m'year'\u001b[0m: \u001b[1;35mCAST\u001b[0m\u001b[1m(\u001b[0m\u001b[1;36m1962\u001b[0m AS SMALLINT\u001b[1m)\u001b[0m, \u001b[32m'budget'\u001b[0m: \u001b[32m\"t0\"\u001b[0m.\u001b[32m\"1962\"\u001b[0m\u001b[1m}\u001b[0m, \u001b[1m{\u001b[0m\u001b[32m'year'\u001b[0m: \u001b[1;35mCAST\u001b[0m\u001b[1m(\u001b[0m\u001b[1;36m1963\u001b[0m AS SMALLINT\u001b[1m)\u001b[0m, \u001b[32m'budget'\u001b[0m: \u001b[32m\"t0\"\u001b[0m.\u001b[32m\"1963\"\u001b[0m\u001b[1m}\u001b[0m, \u001b[1m{\u001b[0m\u001b[32m'year'\u001b[0m: \u001b[1;35mCAST\u001b[0m\u001b[1m(\u001b[0m\u001b[1;36m1964\u001b[0m AS SMALLINT\u001b[1m)\u001b[0m, \u001b[32m'budget'\u001b[0m: \u001b[32m\"t0\"\u001b[0m.\u001b[32m\"1964\"\u001b[0m\u001b[1m}\u001b[0m, \u001b[1m{\u001b[0m\u001b[32m'year'\u001b[0m: \u001b[1;35mCAST\u001b[0m\u001b[1m(\u001b[0m\u001b[1;36m1965\u001b[0m AS SMALLINT\u001b[1m)\u001b[0m, \u001b[32m'budget'\u001b[0m: \u001b[32m\"t0\"\u001b[0m.\u001b[32m\"1965\"\u001b[0m\u001b[1m}\u001b[0m, \u001b[1m{\u001b[0m\u001b[32m'year'\u001b[0m: \u001b[1;35mCAST\u001b[0m\u001b[1m(\u001b[0m\u001b[1;36m1966\u001b[0m AS SMALLINT\u001b[1m)\u001b[0m, \u001b[32m'budget'\u001b[0m: \u001b[32m\"t0\"\u001b[0m.\u001b[32m\"1966\"\u001b[0m\u001b[1m}\u001b[0m, \u001b[1m{\u001b[0m\u001b[32m'year'\u001b[0m: \u001b[1;35mCAST\u001b[0m\u001b[1m(\u001b[0m\u001b[1;36m1967\u001b[0m AS SMALLINT\u001b[1m)\u001b[0m, \u001b[32m'budget'\u001b[0m: \u001b[32m\"t0\"\u001b[0m.\u001b[32m\"1967\"\u001b[0m\u001b[1m}\u001b[0m, \u001b[1m{\u001b[0m\u001b[32m'year'\u001b[0m: \u001b[1;35mCAST\u001b[0m\u001b[1m(\u001b[0m\u001b[1;36m1968\u001b[0m AS SMALLINT\u001b[1m)\u001b[0m, \u001b[32m'budget'\u001b[0m: \u001b[32m\"t0\"\u001b[0m.\u001b[32m\"1968\"\u001b[0m\u001b[1m}\u001b[0m, \u001b[1m{\u001b[0m\u001b[32m'year'\u001b[0m: \u001b[1;35mCAST\u001b[0m\u001b[1m(\u001b[0m\u001b[1;36m1969\u001b[0m AS SMALLINT\u001b[1m)\u001b[0m, \u001b[32m'budget'\u001b[0m: \u001b[32m\"t0\"\u001b[0m.\u001b[32m\"1969\"\u001b[0m\u001b[1m}\u001b[0m, \u001b[1m{\u001b[0m\u001b[32m'year'\u001b[0m: \u001b[1;35mCAST\u001b[0m\u001b[1m(\u001b[0m\u001b[1;36m1970\u001b[0m AS SMALLINT\u001b[1m)\u001b[0m, \u001b[32m'budget'\u001b[0m: \u001b[32m\"t0\"\u001b[0m.\u001b[32m\"1970\"\u001b[0m\u001b[1m}\u001b[0m, \u001b[1m{\u001b[0m\u001b[32m'year'\u001b[0m: \u001b[1;35mCAST\u001b[0m\u001b[1m(\u001b[0m\u001b[1;36m1971\u001b[0m AS SMALLINT\u001b[1m)\u001b[0m, \u001b[32m'budget'\u001b[0m: \u001b[32m\"t0\"\u001b[0m.\u001b[32m\"1971\"\u001b[0m\u001b[1m}\u001b[0m, \u001b[1m{\u001b[0m\u001b[32m'year'\u001b[0m: \u001b[1;35mCAST\u001b[0m\u001b[1m(\u001b[0m\u001b[1;36m1972\u001b[0m AS SMALLINT\u001b[1m)\u001b[0m, \u001b[32m'budget'\u001b[0m: \u001b[32m\"t0\"\u001b[0m.\u001b[32m\"1972\"\u001b[0m\u001b[1m}\u001b[0m, \u001b[1m{\u001b[0m\u001b[32m'year'\u001b[0m: \u001b[1;35mCAST\u001b[0m\u001b[1m(\u001b[0m\u001b[1;36m1973\u001b[0m AS SMALLINT\u001b[1m)\u001b[0m, \u001b[32m'budget'\u001b[0m: \u001b[32m\"t0\"\u001b[0m.\u001b[32m\"1973\"\u001b[0m\u001b[1m}\u001b[0m, \u001b[1m{\u001b[0m\u001b[32m'year'\u001b[0m: \u001b[1;35mCAST\u001b[0m\u001b[1m(\u001b[0m\u001b[1;36m1974\u001b[0m AS SMALLINT\u001b[1m)\u001b[0m, \u001b[32m'budget'\u001b[0m: \u001b[32m\"t0\"\u001b[0m.\u001b[32m\"1974\"\u001b[0m\u001b[1m}\u001b[0m, \u001b[1m{\u001b[0m\u001b[32m'year'\u001b[0m: \u001b[1;35mCAST\u001b[0m\u001b[1m(\u001b[0m\u001b[1;36m1975\u001b[0m AS SMALLINT\u001b[1m)\u001b[0m, \u001b[32m'budget'\u001b[0m: \u001b[32m\"t0\"\u001b[0m.\u001b[32m\"1975\"\u001b[0m\u001b[1m}\u001b[0m, \u001b[1m{\u001b[0m\u001b[32m'year'\u001b[0m: \u001b[1;35mCAST\u001b[0m\u001b[1m(\u001b[0m\u001b[1;36m1976\u001b[0m AS SMALLINT\u001b[1m)\u001b[0m, \u001b[32m'budget'\u001b[0m: \u001b[32m\"t0\"\u001b[0m.\u001b[32m\"1976\"\u001b[0m\u001b[1m}\u001b[0m, \u001b[1m{\u001b[0m\u001b[32m'year'\u001b[0m: \u001b[1;35mCAST\u001b[0m\u001b[1m(\u001b[0m\u001b[1;36m1977\u001b[0m AS SMALLINT\u001b[1m)\u001b[0m, \u001b[32m'budget'\u001b[0m: \u001b[32m\"t0\"\u001b[0m.\u001b[32m\"1977\"\u001b[0m\u001b[1m}\u001b[0m, \u001b[1m{\u001b[0m\u001b[32m'year'\u001b[0m: \u001b[1;35mCAST\u001b[0m\u001b[1m(\u001b[0m\u001b[1;36m1978\u001b[0m AS SMALLINT\u001b[1m)\u001b[0m, \u001b[32m'budget'\u001b[0m: \u001b[32m\"t0\"\u001b[0m.\u001b[32m\"1978\"\u001b[0m\u001b[1m}\u001b[0m, \u001b[1m{\u001b[0m\u001b[32m'year'\u001b[0m: \u001b[1;35mCAST\u001b[0m\u001b[1m(\u001b[0m\u001b[1;36m1979\u001b[0m AS SMALLINT\u001b[1m)\u001b[0m, \u001b[32m'budget'\u001b[0m: \u001b[32m\"t0\"\u001b[0m.\u001b[32m\"1979\"\u001b[0m\u001b[1m}\u001b[0m, \u001b[1m{\u001b[0m\u001b[32m'year'\u001b[0m: \u001b[1;35mCAST\u001b[0m\u001b[1m(\u001b[0m\u001b[1;36m1980\u001b[0m AS SMALLINT\u001b[1m)\u001b[0m, \u001b[32m'budget'\u001b[0m: \u001b[32m\"t0\"\u001b[0m.\u001b[32m\"1980\"\u001b[0m\u001b[1m}\u001b[0m, \u001b[1m{\u001b[0m\u001b[32m'year'\u001b[0m: \u001b[1;35mCAST\u001b[0m\u001b[1m(\u001b[0m\u001b[1;36m1981\u001b[0m AS SMALLINT\u001b[1m)\u001b[0m, \u001b[32m'budget'\u001b[0m: \u001b[32m\"t0\"\u001b[0m.\u001b[32m\"1981\"\u001b[0m\u001b[1m}\u001b[0m, \u001b[1m{\u001b[0m\u001b[32m'year'\u001b[0m: \u001b[1;35mCAST\u001b[0m\u001b[1m(\u001b[0m\u001b[1;36m1982\u001b[0m AS SMALLINT\u001b[1m)\u001b[0m, \u001b[32m'budget'\u001b[0m: \u001b[32m\"t0\"\u001b[0m.\u001b[32m\"1982\"\u001b[0m\u001b[1m}\u001b[0m, \u001b[1m{\u001b[0m\u001b[32m'year'\u001b[0m: \u001b[1;35mCAST\u001b[0m\u001b[1m(\u001b[0m\u001b[1;36m1983\u001b[0m AS SMALLINT\u001b[1m)\u001b[0m, \u001b[32m'budget'\u001b[0m: \u001b[32m\"t0\"\u001b[0m.\u001b[32m\"1983\"\u001b[0m\u001b[1m}\u001b[0m, \u001b[1m{\u001b[0m\u001b[32m'year'\u001b[0m: \u001b[1;35mCAST\u001b[0m\u001b[1m(\u001b[0m\u001b[1;36m1984\u001b[0m AS SMALLINT\u001b[1m)\u001b[0m, \u001b[32m'budget'\u001b[0m: \u001b[32m\"t0\"\u001b[0m.\u001b[32m\"1984\"\u001b[0m\u001b[1m}\u001b[0m, \u001b[1m{\u001b[0m\u001b[32m'year'\u001b[0m: \u001b[1;35mCAST\u001b[0m\u001b[1m(\u001b[0m\u001b[1;36m1985\u001b[0m AS SMALLINT\u001b[1m)\u001b[0m, \u001b[32m'budget'\u001b[0m: \u001b[32m\"t0\"\u001b[0m.\u001b[32m\"1985\"\u001b[0m\u001b[1m}\u001b[0m, \u001b[1m{\u001b[0m\u001b[32m'year'\u001b[0m: \u001b[1;35mCAST\u001b[0m\u001b[1m(\u001b[0m\u001b[1;36m1986\u001b[0m AS SMALLINT\u001b[1m)\u001b[0m, \u001b[32m'budget'\u001b[0m: \u001b[32m\"t0\"\u001b[0m.\u001b[32m\"1986\"\u001b[0m\u001b[1m}\u001b[0m, \u001b[1m{\u001b[0m\u001b[32m'year'\u001b[0m: \u001b[1;35mCAST\u001b[0m\u001b[1m(\u001b[0m\u001b[1;36m1987\u001b[0m AS SMALLINT\u001b[1m)\u001b[0m, \u001b[32m'budget'\u001b[0m: \u001b[32m\"t0\"\u001b[0m.\u001b[32m\"1987\"\u001b[0m\u001b[1m}\u001b[0m, \u001b[1m{\u001b[0m\u001b[32m'year'\u001b[0m: \u001b[1;35mCAST\u001b[0m\u001b[1m(\u001b[0m\u001b[1;36m1988\u001b[0m AS SMALLINT\u001b[1m)\u001b[0m, \u001b[32m'budget'\u001b[0m: \u001b[32m\"t0\"\u001b[0m.\u001b[32m\"1988\"\u001b[0m\u001b[1m}\u001b[0m, \u001b[1m{\u001b[0m\u001b[32m'year'\u001b[0m: \u001b[1;35mCAST\u001b[0m\u001b[1m(\u001b[0m\u001b[1;36m1989\u001b[0m AS SMALLINT\u001b[1m)\u001b[0m, \u001b[32m'budget'\u001b[0m: \u001b[32m\"t0\"\u001b[0m.\u001b[32m\"1989\"\u001b[0m\u001b[1m}\u001b[0m, \u001b[1m{\u001b[0m\u001b[32m'year'\u001b[0m: \u001b[1;35mCAST\u001b[0m\u001b[1m(\u001b[0m\u001b[1;36m1990\u001b[0m AS SMALLINT\u001b[1m)\u001b[0m, \u001b[32m'budget'\u001b[0m: \u001b[32m\"t0\"\u001b[0m.\u001b[32m\"1990\"\u001b[0m\u001b[1m}\u001b[0m, \u001b[1m{\u001b[0m\u001b[32m'year'\u001b[0m: \u001b[1;35mCAST\u001b[0m\u001b[1m(\u001b[0m\u001b[1;36m1991\u001b[0m AS SMALLINT\u001b[1m)\u001b[0m, \u001b[32m'budget'\u001b[0m: \u001b[32m\"t0\"\u001b[0m.\u001b[32m\"1991\"\u001b[0m\u001b[1m}\u001b[0m, \u001b[1m{\u001b[0m\u001b[32m'year'\u001b[0m: \u001b[1;35mCAST\u001b[0m\u001b[1m(\u001b[0m\u001b[1;36m1992\u001b[0m AS SMALLINT\u001b[1m)\u001b[0m, \u001b[32m'budget'\u001b[0m: \u001b[32m\"t0\"\u001b[0m.\u001b[32m\"1992\"\u001b[0m\u001b[1m}\u001b[0m, \u001b[1m{\u001b[0m\u001b[32m'year'\u001b[0m: \u001b[1;35mCAST\u001b[0m\u001b[1m(\u001b[0m\u001b[1;36m1993\u001b[0m AS SMALLINT\u001b[1m)\u001b[0m, \u001b[32m'budget'\u001b[0m: \u001b[32m\"t0\"\u001b[0m.\u001b[32m\"1993\"\u001b[0m\u001b[1m}\u001b[0m, \u001b[1m{\u001b[0m\u001b[32m'year'\u001b[0m: \u001b[1;35mCAST\u001b[0m\u001b[1m(\u001b[0m\u001b[1;36m1994\u001b[0m AS SMALLINT\u001b[1m)\u001b[0m, \u001b[32m'budget'\u001b[0m: \u001b[32m\"t0\"\u001b[0m.\u001b[32m\"1994\"\u001b[0m\u001b[1m}\u001b[0m, \u001b[1m{\u001b[0m\u001b[32m'year'\u001b[0m: \u001b[1;35mCAST\u001b[0m\u001b[1m(\u001b[0m\u001b[1;36m1995\u001b[0m AS SMALLINT\u001b[1m)\u001b[0m, \u001b[32m'budget'\u001b[0m: \u001b[32m\"t0\"\u001b[0m.\u001b[32m\"1995\"\u001b[0m\u001b[1m}\u001b[0m, \u001b[1m{\u001b[0m\u001b[32m'year'\u001b[0m: \u001b[1;35mCAST\u001b[0m\u001b[1m(\u001b[0m\u001b[1;36m1996\u001b[0m AS SMALLINT\u001b[1m)\u001b[0m, \u001b[32m'budget'\u001b[0m: \u001b[32m\"t0\"\u001b[0m.\u001b[32m\"1996\"\u001b[0m\u001b[1m}\u001b[0m, \u001b[1m{\u001b[0m\u001b[32m'year'\u001b[0m: \u001b[1;35mCAST\u001b[0m\u001b[1m(\u001b[0m\u001b[1;36m1997\u001b[0m AS SMALLINT\u001b[1m)\u001b[0m, \u001b[32m'budget'\u001b[0m: \u001b[32m\"t0\"\u001b[0m.\u001b[32m\"1997\"\u001b[0m\u001b[1m}\u001b[0m, \u001b[1m{\u001b[0m\u001b[32m'year'\u001b[0m: \u001b[1;35mCAST\u001b[0m\u001b[1m(\u001b[0m\u001b[1;36m1998\u001b[0m AS SMALLINT\u001b[1m)\u001b[0m, \u001b[32m'budget'\u001b[0m: \u001b[32m\"t0\"\u001b[0m.\u001b[32m\"1998\"\u001b[0m\u001b[1m}\u001b[0m, \u001b[1m{\u001b[0m\u001b[32m'year'\u001b[0m: \u001b[1;35mCAST\u001b[0m\u001b[1m(\u001b[0m\u001b[1;36m1999\u001b[0m AS SMALLINT\u001b[1m)\u001b[0m, \u001b[32m'budget'\u001b[0m: \u001b[32m\"t0\"\u001b[0m.\u001b[32m\"1999\"\u001b[0m\u001b[1m}\u001b[0m, \u001b[1m{\u001b[0m\u001b[32m'year'\u001b[0m: \u001b[1;35mCAST\u001b[0m\u001b[1m(\u001b[0m\u001b[1;36m2000\u001b[0m AS SMALLINT\u001b[1m)\u001b[0m, \u001b[32m'budget'\u001b[0m: \u001b[32m\"t0\"\u001b[0m.\u001b[32m\"2000\"\u001b[0m\u001b[1m}\u001b[0m, \u001b[1m{\u001b[0m\u001b[32m'year'\u001b[0m: \u001b[1;35mCAST\u001b[0m\u001b[1m(\u001b[0m\u001b[1;36m2001\u001b[0m AS SMALLINT\u001b[1m)\u001b[0m, \u001b[32m'budget'\u001b[0m: \u001b[32m\"t0\"\u001b[0m.\u001b[32m\"2001\"\u001b[0m\u001b[1m}\u001b[0m, \u001b[1m{\u001b[0m\u001b[32m'year'\u001b[0m: \u001b[1;35mCAST\u001b[0m\u001b[1m(\u001b[0m\u001b[1;36m2002\u001b[0m AS SMALLINT\u001b[1m)\u001b[0m, \u001b[32m'budget'\u001b[0m: \u001b[32m\"t0\"\u001b[0m.\u001b[32m\"2002\"\u001b[0m\u001b[1m}\u001b[0m, \u001b[1m{\u001b[0m\u001b[32m'year'\u001b[0m: \u001b[1;35mCAST\u001b[0m\u001b[1m(\u001b[0m\u001b[1;36m2003\u001b[0m AS SMALLINT\u001b[1m)\u001b[0m, \u001b[32m'budget'\u001b[0m: \u001b[32m\"t0\"\u001b[0m.\u001b[32m\"2003\"\u001b[0m\u001b[1m}\u001b[0m, \u001b[1m{\u001b[0m\u001b[32m'year'\u001b[0m: \u001b[1;35mCAST\u001b[0m\u001b[1m(\u001b[0m\u001b[1;36m2004\u001b[0m AS SMALLINT\u001b[1m)\u001b[0m, \u001b[32m'budget'\u001b[0m: \u001b[32m\"t0\"\u001b[0m.\u001b[32m\"2004\"\u001b[0m\u001b[1m}\u001b[0m, \u001b[1m{\u001b[0m\u001b[32m'year'\u001b[0m: \u001b[1;35mCAST\u001b[0m\u001b[1m(\u001b[0m\u001b[1;36m2005\u001b[0m AS SMALLINT\u001b[1m)\u001b[0m, \u001b[32m'budget'\u001b[0m: \u001b[32m\"t0\"\u001b[0m.\u001b[32m\"2005\"\u001b[0m\u001b[1m}\u001b[0m, \u001b[1m{\u001b[0m\u001b[32m'year'\u001b[0m: \u001b[1;35mCAST\u001b[0m\u001b[1m(\u001b[0m\u001b[1;36m2006\u001b[0m AS SMALLINT\u001b[1m)\u001b[0m, \u001b[32m'budget'\u001b[0m: \u001b[32m\"t0\"\u001b[0m.\u001b[32m\"2006\"\u001b[0m\u001b[1m}\u001b[0m, \u001b[1m{\u001b[0m\u001b[32m'year'\u001b[0m: \u001b[1;35mCAST\u001b[0m\u001b[1m(\u001b[0m\u001b[1;36m2007\u001b[0m AS SMALLINT\u001b[1m)\u001b[0m, \u001b[32m'budget'\u001b[0m: \u001b[32m\"t0\"\u001b[0m.\u001b[32m\"2007\"\u001b[0m\u001b[1m}\u001b[0m, \u001b[1m{\u001b[0m\u001b[32m'year'\u001b[0m: \u001b[1;35mCAST\u001b[0m\u001b[1m(\u001b[0m\u001b[1;36m2008\u001b[0m AS SMALLINT\u001b[1m)\u001b[0m, \u001b[32m'budget'\u001b[0m: \u001b[32m\"t0\"\u001b[0m.\u001b[32m\"2008\"\u001b[0m\u001b[1m}\u001b[0m, \u001b[1m{\u001b[0m\u001b[32m'year'\u001b[0m: \u001b[1;35mCAST\u001b[0m\u001b[1m(\u001b[0m\u001b[1;36m2009\u001b[0m AS SMALLINT\u001b[1m)\u001b[0m, \u001b[32m'budget'\u001b[0m: \u001b[32m\"t0\"\u001b[0m.\u001b[32m\"2009\"\u001b[0m\u001b[1m}\u001b[0m, \u001b[1m{\u001b[0m\u001b[32m'year'\u001b[0m: \u001b[1;35mCAST\u001b[0m\u001b[1m(\u001b[0m\u001b[1;36m2010\u001b[0m AS SMALLINT\u001b[1m)\u001b[0m, \u001b[32m'budget'\u001b[0m: \u001b[32m\"t0\"\u001b[0m.\u001b[32m\"2010\"\u001b[0m\u001b[1m}\u001b[0m, \u001b[1m{\u001b[0m\u001b[32m'year'\u001b[0m: \u001b[1;35mCAST\u001b[0m\u001b[1m(\u001b[0m\u001b[1;36m2011\u001b[0m AS SMALLINT\u001b[1m)\u001b[0m, \u001b[32m'budget'\u001b[0m: \u001b[32m\"t0\"\u001b[0m.\u001b[32m\"2011\"\u001b[0m\u001b[1m}\u001b[0m, \u001b[1m{\u001b[0m\u001b[32m'year'\u001b[0m: \u001b[1;35mCAST\u001b[0m\u001b[1m(\u001b[0m\u001b[1;36m2012\u001b[0m AS SMALLINT\u001b[1m)\u001b[0m, \u001b[32m'budget'\u001b[0m: \u001b[32m\"t0\"\u001b[0m.\u001b[32m\"2012\"\u001b[0m\u001b[1m}\u001b[0m, \u001b[1m{\u001b[0m\u001b[32m'year'\u001b[0m: \u001b[1;35mCAST\u001b[0m\u001b[1m(\u001b[0m\u001b[1;36m2013\u001b[0m AS SMALLINT\u001b[1m)\u001b[0m, \u001b[32m'budget'\u001b[0m: \u001b[32m\"t0\"\u001b[0m.\u001b[32m\"2013\"\u001b[0m\u001b[1m}\u001b[0m, \u001b[1m{\u001b[0m\u001b[32m'year'\u001b[0m: \u001b[1;35mCAST\u001b[0m\u001b[1m(\u001b[0m\u001b[1;36m2014\u001b[0m AS SMALLINT\u001b[1m)\u001b[0m, \u001b[32m'budget'\u001b[0m: \u001b[32m\"t0\"\u001b[0m.\u001b[32m\"2014\"\u001b[0m\u001b[1m}\u001b[0m, \u001b[1m{\u001b[0m\u001b[32m'year'\u001b[0m: \u001b[1;35mCAST\u001b[0m\u001b[1m(\u001b[0m\u001b[1;36m2015\u001b[0m AS SMALLINT\u001b[1m)\u001b[0m, \u001b[32m'budget'\u001b[0m: \u001b[32m\"t0\"\u001b[0m.\u001b[32m\"2015\"\u001b[0m\u001b[1m}\u001b[0m, \u001b[1m{\u001b[0m\u001b[32m'year'\u001b[0m: \u001b[1;35mCAST\u001b[0m\u001b[1m(\u001b[0m\u001b[1;36m2016\u001b[0m AS SMALLINT\u001b[1m)\u001b[0m, \u001b[32m'budget'\u001b[0m: \u001b[32m\"t0\"\u001b[0m.\u001b[32m\"2016\"\u001b[0m\u001b[1m}\u001b[0m, \u001b[1m{\u001b[0m\u001b[32m'year'\u001b[0m: \u001b[1;35mCAST\u001b[0m\u001b[1m(\u001b[0m\u001b[1;36m2017\u001b[0m AS SMALLINT\u001b[1m)\u001b[0m, \u001b[32m'budget'\u001b[0m: \u001b[32m\"t0\"\u001b[0m.\u001b[32m\"2017\"\u001b[0m\u001b[1m}\u001b[0m, \u001b[1m{\u001b[0m\u001b[32m'year'\u001b[0m: \u001b[1;35mCAST\u001b[0m\u001b[1m(\u001b[0m\u001b[1;36m2018\u001b[0m AS SMALLINT\u001b[1m)\u001b[0m, \u001b[32m'budget'\u001b[0m: \u001b[32m\"t0\"\u001b[0m.\u001b[32m\"2018\"\u001b[0m\u001b[1m}\u001b[0m, \u001b[1m{\u001b[0m\u001b[32m'year'\u001b[0m: \u001b[1;35mCAST\u001b[0m\u001b[1m(\u001b[0m\u001b[1;36m2019\u001b[0m AS SMALLINT\u001b[1m)\u001b[0m, \u001b[32m'budget'\u001b[0m: \u001b[32m\"t0\"\u001b[0m.\u001b[32m\"2019\"\u001b[0m\u001b[1m}\u001b[0m, \u001b[1m{\u001b[0m\u001b[32m'year'\u001b[0m: \u001b[1;35mCAST\u001b[0m\u001b[1m(\u001b[0m\u001b[1;36m2020\u001b[0m AS SMALLINT\u001b[1m)\u001b[0m, \u001b[32m'budget'\u001b[0m: \u001b[32m\"t0\"\u001b[0m.\u001b[32m\"2020\"\u001b[0m\u001b[1m}\u001b[0m\u001b[1m]\u001b[0m\n",
       "    \u001b[1m)\u001b[0m AS \u001b[32m\"__pivoted__\"\u001b[0m\n",
       "  FROM \u001b[32m\"budget​\"\u001b[0m AS \u001b[32m\"t0\"\u001b[0m\n",
       "\u001b[1m)\u001b[0m AS \u001b[32m\"t1\"\u001b[0m\n"
      ]
     },
     "metadata": {},
     "output_type": "display_data"
    }
   ],
   "source": [
    "# | echo: false\n",
    "print(b.to_sql())"
   ]
  },
  {
   "cell_type": "markdown",
   "id": "ac3c305b",
   "metadata": {},
   "source": [
    "#### Result"
   ]
  },
  {
   "cell_type": "code",
   "execution_count": 34,
   "id": "d96a8afa",
   "metadata": {
    "execution": {
     "iopub.execute_input": "2024-03-12T19:52:30.107137Z",
     "iopub.status.busy": "2024-03-12T19:52:30.107042Z",
     "iopub.status.idle": "2024-03-12T19:52:30.165356Z",
     "shell.execute_reply": "2024-03-12T19:52:30.165115Z"
    }
   },
   "outputs": [
    {
     "data": {
      "text/html": [
       "<pre style=\"white-space:pre;overflow-x:auto;line-height:normal;font-family:Menlo,'DejaVu Sans Mono',consolas,'Courier New',monospace\">┏━━━━━━━━━━━━━━━━━━━━━━┳━━━━━━━━━━━━━━━━━━━━┳━━━━━━━━━━━━━┳━━━━━━━━━━━━━┳━━━━━━━━━━━━━━┳━━━━━━━━━━━━━━━━━━━━━━┳━━━━━━━━━━━━━━━━━━━┳━━━━━━━━┳━━━━━━━┳━━━━━━━━┓\n",
       "┃<span style=\"font-weight: bold\"> Source Category Code </span>┃<span style=\"font-weight: bold\"> Source subcategory </span>┃<span style=\"font-weight: bold\"> Agency code </span>┃<span style=\"font-weight: bold\"> Bureau code </span>┃<span style=\"font-weight: bold\"> Account code </span>┃<span style=\"font-weight: bold\"> Treasury Agency code </span>┃<span style=\"font-weight: bold\"> On- or off-budget </span>┃<span style=\"font-weight: bold\"> TQ     </span>┃<span style=\"font-weight: bold\"> year  </span>┃<span style=\"font-weight: bold\"> budget </span>┃\n",
       "┡━━━━━━━━━━━━━━━━━━━━━━╇━━━━━━━━━━━━━━━━━━━━╇━━━━━━━━━━━━━╇━━━━━━━━━━━━━╇━━━━━━━━━━━━━━╇━━━━━━━━━━━━━━━━━━━━━━╇━━━━━━━━━━━━━━━━━━━╇━━━━━━━━╇━━━━━━━╇━━━━━━━━┩\n",
       "│ <span style=\"color: #7f7f7f; text-decoration-color: #7f7f7f\">int64</span>                │ <span style=\"color: #7f7f7f; text-decoration-color: #7f7f7f\">int64</span>              │ <span style=\"color: #7f7f7f; text-decoration-color: #7f7f7f\">int64</span>       │ <span style=\"color: #7f7f7f; text-decoration-color: #7f7f7f\">int64</span>       │ <span style=\"color: #7f7f7f; text-decoration-color: #7f7f7f\">int64</span>        │ <span style=\"color: #7f7f7f; text-decoration-color: #7f7f7f\">int64</span>                │ <span style=\"color: #7f7f7f; text-decoration-color: #7f7f7f\">string</span>            │ <span style=\"color: #7f7f7f; text-decoration-color: #7f7f7f\">string</span> │ <span style=\"color: #7f7f7f; text-decoration-color: #7f7f7f\">int16</span> │ <span style=\"color: #7f7f7f; text-decoration-color: #7f7f7f\">string</span> │\n",
       "├──────────────────────┼────────────────────┼─────────────┼─────────────┼──────────────┼──────────────────────┼───────────────────┼────────┼───────┼────────┤\n",
       "│                  <span style=\"color: #008080; text-decoration-color: #008080; font-weight: bold\">931</span> │                  <span style=\"color: #008080; text-decoration-color: #008080; font-weight: bold\">0</span> │           <span style=\"color: #008080; text-decoration-color: #008080; font-weight: bold\">9</span> │           <span style=\"color: #008080; text-decoration-color: #008080; font-weight: bold\">0</span> │       <span style=\"color: #008080; text-decoration-color: #008080; font-weight: bold\">800415</span> │                   <span style=\"color: #008080; text-decoration-color: #008080; font-weight: bold\">20</span> │ <span style=\"color: #008000; text-decoration-color: #008000\">On-budget        </span> │ <span style=\"color: #008000; text-decoration-color: #008000\">0     </span> │  <span style=\"color: #008080; text-decoration-color: #008080; font-weight: bold\">1962</span> │ <span style=\"color: #008000; text-decoration-color: #008000\">0     </span> │\n",
       "│                  <span style=\"color: #008080; text-decoration-color: #008080; font-weight: bold\">931</span> │                  <span style=\"color: #008080; text-decoration-color: #008080; font-weight: bold\">0</span> │           <span style=\"color: #008080; text-decoration-color: #008080; font-weight: bold\">9</span> │           <span style=\"color: #008080; text-decoration-color: #008080; font-weight: bold\">0</span> │       <span style=\"color: #008080; text-decoration-color: #008080; font-weight: bold\">800415</span> │                   <span style=\"color: #008080; text-decoration-color: #008080; font-weight: bold\">20</span> │ <span style=\"color: #008000; text-decoration-color: #008000\">On-budget        </span> │ <span style=\"color: #008000; text-decoration-color: #008000\">0     </span> │  <span style=\"color: #008080; text-decoration-color: #008080; font-weight: bold\">1963</span> │ <span style=\"color: #008000; text-decoration-color: #008000\">0     </span> │\n",
       "│                  <span style=\"color: #008080; text-decoration-color: #008080; font-weight: bold\">931</span> │                  <span style=\"color: #008080; text-decoration-color: #008080; font-weight: bold\">0</span> │           <span style=\"color: #008080; text-decoration-color: #008080; font-weight: bold\">9</span> │           <span style=\"color: #008080; text-decoration-color: #008080; font-weight: bold\">0</span> │       <span style=\"color: #008080; text-decoration-color: #008080; font-weight: bold\">800415</span> │                   <span style=\"color: #008080; text-decoration-color: #008080; font-weight: bold\">20</span> │ <span style=\"color: #008000; text-decoration-color: #008000\">On-budget        </span> │ <span style=\"color: #008000; text-decoration-color: #008000\">0     </span> │  <span style=\"color: #008080; text-decoration-color: #008080; font-weight: bold\">1964</span> │ <span style=\"color: #008000; text-decoration-color: #008000\">0     </span> │\n",
       "│                  <span style=\"color: #008080; text-decoration-color: #008080; font-weight: bold\">931</span> │                  <span style=\"color: #008080; text-decoration-color: #008080; font-weight: bold\">0</span> │           <span style=\"color: #008080; text-decoration-color: #008080; font-weight: bold\">9</span> │           <span style=\"color: #008080; text-decoration-color: #008080; font-weight: bold\">0</span> │       <span style=\"color: #008080; text-decoration-color: #008080; font-weight: bold\">800415</span> │                   <span style=\"color: #008080; text-decoration-color: #008080; font-weight: bold\">20</span> │ <span style=\"color: #008000; text-decoration-color: #008000\">On-budget        </span> │ <span style=\"color: #008000; text-decoration-color: #008000\">0     </span> │  <span style=\"color: #008080; text-decoration-color: #008080; font-weight: bold\">1965</span> │ <span style=\"color: #008000; text-decoration-color: #008000\">0     </span> │\n",
       "│                  <span style=\"color: #008080; text-decoration-color: #008080; font-weight: bold\">931</span> │                  <span style=\"color: #008080; text-decoration-color: #008080; font-weight: bold\">0</span> │           <span style=\"color: #008080; text-decoration-color: #008080; font-weight: bold\">9</span> │           <span style=\"color: #008080; text-decoration-color: #008080; font-weight: bold\">0</span> │       <span style=\"color: #008080; text-decoration-color: #008080; font-weight: bold\">800415</span> │                   <span style=\"color: #008080; text-decoration-color: #008080; font-weight: bold\">20</span> │ <span style=\"color: #008000; text-decoration-color: #008000\">On-budget        </span> │ <span style=\"color: #008000; text-decoration-color: #008000\">0     </span> │  <span style=\"color: #008080; text-decoration-color: #008080; font-weight: bold\">1966</span> │ <span style=\"color: #008000; text-decoration-color: #008000\">0     </span> │\n",
       "│                  <span style=\"color: #008080; text-decoration-color: #008080; font-weight: bold\">931</span> │                  <span style=\"color: #008080; text-decoration-color: #008080; font-weight: bold\">0</span> │           <span style=\"color: #008080; text-decoration-color: #008080; font-weight: bold\">9</span> │           <span style=\"color: #008080; text-decoration-color: #008080; font-weight: bold\">0</span> │       <span style=\"color: #008080; text-decoration-color: #008080; font-weight: bold\">800415</span> │                   <span style=\"color: #008080; text-decoration-color: #008080; font-weight: bold\">20</span> │ <span style=\"color: #008000; text-decoration-color: #008000\">On-budget        </span> │ <span style=\"color: #008000; text-decoration-color: #008000\">0     </span> │  <span style=\"color: #008080; text-decoration-color: #008080; font-weight: bold\">1967</span> │ <span style=\"color: #008000; text-decoration-color: #008000\">0     </span> │\n",
       "│                  <span style=\"color: #008080; text-decoration-color: #008080; font-weight: bold\">931</span> │                  <span style=\"color: #008080; text-decoration-color: #008080; font-weight: bold\">0</span> │           <span style=\"color: #008080; text-decoration-color: #008080; font-weight: bold\">9</span> │           <span style=\"color: #008080; text-decoration-color: #008080; font-weight: bold\">0</span> │       <span style=\"color: #008080; text-decoration-color: #008080; font-weight: bold\">800415</span> │                   <span style=\"color: #008080; text-decoration-color: #008080; font-weight: bold\">20</span> │ <span style=\"color: #008000; text-decoration-color: #008000\">On-budget        </span> │ <span style=\"color: #008000; text-decoration-color: #008000\">0     </span> │  <span style=\"color: #008080; text-decoration-color: #008080; font-weight: bold\">1968</span> │ <span style=\"color: #008000; text-decoration-color: #008000\">0     </span> │\n",
       "│                  <span style=\"color: #008080; text-decoration-color: #008080; font-weight: bold\">931</span> │                  <span style=\"color: #008080; text-decoration-color: #008080; font-weight: bold\">0</span> │           <span style=\"color: #008080; text-decoration-color: #008080; font-weight: bold\">9</span> │           <span style=\"color: #008080; text-decoration-color: #008080; font-weight: bold\">0</span> │       <span style=\"color: #008080; text-decoration-color: #008080; font-weight: bold\">800415</span> │                   <span style=\"color: #008080; text-decoration-color: #008080; font-weight: bold\">20</span> │ <span style=\"color: #008000; text-decoration-color: #008000\">On-budget        </span> │ <span style=\"color: #008000; text-decoration-color: #008000\">0     </span> │  <span style=\"color: #008080; text-decoration-color: #008080; font-weight: bold\">1969</span> │ <span style=\"color: #008000; text-decoration-color: #008000\">0     </span> │\n",
       "│                  <span style=\"color: #008080; text-decoration-color: #008080; font-weight: bold\">931</span> │                  <span style=\"color: #008080; text-decoration-color: #008080; font-weight: bold\">0</span> │           <span style=\"color: #008080; text-decoration-color: #008080; font-weight: bold\">9</span> │           <span style=\"color: #008080; text-decoration-color: #008080; font-weight: bold\">0</span> │       <span style=\"color: #008080; text-decoration-color: #008080; font-weight: bold\">800415</span> │                   <span style=\"color: #008080; text-decoration-color: #008080; font-weight: bold\">20</span> │ <span style=\"color: #008000; text-decoration-color: #008000\">On-budget        </span> │ <span style=\"color: #008000; text-decoration-color: #008000\">0     </span> │  <span style=\"color: #008080; text-decoration-color: #008080; font-weight: bold\">1970</span> │ <span style=\"color: #008000; text-decoration-color: #008000\">0     </span> │\n",
       "│                  <span style=\"color: #008080; text-decoration-color: #008080; font-weight: bold\">931</span> │                  <span style=\"color: #008080; text-decoration-color: #008080; font-weight: bold\">0</span> │           <span style=\"color: #008080; text-decoration-color: #008080; font-weight: bold\">9</span> │           <span style=\"color: #008080; text-decoration-color: #008080; font-weight: bold\">0</span> │       <span style=\"color: #008080; text-decoration-color: #008080; font-weight: bold\">800415</span> │                   <span style=\"color: #008080; text-decoration-color: #008080; font-weight: bold\">20</span> │ <span style=\"color: #008000; text-decoration-color: #008000\">On-budget        </span> │ <span style=\"color: #008000; text-decoration-color: #008000\">0     </span> │  <span style=\"color: #008080; text-decoration-color: #008080; font-weight: bold\">1971</span> │ <span style=\"color: #008000; text-decoration-color: #008000\">0     </span> │\n",
       "│                    <span style=\"color: #7f7f7f; text-decoration-color: #7f7f7f\">…</span> │                  <span style=\"color: #7f7f7f; text-decoration-color: #7f7f7f\">…</span> │           <span style=\"color: #7f7f7f; text-decoration-color: #7f7f7f\">…</span> │           <span style=\"color: #7f7f7f; text-decoration-color: #7f7f7f\">…</span> │            <span style=\"color: #7f7f7f; text-decoration-color: #7f7f7f\">…</span> │                    <span style=\"color: #7f7f7f; text-decoration-color: #7f7f7f\">…</span> │ <span style=\"color: #7f7f7f; text-decoration-color: #7f7f7f\">…</span>                 │ <span style=\"color: #7f7f7f; text-decoration-color: #7f7f7f\">…</span>      │     <span style=\"color: #7f7f7f; text-decoration-color: #7f7f7f\">…</span> │ <span style=\"color: #7f7f7f; text-decoration-color: #7f7f7f\">…</span>      │\n",
       "└──────────────────────┴────────────────────┴─────────────┴─────────────┴──────────────┴──────────────────────┴───────────────────┴────────┴───────┴────────┘\n",
       "</pre>\n"
      ],
      "text/plain": [
       "┏━━━━━━━━━━━━━━━━━━━━━━┳━━━━━━━━━━━━━━━━━━━━┳━━━━━━━━━━━━━┳━━━━━━━━━━━━━┳━━━━━━━━━━━━━━┳━━━━━━━━━━━━━━━━━━━━━━┳━━━━━━━━━━━━━━━━━━━┳━━━━━━━━┳━━━━━━━┳━━━━━━━━┓\n",
       "┃\u001b[1m \u001b[0m\u001b[1mSource Category Code\u001b[0m\u001b[1m \u001b[0m┃\u001b[1m \u001b[0m\u001b[1mSource subcategory\u001b[0m\u001b[1m \u001b[0m┃\u001b[1m \u001b[0m\u001b[1mAgency code\u001b[0m\u001b[1m \u001b[0m┃\u001b[1m \u001b[0m\u001b[1mBureau code\u001b[0m\u001b[1m \u001b[0m┃\u001b[1m \u001b[0m\u001b[1mAccount code\u001b[0m\u001b[1m \u001b[0m┃\u001b[1m \u001b[0m\u001b[1mTreasury Agency code\u001b[0m\u001b[1m \u001b[0m┃\u001b[1m \u001b[0m\u001b[1mOn- or off-budget\u001b[0m\u001b[1m \u001b[0m┃\u001b[1m \u001b[0m\u001b[1mTQ\u001b[0m\u001b[1m    \u001b[0m\u001b[1m \u001b[0m┃\u001b[1m \u001b[0m\u001b[1myear\u001b[0m\u001b[1m \u001b[0m\u001b[1m \u001b[0m┃\u001b[1m \u001b[0m\u001b[1mbudget\u001b[0m\u001b[1m \u001b[0m┃\n",
       "┡━━━━━━━━━━━━━━━━━━━━━━╇━━━━━━━━━━━━━━━━━━━━╇━━━━━━━━━━━━━╇━━━━━━━━━━━━━╇━━━━━━━━━━━━━━╇━━━━━━━━━━━━━━━━━━━━━━╇━━━━━━━━━━━━━━━━━━━╇━━━━━━━━╇━━━━━━━╇━━━━━━━━┩\n",
       "│ \u001b[2mint64\u001b[0m                │ \u001b[2mint64\u001b[0m              │ \u001b[2mint64\u001b[0m       │ \u001b[2mint64\u001b[0m       │ \u001b[2mint64\u001b[0m        │ \u001b[2mint64\u001b[0m                │ \u001b[2mstring\u001b[0m            │ \u001b[2mstring\u001b[0m │ \u001b[2mint16\u001b[0m │ \u001b[2mstring\u001b[0m │\n",
       "├──────────────────────┼────────────────────┼─────────────┼─────────────┼──────────────┼──────────────────────┼───────────────────┼────────┼───────┼────────┤\n",
       "│                  \u001b[1;36m931\u001b[0m │                  \u001b[1;36m0\u001b[0m │           \u001b[1;36m9\u001b[0m │           \u001b[1;36m0\u001b[0m │       \u001b[1;36m800415\u001b[0m │                   \u001b[1;36m20\u001b[0m │ \u001b[32mOn-budget        \u001b[0m │ \u001b[32m0     \u001b[0m │  \u001b[1;36m1962\u001b[0m │ \u001b[32m0     \u001b[0m │\n",
       "│                  \u001b[1;36m931\u001b[0m │                  \u001b[1;36m0\u001b[0m │           \u001b[1;36m9\u001b[0m │           \u001b[1;36m0\u001b[0m │       \u001b[1;36m800415\u001b[0m │                   \u001b[1;36m20\u001b[0m │ \u001b[32mOn-budget        \u001b[0m │ \u001b[32m0     \u001b[0m │  \u001b[1;36m1963\u001b[0m │ \u001b[32m0     \u001b[0m │\n",
       "│                  \u001b[1;36m931\u001b[0m │                  \u001b[1;36m0\u001b[0m │           \u001b[1;36m9\u001b[0m │           \u001b[1;36m0\u001b[0m │       \u001b[1;36m800415\u001b[0m │                   \u001b[1;36m20\u001b[0m │ \u001b[32mOn-budget        \u001b[0m │ \u001b[32m0     \u001b[0m │  \u001b[1;36m1964\u001b[0m │ \u001b[32m0     \u001b[0m │\n",
       "│                  \u001b[1;36m931\u001b[0m │                  \u001b[1;36m0\u001b[0m │           \u001b[1;36m9\u001b[0m │           \u001b[1;36m0\u001b[0m │       \u001b[1;36m800415\u001b[0m │                   \u001b[1;36m20\u001b[0m │ \u001b[32mOn-budget        \u001b[0m │ \u001b[32m0     \u001b[0m │  \u001b[1;36m1965\u001b[0m │ \u001b[32m0     \u001b[0m │\n",
       "│                  \u001b[1;36m931\u001b[0m │                  \u001b[1;36m0\u001b[0m │           \u001b[1;36m9\u001b[0m │           \u001b[1;36m0\u001b[0m │       \u001b[1;36m800415\u001b[0m │                   \u001b[1;36m20\u001b[0m │ \u001b[32mOn-budget        \u001b[0m │ \u001b[32m0     \u001b[0m │  \u001b[1;36m1966\u001b[0m │ \u001b[32m0     \u001b[0m │\n",
       "│                  \u001b[1;36m931\u001b[0m │                  \u001b[1;36m0\u001b[0m │           \u001b[1;36m9\u001b[0m │           \u001b[1;36m0\u001b[0m │       \u001b[1;36m800415\u001b[0m │                   \u001b[1;36m20\u001b[0m │ \u001b[32mOn-budget        \u001b[0m │ \u001b[32m0     \u001b[0m │  \u001b[1;36m1967\u001b[0m │ \u001b[32m0     \u001b[0m │\n",
       "│                  \u001b[1;36m931\u001b[0m │                  \u001b[1;36m0\u001b[0m │           \u001b[1;36m9\u001b[0m │           \u001b[1;36m0\u001b[0m │       \u001b[1;36m800415\u001b[0m │                   \u001b[1;36m20\u001b[0m │ \u001b[32mOn-budget        \u001b[0m │ \u001b[32m0     \u001b[0m │  \u001b[1;36m1968\u001b[0m │ \u001b[32m0     \u001b[0m │\n",
       "│                  \u001b[1;36m931\u001b[0m │                  \u001b[1;36m0\u001b[0m │           \u001b[1;36m9\u001b[0m │           \u001b[1;36m0\u001b[0m │       \u001b[1;36m800415\u001b[0m │                   \u001b[1;36m20\u001b[0m │ \u001b[32mOn-budget        \u001b[0m │ \u001b[32m0     \u001b[0m │  \u001b[1;36m1969\u001b[0m │ \u001b[32m0     \u001b[0m │\n",
       "│                  \u001b[1;36m931\u001b[0m │                  \u001b[1;36m0\u001b[0m │           \u001b[1;36m9\u001b[0m │           \u001b[1;36m0\u001b[0m │       \u001b[1;36m800415\u001b[0m │                   \u001b[1;36m20\u001b[0m │ \u001b[32mOn-budget        \u001b[0m │ \u001b[32m0     \u001b[0m │  \u001b[1;36m1970\u001b[0m │ \u001b[32m0     \u001b[0m │\n",
       "│                  \u001b[1;36m931\u001b[0m │                  \u001b[1;36m0\u001b[0m │           \u001b[1;36m9\u001b[0m │           \u001b[1;36m0\u001b[0m │       \u001b[1;36m800415\u001b[0m │                   \u001b[1;36m20\u001b[0m │ \u001b[32mOn-budget        \u001b[0m │ \u001b[32m0     \u001b[0m │  \u001b[1;36m1971\u001b[0m │ \u001b[32m0     \u001b[0m │\n",
       "│                    \u001b[2m…\u001b[0m │                  \u001b[2m…\u001b[0m │           \u001b[2m…\u001b[0m │           \u001b[2m…\u001b[0m │            \u001b[2m…\u001b[0m │                    \u001b[2m…\u001b[0m │ \u001b[2m…\u001b[0m                 │ \u001b[2m…\u001b[0m      │     \u001b[2m…\u001b[0m │ \u001b[2m…\u001b[0m      │\n",
       "└──────────────────────┴────────────────────┴─────────────┴─────────────┴──────────────┴──────────────────────┴───────────────────┴────────┴───────┴────────┘\n"
      ]
     },
     "metadata": {},
     "output_type": "display_data"
    }
   ],
   "source": [
    "# | echo: false\n",
    "print(b.execute(\"text\"))"
   ]
  },
  {
   "cell_type": "markdown",
   "id": "71ad6927",
   "metadata": {},
   "source": [
    "#### AST"
   ]
  },
  {
   "cell_type": "code",
   "execution_count": 35,
   "id": "58211433",
   "metadata": {
    "execution": {
     "iopub.execute_input": "2024-03-12T19:52:30.166671Z",
     "iopub.status.busy": "2024-03-12T19:52:30.166598Z",
     "iopub.status.idle": "2024-03-12T19:52:30.170086Z",
     "shell.execute_reply": "2024-03-12T19:52:30.169885Z"
    }
   },
   "outputs": [
    {
     "data": {
      "text/plain": [
       "r0 := DatabaseTable: budget​\n",
       "  Source Category Code int64\n",
       "  Source subcategory   int64\n",
       "  Agency code          int64\n",
       "  Bureau code          int64\n",
       "  Account code         int64\n",
       "  Treasury Agency code int64\n",
       "  On- or off-budget    string\n",
       "  1962                 string\n",
       "  1963                 string\n",
       "  1964                 string\n",
       "  1965                 string\n",
       "  1966                 string\n",
       "  1967                 string\n",
       "  1968                 string\n",
       "  1969                 string\n",
       "  1970                 string\n",
       "  1971                 string\n",
       "  1972                 string\n",
       "  1973                 string\n",
       "  1974                 string\n",
       "  1975                 string\n",
       "  1976                 string\n",
       "  TQ                   string\n",
       "  1977                 string\n",
       "  1978                 string\n",
       "  1979                 string\n",
       "  1980                 string\n",
       "  1981                 string\n",
       "  1982                 string\n",
       "  1983                 string\n",
       "  1984                 string\n",
       "  1985                 string\n",
       "  1986                 string\n",
       "  1987                 string\n",
       "  1988                 string\n",
       "  1989                 string\n",
       "  1990                 string\n",
       "  1991                 string\n",
       "  1992                 string\n",
       "  1993                 string\n",
       "  1994                 string\n",
       "  1995                 string\n",
       "  1996                 string\n",
       "  1997                 string\n",
       "  1998                 string\n",
       "  1999                 string\n",
       "  2000                 string\n",
       "  2001                 string\n",
       "  2002                 string\n",
       "  2003                 string\n",
       "  2004                 string\n",
       "  2005                 string\n",
       "  2006                 string\n",
       "  2007                 string\n",
       "  2008                 string\n",
       "  2009                 string\n",
       "  2010                 string\n",
       "  2011                 string\n",
       "  2012                 string\n",
       "  2013                 string\n",
       "  2014                 string\n",
       "  2015                 string\n",
       "  2016                 string\n",
       "  2017                 string\n",
       "  2018                 string\n",
       "  2019                 string\n",
       "  2020                 string\n",
       "\n",
       "r1 := Project[r0]\n",
       "  Source Category Code: r0['Source Category Code']\n",
       "  Source subcategory:   r0['Source subcategory']\n",
       "  Agency code:          r0['Agency code']\n",
       "  Bureau code:          r0['Bureau code']\n",
       "  Account code:         r0['Account code']\n",
       "  Treasury Agency code: r0['Treasury Agency code']\n",
       "  On- or off-budget:    r0['On- or off-budget']\n",
       "  TQ:                   r0.TQ\n",
       "  __pivoted__:          Unnest(Array([StructColumn(names=['year', 'budget'], values=[1962, r0['1962']]), StructColumn(names=['year', 'budget'], values=[1963, r0['1963']]), StructColumn(names=['year', 'budget'], values=[1964, r0['1964']]), StructColumn(names=['year', 'budget'], values=[1965, r0['1965']]), StructColumn(names=['year', 'budget'], values=[1966, r0['1966']]), StructColumn(names=['year', 'budget'], values=[1967, r0['1967']]), StructColumn(names=['year', 'budget'], values=[1968, r0['1968']]), StructColumn(names=['year', 'budget'], values=[1969, r0['1969']]), StructColumn(names=['year', 'budget'], values=[1970, r0['1970']]), StructColumn(names=['year', 'budget'], values=[1971, r0['1971']]), StructColumn(names=['year', 'budget'], values=[1972, r0['1972']]), StructColumn(names=['year', 'budget'], values=[1973, r0['1973']]), StructColumn(names=['year', 'budget'], values=[1974, r0['1974']]), StructColumn(names=['year', 'budget'], values=[1975, r0['1975']]), StructColumn(names=['year', 'budget'], values=[1976, r0['1976']]), StructColumn(names=['year', 'budget'], values=[1977, r0['1977']]), StructColumn(names=['year', 'budget'], values=[1978, r0['1978']]), StructColumn(names=['year', 'budget'], values=[1979, r0['1979']]), StructColumn(names=['year', 'budget'], values=[1980, r0['1980']]), StructColumn(names=['year', 'budget'], values=[1981, r0['1981']]), StructColumn(names=['year', 'budget'], values=[1982, r0['1982']]), StructColumn(names=['year', 'budget'], values=[1983, r0['1983']]), StructColumn(names=['year', 'budget'], values=[1984, r0['1984']]), StructColumn(names=['year', 'budget'], values=[1985, r0['1985']]), StructColumn(names=['year', 'budget'], values=[1986, r0['1986']]), StructColumn(names=['year', 'budget'], values=[1987, r0['1987']]), StructColumn(names=['year', 'budget'], values=[1988, r0['1988']]), StructColumn(names=['year', 'budget'], values=[1989, r0['1989']]), StructColumn(names=['year', 'budget'], values=[1990, r0['1990']]), StructColumn(names=['year', 'budget'], values=[1991, r0['1991']]), StructColumn(names=['year', 'budget'], values=[1992, r0['1992']]), StructColumn(names=['year', 'budget'], values=[1993, r0['1993']]), StructColumn(names=['year', 'budget'], values=[1994, r0['1994']]), StructColumn(names=['year', 'budget'], values=[1995, r0['1995']]), StructColumn(names=['year', 'budget'], values=[1996, r0['1996']]), StructColumn(names=['year', 'budget'], values=[1997, r0['1997']]), StructColumn(names=['year', 'budget'], values=[1998, r0['1998']]), StructColumn(names=['year', 'budget'], values=[1999, r0['1999']]), StructColumn(names=['year', 'budget'], values=[2000, r0['2000']]), StructColumn(names=['year', 'budget'], values=[2001, r0['2001']]), StructColumn(names=['year', 'budget'], values=[2002, r0['2002']]), StructColumn(names=['year', 'budget'], values=[2003, r0['2003']]), StructColumn(names=['year', 'budget'], values=[2004, r0['2004']]), StructColumn(names=['year', 'budget'], values=[2005, r0['2005']]), StructColumn(names=['year', 'budget'], values=[2006, r0['2006']]), StructColumn(names=['year', 'budget'], values=[2007, r0['2007']]), StructColumn(names=['year', 'budget'], values=[2008, r0['2008']]), StructColumn(names=['year', 'budget'], values=[2009, r0['2009']]), StructColumn(names=['year', 'budget'], values=[2010, r0['2010']]), StructColumn(names=['year', 'budget'], values=[2011, r0['2011']]), StructColumn(names=['year', 'budget'], values=[2012, r0['2012']]), StructColumn(names=['year', 'budget'], values=[2013, r0['2013']]), StructColumn(names=['year', 'budget'], values=[2014, r0['2014']]), StructColumn(names=['year', 'budget'], values=[2015, r0['2015']]), StructColumn(names=['year', 'budget'], values=[2016, r0['2016']]), StructColumn(names=['year', 'budget'], values=[2017, r0['2017']]), StructColumn(names=['year', 'budget'], values=[2018, r0['2018']]), StructColumn(names=['year', 'budget'], values=[2019, r0['2019']]), StructColumn(names=['year', 'budget'], values=[2020, r0['2020']])]))\n",
       "\n",
       "Project[r1]\n",
       "  Source Category Code: r1['Source Category Code']\n",
       "  Source subcategory:   r1['Source subcategory']\n",
       "  Agency code:          r1['Agency code']\n",
       "  Bureau code:          r1['Bureau code']\n",
       "  Account code:         r1['Account code']\n",
       "  Treasury Agency code: r1['Treasury Agency code']\n",
       "  On- or off-budget:    r1['On- or off-budget']\n",
       "  TQ:                   r1.TQ\n",
       "  year:                 StructField(r1.__pivoted__, field='year')\n",
       "  budget:               StructField(r1.__pivoted__, field='budget')"
      ]
     },
     "execution_count": 35,
     "metadata": {},
     "output_type": "execute_result"
    }
   ],
   "source": [
    "# | echo: false\n",
    "b"
   ]
  },
  {
   "cell_type": "markdown",
   "id": "fead065b",
   "metadata": {},
   "source": [
    "#### AST graph\n"
   ]
  },
  {
   "cell_type": "markdown",
   "id": "3b13a9d8",
   "metadata": {},
   "source": [
    "Too large to show"
   ]
  },
  {
   "cell_type": "markdown",
   "id": "f330fd4d",
   "metadata": {},
   "source": [
    ":::"
   ]
  },
  {
   "cell_type": "code",
   "execution_count": 36,
   "id": "fb47ad94",
   "metadata": {
    "execution": {
     "iopub.execute_input": "2024-03-12T19:52:30.171436Z",
     "iopub.status.busy": "2024-03-12T19:52:30.171370Z",
     "iopub.status.idle": "2024-03-12T19:52:30.211463Z",
     "shell.execute_reply": "2024-03-12T19:52:30.211228Z"
    },
    "lines_to_next_cell": 2
   },
   "outputs": [],
   "source": [
    "# | echo: false\n",
    "from vinyl.examples import budget\n",
    "\n",
    "budget = budget()\n",
    "\n",
    "budget = budget.drop([col for col in budget.columns if \"name\" in col])\n",
    "budget = budget._create_view(\"budget\")"
   ]
  },
  {
   "cell_type": "code",
   "execution_count": 37,
   "id": "af7ea579",
   "metadata": {
    "execution": {
     "iopub.execute_input": "2024-03-12T19:52:30.212772Z",
     "iopub.status.busy": "2024-03-12T19:52:30.212701Z",
     "iopub.status.idle": "2024-03-12T19:52:30.222953Z",
     "shell.execute_reply": "2024-03-12T19:52:30.222732Z"
    }
   },
   "outputs": [],
   "source": [
    "#| echo: false\n",
    "from vinyl.examples import barley\n",
    "\n",
    "barley = barley()"
   ]
  },
  {
   "cell_type": "code",
   "execution_count": 38,
   "id": "a1cc5f2c",
   "metadata": {
    "execution": {
     "iopub.execute_input": "2024-03-12T19:52:30.224231Z",
     "iopub.status.busy": "2024-03-12T19:52:30.224160Z",
     "iopub.status.idle": "2024-03-12T19:52:30.270849Z",
     "shell.execute_reply": "2024-03-12T19:52:30.270602Z"
    },
    "lines_to_next_cell": 2
   },
   "outputs": [],
   "source": [
    "with barley as b:\n",
    "    b.pivot(colnames_from=\"year\", values_from=\"yield\")"
   ]
  },
  {
   "cell_type": "markdown",
   "id": "cd8e71c8",
   "metadata": {},
   "source": [
    "::: {.panel-tabset}"
   ]
  },
  {
   "cell_type": "markdown",
   "id": "f7673c80",
   "metadata": {},
   "source": [
    "#### SQL\n"
   ]
  },
  {
   "cell_type": "code",
   "execution_count": 39,
   "id": "b0773825",
   "metadata": {
    "execution": {
     "iopub.execute_input": "2024-03-12T19:52:30.272310Z",
     "iopub.status.busy": "2024-03-12T19:52:30.272226Z",
     "iopub.status.idle": "2024-03-12T19:52:30.277116Z",
     "shell.execute_reply": "2024-03-12T19:52:30.276926Z"
    }
   },
   "outputs": [
    {
     "data": {
      "text/html": [
       "<pre style=\"white-space:pre;overflow-x:auto;line-height:normal;font-family:Menlo,'DejaVu Sans Mono',consolas,'Courier New',monospace\">SELECT\n",
       "  <span style=\"color: #008000; text-decoration-color: #008000\">\"t0\"</span>.<span style=\"color: #008000; text-decoration-color: #008000\">\"variety\"</span>,\n",
       "  <span style=\"color: #008000; text-decoration-color: #008000\">\"t0\"</span>.<span style=\"color: #008000; text-decoration-color: #008000\">\"site\"</span>,\n",
       "  <span style=\"color: #800080; text-decoration-color: #800080; font-weight: bold\">FIRST</span><span style=\"font-weight: bold\">(</span><span style=\"color: #008000; text-decoration-color: #008000\">\"t0\"</span>.<span style=\"color: #008000; text-decoration-color: #008000\">\"yield\"</span><span style=\"font-weight: bold\">)</span> <span style=\"color: #800080; text-decoration-color: #800080; font-weight: bold\">FILTER</span><span style=\"font-weight: bold\">(</span>WHERE\n",
       "    <span style=\"color: #008000; text-decoration-color: #008000\">\"t0\"</span>.<span style=\"color: #008000; text-decoration-color: #008000\">\"year\"</span> = <span style=\"color: #800080; text-decoration-color: #800080; font-weight: bold\">CAST</span><span style=\"font-weight: bold\">(</span><span style=\"color: #008080; text-decoration-color: #008080; font-weight: bold\">1931</span> AS SMALLINT<span style=\"font-weight: bold\">))</span> AS <span style=\"color: #008000; text-decoration-color: #008000\">\"1931\"</span>,\n",
       "  <span style=\"color: #800080; text-decoration-color: #800080; font-weight: bold\">FIRST</span><span style=\"font-weight: bold\">(</span><span style=\"color: #008000; text-decoration-color: #008000\">\"t0\"</span>.<span style=\"color: #008000; text-decoration-color: #008000\">\"yield\"</span><span style=\"font-weight: bold\">)</span> <span style=\"color: #800080; text-decoration-color: #800080; font-weight: bold\">FILTER</span><span style=\"font-weight: bold\">(</span>WHERE\n",
       "    <span style=\"color: #008000; text-decoration-color: #008000\">\"t0\"</span>.<span style=\"color: #008000; text-decoration-color: #008000\">\"year\"</span> = <span style=\"color: #800080; text-decoration-color: #800080; font-weight: bold\">CAST</span><span style=\"font-weight: bold\">(</span><span style=\"color: #008080; text-decoration-color: #008080; font-weight: bold\">1932</span> AS SMALLINT<span style=\"font-weight: bold\">))</span> AS <span style=\"color: #008000; text-decoration-color: #008000\">\"1932\"</span>\n",
       "FROM <span style=\"color: #008000; text-decoration-color: #008000\">\"barley\"</span> AS <span style=\"color: #008000; text-decoration-color: #008000\">\"t0\"</span>\n",
       "GROUP BY\n",
       "  <span style=\"color: #008080; text-decoration-color: #008080; font-weight: bold\">1</span>,\n",
       "  <span style=\"color: #008080; text-decoration-color: #008080; font-weight: bold\">2</span>\n",
       "</pre>\n"
      ],
      "text/plain": [
       "SELECT\n",
       "  \u001b[32m\"t0\"\u001b[0m.\u001b[32m\"variety\"\u001b[0m,\n",
       "  \u001b[32m\"t0\"\u001b[0m.\u001b[32m\"site\"\u001b[0m,\n",
       "  \u001b[1;35mFIRST\u001b[0m\u001b[1m(\u001b[0m\u001b[32m\"t0\"\u001b[0m.\u001b[32m\"yield\"\u001b[0m\u001b[1m)\u001b[0m \u001b[1;35mFILTER\u001b[0m\u001b[1m(\u001b[0mWHERE\n",
       "    \u001b[32m\"t0\"\u001b[0m.\u001b[32m\"year\"\u001b[0m = \u001b[1;35mCAST\u001b[0m\u001b[1m(\u001b[0m\u001b[1;36m1931\u001b[0m AS SMALLINT\u001b[1m)\u001b[0m\u001b[1m)\u001b[0m AS \u001b[32m\"1931\"\u001b[0m,\n",
       "  \u001b[1;35mFIRST\u001b[0m\u001b[1m(\u001b[0m\u001b[32m\"t0\"\u001b[0m.\u001b[32m\"yield\"\u001b[0m\u001b[1m)\u001b[0m \u001b[1;35mFILTER\u001b[0m\u001b[1m(\u001b[0mWHERE\n",
       "    \u001b[32m\"t0\"\u001b[0m.\u001b[32m\"year\"\u001b[0m = \u001b[1;35mCAST\u001b[0m\u001b[1m(\u001b[0m\u001b[1;36m1932\u001b[0m AS SMALLINT\u001b[1m)\u001b[0m\u001b[1m)\u001b[0m AS \u001b[32m\"1932\"\u001b[0m\n",
       "FROM \u001b[32m\"barley\"\u001b[0m AS \u001b[32m\"t0\"\u001b[0m\n",
       "GROUP BY\n",
       "  \u001b[1;36m1\u001b[0m,\n",
       "  \u001b[1;36m2\u001b[0m\n"
      ]
     },
     "metadata": {},
     "output_type": "display_data"
    }
   ],
   "source": [
    "# | echo: false\n",
    "print(b.to_sql())"
   ]
  },
  {
   "cell_type": "markdown",
   "id": "61a7106c",
   "metadata": {},
   "source": [
    "#### Result"
   ]
  },
  {
   "cell_type": "code",
   "execution_count": 40,
   "id": "bd5164ce",
   "metadata": {
    "execution": {
     "iopub.execute_input": "2024-03-12T19:52:30.278310Z",
     "iopub.status.busy": "2024-03-12T19:52:30.278232Z",
     "iopub.status.idle": "2024-03-12T19:52:30.287442Z",
     "shell.execute_reply": "2024-03-12T19:52:30.287235Z"
    }
   },
   "outputs": [
    {
     "data": {
      "text/html": [
       "<pre style=\"white-space:pre;overflow-x:auto;line-height:normal;font-family:Menlo,'DejaVu Sans Mono',consolas,'Courier New',monospace\">┏━━━━━━━━━━━┳━━━━━━━━━━━━━━━━━┳━━━━━━━━━━┳━━━━━━━━━━┓\n",
       "┃<span style=\"font-weight: bold\"> variety   </span>┃<span style=\"font-weight: bold\"> site            </span>┃<span style=\"font-weight: bold\"> 1931     </span>┃<span style=\"font-weight: bold\"> 1932     </span>┃\n",
       "┡━━━━━━━━━━━╇━━━━━━━━━━━━━━━━━╇━━━━━━━━━━╇━━━━━━━━━━┩\n",
       "│ <span style=\"color: #7f7f7f; text-decoration-color: #7f7f7f\">string</span>    │ <span style=\"color: #7f7f7f; text-decoration-color: #7f7f7f\">string</span>          │ <span style=\"color: #7f7f7f; text-decoration-color: #7f7f7f\">float64</span>  │ <span style=\"color: #7f7f7f; text-decoration-color: #7f7f7f\">float64</span>  │\n",
       "├───────────┼─────────────────┼──────────┼──────────┤\n",
       "│ <span style=\"color: #008000; text-decoration-color: #008000\">Glabron  </span> │ <span style=\"color: #008000; text-decoration-color: #008000\">Grand Rapids   </span> │ <span style=\"color: #008080; text-decoration-color: #008080; font-weight: bold\">29.13333</span> │ <span style=\"color: #008080; text-decoration-color: #008080; font-weight: bold\">14.43333</span> │\n",
       "│ <span style=\"color: #008000; text-decoration-color: #008000\">Svansota </span> │ <span style=\"color: #008000; text-decoration-color: #008000\">Grand Rapids   </span> │ <span style=\"color: #008080; text-decoration-color: #008080; font-weight: bold\">29.66667</span> │ <span style=\"color: #008080; text-decoration-color: #008080; font-weight: bold\">16.63333</span> │\n",
       "│ <span style=\"color: #008000; text-decoration-color: #008000\">Velvet   </span> │ <span style=\"color: #008000; text-decoration-color: #008000\">Duluth         </span> │ <span style=\"color: #008080; text-decoration-color: #008080; font-weight: bold\">26.30000</span> │ <span style=\"color: #008080; text-decoration-color: #008080; font-weight: bold\">22.46667</span> │\n",
       "│ <span style=\"color: #008000; text-decoration-color: #008000\">No. 457  </span> │ <span style=\"color: #008000; text-decoration-color: #008000\">Grand Rapids   </span> │ <span style=\"color: #008080; text-decoration-color: #008080; font-weight: bold\">32.16667</span> │ <span style=\"color: #008080; text-decoration-color: #008080; font-weight: bold\">19.46667</span> │\n",
       "│ <span style=\"color: #008000; text-decoration-color: #008000\">No. 462  </span> │ <span style=\"color: #008000; text-decoration-color: #008000\">Grand Rapids   </span> │ <span style=\"color: #008080; text-decoration-color: #008080; font-weight: bold\">24.93334</span> │ <span style=\"color: #008080; text-decoration-color: #008080; font-weight: bold\">19.90000</span> │\n",
       "│ <span style=\"color: #008000; text-decoration-color: #008000\">No. 475  </span> │ <span style=\"color: #008000; text-decoration-color: #008000\">Waseca         </span> │ <span style=\"color: #008080; text-decoration-color: #008080; font-weight: bold\">46.76667</span> │ <span style=\"color: #008080; text-decoration-color: #008080; font-weight: bold\">41.26667</span> │\n",
       "│ <span style=\"color: #008000; text-decoration-color: #008000\">No. 475  </span> │ <span style=\"color: #008000; text-decoration-color: #008000\">Crookston      </span> │ <span style=\"color: #008080; text-decoration-color: #008080; font-weight: bold\">44.10000</span> │ <span style=\"color: #008080; text-decoration-color: #008080; font-weight: bold\">32.13333</span> │\n",
       "│ <span style=\"color: #008000; text-decoration-color: #008000\">Manchuria</span> │ <span style=\"color: #008000; text-decoration-color: #008000\">University Farm</span> │ <span style=\"color: #008080; text-decoration-color: #008080; font-weight: bold\">27.00000</span> │ <span style=\"color: #008080; text-decoration-color: #008080; font-weight: bold\">26.90000</span> │\n",
       "│ <span style=\"color: #008000; text-decoration-color: #008000\">Glabron  </span> │ <span style=\"color: #008000; text-decoration-color: #008000\">Morris         </span> │ <span style=\"color: #008080; text-decoration-color: #008080; font-weight: bold\">28.76667</span> │ <span style=\"color: #008080; text-decoration-color: #008080; font-weight: bold\">35.13333</span> │\n",
       "│ <span style=\"color: #008000; text-decoration-color: #008000\">Svansota </span> │ <span style=\"color: #008000; text-decoration-color: #008000\">Morris         </span> │ <span style=\"color: #008080; text-decoration-color: #008080; font-weight: bold\">25.76667</span> │ <span style=\"color: #008080; text-decoration-color: #008080; font-weight: bold\">35.03333</span> │\n",
       "│ <span style=\"color: #7f7f7f; text-decoration-color: #7f7f7f\">…</span>         │ <span style=\"color: #7f7f7f; text-decoration-color: #7f7f7f\">…</span>               │        <span style=\"color: #7f7f7f; text-decoration-color: #7f7f7f\">…</span> │        <span style=\"color: #7f7f7f; text-decoration-color: #7f7f7f\">…</span> │\n",
       "└───────────┴─────────────────┴──────────┴──────────┘\n",
       "</pre>\n"
      ],
      "text/plain": [
       "┏━━━━━━━━━━━┳━━━━━━━━━━━━━━━━━┳━━━━━━━━━━┳━━━━━━━━━━┓\n",
       "┃\u001b[1m \u001b[0m\u001b[1mvariety\u001b[0m\u001b[1m  \u001b[0m\u001b[1m \u001b[0m┃\u001b[1m \u001b[0m\u001b[1msite\u001b[0m\u001b[1m           \u001b[0m\u001b[1m \u001b[0m┃\u001b[1m \u001b[0m\u001b[1m1931\u001b[0m\u001b[1m    \u001b[0m\u001b[1m \u001b[0m┃\u001b[1m \u001b[0m\u001b[1m1932\u001b[0m\u001b[1m    \u001b[0m\u001b[1m \u001b[0m┃\n",
       "┡━━━━━━━━━━━╇━━━━━━━━━━━━━━━━━╇━━━━━━━━━━╇━━━━━━━━━━┩\n",
       "│ \u001b[2mstring\u001b[0m    │ \u001b[2mstring\u001b[0m          │ \u001b[2mfloat64\u001b[0m  │ \u001b[2mfloat64\u001b[0m  │\n",
       "├───────────┼─────────────────┼──────────┼──────────┤\n",
       "│ \u001b[32mGlabron  \u001b[0m │ \u001b[32mGrand Rapids   \u001b[0m │ \u001b[1;36m29.13333\u001b[0m │ \u001b[1;36m14.43333\u001b[0m │\n",
       "│ \u001b[32mSvansota \u001b[0m │ \u001b[32mGrand Rapids   \u001b[0m │ \u001b[1;36m29.66667\u001b[0m │ \u001b[1;36m16.63333\u001b[0m │\n",
       "│ \u001b[32mVelvet   \u001b[0m │ \u001b[32mDuluth         \u001b[0m │ \u001b[1;36m26.30000\u001b[0m │ \u001b[1;36m22.46667\u001b[0m │\n",
       "│ \u001b[32mNo. 457  \u001b[0m │ \u001b[32mGrand Rapids   \u001b[0m │ \u001b[1;36m32.16667\u001b[0m │ \u001b[1;36m19.46667\u001b[0m │\n",
       "│ \u001b[32mNo. 462  \u001b[0m │ \u001b[32mGrand Rapids   \u001b[0m │ \u001b[1;36m24.93334\u001b[0m │ \u001b[1;36m19.90000\u001b[0m │\n",
       "│ \u001b[32mNo. 475  \u001b[0m │ \u001b[32mWaseca         \u001b[0m │ \u001b[1;36m46.76667\u001b[0m │ \u001b[1;36m41.26667\u001b[0m │\n",
       "│ \u001b[32mNo. 475  \u001b[0m │ \u001b[32mCrookston      \u001b[0m │ \u001b[1;36m44.10000\u001b[0m │ \u001b[1;36m32.13333\u001b[0m │\n",
       "│ \u001b[32mManchuria\u001b[0m │ \u001b[32mUniversity Farm\u001b[0m │ \u001b[1;36m27.00000\u001b[0m │ \u001b[1;36m26.90000\u001b[0m │\n",
       "│ \u001b[32mGlabron  \u001b[0m │ \u001b[32mMorris         \u001b[0m │ \u001b[1;36m28.76667\u001b[0m │ \u001b[1;36m35.13333\u001b[0m │\n",
       "│ \u001b[32mSvansota \u001b[0m │ \u001b[32mMorris         \u001b[0m │ \u001b[1;36m25.76667\u001b[0m │ \u001b[1;36m35.03333\u001b[0m │\n",
       "│ \u001b[2m…\u001b[0m         │ \u001b[2m…\u001b[0m               │        \u001b[2m…\u001b[0m │        \u001b[2m…\u001b[0m │\n",
       "└───────────┴─────────────────┴──────────┴──────────┘\n"
      ]
     },
     "metadata": {},
     "output_type": "display_data"
    }
   ],
   "source": [
    "# | echo: false\n",
    "print(b.execute(\"text\"))"
   ]
  },
  {
   "cell_type": "markdown",
   "id": "c12eb229",
   "metadata": {},
   "source": [
    "#### AST"
   ]
  },
  {
   "cell_type": "code",
   "execution_count": 41,
   "id": "1d8effff",
   "metadata": {
    "execution": {
     "iopub.execute_input": "2024-03-12T19:52:30.288628Z",
     "iopub.status.busy": "2024-03-12T19:52:30.288556Z",
     "iopub.status.idle": "2024-03-12T19:52:30.290685Z",
     "shell.execute_reply": "2024-03-12T19:52:30.290501Z"
    }
   },
   "outputs": [
    {
     "data": {
      "text/plain": [
       "r0 := DatabaseTable: barley\n",
       "  yield   float64\n",
       "  variety string\n",
       "  year    int64\n",
       "  site    string\n",
       "\n",
       "Aggregate[r0]\n",
       "  groups:\n",
       "    variety: r0.variety\n",
       "    site:    r0.site\n",
       "  metrics:\n",
       "    1931: First(r0.yield, where=r0.year == 1931)\n",
       "    1932: First(r0.yield, where=r0.year == 1932)"
      ]
     },
     "execution_count": 41,
     "metadata": {},
     "output_type": "execute_result"
    }
   ],
   "source": [
    "# | echo: false\n",
    "b"
   ]
  },
  {
   "cell_type": "markdown",
   "id": "cdda2705",
   "metadata": {},
   "source": [
    "#### AST graph\n"
   ]
  },
  {
   "cell_type": "code",
   "execution_count": 42,
   "id": "ed0f2bf0",
   "metadata": {
    "execution": {
     "iopub.execute_input": "2024-03-12T19:52:30.291953Z",
     "iopub.status.busy": "2024-03-12T19:52:30.291892Z",
     "iopub.status.idle": "2024-03-12T19:52:31.152634Z",
     "shell.execute_reply": "2024-03-12T19:52:31.152352Z"
    }
   },
   "outputs": [
    {
     "data": {
      "text/html": [
       "<pre style=\"white-space:pre;overflow-x:auto;line-height:normal;font-family:Menlo,'DejaVu Sans Mono',consolas,'Courier New',monospace\">                                                                                           ╭────────────────────╮                                                            \n",
       "                                                                                           │ <span style=\"font-weight: bold\">Aggregate</span>          │                                                            \n",
       "                                                                                           │ <span style=\"font-weight: bold\">   </span><span style=\"font-weight: bold; font-style: italic\">variety: </span><span style=\"color: #ffaf00; text-decoration-color: #ffaf00; font-weight: bold; font-style: italic\">string</span> │                                                            \n",
       "         ╭────────────────────────────────────────────────────────────────────────────────▶│ <span style=\"font-weight: bold\">   </span><span style=\"font-weight: bold; font-style: italic\">site: </span><span style=\"color: #ffaf00; text-decoration-color: #ffaf00; font-weight: bold; font-style: italic\">string</span>    │◀────────────────────╮                                      \n",
       "         │                                                                                 │ <span style=\"font-weight: bold\">   </span><span style=\"font-weight: bold; font-style: italic\">1931: </span><span style=\"color: #808000; text-decoration-color: #808000; font-weight: bold; font-style: italic\">float64</span>   │                     │                                      \n",
       "         │                                                                                 │ <span style=\"font-weight: bold\">   </span><span style=\"font-weight: bold; font-style: italic\">1932: </span><span style=\"color: #808000; text-decoration-color: #808000; font-weight: bold; font-style: italic\">float64</span>   │                     │                                      \n",
       "         │                                                                                 ╰────────────────────╯                     │                                      \n",
       "         │                                                                                            ▲                               │                                      \n",
       "         │                                                             ╭──────────────────────────────│                               │                                      \n",
       "         │                                                             │                              │                               │                                      \n",
       "╭────────────────╮              ╭──────────────╮                       │                      ╭───────────────╮               ╭───────────────╮                              \n",
       "│ <span style=\"font-style: italic\">variety: </span><span style=\"font-weight: bold; font-style: italic\">Field</span> │              │ <span style=\"font-style: italic\">site: </span><span style=\"font-weight: bold; font-style: italic\">Field</span>  │                       │                      │ <span style=\"font-weight: bold\">First</span>         │               │ <span style=\"font-weight: bold\">First</span>         │                              \n",
       "│ <span style=\"font-style: italic\">   :: </span><span style=\"color: #ffaf00; text-decoration-color: #ffaf00; font-style: italic\">string</span>   │              │ <span style=\"font-style: italic\">   :: </span><span style=\"color: #ffaf00; text-decoration-color: #ffaf00; font-style: italic\">string</span> │───────────────────────╯               ╭─────▶│ <span style=\"font-weight: bold\">   :: </span><span style=\"color: #808000; text-decoration-color: #808000; font-weight: bold\">float64</span> │◀──────╮       │ <span style=\"font-weight: bold\">   :: </span><span style=\"color: #808000; text-decoration-color: #808000; font-weight: bold\">float64</span> │◀──────╮                      \n",
       "╰────────────────╯              ╰──────────────╯                                       │      ╰───────────────╯       │       ╰───────────────╯       │                      \n",
       "         ▲                              ▲                                              │              │               │               ▲               │                      \n",
       "         │                              │                                              │              │               │               │               │                      \n",
       "         │                              │                                              │              │               │               │               │                      \n",
       "         │                              │                                              │              │               │               │               │                      \n",
       "         │                              │                                      ╭───────────────╮      │       ╭───────────────╮       │       ╭───────────────╮              \n",
       "         │                              │                                      │ <span style=\"font-weight: bold\">Equals</span>        │      │       │ <span style=\"font-style: italic\">yield: </span><span style=\"font-weight: bold; font-style: italic\">Field</span>  │       │       │ <span style=\"font-weight: bold\">Equals</span>        │              \n",
       "         │                              │                               ╭─────▶│ <span style=\"font-weight: bold\">   :: </span><span style=\"color: #af00ff; text-decoration-color: #af00ff; font-weight: bold\">boolean</span> │      │       │ <span style=\"font-style: italic\">   :: </span><span style=\"color: #808000; text-decoration-color: #808000; font-style: italic\">float64</span> │───────╯       │ <span style=\"font-weight: bold\">   :: </span><span style=\"color: #af00ff; text-decoration-color: #af00ff; font-weight: bold\">boolean</span> │◀────╮        \n",
       "         │                              │                               │      ╰───────────────╯      │       ╰───────────────╯               ╰───────────────╯     │        \n",
       "         │                              │                               │              ▲              │               ▲                               ▲             │        \n",
       "         │                              │                               │              │              │               │                               │             │        \n",
       "         │                              │                               │              │              │               │                               │             │        \n",
       "         │                              ╰─────────────────────────────────────────────╮│              │               │                               │             │        \n",
       "         │                                                      ╭───────────────╮     ││       ╭─────────────╮        │                               │     ╭───────────────╮\n",
       "         │                                                      │ <span style=\"font-style: italic\">1931: </span><span style=\"font-weight: bold; font-style: italic\">Literal</span> │     ││       │ <span style=\"font-style: italic\">year: </span><span style=\"font-weight: bold; font-style: italic\">Field</span> │        │                               │     │ <span style=\"font-style: italic\">1932: </span><span style=\"font-weight: bold; font-style: italic\">Literal</span> │\n",
       "         │                                                      │ <span style=\"font-style: italic\">   :: </span><span style=\"color: #808000; text-decoration-color: #808000; font-style: italic\">int16</span>   │     │╰───────│ <span style=\"font-style: italic\">   :: </span><span style=\"color: #808000; text-decoration-color: #808000; font-style: italic\">int64</span> │────────│───────────────────────────────╯     │ <span style=\"font-style: italic\">   :: </span><span style=\"color: #808000; text-decoration-color: #808000; font-style: italic\">int16</span>   │\n",
       "         │                                                      ╰───────────────╯     │        ╰─────────────╯        │                                     ╰───────────────╯\n",
       "         │                                                                            │               ▲               │                                                      \n",
       "         │                                                                            │               │               │                                                      \n",
       "         │                                                                            │               │               │                                                      \n",
       "         │                                                                            │               │               │                                                      \n",
       "         │                                                                            │               │               │                                                      \n",
       "         │                                                                            ╰───╭───────────────────────╮   │                                                      \n",
       "         │                                                                                │ <span style=\"font-style: italic\">barley: </span><span style=\"font-weight: bold; font-style: italic\">DatabaseTable</span> │   │                                                      \n",
       "         │                                                                                │ <span style=\"font-style: italic\">   yield: </span><span style=\"color: #808000; text-decoration-color: #808000; font-style: italic\">float64</span>     │   │                                                      \n",
       "         ╰────────────────────────────────────────────────────────────────────────────────│ <span style=\"font-style: italic\">   variety: </span><span style=\"color: #ffaf00; text-decoration-color: #ffaf00; font-style: italic\">string</span>    │───╯                                                      \n",
       "                                                                                          │ <span style=\"font-style: italic\">   year: </span><span style=\"color: #808000; text-decoration-color: #808000; font-style: italic\">int64</span>        │                                                          \n",
       "                                                                                          │ <span style=\"font-style: italic\">   site: </span><span style=\"color: #ffaf00; text-decoration-color: #ffaf00; font-style: italic\">string</span>       │                                                          \n",
       "                                                                                          ╰───────────────────────╯                                                          \n",
       "</pre>\n"
      ],
      "text/plain": [
       "                                                                                           ╭────────────────────╮                                                            \n",
       "                                                                                           │ \u001b[1mAggregate\u001b[0m          │                                                            \n",
       "                                                                                           │ \u001b[1m   \u001b[0m\u001b[1;3mvariety: \u001b[0m\u001b[1;3;38;5;214mstring\u001b[0m │                                                            \n",
       "         ╭────────────────────────────────────────────────────────────────────────────────▶│ \u001b[1m   \u001b[0m\u001b[1;3msite: \u001b[0m\u001b[1;3;38;5;214mstring\u001b[0m    │◀────────────────────╮                                      \n",
       "         │                                                                                 │ \u001b[1m   \u001b[0m\u001b[1;3m1931: \u001b[0m\u001b[1;3;33mfloat64\u001b[0m   │                     │                                      \n",
       "         │                                                                                 │ \u001b[1m   \u001b[0m\u001b[1;3m1932: \u001b[0m\u001b[1;3;33mfloat64\u001b[0m   │                     │                                      \n",
       "         │                                                                                 ╰────────────────────╯                     │                                      \n",
       "         │                                                                                            ▲                               │                                      \n",
       "         │                                                             ╭──────────────────────────────│                               │                                      \n",
       "         │                                                             │                              │                               │                                      \n",
       "╭────────────────╮              ╭──────────────╮                       │                      ╭───────────────╮               ╭───────────────╮                              \n",
       "│ \u001b[3mvariety: \u001b[0m\u001b[1;3mField\u001b[0m │              │ \u001b[3msite: \u001b[0m\u001b[1;3mField\u001b[0m  │                       │                      │ \u001b[1mFirst\u001b[0m         │               │ \u001b[1mFirst\u001b[0m         │                              \n",
       "│ \u001b[3m   :: \u001b[0m\u001b[3;38;5;214mstring\u001b[0m   │              │ \u001b[3m   :: \u001b[0m\u001b[3;38;5;214mstring\u001b[0m │───────────────────────╯               ╭─────▶│ \u001b[1m   :: \u001b[0m\u001b[1;33mfloat64\u001b[0m │◀──────╮       │ \u001b[1m   :: \u001b[0m\u001b[1;33mfloat64\u001b[0m │◀──────╮                      \n",
       "╰────────────────╯              ╰──────────────╯                                       │      ╰───────────────╯       │       ╰───────────────╯       │                      \n",
       "         ▲                              ▲                                              │              │               │               ▲               │                      \n",
       "         │                              │                                              │              │               │               │               │                      \n",
       "         │                              │                                              │              │               │               │               │                      \n",
       "         │                              │                                              │              │               │               │               │                      \n",
       "         │                              │                                      ╭───────────────╮      │       ╭───────────────╮       │       ╭───────────────╮              \n",
       "         │                              │                                      │ \u001b[1mEquals\u001b[0m        │      │       │ \u001b[3myield: \u001b[0m\u001b[1;3mField\u001b[0m  │       │       │ \u001b[1mEquals\u001b[0m        │              \n",
       "         │                              │                               ╭─────▶│ \u001b[1m   :: \u001b[0m\u001b[1;38;5;129mboolean\u001b[0m │      │       │ \u001b[3m   :: \u001b[0m\u001b[3;33mfloat64\u001b[0m │───────╯       │ \u001b[1m   :: \u001b[0m\u001b[1;38;5;129mboolean\u001b[0m │◀────╮        \n",
       "         │                              │                               │      ╰───────────────╯      │       ╰───────────────╯               ╰───────────────╯     │        \n",
       "         │                              │                               │              ▲              │               ▲                               ▲             │        \n",
       "         │                              │                               │              │              │               │                               │             │        \n",
       "         │                              │                               │              │              │               │                               │             │        \n",
       "         │                              ╰─────────────────────────────────────────────╮│              │               │                               │             │        \n",
       "         │                                                      ╭───────────────╮     ││       ╭─────────────╮        │                               │     ╭───────────────╮\n",
       "         │                                                      │ \u001b[3m1931: \u001b[0m\u001b[1;3mLiteral\u001b[0m │     ││       │ \u001b[3myear: \u001b[0m\u001b[1;3mField\u001b[0m │        │                               │     │ \u001b[3m1932: \u001b[0m\u001b[1;3mLiteral\u001b[0m │\n",
       "         │                                                      │ \u001b[3m   :: \u001b[0m\u001b[3;33mint16\u001b[0m   │     │╰───────│ \u001b[3m   :: \u001b[0m\u001b[3;33mint64\u001b[0m │────────│───────────────────────────────╯     │ \u001b[3m   :: \u001b[0m\u001b[3;33mint16\u001b[0m   │\n",
       "         │                                                      ╰───────────────╯     │        ╰─────────────╯        │                                     ╰───────────────╯\n",
       "         │                                                                            │               ▲               │                                                      \n",
       "         │                                                                            │               │               │                                                      \n",
       "         │                                                                            │               │               │                                                      \n",
       "         │                                                                            │               │               │                                                      \n",
       "         │                                                                            │               │               │                                                      \n",
       "         │                                                                            ╰───╭───────────────────────╮   │                                                      \n",
       "         │                                                                                │ \u001b[3mbarley: \u001b[0m\u001b[1;3mDatabaseTable\u001b[0m │   │                                                      \n",
       "         │                                                                                │ \u001b[3m   \u001b[0m\u001b[3myield: \u001b[0m\u001b[3;33mfloat64\u001b[0m     │   │                                                      \n",
       "         ╰────────────────────────────────────────────────────────────────────────────────│ \u001b[3m   \u001b[0m\u001b[3mvariety: \u001b[0m\u001b[3;38;5;214mstring\u001b[0m    │───╯                                                      \n",
       "                                                                                          │ \u001b[3m   \u001b[0m\u001b[3myear: \u001b[0m\u001b[3;33mint64\u001b[0m        │                                                          \n",
       "                                                                                          │ \u001b[3m   \u001b[0m\u001b[3msite: \u001b[0m\u001b[3;38;5;214mstring\u001b[0m       │                                                          \n",
       "                                                                                          ╰───────────────────────╯                                                          \n"
      ]
     },
     "metadata": {},
     "output_type": "display_data"
    }
   ],
   "source": [
    "b.visualize()"
   ]
  },
  {
   "cell_type": "markdown",
   "id": "d3793ffb",
   "metadata": {},
   "source": [
    ":::\n",
    "\n",
    "\n"
   ]
  },
  {
   "cell_type": "markdown",
   "id": "f781e966",
   "metadata": {},
   "source": [
    "</Accordion>"
   ]
  },
  {
   "cell_type": "markdown",
   "id": "a151f0c4",
   "metadata": {
    "lines_to_next_cell": 3
   },
   "source": [
    "</AccordionGroup>"
   ]
  }
 ],
 "metadata": {
  "jupytext": {
   "cell_metadata_filter": "-all",
   "main_language": "python",
   "notebook_metadata_filter": "-all"
  },
  "language_info": {
   "codemirror_mode": {
    "name": "ipython",
    "version": 3
   },
   "file_extension": ".py",
   "mimetype": "text/x-python",
   "name": "python",
   "nbconvert_exporter": "python",
   "pygments_lexer": "ipython3",
   "version": "3.11.8"
  }
 },
 "nbformat": 4,
 "nbformat_minor": 5
}
