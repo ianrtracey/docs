{
 "cells": [
  {
   "cell_type": "raw",
   "id": "9e4756c5",
   "metadata": {},
   "source": [
    "---\n",
    "title: \"Relations\"\n",
    "format: \"mintlify-md\"\n",
    "icon: database\n",
    "---"
   ]
  },
  {
   "cell_type": "code",
   "execution_count": 1,
   "id": "f8388f8a",
   "metadata": {
    "execution": {
     "iopub.execute_input": "2024-03-04T15:44:10.063588Z",
     "iopub.status.busy": "2024-03-04T15:44:10.063477Z",
     "iopub.status.idle": "2024-03-04T15:44:10.070241Z",
     "shell.execute_reply": "2024-03-04T15:44:10.069975Z"
    }
   },
   "outputs": [],
   "source": [
    "# | output: false\n",
    "# | echo: false\n",
    "import builtins\n",
    "import rich"
   ]
  },
  {
   "cell_type": "markdown",
   "id": "52b1c2f6",
   "metadata": {},
   "source": [
    "::: {.callout-note}\n",
    "\n",
    "This page leverages some basic transform syntax from later parts of the walkthrough. Don't worry too much about it for now: the core of this page is to understand how relations work in Vinyl.\n",
    "\n",
    ":::"
   ]
  },
  {
   "cell_type": "markdown",
   "id": "53c82e69",
   "metadata": {},
   "source": [
    "## Properties\n",
    "\n",
    "As in SQL, relations are the core data model. But relations in vinyl have some unique properties:"
   ]
  },
  {
   "cell_type": "markdown",
   "id": "2c7c8fe7",
   "metadata": {},
   "source": [
    "\n",
    "### Relations are column aware\n",
    "\n",
    "Take the `Seattle weather` dataset in vinyl's examples. "
   ]
  },
  {
   "cell_type": "markdown",
   "id": "3fc85e39",
   "metadata": {},
   "source": [
    "<Card>"
   ]
  },
  {
   "cell_type": "code",
   "execution_count": 2,
   "id": "14bfe161",
   "metadata": {
    "execution": {
     "iopub.execute_input": "2024-03-04T15:44:10.071850Z",
     "iopub.status.busy": "2024-03-04T15:44:10.071756Z",
     "iopub.status.idle": "2024-03-04T15:44:11.477553Z",
     "shell.execute_reply": "2024-03-04T15:44:11.477273Z"
    }
   },
   "outputs": [],
   "source": [
    "from vinyl.examples import seattle_weather\n",
    "\n",
    "weather = seattle_weather()"
   ]
  },
  {
   "cell_type": "markdown",
   "id": "c854b3fa",
   "metadata": {},
   "source": [
    "</Card>"
   ]
  },
  {
   "cell_type": "markdown",
   "id": "f7c64dc8",
   "metadata": {},
   "source": [
    "`weather` is a Vinytable object, which carry far more information that a standard sql table or cte. The schema, for example, can be pulled easily without running a query against the database. \n"
   ]
  },
  {
   "cell_type": "markdown",
   "id": "c191a21f",
   "metadata": {},
   "source": [
    "<Card>"
   ]
  },
  {
   "cell_type": "code",
   "execution_count": 3,
   "id": "1f297ae2",
   "metadata": {
    "execution": {
     "iopub.execute_input": "2024-03-04T15:44:11.480043Z",
     "iopub.status.busy": "2024-03-04T15:44:11.479572Z",
     "iopub.status.idle": "2024-03-04T15:44:11.484703Z",
     "shell.execute_reply": "2024-03-04T15:44:11.484364Z"
    }
   },
   "outputs": [
    {
     "data": {
      "text/html": [
       "<pre style=\"white-space:pre;overflow-x:auto;line-height:normal;font-family:Menlo,'DejaVu Sans Mono',consolas,'Courier New',monospace\">┏━━━┳━━━━━━━━━━━━━━━┳━━━━━━━━━━━━━━┓\n",
       "┃<span style=\"font-weight: bold\"> # </span>┃<span style=\"font-weight: bold\"> column        </span>┃<span style=\"font-weight: bold\"> type         </span>┃\n",
       "┡━━━╇━━━━━━━━━━━━━━━╇━━━━━━━━━━━━━━┩\n",
       "│ 0 │ date          │ <span style=\"color: #008080; text-decoration-color: #008080\">timestamp(6)</span> │\n",
       "│ 1 │ precipitation │ <span style=\"color: #808000; text-decoration-color: #808000\">float64     </span> │\n",
       "│ 2 │ temp_max      │ <span style=\"color: #808000; text-decoration-color: #808000\">float64     </span> │\n",
       "│ 3 │ temp_min      │ <span style=\"color: #808000; text-decoration-color: #808000\">float64     </span> │\n",
       "│ 4 │ wind          │ <span style=\"color: #808000; text-decoration-color: #808000\">float64     </span> │\n",
       "│ 5 │ weather       │ <span style=\"color: #ffaf00; text-decoration-color: #ffaf00\">string      </span> │\n",
       "└───┴───────────────┴──────────────┘\n",
       "</pre>\n"
      ],
      "text/plain": [
       "┏━━━┳━━━━━━━━━━━━━━━┳━━━━━━━━━━━━━━┓\n",
       "┃\u001b[1m \u001b[0m\u001b[1m#\u001b[0m\u001b[1m \u001b[0m┃\u001b[1m \u001b[0m\u001b[1mcolumn       \u001b[0m\u001b[1m \u001b[0m┃\u001b[1m \u001b[0m\u001b[1mtype        \u001b[0m\u001b[1m \u001b[0m┃\n",
       "┡━━━╇━━━━━━━━━━━━━━━╇━━━━━━━━━━━━━━┩\n",
       "│ 0 │ date          │ \u001b[36mtimestamp(6)\u001b[0m │\n",
       "│ 1 │ precipitation │ \u001b[33mfloat64     \u001b[0m │\n",
       "│ 2 │ temp_max      │ \u001b[33mfloat64     \u001b[0m │\n",
       "│ 3 │ temp_min      │ \u001b[33mfloat64     \u001b[0m │\n",
       "│ 4 │ wind          │ \u001b[33mfloat64     \u001b[0m │\n",
       "│ 5 │ weather       │ \u001b[38;5;214mstring      \u001b[0m │\n",
       "└───┴───────────────┴──────────────┘\n"
      ]
     },
     "metadata": {},
     "output_type": "display_data"
    }
   ],
   "source": [
    "# | output: asis\n",
    "print(weather.schema())"
   ]
  },
  {
   "cell_type": "markdown",
   "id": "5f28afbc",
   "metadata": {},
   "source": [
    "</Card>"
   ]
  },
  {
   "cell_type": "markdown",
   "id": "3cf4c69f",
   "metadata": {},
   "source": [
    "Columns are attrributes of the class, so the code below returns the `wind` column.\n"
   ]
  },
  {
   "cell_type": "code",
   "execution_count": 4,
   "id": "6292ad43",
   "metadata": {
    "execution": {
     "iopub.execute_input": "2024-03-04T15:44:11.486547Z",
     "iopub.status.busy": "2024-03-04T15:44:11.486432Z",
     "iopub.status.idle": "2024-03-04T15:44:11.488708Z",
     "shell.execute_reply": "2024-03-04T15:44:11.488378Z"
    }
   },
   "outputs": [
    {
     "data": {
      "text/plain": [
       "<vinyl.lib.column.VinylColumn at 0x28b0cf450>"
      ]
     },
     "execution_count": 4,
     "metadata": {},
     "output_type": "execute_result"
    }
   ],
   "source": [
    "weather.wind"
   ]
  },
  {
   "cell_type": "markdown",
   "id": "d3ac2a0d",
   "metadata": {},
   "source": [
    "And, after a <Tooltip tip=\"more on this in the next section\">basic transform</Tooltip>\n"
   ]
  },
  {
   "cell_type": "code",
   "execution_count": 5,
   "id": "4d7708ac",
   "metadata": {
    "execution": {
     "iopub.execute_input": "2024-03-04T15:44:11.490701Z",
     "iopub.status.busy": "2024-03-04T15:44:11.490565Z",
     "iopub.status.idle": "2024-03-04T15:44:11.497255Z",
     "shell.execute_reply": "2024-03-04T15:44:11.496918Z"
    }
   },
   "outputs": [
    {
     "data": {
      "text/html": [
       "<pre style=\"white-space:pre;overflow-x:auto;line-height:normal;font-family:Menlo,'DejaVu Sans Mono',consolas,'Courier New',monospace\">r0 := DatabaseTable: seattle_weather\n",
       "  date          <span style=\"color: #800080; text-decoration-color: #800080; font-weight: bold\">timestamp</span><span style=\"font-weight: bold\">(</span><span style=\"color: #008080; text-decoration-color: #008080; font-weight: bold\">6</span><span style=\"font-weight: bold\">)</span>\n",
       "  precipitation float64\n",
       "  temp_max      float64\n",
       "  temp_min      float64\n",
       "  wind          float64\n",
       "  weather       string\n",
       "\n",
       "Project<span style=\"font-weight: bold\">[</span>r0<span style=\"font-weight: bold\">]</span>\n",
       "  <span style=\"color: #800080; text-decoration-color: #800080; font-weight: bold\">Multiply</span><span style=\"font-weight: bold\">(</span>wind, <span style=\"color: #008080; text-decoration-color: #008080; font-weight: bold\">2</span><span style=\"font-weight: bold\">)</span>: r0.wind * <span style=\"color: #008080; text-decoration-color: #008080; font-weight: bold\">2</span>\n",
       "</pre>\n"
      ],
      "text/plain": [
       "r0 := DatabaseTable: seattle_weather\n",
       "  date          \u001b[1;35mtimestamp\u001b[0m\u001b[1m(\u001b[0m\u001b[1;36m6\u001b[0m\u001b[1m)\u001b[0m\n",
       "  precipitation float64\n",
       "  temp_max      float64\n",
       "  temp_min      float64\n",
       "  wind          float64\n",
       "  weather       string\n",
       "\n",
       "Project\u001b[1m[\u001b[0mr0\u001b[1m]\u001b[0m\n",
       "  \u001b[1;35mMultiply\u001b[0m\u001b[1m(\u001b[0mwind, \u001b[1;36m2\u001b[0m\u001b[1m)\u001b[0m: r0.wind * \u001b[1;36m2\u001b[0m\n"
      ]
     },
     "metadata": {},
     "output_type": "display_data"
    }
   ],
   "source": [
    "wind_doubled = weather.select(weather.wind * 2)\n",
    "print(wind_doubled)"
   ]
  },
  {
   "cell_type": "markdown",
   "id": "a391c09c",
   "metadata": {},
   "source": [
    "This means you can access the information at any point in your queries. For example,\n"
   ]
  },
  {
   "cell_type": "code",
   "execution_count": 6,
   "id": "5a4db2e0",
   "metadata": {
    "execution": {
     "iopub.execute_input": "2024-03-04T15:44:11.499317Z",
     "iopub.status.busy": "2024-03-04T15:44:11.499200Z",
     "iopub.status.idle": "2024-03-04T15:44:11.502752Z",
     "shell.execute_reply": "2024-03-04T15:44:11.502342Z"
    }
   },
   "outputs": [
    {
     "data": {
      "text/html": [
       "<pre style=\"white-space:pre;overflow-x:auto;line-height:normal;font-family:Menlo,'DejaVu Sans Mono',consolas,'Courier New',monospace\">┏━━━┳━━━━━━━━━━┳━━━━━━━━━┓\n",
       "┃<span style=\"font-weight: bold\"> # </span>┃<span style=\"font-weight: bold\"> column   </span>┃<span style=\"font-weight: bold\"> type    </span>┃\n",
       "┡━━━╇━━━━━━━━━━╇━━━━━━━━━┩\n",
       "│ 0 │ temp_max │ <span style=\"color: #808000; text-decoration-color: #808000\">float64</span> │\n",
       "│ 1 │ temp_min │ <span style=\"color: #808000; text-decoration-color: #808000\">float64</span> │\n",
       "└───┴──────────┴─────────┘\n",
       "</pre>\n"
      ],
      "text/plain": [
       "┏━━━┳━━━━━━━━━━┳━━━━━━━━━┓\n",
       "┃\u001b[1m \u001b[0m\u001b[1m#\u001b[0m\u001b[1m \u001b[0m┃\u001b[1m \u001b[0m\u001b[1mcolumn  \u001b[0m\u001b[1m \u001b[0m┃\u001b[1m \u001b[0m\u001b[1mtype   \u001b[0m\u001b[1m \u001b[0m┃\n",
       "┡━━━╇━━━━━━━━━━╇━━━━━━━━━┩\n",
       "│ 0 │ temp_max │ \u001b[33mfloat64\u001b[0m │\n",
       "│ 1 │ temp_min │ \u001b[33mfloat64\u001b[0m │\n",
       "└───┴──────────┴─────────┘\n"
      ]
     },
     "metadata": {},
     "output_type": "display_data"
    }
   ],
   "source": [
    "temps = weather.select([col for col in weather.columns if col.startswith(\"temp\")])\n",
    "print(temps.schema())"
   ]
  },
  {
   "cell_type": "markdown",
   "id": "1c79f8d2",
   "metadata": {},
   "source": [
    "will pull all numeric columns from `weather`.\n",
    "\n",
    "\n",
    "### Relations are lazy\n",
    "\n",
    "Vinyl keeps track of its syntax lazily, and only compiles when a variable is executed or its sql is generated.\n",
    "\n",
    "By default, vinyl will return a string representation of the query plan associated with a variable unless specified otherwise. For example:\n"
   ]
  },
  {
   "cell_type": "code",
   "execution_count": 7,
   "id": "e6567ffc",
   "metadata": {
    "execution": {
     "iopub.execute_input": "2024-03-04T15:44:11.504275Z",
     "iopub.status.busy": "2024-03-04T15:44:11.504198Z",
     "iopub.status.idle": "2024-03-04T15:44:11.506444Z",
     "shell.execute_reply": "2024-03-04T15:44:11.506194Z"
    }
   },
   "outputs": [
    {
     "data": {
      "text/plain": [
       "r0 := DatabaseTable: seattle_weather\n",
       "  date          timestamp(6)\n",
       "  precipitation float64\n",
       "  temp_max      float64\n",
       "  temp_min      float64\n",
       "  wind          float64\n",
       "  weather       string\n",
       "\n",
       "Project[r0]\n",
       "  temp_max: r0.temp_max\n",
       "  temp_min: r0.temp_min"
      ]
     },
     "execution_count": 7,
     "metadata": {},
     "output_type": "execute_result"
    }
   ],
   "source": [
    "temps"
   ]
  },
  {
   "cell_type": "markdown",
   "id": "1b352ba5",
   "metadata": {},
   "source": [
    "If you'd like to see a graphical representation, use `.visualize()`:\n"
   ]
  },
  {
   "cell_type": "code",
   "execution_count": 8,
   "id": "00ee35ca",
   "metadata": {
    "execution": {
     "iopub.execute_input": "2024-03-04T15:44:11.508192Z",
     "iopub.status.busy": "2024-03-04T15:44:11.508116Z",
     "iopub.status.idle": "2024-03-04T15:44:11.641094Z",
     "shell.execute_reply": "2024-03-04T15:44:11.640790Z"
    }
   },
   "outputs": [
    {
     "data": {
      "text/html": [
       "<pre style=\"white-space:pre;overflow-x:auto;line-height:normal;font-family:Menlo,'DejaVu Sans Mono',consolas,'Courier New',monospace\">                                 ╭──────────────────────╮     \n",
       "                                 │ <span style=\"font-weight: bold\">Project</span>              │     \n",
       "         ╭──────────────────────▶│ <span style=\"font-weight: bold\">   </span><span style=\"font-weight: bold; font-style: italic\">temp_max: </span><span style=\"color: #808000; text-decoration-color: #808000; font-weight: bold; font-style: italic\">float64</span> │     \n",
       "         │                       │ <span style=\"font-weight: bold\">   </span><span style=\"font-weight: bold; font-style: italic\">temp_min: </span><span style=\"color: #808000; text-decoration-color: #808000; font-weight: bold; font-style: italic\">float64</span> │     \n",
       "         │                       ╰──────────────────────╯     \n",
       "         │                                  ▲▲                \n",
       "         │                                  ││                \n",
       "         │                                  ││                \n",
       "         │                                  ││                \n",
       "╭─────────────────╮                ╭─────────────────╮        \n",
       "│ <span style=\"font-style: italic\">temp_max: </span><span style=\"font-weight: bold; font-style: italic\">Field</span> │                │ <span style=\"font-style: italic\">temp_min: </span><span style=\"font-weight: bold; font-style: italic\">Field</span> │        \n",
       "│ <span style=\"font-style: italic\">   :: </span><span style=\"color: #808000; text-decoration-color: #808000; font-style: italic\">float64</span>   │                │ <span style=\"font-style: italic\">   :: </span><span style=\"color: #808000; text-decoration-color: #808000; font-style: italic\">float64</span>   │        \n",
       "╰─────────────────╯                ╰─────────────────╯        \n",
       "         ▲                                  ▲│                \n",
       "         │                                  ││                \n",
       "         │                                  ││                \n",
       "         │                                  ││                \n",
       "         │                                  ││                \n",
       "         │                  ╭────────────────────────────────╮\n",
       "         │                  │ <span style=\"font-style: italic\">seattle_weather: </span><span style=\"font-weight: bold; font-style: italic\">DatabaseTable</span> │\n",
       "         │                  │ <span style=\"font-style: italic\">   date: </span><span style=\"color: #008080; text-decoration-color: #008080; font-style: italic\">timestamp(6)</span>          │\n",
       "         │                  │ <span style=\"font-style: italic\">   precipitation: </span><span style=\"color: #808000; text-decoration-color: #808000; font-style: italic\">float64</span>      │\n",
       "         ╰──────────────────│ <span style=\"font-style: italic\">   temp_max: </span><span style=\"color: #808000; text-decoration-color: #808000; font-style: italic\">float64</span>           │\n",
       "                            │ <span style=\"font-style: italic\">   temp_min: </span><span style=\"color: #808000; text-decoration-color: #808000; font-style: italic\">float64</span>           │\n",
       "                            │ <span style=\"font-style: italic\">   wind: </span><span style=\"color: #808000; text-decoration-color: #808000; font-style: italic\">float64</span>               │\n",
       "                            │ <span style=\"font-style: italic\">   weather: </span><span style=\"color: #ffaf00; text-decoration-color: #ffaf00; font-style: italic\">string</span>             │\n",
       "                            ╰────────────────────────────────╯\n",
       "</pre>\n"
      ],
      "text/plain": [
       "                                 ╭──────────────────────╮     \n",
       "                                 │ \u001b[1mProject\u001b[0m              │     \n",
       "         ╭──────────────────────▶│ \u001b[1m   \u001b[0m\u001b[1;3mtemp_max: \u001b[0m\u001b[1;3;33mfloat64\u001b[0m │     \n",
       "         │                       │ \u001b[1m   \u001b[0m\u001b[1;3mtemp_min: \u001b[0m\u001b[1;3;33mfloat64\u001b[0m │     \n",
       "         │                       ╰──────────────────────╯     \n",
       "         │                                  ▲▲                \n",
       "         │                                  ││                \n",
       "         │                                  ││                \n",
       "         │                                  ││                \n",
       "╭─────────────────╮                ╭─────────────────╮        \n",
       "│ \u001b[3mtemp_max: \u001b[0m\u001b[1;3mField\u001b[0m │                │ \u001b[3mtemp_min: \u001b[0m\u001b[1;3mField\u001b[0m │        \n",
       "│ \u001b[3m   :: \u001b[0m\u001b[3;33mfloat64\u001b[0m   │                │ \u001b[3m   :: \u001b[0m\u001b[3;33mfloat64\u001b[0m   │        \n",
       "╰─────────────────╯                ╰─────────────────╯        \n",
       "         ▲                                  ▲│                \n",
       "         │                                  ││                \n",
       "         │                                  ││                \n",
       "         │                                  ││                \n",
       "         │                                  ││                \n",
       "         │                  ╭────────────────────────────────╮\n",
       "         │                  │ \u001b[3mseattle_weather: \u001b[0m\u001b[1;3mDatabaseTable\u001b[0m │\n",
       "         │                  │ \u001b[3m   \u001b[0m\u001b[3mdate: \u001b[0m\u001b[3;36mtimestamp(6)\u001b[0m          │\n",
       "         │                  │ \u001b[3m   \u001b[0m\u001b[3mprecipitation: \u001b[0m\u001b[3;33mfloat64\u001b[0m      │\n",
       "         ╰──────────────────│ \u001b[3m   \u001b[0m\u001b[3mtemp_max: \u001b[0m\u001b[3;33mfloat64\u001b[0m           │\n",
       "                            │ \u001b[3m   \u001b[0m\u001b[3mtemp_min: \u001b[0m\u001b[3;33mfloat64\u001b[0m           │\n",
       "                            │ \u001b[3m   \u001b[0m\u001b[3mwind: \u001b[0m\u001b[3;33mfloat64\u001b[0m               │\n",
       "                            │ \u001b[3m   \u001b[0m\u001b[3mweather: \u001b[0m\u001b[3;38;5;214mstring\u001b[0m             │\n",
       "                            ╰────────────────────────────────╯\n"
      ]
     },
     "metadata": {},
     "output_type": "display_data"
    }
   ],
   "source": [
    "temps.visualize()"
   ]
  },
  {
   "cell_type": "markdown",
   "id": "b61b3910",
   "metadata": {},
   "source": [
    "To execute this, you only need to run:\n"
   ]
  },
  {
   "cell_type": "code",
   "execution_count": 9,
   "id": "d205ce5a",
   "metadata": {
    "execution": {
     "iopub.execute_input": "2024-03-04T15:44:11.643103Z",
     "iopub.status.busy": "2024-03-04T15:44:11.642997Z",
     "iopub.status.idle": "2024-03-04T15:44:11.697236Z",
     "shell.execute_reply": "2024-03-04T15:44:11.696911Z"
    }
   },
   "outputs": [
    {
     "data": {
      "text/html": [
       "<div>\n",
       "<style scoped>\n",
       "    .dataframe tbody tr th:only-of-type {\n",
       "        vertical-align: middle;\n",
       "    }\n",
       "\n",
       "    .dataframe tbody tr th {\n",
       "        vertical-align: top;\n",
       "    }\n",
       "\n",
       "    .dataframe thead th {\n",
       "        text-align: right;\n",
       "    }\n",
       "</style>\n",
       "<table border=\"1\" class=\"dataframe\">\n",
       "  <thead>\n",
       "    <tr style=\"text-align: right;\">\n",
       "      <th></th>\n",
       "      <th>temp_max</th>\n",
       "      <th>temp_min</th>\n",
       "    </tr>\n",
       "  </thead>\n",
       "  <tbody>\n",
       "    <tr>\n",
       "      <th>0</th>\n",
       "      <td>12.8</td>\n",
       "      <td>5.0</td>\n",
       "    </tr>\n",
       "    <tr>\n",
       "      <th>1</th>\n",
       "      <td>10.6</td>\n",
       "      <td>2.8</td>\n",
       "    </tr>\n",
       "    <tr>\n",
       "      <th>2</th>\n",
       "      <td>11.7</td>\n",
       "      <td>7.2</td>\n",
       "    </tr>\n",
       "    <tr>\n",
       "      <th>3</th>\n",
       "      <td>12.2</td>\n",
       "      <td>5.6</td>\n",
       "    </tr>\n",
       "    <tr>\n",
       "      <th>4</th>\n",
       "      <td>8.9</td>\n",
       "      <td>2.8</td>\n",
       "    </tr>\n",
       "    <tr>\n",
       "      <th>...</th>\n",
       "      <td>...</td>\n",
       "      <td>...</td>\n",
       "    </tr>\n",
       "    <tr>\n",
       "      <th>1456</th>\n",
       "      <td>4.4</td>\n",
       "      <td>1.7</td>\n",
       "    </tr>\n",
       "    <tr>\n",
       "      <th>1457</th>\n",
       "      <td>5.0</td>\n",
       "      <td>1.7</td>\n",
       "    </tr>\n",
       "    <tr>\n",
       "      <th>1458</th>\n",
       "      <td>7.2</td>\n",
       "      <td>0.6</td>\n",
       "    </tr>\n",
       "    <tr>\n",
       "      <th>1459</th>\n",
       "      <td>5.6</td>\n",
       "      <td>-1.0</td>\n",
       "    </tr>\n",
       "    <tr>\n",
       "      <th>1460</th>\n",
       "      <td>5.6</td>\n",
       "      <td>-2.1</td>\n",
       "    </tr>\n",
       "  </tbody>\n",
       "</table>\n",
       "<p>1461 rows × 2 columns</p>\n",
       "</div>"
      ],
      "text/plain": [
       "      temp_max  temp_min\n",
       "0         12.8       5.0\n",
       "1         10.6       2.8\n",
       "2         11.7       7.2\n",
       "3         12.2       5.6\n",
       "4          8.9       2.8\n",
       "...        ...       ...\n",
       "1456       4.4       1.7\n",
       "1457       5.0       1.7\n",
       "1458       7.2       0.6\n",
       "1459       5.6      -1.0\n",
       "1460       5.6      -2.1\n",
       "\n",
       "[1461 rows x 2 columns]"
      ]
     },
     "execution_count": 9,
     "metadata": {},
     "output_type": "execute_result"
    }
   ],
   "source": [
    "temps.execute()"
   ]
  },
  {
   "cell_type": "markdown",
   "id": "6fd4c773",
   "metadata": {},
   "source": [
    "By default, this returns a pandas DataFrame. You can also return a text or pyarrow representation by specifying that\n"
   ]
  },
  {
   "cell_type": "code",
   "execution_count": 10,
   "id": "5904a803",
   "metadata": {
    "execution": {
     "iopub.execute_input": "2024-03-04T15:44:11.699323Z",
     "iopub.status.busy": "2024-03-04T15:44:11.699187Z",
     "iopub.status.idle": "2024-03-04T15:44:11.705845Z",
     "shell.execute_reply": "2024-03-04T15:44:11.705585Z"
    }
   },
   "outputs": [
    {
     "data": {
      "text/html": [
       "<pre style=\"white-space:pre;overflow-x:auto;line-height:normal;font-family:Menlo,'DejaVu Sans Mono',consolas,'Courier New',monospace\">┏━━━━━━━━━━┳━━━━━━━━━━┓\n",
       "┃<span style=\"font-weight: bold\"> temp_max </span>┃<span style=\"font-weight: bold\"> temp_min </span>┃\n",
       "┡━━━━━━━━━━╇━━━━━━━━━━┩\n",
       "│ <span style=\"color: #7f7f7f; text-decoration-color: #7f7f7f\">float64</span>  │ <span style=\"color: #7f7f7f; text-decoration-color: #7f7f7f\">float64</span>  │\n",
       "├──────────┼──────────┤\n",
       "│     <span style=\"color: #008080; text-decoration-color: #008080; font-weight: bold\">12.8</span> │      <span style=\"color: #008080; text-decoration-color: #008080; font-weight: bold\">5.0</span> │\n",
       "│     <span style=\"color: #008080; text-decoration-color: #008080; font-weight: bold\">10.6</span> │      <span style=\"color: #008080; text-decoration-color: #008080; font-weight: bold\">2.8</span> │\n",
       "│     <span style=\"color: #008080; text-decoration-color: #008080; font-weight: bold\">11.7</span> │      <span style=\"color: #008080; text-decoration-color: #008080; font-weight: bold\">7.2</span> │\n",
       "│     <span style=\"color: #008080; text-decoration-color: #008080; font-weight: bold\">12.2</span> │      <span style=\"color: #008080; text-decoration-color: #008080; font-weight: bold\">5.6</span> │\n",
       "│      <span style=\"color: #008080; text-decoration-color: #008080; font-weight: bold\">8.9</span> │      <span style=\"color: #008080; text-decoration-color: #008080; font-weight: bold\">2.8</span> │\n",
       "│      <span style=\"color: #008080; text-decoration-color: #008080; font-weight: bold\">4.4</span> │      <span style=\"color: #008080; text-decoration-color: #008080; font-weight: bold\">2.2</span> │\n",
       "│      <span style=\"color: #008080; text-decoration-color: #008080; font-weight: bold\">7.2</span> │      <span style=\"color: #008080; text-decoration-color: #008080; font-weight: bold\">2.8</span> │\n",
       "│     <span style=\"color: #008080; text-decoration-color: #008080; font-weight: bold\">10.0</span> │      <span style=\"color: #008080; text-decoration-color: #008080; font-weight: bold\">2.8</span> │\n",
       "│      <span style=\"color: #008080; text-decoration-color: #008080; font-weight: bold\">9.4</span> │      <span style=\"color: #008080; text-decoration-color: #008080; font-weight: bold\">5.0</span> │\n",
       "│      <span style=\"color: #008080; text-decoration-color: #008080; font-weight: bold\">6.1</span> │      <span style=\"color: #008080; text-decoration-color: #008080; font-weight: bold\">0.6</span> │\n",
       "│        <span style=\"color: #7f7f7f; text-decoration-color: #7f7f7f\">…</span> │        <span style=\"color: #7f7f7f; text-decoration-color: #7f7f7f\">…</span> │\n",
       "└──────────┴──────────┘\n",
       "</pre>\n"
      ],
      "text/plain": [
       "┏━━━━━━━━━━┳━━━━━━━━━━┓\n",
       "┃\u001b[1m \u001b[0m\u001b[1mtemp_max\u001b[0m\u001b[1m \u001b[0m┃\u001b[1m \u001b[0m\u001b[1mtemp_min\u001b[0m\u001b[1m \u001b[0m┃\n",
       "┡━━━━━━━━━━╇━━━━━━━━━━┩\n",
       "│ \u001b[2mfloat64\u001b[0m  │ \u001b[2mfloat64\u001b[0m  │\n",
       "├──────────┼──────────┤\n",
       "│     \u001b[1;36m12.8\u001b[0m │      \u001b[1;36m5.0\u001b[0m │\n",
       "│     \u001b[1;36m10.6\u001b[0m │      \u001b[1;36m2.8\u001b[0m │\n",
       "│     \u001b[1;36m11.7\u001b[0m │      \u001b[1;36m7.2\u001b[0m │\n",
       "│     \u001b[1;36m12.2\u001b[0m │      \u001b[1;36m5.6\u001b[0m │\n",
       "│      \u001b[1;36m8.9\u001b[0m │      \u001b[1;36m2.8\u001b[0m │\n",
       "│      \u001b[1;36m4.4\u001b[0m │      \u001b[1;36m2.2\u001b[0m │\n",
       "│      \u001b[1;36m7.2\u001b[0m │      \u001b[1;36m2.8\u001b[0m │\n",
       "│     \u001b[1;36m10.0\u001b[0m │      \u001b[1;36m2.8\u001b[0m │\n",
       "│      \u001b[1;36m9.4\u001b[0m │      \u001b[1;36m5.0\u001b[0m │\n",
       "│      \u001b[1;36m6.1\u001b[0m │      \u001b[1;36m0.6\u001b[0m │\n",
       "│        \u001b[2m…\u001b[0m │        \u001b[2m…\u001b[0m │\n",
       "└──────────┴──────────┘\n"
      ]
     },
     "execution_count": 10,
     "metadata": {},
     "output_type": "execute_result"
    }
   ],
   "source": [
    "temps.execute(\"text\")"
   ]
  },
  {
   "cell_type": "code",
   "execution_count": 11,
   "id": "e2a10050",
   "metadata": {
    "execution": {
     "iopub.execute_input": "2024-03-04T15:44:11.707117Z",
     "iopub.status.busy": "2024-03-04T15:44:11.707010Z",
     "iopub.status.idle": "2024-03-04T15:44:11.710392Z",
     "shell.execute_reply": "2024-03-04T15:44:11.710103Z"
    }
   },
   "outputs": [
    {
     "data": {
      "text/plain": [
       "pyarrow.Table\n",
       "temp_max: double\n",
       "temp_min: double\n",
       "----\n",
       "temp_max: [[12.8,10.6,11.7,12.2,8.9,...,4.4,5,7.2,5.6,5.6]]\n",
       "temp_min: [[5,2.8,7.2,5.6,2.8,...,1.7,1.7,0.6,-1,-2.1]]"
      ]
     },
     "execution_count": 11,
     "metadata": {},
     "output_type": "execute_result"
    }
   ],
   "source": [
    "temps.execute(\"pyarrow\")"
   ]
  },
  {
   "cell_type": "markdown",
   "id": "3830d56a",
   "metadata": {},
   "source": [
    "You can also save it to various formats (csv, json, etc.) using `.save()`\n",
    "\n",
    "### Relations are selectively mutable\n",
    "\n",
    "By default, VinylTables are **immutable**. For example, the original table ast is printed when run is the same as the original `weather`.\n"
   ]
  },
  {
   "cell_type": "code",
   "execution_count": 12,
   "id": "6d3cd40f",
   "metadata": {
    "execution": {
     "iopub.execute_input": "2024-03-04T15:44:11.711972Z",
     "iopub.status.busy": "2024-03-04T15:44:11.711878Z",
     "iopub.status.idle": "2024-03-04T15:44:11.714580Z",
     "shell.execute_reply": "2024-03-04T15:44:11.714290Z"
    }
   },
   "outputs": [
    {
     "data": {
      "text/plain": [
       "DatabaseTable: seattle_weather\n",
       "  date          timestamp(6)\n",
       "  precipitation float64\n",
       "  temp_max      float64\n",
       "  temp_min      float64\n",
       "  wind          float64\n",
       "  weather       string"
      ]
     },
     "execution_count": 12,
     "metadata": {},
     "output_type": "execute_result"
    }
   ],
   "source": [
    "weather.select(weather.wind * 2)\n",
    "weather"
   ]
  },
  {
   "cell_type": "markdown",
   "id": "77a75d1b",
   "metadata": {},
   "source": [
    "That said, there are two key cases where VinylTables are considered mutable. This allows for a more fluent ergonomic syntax, especially when you are chaining several transforms together.\n",
    "\n",
    "The two cases are:\n",
    "1. Within specially decorated functions (i.e. those with `@model` or `@metric` decorator)\n",
    "2. Context managers\n",
    "\n",
    "The first case is designed to support <Tooltip tip=\"more on this in the quickstart\">pipelines</Tooltip>\n"
   ]
  },
  {
   "cell_type": "code",
   "execution_count": 13,
   "id": "cd6327c0",
   "metadata": {
    "execution": {
     "iopub.execute_input": "2024-03-04T15:44:11.716018Z",
     "iopub.status.busy": "2024-03-04T15:44:11.715922Z",
     "iopub.status.idle": "2024-03-04T15:44:11.726735Z",
     "shell.execute_reply": "2024-03-04T15:44:11.726470Z"
    }
   },
   "outputs": [
    {
     "data": {
      "text/plain": [
       "r0 := DatabaseTable: seattle_weather\n",
       "  date          timestamp(6)\n",
       "  precipitation float64\n",
       "  temp_max      float64\n",
       "  temp_min      float64\n",
       "  wind          float64\n",
       "  weather       string\n",
       "\n",
       "Project[r0]\n",
       "  Multiply(wind, 2): r0.wind * 2"
      ]
     },
     "execution_count": 13,
     "metadata": {},
     "output_type": "execute_result"
    }
   ],
   "source": [
    "from vinyl import T, model\n",
    "\n",
    "\n",
    "@model(deps=[seattle_weather])\n",
    "def weather(w: T) -> T:\n",
    "    w.select(w.wind * 2)\n",
    "    return w\n",
    "\n",
    "\n",
    "weather()"
   ]
  },
  {
   "cell_type": "markdown",
   "id": "debf38b0",
   "metadata": {},
   "source": [
    "The second use case is designed primarily for analysis use cases. \n"
   ]
  },
  {
   "cell_type": "code",
   "execution_count": 14,
   "id": "871e0acf",
   "metadata": {
    "execution": {
     "iopub.execute_input": "2024-03-04T15:44:11.728144Z",
     "iopub.status.busy": "2024-03-04T15:44:11.728055Z",
     "iopub.status.idle": "2024-03-04T15:44:11.740111Z",
     "shell.execute_reply": "2024-03-04T15:44:11.739875Z"
    }
   },
   "outputs": [
    {
     "data": {
      "text/plain": [
       "r0 := DatabaseTable: seattle_weather\n",
       "  date          timestamp(6)\n",
       "  precipitation float64\n",
       "  temp_max      float64\n",
       "  temp_min      float64\n",
       "  wind          float64\n",
       "  weather       string\n",
       "\n",
       "Project[r0]\n",
       "  Multiply(wind, 2): r0.wind * 2"
      ]
     },
     "execution_count": 14,
     "metadata": {},
     "output_type": "execute_result"
    }
   ],
   "source": [
    "with seattle_weather() as w:\n",
    "    w.select(w.wind * 2)\n",
    "\n",
    "w"
   ]
  },
  {
   "cell_type": "markdown",
   "id": "7ef82212",
   "metadata": {},
   "source": [
    "It can also be used inside vinyl pipeline functions to create a sort of \"cte\", in the sense that it makes a copy of the original object."
   ]
  },
  {
   "cell_type": "markdown",
   "id": "d9df0d8a",
   "metadata": {},
   "source": [
    "### Relations are dialect independent\n",
    "\n",
    "Vinyl uses the Ibis library to generate SQL. This means that you can write your queries in a dialect agnostic way. For example, the following code works in across the dialects currently supported by Vinyl:\n",
    "- BigQuery\n",
    "- Snowflake\n",
    "- DuckDB\n",
    "- Postgres\n",
    "\n",
    "Ibis itself supports almost 20 dialects, so we plan to add more over time."
   ]
  },
  {
   "cell_type": "markdown",
   "id": "9b8d56fb",
   "metadata": {},
   "source": [
    "For this table"
   ]
  },
  {
   "cell_type": "code",
   "execution_count": 15,
   "id": "dd2cb5c8",
   "metadata": {
    "execution": {
     "iopub.execute_input": "2024-03-04T15:44:11.741740Z",
     "iopub.status.busy": "2024-03-04T15:44:11.741644Z",
     "iopub.status.idle": "2024-03-04T15:44:11.761260Z",
     "shell.execute_reply": "2024-03-04T15:44:11.761006Z"
    }
   },
   "outputs": [
    {
     "data": {
      "text/html": [
       "<pre style=\"white-space:pre;overflow-x:auto;line-height:normal;font-family:Menlo,'DejaVu Sans Mono',consolas,'Courier New',monospace\">┏━━━━━━━━━━━━━━━━━━━━━━━━━━━━━━━━┳━━━━━━━━━━━━━━━━━━━━━━━┓\n",
       "┃<span style=\"font-weight: bold\"> TimestampTruncate(date, MONTH) </span>┃<span style=\"font-weight: bold\"> temp_max              </span>┃\n",
       "┡━━━━━━━━━━━━━━━━━━━━━━━━━━━━━━━━╇━━━━━━━━━━━━━━━━━━━━━━━┩\n",
       "│ <span style=\"color: #7f7f7f; text-decoration-color: #7f7f7f\">timestamp</span>                      │ <span style=\"color: #7f7f7f; text-decoration-color: #7f7f7f\">array&lt;float64&gt;</span>        │\n",
       "├────────────────────────────────┼───────────────────────┤\n",
       "│ <span style=\"color: #800080; text-decoration-color: #800080\">2012-01-01 00:00:00</span>            │ <span style=\"font-weight: bold\">[</span><span style=\"color: #008080; text-decoration-color: #008080; font-weight: bold\">12.8</span>, <span style=\"color: #008080; text-decoration-color: #008080; font-weight: bold\">10.6</span>, <span style=\"color: #808000; text-decoration-color: #808000\">...</span> +<span style=\"color: #008080; text-decoration-color: #008080; font-weight: bold\">29</span><span style=\"font-weight: bold\">]</span> │\n",
       "│ <span style=\"color: #800080; text-decoration-color: #800080\">2012-02-01 00:00:00</span>            │ <span style=\"font-weight: bold\">[</span><span style=\"color: #008080; text-decoration-color: #008080; font-weight: bold\">8.9</span>, <span style=\"color: #008080; text-decoration-color: #008080; font-weight: bold\">8.3</span>, <span style=\"color: #808000; text-decoration-color: #808000\">...</span> +<span style=\"color: #008080; text-decoration-color: #008080; font-weight: bold\">27</span><span style=\"font-weight: bold\">]</span>   │\n",
       "│ <span style=\"color: #800080; text-decoration-color: #800080\">2012-03-01 00:00:00</span>            │ <span style=\"font-weight: bold\">[</span><span style=\"color: #008080; text-decoration-color: #008080; font-weight: bold\">6.1</span>, <span style=\"color: #008080; text-decoration-color: #008080; font-weight: bold\">6.7</span>, <span style=\"color: #808000; text-decoration-color: #808000\">...</span> +<span style=\"color: #008080; text-decoration-color: #008080; font-weight: bold\">29</span><span style=\"font-weight: bold\">]</span>   │\n",
       "│ <span style=\"color: #800080; text-decoration-color: #800080\">2012-04-01 00:00:00</span>            │ <span style=\"font-weight: bold\">[</span><span style=\"color: #008080; text-decoration-color: #008080; font-weight: bold\">8.9</span>, <span style=\"color: #008080; text-decoration-color: #008080; font-weight: bold\">16.7</span>, <span style=\"color: #808000; text-decoration-color: #808000\">...</span> +<span style=\"color: #008080; text-decoration-color: #008080; font-weight: bold\">28</span><span style=\"font-weight: bold\">]</span>  │\n",
       "│ <span style=\"color: #800080; text-decoration-color: #800080\">2012-05-01 00:00:00</span>            │ <span style=\"font-weight: bold\">[</span><span style=\"color: #008080; text-decoration-color: #008080; font-weight: bold\">11.7</span>, <span style=\"color: #008080; text-decoration-color: #008080; font-weight: bold\">13.3</span>, <span style=\"color: #808000; text-decoration-color: #808000\">...</span> +<span style=\"color: #008080; text-decoration-color: #008080; font-weight: bold\">29</span><span style=\"font-weight: bold\">]</span> │\n",
       "│ <span style=\"color: #800080; text-decoration-color: #800080\">2012-06-01 00:00:00</span>            │ <span style=\"font-weight: bold\">[</span><span style=\"color: #008080; text-decoration-color: #008080; font-weight: bold\">20.0</span>, <span style=\"color: #008080; text-decoration-color: #008080; font-weight: bold\">18.9</span>, <span style=\"color: #808000; text-decoration-color: #808000\">...</span> +<span style=\"color: #008080; text-decoration-color: #008080; font-weight: bold\">28</span><span style=\"font-weight: bold\">]</span> │\n",
       "│ <span style=\"color: #800080; text-decoration-color: #800080\">2012-07-01 00:00:00</span>            │ <span style=\"font-weight: bold\">[</span><span style=\"color: #008080; text-decoration-color: #008080; font-weight: bold\">20.0</span>, <span style=\"color: #008080; text-decoration-color: #008080; font-weight: bold\">18.9</span>, <span style=\"color: #808000; text-decoration-color: #808000\">...</span> +<span style=\"color: #008080; text-decoration-color: #008080; font-weight: bold\">29</span><span style=\"font-weight: bold\">]</span> │\n",
       "│ <span style=\"color: #800080; text-decoration-color: #800080\">2012-08-01 00:00:00</span>            │ <span style=\"font-weight: bold\">[</span><span style=\"color: #008080; text-decoration-color: #008080; font-weight: bold\">23.9</span>, <span style=\"color: #008080; text-decoration-color: #008080; font-weight: bold\">23.3</span>, <span style=\"color: #808000; text-decoration-color: #808000\">...</span> +<span style=\"color: #008080; text-decoration-color: #008080; font-weight: bold\">29</span><span style=\"font-weight: bold\">]</span> │\n",
       "│ <span style=\"color: #800080; text-decoration-color: #800080\">2012-09-01 00:00:00</span>            │ <span style=\"font-weight: bold\">[</span><span style=\"color: #008080; text-decoration-color: #008080; font-weight: bold\">21.7</span>, <span style=\"color: #008080; text-decoration-color: #008080; font-weight: bold\">21.1</span>, <span style=\"color: #808000; text-decoration-color: #808000\">...</span> +<span style=\"color: #008080; text-decoration-color: #008080; font-weight: bold\">28</span><span style=\"font-weight: bold\">]</span> │\n",
       "│ <span style=\"color: #800080; text-decoration-color: #800080\">2012-10-01 00:00:00</span>            │ <span style=\"font-weight: bold\">[</span><span style=\"color: #008080; text-decoration-color: #008080; font-weight: bold\">23.3</span>, <span style=\"color: #008080; text-decoration-color: #008080; font-weight: bold\">17.8</span>, <span style=\"color: #808000; text-decoration-color: #808000\">...</span> +<span style=\"color: #008080; text-decoration-color: #008080; font-weight: bold\">29</span><span style=\"font-weight: bold\">]</span> │\n",
       "│ <span style=\"color: #7f7f7f; text-decoration-color: #7f7f7f\">…</span>                              │ <span style=\"color: #7f7f7f; text-decoration-color: #7f7f7f\">…</span>                     │\n",
       "└────────────────────────────────┴───────────────────────┘\n",
       "</pre>\n"
      ],
      "text/plain": [
       "┏━━━━━━━━━━━━━━━━━━━━━━━━━━━━━━━━┳━━━━━━━━━━━━━━━━━━━━━━━┓\n",
       "┃\u001b[1m \u001b[0m\u001b[1mTimestampTruncate(date, MONTH)\u001b[0m\u001b[1m \u001b[0m┃\u001b[1m \u001b[0m\u001b[1mtemp_max\u001b[0m\u001b[1m             \u001b[0m\u001b[1m \u001b[0m┃\n",
       "┡━━━━━━━━━━━━━━━━━━━━━━━━━━━━━━━━╇━━━━━━━━━━━━━━━━━━━━━━━┩\n",
       "│ \u001b[2mtimestamp\u001b[0m                      │ \u001b[2marray<float64>\u001b[0m        │\n",
       "├────────────────────────────────┼───────────────────────┤\n",
       "│ \u001b[35m2012-01-01 00:00:00\u001b[0m            │ \u001b[1m[\u001b[0m\u001b[1;36m12.8\u001b[0m, \u001b[1;36m10.6\u001b[0m, \u001b[33m...\u001b[0m +\u001b[1;36m29\u001b[0m\u001b[1m]\u001b[0m │\n",
       "│ \u001b[35m2012-02-01 00:00:00\u001b[0m            │ \u001b[1m[\u001b[0m\u001b[1;36m8.9\u001b[0m, \u001b[1;36m8.3\u001b[0m, \u001b[33m...\u001b[0m +\u001b[1;36m27\u001b[0m\u001b[1m]\u001b[0m   │\n",
       "│ \u001b[35m2012-03-01 00:00:00\u001b[0m            │ \u001b[1m[\u001b[0m\u001b[1;36m6.1\u001b[0m, \u001b[1;36m6.7\u001b[0m, \u001b[33m...\u001b[0m +\u001b[1;36m29\u001b[0m\u001b[1m]\u001b[0m   │\n",
       "│ \u001b[35m2012-04-01 00:00:00\u001b[0m            │ \u001b[1m[\u001b[0m\u001b[1;36m8.9\u001b[0m, \u001b[1;36m16.7\u001b[0m, \u001b[33m...\u001b[0m +\u001b[1;36m28\u001b[0m\u001b[1m]\u001b[0m  │\n",
       "│ \u001b[35m2012-05-01 00:00:00\u001b[0m            │ \u001b[1m[\u001b[0m\u001b[1;36m11.7\u001b[0m, \u001b[1;36m13.3\u001b[0m, \u001b[33m...\u001b[0m +\u001b[1;36m29\u001b[0m\u001b[1m]\u001b[0m │\n",
       "│ \u001b[35m2012-06-01 00:00:00\u001b[0m            │ \u001b[1m[\u001b[0m\u001b[1;36m20.0\u001b[0m, \u001b[1;36m18.9\u001b[0m, \u001b[33m...\u001b[0m +\u001b[1;36m28\u001b[0m\u001b[1m]\u001b[0m │\n",
       "│ \u001b[35m2012-07-01 00:00:00\u001b[0m            │ \u001b[1m[\u001b[0m\u001b[1;36m20.0\u001b[0m, \u001b[1;36m18.9\u001b[0m, \u001b[33m...\u001b[0m +\u001b[1;36m29\u001b[0m\u001b[1m]\u001b[0m │\n",
       "│ \u001b[35m2012-08-01 00:00:00\u001b[0m            │ \u001b[1m[\u001b[0m\u001b[1;36m23.9\u001b[0m, \u001b[1;36m23.3\u001b[0m, \u001b[33m...\u001b[0m +\u001b[1;36m29\u001b[0m\u001b[1m]\u001b[0m │\n",
       "│ \u001b[35m2012-09-01 00:00:00\u001b[0m            │ \u001b[1m[\u001b[0m\u001b[1;36m21.7\u001b[0m, \u001b[1;36m21.1\u001b[0m, \u001b[33m...\u001b[0m +\u001b[1;36m28\u001b[0m\u001b[1m]\u001b[0m │\n",
       "│ \u001b[35m2012-10-01 00:00:00\u001b[0m            │ \u001b[1m[\u001b[0m\u001b[1;36m23.3\u001b[0m, \u001b[1;36m17.8\u001b[0m, \u001b[33m...\u001b[0m +\u001b[1;36m29\u001b[0m\u001b[1m]\u001b[0m │\n",
       "│ \u001b[2m…\u001b[0m                              │ \u001b[2m…\u001b[0m                     │\n",
       "└────────────────────────────────┴───────────────────────┘\n"
      ]
     },
     "execution_count": 15,
     "metadata": {},
     "output_type": "execute_result"
    }
   ],
   "source": [
    "with seattle_weather() as w:\n",
    "    w.aggregate({\"temp_max\": w.temp_max.collect()}, by=w.date.dt.floor(months=1))\n",
    "\n",
    "temp_by_month = w\n",
    "temp_by_month.execute(\"text\")"
   ]
  },
  {
   "cell_type": "markdown",
   "id": "9ff7b5ff",
   "metadata": {
    "execution": {
     "iopub.execute_input": "2024-03-04T15:23:13.554701Z",
     "iopub.status.busy": "2024-03-04T15:23:13.554619Z",
     "iopub.status.idle": "2024-03-04T15:23:13.576160Z",
     "shell.execute_reply": "2024-03-04T15:23:13.575857Z"
    }
   },
   "source": [
    "Here's how vinyl translates the query to each dialect"
   ]
  },
  {
   "cell_type": "markdown",
   "id": "d532eb44",
   "metadata": {},
   "source": [
    "::: {.panel-tabset}"
   ]
  },
  {
   "cell_type": "markdown",
   "id": "bc7d65bf",
   "metadata": {},
   "source": [
    "#### BigQuery"
   ]
  },
  {
   "cell_type": "code",
   "execution_count": 16,
   "id": "b34fa07c",
   "metadata": {
    "execution": {
     "iopub.execute_input": "2024-03-04T15:44:11.762861Z",
     "iopub.status.busy": "2024-03-04T15:44:11.762753Z",
     "iopub.status.idle": "2024-03-04T15:44:11.771809Z",
     "shell.execute_reply": "2024-03-04T15:44:11.771516Z"
    }
   },
   "outputs": [
    {
     "name": "stdout",
     "output_type": "stream",
     "text": [
      "SELECT\n",
      "  TIMESTAMP_TRUNC(`t0`.`date`, MONTH) AS `TimestampTruncate_date_ MONTH`,\n",
      "  ARRAY_AGG(`t0`.`temp_max` IGNORE NULLS) AS `temp_max`\n",
      "FROM `seattle_weather` AS `t0`\n",
      "GROUP BY\n",
      "  1\n"
     ]
    }
   ],
   "source": [
    "# | echo: false\n",
    "\n",
    "from vinyl import original_print\n",
    "\n",
    "original_print(temp_by_month.to_sql(\"bigquery\"))"
   ]
  },
  {
   "cell_type": "markdown",
   "id": "93a85441",
   "metadata": {},
   "source": [
    "#### Snowflake"
   ]
  },
  {
   "cell_type": "code",
   "execution_count": 17,
   "id": "c06deecf",
   "metadata": {
    "execution": {
     "iopub.execute_input": "2024-03-04T15:44:11.773407Z",
     "iopub.status.busy": "2024-03-04T15:44:11.773305Z",
     "iopub.status.idle": "2024-03-04T15:44:11.798873Z",
     "shell.execute_reply": "2024-03-04T15:44:11.798530Z"
    }
   },
   "outputs": [
    {
     "data": {
      "text/html": [
       "<pre style=\"white-space:pre;overflow-x:auto;line-height:normal;font-family:Menlo,'DejaVu Sans Mono',consolas,'Courier New',monospace\"><span style=\"color: #66d9ef; text-decoration-color: #66d9ef; background-color: #272822\">SELECT</span><span style=\"background-color: #272822\">                                                                                                             </span>\n",
       "<span style=\"color: #f8f8f2; text-decoration-color: #f8f8f2; background-color: #272822\">  DATE_TRUNC(</span><span style=\"color: #e6db74; text-decoration-color: #e6db74; background-color: #272822\">'MONTH'</span><span style=\"color: #f8f8f2; text-decoration-color: #f8f8f2; background-color: #272822\">, </span><span style=\"color: #e6db74; text-decoration-color: #e6db74; background-color: #272822\">\"t0\"</span><span style=\"color: #f8f8f2; text-decoration-color: #f8f8f2; background-color: #272822\">.</span><span style=\"color: #e6db74; text-decoration-color: #e6db74; background-color: #272822\">\"date\"</span><span style=\"color: #f8f8f2; text-decoration-color: #f8f8f2; background-color: #272822\">) </span><span style=\"color: #66d9ef; text-decoration-color: #66d9ef; background-color: #272822\">AS</span><span style=\"color: #f8f8f2; text-decoration-color: #f8f8f2; background-color: #272822\"> </span><span style=\"color: #e6db74; text-decoration-color: #e6db74; background-color: #272822\">\"TimestampTruncate(date, MONTH)\"</span><span style=\"color: #f8f8f2; text-decoration-color: #f8f8f2; background-color: #272822\">,</span><span style=\"background-color: #272822\">                                            </span>\n",
       "<span style=\"color: #f8f8f2; text-decoration-color: #f8f8f2; background-color: #272822\">  ARRAY_AGG(</span><span style=\"color: #66d9ef; text-decoration-color: #66d9ef; background-color: #272822\">COALESCE</span><span style=\"color: #f8f8f2; text-decoration-color: #f8f8f2; background-color: #272822\">(</span><span style=\"color: #e6db74; text-decoration-color: #e6db74; background-color: #272822\">\"t0\"</span><span style=\"color: #f8f8f2; text-decoration-color: #f8f8f2; background-color: #272822\">.</span><span style=\"color: #e6db74; text-decoration-color: #e6db74; background-color: #272822\">\"temp_max\"</span><span style=\"color: #f8f8f2; text-decoration-color: #f8f8f2; background-color: #272822\">, PARSE_JSON(</span><span style=\"color: #e6db74; text-decoration-color: #e6db74; background-color: #272822\">'null'</span><span style=\"color: #f8f8f2; text-decoration-color: #f8f8f2; background-color: #272822\">))) </span><span style=\"color: #66d9ef; text-decoration-color: #66d9ef; background-color: #272822\">AS</span><span style=\"color: #f8f8f2; text-decoration-color: #f8f8f2; background-color: #272822\"> </span><span style=\"color: #e6db74; text-decoration-color: #e6db74; background-color: #272822\">\"temp_max\"</span><span style=\"background-color: #272822\">                                           </span>\n",
       "<span style=\"color: #66d9ef; text-decoration-color: #66d9ef; background-color: #272822\">FROM</span><span style=\"color: #f8f8f2; text-decoration-color: #f8f8f2; background-color: #272822\"> </span><span style=\"color: #e6db74; text-decoration-color: #e6db74; background-color: #272822\">\"seattle_weather\"</span><span style=\"color: #f8f8f2; text-decoration-color: #f8f8f2; background-color: #272822\"> </span><span style=\"color: #66d9ef; text-decoration-color: #66d9ef; background-color: #272822\">AS</span><span style=\"color: #f8f8f2; text-decoration-color: #f8f8f2; background-color: #272822\"> </span><span style=\"color: #e6db74; text-decoration-color: #e6db74; background-color: #272822\">\"t0\"</span><span style=\"background-color: #272822\">                                                                                     </span>\n",
       "<span style=\"color: #66d9ef; text-decoration-color: #66d9ef; background-color: #272822\">GROUP</span><span style=\"color: #f8f8f2; text-decoration-color: #f8f8f2; background-color: #272822\"> </span><span style=\"color: #66d9ef; text-decoration-color: #66d9ef; background-color: #272822\">BY</span><span style=\"background-color: #272822\">                                                                                                           </span>\n",
       "<span style=\"color: #f8f8f2; text-decoration-color: #f8f8f2; background-color: #272822\">  </span><span style=\"color: #ae81ff; text-decoration-color: #ae81ff; background-color: #272822\">1</span><span style=\"background-color: #272822\">                                                                                                                </span>\n",
       "</pre>\n"
      ],
      "text/plain": [
       "\u001b[38;2;102;217;239;48;2;39;40;34mSELECT\u001b[0m\u001b[48;2;39;40;34m                                                                                                             \u001b[0m\n",
       "\u001b[38;2;248;248;242;48;2;39;40;34m  \u001b[0m\u001b[38;2;248;248;242;48;2;39;40;34mDATE_TRUNC\u001b[0m\u001b[38;2;248;248;242;48;2;39;40;34m(\u001b[0m\u001b[38;2;230;219;116;48;2;39;40;34m'MONTH'\u001b[0m\u001b[38;2;248;248;242;48;2;39;40;34m,\u001b[0m\u001b[38;2;248;248;242;48;2;39;40;34m \u001b[0m\u001b[38;2;230;219;116;48;2;39;40;34m\"t0\"\u001b[0m\u001b[38;2;248;248;242;48;2;39;40;34m.\u001b[0m\u001b[38;2;230;219;116;48;2;39;40;34m\"date\"\u001b[0m\u001b[38;2;248;248;242;48;2;39;40;34m)\u001b[0m\u001b[38;2;248;248;242;48;2;39;40;34m \u001b[0m\u001b[38;2;102;217;239;48;2;39;40;34mAS\u001b[0m\u001b[38;2;248;248;242;48;2;39;40;34m \u001b[0m\u001b[38;2;230;219;116;48;2;39;40;34m\"TimestampTruncate(date, MONTH)\"\u001b[0m\u001b[38;2;248;248;242;48;2;39;40;34m,\u001b[0m\u001b[48;2;39;40;34m                                            \u001b[0m\n",
       "\u001b[38;2;248;248;242;48;2;39;40;34m  \u001b[0m\u001b[38;2;248;248;242;48;2;39;40;34mARRAY_AGG\u001b[0m\u001b[38;2;248;248;242;48;2;39;40;34m(\u001b[0m\u001b[38;2;102;217;239;48;2;39;40;34mCOALESCE\u001b[0m\u001b[38;2;248;248;242;48;2;39;40;34m(\u001b[0m\u001b[38;2;230;219;116;48;2;39;40;34m\"t0\"\u001b[0m\u001b[38;2;248;248;242;48;2;39;40;34m.\u001b[0m\u001b[38;2;230;219;116;48;2;39;40;34m\"temp_max\"\u001b[0m\u001b[38;2;248;248;242;48;2;39;40;34m,\u001b[0m\u001b[38;2;248;248;242;48;2;39;40;34m \u001b[0m\u001b[38;2;248;248;242;48;2;39;40;34mPARSE_JSON\u001b[0m\u001b[38;2;248;248;242;48;2;39;40;34m(\u001b[0m\u001b[38;2;230;219;116;48;2;39;40;34m'null'\u001b[0m\u001b[38;2;248;248;242;48;2;39;40;34m)\u001b[0m\u001b[38;2;248;248;242;48;2;39;40;34m)\u001b[0m\u001b[38;2;248;248;242;48;2;39;40;34m)\u001b[0m\u001b[38;2;248;248;242;48;2;39;40;34m \u001b[0m\u001b[38;2;102;217;239;48;2;39;40;34mAS\u001b[0m\u001b[38;2;248;248;242;48;2;39;40;34m \u001b[0m\u001b[38;2;230;219;116;48;2;39;40;34m\"temp_max\"\u001b[0m\u001b[48;2;39;40;34m                                           \u001b[0m\n",
       "\u001b[38;2;102;217;239;48;2;39;40;34mFROM\u001b[0m\u001b[38;2;248;248;242;48;2;39;40;34m \u001b[0m\u001b[38;2;230;219;116;48;2;39;40;34m\"seattle_weather\"\u001b[0m\u001b[38;2;248;248;242;48;2;39;40;34m \u001b[0m\u001b[38;2;102;217;239;48;2;39;40;34mAS\u001b[0m\u001b[38;2;248;248;242;48;2;39;40;34m \u001b[0m\u001b[38;2;230;219;116;48;2;39;40;34m\"t0\"\u001b[0m\u001b[48;2;39;40;34m                                                                                     \u001b[0m\n",
       "\u001b[38;2;102;217;239;48;2;39;40;34mGROUP\u001b[0m\u001b[38;2;248;248;242;48;2;39;40;34m \u001b[0m\u001b[38;2;102;217;239;48;2;39;40;34mBY\u001b[0m\u001b[48;2;39;40;34m                                                                                                           \u001b[0m\n",
       "\u001b[38;2;248;248;242;48;2;39;40;34m  \u001b[0m\u001b[38;2;174;129;255;48;2;39;40;34m1\u001b[0m\u001b[48;2;39;40;34m                                                                                                                \u001b[0m\n"
      ]
     },
     "execution_count": 17,
     "metadata": {},
     "output_type": "execute_result"
    }
   ],
   "source": [
    "# | echo: false\n",
    "from rich.syntax import Syntax\n",
    "\n",
    "Syntax(temp_by_month.to_sql(\"snowflake\"), \"sql\")"
   ]
  },
  {
   "cell_type": "markdown",
   "id": "4786149f",
   "metadata": {},
   "source": [
    "#### DuckDB"
   ]
  },
  {
   "cell_type": "code",
   "execution_count": 18,
   "id": "65e2519f",
   "metadata": {
    "execution": {
     "iopub.execute_input": "2024-03-04T15:44:11.800745Z",
     "iopub.status.busy": "2024-03-04T15:44:11.800625Z",
     "iopub.status.idle": "2024-03-04T15:44:11.805109Z",
     "shell.execute_reply": "2024-03-04T15:44:11.804801Z"
    }
   },
   "outputs": [
    {
     "data": {
      "text/html": [
       "<pre style=\"white-space:pre;overflow-x:auto;line-height:normal;font-family:Menlo,'DejaVu Sans Mono',consolas,'Courier New',monospace\"><span style=\"color: #66d9ef; text-decoration-color: #66d9ef; background-color: #272822\">SELECT</span><span style=\"background-color: #272822\">                                                                                                             </span>\n",
       "<span style=\"color: #f8f8f2; text-decoration-color: #f8f8f2; background-color: #272822\">  DATE_TRUNC(</span><span style=\"color: #e6db74; text-decoration-color: #e6db74; background-color: #272822\">'MONTH'</span><span style=\"color: #f8f8f2; text-decoration-color: #f8f8f2; background-color: #272822\">, </span><span style=\"color: #e6db74; text-decoration-color: #e6db74; background-color: #272822\">\"t0\"</span><span style=\"color: #f8f8f2; text-decoration-color: #f8f8f2; background-color: #272822\">.</span><span style=\"color: #e6db74; text-decoration-color: #e6db74; background-color: #272822\">\"date\"</span><span style=\"color: #f8f8f2; text-decoration-color: #f8f8f2; background-color: #272822\">) </span><span style=\"color: #66d9ef; text-decoration-color: #66d9ef; background-color: #272822\">AS</span><span style=\"color: #f8f8f2; text-decoration-color: #f8f8f2; background-color: #272822\"> </span><span style=\"color: #e6db74; text-decoration-color: #e6db74; background-color: #272822\">\"TimestampTruncate(date, MONTH)\"</span><span style=\"color: #f8f8f2; text-decoration-color: #f8f8f2; background-color: #272822\">,</span><span style=\"background-color: #272822\">                                            </span>\n",
       "<span style=\"color: #f8f8f2; text-decoration-color: #f8f8f2; background-color: #272822\">  ARRAY_AGG(</span><span style=\"color: #e6db74; text-decoration-color: #e6db74; background-color: #272822\">\"t0\"</span><span style=\"color: #f8f8f2; text-decoration-color: #f8f8f2; background-color: #272822\">.</span><span style=\"color: #e6db74; text-decoration-color: #e6db74; background-color: #272822\">\"temp_max\"</span><span style=\"color: #f8f8f2; text-decoration-color: #f8f8f2; background-color: #272822\">) </span><span style=\"color: #66d9ef; text-decoration-color: #66d9ef; background-color: #272822\">AS</span><span style=\"color: #f8f8f2; text-decoration-color: #f8f8f2; background-color: #272822\"> </span><span style=\"color: #e6db74; text-decoration-color: #e6db74; background-color: #272822\">\"temp_max\"</span><span style=\"background-color: #272822\">                                                                         </span>\n",
       "<span style=\"color: #66d9ef; text-decoration-color: #66d9ef; background-color: #272822\">FROM</span><span style=\"color: #f8f8f2; text-decoration-color: #f8f8f2; background-color: #272822\"> </span><span style=\"color: #e6db74; text-decoration-color: #e6db74; background-color: #272822\">\"seattle_weather\"</span><span style=\"color: #f8f8f2; text-decoration-color: #f8f8f2; background-color: #272822\"> </span><span style=\"color: #66d9ef; text-decoration-color: #66d9ef; background-color: #272822\">AS</span><span style=\"color: #f8f8f2; text-decoration-color: #f8f8f2; background-color: #272822\"> </span><span style=\"color: #e6db74; text-decoration-color: #e6db74; background-color: #272822\">\"t0\"</span><span style=\"background-color: #272822\">                                                                                     </span>\n",
       "<span style=\"color: #66d9ef; text-decoration-color: #66d9ef; background-color: #272822\">GROUP</span><span style=\"color: #f8f8f2; text-decoration-color: #f8f8f2; background-color: #272822\"> </span><span style=\"color: #66d9ef; text-decoration-color: #66d9ef; background-color: #272822\">BY</span><span style=\"background-color: #272822\">                                                                                                           </span>\n",
       "<span style=\"color: #f8f8f2; text-decoration-color: #f8f8f2; background-color: #272822\">  </span><span style=\"color: #ae81ff; text-decoration-color: #ae81ff; background-color: #272822\">1</span><span style=\"background-color: #272822\">                                                                                                                </span>\n",
       "</pre>\n"
      ],
      "text/plain": [
       "\u001b[38;2;102;217;239;48;2;39;40;34mSELECT\u001b[0m\u001b[48;2;39;40;34m                                                                                                             \u001b[0m\n",
       "\u001b[38;2;248;248;242;48;2;39;40;34m  \u001b[0m\u001b[38;2;248;248;242;48;2;39;40;34mDATE_TRUNC\u001b[0m\u001b[38;2;248;248;242;48;2;39;40;34m(\u001b[0m\u001b[38;2;230;219;116;48;2;39;40;34m'MONTH'\u001b[0m\u001b[38;2;248;248;242;48;2;39;40;34m,\u001b[0m\u001b[38;2;248;248;242;48;2;39;40;34m \u001b[0m\u001b[38;2;230;219;116;48;2;39;40;34m\"t0\"\u001b[0m\u001b[38;2;248;248;242;48;2;39;40;34m.\u001b[0m\u001b[38;2;230;219;116;48;2;39;40;34m\"date\"\u001b[0m\u001b[38;2;248;248;242;48;2;39;40;34m)\u001b[0m\u001b[38;2;248;248;242;48;2;39;40;34m \u001b[0m\u001b[38;2;102;217;239;48;2;39;40;34mAS\u001b[0m\u001b[38;2;248;248;242;48;2;39;40;34m \u001b[0m\u001b[38;2;230;219;116;48;2;39;40;34m\"TimestampTruncate(date, MONTH)\"\u001b[0m\u001b[38;2;248;248;242;48;2;39;40;34m,\u001b[0m\u001b[48;2;39;40;34m                                            \u001b[0m\n",
       "\u001b[38;2;248;248;242;48;2;39;40;34m  \u001b[0m\u001b[38;2;248;248;242;48;2;39;40;34mARRAY_AGG\u001b[0m\u001b[38;2;248;248;242;48;2;39;40;34m(\u001b[0m\u001b[38;2;230;219;116;48;2;39;40;34m\"t0\"\u001b[0m\u001b[38;2;248;248;242;48;2;39;40;34m.\u001b[0m\u001b[38;2;230;219;116;48;2;39;40;34m\"temp_max\"\u001b[0m\u001b[38;2;248;248;242;48;2;39;40;34m)\u001b[0m\u001b[38;2;248;248;242;48;2;39;40;34m \u001b[0m\u001b[38;2;102;217;239;48;2;39;40;34mAS\u001b[0m\u001b[38;2;248;248;242;48;2;39;40;34m \u001b[0m\u001b[38;2;230;219;116;48;2;39;40;34m\"temp_max\"\u001b[0m\u001b[48;2;39;40;34m                                                                         \u001b[0m\n",
       "\u001b[38;2;102;217;239;48;2;39;40;34mFROM\u001b[0m\u001b[38;2;248;248;242;48;2;39;40;34m \u001b[0m\u001b[38;2;230;219;116;48;2;39;40;34m\"seattle_weather\"\u001b[0m\u001b[38;2;248;248;242;48;2;39;40;34m \u001b[0m\u001b[38;2;102;217;239;48;2;39;40;34mAS\u001b[0m\u001b[38;2;248;248;242;48;2;39;40;34m \u001b[0m\u001b[38;2;230;219;116;48;2;39;40;34m\"t0\"\u001b[0m\u001b[48;2;39;40;34m                                                                                     \u001b[0m\n",
       "\u001b[38;2;102;217;239;48;2;39;40;34mGROUP\u001b[0m\u001b[38;2;248;248;242;48;2;39;40;34m \u001b[0m\u001b[38;2;102;217;239;48;2;39;40;34mBY\u001b[0m\u001b[48;2;39;40;34m                                                                                                           \u001b[0m\n",
       "\u001b[38;2;248;248;242;48;2;39;40;34m  \u001b[0m\u001b[38;2;174;129;255;48;2;39;40;34m1\u001b[0m\u001b[48;2;39;40;34m                                                                                                                \u001b[0m\n"
      ]
     },
     "execution_count": 18,
     "metadata": {},
     "output_type": "execute_result"
    }
   ],
   "source": [
    "# | echo: false\n",
    "Syntax(temp_by_month.to_sql(\"duckdb\"), \"sql\")"
   ]
  },
  {
   "cell_type": "markdown",
   "id": "e73c871b",
   "metadata": {},
   "source": [
    "#### Postgres"
   ]
  },
  {
   "cell_type": "code",
   "execution_count": 19,
   "id": "160a10c1",
   "metadata": {
    "execution": {
     "iopub.execute_input": "2024-03-04T15:44:11.806831Z",
     "iopub.status.busy": "2024-03-04T15:44:11.806751Z",
     "iopub.status.idle": "2024-03-04T15:44:11.814577Z",
     "shell.execute_reply": "2024-03-04T15:44:11.814294Z"
    }
   },
   "outputs": [
    {
     "data": {
      "text/html": [
       "<pre style=\"white-space:pre;overflow-x:auto;line-height:normal;font-family:Menlo,'DejaVu Sans Mono',consolas,'Courier New',monospace\">SELECT\n",
       "  <span style=\"color: #800080; text-decoration-color: #800080; font-weight: bold\">DATE_TRUNC</span><span style=\"font-weight: bold\">(</span><span style=\"color: #008000; text-decoration-color: #008000\">'MONTH'</span>, <span style=\"color: #008000; text-decoration-color: #008000\">\"t0\"</span>.<span style=\"color: #008000; text-decoration-color: #008000\">\"date\"</span><span style=\"font-weight: bold\">)</span> AS <span style=\"color: #008000; text-decoration-color: #008000\">\"TimestampTruncate(date, MONTH)\"</span>,\n",
       "  <span style=\"color: #800080; text-decoration-color: #800080; font-weight: bold\">ARRAY_AGG</span><span style=\"font-weight: bold\">(</span><span style=\"color: #008000; text-decoration-color: #008000\">\"t0\"</span>.<span style=\"color: #008000; text-decoration-color: #008000\">\"temp_max\"</span><span style=\"font-weight: bold\">)</span> AS <span style=\"color: #008000; text-decoration-color: #008000\">\"temp_max\"</span>\n",
       "FROM <span style=\"color: #008000; text-decoration-color: #008000\">\"seattle_weather\"</span> AS <span style=\"color: #008000; text-decoration-color: #008000\">\"t0\"</span>\n",
       "GROUP BY\n",
       "  <span style=\"color: #008080; text-decoration-color: #008080; font-weight: bold\">1</span>\n",
       "</pre>\n"
      ],
      "text/plain": [
       "SELECT\n",
       "  \u001b[1;35mDATE_TRUNC\u001b[0m\u001b[1m(\u001b[0m\u001b[32m'MONTH'\u001b[0m, \u001b[32m\"t0\"\u001b[0m.\u001b[32m\"date\"\u001b[0m\u001b[1m)\u001b[0m AS \u001b[32m\"TimestampTruncate\u001b[0m\u001b[32m(\u001b[0m\u001b[32mdate, MONTH\u001b[0m\u001b[32m)\u001b[0m\u001b[32m\"\u001b[0m,\n",
       "  \u001b[1;35mARRAY_AGG\u001b[0m\u001b[1m(\u001b[0m\u001b[32m\"t0\"\u001b[0m.\u001b[32m\"temp_max\"\u001b[0m\u001b[1m)\u001b[0m AS \u001b[32m\"temp_max\"\u001b[0m\n",
       "FROM \u001b[32m\"seattle_weather\"\u001b[0m AS \u001b[32m\"t0\"\u001b[0m\n",
       "GROUP BY\n",
       "  \u001b[1;36m1\u001b[0m\n"
      ]
     },
     "metadata": {},
     "output_type": "display_data"
    }
   ],
   "source": [
    "# | echo: false\n",
    "print(temp_by_month.to_sql(\"postgres\"))"
   ]
  },
  {
   "cell_type": "markdown",
   "id": "572f0fd7",
   "metadata": {},
   "source": [
    ":::"
   ]
  },
  {
   "cell_type": "markdown",
   "id": "f21e8022",
   "metadata": {},
   "source": [
    ":::"
   ]
  },
  {
   "cell_type": "markdown",
   "id": "861f85e6",
   "metadata": {},
   "source": [
    "\n",
    "\n",
    "- Relations:\n",
    "    - column-aware\n",
    "    - lazy\n",
    "    - selectively mutable\n",
    "    - cross-dialect\n",
    "- Transforms: \n",
    "    - Core\n",
    "        - Select\n",
    "        - Derive\n",
    "        - Aggregate\n",
    "        - Filter\n",
    "    - `_all` variants\n",
    "    - Row operations: distinct, limit\n",
    "        - where, having, and qualify -> filter\n",
    "- Set operators: join, union, differrence\n",
    "- Column operators\n",
    "- Metric: dynamically generated relations"
   ]
  }
 ],
 "metadata": {
  "kernelspec": {
   "display_name": "Python 3 (ipykernel)",
   "language": "python",
   "name": "python3"
  },
  "language_info": {
   "codemirror_mode": {
    "name": "ipython",
    "version": 3
   },
   "file_extension": ".py",
   "mimetype": "text/x-python",
   "name": "python",
   "nbconvert_exporter": "python",
   "pygments_lexer": "ipython3",
   "version": "3.11.8"
  }
 },
 "nbformat": 4,
 "nbformat_minor": 5
}
